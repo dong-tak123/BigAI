{
  "nbformat": 4,
  "nbformat_minor": 0,
  "metadata": {
    "colab": {
      "name": "Chapter9. 텍스트를 위한 인공 신경망",
      "provenance": [],
      "collapsed_sections": [
        "EzvvXYfz6Jy8",
        "TiHljLN66QQR"
      ]
    },
    "kernelspec": {
      "name": "python3",
      "display_name": "Python 3"
    },
    "language_info": {
      "name": "python"
    },
    "accelerator": "GPU"
  },
  "cells": [
    {
      "cell_type": "markdown",
      "metadata": {
        "id": "EzvvXYfz6Jy8"
      },
      "source": [
        "#9.1 순차 데이터와 순환 신경망"
      ]
    },
    {
      "cell_type": "markdown",
      "metadata": {
        "id": "ujsmZqeIVrdL"
      },
      "source": [
        "**순차 데이터**\n",
        "\n",
        "- 텍스트나 시계열 데이터와 같이 순서에 의미가 있는 데이터\n",
        "- 이를 다룰 때는 이전에 입력한 데이터를 기억하는 능력이 필요하다\n",
        "- 다음 샘플을 위해서 이전 데이터가 신경망 층에 순환될 필요가 있다 -> **순환신경망(RNN)**이라고 부른다"
      ]
    },
    {
      "cell_type": "markdown",
      "metadata": {
        "id": "opILL3rGWx_y"
      },
      "source": [
        "**피드포워드 신경망**\n",
        "\n",
        "- 입력데이터의 흐름이 앞으로만 전달되는 신경망\n",
        "- 한번 샘플을 쓰고 버리는 신경망\n",
        "- ex) 완전 연결 신경망, 합성곱 신경망"
      ]
    },
    {
      "cell_type": "markdown",
      "metadata": {
        "id": "yG8Cx0JzWhRp"
      },
      "source": [
        "**순환 신경망(RNN)**"
      ]
    },
    {
      "cell_type": "markdown",
      "metadata": {
        "id": "2YxVm-uyXCVj"
      },
      "source": [
        "타임스텝\n",
        "\n",
        "- 샘플을 처리하는 한 단계\n",
        "\n",
        "셀\n",
        "\n",
        "- 층\n",
        "\n",
        "은닉 상태\n",
        "\n",
        "- 셀의 출력\n",
        "\n"
      ]
    },
    {
      "cell_type": "markdown",
      "metadata": {
        "id": "knzOGRhHXWWM"
      },
      "source": [
        "- 다음 샘플의 은닉상태를 만들기 위해서 이전 타임스텝의 은닉상태를 이용한다\n",
        "\n",
        "- 타임스텝이 지날 수록 오래된 샘플에 대한 정보는 희미해진다\n",
        "\n",
        "- 활성화 함수도 꼭 필요하고, 보통 tanh함수를 많이 쓴다\n",
        "\n",
        "- 순환 신경망의 모델파라미터\n",
        "\n",
        "    - 입력(샘플)에 곱해지는 가중치 (Wx)\n",
        "    - 재사용하는 은닉상태에 곱해지는 가중치  (Wh)  (1개 뿐)\n",
        "    - 절편  (b)\n",
        "\n",
        "- 은닉상태 = (Wx) * (입력) + (Wh) * (이전 타임스텝의 은닉상태) + b"
      ]
    },
    {
      "cell_type": "markdown",
      "metadata": {
        "id": "gzRDAW62Zbgu"
      },
      "source": [
        "**셀의 가중치와 입출력**"
      ]
    },
    {
      "cell_type": "markdown",
      "metadata": {
        "id": "JR3DEfidaHuN"
      },
      "source": [
        "**1) 가중치의 갯수**\n",
        "\n",
        "EX) 입력 4개, 순환층에 뉴런 3개\n",
        "\n",
        "Wx : 기존 완전 연결 신경망과 동일... -> 4 * 3\n",
        "\n",
        "Wb : 각 뉴런의 은닉상태가 다른 모든 뉴런에게 전달됨.. -> 3 * 3\n",
        "\n",
        "절편 : 각 뉴런마다 1개.. -> 3 * 1\n",
        "\n",
        "-> 12 + 9 + 3 = 24.."
      ]
    },
    {
      "cell_type": "markdown",
      "metadata": {
        "id": "zTCR8GDobQyi"
      },
      "source": [
        "**2) 입출력**\n",
        "\n"
      ]
    },
    {
      "cell_type": "markdown",
      "metadata": {
        "id": "6nnQTqWBYeNk"
      },
      "source": [
        "입력은 일반적으로 샘플마다 2개의 차원을 가짐\n",
        "\n",
        "하나의 샘플을 보통 시퀀스라고 말함 -> 시퀀스의 길이 : 타임스텝의 길이\n",
        "\n",
        "EX) I am a boy\n",
        "\n",
        "입력이 4개의 단어.. -> 여기의 각 단어를 3개의 어떤 숫자로 표현한다고 해보자,,(뒤에 나오는 어휘사전의 갯수에 따른 정수값 변형..)\n",
        "\n",
        "- 결국, 하나의 샘플은 시퀀스길이(단어개수)와 단어 표현(정수값)의 2차원 배열..\n",
        "\n",
        "- 순환층을 통과하면 뉴런의 갯수와 같은 크기의 1차원 배열로 바뀜.."
      ]
    },
    {
      "cell_type": "markdown",
      "metadata": {
        "id": "Cx4Ro1A6Zea8"
      },
      "source": [
        "순환층은 기본적으로 **마지막 타임스텝의 은닉 상태만 출력으로 내보냄**\n",
        "\n",
        "순환층이 여러개 쌓일때면 마지막 층을 제외한 모든 셀은 모든 타임스텝의 은닉 상태를 출력함..\n",
        "\n",
        "- 결국, 마지막 층을 제외하고 모든 층은 은닉상태를 출력함\n",
        "\n",
        "마지막 출력층은 밀집층..\n",
        "\n",
        "- 소프트맥스, 시그모이드..\n",
        "\n",
        "마지막 순환층의 출력이 1차원(뉴런의 길이만큼의)배열.. -> Flatten()층 사용할 필요 없음"
      ]
    },
    {
      "cell_type": "markdown",
      "metadata": {
        "id": "TiHljLN66QQR"
      },
      "source": [
        "#9.2 순환 신경망으로 IMDB 리뷰  분류하기"
      ]
    },
    {
      "cell_type": "markdown",
      "metadata": {
        "id": "eVYBG0uD79oI"
      },
      "source": [
        "자연어 처리\n",
        "\n",
        "- 컴퓨터를 사용해 인간의 언어를 처리하는 분야\n",
        "- 말뭉치 : 훈련데이터"
      ]
    },
    {
      "cell_type": "markdown",
      "metadata": {
        "id": "SqIpl2GI6WE4"
      },
      "source": [
        "**IMDB 리뷰 데이터셋**"
      ]
    },
    {
      "cell_type": "markdown",
      "metadata": {
        "id": "b9G0cvJx7pBY"
      },
      "source": [
        "- 인터넷 영화 데이터베이스 imdb.com에서 수집한 리뷰를 긍정과 부정으로 분류해놓은 데이터셋\n",
        "- 50000개의 샘플, 25000개 씩 훈련, 테스트 데이터\n",
        "- 텍스트를 어떤 숫자 데이터로 바꾼다..(일반적으로 등장하는 단어마다 고유한 정수를 부여한다)\n",
        "- 그렇게 분리된 단어를 **토큰**이라고 한다\n",
        "- 토큰 중에 특이한 토큰도 있다\n",
        "\n",
        "    - 0: 패딩, 1: 문장의 시작, 2: 어휘사전에 없는 토큰\n",
        "\n",
        "- 어휘사전 : 훈련 세트에서 고유한 단어를 뽑아 만든 목록"
      ]
    },
    {
      "cell_type": "code",
      "metadata": {
        "colab": {
          "base_uri": "https://localhost:8080/"
        },
        "id": "dRu1N-Yc6V3n",
        "outputId": "12e9f6f3-4dd8-4e74-e6bf-885213a0866a"
      },
      "source": [
        "#데이터 가져오기\n",
        "#num_words 매개변수를 사용해서 데이터셋에서 가장 자주 등장하는 단어 몇개만 사용할지 지정\n",
        "#즉, 어휘사전의 갯수를 지정..\n",
        "\n",
        "from tensorflow.keras.datasets import imdb\n",
        "(train_input, train_target), (test_input, test_target) = imdb.load_data(num_words = 500)"
      ],
      "execution_count": 34,
      "outputs": [
        {
          "output_type": "stream",
          "text": [
            "<string>:6: VisibleDeprecationWarning: Creating an ndarray from ragged nested sequences (which is a list-or-tuple of lists-or-tuples-or ndarrays with different lengths or shapes) is deprecated. If you meant to do this, you must specify 'dtype=object' when creating the ndarray\n",
            "/usr/local/lib/python3.7/dist-packages/tensorflow/python/keras/datasets/imdb.py:155: VisibleDeprecationWarning: Creating an ndarray from ragged nested sequences (which is a list-or-tuple of lists-or-tuples-or ndarrays with different lengths or shapes) is deprecated. If you meant to do this, you must specify 'dtype=object' when creating the ndarray\n",
            "  x_train, y_train = np.array(xs[:idx]), np.array(labels[:idx])\n",
            "/usr/local/lib/python3.7/dist-packages/tensorflow/python/keras/datasets/imdb.py:156: VisibleDeprecationWarning: Creating an ndarray from ragged nested sequences (which is a list-or-tuple of lists-or-tuples-or ndarrays with different lengths or shapes) is deprecated. If you meant to do this, you must specify 'dtype=object' when creating the ndarray\n",
            "  x_test, y_test = np.array(xs[idx:]), np.array(labels[idx:])\n"
          ],
          "name": "stderr"
        }
      ]
    },
    {
      "cell_type": "code",
      "metadata": {
        "colab": {
          "base_uri": "https://localhost:8080/"
        },
        "id": "wu6Lt7t16MqS",
        "outputId": "71b6b614-3bd6-43f5-c389-821c079e1692"
      },
      "source": [
        "print(train_input.shape, test_input.shape)\n",
        "\n",
        "#리뷰 텍스트의 길이가 제각각이라서 1차원 리스트에 담는게 효율적이다.\n",
        "#[리뷰1, 리뷰2, ...] 이런식으로.."
      ],
      "execution_count": 35,
      "outputs": [
        {
          "output_type": "stream",
          "text": [
            "(25000,) (25000,)\n"
          ],
          "name": "stdout"
        }
      ]
    },
    {
      "cell_type": "code",
      "metadata": {
        "colab": {
          "base_uri": "https://localhost:8080/"
        },
        "id": "xet0fbJx6B48",
        "outputId": "083ee38a-8f9f-4150-bcb0-f56ae1498291"
      },
      "source": [
        "print(len(train_input[0]))\n",
        "\n",
        "#218개의 토큰으로 이루어짐.."
      ],
      "execution_count": 36,
      "outputs": [
        {
          "output_type": "stream",
          "text": [
            "218\n"
          ],
          "name": "stdout"
        }
      ]
    },
    {
      "cell_type": "code",
      "metadata": {
        "colab": {
          "base_uri": "https://localhost:8080/"
        },
        "id": "8s3zFxbZ7TxY",
        "outputId": "36b34902-517c-44fe-b207-3f2fce49afd6"
      },
      "source": [
        "print(len(train_input[1]))"
      ],
      "execution_count": 37,
      "outputs": [
        {
          "output_type": "stream",
          "text": [
            "189\n"
          ],
          "name": "stdout"
        }
      ]
    },
    {
      "cell_type": "code",
      "metadata": {
        "colab": {
          "base_uri": "https://localhost:8080/"
        },
        "id": "zUXXblNr7hRx",
        "outputId": "a87f3a38-84a7-4d50-9dc4-a7151742e8b4"
      },
      "source": [
        "print(train_input[0])\n",
        "#어휘세트 500개에 없는 단어는 2.."
      ],
      "execution_count": 38,
      "outputs": [
        {
          "output_type": "stream",
          "text": [
            "[1, 14, 22, 16, 43, 2, 2, 2, 2, 65, 458, 2, 66, 2, 4, 173, 36, 256, 5, 25, 100, 43, 2, 112, 50, 2, 2, 9, 35, 480, 284, 5, 150, 4, 172, 112, 167, 2, 336, 385, 39, 4, 172, 2, 2, 17, 2, 38, 13, 447, 4, 192, 50, 16, 6, 147, 2, 19, 14, 22, 4, 2, 2, 469, 4, 22, 71, 87, 12, 16, 43, 2, 38, 76, 15, 13, 2, 4, 22, 17, 2, 17, 12, 16, 2, 18, 2, 5, 62, 386, 12, 8, 316, 8, 106, 5, 4, 2, 2, 16, 480, 66, 2, 33, 4, 130, 12, 16, 38, 2, 5, 25, 124, 51, 36, 135, 48, 25, 2, 33, 6, 22, 12, 215, 28, 77, 52, 5, 14, 407, 16, 82, 2, 8, 4, 107, 117, 2, 15, 256, 4, 2, 7, 2, 5, 2, 36, 71, 43, 2, 476, 26, 400, 317, 46, 7, 4, 2, 2, 13, 104, 88, 4, 381, 15, 297, 98, 32, 2, 56, 26, 141, 6, 194, 2, 18, 4, 226, 22, 21, 134, 476, 26, 480, 5, 144, 30, 2, 18, 51, 36, 28, 224, 92, 25, 104, 4, 226, 65, 16, 38, 2, 88, 12, 16, 283, 5, 16, 2, 113, 103, 32, 15, 16, 2, 19, 178, 32]\n"
          ],
          "name": "stdout"
        }
      ]
    },
    {
      "cell_type": "code",
      "metadata": {
        "colab": {
          "base_uri": "https://localhost:8080/"
        },
        "id": "ANoRNjMB7khb",
        "outputId": "4d32980e-651a-4f6e-c51e-e1d0e2d2ffee"
      },
      "source": [
        "#타깃 데이터.. 0(부정) / 1(긍정)\n",
        "#이진분류..\n",
        "\n",
        "print(train_target)"
      ],
      "execution_count": 39,
      "outputs": [
        {
          "output_type": "stream",
          "text": [
            "[1 0 0 ... 0 1 0]\n"
          ],
          "name": "stdout"
        }
      ]
    },
    {
      "cell_type": "code",
      "metadata": {
        "id": "ErCCWW_I9hck"
      },
      "source": [
        "#검증세트 분리\n",
        "\n",
        "from sklearn.model_selection import train_test_split\n",
        "train_input, val_input, train_target, val_target = train_test_split(train_input, train_target, test_size=0.2, random_state=42)"
      ],
      "execution_count": 40,
      "outputs": []
    },
    {
      "cell_type": "code",
      "metadata": {
        "id": "N8xedJuf93kh"
      },
      "source": [
        "#훈련세트 조사좀 해보자..\n",
        "#평균 길이..\n",
        "\n",
        "import numpy as np\n",
        "lengths = np.array([len(x) for x in train_input])\n",
        "# 각 훈련데이터의 길이를 갖는 lengths 배열을 만들엇다"
      ],
      "execution_count": 41,
      "outputs": []
    },
    {
      "cell_type": "code",
      "metadata": {
        "colab": {
          "base_uri": "https://localhost:8080/"
        },
        "id": "v-1luPti-DX4",
        "outputId": "c422344f-2ee0-4f20-8659-52f0538fcbb2"
      },
      "source": [
        "print(np.mean(lengths), np.median(lengths))"
      ],
      "execution_count": 42,
      "outputs": [
        {
          "output_type": "stream",
          "text": [
            "239.00925 178.0\n"
          ],
          "name": "stdout"
        }
      ]
    },
    {
      "cell_type": "code",
      "metadata": {
        "colab": {
          "base_uri": "https://localhost:8080/",
          "height": 279
        },
        "id": "FMBFVNjk-MsD",
        "outputId": "65fed9e6-e5ba-4332-f81d-34c3a57d9a0e"
      },
      "source": [
        "#훈련데이터의 분포는?\n",
        "import matplotlib.pyplot as plt\n",
        "plt.hist(lengths)\n",
        "plt.xlabel('length')\n",
        "plt.ylabel('frequency')\n",
        "plt.show()"
      ],
      "execution_count": 43,
      "outputs": [
        {
          "output_type": "display_data",
          "data": {
            "image/png": "[encoded data removed]",
            "text/plain": [
              "<Figure size 432x288 with 1 Axes>"
            ]
          },
          "metadata": {
            "tags": [],
            "needs_background": "light"
          }
        }
      ]
    },
    {
      "cell_type": "markdown",
      "metadata": {
        "id": "y01EDEdg_3OP"
      },
      "source": [
        "- 대부분 리뷰는 300 미만\n",
        "- 길이가 100까지만 보자.."
      ]
    },
    {
      "cell_type": "code",
      "metadata": {
        "id": "dobJe7mP-ZSd"
      },
      "source": [
        "from tensorflow.keras.preprocessing.sequence import pad_sequences\n",
        "train_seq = pad_sequences(train_input, maxlen=100)\n",
        "\n",
        "#훈련 텍스트 세트의 길이를 maxlen매개변수를 이용해서 맞출 수 있다\n",
        "#기본값을 뒤에서 부터 자르는데, pad_sequences의 truncating매개변수를 'pre' / 'post'로 지정해서 바꿀 수 있다"
      ],
      "execution_count": 44,
      "outputs": []
    },
    {
      "cell_type": "code",
      "metadata": {
        "colab": {
          "base_uri": "https://localhost:8080/"
        },
        "id": "YdObYOhhAeYo",
        "outputId": "73324ea8-2509-4de6-be6a-e0615c716a4c"
      },
      "source": [
        "print(train_seq.shape)\n",
        "#이차원 배열이다.."
      ],
      "execution_count": 45,
      "outputs": [
        {
          "output_type": "stream",
          "text": [
            "(20000, 100)\n"
          ],
          "name": "stdout"
        }
      ]
    },
    {
      "cell_type": "code",
      "metadata": {
        "colab": {
          "base_uri": "https://localhost:8080/"
        },
        "id": "z8sRyUG3Ah4_",
        "outputId": "1bf4c6f2-0df7-4f3b-8444-06a6ab418d26"
      },
      "source": [
        "print(train_seq[0])"
      ],
      "execution_count": 46,
      "outputs": [
        {
          "output_type": "stream",
          "text": [
            "[ 10   4  20   9   2 364 352   5  45   6   2   2  33 269   8   2 142   2\n",
            "   5   2  17  73  17 204   5   2  19  55   2   2  92  66 104  14  20  93\n",
            "  76   2 151  33   4  58  12 188   2 151  12 215  69 224 142  73 237   6\n",
            "   2   7   2   2 188   2 103  14  31  10  10 451   7   2   5   2  80  91\n",
            "   2  30   2  34  14  20 151  50  26 131  49   2  84  46  50  37  80  79\n",
            "   6   2  46   7  14  20  10  10 470 158]\n"
          ],
          "name": "stdout"
        }
      ]
    },
    {
      "cell_type": "code",
      "metadata": {
        "colab": {
          "base_uri": "https://localhost:8080/"
        },
        "id": "tIDEZt93Aj14",
        "outputId": "b6845c34-4938-4b1e-aec3-4f420d450820"
      },
      "source": [
        "print(train_input[0][-10:])\n",
        "#이걸로 보면 끝에 100개를 잘라서 가져왔다.."
      ],
      "execution_count": 47,
      "outputs": [
        {
          "output_type": "stream",
          "text": [
            "[6, 2, 46, 7, 14, 20, 10, 10, 470, 158]\n"
          ],
          "name": "stdout"
        }
      ]
    },
    {
      "cell_type": "code",
      "metadata": {
        "colab": {
          "base_uri": "https://localhost:8080/"
        },
        "id": "x6mRhRzJAvKV",
        "outputId": "63bea4e8-c860-48d8-b27a-792502e8aead"
      },
      "source": [
        "print(train_seq[5])\n",
        "#얘는 원래 길이가 100보다 짧았네.. 그니까 100으로 맞출려고 패딩(0)이 들어갔네.."
      ],
      "execution_count": 48,
      "outputs": [
        {
          "output_type": "stream",
          "text": [
            "[  0   0   0   0   1   2 195  19  49   2   2 190   4   2 352   2 183  10\n",
            "  10  13  82  79   4   2  36  71 269   8   2  25  19  49   7   4   2   2\n",
            "   2   2   2  10  10  48  25  40   2  11   2   2  40   2   2   5   4   2\n",
            "   2  95  14 238  56 129   2  10  10  21   2  94 364 352   2   2  11 190\n",
            "  24 484   2   7  94 205 405  10  10  87   2  34  49   2   7   2   2   2\n",
            "   2   2 290   2  46  48  64  18   4   2]\n"
          ],
          "name": "stdout"
        }
      ]
    },
    {
      "cell_type": "code",
      "metadata": {
        "id": "01EoGkGfA3Db"
      },
      "source": [
        "#검증세트도 길이 100으로 바꾸자\n",
        "val_seq = pad_sequences(val_input, maxlen=100)"
      ],
      "execution_count": 49,
      "outputs": []
    },
    {
      "cell_type": "markdown",
      "metadata": {
        "id": "ZADD59vHBCWu"
      },
      "source": [
        "**순환 신경망(RNN) 만들기**"
      ]
    },
    {
      "cell_type": "markdown",
      "metadata": {
        "id": "g4jJh15DC4xS"
      },
      "source": [
        "- SimpleRNN클래스로 순환층 클래스를 만들 수 있다..\n",
        "- 이진 분류이니까 시그모이드\n",
        "- Sequential 클래스는 일반적인 신경망 모델을 다 만들 수 있다\n",
        "- 다만 Sequential이라는 이름은 순서대로 층을 쌓기 때문에 붙인 것이다."
      ]
    },
    {
      "cell_type": "code",
      "metadata": {
        "id": "386cw8dvBBf1"
      },
      "source": [
        "from tensorflow import keras\n",
        "model = keras.Sequential()\n",
        "model.add(keras.layers.SimpleRNN(8,input_shape = (100,500)))\n",
        "#SimpleRNN의 기본 활성화함수 : tanh함수\n",
        "\n",
        "model.add(keras.layers.Dense(1,activation = 'sigmoid'))\n",
        "#이진 분류니까 마지막 출력층의 뉴런이 1개"
      ],
      "execution_count": 50,
      "outputs": []
    },
    {
      "cell_type": "markdown",
      "metadata": {
        "id": "1hOw0xn8Dd1J"
      },
      "source": [
        "**왜 input_shape가 (100,500)일까?**\n",
        "\n",
        "- 명백히 토큰의 값에는 상관관계가 없다.\n",
        "- 정숫값에 있는 크기 속성을 없애고 각 정수를 고유하게 표현하기 위해서 원핫인코딩을 표현한다.\n",
        "- 길이가 원래 100인 데이터였는데, 그 100개의 정수가 모두 원핫인코딩 되고, 앞에서 어휘사전을 500개로 잡았으니까 크기가 (100,500)으로 바뀐다.\n",
        "\n",
        "-> **원핫인코딩 때문!!**"
      ]
    },
    {
      "cell_type": "code",
      "metadata": {
        "id": "ob_MXPm8Db_m"
      },
      "source": [
        "# 원핫인코딩을 위한 유틸리티 keras.utils의 to_categorical\n",
        "\n",
        "train_oh = keras.utils.to_categorical(train_seq)"
      ],
      "execution_count": 51,
      "outputs": []
    },
    {
      "cell_type": "code",
      "metadata": {
        "colab": {
          "base_uri": "https://localhost:8080/"
        },
        "id": "KhSS8LBQE_sc",
        "outputId": "3df1e4ab-dde8-4595-a79d-f68e2a2528d6"
      },
      "source": [
        "print(train_oh.shape)\n",
        "\n",
        "#100개의 정수 하나하나가 원핫인코딩 되었기 때문에 크기가 100, 500으로 바뀌었다\n",
        "#그래서 input_shape에 (100, 500)을 넣은 것이다."
      ],
      "execution_count": 52,
      "outputs": [
        {
          "output_type": "stream",
          "text": [
            "(20000, 100, 500)\n"
          ],
          "name": "stdout"
        }
      ]
    },
    {
      "cell_type": "code",
      "metadata": {
        "colab": {
          "base_uri": "https://localhost:8080/"
        },
        "id": "GzFEpJkKFBTR",
        "outputId": "88d92f0d-d08d-4533-a470-86f0f83c0a9c"
      },
      "source": [
        "print(train_oh[0][0][:12])\n",
        "#첫번째 훈련데이터의 첫번째 원핫인코딩된 것의 인덱스 12까지 출력"
      ],
      "execution_count": 53,
      "outputs": [
        {
          "output_type": "stream",
          "text": [
            "[0. 0. 0. 0. 0. 0. 0. 0. 0. 0. 1. 0.]\n"
          ],
          "name": "stdout"
        }
      ]
    },
    {
      "cell_type": "code",
      "metadata": {
        "colab": {
          "base_uri": "https://localhost:8080/"
        },
        "id": "EjNdW_ENFVSx",
        "outputId": "0ddeb0ad-c53c-494c-96af-95b0ac590d1f"
      },
      "source": [
        "print(np.sum(train_oh[0][0]))\n",
        "#잘 원핫인코딩 되었다.."
      ],
      "execution_count": 54,
      "outputs": [
        {
          "output_type": "stream",
          "text": [
            "1.0\n"
          ],
          "name": "stdout"
        }
      ]
    },
    {
      "cell_type": "code",
      "metadata": {
        "id": "DSMZy1VwFiHI"
      },
      "source": [
        "#검증세트도 원핫인코딩..\n",
        "#val_seq가 길이 100으로 줄인 것\n",
        "val_oh = keras.utils.to_categorical(val_seq)"
      ],
      "execution_count": 55,
      "outputs": []
    },
    {
      "cell_type": "code",
      "metadata": {
        "colab": {
          "base_uri": "https://localhost:8080/"
        },
        "id": "2lggyrX8F3Fs",
        "outputId": "56e78d26-c250-4c36-8307-d8a550413ea8"
      },
      "source": [
        "model.summary()\n",
        "#순환층의 모델파라미터 엄청 많다.. (4072)"
      ],
      "execution_count": 56,
      "outputs": [
        {
          "output_type": "stream",
          "text": [
            "Model: \"sequential_2\"\n",
            "_________________________________________________________________\n",
            "Layer (type)                 Output Shape              Param #   \n",
            "=================================================================\n",
            "simple_rnn_2 (SimpleRNN)     (None, 8)                 4072      \n",
            "_________________________________________________________________\n",
            "dense_2 (Dense)              (None, 1)                 9         \n",
            "=================================================================\n",
            "Total params: 4,081\n",
            "Trainable params: 4,081\n",
            "Non-trainable params: 0\n",
            "_________________________________________________________________\n"
          ],
          "name": "stdout"
        }
      ]
    },
    {
      "cell_type": "markdown",
      "metadata": {
        "id": "r0OEetfncpqb"
      },
      "source": [
        "순환층 모델 파라미터\n",
        "\n",
        "- 500(입력차원) * 8(층의 뉴런수) + 8 * 8(서로서로 곱해지는 이전은닉상태를 위한 파라미터) + 8(절편) -> 4072\n",
        "\n",
        "밀집층 모델 파라미터\n",
        "\n",
        "- 8(입력층) * 1(출력층) + 1 (절편) -> 9\n"
      ]
    },
    {
      "cell_type": "markdown",
      "metadata": {
        "id": "eOIMLZm1GDUR"
      },
      "source": [
        "**순환 신경망 훈련하기**"
      ]
    },
    {
      "cell_type": "markdown",
      "metadata": {
        "id": "f8NjaPjvGGQw"
      },
      "source": [
        "케라스의 장점\n",
        "\n",
        "- 모델을 만드는 것은 달라도 훈련법은 같다\n",
        "\n",
        "- 옵티마이저 설정, 콜백설정.."
      ]
    },
    {
      "cell_type": "code",
      "metadata": {
        "colab": {
          "base_uri": "https://localhost:8080/"
        },
        "id": "5CCWtcB9F4TW",
        "outputId": "456a0816-d7a3-4ca8-aae5-55faded1471d"
      },
      "source": [
        "#학습률을 별도로 지정하기 위해 객체 생성..\n",
        "#에포크는 100, 배치사이즈는 64로 지정..\n",
        "rmsprop = keras.optimizers.RMSprop(learning_rate=1e-4)\n",
        "model.compile(optimizer=rmsprop, loss='binary_crossentropy', metrics='accuracy')\n",
        "checkpoint_cb = keras.callbacks.ModelCheckpoint('best-simplernn-model.h5')\n",
        "early_stopping_cb = keras.callbacks.EarlyStopping(patience=3, restore_best_weights=True)\n",
        "history = model.fit(train_oh, train_target, epochs = 100, batch_size=64, validation_data=(val_oh, val_target),\n",
        "                    callbacks=[checkpoint_cb, early_stopping_cb])"
      ],
      "execution_count": 57,
      "outputs": [
        {
          "output_type": "stream",
          "text": [
            "Epoch 1/100\n",
            "313/313 [==============================] - 25s 78ms/step - loss: 0.6982 - accuracy: 0.5084 - val_loss: 0.6977 - val_accuracy: 0.5188\n",
            "Epoch 2/100\n",
            "313/313 [==============================] - 25s 81ms/step - loss: 0.6940 - accuracy: 0.5184 - val_loss: 0.6952 - val_accuracy: 0.5220\n",
            "Epoch 3/100\n",
            "313/313 [==============================] - 24s 77ms/step - loss: 0.6909 - accuracy: 0.5275 - val_loss: 0.6931 - val_accuracy: 0.5246\n",
            "Epoch 4/100\n",
            "313/313 [==============================] - 23s 74ms/step - loss: 0.6881 - accuracy: 0.5357 - val_loss: 0.6913 - val_accuracy: 0.5284\n",
            "Epoch 5/100\n",
            "313/313 [==============================] - 24s 77ms/step - loss: 0.6856 - accuracy: 0.5451 - val_loss: 0.6895 - val_accuracy: 0.5364\n",
            "Epoch 6/100\n",
            "313/313 [==============================] - 23s 73ms/step - loss: 0.6831 - accuracy: 0.5525 - val_loss: 0.6879 - val_accuracy: 0.5422\n",
            "Epoch 7/100\n",
            "313/313 [==============================] - 23s 74ms/step - loss: 0.6806 - accuracy: 0.5621 - val_loss: 0.6861 - val_accuracy: 0.5460\n",
            "Epoch 8/100\n",
            "313/313 [==============================] - 24s 76ms/step - loss: 0.6778 - accuracy: 0.5702 - val_loss: 0.6841 - val_accuracy: 0.5492\n",
            "Epoch 9/100\n",
            "313/313 [==============================] - 25s 79ms/step - loss: 0.6749 - accuracy: 0.5795 - val_loss: 0.6821 - val_accuracy: 0.5542\n",
            "Epoch 10/100\n",
            "313/313 [==============================] - 23s 73ms/step - loss: 0.6717 - accuracy: 0.5879 - val_loss: 0.6795 - val_accuracy: 0.5606\n",
            "Epoch 11/100\n",
            "313/313 [==============================] - 23s 74ms/step - loss: 0.6680 - accuracy: 0.5962 - val_loss: 0.6763 - val_accuracy: 0.5658\n",
            "Epoch 12/100\n",
            "313/313 [==============================] - 24s 77ms/step - loss: 0.6636 - accuracy: 0.6073 - val_loss: 0.6717 - val_accuracy: 0.5806\n",
            "Epoch 13/100\n",
            "313/313 [==============================] - 23s 74ms/step - loss: 0.6574 - accuracy: 0.6189 - val_loss: 0.6637 - val_accuracy: 0.5996\n",
            "Epoch 14/100\n",
            "313/313 [==============================] - 24s 76ms/step - loss: 0.6449 - accuracy: 0.6384 - val_loss: 0.6415 - val_accuracy: 0.6378\n",
            "Epoch 15/100\n",
            "313/313 [==============================] - 24s 78ms/step - loss: 0.5971 - accuracy: 0.6910 - val_loss: 0.5845 - val_accuracy: 0.6978\n",
            "Epoch 16/100\n",
            "313/313 [==============================] - 23s 73ms/step - loss: 0.5679 - accuracy: 0.7170 - val_loss: 0.5736 - val_accuracy: 0.7092\n",
            "Epoch 17/100\n",
            "313/313 [==============================] - 23s 75ms/step - loss: 0.5534 - accuracy: 0.7297 - val_loss: 0.5602 - val_accuracy: 0.7216\n",
            "Epoch 18/100\n",
            "313/313 [==============================] - 23s 74ms/step - loss: 0.5419 - accuracy: 0.7412 - val_loss: 0.5498 - val_accuracy: 0.7318\n",
            "Epoch 19/100\n",
            "313/313 [==============================] - 23s 72ms/step - loss: 0.5309 - accuracy: 0.7488 - val_loss: 0.5421 - val_accuracy: 0.7360\n",
            "Epoch 20/100\n",
            "313/313 [==============================] - 24s 76ms/step - loss: 0.5206 - accuracy: 0.7569 - val_loss: 0.5340 - val_accuracy: 0.7446\n",
            "Epoch 21/100\n",
            "313/313 [==============================] - 23s 75ms/step - loss: 0.5130 - accuracy: 0.7597 - val_loss: 0.5284 - val_accuracy: 0.7442\n",
            "Epoch 22/100\n",
            "313/313 [==============================] - 23s 73ms/step - loss: 0.5036 - accuracy: 0.7675 - val_loss: 0.5219 - val_accuracy: 0.7526\n",
            "Epoch 23/100\n",
            "313/313 [==============================] - 24s 77ms/step - loss: 0.4960 - accuracy: 0.7728 - val_loss: 0.5191 - val_accuracy: 0.7498\n",
            "Epoch 24/100\n",
            "313/313 [==============================] - 24s 76ms/step - loss: 0.4884 - accuracy: 0.7768 - val_loss: 0.5097 - val_accuracy: 0.7580\n",
            "Epoch 25/100\n",
            "313/313 [==============================] - 24s 76ms/step - loss: 0.4816 - accuracy: 0.7812 - val_loss: 0.5034 - val_accuracy: 0.7634\n",
            "Epoch 26/100\n",
            "313/313 [==============================] - 23s 74ms/step - loss: 0.4747 - accuracy: 0.7852 - val_loss: 0.4997 - val_accuracy: 0.7606\n",
            "Epoch 27/100\n",
            "313/313 [==============================] - 24s 78ms/step - loss: 0.4687 - accuracy: 0.7889 - val_loss: 0.5015 - val_accuracy: 0.7626\n",
            "Epoch 28/100\n",
            "313/313 [==============================] - 24s 75ms/step - loss: 0.4634 - accuracy: 0.7931 - val_loss: 0.4917 - val_accuracy: 0.7682\n",
            "Epoch 29/100\n",
            "313/313 [==============================] - 23s 73ms/step - loss: 0.4582 - accuracy: 0.7958 - val_loss: 0.4875 - val_accuracy: 0.7716\n",
            "Epoch 30/100\n",
            "313/313 [==============================] - 24s 77ms/step - loss: 0.4536 - accuracy: 0.7973 - val_loss: 0.4854 - val_accuracy: 0.7722\n",
            "Epoch 31/100\n",
            "313/313 [==============================] - 23s 73ms/step - loss: 0.4496 - accuracy: 0.8005 - val_loss: 0.4821 - val_accuracy: 0.7766\n",
            "Epoch 32/100\n",
            "313/313 [==============================] - 23s 73ms/step - loss: 0.4459 - accuracy: 0.8013 - val_loss: 0.4797 - val_accuracy: 0.7774\n",
            "Epoch 33/100\n",
            "313/313 [==============================] - 24s 77ms/step - loss: 0.4423 - accuracy: 0.8030 - val_loss: 0.4786 - val_accuracy: 0.7754\n",
            "Epoch 34/100\n",
            "313/313 [==============================] - 23s 73ms/step - loss: 0.4394 - accuracy: 0.8047 - val_loss: 0.4790 - val_accuracy: 0.7728\n",
            "Epoch 35/100\n",
            "313/313 [==============================] - 23s 74ms/step - loss: 0.4366 - accuracy: 0.8073 - val_loss: 0.4767 - val_accuracy: 0.7786\n",
            "Epoch 36/100\n",
            "313/313 [==============================] - 24s 77ms/step - loss: 0.4336 - accuracy: 0.8090 - val_loss: 0.4774 - val_accuracy: 0.7778\n",
            "Epoch 37/100\n",
            "313/313 [==============================] - 25s 79ms/step - loss: 0.4316 - accuracy: 0.8092 - val_loss: 0.4722 - val_accuracy: 0.7796\n",
            "Epoch 38/100\n",
            "313/313 [==============================] - 23s 74ms/step - loss: 0.4294 - accuracy: 0.8091 - val_loss: 0.4726 - val_accuracy: 0.7768\n",
            "Epoch 39/100\n",
            "313/313 [==============================] - 23s 73ms/step - loss: 0.4263 - accuracy: 0.8120 - val_loss: 0.4703 - val_accuracy: 0.7826\n",
            "Epoch 40/100\n",
            "313/313 [==============================] - 25s 80ms/step - loss: 0.4249 - accuracy: 0.8122 - val_loss: 0.4706 - val_accuracy: 0.7800\n",
            "Epoch 41/100\n",
            "313/313 [==============================] - 23s 74ms/step - loss: 0.4224 - accuracy: 0.8152 - val_loss: 0.4726 - val_accuracy: 0.7812\n",
            "Epoch 42/100\n",
            "313/313 [==============================] - 23s 75ms/step - loss: 0.4215 - accuracy: 0.8146 - val_loss: 0.4683 - val_accuracy: 0.7802\n",
            "Epoch 43/100\n",
            "313/313 [==============================] - 24s 78ms/step - loss: 0.4190 - accuracy: 0.8149 - val_loss: 0.4687 - val_accuracy: 0.7810\n",
            "Epoch 44/100\n",
            "313/313 [==============================] - 23s 74ms/step - loss: 0.4177 - accuracy: 0.8161 - val_loss: 0.4699 - val_accuracy: 0.7820\n",
            "Epoch 45/100\n",
            "313/313 [==============================] - 24s 76ms/step - loss: 0.4159 - accuracy: 0.8173 - val_loss: 0.4667 - val_accuracy: 0.7800\n",
            "Epoch 46/100\n",
            "313/313 [==============================] - 24s 76ms/step - loss: 0.4150 - accuracy: 0.8171 - val_loss: 0.4666 - val_accuracy: 0.7824\n",
            "Epoch 47/100\n",
            "313/313 [==============================] - 23s 74ms/step - loss: 0.4135 - accuracy: 0.8184 - val_loss: 0.4701 - val_accuracy: 0.7808\n",
            "Epoch 48/100\n",
            "313/313 [==============================] - 24s 78ms/step - loss: 0.4117 - accuracy: 0.8196 - val_loss: 0.4682 - val_accuracy: 0.7818\n",
            "Epoch 49/100\n",
            "313/313 [==============================] - 25s 80ms/step - loss: 0.4105 - accuracy: 0.8197 - val_loss: 0.4732 - val_accuracy: 0.7822\n"
          ],
          "name": "stdout"
        }
      ]
    },
    {
      "cell_type": "markdown",
      "metadata": {
        "id": "jtHz0HpkKeU7"
      },
      "source": [
        "- 38에포크에서 검증점수 : 0.4785\n",
        "- 39에포크에서 검증점수 : 0.4814 (증가)\n",
        "- 40에포크에서 검증점수 : 0.4791 (38보다 증가)\n",
        "- 41에포크에서 검증점수 : 0.4786 (38보다 증가)\n",
        "\n",
        "-> 3번 참았다.. 끝 -> 성능 78퍼?"
      ]
    },
    {
      "cell_type": "code",
      "metadata": {
        "colab": {
          "base_uri": "https://localhost:8080/",
          "height": 279
        },
        "id": "DOjsw4mxHepf",
        "outputId": "e4c308b2-e01a-411a-9271-8d1b4adadb94"
      },
      "source": [
        "plt.plot(history.history['loss'])\n",
        "plt.plot(history.history['val_loss'])\n",
        "plt.xlabel('epochs')\n",
        "plt.ylabel('loss')\n",
        "plt.legend(['train', 'val'])\n",
        "plt.show()"
      ],
      "execution_count": 58,
      "outputs": [
        {
          "output_type": "display_data",
          "data": {
            "image/png": "[encoded data removed]",
            "text/plain": [
              "<Figure size 432x288 with 1 Axes>"
            ]
          },
          "metadata": {
            "tags": [],
            "needs_background": "light"
          }
        }
      ]
    },
    {
      "cell_type": "code",
      "metadata": {
        "colab": {
          "base_uri": "https://localhost:8080/"
        },
        "id": "0OK8N2mGLWdq",
        "outputId": "7976ba51-fa06-448c-cdca-6f602401faf4"
      },
      "source": [
        "print(train_seq.nbytes, train_oh.nbytes)"
      ],
      "execution_count": 59,
      "outputs": [
        {
          "output_type": "stream",
          "text": [
            "8000000 4000000000\n"
          ],
          "name": "stdout"
        }
      ]
    },
    {
      "cell_type": "markdown",
      "metadata": {
        "id": "qjWv0j9_LNMd"
      },
      "source": [
        "원-핫 인코딩을 하면 입력데이터가 너무 커진다..\n",
        "\n",
        "다른 방법이 없을까?"
      ]
    },
    {
      "cell_type": "markdown",
      "metadata": {
        "id": "KrQwC22ULnPy"
      },
      "source": [
        "**단어 임베딩을 사용하기**"
      ]
    },
    {
      "cell_type": "markdown",
      "metadata": {
        "id": "7rLk2fY2MOXw"
      },
      "source": [
        "**단어 임베딩**\n",
        "\n",
        "- 각 단어를 고정된 크기의 실수 벡터로 바꾸어 준다..\n",
        "- 이러한 벡터는 원-핫 인코딩된 벡터보다 훨씬 의미있는 값이기 때문에 더 좋은 성능을 낸다\n",
        "- keras.layers.Embedding클래스에서 임베딩 층을 만들 수 있다\n",
        "- 입력으로 정수데이터를 입력받으니까 메모리를 훨씬 효율적으로 사용할 수 있다.\n",
        "- 임베딩도 2차원 배열로 늘리긴 하지만 훨씬 크기가 작다"
      ]
    },
    {
      "cell_type": "code",
      "metadata": {
        "id": "E3FN7Rk2LAJe"
      },
      "source": [
        "model2 = keras.Sequential()\n",
        "model2.add(keras.layers.Embedding(500,16,input_length=100))\n",
        "# 500 : 어휘사전의 크기 (이 만큼의 정수를 임베딩 벡터로 만들겠다)\n",
        "# 16 : 임베딩 벡터의 크기 (원핫인코딩은 크기가 500이었는데 16으로 아주 작게 할 수 있다..)\n",
        "#input_length=100 : 샘플의 길이를 100으로 맞추었다\n",
        "\n",
        "model2.add(keras.layers.SimpleRNN(8))\n",
        "model2.add(keras.layers.Dense(1, activation='sigmoid'))"
      ],
      "execution_count": 60,
      "outputs": []
    },
    {
      "cell_type": "code",
      "metadata": {
        "colab": {
          "base_uri": "https://localhost:8080/"
        },
        "id": "nPV4vI18NO_y",
        "outputId": "d03a12d6-92a3-4433-ac1c-4aa8e35441d7"
      },
      "source": [
        "model2.summary()\n",
        "\n",
        "#순환층의 모델 파라미터수가 위의 model(원핫 인코딩)보다 엄청 줄었다..\n",
        "#(4072 -> 200)"
      ],
      "execution_count": 61,
      "outputs": [
        {
          "output_type": "stream",
          "text": [
            "Model: \"sequential_3\"\n",
            "_________________________________________________________________\n",
            "Layer (type)                 Output Shape              Param #   \n",
            "=================================================================\n",
            "embedding_1 (Embedding)      (None, 100, 16)           8000      \n",
            "_________________________________________________________________\n",
            "simple_rnn_3 (SimpleRNN)     (None, 8)                 200       \n",
            "_________________________________________________________________\n",
            "dense_3 (Dense)              (None, 1)                 9         \n",
            "=================================================================\n",
            "Total params: 8,209\n",
            "Trainable params: 8,209\n",
            "Non-trainable params: 0\n",
            "_________________________________________________________________\n"
          ],
          "name": "stdout"
        }
      ]
    },
    {
      "cell_type": "markdown",
      "metadata": {
        "id": "CvD0zM1CdU5t"
      },
      "source": [
        "임베딩 층의 모델 파라미터\n",
        "\n",
        "- 500(토큰 갯수) * 16(만들려는 실수 벡터의 크기) -> 8000\n",
        "\n",
        "순환층의 모델 파라미터\n",
        "\n",
        "- 16(벡터의 크기) * 8(뉴런의 갯수) + 8(절편) -> 200\n",
        "\n",
        "밀집층의 모델 파라미터\n",
        "\n",
        "- 8(입력층 뉴런 갯수) * 1(출력층) + 1(절편) -> 9"
      ]
    },
    {
      "cell_type": "code",
      "metadata": {
        "colab": {
          "base_uri": "https://localhost:8080/"
        },
        "id": "xlo8FpJLNP6P",
        "outputId": "f7373874-3fe9-4a6f-ee84-707dac8cba27"
      },
      "source": [
        "rmsprop = keras.optimizers.RMSprop(learning_rate=0.0001)\n",
        "model2.compile(optimizer=rmsprop, loss = 'binary_crossentropy', metrics='accuracy')\n",
        "checkpoint_cb = keras.callbacks.ModelCheckpoint('best-embedding-model.h5')\n",
        "early_stopping_cb = keras.callbacks.EarlyStopping(patience=3, restore_best_weights=True)\n",
        "history = model2.fit(train_seq, train_target, epochs = 100, batch_size=64, validation_data=(val_seq, val_target),\n",
        "                    callbacks=[checkpoint_cb, early_stopping_cb])"
      ],
      "execution_count": 62,
      "outputs": [
        {
          "output_type": "stream",
          "text": [
            "Epoch 1/100\n",
            "313/313 [==============================] - 29s 90ms/step - loss: 0.6878 - accuracy: 0.5412 - val_loss: 0.6706 - val_accuracy: 0.6258\n",
            "Epoch 2/100\n",
            "313/313 [==============================] - 27s 85ms/step - loss: 0.6505 - accuracy: 0.6657 - val_loss: 0.6346 - val_accuracy: 0.7006\n",
            "Epoch 3/100\n",
            "313/313 [==============================] - 28s 90ms/step - loss: 0.6182 - accuracy: 0.7134 - val_loss: 0.6065 - val_accuracy: 0.7266\n",
            "Epoch 4/100\n",
            "313/313 [==============================] - 27s 87ms/step - loss: 0.5915 - accuracy: 0.7397 - val_loss: 0.5884 - val_accuracy: 0.7328\n",
            "Epoch 5/100\n",
            "313/313 [==============================] - 28s 90ms/step - loss: 0.5695 - accuracy: 0.7547 - val_loss: 0.5655 - val_accuracy: 0.7546\n",
            "Epoch 6/100\n",
            "313/313 [==============================] - 27s 87ms/step - loss: 0.5503 - accuracy: 0.7666 - val_loss: 0.5507 - val_accuracy: 0.7576\n",
            "Epoch 7/100\n",
            "313/313 [==============================] - 28s 89ms/step - loss: 0.5352 - accuracy: 0.7708 - val_loss: 0.5383 - val_accuracy: 0.7652\n",
            "Epoch 8/100\n",
            "313/313 [==============================] - 27s 88ms/step - loss: 0.5217 - accuracy: 0.7770 - val_loss: 0.5260 - val_accuracy: 0.7680\n",
            "Epoch 9/100\n",
            "313/313 [==============================] - 26s 85ms/step - loss: 0.5110 - accuracy: 0.7789 - val_loss: 0.5219 - val_accuracy: 0.7638\n",
            "Epoch 10/100\n",
            "313/313 [==============================] - 28s 90ms/step - loss: 0.4997 - accuracy: 0.7857 - val_loss: 0.5117 - val_accuracy: 0.7708\n",
            "Epoch 11/100\n",
            "313/313 [==============================] - 27s 85ms/step - loss: 0.4901 - accuracy: 0.7881 - val_loss: 0.5076 - val_accuracy: 0.7686\n",
            "Epoch 12/100\n",
            "313/313 [==============================] - 28s 88ms/step - loss: 0.4821 - accuracy: 0.7933 - val_loss: 0.4987 - val_accuracy: 0.7738\n",
            "Epoch 13/100\n",
            "313/313 [==============================] - 28s 89ms/step - loss: 0.4731 - accuracy: 0.7956 - val_loss: 0.4998 - val_accuracy: 0.7688\n",
            "Epoch 14/100\n",
            "313/313 [==============================] - 28s 88ms/step - loss: 0.4685 - accuracy: 0.7986 - val_loss: 0.4952 - val_accuracy: 0.7748\n",
            "Epoch 15/100\n",
            "313/313 [==============================] - 27s 85ms/step - loss: 0.4626 - accuracy: 0.7995 - val_loss: 0.4885 - val_accuracy: 0.7760\n",
            "Epoch 16/100\n",
            "313/313 [==============================] - 28s 91ms/step - loss: 0.4554 - accuracy: 0.8034 - val_loss: 0.4873 - val_accuracy: 0.7724\n",
            "Epoch 17/100\n",
            "313/313 [==============================] - 27s 85ms/step - loss: 0.4511 - accuracy: 0.8056 - val_loss: 0.4839 - val_accuracy: 0.7742\n",
            "Epoch 18/100\n",
            "313/313 [==============================] - 28s 88ms/step - loss: 0.4469 - accuracy: 0.8076 - val_loss: 0.4859 - val_accuracy: 0.7728\n",
            "Epoch 19/100\n",
            "313/313 [==============================] - 28s 88ms/step - loss: 0.4433 - accuracy: 0.8110 - val_loss: 0.4798 - val_accuracy: 0.7750\n",
            "Epoch 20/100\n",
            "313/313 [==============================] - 26s 84ms/step - loss: 0.4398 - accuracy: 0.8114 - val_loss: 0.4775 - val_accuracy: 0.7752\n",
            "Epoch 21/100\n",
            "313/313 [==============================] - 28s 89ms/step - loss: 0.4366 - accuracy: 0.8115 - val_loss: 0.4835 - val_accuracy: 0.7726\n",
            "Epoch 22/100\n",
            "313/313 [==============================] - 27s 86ms/step - loss: 0.4337 - accuracy: 0.8116 - val_loss: 0.4745 - val_accuracy: 0.7756\n",
            "Epoch 23/100\n",
            "313/313 [==============================] - 28s 89ms/step - loss: 0.4305 - accuracy: 0.8142 - val_loss: 0.4750 - val_accuracy: 0.7774\n",
            "Epoch 24/100\n",
            "313/313 [==============================] - 28s 89ms/step - loss: 0.4274 - accuracy: 0.8163 - val_loss: 0.4732 - val_accuracy: 0.7780\n",
            "Epoch 25/100\n",
            "313/313 [==============================] - 27s 88ms/step - loss: 0.4251 - accuracy: 0.8177 - val_loss: 0.4749 - val_accuracy: 0.7774\n",
            "Epoch 26/100\n",
            "313/313 [==============================] - 26s 85ms/step - loss: 0.4221 - accuracy: 0.8167 - val_loss: 0.4716 - val_accuracy: 0.7802\n",
            "Epoch 27/100\n",
            "313/313 [==============================] - 28s 90ms/step - loss: 0.4205 - accuracy: 0.8188 - val_loss: 0.4715 - val_accuracy: 0.7782\n",
            "Epoch 28/100\n",
            "313/313 [==============================] - 27s 85ms/step - loss: 0.4179 - accuracy: 0.8201 - val_loss: 0.4716 - val_accuracy: 0.7790\n",
            "Epoch 29/100\n",
            "313/313 [==============================] - 28s 88ms/step - loss: 0.4165 - accuracy: 0.8203 - val_loss: 0.4806 - val_accuracy: 0.7780\n",
            "Epoch 30/100\n",
            "313/313 [==============================] - 27s 86ms/step - loss: 0.4156 - accuracy: 0.8214 - val_loss: 0.4704 - val_accuracy: 0.7806\n",
            "Epoch 31/100\n",
            "313/313 [==============================] - 27s 86ms/step - loss: 0.4122 - accuracy: 0.8230 - val_loss: 0.4725 - val_accuracy: 0.7758\n",
            "Epoch 32/100\n",
            "313/313 [==============================] - 28s 88ms/step - loss: 0.4112 - accuracy: 0.8253 - val_loss: 0.4720 - val_accuracy: 0.7836\n",
            "Epoch 33/100\n",
            "313/313 [==============================] - 27s 85ms/step - loss: 0.4089 - accuracy: 0.8252 - val_loss: 0.4746 - val_accuracy: 0.7802\n"
          ],
          "name": "stdout"
        }
      ]
    },
    {
      "cell_type": "markdown",
      "metadata": {
        "id": "sLhFS8SHOrGI"
      },
      "source": [
        "- 27에포크에서 검증점수 : 0.4669\n",
        "- 28에포크에서 검증점수 : 0.4680 (증가)\n",
        "- 29에포크에서 검증점수 : 0.4689 (27보다 증가)\n",
        "- 30에포크에서 검증점수 : 0.4676 (27보다 증가)\n",
        "\n",
        "-> 3번 참았다.. 끝 -> 성능 78퍼 -> 원핫인코딩과 비슷하다\n",
        "\n",
        "-> 순환층의 모델파라미터가 훨씬 적다.."
      ]
    },
    {
      "cell_type": "code",
      "metadata": {
        "colab": {
          "base_uri": "https://localhost:8080/",
          "height": 282
        },
        "id": "6Z2tUkqIOGrv",
        "outputId": "87f60307-e8e9-4548-d4e5-822d98696c7d"
      },
      "source": [
        "plt.plot(history.history['loss'])\n",
        "plt.plot(history.history['val_loss'])\n",
        "plt.xlabel('epochs')\n",
        "plt.ylabel('loss')\n",
        "plt.legend(['train', 'val'])\n",
        "plt.show()"
      ],
      "execution_count": 63,
      "outputs": [
        {
          "output_type": "display_data",
          "data": {
            "image/png": "[encoded data removed]",
            "text/plain": [
              "<Figure size 432x288 with 1 Axes>"
            ]
          },
          "metadata": {
            "tags": [],
            "needs_background": "light"
          }
        }
      ]
    },
    {
      "cell_type": "markdown",
      "metadata": {
        "id": "5D1k_2NRPqo0"
      },
      "source": [
        "훈련손실은 계속 감소하는데. 이를 개선할 방법이 있는지 알아보겟다.."
      ]
    },
    {
      "cell_type": "markdown",
      "metadata": {
        "id": "RJO6Fc0MPvgl"
      },
      "source": [
        "**9-2 정리**\n",
        "\n",
        "- 순환신경망을 실제 모델을 만들었다\n",
        "\n",
        "1) 입력데이터를 원핫 인코딩으로 변환하여 순환층에 직접 주입\n",
        "\n",
        "    -> 입력데이터가 너무 커서 메모리 낭비\n",
        "    \n",
        "    -> 어휘사전 크기의 벡터가 만들어짐\n",
        "2) 입력데이터(정수)를 그대로 순환층에 넣기위해 Embedding층을 추가\n",
        "\n",
        "    -> 단어마다 실수로 이루어진 밀집 벡터를 학습함\n",
        "    \n",
        "    -> 비교적 벡터의 크기가 작음\n",
        "    \n",
        "    -> 순환층의 모델 파라미터가 더 적음..\n",
        "    \n",
        "    -> 단어사이의 관계를 표현할 수 있기 때문에 성능이 더 좋다"
      ]
    },
    {
      "cell_type": "markdown",
      "metadata": {
        "id": "C83RQiBYZdkC"
      },
      "source": [
        "#9.3 LSTM과 GRU 셀"
      ]
    },
    {
      "cell_type": "markdown",
      "metadata": {
        "id": "wbvO_0fmuXA8"
      },
      "source": [
        "시퀀스가 길수록 순환되는 은닉 상태에 대한 정보가 점차 희석되는 어려움을 개선하기위해 개발됨"
      ]
    },
    {
      "cell_type": "markdown",
      "metadata": {
        "id": "G9G_evnianLs"
      },
      "source": [
        "**LSTM 구조**\n",
        "\n",
        "- Long Short-Term Memory : 단기기억을 오래 하겠다.."
      ]
    },
    {
      "cell_type": "markdown",
      "metadata": {
        "id": "K5f6JttKpUV0"
      },
      "source": [
        "은닉상태 / **셀상태** 가 순환하는 구조이다..\n",
        "\n",
        "은닉상태 / 셀상태 모두 다음 은닉상태를 만드는 데 기여한다.."
      ]
    },
    {
      "cell_type": "markdown",
      "metadata": {
        "id": "QnOp_sq4xKCs"
      },
      "source": [
        "- LSTM에는 총 4개의 셀 ( 시그모이드 2, tanh 2 ) 이 있다..\n",
        "- 각 셀에서 계산하는 가중치가 있는데, 그 가중치가 다 다르다.. 그걸 W1, W2, W3, W3 라고 하겠다\n",
        "- 이 네 가중치 모두 편의상 입력과 은닉상태에 곱해지는 각각의 가중치를 합쳐서 나타낸다고 하자\n",
        "- 사용되는 활성화 함수는 tanh 와 시그모이드 함수가 있다"
      ]
    },
    {
      "cell_type": "markdown",
      "metadata": {
        "id": "SoibDGiCxw65"
      },
      "source": [
        "**다음 은닉상태 계산법**\n",
        "\n",
        "    - (K를 tanh함수에 통과시킨 값) * (입력과 이전 은닉상태에 W1을 곱해서 시그모이드 통과시킨 값)\n",
        "\n",
        "    - 사실상 이 식의 * 는 마지막 곱하기 이다\n",
        "        -> 곱하기 3회 ( 출력 게이트 )"
      ]
    },
    {
      "cell_type": "markdown",
      "metadata": {
        "id": "LvQvTnjgyBNt"
      },
      "source": [
        "**앞의 식의 K 계산법**\n",
        "\n",
        "    - (이전 셀 상태) * (입력과 이전 은닉상태에 W2를 곱해서 시그모이드 통과시킨 값)\n",
        "        -> 곱하기 1회 ( 삭제 게이트 )\n",
        "    \n",
        "    - (입력과 이전 은닉상태에 W3을 곱해서 시그모이드 통과시킨 값) * (입력과 이전 은닉상태에 W4를 곱해서 tanh 통과시킨 값)\n",
        "        -> 곱하기 2회 ( 입력 게이트 )\n",
        "    \n",
        "    - 위의 두 값을 더한 값이 K 의 값이다!!"
      ]
    },
    {
      "cell_type": "markdown",
      "metadata": {
        "id": "2NFcAjCaz0rW"
      },
      "source": [
        "**다음 셀 상태**\n",
        "\n",
        "    - K 의 값이 다음 셀 상태이다"
      ]
    },
    {
      "cell_type": "markdown",
      "metadata": {
        "id": "uHB1IQ3iibsv"
      },
      "source": [
        "**LSTM 신경망 훈련하기**\n",
        "\n",
        "위의 셀 계산을 LSTM 클래스에서 알아서 다 해준다,,"
      ]
    },
    {
      "cell_type": "code",
      "metadata": {
        "colab": {
          "base_uri": "https://localhost:8080/"
        },
        "id": "IB7YobQ1aLf2",
        "outputId": "e5c44120-2b80-4184-9aac-1ea95708b6ee"
      },
      "source": [
        "#데이터 가져오기..\n",
        "\n",
        "from tensorflow.keras.datasets import imdb\n",
        "from sklearn.model_selection import train_test_split\n",
        "\n",
        "(train_input, train_target),(test_input, test_target) = imdb.load_data(num_words = 500)\n",
        "train_input, val_input, train_target, val_target = train_test_split(train_input, train_target, test_size=0.2, random_state=42)"
      ],
      "execution_count": 64,
      "outputs": [
        {
          "output_type": "stream",
          "text": [
            "<string>:6: VisibleDeprecationWarning: Creating an ndarray from ragged nested sequences (which is a list-or-tuple of lists-or-tuples-or ndarrays with different lengths or shapes) is deprecated. If you meant to do this, you must specify 'dtype=object' when creating the ndarray\n",
            "/usr/local/lib/python3.7/dist-packages/tensorflow/python/keras/datasets/imdb.py:155: VisibleDeprecationWarning: Creating an ndarray from ragged nested sequences (which is a list-or-tuple of lists-or-tuples-or ndarrays with different lengths or shapes) is deprecated. If you meant to do this, you must specify 'dtype=object' when creating the ndarray\n",
            "  x_train, y_train = np.array(xs[:idx]), np.array(labels[:idx])\n",
            "/usr/local/lib/python3.7/dist-packages/tensorflow/python/keras/datasets/imdb.py:156: VisibleDeprecationWarning: Creating an ndarray from ragged nested sequences (which is a list-or-tuple of lists-or-tuples-or ndarrays with different lengths or shapes) is deprecated. If you meant to do this, you must specify 'dtype=object' when creating the ndarray\n",
            "  x_test, y_test = np.array(xs[idx:]), np.array(labels[idx:])\n"
          ],
          "name": "stderr"
        }
      ]
    },
    {
      "cell_type": "code",
      "metadata": {
        "id": "9iNHtyBweL4t"
      },
      "source": [
        "#패딩해서 길이맞추기..\n",
        "\n",
        "from tensorflow.keras.preprocessing.sequence import pad_sequences\n",
        "train_seq = pad_sequences(train_input, maxlen=100)\n",
        "val_seq = pad_sequences(val_input, maxlen=100)"
      ],
      "execution_count": 65,
      "outputs": []
    },
    {
      "cell_type": "code",
      "metadata": {
        "id": "oMpIQbZmelk3"
      },
      "source": [
        "#순환층 만들기..\n",
        "\n",
        "from tensorflow import keras\n",
        "model = keras.Sequential()\n",
        "model.add(keras.layers.Embedding(500,16,input_length=100))\n",
        "#입력의 길이를 100으로 했고, 어휘사전의 갯수가 500이니까 500개의 정수를 16개의 실수벡터로 만들 것을 지정\n",
        "model.add(keras.layers.LSTM(8))\n",
        "model.add(keras.layers.Dense(1, activation = 'sigmoid'))"
      ],
      "execution_count": 66,
      "outputs": []
    },
    {
      "cell_type": "code",
      "metadata": {
        "colab": {
          "base_uri": "https://localhost:8080/"
        },
        "id": "IuMYR2oUfIed",
        "outputId": "d995257c-de59-4083-e177-9532f8466a13"
      },
      "source": [
        "#모델 확인..\n",
        "\n",
        "model.summary()"
      ],
      "execution_count": 67,
      "outputs": [
        {
          "output_type": "stream",
          "text": [
            "Model: \"sequential_4\"\n",
            "_________________________________________________________________\n",
            "Layer (type)                 Output Shape              Param #   \n",
            "=================================================================\n",
            "embedding_2 (Embedding)      (None, 100, 16)           8000      \n",
            "_________________________________________________________________\n",
            "lstm (LSTM)                  (None, 8)                 800       \n",
            "_________________________________________________________________\n",
            "dense_4 (Dense)              (None, 1)                 9         \n",
            "=================================================================\n",
            "Total params: 8,809\n",
            "Trainable params: 8,809\n",
            "Non-trainable params: 0\n",
            "_________________________________________________________________\n"
          ],
          "name": "stdout"
        }
      ]
    },
    {
      "cell_type": "markdown",
      "metadata": {
        "id": "Ycqd8yiS0xNX"
      },
      "source": [
        "임베딩 층의 모델 파라미터\n",
        "\n",
        "- 500 (토큰 갯수) * 16 (실수벡터 크기) -> 8000\n",
        "\n",
        "LSTM 층의 모델 파라미터\n",
        "\n",
        "- {16 (실수벡터 크기) * 8(뉴런의 갯수) + 8 * 8 (서로 순환될때 뉴런끼리 곱해지는 가중치) + 8 (절편)} * 4 (LSTM층은 셀이 4개) \n",
        "    \n",
        "    ->  200 * 4 = 800\n",
        "\n",
        "밀집층의 모델 파라미터\n",
        "\n",
        "- 8 (입력뉴런) * 1 (출력뉴런) + 1 (절편) -> 9"
      ]
    },
    {
      "cell_type": "code",
      "metadata": {
        "colab": {
          "base_uri": "https://localhost:8080/"
        },
        "id": "Q01jKilsfMUa",
        "outputId": "b1816cda-b6d8-42c8-8d84-6e93fdad34a7"
      },
      "source": [
        "#모델 컴파일 및 훈련..\n",
        "\n",
        "rmsprop = keras.optimizers.RMSprop(learning_rate = 0.0001)\n",
        "model.compile(optimizer = rmsprop, loss = 'binary_crossentropy', metrics = ['accuracy'])\n",
        "\n",
        "#콜백객체 생성..\n",
        "checkpoint_cb = keras.callbacks.ModelCheckpoint('best-lstm-model.h5')\n",
        "early_stopping_cb = keras.callbacks.EarlyStopping(patience = 3, restore_best_weights = True)\n",
        "\n",
        "#훈련\n",
        "history = model.fit(train_seq, train_target, epochs = 100, batch_size=64, validation_data = (val_seq, val_target),\n",
        "                    callbacks = [checkpoint_cb, early_stopping_cb])"
      ],
      "execution_count": 68,
      "outputs": [
        {
          "output_type": "stream",
          "text": [
            "Epoch 1/100\n",
            "313/313 [==============================] - 8s 9ms/step - loss: 0.6926 - accuracy: 0.5533 - val_loss: 0.6918 - val_accuracy: 0.6106\n",
            "Epoch 2/100\n",
            "313/313 [==============================] - 3s 8ms/step - loss: 0.6906 - accuracy: 0.6199 - val_loss: 0.6886 - val_accuracy: 0.6440\n",
            "Epoch 3/100\n",
            "313/313 [==============================] - 3s 8ms/step - loss: 0.6842 - accuracy: 0.6568 - val_loss: 0.6768 - val_accuracy: 0.6840\n",
            "Epoch 4/100\n",
            "313/313 [==============================] - 3s 8ms/step - loss: 0.6425 - accuracy: 0.7095 - val_loss: 0.5978 - val_accuracy: 0.7190\n",
            "Epoch 5/100\n",
            "313/313 [==============================] - 3s 8ms/step - loss: 0.5813 - accuracy: 0.7200 - val_loss: 0.5727 - val_accuracy: 0.7222\n",
            "Epoch 6/100\n",
            "313/313 [==============================] - 3s 8ms/step - loss: 0.5554 - accuracy: 0.7406 - val_loss: 0.5477 - val_accuracy: 0.7468\n",
            "Epoch 7/100\n",
            "313/313 [==============================] - 3s 8ms/step - loss: 0.5343 - accuracy: 0.7587 - val_loss: 0.5296 - val_accuracy: 0.7594\n",
            "Epoch 8/100\n",
            "313/313 [==============================] - 2s 8ms/step - loss: 0.5161 - accuracy: 0.7714 - val_loss: 0.5142 - val_accuracy: 0.7736\n",
            "Epoch 9/100\n",
            "313/313 [==============================] - 2s 7ms/step - loss: 0.5003 - accuracy: 0.7812 - val_loss: 0.5001 - val_accuracy: 0.7748\n",
            "Epoch 10/100\n",
            "313/313 [==============================] - 2s 8ms/step - loss: 0.4861 - accuracy: 0.7865 - val_loss: 0.4889 - val_accuracy: 0.7808\n",
            "Epoch 11/100\n",
            "313/313 [==============================] - 2s 8ms/step - loss: 0.4742 - accuracy: 0.7930 - val_loss: 0.4800 - val_accuracy: 0.7814\n",
            "Epoch 12/100\n",
            "313/313 [==============================] - 2s 8ms/step - loss: 0.4640 - accuracy: 0.7967 - val_loss: 0.4708 - val_accuracy: 0.7892\n",
            "Epoch 13/100\n",
            "313/313 [==============================] - 2s 8ms/step - loss: 0.4558 - accuracy: 0.7995 - val_loss: 0.4660 - val_accuracy: 0.7892\n",
            "Epoch 14/100\n",
            "313/313 [==============================] - 2s 8ms/step - loss: 0.4485 - accuracy: 0.8039 - val_loss: 0.4610 - val_accuracy: 0.7916\n",
            "Epoch 15/100\n",
            "313/313 [==============================] - 2s 8ms/step - loss: 0.4426 - accuracy: 0.8060 - val_loss: 0.4553 - val_accuracy: 0.7974\n",
            "Epoch 16/100\n",
            "313/313 [==============================] - 2s 8ms/step - loss: 0.4380 - accuracy: 0.8080 - val_loss: 0.4516 - val_accuracy: 0.7970\n",
            "Epoch 17/100\n",
            "313/313 [==============================] - 2s 8ms/step - loss: 0.4341 - accuracy: 0.8077 - val_loss: 0.4499 - val_accuracy: 0.7922\n",
            "Epoch 18/100\n",
            "313/313 [==============================] - 2s 7ms/step - loss: 0.4305 - accuracy: 0.8091 - val_loss: 0.4492 - val_accuracy: 0.7932\n",
            "Epoch 19/100\n",
            "313/313 [==============================] - 2s 7ms/step - loss: 0.4283 - accuracy: 0.8106 - val_loss: 0.4494 - val_accuracy: 0.7964\n",
            "Epoch 20/100\n",
            "313/313 [==============================] - 2s 8ms/step - loss: 0.4260 - accuracy: 0.8119 - val_loss: 0.4458 - val_accuracy: 0.7964\n",
            "Epoch 21/100\n",
            "313/313 [==============================] - 2s 7ms/step - loss: 0.4239 - accuracy: 0.8115 - val_loss: 0.4424 - val_accuracy: 0.7978\n",
            "Epoch 22/100\n",
            "313/313 [==============================] - 2s 7ms/step - loss: 0.4220 - accuracy: 0.8131 - val_loss: 0.4427 - val_accuracy: 0.7968\n",
            "Epoch 23/100\n",
            "313/313 [==============================] - 2s 7ms/step - loss: 0.4206 - accuracy: 0.8126 - val_loss: 0.4419 - val_accuracy: 0.7970\n",
            "Epoch 24/100\n",
            "313/313 [==============================] - 2s 8ms/step - loss: 0.4195 - accuracy: 0.8138 - val_loss: 0.4407 - val_accuracy: 0.7960\n",
            "Epoch 25/100\n",
            "313/313 [==============================] - 3s 8ms/step - loss: 0.4181 - accuracy: 0.8130 - val_loss: 0.4380 - val_accuracy: 0.7980\n",
            "Epoch 26/100\n",
            "313/313 [==============================] - 3s 8ms/step - loss: 0.4172 - accuracy: 0.8134 - val_loss: 0.4391 - val_accuracy: 0.7968\n",
            "Epoch 27/100\n",
            "313/313 [==============================] - 3s 8ms/step - loss: 0.4161 - accuracy: 0.8137 - val_loss: 0.4371 - val_accuracy: 0.7988\n",
            "Epoch 28/100\n",
            "313/313 [==============================] - 3s 8ms/step - loss: 0.4153 - accuracy: 0.8135 - val_loss: 0.4372 - val_accuracy: 0.7978\n",
            "Epoch 29/100\n",
            "313/313 [==============================] - 3s 8ms/step - loss: 0.4141 - accuracy: 0.8152 - val_loss: 0.4366 - val_accuracy: 0.7974\n",
            "Epoch 30/100\n",
            "313/313 [==============================] - 3s 8ms/step - loss: 0.4132 - accuracy: 0.8163 - val_loss: 0.4352 - val_accuracy: 0.7984\n",
            "Epoch 31/100\n",
            "313/313 [==============================] - 3s 8ms/step - loss: 0.4127 - accuracy: 0.8156 - val_loss: 0.4346 - val_accuracy: 0.7960\n",
            "Epoch 32/100\n",
            "313/313 [==============================] - 3s 8ms/step - loss: 0.4120 - accuracy: 0.8160 - val_loss: 0.4345 - val_accuracy: 0.8020\n",
            "Epoch 33/100\n",
            "313/313 [==============================] - 3s 8ms/step - loss: 0.4110 - accuracy: 0.8166 - val_loss: 0.4383 - val_accuracy: 0.7970\n",
            "Epoch 34/100\n",
            "313/313 [==============================] - 3s 8ms/step - loss: 0.4105 - accuracy: 0.8172 - val_loss: 0.4335 - val_accuracy: 0.8000\n",
            "Epoch 35/100\n",
            "313/313 [==============================] - 2s 8ms/step - loss: 0.4099 - accuracy: 0.8158 - val_loss: 0.4329 - val_accuracy: 0.8024\n",
            "Epoch 36/100\n",
            "313/313 [==============================] - 2s 8ms/step - loss: 0.4090 - accuracy: 0.8179 - val_loss: 0.4324 - val_accuracy: 0.8028\n",
            "Epoch 37/100\n",
            "313/313 [==============================] - 2s 8ms/step - loss: 0.4087 - accuracy: 0.8163 - val_loss: 0.4324 - val_accuracy: 0.8016\n",
            "Epoch 38/100\n",
            "313/313 [==============================] - 3s 8ms/step - loss: 0.4079 - accuracy: 0.8170 - val_loss: 0.4323 - val_accuracy: 0.8008\n",
            "Epoch 39/100\n",
            "313/313 [==============================] - 3s 8ms/step - loss: 0.4072 - accuracy: 0.8168 - val_loss: 0.4305 - val_accuracy: 0.8010\n",
            "Epoch 40/100\n",
            "313/313 [==============================] - 3s 8ms/step - loss: 0.4065 - accuracy: 0.8166 - val_loss: 0.4321 - val_accuracy: 0.8020\n",
            "Epoch 41/100\n",
            "313/313 [==============================] - 3s 8ms/step - loss: 0.4064 - accuracy: 0.8177 - val_loss: 0.4314 - val_accuracy: 0.8036\n",
            "Epoch 42/100\n",
            "313/313 [==============================] - 3s 9ms/step - loss: 0.4058 - accuracy: 0.8167 - val_loss: 0.4333 - val_accuracy: 0.8006\n"
          ],
          "name": "stdout"
        }
      ]
    },
    {
      "cell_type": "markdown",
      "metadata": {
        "id": "N0W0JaYe12_O"
      },
      "source": [
        "최고 성능 : 39에포크의 검증손실 0.4305..  ->  정확도 0.8010"
      ]
    },
    {
      "cell_type": "code",
      "metadata": {
        "colab": {
          "base_uri": "https://localhost:8080/",
          "height": 279
        },
        "id": "ziKzUs-NgJlV",
        "outputId": "c28419e9-0823-4e11-cf52-d88d48fe969f"
      },
      "source": [
        "#검증과 손실 그래프..\n",
        "\n",
        "import matplotlib.pyplot as plt\n",
        "plt.plot(history.history['loss'])\n",
        "plt.plot(history.history['val_loss'])\n",
        "plt.xlabel('epochs')\n",
        "plt.ylabel('loss')\n",
        "plt.legend(['train', 'val'])\n",
        "plt.show()"
      ],
      "execution_count": 69,
      "outputs": [
        {
          "output_type": "display_data",
          "data": {
            "image/png": "[encoded data removed]",
            "text/plain": [
              "<Figure size 432x288 with 1 Axes>"
            ]
          },
          "metadata": {
            "tags": [],
            "needs_background": "light"
          }
        }
      ]
    },
    {
      "cell_type": "markdown",
      "metadata": {
        "id": "ng5o3ZSbgiVM"
      },
      "source": [
        "**순환층에 드롭아웃 적용하기**"
      ]
    },
    {
      "cell_type": "markdown",
      "metadata": {
        "id": "Srqo9o0Ngl-y"
      },
      "source": [
        "SimpleRNN과 LSTM모델 모두 자체적으로 dropout, recurrent_dropout매개변수를 가짐\n",
        "\n",
        "    - dropout : 셀의 입력에 드롭아웃을 적용\n",
        "    - recurrent_dropout : 순환되는 은닉상태에 드롭아웃을 적용 (GPU로 모델 훈련불가.. -> 시간 오래걸림)"
      ]
    },
    {
      "cell_type": "code",
      "metadata": {
        "id": "GUaL1R0vghpH"
      },
      "source": [
        "#드롭아웃 30퍼..\n",
        "\n",
        "model2 = keras.Sequential()\n",
        "model2.add(keras.layers.Embedding(500,16,input_length = 100))\n",
        "model2.add(keras.layers.LSTM(8, dropout = 0.3))\n",
        "model2.add(keras.layers.Dense(1, activation='sigmoid'))"
      ],
      "execution_count": 70,
      "outputs": []
    },
    {
      "cell_type": "code",
      "metadata": {
        "colab": {
          "base_uri": "https://localhost:8080/"
        },
        "id": "EbZ3uOIEhSCw",
        "outputId": "4facdd0f-4dfb-4945-b48d-d5f219a125ec"
      },
      "source": [
        "#다시 컴파일 및 훈련..\n",
        "\n",
        "rmsprop = keras.optimizers.RMSprop(learning_rate=0.0001)\n",
        "model2.compile(optimizer=rmsprop, loss='binary_crossentropy', metrics=['accuracy'])\n",
        "\n",
        "#콜백 지정..\n",
        "checkpoint_cb = keras.callbacks.ModelCheckpoint('best-dropout-model.h5')\n",
        "early_stopping_cb = keras.callbacks.EarlyStopping(patience=3, restore_best_weights=True)\n",
        "\n",
        "#훈련\n",
        "history = model2.fit(train_seq, train_target, epochs = 100, batch_size=64, validation_data=(val_seq, val_target), callbacks=[checkpoint_cb, early_stopping_cb])"
      ],
      "execution_count": 78,
      "outputs": [
        {
          "output_type": "stream",
          "text": [
            "Epoch 1/100\n",
            "313/313 [==============================] - 4s 9ms/step - loss: 0.6921 - accuracy: 0.5304 - val_loss: 0.6906 - val_accuracy: 0.5880\n",
            "Epoch 2/100\n",
            "313/313 [==============================] - 2s 8ms/step - loss: 0.6876 - accuracy: 0.6083 - val_loss: 0.6837 - val_accuracy: 0.6536\n",
            "Epoch 3/100\n",
            "313/313 [==============================] - 2s 7ms/step - loss: 0.6727 - accuracy: 0.6710 - val_loss: 0.6545 - val_accuracy: 0.7090\n",
            "Epoch 4/100\n",
            "313/313 [==============================] - 2s 8ms/step - loss: 0.6112 - accuracy: 0.7128 - val_loss: 0.5813 - val_accuracy: 0.7148\n",
            "Epoch 5/100\n",
            "313/313 [==============================] - 3s 8ms/step - loss: 0.5667 - accuracy: 0.7272 - val_loss: 0.5562 - val_accuracy: 0.7398\n",
            "Epoch 6/100\n",
            "313/313 [==============================] - 3s 8ms/step - loss: 0.5483 - accuracy: 0.7423 - val_loss: 0.5373 - val_accuracy: 0.7574\n",
            "Epoch 7/100\n",
            "313/313 [==============================] - 3s 8ms/step - loss: 0.5314 - accuracy: 0.7550 - val_loss: 0.5218 - val_accuracy: 0.7668\n",
            "Epoch 8/100\n",
            "313/313 [==============================] - 3s 8ms/step - loss: 0.5150 - accuracy: 0.7663 - val_loss: 0.5086 - val_accuracy: 0.7726\n",
            "Epoch 9/100\n",
            "313/313 [==============================] - 3s 8ms/step - loss: 0.5013 - accuracy: 0.7740 - val_loss: 0.4966 - val_accuracy: 0.7822\n",
            "Epoch 10/100\n",
            "313/313 [==============================] - 3s 8ms/step - loss: 0.4908 - accuracy: 0.7796 - val_loss: 0.4878 - val_accuracy: 0.7822\n",
            "Epoch 11/100\n",
            "313/313 [==============================] - 3s 8ms/step - loss: 0.4812 - accuracy: 0.7828 - val_loss: 0.4777 - val_accuracy: 0.7868\n",
            "Epoch 12/100\n",
            "313/313 [==============================] - 3s 8ms/step - loss: 0.4714 - accuracy: 0.7861 - val_loss: 0.4690 - val_accuracy: 0.7918\n",
            "Epoch 13/100\n",
            "313/313 [==============================] - 3s 8ms/step - loss: 0.4625 - accuracy: 0.7929 - val_loss: 0.4624 - val_accuracy: 0.7914\n",
            "Epoch 14/100\n",
            "313/313 [==============================] - 3s 8ms/step - loss: 0.4543 - accuracy: 0.7940 - val_loss: 0.4562 - val_accuracy: 0.7938\n",
            "Epoch 15/100\n",
            "313/313 [==============================] - 3s 8ms/step - loss: 0.4484 - accuracy: 0.7973 - val_loss: 0.4511 - val_accuracy: 0.7964\n",
            "Epoch 16/100\n",
            "313/313 [==============================] - 3s 8ms/step - loss: 0.4429 - accuracy: 0.7993 - val_loss: 0.4468 - val_accuracy: 0.7980\n",
            "Epoch 17/100\n",
            "313/313 [==============================] - 2s 8ms/step - loss: 0.4394 - accuracy: 0.7995 - val_loss: 0.4442 - val_accuracy: 0.7972\n",
            "Epoch 18/100\n",
            "313/313 [==============================] - 2s 8ms/step - loss: 0.4369 - accuracy: 0.8008 - val_loss: 0.4408 - val_accuracy: 0.8020\n",
            "Epoch 19/100\n",
            "313/313 [==============================] - 2s 8ms/step - loss: 0.4336 - accuracy: 0.8030 - val_loss: 0.4423 - val_accuracy: 0.7978\n",
            "Epoch 20/100\n",
            "313/313 [==============================] - 2s 8ms/step - loss: 0.4303 - accuracy: 0.8045 - val_loss: 0.4371 - val_accuracy: 0.8000\n",
            "Epoch 21/100\n",
            "313/313 [==============================] - 3s 8ms/step - loss: 0.4277 - accuracy: 0.8050 - val_loss: 0.4359 - val_accuracy: 0.8002\n",
            "Epoch 22/100\n",
            "313/313 [==============================] - 2s 8ms/step - loss: 0.4265 - accuracy: 0.8040 - val_loss: 0.4345 - val_accuracy: 0.8028\n",
            "Epoch 23/100\n",
            "313/313 [==============================] - 2s 8ms/step - loss: 0.4267 - accuracy: 0.8056 - val_loss: 0.4351 - val_accuracy: 0.8036\n",
            "Epoch 24/100\n",
            "313/313 [==============================] - 2s 8ms/step - loss: 0.4242 - accuracy: 0.8073 - val_loss: 0.4325 - val_accuracy: 0.8010\n",
            "Epoch 25/100\n",
            "313/313 [==============================] - 2s 8ms/step - loss: 0.4228 - accuracy: 0.8075 - val_loss: 0.4360 - val_accuracy: 0.8028\n",
            "Epoch 26/100\n",
            "313/313 [==============================] - 2s 8ms/step - loss: 0.4216 - accuracy: 0.8094 - val_loss: 0.4321 - val_accuracy: 0.7988\n",
            "Epoch 27/100\n",
            "313/313 [==============================] - 2s 8ms/step - loss: 0.4210 - accuracy: 0.8062 - val_loss: 0.4321 - val_accuracy: 0.8020\n",
            "Epoch 28/100\n",
            "313/313 [==============================] - 2s 8ms/step - loss: 0.4206 - accuracy: 0.8068 - val_loss: 0.4314 - val_accuracy: 0.8042\n",
            "Epoch 29/100\n",
            "313/313 [==============================] - 2s 8ms/step - loss: 0.4199 - accuracy: 0.8074 - val_loss: 0.4315 - val_accuracy: 0.8050\n",
            "Epoch 30/100\n",
            "313/313 [==============================] - 2s 8ms/step - loss: 0.4200 - accuracy: 0.8070 - val_loss: 0.4311 - val_accuracy: 0.8004\n",
            "Epoch 31/100\n",
            "313/313 [==============================] - 3s 8ms/step - loss: 0.4186 - accuracy: 0.8087 - val_loss: 0.4317 - val_accuracy: 0.7990\n",
            "Epoch 32/100\n",
            "313/313 [==============================] - 3s 8ms/step - loss: 0.4177 - accuracy: 0.8101 - val_loss: 0.4315 - val_accuracy: 0.8004\n",
            "Epoch 33/100\n",
            "313/313 [==============================] - 3s 8ms/step - loss: 0.4174 - accuracy: 0.8091 - val_loss: 0.4303 - val_accuracy: 0.8026\n",
            "Epoch 34/100\n",
            "313/313 [==============================] - 3s 8ms/step - loss: 0.4180 - accuracy: 0.8084 - val_loss: 0.4312 - val_accuracy: 0.8048\n",
            "Epoch 35/100\n",
            "313/313 [==============================] - 3s 8ms/step - loss: 0.4173 - accuracy: 0.8084 - val_loss: 0.4313 - val_accuracy: 0.7998\n",
            "Epoch 36/100\n",
            "313/313 [==============================] - 3s 8ms/step - loss: 0.4178 - accuracy: 0.8090 - val_loss: 0.4304 - val_accuracy: 0.8004\n"
          ],
          "name": "stdout"
        }
      ]
    },
    {
      "cell_type": "markdown",
      "metadata": {
        "id": "LYSBmGtG3Olr"
      },
      "source": [
        "최고 성능 : 33에포크에서 검증손실 0.4303 -> 정확도 0.8026\n",
        "\n",
        "드롭아웃 없을때 0.8010이었는데 조금 증가.."
      ]
    },
    {
      "cell_type": "code",
      "metadata": {
        "colab": {
          "base_uri": "https://localhost:8080/",
          "height": 279
        },
        "id": "EDAUMu3oiFyG",
        "outputId": "da40dd73-deda-4ac1-8b5a-80b4663eec15"
      },
      "source": [
        "#약간 검증손실 향상..손실그래프..\n",
        "plt.plot(history.history['loss'])\n",
        "plt.plot(history.history['val_loss'])\n",
        "plt.xlabel('epochs')\n",
        "plt.ylabel('loss')\n",
        "plt.legend(['train', 'val'])\n",
        "plt.show()"
      ],
      "execution_count": 79,
      "outputs": [
        {
          "output_type": "display_data",
          "data": {
            "image/png": "[encoded data removed]",
            "text/plain": [
              "<Figure size 432x288 with 1 Axes>"
            ]
          },
          "metadata": {
            "tags": [],
            "needs_background": "light"
          }
        }
      ]
    },
    {
      "cell_type": "markdown",
      "metadata": {
        "id": "zQ6Pcy4SiV5I"
      },
      "source": [
        "**2개의 층을 연결하기**"
      ]
    },
    {
      "cell_type": "markdown",
      "metadata": {
        "id": "6FNJgv9Oiky4"
      },
      "source": [
        "여러개의 층을 연결할 때 주의할 점\n",
        "\n",
        "- 모든 순환층에 순차데이터가 필요하다\n",
        "\n",
        "- 마지막 층을 제외하고는 모든 은닉상태를 출력해야한다\n",
        "\n",
        "- return_sequences 매개변수를 True로 지정하면 가능하다.."
      ]
    },
    {
      "cell_type": "code",
      "metadata": {
        "id": "WjFjVyDNiUZg"
      },
      "source": [
        "#여러 층을 연결한 새로운 모델..\n",
        "\n",
        "model3 = keras.Sequential()\n",
        "model3.add(keras.layers.Embedding(500,16,input_length = 100))\n",
        "#첫번째 층 추가.. 은닉상태 반환 True 지정\n",
        "model3.add(keras.layers.LSTM(8, dropout=0.3, return_sequences=True))\n",
        "#두번째 층 추가..\n",
        "model3.add(keras.layers.LSTM(8, dropout=0.3))\n",
        "model3.add(keras.layers.Dense(1, activation='sigmoid'))"
      ],
      "execution_count": 80,
      "outputs": []
    },
    {
      "cell_type": "code",
      "metadata": {
        "colab": {
          "base_uri": "https://localhost:8080/"
        },
        "id": "mRM-pNnOjXKo",
        "outputId": "6bea1df9-bc00-460b-f823-3ff011dc622f"
      },
      "source": [
        "#함 보자..\n",
        "model3.summary()"
      ],
      "execution_count": 81,
      "outputs": [
        {
          "output_type": "stream",
          "text": [
            "Model: \"sequential_7\"\n",
            "_________________________________________________________________\n",
            "Layer (type)                 Output Shape              Param #   \n",
            "=================================================================\n",
            "embedding_5 (Embedding)      (None, 100, 16)           8000      \n",
            "_________________________________________________________________\n",
            "lstm_4 (LSTM)                (None, 100, 8)            800       \n",
            "_________________________________________________________________\n",
            "lstm_5 (LSTM)                (None, 8)                 544       \n",
            "_________________________________________________________________\n",
            "dense_7 (Dense)              (None, 1)                 9         \n",
            "=================================================================\n",
            "Total params: 9,353\n",
            "Trainable params: 9,353\n",
            "Non-trainable params: 0\n",
            "_________________________________________________________________\n"
          ],
          "name": "stdout"
        }
      ]
    },
    {
      "cell_type": "markdown",
      "metadata": {
        "id": "y159MT3c3cLB"
      },
      "source": [
        "임베딩 층의 모델 파라미터\n",
        "\n",
        "- 500 (토큰 갯수) * 16 (실수벡터 크기)\n",
        "\n",
        "LSTM 첫번째 층의 모델 파라미터\n",
        "\n",
        "- {16 (실수벡터 크기) * 8 (뉴런의 갯수) + 8 * 8 (서로 순환될 때 뉴런끼리 곱해지는 가중치) + 8 (절편)} * 4 (LSTM층은 셀이 4개) \n",
        "    \n",
        "    ->  200 * 4 = 800\n",
        "\n",
        "LSTM 두번째 층의 모델 파라미터\n",
        "\n",
        "- {8 (입력의 크기) * 8 (뉴런의 갯수) + 8 * 8 (서로 순환될 때 뉴런끼리 곱해지는 가중치) + 8 (절편)} * 4 (LSTM층은 셀이 4개)\n",
        "\n",
        "    -> (64 + 64 + 8) * 4 = 544\n",
        "\n",
        "밀집층의 모델 파라미터\n",
        "\n",
        "- 8 (입력뉴런) * 1 (출력뉴런) + 1 (절편) -> 9"
      ]
    },
    {
      "cell_type": "code",
      "metadata": {
        "colab": {
          "base_uri": "https://localhost:8080/"
        },
        "id": "gXuF4BAwjZ00",
        "outputId": "1cf25058-8c01-4bb0-fa91-feea55a73c5f"
      },
      "source": [
        "#모델 컴파일 및 훈련.. 동일..\n",
        "\n",
        "rmsprop = keras.optimizers.RMSprop(learning_rate=0.0001)\n",
        "model3.compile(optimizer = rmsprop, loss = 'binary_crossentropy', metrics = ['accuracy'])\n",
        "\n",
        "#콜백 지정\n",
        "checkpoint_cb = keras.callbacks.ModelCheckpoint('best-2rnn-model.h5')\n",
        "early_stopping_cb = keras.callbacks.EarlyStopping(patience=3, restore_best_weights=True)\n",
        "\n",
        "#훈련..\n",
        "history = model3.fit(train_seq, train_target, epochs = 100, batch_size=64, validation_data=(val_seq, val_target),\n",
        "                     callbacks=[checkpoint_cb, early_stopping_cb])"
      ],
      "execution_count": 82,
      "outputs": [
        {
          "output_type": "stream",
          "text": [
            "Epoch 1/100\n",
            "313/313 [==============================] - 8s 15ms/step - loss: 0.6926 - accuracy: 0.5312 - val_loss: 0.6920 - val_accuracy: 0.5264\n",
            "Epoch 2/100\n",
            "313/313 [==============================] - 4s 13ms/step - loss: 0.6897 - accuracy: 0.5551 - val_loss: 0.6870 - val_accuracy: 0.6040\n",
            "Epoch 3/100\n",
            "313/313 [==============================] - 4s 13ms/step - loss: 0.6750 - accuracy: 0.6102 - val_loss: 0.6575 - val_accuracy: 0.6712\n",
            "Epoch 4/100\n",
            "313/313 [==============================] - 4s 13ms/step - loss: 0.6164 - accuracy: 0.6987 - val_loss: 0.5829 - val_accuracy: 0.7242\n",
            "Epoch 5/100\n",
            "313/313 [==============================] - 4s 12ms/step - loss: 0.5636 - accuracy: 0.7319 - val_loss: 0.5443 - val_accuracy: 0.7444\n",
            "Epoch 6/100\n",
            "313/313 [==============================] - 4s 13ms/step - loss: 0.5384 - accuracy: 0.7433 - val_loss: 0.5248 - val_accuracy: 0.7508\n",
            "Epoch 7/100\n",
            "313/313 [==============================] - 4s 13ms/step - loss: 0.5185 - accuracy: 0.7536 - val_loss: 0.5046 - val_accuracy: 0.7658\n",
            "Epoch 8/100\n",
            "313/313 [==============================] - 4s 13ms/step - loss: 0.5052 - accuracy: 0.7631 - val_loss: 0.4925 - val_accuracy: 0.7706\n",
            "Epoch 9/100\n",
            "313/313 [==============================] - 4s 14ms/step - loss: 0.4932 - accuracy: 0.7724 - val_loss: 0.4832 - val_accuracy: 0.7748\n",
            "Epoch 10/100\n",
            "313/313 [==============================] - 4s 14ms/step - loss: 0.4846 - accuracy: 0.7770 - val_loss: 0.4776 - val_accuracy: 0.7740\n",
            "Epoch 11/100\n",
            "313/313 [==============================] - 4s 14ms/step - loss: 0.4736 - accuracy: 0.7834 - val_loss: 0.4686 - val_accuracy: 0.7798\n",
            "Epoch 12/100\n",
            "313/313 [==============================] - 4s 13ms/step - loss: 0.4684 - accuracy: 0.7864 - val_loss: 0.4641 - val_accuracy: 0.7838\n",
            "Epoch 13/100\n",
            "313/313 [==============================] - 4s 13ms/step - loss: 0.4643 - accuracy: 0.7878 - val_loss: 0.4611 - val_accuracy: 0.7824\n",
            "Epoch 14/100\n",
            "313/313 [==============================] - 4s 13ms/step - loss: 0.4592 - accuracy: 0.7910 - val_loss: 0.4565 - val_accuracy: 0.7874\n",
            "Epoch 15/100\n",
            "313/313 [==============================] - 4s 12ms/step - loss: 0.4546 - accuracy: 0.7902 - val_loss: 0.4535 - val_accuracy: 0.7864\n",
            "Epoch 16/100\n",
            "313/313 [==============================] - 4s 12ms/step - loss: 0.4523 - accuracy: 0.7946 - val_loss: 0.4523 - val_accuracy: 0.7886\n",
            "Epoch 17/100\n",
            "313/313 [==============================] - 4s 12ms/step - loss: 0.4495 - accuracy: 0.7936 - val_loss: 0.4493 - val_accuracy: 0.7908\n",
            "Epoch 18/100\n",
            "313/313 [==============================] - 4s 13ms/step - loss: 0.4442 - accuracy: 0.7987 - val_loss: 0.4475 - val_accuracy: 0.7942\n",
            "Epoch 19/100\n",
            "313/313 [==============================] - 4s 13ms/step - loss: 0.4429 - accuracy: 0.8010 - val_loss: 0.4447 - val_accuracy: 0.7932\n",
            "Epoch 20/100\n",
            "313/313 [==============================] - 4s 13ms/step - loss: 0.4421 - accuracy: 0.7969 - val_loss: 0.4490 - val_accuracy: 0.7930\n",
            "Epoch 21/100\n",
            "313/313 [==============================] - 4s 13ms/step - loss: 0.4384 - accuracy: 0.7999 - val_loss: 0.4423 - val_accuracy: 0.7932\n",
            "Epoch 22/100\n",
            "313/313 [==============================] - 4s 13ms/step - loss: 0.4373 - accuracy: 0.8009 - val_loss: 0.4530 - val_accuracy: 0.7830\n",
            "Epoch 23/100\n",
            "313/313 [==============================] - 4s 13ms/step - loss: 0.4364 - accuracy: 0.8033 - val_loss: 0.4397 - val_accuracy: 0.7968\n",
            "Epoch 24/100\n",
            "313/313 [==============================] - 4s 13ms/step - loss: 0.4365 - accuracy: 0.8011 - val_loss: 0.4393 - val_accuracy: 0.7952\n",
            "Epoch 25/100\n",
            "313/313 [==============================] - 4s 13ms/step - loss: 0.4337 - accuracy: 0.8013 - val_loss: 0.4406 - val_accuracy: 0.7966\n",
            "Epoch 26/100\n",
            "313/313 [==============================] - 4s 13ms/step - loss: 0.4315 - accuracy: 0.8034 - val_loss: 0.4398 - val_accuracy: 0.7930\n",
            "Epoch 27/100\n",
            "313/313 [==============================] - 4s 13ms/step - loss: 0.4323 - accuracy: 0.8040 - val_loss: 0.4372 - val_accuracy: 0.7962\n",
            "Epoch 28/100\n",
            "313/313 [==============================] - 4s 13ms/step - loss: 0.4303 - accuracy: 0.8019 - val_loss: 0.4372 - val_accuracy: 0.7982\n",
            "Epoch 29/100\n",
            "313/313 [==============================] - 4s 13ms/step - loss: 0.4279 - accuracy: 0.8064 - val_loss: 0.4359 - val_accuracy: 0.7986\n",
            "Epoch 30/100\n",
            "313/313 [==============================] - 4s 13ms/step - loss: 0.4278 - accuracy: 0.8061 - val_loss: 0.4357 - val_accuracy: 0.7990\n",
            "Epoch 31/100\n",
            "313/313 [==============================] - 4s 12ms/step - loss: 0.4278 - accuracy: 0.8037 - val_loss: 0.4446 - val_accuracy: 0.7964\n",
            "Epoch 32/100\n",
            "313/313 [==============================] - 4s 12ms/step - loss: 0.4267 - accuracy: 0.8062 - val_loss: 0.4373 - val_accuracy: 0.7960\n",
            "Epoch 33/100\n",
            "313/313 [==============================] - 4s 13ms/step - loss: 0.4245 - accuracy: 0.8081 - val_loss: 0.4339 - val_accuracy: 0.8026\n",
            "Epoch 34/100\n",
            "313/313 [==============================] - 4s 13ms/step - loss: 0.4259 - accuracy: 0.8049 - val_loss: 0.4343 - val_accuracy: 0.7996\n",
            "Epoch 35/100\n",
            "313/313 [==============================] - 4s 13ms/step - loss: 0.4247 - accuracy: 0.8048 - val_loss: 0.4330 - val_accuracy: 0.8010\n",
            "Epoch 36/100\n",
            "313/313 [==============================] - 4s 13ms/step - loss: 0.4246 - accuracy: 0.8084 - val_loss: 0.4359 - val_accuracy: 0.8010\n",
            "Epoch 37/100\n",
            "313/313 [==============================] - 4s 13ms/step - loss: 0.4236 - accuracy: 0.8070 - val_loss: 0.4333 - val_accuracy: 0.8002\n",
            "Epoch 38/100\n",
            "313/313 [==============================] - 4s 13ms/step - loss: 0.4233 - accuracy: 0.8068 - val_loss: 0.4341 - val_accuracy: 0.8008\n"
          ],
          "name": "stdout"
        }
      ]
    },
    {
      "cell_type": "markdown",
      "metadata": {
        "id": "KjXKuXPb47i5"
      },
      "source": [
        "최고 성능 : 35에포크에 검증손실 0.4330  ->  정확도 0.8010\n",
        "\n",
        "일반적으로 층을 쌓으면 더 성능이 좋아지는데 나는 그렇지는 않네.."
      ]
    },
    {
      "cell_type": "code",
      "metadata": {
        "colab": {
          "base_uri": "https://localhost:8080/",
          "height": 279
        },
        "id": "zxR-_j1ZkJsm",
        "outputId": "38c15235-0781-4129-fd37-7c4080f0078e"
      },
      "source": [
        "#그림..\n",
        "\n",
        "plt.plot(history.history['loss'])\n",
        "plt.plot(history.history['val_loss'])\n",
        "plt.xlabel('epochs')\n",
        "plt.ylabel('loss')\n",
        "plt.legend(['train', 'val'])\n",
        "plt.show()"
      ],
      "execution_count": 83,
      "outputs": [
        {
          "output_type": "display_data",
          "data": {
            "image/png": "[encoded data removed]",
            "text/plain": [
              "<Figure size 432x288 with 1 Axes>"
            ]
          },
          "metadata": {
            "tags": [],
            "needs_background": "light"
          }
        }
      ]
    },
    {
      "cell_type": "markdown",
      "metadata": {
        "id": "J2wLnB1bk6pJ"
      },
      "source": [
        "**GRU 구조**\n",
        "\n",
        "- Gated Recurrent Unit의 약자..  LSTM을 간소화한 버전\n",
        "\n",
        "- 은닉상태만 가진다..\n",
        "\n",
        "- 3개의 셀로 이루어짐 ( 시그모이드 2, tanh 1 )"
      ]
    },
    {
      "cell_type": "markdown",
      "metadata": {
        "id": "2KjQtnBQDxYD"
      },
      "source": [
        "**다음 은닉상태 값 계산**\n",
        "\n",
        "각각의 셀의 입력과 이전 은닉상태를 위한 가중치를 W1, W2, W3이라고 하자\n",
        "\n",
        "    - A : 입력과 이전 은닉상태에 가중치 W1을 곱해서 시그모이드를 통과한 값\n",
        "\n",
        "    - B : 입력과 이전 은닉상태에 가중치 W2를 곱해서 시그모이드를 통과한 값\n",
        "\n",
        "    - C : 입력과 (B의 값과 이전 은닉상태를 곱한 값)에 가중치 W3을 곱해서 tanh를 통과한 값\n",
        "    \n",
        "        -> B가 C에 들어가는 이전 은닉상태의 비율을 조절한다고 생각하면 된다 \n",
        "\n",
        "**!!결과!!**\n",
        "\n",
        "은닉상태 = A * { 이전 은닉상태 + ( 1 - A ) * C }"
      ]
    },
    {
      "cell_type": "markdown",
      "metadata": {
        "id": "IbpOMYXoE3mw"
      },
      "source": [
        "GRU 가 모델 파라미터는 적지만 LSTM에 못지않은 좋은 성능을 낸다.."
      ]
    },
    {
      "cell_type": "markdown",
      "metadata": {
        "id": "fZhCxeR8k9CW"
      },
      "source": [
        "**GRU 신경망 훈련하기**"
      ]
    },
    {
      "cell_type": "code",
      "metadata": {
        "id": "spy7DuJGlQ2c"
      },
      "source": [
        "#LSTM 클래스를 GRU 클래스로 바꾼것 외에는 모두 동일하다..\n",
        "\n",
        "model4 = keras.Sequential()\n",
        "model4.add(keras.layers.Embedding(500,16,input_length=100))\n",
        "model4.add(keras.layers.GRU(8))\n",
        "model4.add(keras.layers.Dense(1, activation='sigmoid'))"
      ],
      "execution_count": 84,
      "outputs": []
    },
    {
      "cell_type": "code",
      "metadata": {
        "colab": {
          "base_uri": "https://localhost:8080/"
        },
        "id": "M42iXI2Tljx-",
        "outputId": "12a3e0f9-22be-4283-8cdc-b3421925dc64"
      },
      "source": [
        "#함보자..\n",
        "model4.summary()"
      ],
      "execution_count": 85,
      "outputs": [
        {
          "output_type": "stream",
          "text": [
            "Model: \"sequential_8\"\n",
            "_________________________________________________________________\n",
            "Layer (type)                 Output Shape              Param #   \n",
            "=================================================================\n",
            "embedding_6 (Embedding)      (None, 100, 16)           8000      \n",
            "_________________________________________________________________\n",
            "gru (GRU)                    (None, 8)                 624       \n",
            "_________________________________________________________________\n",
            "dense_8 (Dense)              (None, 1)                 9         \n",
            "=================================================================\n",
            "Total params: 8,633\n",
            "Trainable params: 8,633\n",
            "Non-trainable params: 0\n",
            "_________________________________________________________________\n"
          ],
          "name": "stdout"
        }
      ]
    },
    {
      "cell_type": "markdown",
      "metadata": {
        "id": "FEFJ2QA0E_EZ"
      },
      "source": [
        "임베딩 층의 모델 파라미터\n",
        "\n",
        "- 500 (토큰 갯수) * 16 (실수벡터 크기)\n",
        "\n",
        "GRU 층의 모델 파라미터\n",
        "\n",
        "- 원래 앞의 설명대로라면 3개의 셀이 있으니 200 * 3 해서 600이어야 한다\n",
        "- 근데 텐서플로에서는 GPU를 사용하기 위해 C가 계산될 때 절편이 하나 추가된다..\n",
        "    \n",
        "    -> 이전 은닉상태에 가중치 먼저 곱해지고 절편 더해지고, 입력은 또 따로 가중치에 곱해지고 또다른 절편이 더해진다.\n",
        "    \n",
        "    -> 여기서 절편(모델 파라미터)하나가 추가된다..\n",
        "- 결국 계산은 다음과 같다\n",
        "\n",
        "    - {16 (실수벡터 크기) * 8 (뉴런의 갯수) + 8 * 8 (서로 순환될 때 뉴런끼리 곱해지는 가중치) + 8 (절편) + 8 (GPU사용을 위해 추가된 절편)} * 3 (GRU층은 셀이 4개) \n",
        "    - 624개의 모델 파라미터..\n",
        "\n",
        "밀집층의 모델 파라미터\n",
        "\n",
        "- 8(입력 뉴런) * 1(출력 뉴런) + 1(절편) -> 9"
      ]
    },
    {
      "cell_type": "code",
      "metadata": {
        "colab": {
          "base_uri": "https://localhost:8080/"
        },
        "id": "5_Hv9_0AlmZx",
        "outputId": "09ada00a-3733-40e6-9d01-d99fbb0677f7"
      },
      "source": [
        "#모델 훈련..\n",
        "\n",
        "rmsprop = keras.optimizers.RMSprop(learning_rate=0.0001)\n",
        "model4.compile(optimizer = rmsprop, loss = 'binary_crossentropy', metrics=['accuracy'])\n",
        "\n",
        "#콜백 지정..\n",
        "checkpoint_cb = keras.callbacks.ModelCheckpoint('best-GRU-model.h5')\n",
        "early_stopping_cb = keras.callbacks.EarlyStopping(patience=3, restore_best_weights=True)\n",
        "\n",
        "#훈련..\n",
        "history = model4.fit(train_seq, train_target, epochs = 100, batch_size=64, validation_data=(val_seq, val_target),\n",
        "                     callbacks=[checkpoint_cb, early_stopping_cb])"
      ],
      "execution_count": 86,
      "outputs": [
        {
          "output_type": "stream",
          "text": [
            "Epoch 1/100\n",
            "313/313 [==============================] - 4s 9ms/step - loss: 0.6923 - accuracy: 0.5242 - val_loss: 0.6911 - val_accuracy: 0.5548\n",
            "Epoch 2/100\n",
            "313/313 [==============================] - 2s 7ms/step - loss: 0.6895 - accuracy: 0.5763 - val_loss: 0.6881 - val_accuracy: 0.5828\n",
            "Epoch 3/100\n",
            "313/313 [==============================] - 2s 7ms/step - loss: 0.6852 - accuracy: 0.6007 - val_loss: 0.6835 - val_accuracy: 0.6010\n",
            "Epoch 4/100\n",
            "313/313 [==============================] - 2s 7ms/step - loss: 0.6785 - accuracy: 0.6222 - val_loss: 0.6761 - val_accuracy: 0.6168\n",
            "Epoch 5/100\n",
            "313/313 [==============================] - 2s 8ms/step - loss: 0.6682 - accuracy: 0.6371 - val_loss: 0.6643 - val_accuracy: 0.6274\n",
            "Epoch 6/100\n",
            "313/313 [==============================] - 2s 8ms/step - loss: 0.6525 - accuracy: 0.6522 - val_loss: 0.6469 - val_accuracy: 0.6414\n",
            "Epoch 7/100\n",
            "313/313 [==============================] - 2s 7ms/step - loss: 0.6281 - accuracy: 0.6732 - val_loss: 0.6191 - val_accuracy: 0.6726\n",
            "Epoch 8/100\n",
            "313/313 [==============================] - 2s 7ms/step - loss: 0.5867 - accuracy: 0.7006 - val_loss: 0.5696 - val_accuracy: 0.7172\n",
            "Epoch 9/100\n",
            "313/313 [==============================] - 2s 7ms/step - loss: 0.5278 - accuracy: 0.7417 - val_loss: 0.5235 - val_accuracy: 0.7442\n",
            "Epoch 10/100\n",
            "313/313 [==============================] - 2s 7ms/step - loss: 0.4998 - accuracy: 0.7613 - val_loss: 0.5051 - val_accuracy: 0.7586\n",
            "Epoch 11/100\n",
            "313/313 [==============================] - 2s 7ms/step - loss: 0.4847 - accuracy: 0.7708 - val_loss: 0.4962 - val_accuracy: 0.7704\n",
            "Epoch 12/100\n",
            "313/313 [==============================] - 2s 7ms/step - loss: 0.4741 - accuracy: 0.7799 - val_loss: 0.4832 - val_accuracy: 0.7698\n",
            "Epoch 13/100\n",
            "313/313 [==============================] - 2s 7ms/step - loss: 0.4643 - accuracy: 0.7857 - val_loss: 0.4763 - val_accuracy: 0.7766\n",
            "Epoch 14/100\n",
            "313/313 [==============================] - 2s 8ms/step - loss: 0.4575 - accuracy: 0.7903 - val_loss: 0.4704 - val_accuracy: 0.7806\n",
            "Epoch 15/100\n",
            "313/313 [==============================] - 3s 8ms/step - loss: 0.4511 - accuracy: 0.7945 - val_loss: 0.4680 - val_accuracy: 0.7770\n",
            "Epoch 16/100\n",
            "313/313 [==============================] - 3s 8ms/step - loss: 0.4463 - accuracy: 0.7975 - val_loss: 0.4623 - val_accuracy: 0.7808\n",
            "Epoch 17/100\n",
            "313/313 [==============================] - 3s 8ms/step - loss: 0.4418 - accuracy: 0.8009 - val_loss: 0.4600 - val_accuracy: 0.7832\n",
            "Epoch 18/100\n",
            "313/313 [==============================] - 3s 8ms/step - loss: 0.4383 - accuracy: 0.8023 - val_loss: 0.4561 - val_accuracy: 0.7882\n",
            "Epoch 19/100\n",
            "313/313 [==============================] - 3s 8ms/step - loss: 0.4351 - accuracy: 0.8067 - val_loss: 0.4539 - val_accuracy: 0.7880\n",
            "Epoch 20/100\n",
            "313/313 [==============================] - 3s 8ms/step - loss: 0.4324 - accuracy: 0.8051 - val_loss: 0.4536 - val_accuracy: 0.7862\n",
            "Epoch 21/100\n",
            "313/313 [==============================] - 3s 8ms/step - loss: 0.4302 - accuracy: 0.8081 - val_loss: 0.4509 - val_accuracy: 0.7930\n",
            "Epoch 22/100\n",
            "313/313 [==============================] - 3s 8ms/step - loss: 0.4279 - accuracy: 0.8080 - val_loss: 0.4537 - val_accuracy: 0.7962\n",
            "Epoch 23/100\n",
            "313/313 [==============================] - 3s 8ms/step - loss: 0.4260 - accuracy: 0.8104 - val_loss: 0.4501 - val_accuracy: 0.7926\n",
            "Epoch 24/100\n",
            "313/313 [==============================] - 3s 8ms/step - loss: 0.4247 - accuracy: 0.8130 - val_loss: 0.4490 - val_accuracy: 0.7938\n",
            "Epoch 25/100\n",
            "313/313 [==============================] - 3s 8ms/step - loss: 0.4230 - accuracy: 0.8131 - val_loss: 0.4497 - val_accuracy: 0.7882\n",
            "Epoch 26/100\n",
            "313/313 [==============================] - 2s 8ms/step - loss: 0.4220 - accuracy: 0.8122 - val_loss: 0.4471 - val_accuracy: 0.7928\n",
            "Epoch 27/100\n",
            "313/313 [==============================] - 2s 7ms/step - loss: 0.4207 - accuracy: 0.8130 - val_loss: 0.4487 - val_accuracy: 0.7888\n",
            "Epoch 28/100\n",
            "313/313 [==============================] - 2s 8ms/step - loss: 0.4197 - accuracy: 0.8141 - val_loss: 0.4461 - val_accuracy: 0.7900\n",
            "Epoch 29/100\n",
            "313/313 [==============================] - 2s 8ms/step - loss: 0.4187 - accuracy: 0.8152 - val_loss: 0.4471 - val_accuracy: 0.7880\n",
            "Epoch 30/100\n",
            "313/313 [==============================] - 3s 8ms/step - loss: 0.4181 - accuracy: 0.8158 - val_loss: 0.4483 - val_accuracy: 0.7932\n",
            "Epoch 31/100\n",
            "313/313 [==============================] - 2s 8ms/step - loss: 0.4176 - accuracy: 0.8149 - val_loss: 0.4463 - val_accuracy: 0.7890\n"
          ],
          "name": "stdout"
        }
      ]
    },
    {
      "cell_type": "code",
      "metadata": {
        "colab": {
          "base_uri": "https://localhost:8080/",
          "height": 279
        },
        "id": "SRw8Syu_mBqe",
        "outputId": "61ed8951-5b13-48d4-ce9e-be752a27b0c9"
      },
      "source": [
        "#그림..\n",
        "\n",
        "plt.plot(history.history['loss'])\n",
        "plt.plot(history.history['val_loss'])\n",
        "plt.xlabel('epochs')\n",
        "plt.ylabel('loss')\n",
        "plt.legend(['train', 'val'])\n",
        "plt.show()"
      ],
      "execution_count": 87,
      "outputs": [
        {
          "output_type": "display_data",
          "data": {
            "image/png": "[encoded data removed]",
            "text/plain": [
              "<Figure size 432x288 with 1 Axes>"
            ]
          },
          "metadata": {
            "tags": [],
            "needs_background": "light"
          }
        }
      ]
    },
    {
      "cell_type": "markdown",
      "metadata": {
        "id": "a5MpA_22mNNh"
      },
      "source": [
        "**LSTM과 GRU 셀로 훈련**\n",
        "\n",
        "해보니까 2개의 LSTM 순환층을 쌓은 'best-2rnn-model.h5'가 가장 좋았다..\n",
        "\n",
        "불러와서 테스트 세트의 성능을 한번 보자.."
      ]
    },
    {
      "cell_type": "code",
      "metadata": {
        "colab": {
          "base_uri": "https://localhost:8080/"
        },
        "id": "bVCxjYeEmcn8",
        "outputId": "917cc0f3-fa36-4253-c46b-845e805ce796"
      },
      "source": [
        "#테스트 세트 준비..\n",
        "test_seq = pad_sequences(test_input, maxlen=100)\n",
        "\n",
        "#최고 모델 불러오기\n",
        "best_rnn_model = keras.models.load_model('best-2rnn-model.h5')\n",
        "\n",
        "#테스트 성능 평가\n",
        "best_rnn_model.evaluate(test_seq, test_target)"
      ],
      "execution_count": 90,
      "outputs": [
        {
          "output_type": "stream",
          "text": [
            "782/782 [==============================] - 5s 5ms/step - loss: 0.4287 - accuracy: 0.7989\n"
          ],
          "name": "stdout"
        },
        {
          "output_type": "execute_result",
          "data": {
            "text/plain": [
              "[0.42869535088539124, 0.7989199757575989]"
            ]
          },
          "metadata": {
            "tags": []
          },
          "execution_count": 90
        }
      ]
    },
    {
      "cell_type": "markdown",
      "metadata": {
        "id": "mGO91BMhGPTe"
      },
      "source": [
        "#전체 정리"
      ]
    },
    {
      "cell_type": "markdown",
      "metadata": {
        "id": "bEpZhlWgGSJE"
      },
      "source": [
        "- 순차데이터는 샘플의 이전 내용을 기억해야한다.. -> 순환신경망\n",
        "\n",
        "- SimpleRNN 클래스로 순환신경망을 만들수 있다..\n",
        "\n",
        "- 원핫인코딩\n",
        "\n",
        "    - 어휘사전의 갯수만큼 원핫인코딩(0, 1로 바꿈)한다 -> 입력데이터가 너무 커짐\n",
        "\n",
        "- 단어임베딩\n",
        "\n",
        "    - 변형된 숫자 그대로 실수벡터로 바꾼다..\n",
        "    - 원핫인코딩보다 순환층에서 학습하는 모델 파라미터가 훨씬 줄어든다\n",
        "\n",
        "\n",
        "    -> Simple RNN은 타임스텝이 오래지나면 오래된 데이터는 희미해진다는 단점이 있다.\n",
        "\n",
        "- 이를 보완하기 위해서 LSTM, GRU 셀이 개발됨\n",
        "\n",
        "    1) LSTM\n",
        "\n",
        "        - 셀이 4개\n",
        "        - 셀상태/ 은닉상태가 순환\n",
        "        - 앙 복잡띠..\n",
        "    \n",
        "    2) GRU\n",
        "\n",
        "        - LSTM을 간소화한 모델\n",
        "        - 셀이 3개\n",
        "        - 은닉상태만 순환\n",
        "        - summary() 메서드에서 모델파라미터 갯수가 오차가 날 수 있음 (GPU 사용을 위함)"
      ]
    }
  ]
}