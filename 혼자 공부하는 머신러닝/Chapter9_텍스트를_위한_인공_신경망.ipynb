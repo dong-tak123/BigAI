{
  "nbformat": 4,
  "nbformat_minor": 0,
  "metadata": {
    "colab": {
      "name": "Chapter9. 텍스트를 위한 인공 신경망",
      "provenance": [],
      "collapsed_sections": []
    },
    "kernelspec": {
      "name": "python3",
      "display_name": "Python 3"
    },
    "language_info": {
      "name": "python"
    }
  },
  "cells": [
    {
      "cell_type": "markdown",
      "metadata": {
        "id": "EzvvXYfz6Jy8"
      },
      "source": [
        "#9.1 순차 데이터와 순환 신경망"
      ]
    },
    {
      "cell_type": "markdown",
      "metadata": {
        "id": "ujsmZqeIVrdL"
      },
      "source": [
        "**순차 데이터**\n",
        "\n",
        "- 텍스트나 시계열 데이터와 같이 순서에 의미가 있는 데이터\n",
        "- 이를 다룰 때는 이전에 입력한 데이터를 기억하는 능력이 필요하다\n",
        "- 다음 샘플을 위해서 이전 데이터가 신경망 층에 순환될 필요가 있다 -> **순환신경망(RNN)**이라고 부른다"
      ]
    },
    {
      "cell_type": "markdown",
      "metadata": {
        "id": "opILL3rGWx_y"
      },
      "source": [
        "**피드포워드 신경망**\n",
        "\n",
        "- 입력데이터의 흐름이 앞으로만 전달되는 신경망\n",
        "- 한번 샘플을 쓰고 버리는 신경망\n",
        "- ex) 완전 연결 신경망, 합성곱 신경망"
      ]
    },
    {
      "cell_type": "markdown",
      "metadata": {
        "id": "yG8Cx0JzWhRp"
      },
      "source": [
        "**순환 신경망(RNN)**"
      ]
    },
    {
      "cell_type": "markdown",
      "metadata": {
        "id": "2YxVm-uyXCVj"
      },
      "source": [
        "타임스텝\n",
        "\n",
        "- 샘플을 처리하는 한 단계\n",
        "\n",
        "셀\n",
        "\n",
        "- 층\n",
        "\n",
        "은닉 상태\n",
        "\n",
        "- 셀의 출력\n",
        "\n"
      ]
    },
    {
      "cell_type": "markdown",
      "metadata": {
        "id": "knzOGRhHXWWM"
      },
      "source": [
        "- 다음 샘플의 은닉상태를 만들기 위해서 이전 타임스텝의 은닉상태를 이용한다\n",
        "\n",
        "- 타임스텝이 지날 수록 오래된 샘플에 대한 정보는 희미해진다\n",
        "\n",
        "- 활성화 함수도 꼭 필요하고, 보통 tanh함수를 많이 쓴다\n",
        "\n",
        "- 순환 신경망의 모델파라미터\n",
        "\n",
        "    - 입력(샘플)에 곱해지는 가중치 (Wx)\n",
        "    - 재사용하는 은닉상태에 곱해지는 가중치  (Wh)  (1개 뿐)\n",
        "    - 절편  (b)\n",
        "\n",
        "- 은닉상태 = (Wx) * (입력) + (Wh) * (이전 타임스텝의 은닉상태) + b"
      ]
    },
    {
      "cell_type": "markdown",
      "metadata": {
        "id": "gzRDAW62Zbgu"
      },
      "source": [
        "**셀의 가중치와 입출력**"
      ]
    },
    {
      "cell_type": "markdown",
      "metadata": {
        "id": "TiHljLN66QQR"
      },
      "source": [
        "#9.2 순환 신경망으로 IMDB 리뷰  분류하기"
      ]
    },
    {
      "cell_type": "markdown",
      "metadata": {
        "id": "eVYBG0uD79oI"
      },
      "source": [
        "자연어 처리\n",
        "\n",
        "- 컴퓨터를 사용해 인간의 언어를 처리하는 분야\n",
        "- 말뭉치 : 훈련데이터"
      ]
    },
    {
      "cell_type": "markdown",
      "metadata": {
        "id": "SqIpl2GI6WE4"
      },
      "source": [
        "**IMDB 리뷰 데이터셋**"
      ]
    },
    {
      "cell_type": "markdown",
      "metadata": {
        "id": "b9G0cvJx7pBY"
      },
      "source": [
        "- 인터넷 영화 데이터베이스 imdb.com에서 수집한 리뷰를 긍정과 부정으로 분류해놓은 데이터셋\n",
        "- 50000개의 샘플, 25000개 씩 훈련, 테스트 데이터\n",
        "- 텍스트를 어떤 숫자 데이터로 바꾼다..(일반적으로 등장하는 단어마다 고유한 정수를 부여한다)\n",
        "- 그렇게 분리된 단어를 **토큰**이라고 한다\n",
        "- 토큰 중에 특이한 토큰도 있다\n",
        "\n",
        "    - 0: 패딩, 1: 문장의 시작, 2: 어휘사전에 없는 토큰\n",
        "\n",
        "- 어휘사전 : 훈련 세트에서 고유한 단어를 뽑아 만든 목록"
      ]
    },
    {
      "cell_type": "code",
      "metadata": {
        "colab": {
          "base_uri": "https://localhost:8080/"
        },
        "id": "dRu1N-Yc6V3n",
        "outputId": "3c5fd2cd-6af0-430d-ce89-ecfb6447e9f4"
      },
      "source": [
        "#데이터 가져오기\n",
        "#num_words 매개변수를 사용해서 데이터셋에서 가장 자주 등장하는 단어 몇개만 사용할지 지정\n",
        "#즉, 어휘사전의 갯수를 지정..\n",
        "\n",
        "from tensorflow.keras.datasets import imdb\n",
        "(train_input, train_target), (test_input, test_target) = imdb.load_data(num_words = 500)"
      ],
      "execution_count": 1,
      "outputs": [
        {
          "output_type": "stream",
          "text": [
            "Downloading data from https://storage.googleapis.com/tensorflow/tf-keras-datasets/imdb.npz\n",
            "17465344/17464789 [==============================] - 0s 0us/step\n"
          ],
          "name": "stdout"
        },
        {
          "output_type": "stream",
          "text": [
            "<string>:6: VisibleDeprecationWarning: Creating an ndarray from ragged nested sequences (which is a list-or-tuple of lists-or-tuples-or ndarrays with different lengths or shapes) is deprecated. If you meant to do this, you must specify 'dtype=object' when creating the ndarray\n",
            "/usr/local/lib/python3.7/dist-packages/tensorflow/python/keras/datasets/imdb.py:155: VisibleDeprecationWarning: Creating an ndarray from ragged nested sequences (which is a list-or-tuple of lists-or-tuples-or ndarrays with different lengths or shapes) is deprecated. If you meant to do this, you must specify 'dtype=object' when creating the ndarray\n",
            "  x_train, y_train = np.array(xs[:idx]), np.array(labels[:idx])\n",
            "/usr/local/lib/python3.7/dist-packages/tensorflow/python/keras/datasets/imdb.py:156: VisibleDeprecationWarning: Creating an ndarray from ragged nested sequences (which is a list-or-tuple of lists-or-tuples-or ndarrays with different lengths or shapes) is deprecated. If you meant to do this, you must specify 'dtype=object' when creating the ndarray\n",
            "  x_test, y_test = np.array(xs[idx:]), np.array(labels[idx:])\n"
          ],
          "name": "stderr"
        }
      ]
    },
    {
      "cell_type": "code",
      "metadata": {
        "colab": {
          "base_uri": "https://localhost:8080/"
        },
        "id": "wu6Lt7t16MqS",
        "outputId": "ed45a35a-e799-4b87-9265-426162f50d0f"
      },
      "source": [
        "print(train_input.shape, test_input.shape)\n",
        "\n",
        "#리뷰 텍스트의 길이가 제각각이라서 1차원 리스트에 담는게 효율적이다.\n",
        "#[리뷰1, 리뷰2, ...] 이런식으로.."
      ],
      "execution_count": 3,
      "outputs": [
        {
          "output_type": "stream",
          "text": [
            "(25000,) (25000,)\n"
          ],
          "name": "stdout"
        }
      ]
    },
    {
      "cell_type": "code",
      "metadata": {
        "colab": {
          "base_uri": "https://localhost:8080/"
        },
        "id": "xet0fbJx6B48",
        "outputId": "fe00da09-37cd-46e4-90c6-7ffe5b0c8ef3"
      },
      "source": [
        "print(len(train_input[0]))\n",
        "\n",
        "#218개의 토큰으로 이루어짐.."
      ],
      "execution_count": 4,
      "outputs": [
        {
          "output_type": "stream",
          "text": [
            "218\n"
          ],
          "name": "stdout"
        }
      ]
    },
    {
      "cell_type": "code",
      "metadata": {
        "colab": {
          "base_uri": "https://localhost:8080/"
        },
        "id": "8s3zFxbZ7TxY",
        "outputId": "707c97b4-0266-4b61-bcfd-5fd20531a36e"
      },
      "source": [
        "print(len(train_input[1]))"
      ],
      "execution_count": 5,
      "outputs": [
        {
          "output_type": "stream",
          "text": [
            "189\n"
          ],
          "name": "stdout"
        }
      ]
    },
    {
      "cell_type": "code",
      "metadata": {
        "colab": {
          "base_uri": "https://localhost:8080/"
        },
        "id": "zUXXblNr7hRx",
        "outputId": "04a0ad08-a4eb-41ec-9d11-f24d2a977f3d"
      },
      "source": [
        "print(train_input[0])\n",
        "#어휘세트 500개에 없는 단어는 2.."
      ],
      "execution_count": 6,
      "outputs": [
        {
          "output_type": "stream",
          "text": [
            "[1, 14, 22, 16, 43, 2, 2, 2, 2, 65, 458, 2, 66, 2, 4, 173, 36, 256, 5, 25, 100, 43, 2, 112, 50, 2, 2, 9, 35, 480, 284, 5, 150, 4, 172, 112, 167, 2, 336, 385, 39, 4, 172, 2, 2, 17, 2, 38, 13, 447, 4, 192, 50, 16, 6, 147, 2, 19, 14, 22, 4, 2, 2, 469, 4, 22, 71, 87, 12, 16, 43, 2, 38, 76, 15, 13, 2, 4, 22, 17, 2, 17, 12, 16, 2, 18, 2, 5, 62, 386, 12, 8, 316, 8, 106, 5, 4, 2, 2, 16, 480, 66, 2, 33, 4, 130, 12, 16, 38, 2, 5, 25, 124, 51, 36, 135, 48, 25, 2, 33, 6, 22, 12, 215, 28, 77, 52, 5, 14, 407, 16, 82, 2, 8, 4, 107, 117, 2, 15, 256, 4, 2, 7, 2, 5, 2, 36, 71, 43, 2, 476, 26, 400, 317, 46, 7, 4, 2, 2, 13, 104, 88, 4, 381, 15, 297, 98, 32, 2, 56, 26, 141, 6, 194, 2, 18, 4, 226, 22, 21, 134, 476, 26, 480, 5, 144, 30, 2, 18, 51, 36, 28, 224, 92, 25, 104, 4, 226, 65, 16, 38, 2, 88, 12, 16, 283, 5, 16, 2, 113, 103, 32, 15, 16, 2, 19, 178, 32]\n"
          ],
          "name": "stdout"
        }
      ]
    },
    {
      "cell_type": "code",
      "metadata": {
        "colab": {
          "base_uri": "https://localhost:8080/"
        },
        "id": "ANoRNjMB7khb",
        "outputId": "8ca67d3d-8a04-4769-b8c7-5b2320bd6400"
      },
      "source": [
        "#타깃 데이터.. 0(부정) / 1(긍정)\n",
        "#이진분류..\n",
        "\n",
        "print(train_target)"
      ],
      "execution_count": 7,
      "outputs": [
        {
          "output_type": "stream",
          "text": [
            "[1 0 0 1 0 0 1 0 1 0 1 0 0 0 0 0 1 1 0 1]\n"
          ],
          "name": "stdout"
        }
      ]
    },
    {
      "cell_type": "code",
      "metadata": {
        "id": "ErCCWW_I9hck"
      },
      "source": [
        "#검증세트 분리\n",
        "\n",
        "from sklearn.model_selection import train_test_split\n",
        "train_input, val_input, train_target, val_target = train_test_split(train_input, train_target, test_size=0.2, random_state=42)"
      ],
      "execution_count": 8,
      "outputs": []
    },
    {
      "cell_type": "code",
      "metadata": {
        "id": "N8xedJuf93kh"
      },
      "source": [
        "#훈련세트 조사좀 해보자..\n",
        "#평균 길이..\n",
        "\n",
        "import numpy as np\n",
        "lengths = np.array([len(x) for x in train_input])\n",
        "# 각 훈련데이터의 길이를 갖는 lengths 배열을 만들엇다"
      ],
      "execution_count": 9,
      "outputs": []
    },
    {
      "cell_type": "code",
      "metadata": {
        "colab": {
          "base_uri": "https://localhost:8080/"
        },
        "id": "v-1luPti-DX4",
        "outputId": "574bb756-b0c0-43bc-9cf8-26b4b63e99a6"
      },
      "source": [
        "print(np.mean(lengths), np.median(lengths))"
      ],
      "execution_count": 10,
      "outputs": [
        {
          "output_type": "stream",
          "text": [
            "239.00925 178.0\n"
          ],
          "name": "stdout"
        }
      ]
    },
    {
      "cell_type": "code",
      "metadata": {
        "colab": {
          "base_uri": "https://localhost:8080/",
          "height": 279
        },
        "id": "FMBFVNjk-MsD",
        "outputId": "e97d49a4-9223-410a-cce7-c531293cfaf0"
      },
      "source": [
        "#훈련데이터의 분포는?\n",
        "import matplotlib.pyplot as plt\n",
        "plt.hist(lengths)\n",
        "plt.xlabel('length')\n",
        "plt.ylabel('frequency')\n",
        "plt.show()"
      ],
      "execution_count": 11,
      "outputs": [
        {
          "output_type": "display_data",
          "data": {
            "image/png": "[encoded data removed]",
            "text/plain": [
              "<Figure size 432x288 with 1 Axes>"
            ]
          },
          "metadata": {
            "tags": [],
            "needs_background": "light"
          }
        }
      ]
    },
    {
      "cell_type": "markdown",
      "metadata": {
        "id": "y01EDEdg_3OP"
      },
      "source": [
        "- 대부분 리뷰는 300 미만\n",
        "- 길이가 100까지만 보자.."
      ]
    },
    {
      "cell_type": "code",
      "metadata": {
        "id": "dobJe7mP-ZSd"
      },
      "source": [
        "from tensorflow.keras.preprocessing.sequence import pad_sequences\n",
        "train_seq = pad_sequences(train_input, maxlen=100)\n",
        "\n",
        "#훈련 텍스트 세트의 길이를 maxlen매개변수를 이용해서 맞출 수 있다\n",
        "#기본값을 뒤에서 부터 자르는데, pad_sequences의 truncating매개변수를 'pre' / 'post'로 지정해서 바꿀 수 있다"
      ],
      "execution_count": 12,
      "outputs": []
    },
    {
      "cell_type": "code",
      "metadata": {
        "colab": {
          "base_uri": "https://localhost:8080/"
        },
        "id": "YdObYOhhAeYo",
        "outputId": "97ecaf17-4d9c-44cc-c4a4-4604b3696014"
      },
      "source": [
        "print(train_seq.shape)\n",
        "#이차원 배열이다.."
      ],
      "execution_count": 13,
      "outputs": [
        {
          "output_type": "stream",
          "text": [
            "(20000, 100)\n"
          ],
          "name": "stdout"
        }
      ]
    },
    {
      "cell_type": "code",
      "metadata": {
        "colab": {
          "base_uri": "https://localhost:8080/"
        },
        "id": "z8sRyUG3Ah4_",
        "outputId": "e814d966-4d7a-4a13-bd1e-345426e48179"
      },
      "source": [
        "print(train_seq[0])"
      ],
      "execution_count": 14,
      "outputs": [
        {
          "output_type": "stream",
          "text": [
            "[ 10   4  20   9   2 364 352   5  45   6   2   2  33 269   8   2 142   2\n",
            "   5   2  17  73  17 204   5   2  19  55   2   2  92  66 104  14  20  93\n",
            "  76   2 151  33   4  58  12 188   2 151  12 215  69 224 142  73 237   6\n",
            "   2   7   2   2 188   2 103  14  31  10  10 451   7   2   5   2  80  91\n",
            "   2  30   2  34  14  20 151  50  26 131  49   2  84  46  50  37  80  79\n",
            "   6   2  46   7  14  20  10  10 470 158]\n"
          ],
          "name": "stdout"
        }
      ]
    },
    {
      "cell_type": "code",
      "metadata": {
        "colab": {
          "base_uri": "https://localhost:8080/"
        },
        "id": "tIDEZt93Aj14",
        "outputId": "e805c8df-9919-4ab6-8cf3-687f35ac8117"
      },
      "source": [
        "print(train_input[0][-10:])\n",
        "#이걸로 보면 끝에 100개를 잘라서 가져왔다.."
      ],
      "execution_count": 15,
      "outputs": [
        {
          "output_type": "stream",
          "text": [
            "[6, 2, 46, 7, 14, 20, 10, 10, 470, 158]\n"
          ],
          "name": "stdout"
        }
      ]
    },
    {
      "cell_type": "code",
      "metadata": {
        "colab": {
          "base_uri": "https://localhost:8080/"
        },
        "id": "x6mRhRzJAvKV",
        "outputId": "65044656-38ac-4ff9-ab47-e6a5cd33e033"
      },
      "source": [
        "print(train_seq[5])\n",
        "#얘는 원래 길이가 100보다 짧았네.. 그니까 100으로 맞출려고 패딩(0)이 들어갔네.."
      ],
      "execution_count": 16,
      "outputs": [
        {
          "output_type": "stream",
          "text": [
            "[  0   0   0   0   1   2 195  19  49   2   2 190   4   2 352   2 183  10\n",
            "  10  13  82  79   4   2  36  71 269   8   2  25  19  49   7   4   2   2\n",
            "   2   2   2  10  10  48  25  40   2  11   2   2  40   2   2   5   4   2\n",
            "   2  95  14 238  56 129   2  10  10  21   2  94 364 352   2   2  11 190\n",
            "  24 484   2   7  94 205 405  10  10  87   2  34  49   2   7   2   2   2\n",
            "   2   2 290   2  46  48  64  18   4   2]\n"
          ],
          "name": "stdout"
        }
      ]
    },
    {
      "cell_type": "code",
      "metadata": {
        "id": "01EoGkGfA3Db"
      },
      "source": [
        "#검증세트도 길이 100으로 바꾸자\n",
        "val_seq = pad_sequences(val_input, maxlen=100)"
      ],
      "execution_count": 17,
      "outputs": []
    },
    {
      "cell_type": "markdown",
      "metadata": {
        "id": "ZADD59vHBCWu"
      },
      "source": [
        "**순환 신경망(RNN) 만들기**"
      ]
    },
    {
      "cell_type": "markdown",
      "metadata": {
        "id": "g4jJh15DC4xS"
      },
      "source": [
        "- SimpleRNN클래스로 순환층 클래스를 만들 수 있다..\n",
        "- 이진 분류이니까 시그모이드\n",
        "- Sequential 클래스는 일반적인 신경망 모델을 다 만들 수 있다\n",
        "- 다만 Sequential이라는 이름은 순서대로 층을 쌓기 때문에 붙인 것이다."
      ]
    },
    {
      "cell_type": "code",
      "metadata": {
        "id": "386cw8dvBBf1"
      },
      "source": [
        "from tensorflow import keras\n",
        "model = keras.Sequential()\n",
        "model.add(keras.layers.SimpleRNN(8,input_shape = (100,500)))\n",
        "#SimpleRNN의 기본 활성화함수 : tanh함수\n",
        "\n",
        "model.add(keras.layers.Dense(1,activation = 'sigmoid'))\n",
        "#이진 분류니까 마지막 출력층의 뉴런이 1개"
      ],
      "execution_count": 18,
      "outputs": []
    },
    {
      "cell_type": "markdown",
      "metadata": {
        "id": "1hOw0xn8Dd1J"
      },
      "source": [
        "**왜 input_shape가 (100,500)일까?**\n",
        "\n",
        "- 명백히 토큰의 값에는 상관관계가 없다.\n",
        "- 정숫값에 있는 크기 속성을 없애고 각 정수를 고유하게 표현하기 위해서 원핫인코딩을 표현한다.\n",
        "- 길이가 원래 100인 데이터였는데, 그 100개의 정수가 모두 원핫인코딩 되고, 앞에서 어휘사전을 500개로 잡았으니까 크기가 (100,500)으로 바뀐다.\n",
        "\n",
        "-> **원핫인코딩 때문!!**"
      ]
    },
    {
      "cell_type": "code",
      "metadata": {
        "id": "ob_MXPm8Db_m"
      },
      "source": [
        "# 원핫인코딩을 위한 유틸리티 keras.utils의 to_categorical\n",
        "\n",
        "train_oh = keras.utils.to_categorical(train_seq)"
      ],
      "execution_count": 19,
      "outputs": []
    },
    {
      "cell_type": "code",
      "metadata": {
        "colab": {
          "base_uri": "https://localhost:8080/"
        },
        "id": "KhSS8LBQE_sc",
        "outputId": "69d9de7f-3a54-4a6a-f9dc-04ddf82610a2"
      },
      "source": [
        "print(train_oh.shape)\n",
        "\n",
        "#100개의 정수 하나하나가 원핫인코딩 되었기 때문에 크기가 100, 500으로 바뀌었다\n",
        "#그래서 input_shape에 (100, 500)을 넣은 것이다."
      ],
      "execution_count": 20,
      "outputs": [
        {
          "output_type": "stream",
          "text": [
            "(20000, 100, 500)\n"
          ],
          "name": "stdout"
        }
      ]
    },
    {
      "cell_type": "code",
      "metadata": {
        "colab": {
          "base_uri": "https://localhost:8080/"
        },
        "id": "GzFEpJkKFBTR",
        "outputId": "40f7568e-dfc8-4f10-d3a2-2547e0fad6bc"
      },
      "source": [
        "print(train_oh[0][0][:12])\n",
        "#첫번째 훈련데이터의 첫번째 원핫인코딩된 것의 인덱스 12까지 출력"
      ],
      "execution_count": 21,
      "outputs": [
        {
          "output_type": "stream",
          "text": [
            "[0. 0. 0. 0. 0. 0. 0. 0. 0. 0. 1. 0.]\n"
          ],
          "name": "stdout"
        }
      ]
    },
    {
      "cell_type": "code",
      "metadata": {
        "colab": {
          "base_uri": "https://localhost:8080/"
        },
        "id": "EjNdW_ENFVSx",
        "outputId": "5d597afb-2831-4ec4-dbe0-702d2ee037e5"
      },
      "source": [
        "print(np.sum(train_oh[0][0]))\n",
        "#잘 원핫인코딩 되었다.."
      ],
      "execution_count": 22,
      "outputs": [
        {
          "output_type": "stream",
          "text": [
            "1.0\n"
          ],
          "name": "stdout"
        }
      ]
    },
    {
      "cell_type": "code",
      "metadata": {
        "id": "DSMZy1VwFiHI"
      },
      "source": [
        "#검증세트도 원핫인코딩..\n",
        "#val_seq가 길이 100으로 줄인 것\n",
        "val_oh = keras.utils.to_categorical(val_seq)"
      ],
      "execution_count": 23,
      "outputs": []
    },
    {
      "cell_type": "code",
      "metadata": {
        "colab": {
          "base_uri": "https://localhost:8080/"
        },
        "id": "2lggyrX8F3Fs",
        "outputId": "9b62aef1-30c9-4bda-c43f-5bd3d197e014"
      },
      "source": [
        "model.summary()\n",
        "#순환층의 모델파라미터 엄청 많다.. (4072)"
      ],
      "execution_count": 24,
      "outputs": [
        {
          "output_type": "stream",
          "text": [
            "Model: \"sequential\"\n",
            "_________________________________________________________________\n",
            "Layer (type)                 Output Shape              Param #   \n",
            "=================================================================\n",
            "simple_rnn (SimpleRNN)       (None, 8)                 4072      \n",
            "_________________________________________________________________\n",
            "dense (Dense)                (None, 1)                 9         \n",
            "=================================================================\n",
            "Total params: 4,081\n",
            "Trainable params: 4,081\n",
            "Non-trainable params: 0\n",
            "_________________________________________________________________\n"
          ],
          "name": "stdout"
        }
      ]
    },
    {
      "cell_type": "markdown",
      "metadata": {
        "id": "eOIMLZm1GDUR"
      },
      "source": [
        "**순환 신경망 훈련하기**"
      ]
    },
    {
      "cell_type": "markdown",
      "metadata": {
        "id": "f8NjaPjvGGQw"
      },
      "source": [
        "케라스의 장점\n",
        "\n",
        "- 모델을 만드는 것은 달라도 훈련법은 같다\n",
        "\n",
        "- 옵티마이저 설정, 콜백설정.."
      ]
    },
    {
      "cell_type": "code",
      "metadata": {
        "colab": {
          "base_uri": "https://localhost:8080/"
        },
        "id": "5CCWtcB9F4TW",
        "outputId": "3d17850d-67c0-48af-8546-525708ccccf2"
      },
      "source": [
        "#학습률을 별도로 지정하기 위해 객체 생성..\n",
        "#에포크는 100, 배치사이즈는 64로 지정..\n",
        "rmsprop = keras.optimizers.RMSprop(learning_rate=1e-4)\n",
        "model.compile(optimizer=rmsprop, loss='binary_crossentropy', metrics='accuracy')\n",
        "checkpoint_cb = keras.callbacks.ModelCheckpoint('best-simplernn-model.h5')\n",
        "early_stopping_cb = keras.callbacks.EarlyStopping(patience=3, restore_best_weights=True)\n",
        "history = model.fit(train_oh, train_target, epochs = 100, batch_size=64, validation_data=(val_oh, val_target),\n",
        "                    callbacks=[checkpoint_cb, early_stopping_cb])"
      ],
      "execution_count": 27,
      "outputs": [
        {
          "output_type": "stream",
          "text": [
            "Epoch 1/100\n",
            "313/313 [==============================] - 14s 41ms/step - loss: 0.6962 - accuracy: 0.5117 - val_loss: 0.6979 - val_accuracy: 0.4944\n",
            "Epoch 2/100\n",
            "313/313 [==============================] - 13s 42ms/step - loss: 0.6912 - accuracy: 0.5273 - val_loss: 0.6926 - val_accuracy: 0.5198\n",
            "Epoch 3/100\n",
            "313/313 [==============================] - 12s 39ms/step - loss: 0.6844 - accuracy: 0.5617 - val_loss: 0.6857 - val_accuracy: 0.5562\n",
            "Epoch 4/100\n",
            "313/313 [==============================] - 12s 38ms/step - loss: 0.6767 - accuracy: 0.5918 - val_loss: 0.6785 - val_accuracy: 0.5894\n",
            "Epoch 5/100\n",
            "313/313 [==============================] - 12s 40ms/step - loss: 0.6679 - accuracy: 0.6217 - val_loss: 0.6698 - val_accuracy: 0.6164\n",
            "Epoch 6/100\n",
            "313/313 [==============================] - 12s 39ms/step - loss: 0.6578 - accuracy: 0.6485 - val_loss: 0.6600 - val_accuracy: 0.6420\n",
            "Epoch 7/100\n",
            "313/313 [==============================] - 12s 39ms/step - loss: 0.6466 - accuracy: 0.6717 - val_loss: 0.6498 - val_accuracy: 0.6572\n",
            "Epoch 8/100\n",
            "313/313 [==============================] - 12s 39ms/step - loss: 0.6348 - accuracy: 0.6882 - val_loss: 0.6387 - val_accuracy: 0.6764\n",
            "Epoch 9/100\n",
            "313/313 [==============================] - 12s 39ms/step - loss: 0.6224 - accuracy: 0.7071 - val_loss: 0.6277 - val_accuracy: 0.6936\n",
            "Epoch 10/100\n",
            "313/313 [==============================] - 12s 39ms/step - loss: 0.6108 - accuracy: 0.7180 - val_loss: 0.6167 - val_accuracy: 0.7082\n",
            "Epoch 11/100\n",
            "313/313 [==============================] - 12s 39ms/step - loss: 0.5988 - accuracy: 0.7315 - val_loss: 0.6065 - val_accuracy: 0.7142\n",
            "Epoch 12/100\n",
            "313/313 [==============================] - 12s 39ms/step - loss: 0.5871 - accuracy: 0.7417 - val_loss: 0.5959 - val_accuracy: 0.7216\n",
            "Epoch 13/100\n",
            "313/313 [==============================] - 14s 43ms/step - loss: 0.5760 - accuracy: 0.7491 - val_loss: 0.5873 - val_accuracy: 0.7302\n",
            "Epoch 14/100\n",
            "313/313 [==============================] - 13s 42ms/step - loss: 0.5658 - accuracy: 0.7552 - val_loss: 0.5772 - val_accuracy: 0.7336\n",
            "Epoch 15/100\n",
            "313/313 [==============================] - 14s 44ms/step - loss: 0.5554 - accuracy: 0.7602 - val_loss: 0.5680 - val_accuracy: 0.7428\n",
            "Epoch 16/100\n",
            "313/313 [==============================] - 13s 43ms/step - loss: 0.5455 - accuracy: 0.7660 - val_loss: 0.5589 - val_accuracy: 0.7456\n",
            "Epoch 17/100\n",
            "313/313 [==============================] - 12s 40ms/step - loss: 0.5355 - accuracy: 0.7707 - val_loss: 0.5510 - val_accuracy: 0.7492\n",
            "Epoch 18/100\n",
            "313/313 [==============================] - 13s 42ms/step - loss: 0.5259 - accuracy: 0.7765 - val_loss: 0.5455 - val_accuracy: 0.7520\n",
            "Epoch 19/100\n",
            "313/313 [==============================] - 12s 39ms/step - loss: 0.5184 - accuracy: 0.7798 - val_loss: 0.5357 - val_accuracy: 0.7574\n",
            "Epoch 20/100\n",
            "313/313 [==============================] - 12s 39ms/step - loss: 0.5105 - accuracy: 0.7833 - val_loss: 0.5340 - val_accuracy: 0.7508\n",
            "Epoch 21/100\n",
            "313/313 [==============================] - 13s 41ms/step - loss: 0.5029 - accuracy: 0.7857 - val_loss: 0.5268 - val_accuracy: 0.7576\n",
            "Epoch 22/100\n",
            "313/313 [==============================] - 12s 38ms/step - loss: 0.4953 - accuracy: 0.7899 - val_loss: 0.5179 - val_accuracy: 0.7650\n",
            "Epoch 23/100\n",
            "313/313 [==============================] - 13s 42ms/step - loss: 0.4892 - accuracy: 0.7912 - val_loss: 0.5134 - val_accuracy: 0.7634\n",
            "Epoch 24/100\n",
            "313/313 [==============================] - 12s 39ms/step - loss: 0.4832 - accuracy: 0.7941 - val_loss: 0.5116 - val_accuracy: 0.7628\n",
            "Epoch 25/100\n",
            "313/313 [==============================] - 12s 40ms/step - loss: 0.4776 - accuracy: 0.7946 - val_loss: 0.5048 - val_accuracy: 0.7708\n",
            "Epoch 26/100\n",
            "313/313 [==============================] - 13s 40ms/step - loss: 0.4717 - accuracy: 0.7982 - val_loss: 0.5021 - val_accuracy: 0.7690\n",
            "Epoch 27/100\n",
            "313/313 [==============================] - 12s 39ms/step - loss: 0.4674 - accuracy: 0.8011 - val_loss: 0.4987 - val_accuracy: 0.7690\n",
            "Epoch 28/100\n",
            "313/313 [==============================] - 12s 38ms/step - loss: 0.4630 - accuracy: 0.8016 - val_loss: 0.4947 - val_accuracy: 0.7736\n",
            "Epoch 29/100\n",
            "313/313 [==============================] - 13s 41ms/step - loss: 0.4587 - accuracy: 0.8036 - val_loss: 0.4934 - val_accuracy: 0.7746\n",
            "Epoch 30/100\n",
            "313/313 [==============================] - 13s 40ms/step - loss: 0.4544 - accuracy: 0.8052 - val_loss: 0.4903 - val_accuracy: 0.7764\n",
            "Epoch 31/100\n",
            "313/313 [==============================] - 12s 39ms/step - loss: 0.4509 - accuracy: 0.8057 - val_loss: 0.4894 - val_accuracy: 0.7742\n",
            "Epoch 32/100\n",
            "313/313 [==============================] - 12s 38ms/step - loss: 0.4478 - accuracy: 0.8089 - val_loss: 0.4881 - val_accuracy: 0.7786\n",
            "Epoch 33/100\n",
            "313/313 [==============================] - 12s 38ms/step - loss: 0.4444 - accuracy: 0.8094 - val_loss: 0.4876 - val_accuracy: 0.7748\n",
            "Epoch 34/100\n",
            "313/313 [==============================] - 12s 39ms/step - loss: 0.4422 - accuracy: 0.8097 - val_loss: 0.4840 - val_accuracy: 0.7804\n",
            "Epoch 35/100\n",
            "313/313 [==============================] - 13s 41ms/step - loss: 0.4392 - accuracy: 0.8124 - val_loss: 0.4831 - val_accuracy: 0.7796\n",
            "Epoch 36/100\n",
            "313/313 [==============================] - 12s 40ms/step - loss: 0.4369 - accuracy: 0.8127 - val_loss: 0.4810 - val_accuracy: 0.7834\n",
            "Epoch 37/100\n",
            "313/313 [==============================] - 12s 39ms/step - loss: 0.4344 - accuracy: 0.8146 - val_loss: 0.4823 - val_accuracy: 0.7772\n",
            "Epoch 38/100\n",
            "313/313 [==============================] - 13s 40ms/step - loss: 0.4321 - accuracy: 0.8136 - val_loss: 0.4785 - val_accuracy: 0.7852\n",
            "Epoch 39/100\n",
            "313/313 [==============================] - 12s 38ms/step - loss: 0.4301 - accuracy: 0.8152 - val_loss: 0.4814 - val_accuracy: 0.7822\n",
            "Epoch 40/100\n",
            "313/313 [==============================] - 12s 38ms/step - loss: 0.4281 - accuracy: 0.8160 - val_loss: 0.4791 - val_accuracy: 0.7812\n",
            "Epoch 41/100\n",
            "313/313 [==============================] - 12s 40ms/step - loss: 0.4259 - accuracy: 0.8170 - val_loss: 0.4786 - val_accuracy: 0.7810\n"
          ],
          "name": "stdout"
        }
      ]
    },
    {
      "cell_type": "markdown",
      "metadata": {
        "id": "jtHz0HpkKeU7"
      },
      "source": [
        "- 38에포크에서 검증점수 : 0.4785\n",
        "- 39에포크에서 검증점수 : 0.4814 (증가)\n",
        "- 40에포크에서 검증점수 : 0.4791 (38보다 증가)\n",
        "- 41에포크에서 검증점수 : 0.4786 (38보다 증가)\n",
        "\n",
        "-> 3번 참았다.. 끝 -> 성능 78퍼?"
      ]
    },
    {
      "cell_type": "code",
      "metadata": {
        "colab": {
          "base_uri": "https://localhost:8080/",
          "height": 279
        },
        "id": "DOjsw4mxHepf",
        "outputId": "ffa3a048-e6d8-4bd1-82fe-f0abc308d765"
      },
      "source": [
        "plt.plot(history.history['loss'])\n",
        "plt.plot(history.history['val_loss'])\n",
        "plt.xlabel('epochs')\n",
        "plt.ylabel('loss')\n",
        "plt.legend(['train', 'val'])\n",
        "plt.show()"
      ],
      "execution_count": 28,
      "outputs": [
        {
          "output_type": "display_data",
          "data": {
            "image/png": "[encoded data removed]",
            "text/plain": [
              "<Figure size 432x288 with 1 Axes>"
            ]
          },
          "metadata": {
            "tags": [],
            "needs_background": "light"
          }
        }
      ]
    },
    {
      "cell_type": "code",
      "metadata": {
        "colab": {
          "base_uri": "https://localhost:8080/"
        },
        "id": "0OK8N2mGLWdq",
        "outputId": "6034ed75-0fc4-4e3d-c2f4-b20e725d2f6d"
      },
      "source": [
        "print(train_seq.nbytes, train_oh.nbytes)"
      ],
      "execution_count": 29,
      "outputs": [
        {
          "output_type": "stream",
          "text": [
            "8000000 4000000000\n"
          ],
          "name": "stdout"
        }
      ]
    },
    {
      "cell_type": "markdown",
      "metadata": {
        "id": "qjWv0j9_LNMd"
      },
      "source": [
        "원-핫 인코딩을 하면 입력데이터가 너무 커진다..\n",
        "\n",
        "다른 방법이 없을까?"
      ]
    },
    {
      "cell_type": "markdown",
      "metadata": {
        "id": "KrQwC22ULnPy"
      },
      "source": [
        "**단어 임베딩을 사용하기**"
      ]
    },
    {
      "cell_type": "markdown",
      "metadata": {
        "id": "7rLk2fY2MOXw"
      },
      "source": [
        "**단어 임베딩**\n",
        "\n",
        "- 각 단어를 고정된 크기의 실수 벡터로 바꾸어 준다..\n",
        "- 이러한 벡터는 원-핫 인코딩된 벡터보다 훨씬 의미있는 값이기 때문에 더 좋은 성능을 낸다\n",
        "- keras.layers.Embedding클래스에서 임베딩 층을 만들 수 있다\n",
        "- 입력으로 정수데이터를 입력받으니까 메모리를 훨씬 효율적으로 사용할 수 있다.\n",
        "- 임베딩도 2차원 배열로 늘리긴 하지만 훨씬 크기가 작다"
      ]
    },
    {
      "cell_type": "code",
      "metadata": {
        "id": "E3FN7Rk2LAJe"
      },
      "source": [
        "model2 = keras.Sequential()\n",
        "model2.add(keras.layers.Embedding(500,16,input_length=100))\n",
        "# 500 : 어휘사전의 크기 (이 만큼의 정수를 임베딩 벡터로 만들겠다)\n",
        "# 16 : 임베딩 벡터의 크기 (원핫인코딩은 크기가 500이었는데 16으로 아주 작게 할 수 있다..)\n",
        "#input_length=100 : 샘플의 길이를 100으로 맞추었다\n",
        "\n",
        "model2.add(keras.layers.SimpleRNN(8))\n",
        "model2.add(keras.layers.Dense(1, activation='sigmoid'))"
      ],
      "execution_count": 30,
      "outputs": []
    },
    {
      "cell_type": "code",
      "metadata": {
        "colab": {
          "base_uri": "https://localhost:8080/"
        },
        "id": "nPV4vI18NO_y",
        "outputId": "c447dbc8-d5fc-400b-bc29-40fddcc6a9e3"
      },
      "source": [
        "model2.summary()\n",
        "\n",
        "#순환층의 모델 파라미터수가 위의 model(원핫 인코딩)보다 엄청 줄었다..\n",
        "#(4072 -> 200)"
      ],
      "execution_count": 31,
      "outputs": [
        {
          "output_type": "stream",
          "text": [
            "Model: \"sequential_1\"\n",
            "_________________________________________________________________\n",
            "Layer (type)                 Output Shape              Param #   \n",
            "=================================================================\n",
            "embedding (Embedding)        (None, 100, 16)           8000      \n",
            "_________________________________________________________________\n",
            "simple_rnn_1 (SimpleRNN)     (None, 8)                 200       \n",
            "_________________________________________________________________\n",
            "dense_1 (Dense)              (None, 1)                 9         \n",
            "=================================================================\n",
            "Total params: 8,209\n",
            "Trainable params: 8,209\n",
            "Non-trainable params: 0\n",
            "_________________________________________________________________\n"
          ],
          "name": "stdout"
        }
      ]
    },
    {
      "cell_type": "code",
      "metadata": {
        "colab": {
          "base_uri": "https://localhost:8080/"
        },
        "id": "xlo8FpJLNP6P",
        "outputId": "07f5979f-7706-4c40-8bf1-f0e80c600b04"
      },
      "source": [
        "rmsprop = keras.optimizers.RMSprop(learning_rate=0.0001)\n",
        "model2.compile(optimizer=rmsprop, loss = 'binary_crossentropy', metrics='accuracy')\n",
        "checkpoint_cb = keras.callbacks.ModelCheckpoint('best-embedding-model.h5')\n",
        "early_stopping_cb = keras.callbacks.EarlyStopping(patience=3, restore_best_weights=True)\n",
        "history = model2.fit(train_seq, train_target, epochs = 100, batch_size=64, validation_data=(val_seq, val_target),\n",
        "                    callbacks=[checkpoint_cb, early_stopping_cb])"
      ],
      "execution_count": 34,
      "outputs": [
        {
          "output_type": "stream",
          "text": [
            "Epoch 1/100\n",
            "313/313 [==============================] - 8s 21ms/step - loss: 0.6951 - accuracy: 0.4981 - val_loss: 0.6951 - val_accuracy: 0.4892\n",
            "Epoch 2/100\n",
            "313/313 [==============================] - 6s 20ms/step - loss: 0.6912 - accuracy: 0.5245 - val_loss: 0.6906 - val_accuracy: 0.5280\n",
            "Epoch 3/100\n",
            "313/313 [==============================] - 6s 20ms/step - loss: 0.6823 - accuracy: 0.5870 - val_loss: 0.6787 - val_accuracy: 0.6068\n",
            "Epoch 4/100\n",
            "313/313 [==============================] - 6s 20ms/step - loss: 0.6658 - accuracy: 0.6526 - val_loss: 0.6609 - val_accuracy: 0.6636\n",
            "Epoch 5/100\n",
            "313/313 [==============================] - 6s 20ms/step - loss: 0.6451 - accuracy: 0.6981 - val_loss: 0.6414 - val_accuracy: 0.7012\n",
            "Epoch 6/100\n",
            "313/313 [==============================] - 6s 20ms/step - loss: 0.6251 - accuracy: 0.7200 - val_loss: 0.6250 - val_accuracy: 0.7142\n",
            "Epoch 7/100\n",
            "313/313 [==============================] - 6s 19ms/step - loss: 0.6056 - accuracy: 0.7380 - val_loss: 0.6064 - val_accuracy: 0.7336\n",
            "Epoch 8/100\n",
            "313/313 [==============================] - 6s 20ms/step - loss: 0.5875 - accuracy: 0.7491 - val_loss: 0.5960 - val_accuracy: 0.7300\n",
            "Epoch 9/100\n",
            "313/313 [==============================] - 6s 20ms/step - loss: 0.5703 - accuracy: 0.7607 - val_loss: 0.5774 - val_accuracy: 0.7436\n",
            "Epoch 10/100\n",
            "313/313 [==============================] - 7s 23ms/step - loss: 0.5536 - accuracy: 0.7709 - val_loss: 0.5613 - val_accuracy: 0.7524\n",
            "Epoch 11/100\n",
            "313/313 [==============================] - 6s 20ms/step - loss: 0.5382 - accuracy: 0.7783 - val_loss: 0.5496 - val_accuracy: 0.7628\n",
            "Epoch 12/100\n",
            "313/313 [==============================] - 6s 20ms/step - loss: 0.5232 - accuracy: 0.7868 - val_loss: 0.5386 - val_accuracy: 0.7562\n",
            "Epoch 13/100\n",
            "313/313 [==============================] - 6s 19ms/step - loss: 0.5097 - accuracy: 0.7916 - val_loss: 0.5282 - val_accuracy: 0.7656\n",
            "Epoch 14/100\n",
            "313/313 [==============================] - 6s 19ms/step - loss: 0.4969 - accuracy: 0.7976 - val_loss: 0.5187 - val_accuracy: 0.7676\n",
            "Epoch 15/100\n",
            "313/313 [==============================] - 6s 19ms/step - loss: 0.4853 - accuracy: 0.8011 - val_loss: 0.5092 - val_accuracy: 0.7722\n",
            "Epoch 16/100\n",
            "313/313 [==============================] - 6s 20ms/step - loss: 0.4744 - accuracy: 0.8051 - val_loss: 0.5038 - val_accuracy: 0.7702\n",
            "Epoch 17/100\n",
            "313/313 [==============================] - 6s 20ms/step - loss: 0.4643 - accuracy: 0.8075 - val_loss: 0.4941 - val_accuracy: 0.7806\n",
            "Epoch 18/100\n",
            "313/313 [==============================] - 6s 20ms/step - loss: 0.4547 - accuracy: 0.8131 - val_loss: 0.4909 - val_accuracy: 0.7790\n",
            "Epoch 19/100\n",
            "313/313 [==============================] - 6s 20ms/step - loss: 0.4468 - accuracy: 0.8147 - val_loss: 0.4834 - val_accuracy: 0.7850\n",
            "Epoch 20/100\n",
            "313/313 [==============================] - 6s 20ms/step - loss: 0.4396 - accuracy: 0.8170 - val_loss: 0.4802 - val_accuracy: 0.7838\n",
            "Epoch 21/100\n",
            "313/313 [==============================] - 6s 19ms/step - loss: 0.4328 - accuracy: 0.8202 - val_loss: 0.4749 - val_accuracy: 0.7872\n",
            "Epoch 22/100\n",
            "313/313 [==============================] - 6s 20ms/step - loss: 0.4269 - accuracy: 0.8232 - val_loss: 0.4732 - val_accuracy: 0.7876\n",
            "Epoch 23/100\n",
            "313/313 [==============================] - 6s 19ms/step - loss: 0.4213 - accuracy: 0.8242 - val_loss: 0.4737 - val_accuracy: 0.7832\n",
            "Epoch 24/100\n",
            "313/313 [==============================] - 6s 20ms/step - loss: 0.4156 - accuracy: 0.8263 - val_loss: 0.4756 - val_accuracy: 0.7822\n",
            "Epoch 25/100\n",
            "313/313 [==============================] - 6s 19ms/step - loss: 0.4113 - accuracy: 0.8280 - val_loss: 0.4709 - val_accuracy: 0.7786\n",
            "Epoch 26/100\n",
            "313/313 [==============================] - 6s 20ms/step - loss: 0.4072 - accuracy: 0.8295 - val_loss: 0.4676 - val_accuracy: 0.7868\n",
            "Epoch 27/100\n",
            "313/313 [==============================] - 6s 20ms/step - loss: 0.4034 - accuracy: 0.8305 - val_loss: 0.4669 - val_accuracy: 0.7830\n",
            "Epoch 28/100\n",
            "313/313 [==============================] - 6s 20ms/step - loss: 0.3998 - accuracy: 0.8311 - val_loss: 0.4680 - val_accuracy: 0.7864\n",
            "Epoch 29/100\n",
            "313/313 [==============================] - 6s 20ms/step - loss: 0.3961 - accuracy: 0.8342 - val_loss: 0.4689 - val_accuracy: 0.7842\n",
            "Epoch 30/100\n",
            "313/313 [==============================] - 6s 20ms/step - loss: 0.3929 - accuracy: 0.8364 - val_loss: 0.4676 - val_accuracy: 0.7826\n"
          ],
          "name": "stdout"
        }
      ]
    },
    {
      "cell_type": "markdown",
      "metadata": {
        "id": "sLhFS8SHOrGI"
      },
      "source": [
        "- 27에포크에서 검증점수 : 0.4669\n",
        "- 28에포크에서 검증점수 : 0.4680 (증가)\n",
        "- 29에포크에서 검증점수 : 0.4689 (27보다 증가)\n",
        "- 30에포크에서 검증점수 : 0.4676 (27보다 증가)\n",
        "\n",
        "-> 3번 참았다.. 끝 -> 성능 78퍼 -> 원핫인코딩과 비슷하다\n",
        "\n",
        "-> 순환층의 모델파라미터가 훨씬 적다.."
      ]
    },
    {
      "cell_type": "code",
      "metadata": {
        "colab": {
          "base_uri": "https://localhost:8080/",
          "height": 279
        },
        "id": "6Z2tUkqIOGrv",
        "outputId": "98267916-5ce3-4b67-b1ce-a808622255d8"
      },
      "source": [
        "plt.plot(history.history['loss'])\n",
        "plt.plot(history.history['val_loss'])\n",
        "plt.xlabel('epochs')\n",
        "plt.ylabel('loss')\n",
        "plt.legend(['train', 'val'])\n",
        "plt.show()"
      ],
      "execution_count": 35,
      "outputs": [
        {
          "output_type": "display_data",
          "data": {
            "image/png": "[encoded data removed]",
            "text/plain": [
              "<Figure size 432x288 with 1 Axes>"
            ]
          },
          "metadata": {
            "tags": [],
            "needs_background": "light"
          }
        }
      ]
    },
    {
      "cell_type": "markdown",
      "metadata": {
        "id": "5D1k_2NRPqo0"
      },
      "source": [
        "훈련손실은 계속 감소하는데. 이를 개선할 방법이 있는지 알아보겟다.."
      ]
    },
    {
      "cell_type": "markdown",
      "metadata": {
        "id": "RJO6Fc0MPvgl"
      },
      "source": [
        "**9-2 정리**\n",
        "\n",
        "- 순환신경망을 실제 모델을 만들었다\n",
        "\n",
        "1) 입력데이터를 원핫 인코딩으로 변환하여 순환층에 직접 주입\n",
        "\n",
        "    -> 입력데이터가 너무 커서 메모리 낭비\n",
        "    \n",
        "    -> 어휘사전 크기의 벡터가 만들어짐\n",
        "2) 입력데이터(정수)를 그대로 순환층에 넣기위해 Embedding층을 추가\n",
        "\n",
        "    -> 단어마다 실수로 이루어진 밀집 벡터를 학습함\n",
        "    \n",
        "    -> 비교적 벡터의 크기가 작음\n",
        "    \n",
        "    -> 순환층의 모델 파라미터가 더 적음..\n",
        "    \n",
        "    -> 단어사이의 관계를 표현할 수 있기 때문에 성능이 더 좋다"
      ]
    },
    {
      "cell_type": "markdown",
      "metadata": {
        "id": "C83RQiBYZdkC"
      },
      "source": [
        "#9.3 LSTM과 GRU 셀"
      ]
    }
  ]
}