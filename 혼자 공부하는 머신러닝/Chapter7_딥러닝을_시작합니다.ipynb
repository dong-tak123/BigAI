{
  "nbformat": 4,
  "nbformat_minor": 0,
  "metadata": {
    "colab": {
      "name": "Chapter7. 딥러닝을 시작합니다",
      "provenance": [],
      "collapsed_sections": [
        "p9EjZ5VMgCBf",
        "75RUksxet61L"
      ]
    },
    "kernelspec": {
      "name": "python3",
      "display_name": "Python 3"
    },
    "language_info": {
      "name": "python"
    },
    "accelerator": "GPU"
  },
  "cells": [
    {
      "cell_type": "markdown",
      "metadata": {
        "id": "p9EjZ5VMgCBf"
      },
      "source": [
        "#7.1 인공 신경망(ANN)"
      ]
    },
    {
      "cell_type": "markdown",
      "metadata": {
        "id": "bqosnnxQgFq4"
      },
      "source": [
        "패션 MNIST활용 - 딥러닝을 처음 배울 때 많이 사용하는 데이터셋"
      ]
    },
    {
      "cell_type": "markdown",
      "metadata": {
        "id": "8M09UCk5gTaW"
      },
      "source": [
        "**패션 MNIST**"
      ]
    },
    {
      "cell_type": "code",
      "metadata": {
        "id": "DY7d2fDvKREf",
        "colab": {
          "base_uri": "https://localhost:8080/"
        },
        "outputId": "132c7b35-807d-467d-b2b7-b805ec1c7889"
      },
      "source": [
        "from tensorflow import keras\n",
        "(train_input, train_target), (test_input, test_target) = keras.datasets.fashion_mnist.load_data()"
      ],
      "execution_count": 4,
      "outputs": [
        {
          "output_type": "stream",
          "text": [
            "Downloading data from https://storage.googleapis.com/tensorflow/tf-keras-datasets/train-labels-idx1-ubyte.gz\n",
            "32768/29515 [=================================] - 0s 0us/step\n",
            "Downloading data from https://storage.googleapis.com/tensorflow/tf-keras-datasets/train-images-idx3-ubyte.gz\n",
            "26427392/26421880 [==============================] - 0s 0us/step\n",
            "Downloading data from https://storage.googleapis.com/tensorflow/tf-keras-datasets/t10k-labels-idx1-ubyte.gz\n",
            "8192/5148 [===============================================] - 0s 0us/step\n",
            "Downloading data from https://storage.googleapis.com/tensorflow/tf-keras-datasets/t10k-images-idx3-ubyte.gz\n",
            "4423680/4422102 [==============================] - 0s 0us/step\n"
          ],
          "name": "stdout"
        }
      ]
    },
    {
      "cell_type": "code",
      "metadata": {
        "colab": {
          "base_uri": "https://localhost:8080/"
        },
        "id": "Lko0dR_QdWHl",
        "outputId": "9670f988-7a3f-4f49-8f0e-f97d79e19c56"
      },
      "source": [
        "print(train_input.shape, train_target.shape)"
      ],
      "execution_count": 5,
      "outputs": [
        {
          "output_type": "stream",
          "text": [
            "(60000, 28, 28) (60000,)\n"
          ],
          "name": "stdout"
        }
      ]
    },
    {
      "cell_type": "code",
      "metadata": {
        "colab": {
          "base_uri": "https://localhost:8080/"
        },
        "id": "0HEB8KBVfEKF",
        "outputId": "87df79a9-4c89-4bb7-ec2b-3733d6f3a9fa"
      },
      "source": [
        "print(test_input.shape, test_target.shape)"
      ],
      "execution_count": 6,
      "outputs": [
        {
          "output_type": "stream",
          "text": [
            "(10000, 28, 28) (10000,)\n"
          ],
          "name": "stdout"
        }
      ]
    },
    {
      "cell_type": "code",
      "metadata": {
        "colab": {
          "base_uri": "https://localhost:8080/",
          "height": 0
        },
        "id": "rN7N9K9pfJLs",
        "outputId": "42b9af3f-d508-44b4-a8bd-c6fd5766705f"
      },
      "source": [
        "#샘플 몇개만 보자..\n",
        "import matplotlib.pyplot as plt\n",
        "fig, axs=plt.subplots(1,10, figsize=(10,10))\n",
        "for i in range(10):\n",
        "    axs[i].imshow(train_input[i], cmap='gray_r')    #어두운게 픽셀값이 높음\n",
        "    axs[i].axis('off')\n",
        "plt.show()"
      ],
      "execution_count": 7,
      "outputs": [
        {
          "output_type": "display_data",
          "data": {
            "image/png": "[encoded data removed]",
            "text/plain": [
              "<Figure size 720x720 with 10 Axes>"
            ]
          },
          "metadata": {
            "tags": [],
            "needs_background": "light"
          }
        }
      ]
    },
    {
      "cell_type": "code",
      "metadata": {
        "colab": {
          "base_uri": "https://localhost:8080/"
        },
        "id": "Pdb4QKizfg2o",
        "outputId": "18c4af7b-22f8-4b54-a8d4-57941e62be14"
      },
      "source": [
        "#열개의 타깃값..\n",
        "print([train_target[i] for i in range(10)])"
      ],
      "execution_count": 8,
      "outputs": [
        {
          "output_type": "stream",
          "text": [
            "[9, 0, 0, 3, 0, 2, 7, 2, 5, 5]\n"
          ],
          "name": "stdout"
        }
      ]
    },
    {
      "cell_type": "code",
      "metadata": {
        "colab": {
          "base_uri": "https://localhost:8080/"
        },
        "id": "d4mHIL5ofsah",
        "outputId": "d0d8274e-1524-41fc-8b9d-5eab03598ba6"
      },
      "source": [
        "#0~9까지의 레이블..\n",
        "import numpy as np\n",
        "print(np.unique(train_target, return_counts=True))\n",
        "#고르게 1000개씩.."
      ],
      "execution_count": 9,
      "outputs": [
        {
          "output_type": "stream",
          "text": [
            "(array([0, 1, 2, 3, 4, 5, 6, 7, 8, 9], dtype=uint8), array([6000, 6000, 6000, 6000, 6000, 6000, 6000, 6000, 6000, 6000]))\n"
          ],
          "name": "stdout"
        }
      ]
    },
    {
      "cell_type": "markdown",
      "metadata": {
        "id": "JC65F_OpgV-n"
      },
      "source": [
        "**로지스틱 회귀로 패션 아이템 분류하기**"
      ]
    },
    {
      "cell_type": "markdown",
      "metadata": {
        "id": "6j0hps_ugdpu"
      },
      "source": [
        "손실함수를 log로 지정하고, 픽셀의 값이 0 ~ 255에서 0 ~ 1로 전처리한다..\n",
        "\n",
        "reshape()메서드로 2차원인 픽셀값을 1차원으로 바꾼다.."
      ]
    },
    {
      "cell_type": "code",
      "metadata": {
        "id": "svXOkyY4f6pW"
      },
      "source": [
        "#확률적 경사하강법..\n",
        "train_scaled = train_input / 255.0\n",
        "train_scaled = train_scaled.reshape(-1, 28*28)"
      ],
      "execution_count": 10,
      "outputs": []
    },
    {
      "cell_type": "code",
      "metadata": {
        "colab": {
          "base_uri": "https://localhost:8080/"
        },
        "id": "7HsfyI2Pgy34",
        "outputId": "43397ee8-c928-4bf3-e440-86a78a9b964f"
      },
      "source": [
        "print(train_scaled.shape)"
      ],
      "execution_count": 11,
      "outputs": [
        {
          "output_type": "stream",
          "text": [
            "(60000, 784)\n"
          ],
          "name": "stdout"
        }
      ]
    },
    {
      "cell_type": "code",
      "metadata": {
        "colab": {
          "base_uri": "https://localhost:8080/"
        },
        "id": "AkTN6Xxsg1Tf",
        "outputId": "dcdec882-ae77-423a-aad7-720001dad3e3"
      },
      "source": [
        "#객체를 만들어 교차검증함 해보자..\n",
        "from sklearn.model_selection import cross_validate\n",
        "from sklearn.linear_model import SGDClassifier\n",
        "\n",
        "#손실함수 및 반복횟수 지정\n",
        "sc = SGDClassifier(loss = 'log', max_iter=5, random_state=42)\n",
        "scores = cross_validate(sc, train_scaled, train_target, n_jobs=-1)\n",
        "print(np.mean(scores['test_score']))"
      ],
      "execution_count": 12,
      "outputs": [
        {
          "output_type": "stream",
          "text": [
            "0.8195666666666668\n"
          ],
          "name": "stdout"
        }
      ]
    },
    {
      "cell_type": "code",
      "metadata": {
        "colab": {
          "base_uri": "https://localhost:8080/"
        },
        "id": "arjZcGwphbP-",
        "outputId": "9c2af8d7-25e0-49e6-cee2-22b04efdef0c"
      },
      "source": [
        "#max_iter를 늘려도 성능은 그닥..\n",
        "sc = SGDClassifier(loss = 'log', max_iter=9, random_state=42)\n",
        "scores = cross_validate(sc, train_scaled, train_target, n_jobs=-1)\n",
        "print(np.mean(scores['test_score']))"
      ],
      "execution_count": 13,
      "outputs": [
        {
          "output_type": "stream",
          "text": [
            "0.8303833333333334\n"
          ],
          "name": "stdout"
        }
      ]
    },
    {
      "cell_type": "markdown",
      "metadata": {
        "id": "EH5Kg05MiEvH"
      },
      "source": [
        "- 784개의 특성, 10개의 클래스\n",
        "- 각각의 클래스를 위한 가중치, 절편이 달라야 한다\n",
        "- 총 784*10(가중치) + 10(절편)의 모델 파라미터가 학습된다.\n",
        "- 그런다음 열 개의 z값을 소프트맥스함수에 넣음.. -> 각 클래스마다의 확률이 나온다."
      ]
    },
    {
      "cell_type": "markdown",
      "metadata": {
        "id": "uLTnH9VuijV_"
      },
      "source": [
        "**인공 신경망**"
      ]
    },
    {
      "cell_type": "markdown",
      "metadata": {
        "id": "cSTg2AAzik6R"
      },
      "source": [
        "출력층 : z1~z10까지를 계산하고 이를 바탕으로 클래스를 예측함. 신경망의 최종 값을 만듦..\n",
        "\n",
        "뉴런(유닛) : z값을 계산하는 단위..\n",
        "\n",
        "입력층 : 픽셀값 그 자체.. 들어오는 입력 특성..\n",
        "\n"
      ]
    },
    {
      "cell_type": "markdown",
      "metadata": {
        "id": "lzVH7zKXjJwH"
      },
      "source": [
        "생물학적 뉴런과 인공 신경망 출력층의 뉴런 하나와는 비슷하지만 하는 일을 비슷하게 구현한 것은 아님..\n",
        "\n",
        "그냥 알고리즘일 뿐이다.."
      ]
    },
    {
      "cell_type": "markdown",
      "metadata": {
        "id": "QgoiI2lXjbAx"
      },
      "source": [
        "**텐서플로와 케라스**\n",
        "\n",
        "딥러닝 라이브러리는 GPU를 사용한다( 벡터와 행렬 연산에 매우 최적화 되어있음 )\n",
        "\n",
        "프랑소와 숄레가 케라스를 만들었다\n",
        "\n",
        "케라스는 GPU연산을 직접 하지않고, 다른 라이브러리를 백엔드로 둔다..\n",
        "\n",
        "텐서플로가 그중 하나다..\n",
        "\n",
        "근데 결국 프랑소와가 구글에 합류.. -> 텐서플로 == 케라스.."
      ]
    },
    {
      "cell_type": "code",
      "metadata": {
        "id": "Bg4zR4dmhoP9"
      },
      "source": [
        "import tensorflow as tf\n",
        "from tensorflow import keras"
      ],
      "execution_count": 14,
      "outputs": []
    },
    {
      "cell_type": "markdown",
      "metadata": {
        "id": "nj0vYglckLCH"
      },
      "source": [
        "**인공 신경망으로 모델 만들기**"
      ]
    },
    {
      "cell_type": "markdown",
      "metadata": {
        "id": "I-nyfmEukOQm"
      },
      "source": [
        "교차검증을 하지 않고 별도의 검증 세트를 만든다\n",
        "\n",
        "    1) 딥러닝 분야의 데이터셋이 큼.. -> 검증 점수가 안정적이다.\n",
        "\n",
        "    2) 교차검증하면 너무 오래걸린다.."
      ]
    },
    {
      "cell_type": "code",
      "metadata": {
        "id": "C9Uaa_8akckx"
      },
      "source": [
        "#검증세트 20퍼센트로 따로 생성\n",
        "from sklearn.model_selection import train_test_split\n",
        "train_scaled, val_scaled, train_target, val_target = train_test_split(train_scaled, train_target, test_size=0.2, random_state=42)"
      ],
      "execution_count": 15,
      "outputs": []
    },
    {
      "cell_type": "code",
      "metadata": {
        "colab": {
          "base_uri": "https://localhost:8080/"
        },
        "id": "e9RZ8elKkthQ",
        "outputId": "d3a0040b-a162-4fb1-80ef-537ef494c532"
      },
      "source": [
        "print(train_scaled.shape, train_target.shape)\n",
        "print(val_scaled.shape, val_target.shape)"
      ],
      "execution_count": 16,
      "outputs": [
        {
          "output_type": "stream",
          "text": [
            "(48000, 784) (48000,)\n",
            "(12000, 784) (12000,)\n"
          ],
          "name": "stdout"
        }
      ]
    },
    {
      "cell_type": "markdown",
      "metadata": {
        "id": "wmemYju7lEsf"
      },
      "source": [
        "**밀집층(완전연결층)**\n",
        "\n",
        ": 784 * 10 개의 선으로 빽빽하게 연결되어있는 층.."
      ]
    },
    {
      "cell_type": "code",
      "metadata": {
        "id": "QQKythbkk6DI"
      },
      "source": [
        "# keras의 layers패키지에는 다양한 층이 준비됨\n",
        "# keras의 Dense클래스를 이용한 밀집층 만들기\n",
        "dense = keras.layers.Dense(10, activation='softmax', input_shape=(784,))\n",
        "# 뉴런갯수, 활성화함수, 입력크기"
      ],
      "execution_count": 17,
      "outputs": []
    },
    {
      "cell_type": "markdown",
      "metadata": {
        "id": "R1CmfGnYlt28"
      },
      "source": [
        "- 10개의 패션아이템을 분류하므로 뉴런 갯수는 10개\n",
        "- 다중분류기 때문에 활성화함수는 소프트맥스\n",
        "- 입력특성이 28*28이므로 784..\n"
      ]
    },
    {
      "cell_type": "markdown",
      "metadata": {
        "id": "4HpJAmmqmilb"
      },
      "source": [
        "**활성화 함수**\n",
        "\n",
        "- 뉴런의 선형방정식 계산 결과에 적용되는 함수..\n",
        "- 하나의 층으로 보기도 하는데 있기는 무조건 있다"
      ]
    },
    {
      "cell_type": "code",
      "metadata": {
        "id": "e6cHXN2amD3u"
      },
      "source": [
        "#모델만드는데는 Sequential() 클래스.. -> dense층을 이용해서 모델을 만든다!\n",
        "model = keras.Sequential(dense)"
      ],
      "execution_count": 18,
      "outputs": []
    },
    {
      "cell_type": "markdown",
      "metadata": {
        "id": "ZxD3sxVonEeq"
      },
      "source": [
        "**인공 신경망으로 패션 아이템 분류하기**"
      ]
    },
    {
      "cell_type": "markdown",
      "metadata": {
        "id": "zMy3ByEhnHeM"
      },
      "source": [
        "케라스 모델은 훈련하기전 설정단계가 있다\n",
        "\n",
        "model()객체의 compile() 메서드를 수행한다\n",
        "\n",
        "손실함수를 꼭 지정해야 하고 훈련과정에서 계산하고 싶은 측정값을 지정한다."
      ]
    },
    {
      "cell_type": "code",
      "metadata": {
        "id": "Gw2OG8BNnmBN"
      },
      "source": [
        "model.compile(loss='sparse_categorical_crossentropy', metrics='accuracy')"
      ],
      "execution_count": 19,
      "outputs": []
    },
    {
      "cell_type": "markdown",
      "metadata": {
        "id": "m3MfLplYnkgZ"
      },
      "source": [
        "로지스틱 회귀\n",
        "    \n",
        "    - 이진 분류 : 이진 크로스 엔트로피 손실 함수\n",
        "    - 다중 분류 : 크로스 엔트로피 손실 함수\n",
        "\n",
        "케라스\n",
        "\n",
        "    - 이진 분류 : loss = 'binary_crossentropy'\n",
        "    - 다중 분류 : loss = 'categorical_crossentropy'\n",
        "\n",
        "이렇게 같은걸 다르게 부르는 거 뿐이다"
      ]
    },
    {
      "cell_type": "markdown",
      "metadata": {
        "id": "ZGeO8kDtomUK"
      },
      "source": [
        "로지스틱에서 이진 크로스 엔트로피에서..\n",
        "\n",
        "- -log(a) * (타깃값) 혹은 -log(1-a) * (1-타깃값) 으로 계산했다\n",
        "- 하나의 뉴런만으로 양성 음성클래스 모두 계산 가능했다.."
      ]
    },
    {
      "cell_type": "markdown",
      "metadata": {
        "id": "4VxRaCgjo6NI"
      },
      "source": [
        "그럼 다중분류일 때는?  ->  **원핫인코딩!**\n",
        "\n",
        "하는 이유 : **다중 분류에서 출력층에서 만든 확률과 크로스 엔트로피 손실을 계산하기 위해서**\n",
        "\n",
        "- 원하는 클래스의 손실값을 계산하기위해 그 클래스말고 나머지 확률에는 모두 0을 곱한다\n",
        "- 결국 활성화함수 출력값(a1 ~ a10)에서 원하는 클래스만 1이 타깃이고 나머지는 다 0..\n",
        "- ex) [0, 0, 0, 1, 0, 0, 0, 0, 0, 0] 이런 배열을 [a1, a2, a3, ... ,a10]에 곱함\n",
        "- 그 계산을 하고 나온 값이 1에 가까울 수록 신경망이 정확하게 분류하는 것이다.."
      ]
    },
    {
      "cell_type": "code",
      "metadata": {
        "colab": {
          "base_uri": "https://localhost:8080/"
        },
        "id": "YplrYNQnrNFR",
        "outputId": "1ae2096c-e3f7-4121-fe1c-bd69e5de748b"
      },
      "source": [
        "print(train_target[:10])"
      ],
      "execution_count": 20,
      "outputs": [
        {
          "output_type": "stream",
          "text": [
            "[7 3 5 8 6 9 3 3 9 9]\n"
          ],
          "name": "stdout"
        }
      ]
    },
    {
      "cell_type": "markdown",
      "metadata": {
        "id": "ZcYTFjwRqXkT"
      },
      "source": [
        "텐서플로에서는 지금처럼 타깃값이 정수인 것은 원핫인코딩으로 안바꿔도 됨..\n",
        "\n",
        "정수로된 타깃값을 사용해 크로스 엔트로피 손실을 계산한 것 : sparse_categorical_crossentropy!"
      ]
    },
    {
      "cell_type": "markdown",
      "metadata": {
        "id": "FyY4wJsVq6CV"
      },
      "source": [
        "metric 매개변수\n",
        "\n",
        "- 훈련과정에서 측정하고 싶은 지표를 지정한다\n",
        "\n",
        "- 케라스는 기본적으로 각 에포크마다 손실 값을 출력해준다..\n",
        "\n",
        "- 손실값이 줄어가는 걸 보고 좋아할 수도 있는데, 정확도도 있으면 좋다..\n",
        "\n",
        "- 그래서 metric = 'accuracy'를 지정했다.."
      ]
    },
    {
      "cell_type": "code",
      "metadata": {
        "colab": {
          "base_uri": "https://localhost:8080/"
        },
        "id": "XAPeU6-MoIbs",
        "outputId": "4976322b-962f-4169-b5c1-a46d963df3de"
      },
      "source": [
        "model.fit(train_scaled, train_target, epochs=5) #에포크수 지정.."
      ],
      "execution_count": 21,
      "outputs": [
        {
          "output_type": "stream",
          "text": [
            "Epoch 1/5\n",
            "1500/1500 [==============================] - 5s 2ms/step - loss: 0.6016 - accuracy: 0.7942\n",
            "Epoch 2/5\n",
            "1500/1500 [==============================] - 2s 2ms/step - loss: 0.4789 - accuracy: 0.8397\n",
            "Epoch 3/5\n",
            "1500/1500 [==============================] - 2s 2ms/step - loss: 0.4554 - accuracy: 0.8485\n",
            "Epoch 4/5\n",
            "1500/1500 [==============================] - 2s 2ms/step - loss: 0.4441 - accuracy: 0.8521\n",
            "Epoch 5/5\n",
            "1500/1500 [==============================] - 2s 2ms/step - loss: 0.4360 - accuracy: 0.8558\n"
          ],
          "name": "stdout"
        },
        {
          "output_type": "execute_result",
          "data": {
            "text/plain": [
              "<tensorflow.python.keras.callbacks.History at 0x7f6c826a4cd0>"
            ]
          },
          "metadata": {
            "tags": []
          },
          "execution_count": 21
        }
      ]
    },
    {
      "cell_type": "code",
      "metadata": {
        "colab": {
          "base_uri": "https://localhost:8080/"
        },
        "id": "PRBylljrrXG2",
        "outputId": "b4c81a17-a61c-4de5-eb6b-673e7ff19441"
      },
      "source": [
        "#모델 성능 평가하는 evaluate()메서드..\n",
        "model.evaluate(val_scaled, val_target)"
      ],
      "execution_count": 22,
      "outputs": [
        {
          "output_type": "stream",
          "text": [
            "375/375 [==============================] - 1s 1ms/step - loss: 0.4541 - accuracy: 0.8470\n"
          ],
          "name": "stdout"
        },
        {
          "output_type": "execute_result",
          "data": {
            "text/plain": [
              "[0.4540669620037079, 0.847000002861023]"
            ]
          },
          "metadata": {
            "tags": []
          },
          "execution_count": 22
        }
      ]
    },
    {
      "cell_type": "markdown",
      "metadata": {
        "id": "Nn5Q-6NGrp3O"
      },
      "source": [
        "**사이킷런 모델과 케라스 모델의 차이**"
      ]
    },
    {
      "cell_type": "code",
      "metadata": {
        "colab": {
          "base_uri": "https://localhost:8080/",
          "height": 0
        },
        "id": "JS5e4h9mrjHj",
        "outputId": "b13c6dc5-2faa-4977-c456-f2b8e99648a2"
      },
      "source": [
        "\"\"\"\n",
        "사이킷런 모델\n",
        "\n",
        "from sklearn.linear_model import SGDClassifier\n",
        "sc = SGDClassifier(loss = 'log', max_iter=5)        ->객체 생성 시 바로 손실함수와 반복횟수 지정\n",
        "sc.fit(train_scaled, train_target)                  ->훈련\n",
        "sc.score(val_scaled, val_target)                    ->평가 메서드\n",
        "\n",
        "케라스 모델\n",
        "\n",
        "from tensorflow import keras\n",
        "dense = keras.layers.Dense(10,activation='softmax', input_shape=(784,))     -> 층 생성\n",
        "model = keras.Sequential(dense)                                             -> 모델 생성(Sequential 클래스 사용)\n",
        "model.compile(loss='sparse_categorical_crossentropy',metric='accuracy')     -> 설정단계에서 손실함수와 출력할 거 지정\n",
        "model.fit(train_scaled, train_target, epoch = 5)                            -> 모델 훈련, 에포크수 지정\n",
        "model.evaluate(val_scaled, val_target)                                      -> 평가 메서드\n",
        "\"\"\""
      ],
      "execution_count": 23,
      "outputs": [
        {
          "output_type": "execute_result",
          "data": {
            "application/vnd.google.colaboratory.intrinsic+json": {
              "type": "string"
            },
            "text/plain": [
              "\"\\n사이킷런 모델\\n\\nfrom sklearn.linear_model import SGDClassifier\\nsc = SGDClassifier(loss = 'log', max_iter=5)        ->객체 생성 시 바로 손실함수와 반복횟수 지정\\nsc.fit(train_scaled, train_target)                  ->훈련\\nsc.score(val_scaled, val_target)                    ->평가 메서드\\n\\n케라스 모델\\n\\nfrom tensorflow import keras\\ndense = keras.layers.Dense(10,activation='softmax', input_shape=(784,))     -> 층 생성\\nmodel = keras.Sequential(dense)                                             -> 모델 생성(Sequential 클래스 사용)\\nmodel.compile(loss='sparse_categorical_crossentropy',metric='accuracy')     -> 설정단계에서 손실함수와 출력할 거 지정\\nmodel.fit(train_scaled, train_target, epoch = 5)                            -> 모델 훈련, 에포크수 지정\\nmodel.evaluate(val_scaled, val_target)                                      -> 평가 메서드\\n\""
            ]
          },
          "metadata": {
            "tags": []
          },
          "execution_count": 23
        }
      ]
    },
    {
      "cell_type": "markdown",
      "metadata": {
        "id": "75RUksxet61L"
      },
      "source": [
        "#7.2 심층 신경망(DNN)"
      ]
    },
    {
      "cell_type": "markdown",
      "metadata": {
        "id": "P9cIsDWDt_rj"
      },
      "source": [
        "**2개의 층**"
      ]
    },
    {
      "cell_type": "code",
      "metadata": {
        "id": "F9vko0RXuMNA"
      },
      "source": [
        "#데이터 준비\n",
        "# 스케일링 및 1차원으로의 변경\n",
        "from tensorflow import keras\n",
        "(train_input, train_target), (test_input, test_target) = keras.datasets.fashion_mnist.load_data()"
      ],
      "execution_count": 24,
      "outputs": []
    },
    {
      "cell_type": "code",
      "metadata": {
        "id": "wlt3ACaluVMS"
      },
      "source": [
        "from sklearn.model_selection import train_test_split\n",
        "train_scaled = train_input/255.0\n",
        "train_scaled = train_scaled.reshape(-1, 28*28)\n",
        "train_scaled, val_scaled, train_target, val_target = train_test_split(train_scaled, train_target, test_size=0.2, random_state=42)"
      ],
      "execution_count": 25,
      "outputs": []
    },
    {
      "cell_type": "markdown",
      "metadata": {
        "id": "zsfHI3BIu37r"
      },
      "source": [
        "**은닉층**\n",
        "\n",
        ": 입력층과 츨력층 사이에 또다른 밀집층이 추가됨\n",
        "\n",
        ": 이렇게 사이에 추가된 모든 밀집층을 은닉층이라고 한다\n",
        "\n",
        ": 모든 은닉층에는 활성화 함수가 존재한다  ->  활성화함수가 없으면 하는 역할이 없다..\n",
        "\n",
        ": 은닉층의 활성화함수는 출력층 보다는 자유롭다\n",
        "\n",
        ": 은닉층의 뉴런 갯수는 출력층의 뉴런보다만 많으면 된다."
      ]
    },
    {
      "cell_type": "code",
      "metadata": {
        "id": "oZDTt0dEu1iz"
      },
      "source": [
        "#은닉층과 출력층 만들기\n",
        "dense1 = keras.layers.Dense(100,activation='sigmoid', input_shape=(784,))       #은닉층\n",
        "dense2 = keras.layers.Dense(10, activation='softmax')                           #출력층"
      ],
      "execution_count": 26,
      "outputs": []
    },
    {
      "cell_type": "markdown",
      "metadata": {
        "id": "u0U9Sc-owDP1"
      },
      "source": [
        "**심층 신경망 만들기**"
      ]
    },
    {
      "cell_type": "code",
      "metadata": {
        "id": "ekYYbumOwCed"
      },
      "source": [
        "#층 여러개 추가하려면 리스트로 추가\n",
        "#층을 추가하여 강력한 성능을 낸다..\n",
        "model = keras.Sequential([dense1, dense2])"
      ],
      "execution_count": 27,
      "outputs": []
    },
    {
      "cell_type": "code",
      "metadata": {
        "colab": {
          "base_uri": "https://localhost:8080/"
        },
        "id": "Jr8FsqC2wJgY",
        "outputId": "6471ee27-f346-47f1-ea5c-6e56b8ea3444"
      },
      "source": [
        "model.summary()"
      ],
      "execution_count": 28,
      "outputs": [
        {
          "output_type": "stream",
          "text": [
            "Model: \"sequential_1\"\n",
            "_________________________________________________________________\n",
            "Layer (type)                 Output Shape              Param #   \n",
            "=================================================================\n",
            "dense_1 (Dense)              (None, 100)               78500     \n",
            "_________________________________________________________________\n",
            "dense_2 (Dense)              (None, 10)                1010      \n",
            "=================================================================\n",
            "Total params: 79,510\n",
            "Trainable params: 79,510\n",
            "Non-trainable params: 0\n",
            "_________________________________________________________________\n"
          ],
          "name": "stdout"
        }
      ]
    },
    {
      "cell_type": "markdown",
      "metadata": {
        "id": "boL21BNcxfIc"
      },
      "source": [
        "summary()메서드 분석\n",
        "\n",
        "    1) 모델이름\n",
        "\n",
        "    2) 모델의 층이 순서대로 나열됨\n",
        "        - 층마다 이름, 클래스, 출력크기, 모델파라미터수가 출력됨\n",
        "        - 입력 샘플개수가 None인데, 이는 fit()할 때 데이터를 미니배치 경사하강법을 사용해서 아직 정의 안됨\n",
        "        - 기본 미니배치 32, fit의 batch_size에서 지정가능\n",
        "    3) 총 모델 파라미터수와 훈련되지 않는 파라미터 갯수 출력"
      ]
    },
    {
      "cell_type": "markdown",
      "metadata": {
        "id": "SBMCqPxqyR0y"
      },
      "source": [
        "**층을 추가하는 다른 방법**"
      ]
    },
    {
      "cell_type": "code",
      "metadata": {
        "id": "XfAgridnxdF6"
      },
      "source": [
        "#직접 추가해서 바로 만듦..\n",
        "model = keras.Sequential([keras.layers.Dense(100,activation='sigmoid',input_shape=(784,),name='hidden'), \n",
        "                          keras.layers.Dense(10,activation='softmax', name='output')], name='패션 MNIST 모델')"
      ],
      "execution_count": 29,
      "outputs": []
    },
    {
      "cell_type": "code",
      "metadata": {
        "colab": {
          "base_uri": "https://localhost:8080/"
        },
        "id": "wHbz_w7Vywog",
        "outputId": "917d7dbc-d4fe-409a-ba65-1d0055341157"
      },
      "source": [
        "#이름을 지정하는 name매개변수..\n",
        "model.summary()"
      ],
      "execution_count": 30,
      "outputs": [
        {
          "output_type": "stream",
          "text": [
            "Model: \"패션 MNIST 모델\"\n",
            "_________________________________________________________________\n",
            "Layer (type)                 Output Shape              Param #   \n",
            "=================================================================\n",
            "hidden (Dense)               (None, 100)               78500     \n",
            "_________________________________________________________________\n",
            "output (Dense)               (None, 10)                1010      \n",
            "=================================================================\n",
            "Total params: 79,510\n",
            "Trainable params: 79,510\n",
            "Non-trainable params: 0\n",
            "_________________________________________________________________\n"
          ],
          "name": "stdout"
        }
      ]
    },
    {
      "cell_type": "code",
      "metadata": {
        "id": "l11ujcB_y3Sd"
      },
      "source": [
        "#층을 추가할때 사용하는 Sequential클래스의 add()메서드\n",
        "\n",
        "model = keras.Sequential()\n",
        "model.add(keras.layers.Dense(100,activation='sigmoid',input_shape=(784,),name='hidden'))\n",
        "model.add(keras.layers.Dense(10,activation='softmax',name='output'))"
      ],
      "execution_count": 31,
      "outputs": []
    },
    {
      "cell_type": "code",
      "metadata": {
        "colab": {
          "base_uri": "https://localhost:8080/"
        },
        "id": "fN3HBbi4za9m",
        "outputId": "2bf57b30-9802-42cb-fae8-ba81a3cc597e"
      },
      "source": [
        "model.summary()"
      ],
      "execution_count": 32,
      "outputs": [
        {
          "output_type": "stream",
          "text": [
            "Model: \"sequential_2\"\n",
            "_________________________________________________________________\n",
            "Layer (type)                 Output Shape              Param #   \n",
            "=================================================================\n",
            "hidden (Dense)               (None, 100)               78500     \n",
            "_________________________________________________________________\n",
            "output (Dense)               (None, 10)                1010      \n",
            "=================================================================\n",
            "Total params: 79,510\n",
            "Trainable params: 79,510\n",
            "Non-trainable params: 0\n",
            "_________________________________________________________________\n"
          ],
          "name": "stdout"
        }
      ]
    },
    {
      "cell_type": "code",
      "metadata": {
        "colab": {
          "base_uri": "https://localhost:8080/"
        },
        "id": "EHPowcYyzcWQ",
        "outputId": "a84a9c56-2f4a-413a-9b49-6120fe923a9d"
      },
      "source": [
        "#모델 훈련.. 전에 설정단계 필수!\n",
        "model.compile(loss='sparse_categorical_crossentropy', metrics='accuracy')\n",
        "model.fit(train_scaled, train_target, epochs=5)"
      ],
      "execution_count": 33,
      "outputs": [
        {
          "output_type": "stream",
          "text": [
            "Epoch 1/5\n",
            "1500/1500 [==============================] - 3s 2ms/step - loss: 0.5664 - accuracy: 0.8052\n",
            "Epoch 2/5\n",
            "1500/1500 [==============================] - 3s 2ms/step - loss: 0.4072 - accuracy: 0.8536\n",
            "Epoch 3/5\n",
            "1500/1500 [==============================] - 3s 2ms/step - loss: 0.3731 - accuracy: 0.8662\n",
            "Epoch 4/5\n",
            "1500/1500 [==============================] - 3s 2ms/step - loss: 0.3509 - accuracy: 0.8739\n",
            "Epoch 5/5\n",
            "1500/1500 [==============================] - 3s 2ms/step - loss: 0.3343 - accuracy: 0.8794\n"
          ],
          "name": "stdout"
        },
        {
          "output_type": "execute_result",
          "data": {
            "text/plain": [
              "<tensorflow.python.keras.callbacks.History at 0x7f6c824d6f90>"
            ]
          },
          "metadata": {
            "tags": []
          },
          "execution_count": 33
        }
      ]
    },
    {
      "cell_type": "markdown",
      "metadata": {
        "id": "b5uyn9lqz5WM"
      },
      "source": [
        "**렐루(ReLU)함수**"
      ]
    },
    {
      "cell_type": "markdown",
      "metadata": {
        "id": "AuU280Nwz82p"
      },
      "source": [
        "- 특히 이미지 처리에서 좋은 성능을 냄\n",
        "- 입력이 양수일 경우 그대로 출력\n",
        "- 입력이 음수면 무조건 0 출력"
      ]
    },
    {
      "cell_type": "markdown",
      "metadata": {
        "id": "V3GNyllM0JPq"
      },
      "source": [
        "ReLU(z) = max(0,z)\n",
        "\n",
        "-> z가 0보다 크면 z를 출력하고 0보다 작으면 0을 출력"
      ]
    },
    {
      "cell_type": "code",
      "metadata": {
        "id": "Qae40LV9zo-v"
      },
      "source": [
        "#reshape()말고 그냥 케라스의 Flatten 층을 하나 만들어서 1차원으로 만들 수도 있다.\n",
        "\n",
        "model = keras.Sequential()\n",
        "model.add(keras.layers.Flatten(input_shape=(28,28)))\n",
        "model.add(keras.layers.Dense(100,activation='relu'))\n",
        "model.add(keras.layers.Dense(10,activation='softmax'))"
      ],
      "execution_count": 34,
      "outputs": []
    },
    {
      "cell_type": "code",
      "metadata": {
        "colab": {
          "base_uri": "https://localhost:8080/"
        },
        "id": "xHdqccLl06Yv",
        "outputId": "86e5b0df-01fa-4faf-8cd6-f700b68be412"
      },
      "source": [
        "model.summary()\n",
        "\n",
        "#그냥 단지 펼쳐주기만 하는 Flatten 층.. -> 모델 파라미터 학습은 없다..\n",
        "#입력값의 차원이 출력되므로 차원을 짐작할 수 잇다는것도 장점임"
      ],
      "execution_count": 35,
      "outputs": [
        {
          "output_type": "stream",
          "text": [
            "Model: \"sequential_3\"\n",
            "_________________________________________________________________\n",
            "Layer (type)                 Output Shape              Param #   \n",
            "=================================================================\n",
            "flatten (Flatten)            (None, 784)               0         \n",
            "_________________________________________________________________\n",
            "dense_3 (Dense)              (None, 100)               78500     \n",
            "_________________________________________________________________\n",
            "dense_4 (Dense)              (None, 10)                1010      \n",
            "=================================================================\n",
            "Total params: 79,510\n",
            "Trainable params: 79,510\n",
            "Non-trainable params: 0\n",
            "_________________________________________________________________\n"
          ],
          "name": "stdout"
        }
      ]
    },
    {
      "cell_type": "code",
      "metadata": {
        "id": "6KV4AdYz08Hv"
      },
      "source": [
        "#reshape()없이 데이터 준비..\n",
        "(train_input, train_target),(test_input,test_target)=keras.datasets.fashion_mnist.load_data()\n",
        "train_scaled= train_input/255.0\n",
        "train_scaled, val_scaled, train_target, val_target = train_test_split(train_scaled, train_target, test_size=0.2, random_state=42)"
      ],
      "execution_count": 36,
      "outputs": []
    },
    {
      "cell_type": "code",
      "metadata": {
        "colab": {
          "base_uri": "https://localhost:8080/"
        },
        "id": "tvP36MP61n5l",
        "outputId": "81cfac39-b20b-405b-a780-5953959a9695"
      },
      "source": [
        "model.compile(loss='sparse_categorical_crossentropy', metrics='accuracy')\n",
        "model.fit(train_scaled, train_target, epochs=5)"
      ],
      "execution_count": 37,
      "outputs": [
        {
          "output_type": "stream",
          "text": [
            "Epoch 1/5\n",
            "1500/1500 [==============================] - 3s 2ms/step - loss: 0.5311 - accuracy: 0.8141\n",
            "Epoch 2/5\n",
            "1500/1500 [==============================] - 3s 2ms/step - loss: 0.3930 - accuracy: 0.8583\n",
            "Epoch 3/5\n",
            "1500/1500 [==============================] - 3s 2ms/step - loss: 0.3565 - accuracy: 0.8731\n",
            "Epoch 4/5\n",
            "1500/1500 [==============================] - 3s 2ms/step - loss: 0.3324 - accuracy: 0.8805\n",
            "Epoch 5/5\n",
            "1500/1500 [==============================] - 3s 2ms/step - loss: 0.3186 - accuracy: 0.8857\n"
          ],
          "name": "stdout"
        },
        {
          "output_type": "execute_result",
          "data": {
            "text/plain": [
              "<tensorflow.python.keras.callbacks.History at 0x7f6c8234f410>"
            ]
          },
          "metadata": {
            "tags": []
          },
          "execution_count": 37
        }
      ]
    },
    {
      "cell_type": "code",
      "metadata": {
        "colab": {
          "base_uri": "https://localhost:8080/"
        },
        "id": "gpLFDqug1xcE",
        "outputId": "52a2c9c5-2fd2-4646-e359-2ffd9386ba7b"
      },
      "source": [
        "# 검증세트 성능 검증\n",
        "model.evaluate(val_scaled, val_target)"
      ],
      "execution_count": 38,
      "outputs": [
        {
          "output_type": "stream",
          "text": [
            "375/375 [==============================] - 1s 1ms/step - loss: 0.3367 - accuracy: 0.8823\n"
          ],
          "name": "stdout"
        },
        {
          "output_type": "execute_result",
          "data": {
            "text/plain": [
              "[0.336662232875824, 0.8823333382606506]"
            ]
          },
          "metadata": {
            "tags": []
          },
          "execution_count": 38
        }
      ]
    },
    {
      "cell_type": "markdown",
      "metadata": {
        "id": "tlE4jH2N2CjG"
      },
      "source": [
        "**옵티마이저**"
      ]
    },
    {
      "cell_type": "markdown",
      "metadata": {
        "id": "CStwZqxn2IS_"
      },
      "source": [
        "- 하이퍼 파라미터는 엄청 많다.. 특히 신경망에는 많다..\n",
        "\n",
        "- 케라스는 다양한 종류의 경사 하강법 알고리즘을 제공한다. 이를 **옵티마이저**라고 부른다\n",
        "\n",
        "- compile()메서드에서는 기본경사하강법 알고리즘인 RMSprop를 사용했고, 이 알고리즘을 선택해야하기 때문에 이것도 하이퍼 파라미터고, 그 알고리즘의 학습률도 하이퍼 파라미터이다.."
      ]
    },
    {
      "cell_type": "code",
      "metadata": {
        "colab": {
          "base_uri": "https://localhost:8080/",
          "height": 0
        },
        "id": "qfnVmsCi18Nv",
        "outputId": "7e68ab0e-394e-4032-b081-8a743e533048"
      },
      "source": [
        "\"\"\"\n",
        "SGD 옵티마이저 이용\n",
        "model.compile(optimizer='sgd', loss='sparse_categorical_crossentropy', metrics='accuracy')\n",
        "애도 자동으로 옵티마이저 객체를 만들긴 한다.\n",
        "\n",
        "'sgd'이렇게 안쓰려면 sgd옵티마이저 객체를 생성해놓아야한다.\n",
        "sgd = keras.optimizers.SGD()\n",
        "model.compile(optimizer=sgd, loss='sparse_categorical_crossentropy', metrics='accuracy')\n",
        "\n",
        "이렇게 쓸 수 있다\n",
        "\"\"\"\n",
        "\"\"\"\n",
        "학습률을 바꾸고 싶다면?\n",
        "sgd = keras.optimiziers.SGD(learning_rate=0.1)\n",
        "이런식으로..\n",
        "\"\"\""
      ],
      "execution_count": 39,
      "outputs": [
        {
          "output_type": "execute_result",
          "data": {
            "application/vnd.google.colaboratory.intrinsic+json": {
              "type": "string"
            },
            "text/plain": [
              "'\\n학습률을 바꾸고 싶다면?\\nsgd = keras.optimiziers.SGD(learning_rate=0.1)\\n이런식으로..\\n'"
            ]
          },
          "metadata": {
            "tags": []
          },
          "execution_count": 39
        }
      ]
    },
    {
      "cell_type": "markdown",
      "metadata": {
        "id": "g7rdz-Pb67FS"
      },
      "source": [
        "기본 경사하강법 옵티마이저\n",
        "\n",
        ": SGD (모멘텀 , 네스테로프 모멘텀)\n",
        "\n",
        "    - SGD 클래스 안에 momentum, nesterov매개변수가 있는 것이다..\n",
        "    - momentum매개변수를 0보다 큰 값으로 지정하면 모멘텀 최적화를 사용함..\n",
        "    - nesterov매개변수를 True로 바꾸면 네스테로프 모멘텀 최적화를 사용함..\n",
        "    - 대부분 네스테로프 모멘텀 최적화가 기본 보다 성능이 더 낫다\n",
        "\n",
        "적응적 학습률 옵티마이저\n",
        "\n",
        ": RMSprop, Adagrad, Adam.. 얘네는 각각의 클래스이다..\n",
        ": 학습률 매개변수를 튜닝하는 수고를 덜 수 있다.\n",
        "\n",
        "    - 모멘텀 최적화와 RMSprop의 장점을 접목한 것이 Adam이다..\n",
        "    - 모두 기본값으로 learning_rate = 0.001을 사용한다"
      ]
    },
    {
      "cell_type": "code",
      "metadata": {
        "colab": {
          "base_uri": "https://localhost:8080/",
          "height": 0
        },
        "id": "3c13xFWW8TKw",
        "outputId": "5f000d53-f890-45c9-de95-dbcf3a8b434f"
      },
      "source": [
        "\"\"\"\n",
        "Adagrad 와 RMSprop를 옵티마이저로 이용\n",
        "\n",
        "adagrad = keras.oprimizers.Adagrad()\n",
        "model.compile(optimizer=adagrad, ... )\n",
        "\n",
        "rmsprop = keras.optimizers.RMSprop()\n",
        "model.compile(optimizer=rmsprop, ... )\n",
        "\n",
        "요론식으로 둘다 가능..\n",
        "\"\"\""
      ],
      "execution_count": 40,
      "outputs": [
        {
          "output_type": "execute_result",
          "data": {
            "application/vnd.google.colaboratory.intrinsic+json": {
              "type": "string"
            },
            "text/plain": [
              "'\\nAdagrad 와 RMSprop를 옵티마이저로 이용\\n\\nadagrad = keras.oprimizers.Adagrad()\\nmodel.compile(optimizer=adagrad, ... )\\n\\nrmsprop = keras.optimizers.RMSprop()\\nmodel.compile(optimizer=rmsprop, ... )\\n\\n요론식으로 둘다 가능..\\n'"
            ]
          },
          "metadata": {
            "tags": []
          },
          "execution_count": 40
        }
      ]
    },
    {
      "cell_type": "code",
      "metadata": {
        "id": "2Fk9EzlJ8rNE"
      },
      "source": [
        "# 모멘텀 최적화와 RMSprop의 장점을 접목한 Adam옵티마이저로 훈련..\n",
        "model = keras.Sequential()\n",
        "model.add(keras.layers.Flatten(input_shape=(28,28)))\n",
        "model.add(keras.layers.Dense(100,activation='relu'))\n",
        "model.add(keras.layers.Dense(10,activation='softmax'))"
      ],
      "execution_count": 41,
      "outputs": []
    },
    {
      "cell_type": "code",
      "metadata": {
        "colab": {
          "base_uri": "https://localhost:8080/"
        },
        "id": "ePsy1Mq79CPZ",
        "outputId": "750787a6-ccb9-4752-e7fe-6e3aeb806ff3"
      },
      "source": [
        "model.compile(optimizer='adam', loss='sparse_categorical_crossentropy', metrics='accuracy')\n",
        "model.fit(train_scaled, train_target, epochs=5)\n",
        "#기본값인 RMSprop를 사용할 때랑 비슷하다.."
      ],
      "execution_count": 42,
      "outputs": [
        {
          "output_type": "stream",
          "text": [
            "Epoch 1/5\n",
            "1500/1500 [==============================] - 3s 2ms/step - loss: 0.5282 - accuracy: 0.8166\n",
            "Epoch 2/5\n",
            "1500/1500 [==============================] - 3s 2ms/step - loss: 0.3928 - accuracy: 0.8594\n",
            "Epoch 3/5\n",
            "1500/1500 [==============================] - 3s 2ms/step - loss: 0.3525 - accuracy: 0.8716\n",
            "Epoch 4/5\n",
            "1500/1500 [==============================] - 3s 2ms/step - loss: 0.3240 - accuracy: 0.8812\n",
            "Epoch 5/5\n",
            "1500/1500 [==============================] - 3s 2ms/step - loss: 0.3054 - accuracy: 0.8875\n"
          ],
          "name": "stdout"
        },
        {
          "output_type": "execute_result",
          "data": {
            "text/plain": [
              "<tensorflow.python.keras.callbacks.History at 0x7f6c821eed90>"
            ]
          },
          "metadata": {
            "tags": []
          },
          "execution_count": 42
        }
      ]
    },
    {
      "cell_type": "code",
      "metadata": {
        "colab": {
          "base_uri": "https://localhost:8080/"
        },
        "id": "KwxJzwVH9Ovg",
        "outputId": "41c2ee70-c46d-431a-bfb4-e982f1b2f32c"
      },
      "source": [
        "model.evaluate(val_scaled, val_target)"
      ],
      "execution_count": 43,
      "outputs": [
        {
          "output_type": "stream",
          "text": [
            "375/375 [==============================] - 1s 1ms/step - loss: 0.3476 - accuracy: 0.8762\n"
          ],
          "name": "stdout"
        },
        {
          "output_type": "execute_result",
          "data": {
            "text/plain": [
              "[0.3476276099681854, 0.8761666417121887]"
            ]
          },
          "metadata": {
            "tags": []
          },
          "execution_count": 43
        }
      ]
    },
    {
      "cell_type": "markdown",
      "metadata": {
        "id": "5Xo63y6a-qwY"
      },
      "source": [
        "#7.3 신경망 모델 훈련"
      ]
    },
    {
      "cell_type": "markdown",
      "metadata": {
        "id": "8ylALbHLOZML"
      },
      "source": [
        "**손실 곡선**"
      ]
    },
    {
      "cell_type": "markdown",
      "metadata": {
        "id": "WaR6_y4UOhMj"
      },
      "source": [
        "fit()이라는 메서드는 History 클래스 개게를 반환한다..\n",
        "\n",
        "History 객체에는 훈련과정에서 계산한 지표(손실과 정확도)가 저장되어 있다"
      ]
    },
    {
      "cell_type": "code",
      "metadata": {
        "id": "Mq4W5BAp9Z5h"
      },
      "source": [
        "from tensorflow import keras\n",
        "from sklearn.model_selection import train_test_split\n",
        "(train_input, train_target), (test_input, test_target) = keras.datasets.fashion_mnist.load_data()\n",
        "train_scaled = train_input/255.0\n",
        "train_scaled, val_scaled, train_target, val_target = train_test_split(train_scaled, train_target, test_size=0.2, random_state=42)"
      ],
      "execution_count": 44,
      "outputs": []
    },
    {
      "cell_type": "code",
      "metadata": {
        "id": "exsVyXumPGrY"
      },
      "source": [
        "#모델을 만드는 함수..\n",
        "\n",
        "def model_fn(a_layer=None):\n",
        "    model = keras.Sequential()\n",
        "    model.add(keras.layers.Flatten(input_shape=(28,28)))        #Flatten층\n",
        "    model.add(keras.layers.Dense(100,activation='relu'))        #은닉층 하나는 무조건\n",
        "    if a_layer:     #특별히 추가하라는 층이 있으면 만든다..\n",
        "        model.add(a_layer)\n",
        "    model.add(keras.layers.Dense(10,activation='softmax'))      #출력층..\n",
        "    return model"
      ],
      "execution_count": 45,
      "outputs": []
    },
    {
      "cell_type": "code",
      "metadata": {
        "colab": {
          "base_uri": "https://localhost:8080/"
        },
        "id": "sW6AejkfPn44",
        "outputId": "a3d5225d-46ec-473e-894e-599cdf2b7de8"
      },
      "source": [
        "model = model_fn()\n",
        "model.summary()"
      ],
      "execution_count": 46,
      "outputs": [
        {
          "output_type": "stream",
          "text": [
            "Model: \"sequential_5\"\n",
            "_________________________________________________________________\n",
            "Layer (type)                 Output Shape              Param #   \n",
            "=================================================================\n",
            "flatten_2 (Flatten)          (None, 784)               0         \n",
            "_________________________________________________________________\n",
            "dense_7 (Dense)              (None, 100)               78500     \n",
            "_________________________________________________________________\n",
            "dense_8 (Dense)              (None, 10)                1010      \n",
            "=================================================================\n",
            "Total params: 79,510\n",
            "Trainable params: 79,510\n",
            "Non-trainable params: 0\n",
            "_________________________________________________________________\n"
          ],
          "name": "stdout"
        }
      ]
    },
    {
      "cell_type": "code",
      "metadata": {
        "id": "l4ROsKEkPq8w"
      },
      "source": [
        "#History객체를 변수에 담아보자\n",
        "model.compile(loss='sparse_categorical_crossentropy', metrics='accuracy')\n",
        "history = model.fit(train_scaled, train_target, epochs=5, verbose=0)\n",
        "#verbose : 훈련과정 출력을 조절함..  기본값 1 : 모든 에포크마다 지표출력.. 0이면 출력안함.."
      ],
      "execution_count": 47,
      "outputs": []
    },
    {
      "cell_type": "code",
      "metadata": {
        "colab": {
          "base_uri": "https://localhost:8080/"
        },
        "id": "USOb3RLSQZA5",
        "outputId": "593617dd-7a57-4028-e925-ca7adbee0baa"
      },
      "source": [
        "#히스토리 객체에는 훈련 측정값이 담겨있는 history딕셔너리가 들어있다..\n",
        "#딕셔너리에 뭐가 있을까?\n",
        "\n",
        "print(history.history.keys())\n",
        "#손실과 정확도.. metrics='accuracy'를 지정했기 때문에 정확도도 저장되어있다.."
      ],
      "execution_count": 48,
      "outputs": [
        {
          "output_type": "stream",
          "text": [
            "dict_keys(['loss', 'accuracy'])\n"
          ],
          "name": "stdout"
        }
      ]
    },
    {
      "cell_type": "code",
      "metadata": {
        "colab": {
          "base_uri": "https://localhost:8080/",
          "height": 279
        },
        "id": "SsUMfMoyQi1v",
        "outputId": "347cde31-0d80-4553-da14-4c58939108a9"
      },
      "source": [
        "#에포크마다 손실값을 그려보자..\n",
        "import matplotlib.pyplot as plt\n",
        "plt.plot(history.history['loss'])\n",
        "plt.xlabel('epoch')\n",
        "plt.ylabel('loss')\n",
        "plt.show()"
      ],
      "execution_count": 49,
      "outputs": [
        {
          "output_type": "display_data",
          "data": {
            "image/png": "[encoded data removed]",
            "text/plain": [
              "<Figure size 432x288 with 1 Axes>"
            ]
          },
          "metadata": {
            "tags": [],
            "needs_background": "light"
          }
        }
      ]
    },
    {
      "cell_type": "code",
      "metadata": {
        "colab": {
          "base_uri": "https://localhost:8080/",
          "height": 279
        },
        "id": "MkDeBHqeQ61s",
        "outputId": "acfde8cb-a649-41e2-8d43-6cc3c0da038d"
      },
      "source": [
        "# 정확도 그래프\n",
        "plt.plot(history.history['accuracy'])\n",
        "plt.xlabel('epoch')\n",
        "plt.ylabel('accuracy')\n",
        "plt.show()"
      ],
      "execution_count": 50,
      "outputs": [
        {
          "output_type": "display_data",
          "data": {
            "image/png": "[encoded data removed]",
            "text/plain": [
              "<Figure size 432x288 with 1 Axes>"
            ]
          },
          "metadata": {
            "tags": [],
            "needs_background": "light"
          }
        }
      ]
    },
    {
      "cell_type": "code",
      "metadata": {
        "colab": {
          "base_uri": "https://localhost:8080/",
          "height": 279
        },
        "id": "sRZxv7USRGh4",
        "outputId": "02edc53a-42df-4234-a6dd-3dec9f64461d"
      },
      "source": [
        "#에포크를 늘리면 손실은 계속 줄어들 수 있지만 훈련세트에 과대적합 될 수 있다..\n",
        "model = model_fn()\n",
        "model.compile(loss='sparse_categorical_crossentropy', metrics='accuracy')\n",
        "history = model.fit(train_scaled, train_target, epochs=20,verbose=0)\n",
        "plt.plot(history.history['loss'])\n",
        "plt.xlabel('epoch')\n",
        "plt.ylabel('loss')\n",
        "plt.show()"
      ],
      "execution_count": 51,
      "outputs": [
        {
          "output_type": "display_data",
          "data": {
            "image/png": "[encoded data removed]",
            "text/plain": [
              "<Figure size 432x288 with 1 Axes>"
            ]
          },
          "metadata": {
            "tags": [],
            "needs_background": "light"
          }
        }
      ]
    },
    {
      "cell_type": "markdown",
      "metadata": {
        "id": "Wg9GKTBmR_DP"
      },
      "source": [
        "**검증손실**"
      ]
    },
    {
      "cell_type": "markdown",
      "metadata": {
        "id": "WQIqfHBSSA3b"
      },
      "source": [
        "훈련세트의 손실만 계속 줄이다보면 과대적합된다..\n",
        "\n",
        "검증세트의 점수도 적절해야한다..\n",
        "\n",
        "검증세트의 손실도 저장하려면 fit()메서드에 validation_data매개변수에 검증데이테의 입력과 타깃을 튜플로 묶어 전달해야한다."
      ]
    },
    {
      "cell_type": "code",
      "metadata": {
        "id": "xbPyFYUSRcZD"
      },
      "source": [
        "model = model_fn()\n",
        "model.compile(loss='sparse_categorical_crossentropy', metrics='accuracy')\n",
        "history = model.fit(train_scaled, train_target, epochs=20,verbose=0, validation_data=(val_scaled, val_target))"
      ],
      "execution_count": 52,
      "outputs": []
    },
    {
      "cell_type": "code",
      "metadata": {
        "colab": {
          "base_uri": "https://localhost:8080/"
        },
        "id": "jTz82uS9SgQB",
        "outputId": "95a74c9b-9353-4d93-daf0-4de23ebe0a76"
      },
      "source": [
        "print(history.history.keys())\n",
        "#검증 손실, 검증 정확도 추가됨.. fit()에 검증데이터가 들어가서 그럼"
      ],
      "execution_count": 53,
      "outputs": [
        {
          "output_type": "stream",
          "text": [
            "dict_keys(['loss', 'accuracy', 'val_loss', 'val_accuracy'])\n"
          ],
          "name": "stdout"
        }
      ]
    },
    {
      "cell_type": "code",
      "metadata": {
        "colab": {
          "base_uri": "https://localhost:8080/",
          "height": 279
        },
        "id": "puHPKn4sTl2k",
        "outputId": "3233f37f-998a-44f9-d30b-68a0fc92530a"
      },
      "source": [
        "plt.plot(history.history['loss'])\n",
        "plt.plot(history.history['val_loss'])\n",
        "plt.xlabel('epoch')\n",
        "plt.ylabel('loss')\n",
        "plt.show()"
      ],
      "execution_count": 54,
      "outputs": [
        {
          "output_type": "display_data",
          "data": {
            "image/png": "[encoded data removed]",
            "text/plain": [
              "<Figure size 432x288 with 1 Axes>"
            ]
          },
          "metadata": {
            "tags": [],
            "needs_background": "light"
          }
        }
      ]
    },
    {
      "cell_type": "markdown",
      "metadata": {
        "id": "ZqG8Qp9PT28q"
      },
      "source": [
        "검증세트 손실이 여기서는 2.5에포크 이후에 꾸준히 증가한다... -> 그 이후로는 과대적합!\n",
        "\n",
        "과대적합을 억제하기위한 신경망 특화 규제방법도 있다..\n",
        "\n",
        "여기서는 일단 옵티마이저를 이용 -> Adam옵티마이저.."
      ]
    },
    {
      "cell_type": "code",
      "metadata": {
        "colab": {
          "base_uri": "https://localhost:8080/",
          "height": 279
        },
        "id": "ikhPiv6iT0iF",
        "outputId": "fbbc5552-aaaf-41c5-ffec-8e64e8bb4d4b"
      },
      "source": [
        "model= model_fn()\n",
        "model.compile(optimizer='adam', loss='sparse_categorical_crossentropy', metrics='accuracy')\n",
        "history = model.fit(train_scaled, train_target, epochs=20, verbose=0, validation_data=(val_scaled, val_target))\n",
        "plt.plot(history.history['loss'])\n",
        "plt.plot(history.history['val_loss'])\n",
        "plt.xlabel('epoch')\n",
        "plt.ylabel('loss')\n",
        "plt.show()"
      ],
      "execution_count": 57,
      "outputs": [
        {
          "output_type": "display_data",
          "data": {
            "image/png": "[encoded data removed]",
            "text/plain": [
              "<Figure size 432x288 with 1 Axes>"
            ]
          },
          "metadata": {
            "tags": [],
            "needs_background": "light"
          }
        }
      ]
    },
    {
      "cell_type": "markdown",
      "metadata": {
        "id": "ew7Y4VxoVQOB"
      },
      "source": [
        "과대적합이 훨씬 줄었다..\n",
        "\n",
        "Adam옵티마이저가 이 데이터 셋에 잘 맞음..\n",
        "\n",
        "더 나은 것을 얻으려면 학습률을 조정해서 다시 시도 하면 됨.."
      ]
    },
    {
      "cell_type": "code",
      "metadata": {
        "colab": {
          "base_uri": "https://localhost:8080/",
          "height": 283
        },
        "id": "fkknySf4Ucd8",
        "outputId": "a7ced0ec-c3e2-4da1-d97c-1221a3ef669c"
      },
      "source": [
        "adam = keras.optimizers.Adam(learning_rate=0.002)\n",
        "model.compile(optimizer=adam, loss='sparse_categorical_crossentropy', metrics='accuracy')\n",
        "history = model.fit(train_scaled, train_target, epochs=20, verbose=0, validation_data=(val_scaled, val_target))\n",
        "plt.plot(history.history['loss'])\n",
        "plt.plot(history.history['val_loss'])\n",
        "plt.xlabel('epoch')\n",
        "plt.ylabel('loss')\n",
        "plt.show()"
      ],
      "execution_count": 58,
      "outputs": [
        {
          "output_type": "display_data",
          "data": {
            "image/png": "[encoded data removed]",
            "text/plain": [
              "<Figure size 432x288 with 1 Axes>"
            ]
          },
          "metadata": {
            "tags": [],
            "needs_background": "light"
          }
        }
      ]
    },
    {
      "cell_type": "code",
      "metadata": {
        "colab": {
          "base_uri": "https://localhost:8080/",
          "height": 279
        },
        "id": "mmz9z9V1V7gg",
        "outputId": "9a223483-be14-4315-8e8a-8ab44aed8610"
      },
      "source": [
        "adam = keras.optimizers.Adam(learning_rate=0.0005)\n",
        "model.compile(optimizer=adam, loss='sparse_categorical_crossentropy', metrics='accuracy')\n",
        "history = model.fit(train_scaled, train_target, epochs=20, verbose=0, validation_data=(val_scaled, val_target))\n",
        "plt.plot(history.history['loss'])\n",
        "plt.plot(history.history['val_loss'])\n",
        "plt.xlabel('epoch')\n",
        "plt.ylabel('loss')\n",
        "plt.show()"
      ],
      "execution_count": 59,
      "outputs": [
        {
          "output_type": "display_data",
          "data": {
            "image/png": "[encoded data removed]",
            "text/plain": [
              "<Figure size 432x288 with 1 Axes>"
            ]
          },
          "metadata": {
            "tags": [],
            "needs_background": "light"
          }
        }
      ]
    },
    {
      "cell_type": "markdown",
      "metadata": {
        "id": "Yt2YxPpVWsMz"
      },
      "source": [
        "학습률을 어떻게 해야할까..??"
      ]
    },
    {
      "cell_type": "markdown",
      "metadata": {
        "id": "H1dRqaehWzgb"
      },
      "source": [
        "**드롭아웃**"
      ]
    },
    {
      "cell_type": "markdown",
      "metadata": {
        "id": "Wjg3r9zEW02E"
      },
      "source": [
        "- 제프리 힌턴이 소개함..\n",
        "\n",
        "- 훈련과정에서 층에 있는 일부 뉴런을 랜덤하게 꺼서(뉴런의 출력을 0으로 만듦) 과대적합을 막는다.\n",
        "\n",
        "- 일부 뉴런이 랜덤하게 꺼지면 특정 뉴런에 과대하게 의존하는 것을 줄일 수 있다..\n",
        "\n",
        "- p.401의 두 신경망 그림을 보면 마치 두 개의 신경망을 앙상블하는 것처럼 상상도 가능.. -> 과대적합을 막을 수 있다!\n",
        "\n",
        "- keras.layers 패키지에 Dropout 클래스를 제공..\n",
        "\n",
        "- 어떤 층 뒤에 드롭아웃을 두어서 그 층의 출력을 랜덤하게 0으로 만든다.. -> 하지만 훈련되는 모델 파라미터는 없다.."
      ]
    },
    {
      "cell_type": "code",
      "metadata": {
        "colab": {
          "base_uri": "https://localhost:8080/"
        },
        "id": "qJfsmxJeWOVw",
        "outputId": "2341999e-cb1d-4ffd-abe8-04146238a0d0"
      },
      "source": [
        "model = model_fn(keras.layers.Dropout(0.3))     #30프로를 드롭아웃하겠다..\n",
        "model.summary()\n",
        "#은닉층 뒤에 드롭아웃하는 층이 들어감..\n",
        "#훈련하는 모델 파라미터는 없음"
      ],
      "execution_count": 61,
      "outputs": [
        {
          "output_type": "stream",
          "text": [
            "Model: \"sequential_11\"\n",
            "_________________________________________________________________\n",
            "Layer (type)                 Output Shape              Param #   \n",
            "=================================================================\n",
            "flatten_8 (Flatten)          (None, 784)               0         \n",
            "_________________________________________________________________\n",
            "dense_19 (Dense)             (None, 100)               78500     \n",
            "_________________________________________________________________\n",
            "dropout (Dropout)            (None, 100)               0         \n",
            "_________________________________________________________________\n",
            "dense_20 (Dense)             (None, 10)                1010      \n",
            "=================================================================\n",
            "Total params: 79,510\n",
            "Trainable params: 79,510\n",
            "Non-trainable params: 0\n",
            "_________________________________________________________________\n"
          ],
          "name": "stdout"
        }
      ]
    },
    {
      "cell_type": "code",
      "metadata": {
        "colab": {
          "base_uri": "https://localhost:8080/",
          "height": 279
        },
        "id": "SJY8JdoiXiE0",
        "outputId": "e7997596-ed3b-4f34-bb61-318783678243"
      },
      "source": [
        "#하지만 평가나 예측을 할때는 드롭아웃을 쓰면 안된다..\n",
        "#텐서플로와 케라스가 알아서 드롭아웃을 빼준다..\n",
        "model.compile(optimizer='adam', loss='sparse_categorical_crossentropy', metrics='accuracy')\n",
        "history = model.fit(train_scaled, train_target, epochs=20, verbose=0, validation_data=(val_scaled, val_target))\n",
        "plt.plot(history.history['loss'])\n",
        "plt.plot(history.history['val_loss'])\n",
        "plt.xlabel('epoch')\n",
        "plt.ylabel('loss')\n",
        "plt.legend(['train','val'])\n",
        "plt.show()\n",
        "# 훈련세트와 검증세트의 손실을 그래프고 그림..\n",
        "# 조금 과대적합 된거 같으니까 에포크를 10으로 다시 지정하고 훈련!"
      ],
      "execution_count": 62,
      "outputs": [
        {
          "output_type": "display_data",
          "data": {
            "image/png": "[encoded data removed]",
            "text/plain": [
              "<Figure size 432x288 with 1 Axes>"
            ]
          },
          "metadata": {
            "tags": [],
            "needs_background": "light"
          }
        }
      ]
    },
    {
      "cell_type": "markdown",
      "metadata": {
        "id": "-QASk4igYo53"
      },
      "source": [
        "**모델 저장과 복원**"
      ]
    },
    {
      "cell_type": "code",
      "metadata": {
        "id": "wSZAJj3gYotr"
      },
      "source": [
        "#에포크 10지정\n",
        "model = model_fn(keras.layers.Dropout(0.3))\n",
        "model.compile(optimizer='adam', loss='sparse_categorical_crossentropy', metrics='accuracy')\n",
        "history = model.fit(train_scaled, train_target, epochs=10, verbose=0, validation_data=(val_scaled, val_target))"
      ],
      "execution_count": 63,
      "outputs": []
    },
    {
      "cell_type": "markdown",
      "metadata": {
        "id": "WNnhMKgVZAfB"
      },
      "source": [
        "훈련된 모델 파라미터만 저장\n",
        "\n",
        "    - save_weights() \n",
        "    - 다시 불러올때는 load_weights()\n",
        "    - 기본 포맷은 텐서플로의 체크포인트 포맷\n",
        "    - 파일 확장자가 '.h5'일 경우는 HDF5포맷으로 저장\n",
        "\n",
        "모델 자체를 저장\n",
        "    \n",
        "    - save()\n",
        "    - 다시 불러올때는 load_model()\n",
        "    - 기본 포맷은 텐서플로의 SavedModel 포맷\n",
        "    - 파일 확장자가 '.h5'일 경우 HDF5포맷으로 저장"
      ]
    },
    {
      "cell_type": "code",
      "metadata": {
        "id": "FEub3KcTYb1P"
      },
      "source": [
        "model.save_weights('model-weights.h5')\n",
        "model.save('model-whole.h5')"
      ],
      "execution_count": 64,
      "outputs": []
    },
    {
      "cell_type": "code",
      "metadata": {
        "colab": {
          "base_uri": "https://localhost:8080/"
        },
        "id": "WQxuZp1SaDI3",
        "outputId": "6b9f540d-84a5-476e-f3a9-05d6acb93917"
      },
      "source": [
        "#파일 확인..\n",
        "!ls -al *.h5"
      ],
      "execution_count": 65,
      "outputs": [
        {
          "output_type": "stream",
          "text": [
            "-rw-r--r-- 1 root root 332480 Jul 14 05:05 model-weights.h5\n",
            "-rw-r--r-- 1 root root 981736 Jul 14 05:05 model-whole.h5\n"
          ],
          "name": "stdout"
        }
      ]
    },
    {
      "cell_type": "code",
      "metadata": {
        "id": "HC-y53UEaH5f"
      },
      "source": [
        "\"\"\"\n",
        "새로운 모델을 만들고 모델 파라미터만 불러와서 모델을 만듦\n",
        "\"\"\"\n",
        "model = model_fn(keras.layers.Dropout(0.3))\n",
        "model.load_weights('model-weights.h5')\n",
        "#다시 불러오려면 저장했던 모델과 불러오는 모델이 정확히 같아야 한다."
      ],
      "execution_count": 66,
      "outputs": []
    },
    {
      "cell_type": "markdown",
      "metadata": {
        "id": "8VbsjGwXbkay"
      },
      "source": [
        "검증정확도 확인..\n",
        "\n",
        "predict()메서드는 샘플마다 10개의 클래스에 대한 확률을 모두 반환한다..\n",
        "\n",
        "검증세트 수가 12000개였으니까 결과적으로 (12000, 10)크기의 배열을 반환한다.\n",
        "\n"
      ]
    },
    {
      "cell_type": "code",
      "metadata": {
        "colab": {
          "base_uri": "https://localhost:8080/"
        },
        "id": "nUzPJcVhaXqg",
        "outputId": "e53976b5-9d3e-49d8-8cad-652e4fed7f51"
      },
      "source": [
        "import numpy as np     \n",
        "#axis=-1 이면 마지막 축.. 그 shape()해서 나온거의 인덱스로 생각하면 된다..\n",
        "#argmax로 샘플마다 가장 확률이 높은 클래스의 인덱스를 뽑아냈고\n",
        "val_labels = np.argmax(model.predict(val_scaled), axis=-1) \n",
        "\n",
        "#그 인덱스와 타깃이 같다면 mean()안의 매개변수가 1이 되고 아니면 0이다..\n",
        "#이를 모두 평균하면 정확도가 된다!\n",
        "print(np.mean(val_labels==val_target))"
      ],
      "execution_count": 67,
      "outputs": [
        {
          "output_type": "stream",
          "text": [
            "0.8794166666666666\n"
          ],
          "name": "stdout"
        }
      ]
    },
    {
      "cell_type": "code",
      "metadata": {
        "colab": {
          "base_uri": "https://localhost:8080/"
        },
        "id": "A38ifgzia_4l",
        "outputId": "faf2408b-80d3-42d7-dc3a-0caf8c98e564"
      },
      "source": [
        "\"\"\"\n",
        "처음 모델을 생성할때 부터 load_model()메서드를 써서 바로 저장된걸 가져왔다.\n",
        "\"\"\"\n",
        "model = keras.models.load_model('model-whole.h5')\n",
        "model.evaluate(val_scaled, val_target)\n",
        "\n",
        "#동일한 모델이니까 정확도가 같다.."
      ],
      "execution_count": 68,
      "outputs": [
        {
          "output_type": "stream",
          "text": [
            "375/375 [==============================] - 1s 2ms/step - loss: 0.3242 - accuracy: 0.8794\n"
          ],
          "name": "stdout"
        },
        {
          "output_type": "execute_result",
          "data": {
            "text/plain": [
              "[0.3241550624370575, 0.8794166445732117]"
            ]
          },
          "metadata": {
            "tags": []
          },
          "execution_count": 68
        }
      ]
    },
    {
      "cell_type": "markdown",
      "metadata": {
        "id": "YwUEUg3UcPmm"
      },
      "source": [
        "**콜백**"
      ]
    },
    {
      "cell_type": "markdown",
      "metadata": {
        "id": "WeKUxGg8cRLB"
      },
      "source": [
        "콜백 : 훈련 과정 중간에 어떤 작업을 수행할 수 있게 하는 객체\n",
        "\n",
        "    - keras.callbacks 패키지에 있는 클래스\n",
        "    - fit()메서드에 callbacks 매개변수에 리스트로 전달하여 사용.."
      ]
    },
    {
      "cell_type": "markdown",
      "metadata": {
        "id": "bX-wdhIFcqiI"
      },
      "source": [
        "ModelCheckpoint 콜백은 기본적으로 최상의 검증점수를 만드는 모델을 저장한다\n",
        "\n",
        "    -> 파일을 'best-model.h5'로 지정해서 콜백 적용해보자.."
      ]
    },
    {
      "cell_type": "code",
      "metadata": {
        "colab": {
          "base_uri": "https://localhost:8080/"
        },
        "id": "eeQ6e_jlb_fe",
        "outputId": "fb06f792-cd7c-43bb-8cbe-1a086cfd2190"
      },
      "source": [
        "model = model_fn(keras.layers.Dropout(0.3))\n",
        "model.compile(optimizer='adam', loss='sparse_categorical_crossentropy', metrics='accuracy')\n",
        "checkpoint_cb = keras.callbacks.ModelCheckpoint('best-model.h5')      #콜백 객체 생성\n",
        "\n",
        "#체크포인트 지정\n",
        "model.fit(train_scaled, train_target, epochs=20,verbose=0, validation_data=(val_scaled, val_target), callbacks = [checkpoint_cb])"
      ],
      "execution_count": 69,
      "outputs": [
        {
          "output_type": "execute_result",
          "data": {
            "text/plain": [
              "<tensorflow.python.keras.callbacks.History at 0x7f6c52752190>"
            ]
          },
          "metadata": {
            "tags": []
          },
          "execution_count": 69
        }
      ]
    },
    {
      "cell_type": "code",
      "metadata": {
        "colab": {
          "base_uri": "https://localhost:8080/"
        },
        "id": "acnI1ZrxdcPR",
        "outputId": "882b035e-a072-4730-af9b-a19a9230f1f5"
      },
      "source": [
        "#체크포인트에 최적의 검증점수를 만드는 모델이 저장되어있다.. 파일이름은 'best-model.h5'이다.\n",
        "# 그 모델을 고대로 불러와서 검증 다시 해보자\n",
        "model = keras.models.load_model('best-model.h5')\n",
        "model.evaluate(val_scaled, val_target)"
      ],
      "execution_count": 70,
      "outputs": [
        {
          "output_type": "stream",
          "text": [
            "375/375 [==============================] - 1s 2ms/step - loss: 0.3180 - accuracy: 0.8857\n"
          ],
          "name": "stdout"
        },
        {
          "output_type": "execute_result",
          "data": {
            "text/plain": [
              "[0.3179798722267151, 0.8856666684150696]"
            ]
          },
          "metadata": {
            "tags": []
          },
          "execution_count": 70
        }
      ]
    },
    {
      "cell_type": "markdown",
      "metadata": {
        "id": "SwhO0Va2d9Va"
      },
      "source": [
        "콜백이 최적의 모델을 저장해주긴 한다...\n",
        "\n",
        "그래도 아직 20번의 에포크를 수행한다!!\n",
        "\n",
        "**조기종료** : 과대적합이 시작되기 전에 훈련을 미리 중지하는 것\n",
        "\n",
        "    -> 컴퓨터 자원과 시간을 아낄 수 있다..\n",
        "\n",
        "케라스는 EarlyStopping 콜백을 제공한다\n",
        "\n",
        "    - moniter 매개변수\n",
        "        : 모니터할 지표를 지정한다\n",
        "        : 기본값은 'val_loss'로 검증손실을 관찰한다.\n",
        "    - patience 매개변수\n",
        "        : 검증점수가 향상되지 않더라도 참을 에포크 횟수를 지정할 수 있다\n",
        "        : 그 이후엔 훈련 중지\n",
        "    - restore_best_weights 매개변수\n",
        "        : True로 지정하면 가장 낮은 검증 손실을 낸 모델 파라미터로 되돌린다.\n",
        "    \n",
        "EarlyStopping, ModelCheckpoint 콜백을 함께 사용하면 가장 낮은 검증손실의 모델을 파일에 저장하고, 검증 손실이 증가할 때 훈련을 중지할 수 있다!!\n",
        "\n",
        "-> 에포크 수에 구애받지 않을 수 있다\n",
        "\n"
      ]
    },
    {
      "cell_type": "code",
      "metadata": {
        "id": "9m-ri0wld6qf"
      },
      "source": [
        "model = model_fn(keras.layers.Dropout(0.3))\n",
        "model.compile(optimizer='adam', loss='sparse_categorical_crossentropy', metrics='accuracy')\n",
        "#콜백 두개 다 지정..\n",
        "checkpoint_cb = keras.callbacks.ModelCheckpoint('best-model.h5')\n",
        "early_stopping_cb = keras.callbacks.EarlyStopping(patience=2, restore_best_weights=True)\n",
        "\n",
        "#콜백 매개변수에 리스트로 묶어서 전달함..\n",
        "history = model.fit(train_scaled, train_target, epochs=20,verbose=0, validation_data=(val_scaled, val_target),\n",
        "                    callbacks=[checkpoint_cb, early_stopping_cb])"
      ],
      "execution_count": 71,
      "outputs": []
    },
    {
      "cell_type": "markdown",
      "metadata": {
        "id": "DLmkbV4-foAg"
      },
      "source": [
        "훈련을 마치면 early_stopping_cb의 stopped_epoch속성에서 몇번째 에포크에서 중지되었는지 알 수 있다.."
      ]
    },
    {
      "cell_type": "code",
      "metadata": {
        "colab": {
          "base_uri": "https://localhost:8080/"
        },
        "id": "aFofP_tifm-l",
        "outputId": "45dcd56d-ab28-4e6d-8794-61f61448847a"
      },
      "source": [
        "print(early_stopping_cb.stopped_epoch)\n",
        "#에포크는 0번째 부터 시작하므로 13번째 에포크.."
      ],
      "execution_count": 72,
      "outputs": [
        {
          "output_type": "stream",
          "text": [
            "12\n"
          ],
          "name": "stdout"
        }
      ]
    },
    {
      "cell_type": "markdown",
      "metadata": {
        "id": "4Gfi0CUaf3k7"
      },
      "source": [
        "patience = 2로 지정했으므로 아마 11번째 에포크에서 검증점수가 최대일 것이다"
      ]
    },
    {
      "cell_type": "code",
      "metadata": {
        "colab": {
          "base_uri": "https://localhost:8080/",
          "height": 283
        },
        "id": "SDikJWzUfzh3",
        "outputId": "89019b1e-b0af-47a2-8eef-b25058fbbdd5"
      },
      "source": [
        "plt.plot(history.history['loss'])\n",
        "plt.plot(history.history['val_loss'])\n",
        "plt.xlabel('epoch')\n",
        "plt.ylabel('loss')\n",
        "plt.legend(['train', 'val'])\n",
        "plt.show()\n",
        "\n",
        "#역시,, 11번째 에포크인 epoch = 10에서 최상의 모델이 있다.."
      ],
      "execution_count": 73,
      "outputs": [
        {
          "output_type": "display_data",
          "data": {
            "image/png": "[encoded data removed]",
            "text/plain": [
              "<Figure size 432x288 with 1 Axes>"
            ]
          },
          "metadata": {
            "tags": [],
            "needs_background": "light"
          }
        }
      ]
    },
    {
      "cell_type": "markdown",
      "metadata": {
        "id": "N70FhnXZgbjk"
      },
      "source": [
        "두 콜백을 같이 쓰면 알아서 훈련 중지하고 최상의 모델을 자동 저장한다"
      ]
    },
    {
      "cell_type": "code",
      "metadata": {
        "colab": {
          "base_uri": "https://localhost:8080/"
        },
        "id": "EImFvKUfgNuW",
        "outputId": "a7c38f7c-04f2-44f7-84d4-4172a39d63a7"
      },
      "source": [
        "model.evaluate(val_scaled, val_target)"
      ],
      "execution_count": 74,
      "outputs": [
        {
          "output_type": "stream",
          "text": [
            "375/375 [==============================] - 1s 2ms/step - loss: 0.3259 - accuracy: 0.8838\n"
          ],
          "name": "stdout"
        },
        {
          "output_type": "execute_result",
          "data": {
            "text/plain": [
              "[0.32586902379989624, 0.8837500214576721]"
            ]
          },
          "metadata": {
            "tags": []
          },
          "execution_count": 74
        }
      ]
    },
    {
      "cell_type": "markdown",
      "metadata": {
        "id": "BfZIE2RTgplc"
      },
      "source": [
        "**정리**\n",
        "\n",
        "신경망의 과대적합을 막기위한 **드롭아웃**\n",
        "    \n",
        "    -> 랜덤으로 층의 일부 뉴런의 출력을 0으로 만듦\n",
        "    -> 신경망을 앙상블 하는 효과를 냄\n",
        "\n",
        "케라스는 훈련된 모델파라미터들이나 모델 자체를 저장했다가 다시 불러오는 메서드 지원..\n",
        "\n",
        "과대적합이 되기전의 최적의 모델을 자동으로 간편하게 저장해주는 **콜백**\n",
        "\n",
        "    -> ModelCheckpoint 클래스 : 최적의 검증점수를 갖는 모델을 저장.. -> 파일에 따로 저장\n",
        "    -> EarlyStopping 클래스 : patient매개변수를 통해 검증점수가 지정 에포크 횟수 만큼 계속 증가하면 훈련 강제 종료"
      ]
    }
  ]
}