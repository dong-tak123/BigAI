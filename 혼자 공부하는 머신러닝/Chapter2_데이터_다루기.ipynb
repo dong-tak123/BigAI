{
  "nbformat": 4,
  "nbformat_minor": 0,
  "metadata": {
    "colab": {
      "name": "Chapter2. 데이터 다루기",
      "provenance": [],
      "collapsed_sections": [
        "KVOQTMLIibRH"
      ]
    },
    "kernelspec": {
      "name": "python3",
      "display_name": "Python 3"
    },
    "language_info": {
      "name": "python"
    }
  },
  "cells": [
    {
      "cell_type": "markdown",
      "metadata": {
        "id": "KVOQTMLIibRH"
      },
      "source": [
        "# 02-1 훈련 세트와 테스트 세트"
      ]
    },
    {
      "cell_type": "markdown",
      "metadata": {
        "id": "7osgxJ4OiuLX"
      },
      "source": [
        "**지도 학습과 비지도 학습**\n",
        "\n",
        "머신러닝은 크게 지도 학습과 비지도 학습으로 나눌 수 있다.  (+ 강화 학습)\n",
        "\n",
        "\n",
        "\n",
        "*   지도 학습\n",
        "\n",
        "    : 훈련하기 위한 데이터(입력_input)와 정답(타깃_target)이 필요\n",
        "*   비지도 학습\n",
        "\n",
        "    : 정답을 사용하지 않는다.. 데이터를 잘 파악하거나 변형하는 데 도움을 준다\n",
        "\n",
        "*   강화 학습\n",
        "    \n",
        "    : 알고리즘이 행동한 결과로 얻은 보상을 사용해 학습하는 알고리즘"
      ]
    },
    {
      "cell_type": "markdown",
      "metadata": {
        "id": "GXmMljnzj0hD"
      },
      "source": [
        "앞선 Chapter1의 모델은 모든 데이터를 저장하고 맞추는 거니까 당연히 100%의 정확도여야 한다...\n",
        "\n",
        "시험 문제와 정답을 미리 알려주고 시험을 친 꼴이다!!\n",
        "\n",
        "성능을 제대로 평가하려면 훈련 데이터(훈련세트)와 평가에 사용하는 데이터(테스트세트)가 달라야한다!"
      ]
    },
    {
      "cell_type": "code",
      "metadata": {
        "id": "8Ad2cGG1ifeq"
      },
      "source": [
        "# 다시 데이터를 준비한다\n",
        "\n",
        "fish_length = [25.4, 26.3, 26.5, 29.0, 29.0, 29.7, 29.7, 30.0, 30.0, 30.7, 31.0, 31.0, \n",
        "                31.5, 32.0, 32.0, 32.0, 33.0, 33.0, 33.5, 33.5, 34.0, 34.0, 34.5, 35.0, \n",
        "                35.0, 35.0, 35.0, 36.0, 36.0, 37.0, 38.5, 38.5, 39.5, 41.0, 41.0, 9.8, \n",
        "                10.5, 10.6, 11.0, 11.2, 11.3, 11.8, 11.8, 12.0, 12.2, 12.4, 13.0, 14.3, 15.0]\n",
        "fish_weight = [242.0, 290.0, 340.0, 363.0, 430.0, 450.0, 500.0, 390.0, 450.0, 500.0, 475.0, 500.0, \n",
        "                500.0, 340.0, 600.0, 600.0, 700.0, 700.0, 610.0, 650.0, 575.0, 685.0, 620.0, 680.0, \n",
        "                700.0, 725.0, 720.0, 714.0, 850.0, 1000.0, 920.0, 955.0, 925.0, 975.0, 950.0, 6.7, \n",
        "                7.5, 7.0, 9.7, 9.8, 8.7, 10.0, 9.9, 9.8, 12.2, 13.4, 12.2, 19.7, 19.9]"
      ],
      "execution_count": null,
      "outputs": []
    },
    {
      "cell_type": "code",
      "metadata": {
        "id": "YvW2O12IkWw-"
      },
      "source": [
        "# 다시 2차원 리스트(리스트의 리스트)로 만든다\n",
        "\n",
        "fish_data = [[l,w] for l, w in zip(fish_length, fish_weight)]\n",
        "fish_target = [1] * 35 + [0] * 14\n",
        "# 하나의 생선 데이터를 샘플이라고 부른다.. -> 총 49개의 샘플\n",
        "# 특성은 길이와 무게 : 총 2개"
      ],
      "execution_count": null,
      "outputs": []
    },
    {
      "cell_type": "code",
      "metadata": {
        "id": "bnQ79qeAkoXa"
      },
      "source": [
        "# 클래스를 임포트하고 모델 객체를 만든다\n",
        "\n",
        "from sklearn.neighbors import KNeighborsClassifier\n",
        "kn = KNeighborsClassifier()"
      ],
      "execution_count": null,
      "outputs": []
    },
    {
      "cell_type": "markdown",
      "metadata": {
        "id": "H8R4q1nrhOzP"
      },
      "source": [
        "여기서부터 약간 잘못된 케이스\n",
        "\n",
        ": 훈련세트에는 전부 다 도미가 들어가있고 테스트세트에는 전부 다 빙어가 들어가 있다. => 샘플링 편향이 발생..."
      ]
    },
    {
      "cell_type": "code",
      "metadata": {
        "id": "HhX4utGrhMo1"
      },
      "source": [
        "# 데이터 분류\n",
        "\n",
        "# 훈련 세트로 입력값 중 0부터 34번째 인덱스까지 사용\n",
        "train_input = fish_data[:35]\n",
        "# 훈련 세트로 타깃값 중 0부터 34번째 인덱스까지 사용\n",
        "train_target = fish_target[:35]\n",
        "# 테스트 세트로 입력값 중 35번째부터 마지막 인덱스까지 사용\n",
        "test_input = fish_data[35:]\n",
        "# 테스트 세트로 타깃값 중 35번째부터 마지막 인덱스까지 사용\n",
        "test_target = fish_target[35:]"
      ],
      "execution_count": null,
      "outputs": []
    },
    {
      "cell_type": "code",
      "metadata": {
        "colab": {
          "base_uri": "https://localhost:8080/"
        },
        "id": "gG-NUW4PiEPE",
        "outputId": "b1191deb-aad1-4ace-8960-cc51d734e8b1"
      },
      "source": [
        "# 훈련세트로 fit() 메서드를 사용하여 모델을 훈련하고, 테스트세트로 score() 메서드를 호출해 평가..\n",
        "\n",
        "kn = kn.fit(train_input, train_target)\n",
        "kn.score(test_input, test_target)\n",
        "# 오잉 빵점이 나왔다!"
      ],
      "execution_count": null,
      "outputs": [
        {
          "output_type": "execute_result",
          "data": {
            "text/plain": [
              "0.0"
            ]
          },
          "metadata": {
            "tags": []
          },
          "execution_count": 5
        }
      ]
    },
    {
      "cell_type": "markdown",
      "metadata": {
        "id": "rYjqciFQitPU"
      },
      "source": [
        "여기까지 샘플링 편향 오류의 예시다...\n",
        "\n",
        "훈련은 전부다 도미로 시키고 테스트는 빙어로 다 테스트 했다...\n",
        "\n",
        "그래서 훈련 세트와 테스트 세트를 나누기 전에 데이터를 골고루 뽑아서 나누어야 한다."
      ]
    },
    {
      "cell_type": "markdown",
      "metadata": {
        "id": "RVjP-bn6w9CK"
      },
      "source": [
        "**넘파이 라이브러리**\n",
        "\n",
        "넘파이는 고차원(dimension)의 배열을 손쉽게 행렬형태로 만들고 조작할 수 있는 간편한 도구를 많이 제공한다!!\n",
        "\n",
        "1차원 배열 : 선 / 2차원 배열 : 면 / 3차원 배열 : 공간\n",
        "\n",
        "행렬로 생각하면 축의 시작은 왼쪽 위부터 시작한다."
      ]
    },
    {
      "cell_type": "code",
      "metadata": {
        "id": "dbC3mDbUiZal"
      },
      "source": [
        "# 넘파이 임포트해서 확인해보기\n",
        "\n",
        "import numpy as np\n",
        "\n",
        "input_arr = np.array(fish_data)\n",
        "target_arr = np.array(fish_target)"
      ],
      "execution_count": null,
      "outputs": []
    },
    {
      "cell_type": "code",
      "metadata": {
        "colab": {
          "base_uri": "https://localhost:8080/"
        },
        "id": "91Z3htCNxxma",
        "outputId": "51e13652-2f87-4daa-bc85-2d7240ce668a"
      },
      "source": [
        "# 깔끔하게 2차원 배열로 정리되었다..\n",
        "\n",
        "print(input_arr)\n",
        "#49개의 행(샘플)과 2개의 열(특성)을 확인할 수 있다."
      ],
      "execution_count": null,
      "outputs": [
        {
          "output_type": "stream",
          "text": [
            "[[  25.4  242. ]\n",
            " [  26.3  290. ]\n",
            " [  26.5  340. ]\n",
            " [  29.   363. ]\n",
            " [  29.   430. ]\n",
            " [  29.7  450. ]\n",
            " [  29.7  500. ]\n",
            " [  30.   390. ]\n",
            " [  30.   450. ]\n",
            " [  30.7  500. ]\n",
            " [  31.   475. ]\n",
            " [  31.   500. ]\n",
            " [  31.5  500. ]\n",
            " [  32.   340. ]\n",
            " [  32.   600. ]\n",
            " [  32.   600. ]\n",
            " [  33.   700. ]\n",
            " [  33.   700. ]\n",
            " [  33.5  610. ]\n",
            " [  33.5  650. ]\n",
            " [  34.   575. ]\n",
            " [  34.   685. ]\n",
            " [  34.5  620. ]\n",
            " [  35.   680. ]\n",
            " [  35.   700. ]\n",
            " [  35.   725. ]\n",
            " [  35.   720. ]\n",
            " [  36.   714. ]\n",
            " [  36.   850. ]\n",
            " [  37.  1000. ]\n",
            " [  38.5  920. ]\n",
            " [  38.5  955. ]\n",
            " [  39.5  925. ]\n",
            " [  41.   975. ]\n",
            " [  41.   950. ]\n",
            " [   9.8    6.7]\n",
            " [  10.5    7.5]\n",
            " [  10.6    7. ]\n",
            " [  11.     9.7]\n",
            " [  11.2    9.8]\n",
            " [  11.3    8.7]\n",
            " [  11.8   10. ]\n",
            " [  11.8    9.9]\n",
            " [  12.     9.8]\n",
            " [  12.2   12.2]\n",
            " [  12.4   13.4]\n",
            " [  13.    12.2]\n",
            " [  14.3   19.7]\n",
            " [  15.    19.9]]\n"
          ],
          "name": "stdout"
        }
      ]
    },
    {
      "cell_type": "code",
      "metadata": {
        "colab": {
          "base_uri": "https://localhost:8080/"
        },
        "id": "LU9ybzQVxzLK",
        "outputId": "0af6ea94-7437-4182-fb32-e491f4536001"
      },
      "source": [
        "# 이 명령을 사용하면 (샘플 수, 특성 수)를 출력할 수 있다\n",
        "\n",
        "print(input_arr.shape)"
      ],
      "execution_count": null,
      "outputs": [
        {
          "output_type": "stream",
          "text": [
            "(49, 2)\n"
          ],
          "name": "stdout"
        }
      ]
    },
    {
      "cell_type": "markdown",
      "metadata": {
        "id": "9nZxqF5zyIA8"
      },
      "source": [
        "훈련세트와 테스트세트로 나눌 때 같은 위치는 함께 이동해야 한다.\n",
        "\n",
        "-> 그러기 위해서 index를 새로 만들어서 이용해준다."
      ]
    },
    {
      "cell_type": "code",
      "metadata": {
        "id": "r0nSiNN6yEff"
      },
      "source": [
        "# 샘플이 49개 이므로 49개의 index를 만들어서 얘들을 섞는다\n",
        "\n",
        "np.random.seed(42)      #일정한 결과를 얻기위한 시드 지정\n",
        "index = np.arange(49)\n",
        "np.random.shuffle(index)        # 무작위로 섞음"
      ],
      "execution_count": null,
      "outputs": []
    },
    {
      "cell_type": "code",
      "metadata": {
        "colab": {
          "base_uri": "https://localhost:8080/"
        },
        "id": "pQrXPRqkyloX",
        "outputId": "3b74e398-0e5f-4099-c248-af9a52ab5809"
      },
      "source": [
        "print(index)"
      ],
      "execution_count": null,
      "outputs": [
        {
          "output_type": "stream",
          "text": [
            "[13 45 47 44 17 27 26 25 31 19 12  4 34  8  3  6 40 41 46 15  9 16 24 33\n",
            " 30  0 43 32  5 29 11 36  1 21  2 37 35 23 39 10 22 18 48 20  7 42 14 28\n",
            " 38]\n"
          ],
          "name": "stdout"
        }
      ]
    },
    {
      "cell_type": "code",
      "metadata": {
        "colab": {
          "base_uri": "https://localhost:8080/"
        },
        "id": "nXlPsNVEy6X8",
        "outputId": "e8229f47-c6a2-49dc-db34-c62cdb212b4b"
      },
      "source": [
        "# 배열 인덱싱\n",
        "\n",
        "print(input_arr[[1,3]])\n",
        "# 2,4 번째 인덱스의 자료만 가져올 수도 있다"
      ],
      "execution_count": null,
      "outputs": [
        {
          "output_type": "stream",
          "text": [
            "[[ 26.3 290. ]\n",
            " [ 29.  363. ]]\n"
          ],
          "name": "stdout"
        }
      ]
    },
    {
      "cell_type": "code",
      "metadata": {
        "id": "SWPdfYNWynFh"
      },
      "source": [
        "# 이제 섞인 index를 가지고 훈련 / 테스트 세트로 나눈다\n",
        "\n",
        "train_input = input_arr[index[:35]]         #섞인 것 중 앞에서 35개\n",
        "train_target = target_arr[index[:35]]       #섞인 것 중 앞에서 35개\n",
        "\n",
        "# 이제 섞였다.."
      ],
      "execution_count": null,
      "outputs": []
    },
    {
      "cell_type": "code",
      "metadata": {
        "id": "-oEqMsMPy2uX"
      },
      "source": [
        "# 테스트 세트도 만들자\n",
        "\n",
        "test_input = input_arr[index[35:]]\n",
        "test_target = target_arr[index[35:]]"
      ],
      "execution_count": null,
      "outputs": []
    },
    {
      "cell_type": "code",
      "metadata": {
        "colab": {
          "base_uri": "https://localhost:8080/"
        },
        "id": "YawlGnYpzXZw",
        "outputId": "e6d55102-8729-4ed6-dba5-5dc6a95618d8"
      },
      "source": [
        "# 훈련 / 테스트 세트로 잘 나누어졌는지 확인하는 산점도 그리기\n",
        "\n",
        "import matplotlib.pyplot as plt\n",
        "plt.scatter(train_input[:,0], train_input[:,1])           #train_input[:,0] : 생선의 길이  /  train_input[:,1] : 생선의 무게\n",
        "plt.scatter(test_input[:,0], test_input[:,1])\n",
        "plt.xlabel(\"length\")\n",
        "plt.ylabel(\"weight\")\n",
        "plt.show()"
      ],
      "execution_count": null,
      "outputs": [
        {
          "output_type": "display_data",
          "data": {
            "image/png": "[encoded data removed]",
            "text/plain": [
              "<Figure size 432x288 with 1 Axes>"
            ]
          },
          "metadata": {
            "tags": [],
            "needs_background": "light"
          }
        }
      ]
    },
    {
      "cell_type": "markdown",
      "metadata": {
        "id": "Lm_SHVFX0XTG"
      },
      "source": [
        "**두 번째 머신러닝 프로그램**\n",
        "\n",
        "나누어진 훈련세트로 훈련(fit)시키고 테스트세트로 점수를 확인한다."
      ]
    },
    {
      "cell_type": "code",
      "metadata": {
        "id": "pQUW9dntz_Kz"
      },
      "source": [
        "# 훈련시키자\n",
        "\n",
        "kn = kn.fit(train_input, train_target)"
      ],
      "execution_count": null,
      "outputs": []
    },
    {
      "cell_type": "code",
      "metadata": {
        "colab": {
          "base_uri": "https://localhost:8080/"
        },
        "id": "Is27-0iL0nSi",
        "outputId": "b0bb1522-630f-4f69-f66c-a468a3f06190"
      },
      "source": [
        "# 확인해보자\n",
        "\n",
        "kn.score(test_input, test_target)\n",
        "# 정확도 100퍼..."
      ],
      "execution_count": null,
      "outputs": [
        {
          "output_type": "execute_result",
          "data": {
            "text/plain": [
              "1.0"
            ]
          },
          "metadata": {
            "tags": []
          },
          "execution_count": 16
        }
      ]
    },
    {
      "cell_type": "code",
      "metadata": {
        "colab": {
          "base_uri": "https://localhost:8080/"
        },
        "id": "5CbAbNh_0uGV",
        "outputId": "7f07345d-e699-49cc-91fa-b5de672e5385"
      },
      "source": [
        "# predict() 메서드로 테스트세트에 있는것들을 예측해보자\n",
        "\n",
        "kn.predict(test_input)"
      ],
      "execution_count": null,
      "outputs": [
        {
          "output_type": "execute_result",
          "data": {
            "text/plain": [
              "array([0, 0, 1, 0, 1, 1, 1, 0, 1, 1, 0, 1, 1, 0])"
            ]
          },
          "metadata": {
            "tags": []
          },
          "execution_count": 17
        }
      ]
    },
    {
      "cell_type": "code",
      "metadata": {
        "colab": {
          "base_uri": "https://localhost:8080/"
        },
        "id": "U8EK5du00-EF",
        "outputId": "330a9c70-dc27-4757-86ec-e913c2a06146"
      },
      "source": [
        "# 실제 정답은...?\n",
        "\n",
        "print(test_target)\n",
        "# 오 위의 예측값이랑 똑같다!"
      ],
      "execution_count": null,
      "outputs": [
        {
          "output_type": "stream",
          "text": [
            "[0 0 1 0 1 1 1 0 1 1 0 1 1 0]\n"
          ],
          "name": "stdout"
        }
      ]
    },
    {
      "cell_type": "markdown",
      "metadata": {
        "id": "aroAunAc6D2n"
      },
      "source": [
        "# 02-2 데이터 전처리"
      ]
    },
    {
      "cell_type": "code",
      "metadata": {
        "id": "lLhVlJo31CaO"
      },
      "source": [
        "# 일단 데이터를 가져오자\n",
        "\n",
        "\n",
        "fish_length = [25.4, 26.3, 26.5, 29.0, 29.0, 29.7, 29.7, 30.0, 30.0, 30.7, 31.0, 31.0, \n",
        "                31.5, 32.0, 32.0, 32.0, 33.0, 33.0, 33.5, 33.5, 34.0, 34.0, 34.5, 35.0, \n",
        "                35.0, 35.0, 35.0, 36.0, 36.0, 37.0, 38.5, 38.5, 39.5, 41.0, 41.0, 9.8, \n",
        "                10.5, 10.6, 11.0, 11.2, 11.3, 11.8, 11.8, 12.0, 12.2, 12.4, 13.0, 14.3, 15.0]\n",
        "fish_weight = [242.0, 290.0, 340.0, 363.0, 430.0, 450.0, 500.0, 390.0, 450.0, 500.0, 475.0, 500.0, \n",
        "                500.0, 340.0, 600.0, 600.0, 700.0, 700.0, 610.0, 650.0, 575.0, 685.0, 620.0, 680.0, \n",
        "                700.0, 725.0, 720.0, 714.0, 850.0, 1000.0, 920.0, 955.0, 925.0, 975.0, 950.0, 6.7, \n",
        "                7.5, 7.0, 9.7, 9.8, 8.7, 10.0, 9.9, 9.8, 12.2, 13.4, 12.2, 19.7, 19.9]"
      ],
      "execution_count": null,
      "outputs": []
    },
    {
      "cell_type": "code",
      "metadata": {
        "id": "R9RxeB8r6eYI"
      },
      "source": [
        "# 넘파이를 임포트\n",
        "\n",
        "import numpy as np"
      ],
      "execution_count": null,
      "outputs": []
    },
    {
      "cell_type": "code",
      "metadata": {
        "colab": {
          "base_uri": "https://localhost:8080/"
        },
        "id": "jR09V_S16g-L",
        "outputId": "fb5b2484-f7ab-4d1a-d53d-7a4fa2cb32a9"
      },
      "source": [
        "# 리스트의 리스트를 쉽게 만들어주는 numpy의 column_stack() 메서드..\n",
        "\n",
        "np.column_stack(([1,2,3],[4,5,6]))\n",
        "# 리스트의 튜플로 전달해야한다!\n",
        "# 두 리스트를 일렬로 세운 뒤 나란히 옆으로 붙였다!"
      ],
      "execution_count": null,
      "outputs": [
        {
          "output_type": "execute_result",
          "data": {
            "text/plain": [
              "array([[1, 4],\n",
              "       [2, 5],\n",
              "       [3, 6]])"
            ]
          },
          "metadata": {
            "tags": []
          },
          "execution_count": 21
        }
      ]
    },
    {
      "cell_type": "code",
      "metadata": {
        "id": "rY8-Mtka6rlO"
      },
      "source": [
        "# 그럼 실제 데이터도 저렇게 리스트의 리스트로 만들자..\n",
        "\n",
        "fish_data = np.column_stack((fish_length, fish_weight))\n",
        "# 얘도 튜플로 전달..."
      ],
      "execution_count": null,
      "outputs": []
    },
    {
      "cell_type": "code",
      "metadata": {
        "colab": {
          "base_uri": "https://localhost:8080/"
        },
        "id": "Y0LFKUVP7Id1",
        "outputId": "185d975c-fbaa-4d3f-b9ba-cd80e5777b7d"
      },
      "source": [
        "print(fish_data[:5])"
      ],
      "execution_count": null,
      "outputs": [
        {
          "output_type": "stream",
          "text": [
            "[[ 25.4 242. ]\n",
            " [ 26.3 290. ]\n",
            " [ 26.5 340. ]\n",
            " [ 29.  363. ]\n",
            " [ 29.  430. ]]\n"
          ],
          "name": "stdout"
        }
      ]
    },
    {
      "cell_type": "code",
      "metadata": {
        "id": "0nACjQiU7LEU"
      },
      "source": [
        "# 타깃값도 np.ones랑 np.zeros를 이용해서 쉽게 만들자..\n",
        "# column_stack() 과 달리 concatenate() 메서드를 이용하면 만들 수 있다.\n",
        "\n",
        "fish_target = np.concatenate((np.ones(35), np.zeros(14)))"
      ],
      "execution_count": null,
      "outputs": []
    },
    {
      "cell_type": "code",
      "metadata": {
        "colab": {
          "base_uri": "https://localhost:8080/"
        },
        "id": "qWPbsN6w7p5W",
        "outputId": "8ca4993b-e54a-42e0-a307-2b12512efb96"
      },
      "source": [
        "print(fish_target)"
      ],
      "execution_count": null,
      "outputs": [
        {
          "output_type": "stream",
          "text": [
            "[1. 1. 1. 1. 1. 1. 1. 1. 1. 1. 1. 1. 1. 1. 1. 1. 1. 1. 1. 1. 1. 1. 1. 1.\n",
            " 1. 1. 1. 1. 1. 1. 1. 1. 1. 1. 1. 0. 0. 0. 0. 0. 0. 0. 0. 0. 0. 0. 0. 0.\n",
            " 0.]\n"
          ],
          "name": "stdout"
        }
      ]
    },
    {
      "cell_type": "markdown",
      "metadata": {
        "id": "6QrGw4Yb8w4A"
      },
      "source": [
        "**사이킷런으로 훈련세트와 테스트세트 만들기**\n",
        "\n",
        "사이킷런의 train_test_split() 메서드를 이용해서 비율에 맞게 훈련 / 테스트 세트로 나눌 수 있다!"
      ]
    },
    {
      "cell_type": "code",
      "metadata": {
        "id": "95G6MvPf8u9K"
      },
      "source": [
        "# 사이킷런 모듈 임포트\n",
        "\n",
        "from sklearn.model_selection import train_test_split"
      ],
      "execution_count": null,
      "outputs": []
    },
    {
      "cell_type": "code",
      "metadata": {
        "id": "LQJd0vmU9N79"
      },
      "source": [
        "# fish_data 와 fish_target 을 훈련 / 테스트 세트로 나눈다!!\n",
        "\n",
        "train_input, test_input, train_target, test_target = train_test_split(fish_data, fish_target, random_state = 42)\n",
        "# default값으로 훈련 / 테스트 세트의 샘플 갯수를 3:1로 나눈다!"
      ],
      "execution_count": null,
      "outputs": []
    },
    {
      "cell_type": "code",
      "metadata": {
        "colab": {
          "base_uri": "https://localhost:8080/"
        },
        "id": "Q2vyoSBR9eoG",
        "outputId": "df175d8a-3476-4b4a-c333-9ee033b3e0cc"
      },
      "source": [
        "# 몇 개로 나누어졌는지 확인!\n",
        "\n",
        "print(train_input.shape, test_input.shape)      #훈련세트의 샘플 갯수 / 테스트세트의 샘플 갯수\n",
        "print(train_target.shape, test_target.shape)    #훈련세트의 타깃 갯수 / 테스트세트의 타깃 갯수"
      ],
      "execution_count": null,
      "outputs": [
        {
          "output_type": "stream",
          "text": [
            "(36, 2) (13, 2)\n",
            "(36,) (13,)\n"
          ],
          "name": "stdout"
        }
      ]
    },
    {
      "cell_type": "code",
      "metadata": {
        "colab": {
          "base_uri": "https://localhost:8080/"
        },
        "id": "keg_g6709ylh",
        "outputId": "54ad75f2-e64b-4b00-d9c5-b9e25e8c19dc"
      },
      "source": [
        "# 잘 섞였는지 테스트 데이터 출력\n",
        "\n",
        "print(test_target)\n",
        "# 여기서는 도미와 빙어의 비율은 3.3:1\n",
        "# 원래 전체 데이터에서 두 생선의 비율은 2.5:1\n",
        "# => 고르게 분포되지 않았다!! 샘플링 편향!"
      ],
      "execution_count": null,
      "outputs": [
        {
          "output_type": "stream",
          "text": [
            "[1. 0. 0. 0. 1. 1. 1. 1. 1. 1. 1. 1. 1.]\n"
          ],
          "name": "stdout"
        }
      ]
    },
    {
      "cell_type": "code",
      "metadata": {
        "id": "4P_Fvj06-kvy"
      },
      "source": [
        "# stratify 매개변수에 타깃 데이터를 넣으면 종류(클래스)의 비율에 맞게 나뉘어 진다!\n",
        "\n",
        "train_input, test_input, train_target, test_target = train_test_split(fish_data, fish_target, stratify = fish_target, random_state = 42)"
      ],
      "execution_count": null,
      "outputs": []
    },
    {
      "cell_type": "code",
      "metadata": {
        "colab": {
          "base_uri": "https://localhost:8080/"
        },
        "id": "5I95WN8-_W5k",
        "outputId": "4f4447b1-6bd4-4487-a7a1-1427ced2d4e5"
      },
      "source": [
        "# 다시 결과를 보자\n",
        "\n",
        "print(test_target)\n",
        "# 도미와 빙어의 비율이 2.25 : 1 이 되었다!"
      ],
      "execution_count": null,
      "outputs": [
        {
          "output_type": "stream",
          "text": [
            "[0. 0. 1. 0. 1. 0. 1. 1. 1. 1. 1. 1. 1.]\n"
          ],
          "name": "stdout"
        }
      ]
    },
    {
      "cell_type": "markdown",
      "metadata": {
        "id": "2YncuFL0_p71"
      },
      "source": [
        "이제 훈련 / 테스트 세트로 고르게 나누었고 다시 k-최근접이웃 훈련을 해보자!!\n",
        "\n",
        "목표는 **수상한 도미 한마리** 바로 잡기"
      ]
    },
    {
      "cell_type": "code",
      "metadata": {
        "colab": {
          "base_uri": "https://localhost:8080/"
        },
        "id": "rWVIkKo7_cpx",
        "outputId": "e5fa595e-f79e-46c1-e692-bfc73196a831"
      },
      "source": [
        "# k - 최근접이웃으로 훈련시킴\n",
        "\n",
        "from sklearn.neighbors import KNeighborsClassifier\n",
        "kn = KNeighborsClassifier()\n",
        "kn.fit(train_input, train_target)           # 훈련세트로 훈련시키고\n",
        "kn.score(test_input, test_target)           # 테스트세트로 점수확인"
      ],
      "execution_count": null,
      "outputs": [
        {
          "output_type": "execute_result",
          "data": {
            "text/plain": [
              "1.0"
            ]
          },
          "metadata": {
            "tags": []
          },
          "execution_count": 32
        }
      ]
    },
    {
      "cell_type": "code",
      "metadata": {
        "colab": {
          "base_uri": "https://localhost:8080/"
        },
        "id": "LeQCnGDFAEQS",
        "outputId": "a6c2e68d-bb9c-40e0-d10c-8fd4a762353d"
      },
      "source": [
        "# 길이가 25이고 무게가 150인 도미의 데이터를 넣고 결과를 예측해보자!\n",
        "\n",
        "print(kn.predict([[25, 150]]))      # 리스트의 리스트로 예측해야 하고, 도미로 예측되어야 하는데... 빙어로 예측됨.."
      ],
      "execution_count": null,
      "outputs": [
        {
          "output_type": "stream",
          "text": [
            "[0.]\n"
          ],
          "name": "stdout"
        }
      ]
    },
    {
      "cell_type": "markdown",
      "metadata": {
        "id": "7keaZn1mJeBp"
      },
      "source": [
        "**기준을 맞춰라**"
      ]
    },
    {
      "cell_type": "code",
      "metadata": {
        "colab": {
          "base_uri": "https://localhost:8080/",
          "height": 279
        },
        "id": "IInQYXr_Av-y",
        "outputId": "285aeddd-cd35-46e9-a061-c47b0933460a"
      },
      "source": [
        "# 왜그럴까... 산점도로 한번 봐보자\n",
        "\n",
        "import matplotlib.pyplot as plt\n",
        "plt.scatter(train_input[:,0], train_input[:,1])           #train_input[:,0] : 생선의 길이  /  train_input[:,1] : 생선의 무게\n",
        "plt.scatter(25, 150, marker = '^')\n",
        "plt.xlabel(\"length\")\n",
        "plt.ylabel(\"weight\")\n",
        "plt.show()\n",
        "# 분명 위의 도미들의 데이터에 더 가까워보이는데 왜 빙어로 예측할까...??"
      ],
      "execution_count": null,
      "outputs": [
        {
          "output_type": "display_data",
          "data": {
            "image/png": "[encoded data removed]",
            "text/plain": [
              "<Figure size 432x288 with 1 Axes>"
            ]
          },
          "metadata": {
            "tags": [],
            "needs_background": "light"
          }
        }
      ]
    },
    {
      "cell_type": "code",
      "metadata": {
        "id": "Qla9AlrJCGE5"
      },
      "source": [
        "# 문제의 [25, 150] 근처의 5개의 최근접 이웃을 알아보자...\n",
        "\n",
        "distances, indexes = kn.kneighbors([[25, 150]], n_neighbors=21)"
      ],
      "execution_count": null,
      "outputs": []
    },
    {
      "cell_type": "code",
      "metadata": {
        "colab": {
          "base_uri": "https://localhost:8080/",
          "height": 279
        },
        "id": "lt5hr6HeDlug",
        "outputId": "61e79d26-0aa4-4812-aa69-81e1bc597504"
      },
      "source": [
        "# 훈련 데이터 중에서 위의 셀에서 찾아낸 최근접 이웃들은 따로 표시해보자\n",
        "\n",
        "plt.scatter(train_input[:,0], train_input[:,1])\n",
        "plt.scatter(25, 150, marker = '^')\n",
        "plt.scatter(train_input[indexes,0], train_input[indexes,1], marker = 'D')         # 찾은 인덱스들의 길이/무게로 산점도를 찍자\n",
        "plt.xlabel('length')\n",
        "plt.ylabel('weight')\n",
        "plt.show()"
      ],
      "execution_count": null,
      "outputs": [
        {
          "output_type": "display_data",
          "data": {
            "image/png": "[encoded data removed]",
            "text/plain": [
              "<Figure size 432x288 with 1 Axes>"
            ]
          },
          "metadata": {
            "tags": [],
            "needs_background": "light"
          }
        }
      ]
    },
    {
      "cell_type": "code",
      "metadata": {
        "colab": {
          "base_uri": "https://localhost:8080/"
        },
        "id": "Ci57S0OrEX2I",
        "outputId": "db2d3bec-2d5d-4798-8390-8223810b16bf"
      },
      "source": [
        "# 띠용.. 좀더 자세히 보자..\n",
        "\n",
        "print(train_input[indexes])\n",
        "print(train_target[indexes])\n",
        "print(distances)"
      ],
      "execution_count": null,
      "outputs": [
        {
          "output_type": "stream",
          "text": [
            "[[[ 25.4 242. ]\n",
            "  [ 15.   19.9]\n",
            "  [ 14.3  19.7]\n",
            "  [ 13.   12.2]\n",
            "  [ 12.2  12.2]]]\n",
            "[[1. 0. 0. 0. 0.]]\n",
            "[[ 92.00086956 130.48375378 130.73859415 138.32150953 138.39320793]]\n"
          ],
          "name": "stdout"
        }
      ]
    },
    {
      "cell_type": "markdown",
      "metadata": {
        "id": "k7NP56tUFECj"
      },
      "source": [
        "x축과 y축의 비율이 안 맞다!! => 맞춰줘야한다!! 표준화(평균빼고 표준편차로 나눔)"
      ]
    },
    {
      "cell_type": "code",
      "metadata": {
        "colab": {
          "base_uri": "https://localhost:8080/",
          "height": 279
        },
        "id": "WKlWOg3tE7mo",
        "outputId": "2cb12f95-3252-4d93-9dc0-5de352ed25af"
      },
      "source": [
        "# x, y축을 모두 0~1000으로 맞춰보자\n",
        "\n",
        "plt.scatter(train_input[:,0], train_input[:,1])\n",
        "plt.scatter(25, 150, marker = '^')\n",
        "plt.scatter(train_input[indexes, 0], train_input[indexes, 1], marker = 'D')\n",
        "plt.xlim((0, 1000))     #x축 범위 지정\n",
        "plt.xlabel('length')\n",
        "plt.ylabel('weight')\n",
        "plt.show()"
      ],
      "execution_count": null,
      "outputs": [
        {
          "output_type": "display_data",
          "data": {
            "image/png": "[encoded data removed]",
            "text/plain": [
              "<Figure size 432x288 with 1 Axes>"
            ]
          },
          "metadata": {
            "tags": [],
            "needs_background": "light"
          }
        }
      ]
    },
    {
      "cell_type": "markdown",
      "metadata": {
        "id": "byB_EDEQGOOY"
      },
      "source": [
        "두 특성의 값이 놓인 범위가 너무 다르다... => 이를 두 특성의 **스케일**이 안 맞다고 한다!!\n",
        "\n",
        "데이터 전처리 : 특성값을 일정한 기준으로 (ex. 표준화) 맞춰주는 작업"
      ]
    },
    {
      "cell_type": "markdown",
      "metadata": {
        "id": "HpZHhmZEGi33"
      },
      "source": [
        "표준화를 해보자!!"
      ]
    },
    {
      "cell_type": "code",
      "metadata": {
        "id": "C0QaXYccGLcG"
      },
      "source": [
        "# 각 특성별 평균과 표준편차를 구하자\n",
        "\n",
        "mean = np.mean(train_input, axis = 0)           #train_input은 (36,2)크기의 배열이다... axis = 0으로 하면 하나의 각 열을 따라 내려오는 방향으로 계산한다\n",
        "std = np.std(train_input, axis = 0)"
      ],
      "execution_count": null,
      "outputs": []
    },
    {
      "cell_type": "code",
      "metadata": {
        "colab": {
          "base_uri": "https://localhost:8080/"
        },
        "id": "7rlIPbw7GqVi",
        "outputId": "0f70240c-fd67-4a1e-e5ff-3ecbe72b7425"
      },
      "source": [
        "# 각 특성에 대한 평균과 표준편차\n",
        "\n",
        "print(mean, std)"
      ],
      "execution_count": null,
      "outputs": [
        {
          "output_type": "stream",
          "text": [
            "[ 27.29722222 454.09722222] [  9.98244253 323.29893931]\n"
          ],
          "name": "stdout"
        }
      ]
    },
    {
      "cell_type": "code",
      "metadata": {
        "id": "-jTsn6dFIrQc"
      },
      "source": [
        "# 브로드캐스팅한다...\n",
        "\n",
        "train_scaled = (train_input - mean)/std\n",
        "# train_input은 (36,2) 크기이고 mean과 std는 (1,2)크기이지만 넘파이는 자동으로 모든 행에 대해서 계산해준다!"
      ],
      "execution_count": null,
      "outputs": []
    },
    {
      "cell_type": "markdown",
      "metadata": {
        "id": "RnNOwMyNJjTN"
      },
      "source": [
        "**전처리 데이터로 모델 훈련하기**"
      ]
    },
    {
      "cell_type": "code",
      "metadata": {
        "colab": {
          "base_uri": "https://localhost:8080/",
          "height": 279
        },
        "id": "rNXJhFAmI90p",
        "outputId": "be87f773-43db-4380-eb34-899d623a3584"
      },
      "source": [
        "# 표준점수로 변환한 train_scaled를 이용해서 다시 산점도...\n",
        "\n",
        "plt.scatter(train_scaled[:,0], train_scaled[:,1])\n",
        "plt.scatter(25, 150, marker = '^')\n",
        "plt.xlabel('length')\n",
        "plt.ylabel('weight')\n",
        "plt.show()\n",
        "# 결과가 이상... 모든 데이터를 스케일링했으니 당연히 예측하고 싶은 데이터도 스케일링 한 뒤에 예측해야한다.."
      ],
      "execution_count": null,
      "outputs": [
        {
          "output_type": "display_data",
          "data": {
            "image/png": "[encoded data removed]",
            "text/plain": [
              "<Figure size 432x288 with 1 Axes>"
            ]
          },
          "metadata": {
            "tags": [],
            "needs_background": "light"
          }
        }
      ]
    },
    {
      "cell_type": "code",
      "metadata": {
        "colab": {
          "base_uri": "https://localhost:8080/",
          "height": 279
        },
        "id": "t9xk5S0YJ3aA",
        "outputId": "2dfa5ccc-d368-45d9-abe6-ab7b7c2b0a2b"
      },
      "source": [
        "# 예측하고 싶은 데이터[25,150]를 훈련세트 전체의 평균과 표준편차로 스케일링 해야한다!! (앞에서 구한 mean과 std..)\n",
        "\n",
        "new = ([25, 150] - mean) / std          #스케일링\n",
        "plt.scatter(train_scaled[:,0], train_scaled[:,1])\n",
        "plt.scatter(new[0], new[1], marker = '^')\n",
        "plt.xlabel('length')\n",
        "plt.ylabel('weight')\n",
        "plt.show()"
      ],
      "execution_count": null,
      "outputs": [
        {
          "output_type": "display_data",
          "data": {
            "image/png": "[encoded data removed]",
            "text/plain": [
              "<Figure size 432x288 with 1 Axes>"
            ]
          },
          "metadata": {
            "tags": [],
            "needs_background": "light"
          }
        }
      ]
    },
    {
      "cell_type": "code",
      "metadata": {
        "colab": {
          "base_uri": "https://localhost:8080/"
        },
        "id": "it0-Lx-SKY_Y",
        "outputId": "ee1fe677-762d-4490-80d3-4d3bab9816b4"
      },
      "source": [
        "# 이제 스케일링까지 다 했고, 다시 훈련시키자...\n",
        "\n",
        "kn.fit(train_scaled, train_target)"
      ],
      "execution_count": null,
      "outputs": [
        {
          "output_type": "execute_result",
          "data": {
            "text/plain": [
              "KNeighborsClassifier(algorithm='auto', leaf_size=30, metric='minkowski',\n",
              "                     metric_params=None, n_jobs=None, n_neighbors=5, p=2,\n",
              "                     weights='uniform')"
            ]
          },
          "metadata": {
            "tags": []
          },
          "execution_count": 44
        }
      ]
    },
    {
      "cell_type": "code",
      "metadata": {
        "id": "OQ5ZQpvyKmsX"
      },
      "source": [
        "# 정확도를 보기 위해서 테스트세트를 이용할 때도 테스트세트를 스케일링 해주어야한다... 물론 훈련세트의 평균과 표준편차로!!!\n",
        "# 타깃값은 스케일링이 필요가 없다... 당연하게도..\n",
        "\n",
        "test_scaled = (test_input - mean) / std"
      ],
      "execution_count": null,
      "outputs": []
    },
    {
      "cell_type": "code",
      "metadata": {
        "colab": {
          "base_uri": "https://localhost:8080/"
        },
        "id": "K2ur39KBK35m",
        "outputId": "858c7222-a4ae-46c2-f177-0f5e401a3849"
      },
      "source": [
        "kn.score(test_scaled, test_target)"
      ],
      "execution_count": null,
      "outputs": [
        {
          "output_type": "execute_result",
          "data": {
            "text/plain": [
              "1.0"
            ]
          },
          "metadata": {
            "tags": []
          },
          "execution_count": 46
        }
      ]
    },
    {
      "cell_type": "code",
      "metadata": {
        "colab": {
          "base_uri": "https://localhost:8080/"
        },
        "id": "d0ByywzKLBVF",
        "outputId": "0a87e4ee-5309-491c-85c9-08e91ef3933d"
      },
      "source": [
        "# 아까 수상한 도미 한마리를 스케일링한 new라는 데이터를 예측해보자!!\n",
        "\n",
        "print(kn.predict([new]))        #리스트의 리스트로 넣어야함...\n",
        "# 이제야 도미로 예측하네..."
      ],
      "execution_count": null,
      "outputs": [
        {
          "output_type": "stream",
          "text": [
            "[1.]\n"
          ],
          "name": "stdout"
        }
      ]
    },
    {
      "cell_type": "markdown",
      "metadata": {
        "id": "gAXWNXivLV-7"
      },
      "source": [
        "스케일링을 한 데이터들에서 최근접 이웃을 다시 구해보자!!"
      ]
    },
    {
      "cell_type": "code",
      "metadata": {
        "colab": {
          "base_uri": "https://localhost:8080/",
          "height": 279
        },
        "id": "NyTQZy8nLQ8g",
        "outputId": "b8bcfcbb-eb47-4241-af3f-b55998f6b316"
      },
      "source": [
        "distances, indexes = kn.kneighbors([new])\n",
        "plt.scatter(train_scaled[:, 0], train_scaled[:, 1])\n",
        "plt.scatter(new[0], new[1], marker = '^')\n",
        "plt.scatter(train_scaled[indexes, 0], train_scaled[indexes, 1], marker = 'D')\n",
        "plt.xlabel('length')\n",
        "plt.ylabel('weight')\n",
        "plt.show()\n",
        "# 이제야 제대로 나오네..."
      ],
      "execution_count": null,
      "outputs": [
        {
          "output_type": "display_data",
          "data": {
            "image/png": "[encoded data removed]",
            "text/plain": [
              "<Figure size 432x288 with 1 Axes>"
            ]
          },
          "metadata": {
            "tags": [],
            "needs_background": "light"
          }
        }
      ]
    },
    {
      "cell_type": "markdown",
      "metadata": {
        "id": "cCyg-ApFMJUO"
      },
      "source": [
        "**중요 키워드**\n",
        "\n",
        "- 데이터 전처리 : 머신러닝 모델에 훈련 데이터를 주입하기 전에 가공하는 단계\n",
        "- 표준점수 : 훈련 세트를 스케일링하는 대표적인 방법 중 하나\n",
        "- 브로드캐스팅 : 크기가 다른 넘파이 배열에서 자동으로 사칙연산을 모든 행이나 열로 확장해서 수행하는 기능!!\n",
        "\n",
        "**핵심 패키지와 함수**\n",
        "\n",
        "scikit-learn 모듈\n",
        "    \n",
        "    1) train_test_split() 메서드 \n",
        "    - 훈련 데이터를 훈련 / 테스트 세트로 나누는 함수 (기본비율 3:1)\n",
        "    - 비율 지정은 startify 매개변수 지정\n",
        "    \n",
        "    2) kneighbors() 메서드\n",
        "    - k-최근접 이웃 객체의 메서드이고, 가까운 이웃까지의 거리와 가까운 이웃의 인덱스를 반환"
      ]
    },
    {
      "cell_type": "code",
      "metadata": {
        "colab": {
          "base_uri": "https://localhost:8080/"
        },
        "id": "Vc8JqoFSZ0_0",
        "outputId": "474702e1-4691-428b-ebc6-7753ea9aa730"
      },
      "source": [
        "kn = KNeighborsClassifier()\n",
        "kn.fit(train_scaled, train_target)\n",
        "\n",
        "for n in range(5,50):\n",
        "    # 이웃 개수 설정\n",
        "    kn.n_neighbors = n      #kn의 이웃 개수는 자동으로 바뀌어서 적용된다\n",
        "    # 점수 계산\n",
        "    score = kn.score(test_scaled, test_target)\n",
        "    # 100% 정확도에 미치지 못하는 이웃 개수 출력\n",
        "    if score < 1:\n",
        "        print(n,score)\n",
        "        break"
      ],
      "execution_count": null,
      "outputs": [
        {
          "output_type": "stream",
          "text": [
            "21 0.6923076923076923\n"
          ],
          "name": "stdout"
        }
      ]
    }
  ]
}