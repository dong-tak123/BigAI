{
  "nbformat": 4,
  "nbformat_minor": 0,
  "metadata": {
    "colab": {
      "name": "Chapter4.다양한 분류 알고리즘",
      "provenance": [],
      "collapsed_sections": []
    },
    "kernelspec": {
      "name": "python3",
      "display_name": "Python 3"
    },
    "language_info": {
      "name": "python"
    }
  },
  "cells": [
    {
      "cell_type": "markdown",
      "metadata": {
        "id": "SYymcxAWrs9H"
      },
      "source": [
        "#4.1 로지스틱 회귀"
      ]
    },
    {
      "cell_type": "markdown",
      "metadata": {
        "id": "YSlWX2d_rvu-"
      },
      "source": [
        "**럭키백의 확률**\n",
        "\n",
        "- 생선의 크기, 무게가 주어졌을 때 7개의 생선 중 무엇일지에 대한 확률을 출력해야한다..\n",
        "\n",
        "=> 아그럼 일단 k최근접 이웃으로 한번 해보자.."
      ]
    },
    {
      "cell_type": "code",
      "metadata": {
        "id": "obK-TXDurL9e",
        "colab": {
          "base_uri": "https://localhost:8080/",
          "height": 206
        },
        "outputId": "f2900586-dae6-41b1-ed79-ebbba2e02db6"
      },
      "source": [
        "import pandas as pd\n",
        "fish = pd.read_csv('https://bit.ly/fish_csv_data')\n",
        "fish.head()"
      ],
      "execution_count": null,
      "outputs": [
        {
          "output_type": "execute_result",
          "data": {
            "text/html": [
              "<div>\n",
              "<style scoped>\n",
              "    .dataframe tbody tr th:only-of-type {\n",
              "        vertical-align: middle;\n",
              "    }\n",
              "\n",
              "    .dataframe tbody tr th {\n",
              "        vertical-align: top;\n",
              "    }\n",
              "\n",
              "    .dataframe thead th {\n",
              "        text-align: right;\n",
              "    }\n",
              "</style>\n",
              "<table border=\"1\" class=\"dataframe\">\n",
              "  <thead>\n",
              "    <tr style=\"text-align: right;\">\n",
              "      <th></th>\n",
              "      <th>Species</th>\n",
              "      <th>Weight</th>\n",
              "      <th>Length</th>\n",
              "      <th>Diagonal</th>\n",
              "      <th>Height</th>\n",
              "      <th>Width</th>\n",
              "    </tr>\n",
              "  </thead>\n",
              "  <tbody>\n",
              "    <tr>\n",
              "      <th>0</th>\n",
              "      <td>Bream</td>\n",
              "      <td>242.0</td>\n",
              "      <td>25.4</td>\n",
              "      <td>30.0</td>\n",
              "      <td>11.5200</td>\n",
              "      <td>4.0200</td>\n",
              "    </tr>\n",
              "    <tr>\n",
              "      <th>1</th>\n",
              "      <td>Bream</td>\n",
              "      <td>290.0</td>\n",
              "      <td>26.3</td>\n",
              "      <td>31.2</td>\n",
              "      <td>12.4800</td>\n",
              "      <td>4.3056</td>\n",
              "    </tr>\n",
              "    <tr>\n",
              "      <th>2</th>\n",
              "      <td>Bream</td>\n",
              "      <td>340.0</td>\n",
              "      <td>26.5</td>\n",
              "      <td>31.1</td>\n",
              "      <td>12.3778</td>\n",
              "      <td>4.6961</td>\n",
              "    </tr>\n",
              "    <tr>\n",
              "      <th>3</th>\n",
              "      <td>Bream</td>\n",
              "      <td>363.0</td>\n",
              "      <td>29.0</td>\n",
              "      <td>33.5</td>\n",
              "      <td>12.7300</td>\n",
              "      <td>4.4555</td>\n",
              "    </tr>\n",
              "    <tr>\n",
              "      <th>4</th>\n",
              "      <td>Bream</td>\n",
              "      <td>430.0</td>\n",
              "      <td>29.0</td>\n",
              "      <td>34.0</td>\n",
              "      <td>12.4440</td>\n",
              "      <td>5.1340</td>\n",
              "    </tr>\n",
              "  </tbody>\n",
              "</table>\n",
              "</div>"
            ],
            "text/plain": [
              "  Species  Weight  Length  Diagonal   Height   Width\n",
              "0   Bream   242.0    25.4      30.0  11.5200  4.0200\n",
              "1   Bream   290.0    26.3      31.2  12.4800  4.3056\n",
              "2   Bream   340.0    26.5      31.1  12.3778  4.6961\n",
              "3   Bream   363.0    29.0      33.5  12.7300  4.4555\n",
              "4   Bream   430.0    29.0      34.0  12.4440  5.1340"
            ]
          },
          "metadata": {
            "tags": []
          },
          "execution_count": 24
        }
      ]
    },
    {
      "cell_type": "code",
      "metadata": {
        "colab": {
          "base_uri": "https://localhost:8080/"
        },
        "id": "OITJqLnErqUm",
        "outputId": "0c6ac081-1035-4d5f-9502-c550e11d6710"
      },
      "source": [
        "# 어떤 종류의 생선이 있는지 한번 출력해보자.. pd.unique함수를 쓰면 알 수 있다..\n",
        "\n",
        "print(pd.unique(fish['Species']))"
      ],
      "execution_count": null,
      "outputs": [
        {
          "output_type": "stream",
          "text": [
            "['Bream' 'Roach' 'Whitefish' 'Parkki' 'Perch' 'Pike' 'Smelt']\n"
          ],
          "name": "stdout"
        }
      ]
    },
    {
      "cell_type": "code",
      "metadata": {
        "id": "DzkUThOosO7K"
      },
      "source": [
        "#데이터프레임에서 원하는 column만 가져와서 인풋데이터를 만든다..\n",
        "fish_input=fish[['Weight', 'Length', 'Diagonal', 'Height', 'Width']].to_numpy()"
      ],
      "execution_count": null,
      "outputs": []
    },
    {
      "cell_type": "code",
      "metadata": {
        "colab": {
          "base_uri": "https://localhost:8080/"
        },
        "id": "m5nQw3onsuNm",
        "outputId": "c730c847-6233-4dcc-9ce9-13062f666ac9"
      },
      "source": [
        "print(fish_input[:5])           #만들어졌다.. 리스트의 리스트로.."
      ],
      "execution_count": null,
      "outputs": [
        {
          "output_type": "stream",
          "text": [
            "[[242.      25.4     30.      11.52     4.02  ]\n",
            " [290.      26.3     31.2     12.48     4.3056]\n",
            " [340.      26.5     31.1     12.3778   4.6961]\n",
            " [363.      29.      33.5     12.73     4.4555]\n",
            " [430.      29.      34.      12.444    5.134 ]]\n"
          ],
          "name": "stdout"
        }
      ]
    },
    {
      "cell_type": "code",
      "metadata": {
        "id": "K2xnGIbdsxqM"
      },
      "source": [
        "fish_target=fish['Species'].to_numpy()        #타겟 데이터 만들기"
      ],
      "execution_count": null,
      "outputs": []
    },
    {
      "cell_type": "code",
      "metadata": {
        "id": "wJ_JaRMhs9ws"
      },
      "source": [
        "from sklearn.model_selection import train_test_split\n",
        "train_input, test_input, train_target, test_target = train_test_split(fish_input, fish_target, random_state=42)     #테스트세트 분리"
      ],
      "execution_count": null,
      "outputs": []
    },
    {
      "cell_type": "code",
      "metadata": {
        "id": "_CfoD9mytPXL"
      },
      "source": [
        "#표준화 전처리..\n",
        "from sklearn.preprocessing import StandardScaler\n",
        "ss=StandardScaler()\n",
        "ss.fit(train_input)     #훈련세트의 표준화값으로\n",
        "train_scaled = ss.transform(train_input)\n",
        "test_scaled = ss.transform(test_input)      #테스트세트도 전처리 해주어야한다.."
      ],
      "execution_count": null,
      "outputs": []
    },
    {
      "cell_type": "markdown",
      "metadata": {
        "id": "SViHBVfVt30v"
      },
      "source": [
        "K-최근접 이웃 분류기의 확률 예측..\n",
        "\n",
        "이웃 갯수를 3개로 지정"
      ]
    },
    {
      "cell_type": "code",
      "metadata": {
        "colab": {
          "base_uri": "https://localhost:8080/"
        },
        "id": "8WTjoyWZtiL9",
        "outputId": "7cbf2653-f785-4bbc-c35b-ad32a1479958"
      },
      "source": [
        "from sklearn.neighbors import KNeighborsClassifier\n",
        "kn = KNeighborsClassifier(n_neighbors=3)\n",
        "kn.fit(train_scaled, train_target)      #훈련..\n",
        "print(kn.score(train_scaled, train_target))     #훈련세트 점수\n",
        "print(kn.score(test_scaled, test_target))       #테스트세트 점수\n",
        "\n",
        "# => 둘다 상당히 낮다.. 과소적합인거 같은데 일단 보류.."
      ],
      "execution_count": null,
      "outputs": [
        {
          "output_type": "stream",
          "text": [
            "0.8907563025210085\n",
            "0.85\n"
          ],
          "name": "stdout"
        }
      ]
    },
    {
      "cell_type": "markdown",
      "metadata": {
        "id": "1TGbcPk8uadg"
      },
      "source": [
        "**다중 분류** : 타깃 데이터에 2개 이상의 클래스가 포함된 문제\n",
        "\n",
        "-> 사이킷런에서는 타깃값을 숫자로 안바꾸고 그냥 문자 그대로 사용도 가능.. 근데 알파벳 순서긴 함.."
      ]
    },
    {
      "cell_type": "code",
      "metadata": {
        "colab": {
          "base_uri": "https://localhost:8080/"
        },
        "id": "qfWQs3wiuR_Q",
        "outputId": "e5746a43-b60e-44a6-cc22-5bbf54b66502"
      },
      "source": [
        "#타깃값이 저장된 classes_속성..\n",
        "print(kn.classes_)"
      ],
      "execution_count": null,
      "outputs": [
        {
          "output_type": "stream",
          "text": [
            "['Bream' 'Parkki' 'Perch' 'Pike' 'Roach' 'Smelt' 'Whitefish']\n"
          ],
          "name": "stdout"
        }
      ]
    },
    {
      "cell_type": "code",
      "metadata": {
        "colab": {
          "base_uri": "https://localhost:8080/"
        },
        "id": "7vOTKdZ4uvHp",
        "outputId": "29587b56-3a50-4f6c-abaf-d1c1af641361"
      },
      "source": [
        "print(kn.predict(test_scaled[:5]))      #테스트세트 앞에서 5개의 예측값"
      ],
      "execution_count": null,
      "outputs": [
        {
          "output_type": "stream",
          "text": [
            "['Perch' 'Smelt' 'Pike' 'Perch' 'Perch']\n"
          ],
          "name": "stdout"
        }
      ]
    },
    {
      "cell_type": "code",
      "metadata": {
        "colab": {
          "base_uri": "https://localhost:8080/"
        },
        "id": "QmeT9_bWu3pC",
        "outputId": "45074d96-3227-410a-c0d3-1f590b78525e"
      },
      "source": [
        "import numpy as np\n",
        "\n",
        "proba = kn.predict_proba(test_scaled[:5])       #각 클래스별 확률을 반환해주는 메서드\n",
        "print(np.round(proba, decimals=4))"
      ],
      "execution_count": null,
      "outputs": [
        {
          "output_type": "stream",
          "text": [
            "[[0.     0.     1.     0.     0.     0.     0.    ]\n",
            " [0.     0.     0.     0.     0.     1.     0.    ]\n",
            " [0.     0.     0.     1.     0.     0.     0.    ]\n",
            " [0.     0.     0.6667 0.     0.3333 0.     0.    ]\n",
            " [0.     0.     0.6667 0.     0.3333 0.     0.    ]]\n"
          ],
          "name": "stdout"
        }
      ]
    },
    {
      "cell_type": "code",
      "metadata": {
        "colab": {
          "base_uri": "https://localhost:8080/"
        },
        "id": "3W4cDlkEvBbs",
        "outputId": "0c01ef8a-1213-4a38-8881-ddbe407d9bc3"
      },
      "source": [
        "#가장 가까운 이웃들을 한번 확인해보자..\n",
        "distances, indexes = kn.kneighbors(test_scaled[3:4])\n",
        "print(train_target[indexes])"
      ],
      "execution_count": null,
      "outputs": [
        {
          "output_type": "stream",
          "text": [
            "[['Roach' 'Perch' 'Perch']]\n"
          ],
          "name": "stdout"
        }
      ]
    },
    {
      "cell_type": "markdown",
      "metadata": {
        "id": "_gTGPM4TvrLJ"
      },
      "source": [
        "-> 근데 이방법은 너무 확률을 제대로 말을 못한다..."
      ]
    },
    {
      "cell_type": "markdown",
      "metadata": {
        "id": "hp_s0BP-vxWi"
      },
      "source": [
        "**로지스틱 회귀**"
      ]
    },
    {
      "cell_type": "markdown",
      "metadata": {
        "id": "cs8Yuk7pv0Vb"
      },
      "source": [
        "로지스틱 회귀는 회귀지만 분류모델이다!!\n",
        "\n",
        "선형 방정식을 학습한다..\n",
        "\n",
        "z = a * (Weight) + b * (Length) + c * (Diagonal) + d * (Height) + e * (Width) + f\n",
        "\n",
        "z는 아무 값이나 가능한데, 이를 시그모이드 함수를 이용해서 0~1사이의 값으로 바꿀 수 있다.."
      ]
    },
    {
      "cell_type": "code",
      "metadata": {
        "colab": {
          "base_uri": "https://localhost:8080/",
          "height": 279
        },
        "id": "yqXsCrzSvZHw",
        "outputId": "7c841593-b271-4900-81b4-7ad5aae945d3"
      },
      "source": [
        "#시그모이드 함수..\n",
        "import numpy as np\n",
        "import matplotlib.pyplot as plt\n",
        "\n",
        "z = np.arange(-5,5,0.1)\n",
        "phi = 1/(1+ np.exp(-z))\n",
        "plt.plot(z,phi)\n",
        "plt.xlabel('z')\n",
        "plt.ylabel('phi')\n",
        "plt.show()"
      ],
      "execution_count": null,
      "outputs": [
        {
          "output_type": "display_data",
          "data": {
            "image/png": "[encoded data removed]",
            "text/plain": [
              "<Figure size 432x288 with 1 Axes>"
            ]
          },
          "metadata": {
            "tags": [],
            "needs_background": "light"
          }
        }
      ]
    },
    {
      "cell_type": "markdown",
      "metadata": {
        "id": "avTkYKcm5PtL"
      },
      "source": [
        "**로지스틱 회귀로 이진 분류 수행하기**\n",
        "\n",
        "불리언 인덱싱을 해가지고 원하는 종류만 가져와서 일단 이진 분류를 해보자.."
      ]
    },
    {
      "cell_type": "code",
      "metadata": {
        "colab": {
          "base_uri": "https://localhost:8080/"
        },
        "id": "9y3KQhLBCfy9",
        "outputId": "9996cd0d-f75b-44fd-83c0-0099bff5e1df"
      },
      "source": [
        "char_arr = np.array(['A','B','C','D','E'])\n",
        "print(char_arr[[True, False, True, False, False]])\n",
        "print(train_target)"
      ],
      "execution_count": null,
      "outputs": [
        {
          "output_type": "stream",
          "text": [
            "['A' 'C']\n",
            "['Bream' 'Pike' 'Smelt' 'Perch' 'Parkki' 'Roach' 'Perch' 'Bream' 'Perch'\n",
            " 'Perch' 'Perch' 'Bream' 'Perch' 'Parkki' 'Perch' 'Bream' 'Smelt' 'Perch'\n",
            " 'Roach' 'Bream' 'Pike' 'Bream' 'Pike' 'Perch' 'Parkki' 'Bream' 'Perch'\n",
            " 'Pike' 'Bream' 'Perch' 'Parkki' 'Roach' 'Perch' 'Bream' 'Roach' 'Perch'\n",
            " 'Bream' 'Bream' 'Perch' 'Perch' 'Roach' 'Pike' 'Perch' 'Smelt' 'Pike'\n",
            " 'Roach' 'Perch' 'Parkki' 'Perch' 'Bream' 'Perch' 'Smelt' 'Perch' 'Parkki'\n",
            " 'Smelt' 'Perch' 'Perch' 'Roach' 'Bream' 'Perch' 'Perch' 'Roach' 'Roach'\n",
            " 'Perch' 'Perch' 'Bream' 'Roach' 'Bream' 'Roach' 'Parkki' 'Perch' 'Perch'\n",
            " 'Perch' 'Perch' 'Pike' 'Pike' 'Perch' 'Bream' 'Perch' 'Bream' 'Whitefish'\n",
            " 'Pike' 'Bream' 'Bream' 'Roach' 'Perch' 'Pike' 'Bream' 'Pike' 'Parkki'\n",
            " 'Roach' 'Perch' 'Roach' 'Smelt' 'Whitefish' 'Roach' 'Perch' 'Bream'\n",
            " 'Whitefish' 'Smelt' 'Pike' 'Roach' 'Smelt' 'Bream' 'Roach' 'Pike' 'Perch'\n",
            " 'Perch' 'Perch' 'Perch' 'Perch' 'Perch' 'Smelt' 'Bream' 'Parkki' 'Perch'\n",
            " 'Bream' 'Perch' 'Perch']\n"
          ],
          "name": "stdout"
        }
      ]
    },
    {
      "cell_type": "code",
      "metadata": {
        "colab": {
          "base_uri": "https://localhost:8080/"
        },
        "id": "5oJI33SS7SB_",
        "outputId": "a4588250-1ab0-4d00-f704-d9aaea8568cb"
      },
      "source": [
        "# 얘 왜 안대냐?\n",
        "\n",
        "\"\"\"bream_smelt_indexes = (train_target=='Bream')| (train_target == 'Smelt')\n",
        "target_bream_smelt = train_scaled[bream_smelt_indexes]\n",
        "#print(bream_smelt_indexes)\n",
        "print(target_bream_smelt)\n",
        "print(train_scaled[bream_smelt_indexes])\"\"\"\n",
        "bream_smelt_indexes = (train_target == 'Bream') | (train_target == 'Smelt')\n",
        "print(bream_smelt_indexes)"
      ],
      "execution_count": null,
      "outputs": [
        {
          "output_type": "stream",
          "text": [
            "[ True False  True False False False False  True False False False  True\n",
            " False False False  True  True False False  True False  True False False\n",
            " False  True False False  True False False False False  True False False\n",
            "  True  True False False False False False  True False False False False\n",
            " False  True False  True False False  True False False False  True False\n",
            " False False False False False  True False  True False False False False\n",
            " False False False False False  True False  True False False  True  True\n",
            " False False False  True False False False False False  True False False\n",
            " False  True False  True False False  True  True False False False False\n",
            " False False False False  True  True False False  True False False]\n"
          ],
          "name": "stdout"
        }
      ]
    },
    {
      "cell_type": "code",
      "metadata": {
        "id": "IMWa50r-5NHj"
      },
      "source": [
        "#데이터에서 도미와 빙어 데이터만을 가져오자..\n",
        "\n",
        "bream_smelt_indexes = (train_target == 'Bream') | (train_target == 'Smelt')       #빙어와 도미의 것들의 인덱스를 모았다..\n",
        "train_bream_smelt = train_scaled[bream_smelt_indexes]                             #그 인덱스들만 훈련세트에서 가져왔다\n",
        "target_bream_smelt = train_target[bream_smelt_indexes]                            #타겟에서도 가져와서 타겟데이터를 만들었다"
      ],
      "execution_count": null,
      "outputs": []
    },
    {
      "cell_type": "markdown",
      "metadata": {
        "id": "tjfqjxmD8z99"
      },
      "source": [
        "**로지스틱 회귀로 다중 분류 수행하기**\n",
        "\n",
        "LogisticRegression클래스는 기본적으로 반복적인 알고리즘 수행..\n",
        "\n",
        "규제를 alpha가 아닌 C로 규제..\n",
        "\n",
        "C의 기본값은 1이고, 작을수록 규제가 커진다.."
      ]
    },
    {
      "cell_type": "code",
      "metadata": {
        "id": "M_qYUaY19f8c"
      },
      "source": [
        "from sklearn.linear_model import LogisticRegression\n",
        "lr = LogisticRegression()"
      ],
      "execution_count": null,
      "outputs": []
    },
    {
      "cell_type": "code",
      "metadata": {
        "colab": {
          "base_uri": "https://localhost:8080/"
        },
        "id": "akVMG6w756C3",
        "outputId": "ab71c6a6-d005-4e74-ad52-96b69da2226a"
      },
      "source": [
        "# 7개의 생선 데이터가 모두 들어있는 train_scaled 와 train_target을 사용한 점을 잘 봐라..\n",
        "\n",
        "lr = LogisticRegression(C=20, max_iter=1000)\n",
        "lr.fit(train_scaled, train_target)      # 훈련\n",
        "print(lr.score(train_scaled, train_target))         #훈련세트점수\n",
        "print(lr.score(test_scaled, test_target))           #테스트세트 점수\n",
        "\n",
        "#점수는 나쁘지 않은거 같다.."
      ],
      "execution_count": null,
      "outputs": [
        {
          "output_type": "stream",
          "text": [
            "0.9327731092436975\n",
            "0.925\n"
          ],
          "name": "stdout"
        }
      ]
    },
    {
      "cell_type": "code",
      "metadata": {
        "colab": {
          "base_uri": "https://localhost:8080/"
        },
        "id": "phgR6Wyn9b5t",
        "outputId": "f56b2f16-e5a8-4306-c133-65c4e4b52e1a"
      },
      "source": [
        "#5개 출력..\n",
        "\n",
        "print(lr.predict(test_scaled[:5]))"
      ],
      "execution_count": null,
      "outputs": [
        {
          "output_type": "stream",
          "text": [
            "['Perch' 'Smelt' 'Pike' 'Roach' 'Perch']\n"
          ],
          "name": "stdout"
        }
      ]
    },
    {
      "cell_type": "code",
      "metadata": {
        "colab": {
          "base_uri": "https://localhost:8080/"
        },
        "id": "RGbJJFMU9y3-",
        "outputId": "5cd5ecf0-eaa4-4791-d4ee-c754bb130f9b"
      },
      "source": [
        "#실제 확률값을 한번 보자..\n",
        "\n",
        "proba = lr.predict_proba(test_scaled[:5])\n",
        "print(np.round(proba, decimals=3))\n",
        "\n",
        "#제일 높은게 예측값.."
      ],
      "execution_count": null,
      "outputs": [
        {
          "output_type": "stream",
          "text": [
            "[[0.    0.014 0.841 0.    0.136 0.007 0.003]\n",
            " [0.    0.003 0.044 0.    0.007 0.946 0.   ]\n",
            " [0.    0.    0.034 0.935 0.015 0.016 0.   ]\n",
            " [0.011 0.034 0.306 0.007 0.567 0.    0.076]\n",
            " [0.    0.    0.904 0.002 0.089 0.002 0.001]]\n"
          ],
          "name": "stdout"
        }
      ]
    },
    {
      "cell_type": "code",
      "metadata": {
        "colab": {
          "base_uri": "https://localhost:8080/"
        },
        "id": "7Dz-JwoR99PO",
        "outputId": "508242ec-fde1-44d3-b026-7146cdc8bf58"
      },
      "source": [
        "print(lr.classes_)"
      ],
      "execution_count": null,
      "outputs": [
        {
          "output_type": "stream",
          "text": [
            "['Bream' 'Parkki' 'Perch' 'Pike' 'Roach' 'Smelt' 'Whitefish']\n"
          ],
          "name": "stdout"
        }
      ]
    },
    {
      "cell_type": "markdown",
      "metadata": {
        "id": "n9y1Fj77-Ihs"
      },
      "source": [
        "- 이진 분류는 샘플마다 2개의 확률 측정.. 다중 분류는 샘플마다 각 클래스일 확률을 출력... 여기서는 7개,,"
      ]
    },
    {
      "cell_type": "code",
      "metadata": {
        "colab": {
          "base_uri": "https://localhost:8080/"
        },
        "id": "HEeFs0Ii-G1m",
        "outputId": "5f39a7a6-8a56-4fd3-e2b5-e74a37e9d0e0"
      },
      "source": [
        "print(lr.coef_.shape, lr.intercept_.shape)\n",
        "#모델 파라미터는 5개.. 특성이 5개이기 때문에.."
      ],
      "execution_count": null,
      "outputs": [
        {
          "output_type": "stream",
          "text": [
            "(7, 5) (7,)\n"
          ],
          "name": "stdout"
        }
      ]
    },
    {
      "cell_type": "code",
      "metadata": {
        "colab": {
          "base_uri": "https://localhost:8080/"
        },
        "id": "sWFv9F57-TUl",
        "outputId": "443f475d-7f4e-458b-df2a-a2e4b9a2f627"
      },
      "source": [
        "print(lr.coef_)\n",
        "print(lr.intercept_)\n",
        "# 각 클래스마다 그 클래스일 확률을 계산해야하므로 z값을 7개를 계산한다.. "
      ],
      "execution_count": null,
      "outputs": [
        {
          "output_type": "stream",
          "text": [
            "[[-1.49002911 -1.02919221  2.59351113  7.70354318 -1.20068079]\n",
            " [ 0.19619256 -2.0106062  -3.77982687  6.50490143 -1.99486463]\n",
            " [ 3.56278472  6.34361428 -8.48973364 -5.75756295  3.79309039]\n",
            " [-0.10458533  3.60316654  3.93067417 -3.61731229 -1.75070607]\n",
            " [-1.40059104 -6.07505264  5.25967743 -0.87222909  1.86043657]\n",
            " [-1.38528628  1.49217379  1.3922839  -5.67732641 -4.40095877]\n",
            " [ 0.62151448 -2.32410356 -0.90658611  1.71598614  3.69368329]]\n",
            "[-0.09204845 -0.26290731  3.25101057 -0.14742485  2.65496057 -6.78780765\n",
            "  1.38421712]\n"
          ],
          "name": "stdout"
        }
      ]
    },
    {
      "cell_type": "markdown",
      "metadata": {
        "id": "2gTtOhPf_Dtw"
      },
      "source": [
        "이진 분류가 시그모이드 함수를 이용했던 것과 달리, 다중 분류는 소프트맥스 함수를 사용하여 7개의 z값을 확률로 변환한다..\n",
        "\n",
        "z값을 0~1로 압축하고 7개를 다 더해서 1이 되도록 한다.."
      ]
    },
    {
      "cell_type": "code",
      "metadata": {
        "colab": {
          "base_uri": "https://localhost:8080/"
        },
        "id": "5Ysb_ryY-zf9",
        "outputId": "80ce2e90-e5e1-4be4-b8ba-377ed9aa871e"
      },
      "source": [
        "decision = lr.decision_function(test_scaled[:5])        #7값을 반환한다..\n",
        "print(np.round(decision, decimals=2))"
      ],
      "execution_count": null,
      "outputs": [
        {
          "output_type": "stream",
          "text": [
            "[[ -6.5    1.03   5.16  -2.73   3.34   0.33  -0.63]\n",
            " [-10.86   1.93   4.77  -2.4    2.98   7.84  -4.26]\n",
            " [ -4.34  -6.23   3.17   6.49   2.36   2.42  -3.87]\n",
            " [ -0.68   0.45   2.65  -1.19   3.26  -5.75   1.26]\n",
            " [ -6.4   -1.99   5.82  -0.11   3.5   -0.11  -0.71]]\n"
          ],
          "name": "stdout"
        }
      ]
    },
    {
      "cell_type": "code",
      "metadata": {
        "colab": {
          "base_uri": "https://localhost:8080/"
        },
        "id": "a_7CSM4p_hf-",
        "outputId": "c4f4590c-5c2d-4e4e-9998-7d7fe9f8046c"
      },
      "source": [
        "#소프트맥스 함수 적용\n",
        "\n",
        "from scipy.special import softmax\n",
        "proba = softmax(decision, axis=1)       #decision 리스트를 softmax로 보내는데, axis = 1 : 각 샘플당 합이 1이어야한다.. (행방향..)\n",
        "print(np.round(proba, decimals=3))"
      ],
      "execution_count": null,
      "outputs": [
        {
          "output_type": "stream",
          "text": [
            "[[0.    0.014 0.841 0.    0.136 0.007 0.003]\n",
            " [0.    0.003 0.044 0.    0.007 0.946 0.   ]\n",
            " [0.    0.    0.034 0.935 0.015 0.016 0.   ]\n",
            " [0.011 0.034 0.306 0.007 0.567 0.    0.076]\n",
            " [0.    0.    0.904 0.002 0.089 0.002 0.001]]\n"
          ],
          "name": "stdout"
        }
      ]
    },
    {
      "cell_type": "markdown",
      "metadata": {
        "id": "aB1HTU6QAxXw"
      },
      "source": [
        "**4.1 정리**\n",
        "\n",
        "- 로지스틱회귀는 이름만 회귀이고 분류 모델이다.\n",
        "- 선형회귀 처럼 선형방정식을 사용한다.\n",
        "- 선형방정식을 계산한 값을 0~1로 압축시켜서 사용한다..(시그모이드, 소프트맥스)\n",
        "\n",
        "1) 이진 분류일 때는 하나의 선형 방정식을 훈련한다.\n",
        "\n",
        "    -> 이 방정식의 출력값을 시그모이드 함수에 통과시켜 0~1사이의 값을 만든다..\n",
        "    -> 이 값은 양성 클래스에 대한 확률이다..\n",
        "\n",
        "2) 다중 분류일 때는 클래스 개수만큼 방정식을 훈련한다.\n",
        "\n",
        "    -> 각 클래스일 확률을 따로 계산해주어야 하기 때문이다.\n",
        "    -> 각각의 방정식의 출력값을 소프트맥스 함수에 통과시켜 0~1사이의 값으로 만들고 합이 1이 되도록 한다.\n",
        "    -> 그럼 그 값이 각 클래스에 대한 확률로 이해할 수 있다.."
      ]
    },
    {
      "cell_type": "markdown",
      "metadata": {
        "id": "XoeW1-_cBuxG"
      },
      "source": [
        "#4.2 확률적 경사 하강법"
      ]
    },
    {
      "cell_type": "markdown",
      "metadata": {
        "id": "5GnO3RZOCToe"
      },
      "source": [
        "**점진적 학습**\n",
        "\n",
        "데이터가 점진적으로 들어오는 경우에는 점진적인 학습을 시키면 된다..\n",
        "\n",
        "먼저 훈련한 모델을 버리지 않고 새로운 데이터에 대해서 조금씩 더 훈련하는 방법..\n",
        "\n",
        "ex)확률적 경사 하강법"
      ]
    },
    {
      "cell_type": "markdown",
      "metadata": {
        "id": "WZHElZnLf4eJ"
      },
      "source": [
        "**확률적 경사 하강법**\n",
        "\n",
        "손실함수라는 산을 경사가 가장 가파른 방향으로 따라서 조금씩 내려가는 방법..\n",
        "\n",
        "- 확률적 : 훈련세트에서 랜덤하게 하나의 샘플을 선택하여 가파른 경사를 조금 내려간다..\n",
        "\n",
        "훈련세트에서 하나씩 가져와서 다 사용하고 나서도 만족할 만한 위치에 도달하지 못했다면 훈련세트를 다시 다 채우고 다시하는거다!! -> 이게 1에포크\n",
        "\n",
        "- 에포크 : 확률적 경사하강법에서 훈련 세트를 한 번 모두 사용하는 과정..\n",
        "\n",
        "한번 경사로를 따라 이동하기 위해서 선택하는 샘플 수에 따라서 미니배치 / 배치 경사하강법이라고 부른다.."
      ]
    },
    {
      "cell_type": "markdown",
      "metadata": {
        "id": "5HPu5zSegufv"
      },
      "source": [
        "**손실함수**\n",
        "\n",
        "- 어떤 문제에서 머신러닝 알고리즘이 얼마나 엉터리인지를 측정하는 기준.. (샘플하나에 대한 손실을 정의함)\n",
        "\n",
        "cf) 비용함수 - 훈련세트에 있는 모든 샘플에 대한 손실함수의 합..\n",
        "\n",
        "- 손실함수의 종류는 여러 개가 있을 수 있다.. (로지스틱 손실함수(이진 크로스엔트로피 손실 함수) : 이진분류일때..)\n",
        "\n",
        "(다중 분류일 때는 크로스엔트로피 손실함수..)"
      ]
    },
    {
      "cell_type": "markdown",
      "metadata": {
        "id": "90aWb94Mhq6E"
      },
      "source": [
        "**로지스틱 손실 함수**\n",
        "\n",
        "손실 = (예측확률) * (타깃) * (-1)\n",
        "\n",
        "타깃이 음성클래스(0)이면 손실은 무조건 0이 나오니까 (1 - 예측확률)로 해서 양성 클래스라고 생각한다..\n",
        "\n",
        "결국..\n",
        "\n",
        "-> 양성 클래스 : (log(예측확률) ) * (타깃 : 1) * (-1)\n",
        "\n",
        "-> 음성 클래스 : (log(1-예측확률) )* (타깃 : 1) * (-1)\n",
        "\n",
        "원래는 손실 값이 음수로 나온다.. (예측확률)에 로그를 취하면 예측확률은 0~1이므로 음수값이 나오고, 마지막에 -1을 곱하므로 최종 손실은 양수가 나온다..\n",
        "\n",
        "손실이 낮을수록 잘 예측한 것이다.."
      ]
    },
    {
      "cell_type": "code",
      "metadata": {
        "id": "nK5QuXjGAHPy"
      },
      "source": [
        "import pandas as pd\n",
        "fish = pd.read_csv('https://bit.ly/fish_csv_data')"
      ],
      "execution_count": null,
      "outputs": []
    },
    {
      "cell_type": "code",
      "metadata": {
        "id": "mQIarCtEtdjP"
      },
      "source": [
        "#입력/ 타겟데이터 지정..\n",
        "\n",
        "fish_input = fish[['Weight', 'Length','Diagonal', 'Height','Width']].to_numpy()\n",
        "fish_target = fish['Species'].to_numpy()"
      ],
      "execution_count": null,
      "outputs": []
    },
    {
      "cell_type": "code",
      "metadata": {
        "id": "7r72tmJWtr5L"
      },
      "source": [
        "#훈련 / 테스트세트 분류\n",
        "\n",
        "from sklearn.model_selection import train_test_split\n",
        "train_input, test_input, train_target, test_target = train_test_split(fish_input, fish_target, random_state=42)"
      ],
      "execution_count": null,
      "outputs": []
    },
    {
      "cell_type": "code",
      "metadata": {
        "id": "P5RQ1Uett8h-"
      },
      "source": [
        "#전처리..\n",
        "\n",
        "from sklearn.preprocessing import StandardScaler\n",
        "ss = StandardScaler()\n",
        "ss.fit(train_input)     #훈련세트로 표준화..\n",
        "train_scaled = ss.transform(train_input)        #훈련세트 표준화\n",
        "test_scaled = ss.transform(test_input)          #훈련세트 표준화 값으로 테스트 세트도 표준화..(ss 객체 사용..)"
      ],
      "execution_count": null,
      "outputs": []
    },
    {
      "cell_type": "code",
      "metadata": {
        "colab": {
          "base_uri": "https://localhost:8080/"
        },
        "id": "x8_RpScrWK-I",
        "outputId": "07e2bc06-8cd7-47dd-ad1f-85f40f2ff079"
      },
      "source": [
        "# 확률적 경사하강 패키지 사용..\n",
        "from sklearn.linear_model import SGDClassifier\n",
        "\n",
        "sc = SGDClassifier(loss='log', max_iter=10, random_state=42)        #손실함수는 로지스틱 함수.. 10회 에포크 반복,,\n",
        "sc.fit(train_scalain_scaled, train_targeed, train_target)\n",
        "print(sc.score(trt))\n",
        "print(sc.score(test_scaled, test_target))\n",
        "\n",
        "#점수가 너무 낮다.. 에포크가 부족한거 같다.."
      ],
      "execution_count": null,
      "outputs": [
        {
          "output_type": "stream",
          "text": [
            "0.773109243697479\n",
            "0.775\n"
          ],
          "name": "stdout"
        },
        {
          "output_type": "stream",
          "text": [
            "/usr/local/lib/python3.7/dist-packages/sklearn/linear_model/_stochastic_gradient.py:557: ConvergenceWarning: Maximum number of iteration reached before convergence. Consider increasing max_iter to improve the fit.\n",
            "  ConvergenceWarning)\n"
          ],
          "name": "stderr"
        }
      ]
    },
    {
      "cell_type": "markdown",
      "metadata": {
        "id": "Kujkr2cLW0ux"
      },
      "source": [
        "partial_fit() 메서드..\n",
        "\n",
        "- 모델을 이어서 훈련할때 사용한다..\n",
        "- 1에포크씩 이어서 훈련한다.."
      ]
    },
    {
      "cell_type": "code",
      "metadata": {
        "colab": {
          "base_uri": "https://localhost:8080/"
        },
        "id": "PkFFwFzAWugH",
        "outputId": "f8cc2d16-4fbc-4e82-8254-97f857cdbb00"
      },
      "source": [
        "sc.partial_fit(train_scaled, train_target)"
      ],
      "execution_count": null,
      "outputs": [
        {
          "output_type": "execute_result",
          "data": {
            "text/plain": [
              "SGDClassifier(alpha=0.0001, average=False, class_weight=None,\n",
              "              early_stopping=False, epsilon=0.1, eta0=0.0, fit_intercept=True,\n",
              "              l1_ratio=0.15, learning_rate='optimal', loss='log', max_iter=10,\n",
              "              n_iter_no_change=5, n_jobs=None, penalty='l2', power_t=0.5,\n",
              "              random_state=42, shuffle=True, tol=0.001, validation_fraction=0.1,\n",
              "              verbose=0, warm_start=False)"
            ]
          },
          "metadata": {
            "tags": []
          },
          "execution_count": 33
        }
      ]
    },
    {
      "cell_type": "code",
      "metadata": {
        "colab": {
          "base_uri": "https://localhost:8080/"
        },
        "id": "y-sdHSn1XDhQ",
        "outputId": "1203a889-a848-4112-8d03-3c19d77194bd"
      },
      "source": [
        "print(sc.score(train_scaled, train_target))\n",
        "print(sc.score(test_scaled, test_target))\n",
        "\n",
        "#조금 올랏다.. -> 그럼 몇번을 더 해야하는가..??"
      ],
      "execution_count": null,
      "outputs": [
        {
          "output_type": "stream",
          "text": [
            "0.8151260504201681\n",
            "0.825\n"
          ],
          "name": "stdout"
        }
      ]
    },
    {
      "cell_type": "markdown",
      "metadata": {
        "id": "RVr0_-jLXQlF"
      },
      "source": [
        "적절하게 에포크 수를 조절해서 과대/과소 적합을 피해야 한다..\n",
        "\n",
        "- 에포크를 너무 많이하면 훈련세트에 과대적합..\n",
        "- 에포크를 너무 적게하면 훈련이 덜 된다.\n",
        "\n",
        "조기종료 : 과대적합이 시작되기 전에 tol변수를 주어서 자동으로 에포크를 멈춘다.."
      ]
    },
    {
      "cell_type": "code",
      "metadata": {
        "id": "uUO7adjPXJ-4"
      },
      "source": [
        "# 훈련/테스트 세트 점수를 그래프로 그려보자\n",
        "\n",
        "import numpy as np\n",
        "sc = SGDClassifier(loss = 'log', random_state=42)\n",
        "train_score =[]\n",
        "test_score =[]\n",
        "\n",
        "#partial_fit()메서드만을 이용해서 훈련을 하려면 전체 클래스의 레이블을 전달해 주어야한다..\n",
        "classes = np.unique(train_target)"
      ],
      "execution_count": null,
      "outputs": []
    },
    {
      "cell_type": "code",
      "metadata": {
        "id": "VHDuwGKKYCCE"
      },
      "source": [
        "for _ in range(0,300):\n",
        "    sc.partial_fit(train_scaled, train_target, classes=classes) #레이블값 전달..\n",
        "    train_score.append(sc.score(train_scaled, train_target))\n",
        "    test_score.append(sc.score(test_scaled, test_target))"
      ],
      "execution_count": null,
      "outputs": []
    },
    {
      "cell_type": "code",
      "metadata": {
        "colab": {
          "base_uri": "https://localhost:8080/",
          "height": 279
        },
        "id": "qXRSFIbnYTT5",
        "outputId": "1f4854a7-afca-433f-958a-a10aba544388"
      },
      "source": [
        "#300번의 에포크가 돌아갔고, 그래프를 그려보자..\n",
        "#여기서 plot함수 쓸 때 바로 이게 되는건가? 원래 x y 축에 뭐들어가는지 보고 해야하는거 아닌가..\n",
        "#없으면 자동으로 0부터 y의 갯수만큼 생긴다.. 그래서 train_score가 길이가 300이므로 0~299까지 생김..\n",
        "\n",
        "import matplotlib.pyplot as plt\n",
        "plt.plot(train_score)\n",
        "plt.plot(test_score)\n",
        "plt.xlabel('epoch')\n",
        "plt.ylabel('accuracy')\n",
        "plt.show()\n",
        "\n",
        "#100에포크 이후로 점점 과대적합됨.."
      ],
      "execution_count": null,
      "outputs": [
        {
          "output_type": "display_data",
          "data": {
            "image/png": "[encoded data removed]",
            "text/plain": [
              "<Figure size 432x288 with 1 Axes>"
            ]
          },
          "metadata": {
            "tags": [],
            "needs_background": "light"
          }
        }
      ]
    },
    {
      "cell_type": "code",
      "metadata": {
        "colab": {
          "base_uri": "https://localhost:8080/",
          "height": 265
        },
        "id": "yaTM7b6rYsDg",
        "outputId": "ee20f1f9-eeb6-49a7-aff0-0ade008228d5"
      },
      "source": [
        "plt.plot([1,2,3,4,5])\n",
        "plt.plot([2,4,6,8,10],[1,2,3,4,5])\n",
        "plt.show()"
      ],
      "execution_count": null,
      "outputs": [
        {
          "output_type": "display_data",
          "data": {
            "image/png": "[encoded data removed]",
            "text/plain": [
              "<Figure size 432x288 with 1 Axes>"
            ]
          },
          "metadata": {
            "tags": [],
            "needs_background": "light"
          }
        }
      ]
    },
    {
      "cell_type": "code",
      "metadata": {
        "colab": {
          "base_uri": "https://localhost:8080/"
        },
        "id": "iWlnX3eYY_I3",
        "outputId": "e504d8a3-5640-480c-c4b6-13f03fce205d"
      },
      "source": [
        "# 에포크를 100으로 고정하자..\n",
        "\n",
        "sc = SGDClassifier(loss = 'log', max_iter=100, tol=None, random_state=42)\n",
        "sc.fit(train_scaled, train_target)\n",
        "\n",
        "print(sc.score(train_scaled, train_target))\n",
        "print(sc.score(test_scaled, test_target))"
      ],
      "execution_count": null,
      "outputs": [
        {
          "output_type": "stream",
          "text": [
            "0.957983193277311\n",
            "0.925\n"
          ],
          "name": "stdout"
        }
      ]
    },
    {
      "cell_type": "markdown",
      "metadata": {
        "id": "m4wv0R9NZ47V"
      },
      "source": [
        "손실함수의 종류에는 여러가지가 있다.. ex)힌지손실, 서포트 벡터 머신..\n",
        "\n",
        "-> loss 매개변수에 지정해 줄 수 있다.."
      ]
    },
    {
      "cell_type": "code",
      "metadata": {
        "colab": {
          "base_uri": "https://localhost:8080/"
        },
        "id": "tCbcatBCZ2A4",
        "outputId": "3c1b3dec-b1e4-45e6-ff7d-1b26a83b7879"
      },
      "source": [
        "#힌지 손실로 해보자..\n",
        "\n",
        "sc = SGDClassifier(loss='hinge',max_iter=100,tol=None,random_state=42)\n",
        "sc.fit(train_scaled,train_target)\n",
        "print(sc.score(train_scaled, train_target))\n",
        "print(sc.score(test_scaled, test_target))"
      ],
      "execution_count": null,
      "outputs": [
        {
          "output_type": "stream",
          "text": [
            "0.9495798319327731\n",
            "0.925\n"
          ],
          "name": "stdout"
        }
      ]
    },
    {
      "cell_type": "markdown",
      "metadata": {
        "id": "K1X8aXpkaXUi"
      },
      "source": [
        "**정리**\n",
        "\n",
        "1)확률적 경사 하강법\n",
        "\n",
        " : 훈련 세트에서 샘플 하나씩 꺼내 손실 함수의 경사를 따라 최적의 모델을 찾는 알고리즘 (여러개면 미니배치, 전체 다 면 배치)\n",
        "\n",
        "2)손실 함수\n",
        "\n",
        " : "
      ]
    }
  ]
}