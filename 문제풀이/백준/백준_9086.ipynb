{
  "nbformat": 4,
  "nbformat_minor": 0,
  "metadata": {
    "colab": {
      "name": "백준 9086",
      "provenance": [],
      "collapsed_sections": []
    },
    "kernelspec": {
      "name": "python3",
      "display_name": "Python 3"
    },
    "language_info": {
      "name": "python"
    }
  },
  "cells": [
    {
      "cell_type": "code",
      "metadata": {
        "id": "GJeTFQhZNTiP"
      },
      "source": [
        "#백준 9086\n",
        "T = int(input())\n",
        "\n",
        "for i in range(T) :\n",
        "    s = input()\n",
        "    print(\"%s%s\" %(s[0], s[-1]))        #index를 음수로 주면 오른쪽부터를 의미한다"
      ],
      "execution_count": null,
      "outputs": []
    }
  ]
}