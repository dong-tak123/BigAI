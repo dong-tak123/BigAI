{
  "nbformat": 4,
  "nbformat_minor": 0,
  "metadata": {
    "colab": {
      "name": "백준 9550(아이들은 사탕을 좋아해)",
      "provenance": [],
      "collapsed_sections": []
    },
    "kernelspec": {
      "name": "python3",
      "display_name": "Python 3"
    },
    "language_info": {
      "name": "python"
    }
  },
  "cells": [
    {
      "cell_type": "code",
      "metadata": {
        "colab": {
          "base_uri": "https://localhost:8080/"
        },
        "id": "zfgX_-V3ZkBL",
        "outputId": "b574d05e-3567-4e6e-888d-35c4a36fe9d8"
      },
      "source": [
        "#백준 9550\n",
        "\n",
        "T = int(input())                #테스트 케이스 입력\n",
        "\n",
        "for i in range(T):              #테스트 케이스에 대해서...\n",
        "    kids = 0                    #몇명 올수 있는지 초기값 설정\n",
        "\n",
        "    N, K = map(int, input().split())        # N 종류의 사탕, K개를 먹어야 만족\n",
        "\n",
        "    a = [int(x) for x in input().split()]\n",
        "    #람다함를 이용해서 한줄에 공백기준으로 입력받는 법... 리스트로...\n",
        "\n",
        "    for j in range(N):\n",
        "        kids += a[j] // K\n",
        "\n",
        "    print(kids)"
      ],
      "execution_count": null,
      "outputs": [
        {
          "output_type": "stream",
          "text": [
            "1\n",
            "3 4\n",
            "4 5 7\n",
            "3\n"
          ],
          "name": "stdout"
        }
      ]
    },
    {
      "cell_type": "code",
      "metadata": {
        "colab": {
          "base_uri": "https://localhost:8080/"
        },
        "id": "F3hjCnVgcRlt",
        "outputId": "ec4683c3-242e-4ec3-8851-8324aa5a387f"
      },
      "source": [
        "a = [int(x) for x in input().strip().split()]\n",
        "print(a)"
      ],
      "execution_count": null,
      "outputs": [
        {
          "output_type": "stream",
          "text": [
            "1 2 3\n",
            "[1, 2, 3]\n"
          ],
          "name": "stdout"
        }
      ]
    },
    {
      "cell_type": "code",
      "metadata": {
        "colab": {
          "base_uri": "https://localhost:8080/"
        },
        "id": "RZ_V1x-0calr",
        "outputId": "38fea0ec-b3eb-43f5-8839-399a0d73125e"
      },
      "source": [
        "a = [int(x) for x in input().split()]\n",
        "print(a)"
      ],
      "execution_count": null,
      "outputs": [
        {
          "output_type": "stream",
          "text": [
            "3 2 4 5 6 8 \n",
            "[3, 2, 4, 5, 6, 8]\n"
          ],
          "name": "stdout"
        }
      ]
    }
  ]
}