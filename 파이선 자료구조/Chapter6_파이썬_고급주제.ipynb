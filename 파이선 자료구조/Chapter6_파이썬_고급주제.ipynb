{
  "nbformat": 4,
  "nbformat_minor": 0,
  "metadata": {
    "colab": {
      "name": "Chapter6. 파이썬 고급주제",
      "provenance": [],
      "collapsed_sections": []
    },
    "kernelspec": {
      "name": "python3",
      "display_name": "Python 3"
    },
    "language_info": {
      "name": "python"
    }
  },
  "cells": [
    {
      "cell_type": "markdown",
      "metadata": {
        "id": "y69vVTY_rzcJ"
      },
      "source": [
        "6.1 멀티 프로세스와 멀티 스레드\n",
        "- 운영 체제에서 실행되는 각 프로그램은 각각이 별도의 프로세스이다.\n",
        "- 각 프로세스에는 하나 이상의 스레드가 있다.\n",
        "- 멀티프로세스와 멀티스레드라는 두 가지 방법을 사용하면 프로그램의 작업 부하를 분산시킬 수 있다.\n",
        "\n",
        "1. 멀티프로세스\n",
        "    - 각 프로세스마다 별도의 메모리 영역을 가지고, 특별한 메커니즘(ex.큐)으로만 통신가능하다.\n",
        "    - 파이썬에서는 subprocess 모듈을 사용한다.\n",
        "2. 멀티스레드\n",
        "    - 단일 프로세스 내의 멀티 스레드는 동일한 메모리에 접근한다.\n",
        "    - 데이터 공유를 통해서 간단하게 통신하는데, threading 모듈의 처리를 통해서 한번에 한 스레드만 메모리 영역에 접근할 수 있다.(파이썬의 GIL 제한...)\n",
        "    - 각 프로세스는 독립적인 스택, 힙, 코드, 데이터 영역을 가지지만, 한 프로세스에 속한 스레드들은 스택을 제외하고 다른 메모리 영역은 공유한다.\n",
        "\n",
        "\n",
        "**동시성 :\n",
        "    논리적으로 여러작업이 동시에 실행되는 것 처럼 보이는 것\n",
        "\n",
        "**병렬성 :\n",
        "    물리적으로 진짜 여러 작업이 동시에 처리되는 것"
      ]
    },
    {
      "cell_type": "markdown",
      "metadata": {
        "id": "ImFoEKMirzzX"
      },
      "source": [
        "6.1.1 subprocess 모듈"
      ]
    },
    {
      "cell_type": "code",
      "metadata": {
        "colab": {
          "base_uri": "https://localhost:8080/"
        },
        "id": "J04nDafhjXq0",
        "outputId": "40b9f2ee-34d8-43bd-ff3b-a00004530316"
      },
      "source": [
        "import subprocess\n",
        "subprocess.run([\"echo\", \"이것은 subprocess입니다.\"])\n",
        "\n",
        "subprocess.run([\"sleep\", \"10\"])"
      ],
      "execution_count": 2,
      "outputs": [
        {
          "output_type": "execute_result",
          "data": {
            "text/plain": [
              "CompletedProcess(args=['sleep', '10'], returncode=0)"
            ]
          },
          "metadata": {
            "tags": []
          },
          "execution_count": 2
        }
      ]
    },
    {
      "cell_type": "markdown",
      "metadata": {
        "id": "jTFRs-VdrwzW"
      },
      "source": [
        "6.1.2 Threading 모듈\n",
        "\n",
        "- 멀티 스레드를 사용하려면 threading 모듈을 사용한다.\n",
        "- 내부적으로 락을 관리하려면 queue모듈을 사용한다.\n",
        "- 큐에 의존하면 자원의 접근을 직렬화할 수 있고, 즉 한 번에 하나의 스레드만 데이터에 접근할 수 있게 한다는 말이다."
      ]
    },
    {
      "cell_type": "code",
      "metadata": {
        "colab": {
          "base_uri": "https://localhost:8080/"
        },
        "id": "h9Q0k_ZOmnTJ",
        "outputId": "307491b6-f15d-4266-9ed7-f21d3dc172b5"
      },
      "source": [
        "import queue\n",
        "import threading\n",
        "\n",
        "q = queue.Queue()\n",
        "\n",
        "def worker(num):\n",
        "    while True:\n",
        "        item = q.get()              #q라는 큐에서 하나씩 가져와서 item이라는 변수에 지정하겠다.\n",
        "        if item is None :           #못 가져오면 break 하겟다\n",
        "            break\n",
        "\n",
        "        #작업을 처리한다.\n",
        "        print(\"스레드 {0} : 처리 완료 {1}\".format(num+1, item))\n",
        "        q.task_done()\n",
        "\n",
        "if __name__ == \"__main__\":\n",
        "    num_worker_threads = 5\n",
        "    threads = []\n",
        "    for i in range(num_worker_threads):\n",
        "        t = threading.Thread(target=worker, args = (i,))\n",
        "        t.start()\n",
        "        threads.append(t)\n",
        "    \n",
        "    for item in range(20):\n",
        "        q.put(item)\n",
        "\n",
        "    #모든 작업이 끝날 때까지 대기한다(block).\n",
        "    q.join()\n",
        "\n",
        "    #워커 스레드를 종료한다(stop).\n",
        "    for i in range(num_worker_threads):\n",
        "        q.put(None)\n",
        "    for t in threads:\n",
        "        t.join()"
      ],
      "execution_count": 17,
      "outputs": [
        {
          "output_type": "stream",
          "text": [
            "스레드 1 : 처리 완료 0\n",
            "스레드 1 : 처리 완료 1\n",
            "스레드 1 : 처리 완료 2스레드 2 : 처리 완료 3\n",
            "스레드 2 : 처리 완료 4\n",
            "스레드 2 : 처리 완료 5\n",
            "스레드 2 : 처리 완료 6\n",
            "스레드 2 : 처리 완료 7\n",
            "스레드 2 : 처리 완료 8\n",
            "스레드 2 : 처리 완료 9\n",
            "스레드 2 : 처리 완료 10\n",
            "스레드 2 : 처리 완료 11\n",
            "스레드 2 : 처리 완료 12\n",
            "스레드 2 : 처리 완료 13\n",
            "스레드 2 : 처리 완료 14\n",
            "스레드 2 : 처리 완료 15\n",
            "스레드 2 : 처리 완료 16\n",
            "스레드 2 : 처리 완료 17\n",
            "스레드 2 : 처리 완료 18\n",
            "스레드 2 : 처리 완료 19\n",
            "\n"
          ],
          "name": "stdout"
        }
      ]
    },
    {
      "cell_type": "markdown",
      "metadata": {
        "id": "WV7Z1NlVrsxB"
      },
      "source": [
        "6.1.3 뮤텍스와 세마포어\n",
        "- 뮤텍스는 락과 같고, 공유 리소스에 한 번에 하나의 스레드만 접근할 수 있도록 하는 상호 배제 동시성 제어 정책을 강제하기위해 설계되었다.\n",
        "\n",
        "- 뮤텍스가 양수일 때부터 스레드는 일을 시작 할 수 있음\n",
        "- 뮤텍스가 1부터 시작 -> 어떤 스레드가 일을 시작할 때 뮤텍스 값을 1 감소시킨다(락한다는 의미) -> 일을 끝내면 뮤텍스 값을 1 증가시킨다(언락한다는 의미)\n"
      ]
    },
    {
      "cell_type": "code",
      "metadata": {
        "colab": {
          "base_uri": "https://localhost:8080/"
        },
        "id": "Btn_9RItoneM",
        "outputId": "7a5ff01d-2ce7-452a-d0f9-8ab371c8d47d"
      },
      "source": [
        "from threading import Thread, Lock\n",
        "import threading\n",
        "\n",
        "def worker(mutex, data, thread_safe):\n",
        "    if thread_safe:\n",
        "        mutex.acquire()\n",
        "    try:\n",
        "        print(\"스레드 {0} : {1}\\n\".format(threading.get_ident(), data))\n",
        "    finally :\n",
        "        if thread_safe:\n",
        "            mutex.release()\n",
        "\n",
        "if __name__ == \"__main__\":\n",
        "    threads = []\n",
        "    thread_safe = False\n",
        "    mutex = Lock()\n",
        "\n",
        "    for i in range(20):\n",
        "        t = Thread(target = worker, args=(mutex, i, thread_safe))\n",
        "        t.start()\n",
        "        threads.append(t)\n",
        "\n",
        "    for t in threads:\n",
        "        t.join()"
      ],
      "execution_count": 10,
      "outputs": [
        {
          "output_type": "stream",
          "text": [
            "스레드 140149829121792 : 0\n",
            "\n",
            "스레드 140149871085312 : 1\n",
            "\n",
            "스레드 140149871085312 : 2\n",
            "스레드 140149829121792 : 3\n",
            "\n",
            "\n",
            "스레드 140149829121792 : 4\n",
            "스레드 140149871085312 : 5\n",
            "\n",
            "\n",
            "스레드 140149871085312 : 6\n",
            "\n",
            "스레드 140149871085312 : 7\n",
            "\n",
            "스레드 140149829121792 : 8\n",
            "\n",
            "스레드 140149871085312 : 9\n",
            "\n",
            "스레드 140149829121792 : 10\n",
            "\n",
            "스레드 140149829121792 : 11\n",
            "스레드 140149871085312 : 12\n",
            "\n",
            "스레드 140149829121792 : 13\n",
            "\n",
            "\n",
            "스레드 140149829121792 : 14\n",
            "\n",
            "스레드 140149871085312 : 15\n",
            "스레드 140149829121792 : 16\n",
            "\n",
            "\n",
            "스레드 140149837514496 : 17\n",
            "\n",
            "스레드 140149829121792 : 18\n",
            "\n",
            "스레드 140149829121792 : 19\n",
            "\n"
          ],
          "name": "stdout"
        }
      ]
    },
    {
      "cell_type": "code",
      "metadata": {
        "colab": {
          "base_uri": "https://localhost:8080/"
        },
        "id": "vf82O6VOqJIz",
        "outputId": "0045c6b8-373f-4b0b-e6b8-31d603588dc7"
      },
      "source": [
        "#thread_safe 변수를 True로 지정.. -> mutex.acquire가 실행됨\n",
        "\n",
        "from threading import Thread, Lock\n",
        "import threading\n",
        "\n",
        "def worker(mutex, data, thread_safe):\n",
        "    if thread_safe:\n",
        "        mutex.acquire()\n",
        "    try:\n",
        "        print(\"스레드 {0} : {1}\\n\".format(threading.get_ident(), data))\n",
        "    finally :\n",
        "        if thread_safe:\n",
        "            mutex.release()\n",
        "\n",
        "if __name__ == \"__main__\":\n",
        "    threads = []\n",
        "    thread_safe = True\n",
        "    mutex = Lock()\n",
        "\n",
        "    for i in range(20):\n",
        "        t = Thread(target = worker, args=(mutex, i, thread_safe))\n",
        "        t.start()\n",
        "        threads.append(t)\n",
        "\n",
        "    for t in threads:\n",
        "        t.join()"
      ],
      "execution_count": 11,
      "outputs": [
        {
          "output_type": "stream",
          "text": [
            "스레드 140149829121792 : 0\n",
            "\n",
            "스레드 140149829121792 : 1\n",
            "\n",
            "스레드 140149871085312 : 2\n",
            "\n",
            "스레드 140149871085312 : 3\n",
            "\n",
            "스레드 140149829121792 : 4\n",
            "\n",
            "스레드 140149829121792 : 5\n",
            "\n",
            "스레드 140149871085312 : 6\n",
            "\n",
            "스레드 140149871085312 : 7\n",
            "\n",
            "스레드 140149871085312 : 8\n",
            "\n",
            "스레드 140149829121792 : 9\n",
            "\n",
            "스레드 140149871085312 : 10\n",
            "\n",
            "스레드 140149871085312 : 11\n",
            "\n",
            "스레드 140149829121792 : 12\n",
            "\n",
            "스레드 140149829121792 : 13\n",
            "\n",
            "스레드 140149829121792 : 14\n",
            "\n",
            "스레드 140149829121792 : 15\n",
            "\n",
            "스레드 140149871085312 : 16\n",
            "\n",
            "스레드 140149837514496 : 17\n",
            "\n",
            "스레드 140149862692608 : 18\n",
            "\n",
            "스레드 140149871085312 : 19\n",
            "\n"
          ],
          "name": "stdout"
        }
      ]
    },
    {
      "cell_type": "markdown",
      "metadata": {
        "id": "WZTQ4LbI6BeA"
      },
      "source": [
        "- 세마포어는 뮤텍스보다 더 일반적인 개념..\n",
        "- 세마포어는 1보다 더 큰 수로 시작할 수 있다.\n",
        "- 즉, 세마포어 값은 곧 한 번에 자원에 접근할 수 있는 스레드의 수다(스레드가 접근할 때마다 값을 1 감소시키기 때문에)"
      ]
    },
    {
      "cell_type": "code",
      "metadata": {
        "colab": {
          "base_uri": "https://localhost:8080/"
        },
        "id": "_3ggS6hvqQct",
        "outputId": "aa51425c-9816-48ec-ca03-77b9345e1653"
      },
      "source": [
        "import threading\n",
        "import time\n",
        "\n",
        "class ThreadPool(object):\n",
        "    def __init__(self):\n",
        "        self.active = []\n",
        "        self.lock = threading.Lock()\n",
        "    \n",
        "    def acquire(self, name):        #name 이라는 걸 획득했다는 걸 알려주고, 그 결과를 출력\n",
        "        with self.lock:\n",
        "            self.active.append(name)\n",
        "            print(\"획득 : {0} | 스레드 풀 : {1}\".format(name, self.active))\n",
        "    \n",
        "    def release(self, name):        #name 이라는 걸 반환했다는 걸 알려주고, 그 결과를 출력\n",
        "        with self.lock:\n",
        "            self.active.remove(name)\n",
        "            print(\"반환 : {0} | 스레드 풀 : {1}\".format(name, self.active))\n",
        "\n",
        "def worker(semaphore, pool):\n",
        "    with semaphore:\n",
        "        name = threading.currentThread().getName()\n",
        "        pool.acquire(name)\n",
        "        time.sleep(1)\n",
        "        pool.release(name)\n",
        "\n",
        "if __name__ == \"__main__\":\n",
        "    threads = []\n",
        "    pool = ThreadPool()\n",
        "    semaphore = threading.Semaphore(3)      #세마포어를 3으로 지정\n",
        "    for i in range(10):\n",
        "        t = threading.Thread(target = worker, name=\"스레드 \"+ str(i), args=(semaphore, pool))\n",
        "        t.start()\n",
        "        threads.append(t)\n",
        "    for t in threads:\n",
        "        t.join()\n",
        "    \n",
        "    print(threads)"
      ],
      "execution_count": 22,
      "outputs": [
        {
          "output_type": "stream",
          "text": [
            "획득 : 스레드 0 | 스레드 풀 : ['스레드 0']\n",
            "획득 : 스레드 1 | 스레드 풀 : ['스레드 0', '스레드 1']\n",
            "획득 : 스레드 2 | 스레드 풀 : ['스레드 0', '스레드 1', '스레드 2']\n",
            "반환 : 스레드 0 | 스레드 풀 : ['스레드 1', '스레드 2']\n",
            "반환 : 스레드 2 | 스레드 풀 : ['스레드 1']\n",
            "획득 : 스레드 3 | 스레드 풀 : ['스레드 1', '스레드 3']\n",
            "획득 : 스레드 4 | 스레드 풀 : ['스레드 1', '스레드 3', '스레드 4']\n",
            "반환 : 스레드 1 | 스레드 풀 : ['스레드 3', '스레드 4']\n",
            "획득 : 스레드 5 | 스레드 풀 : ['스레드 3', '스레드 4', '스레드 5']\n",
            "반환 : 스레드 3 | 스레드 풀 : ['스레드 4', '스레드 5']\n",
            "획득 : 스레드 6 | 스레드 풀 : ['스레드 4', '스레드 5', '스레드 6']\n",
            "반환 : 스레드 4 | 스레드 풀 : ['스레드 5', '스레드 6']\n",
            "반환 : 스레드 5 | 스레드 풀 : ['스레드 6']\n",
            "획득 : 스레드 8 | 스레드 풀 : ['스레드 6', '스레드 8']\n",
            "획득 : 스레드 7 | 스레드 풀 : ['스레드 6', '스레드 8', '스레드 7']\n",
            "반환 : 스레드 6 | 스레드 풀 : ['스레드 8', '스레드 7']\n",
            "획득 : 스레드 9 | 스레드 풀 : ['스레드 8', '스레드 7', '스레드 9']\n",
            "반환 : 스레드 8 | 스레드 풀 : ['스레드 7', '스레드 9']\n",
            "반환 : 스레드 7 | 스레드 풀 : ['스레드 9']\n",
            "반환 : 스레드 9 | 스레드 풀 : []\n",
            "[<Thread(스레드 0, stopped 140149778765568)>, <Thread(스레드 1, stopped 140149787158272)>, <Thread(스레드 2, stopped 140149828597504)>, <Thread(스레드 3, stopped 140149836990208)>, <Thread(스레드 4, stopped 140149870823168)>, <Thread(스레드 5, stopped 140149853775616)>, <Thread(스레드 6, stopped 140149845382912)>, <Thread(스레드 7, stopped 140149820204800)>, <Thread(스레드 8, stopped 140149811812096)>, <Thread(스레드 9, stopped 140149803419392)>]\n"
          ],
          "name": "stdout"
        }
      ]
    },
    {
      "cell_type": "markdown",
      "metadata": {
        "id": "j73wd1VDr95V"
      },
      "source": [
        "6.1.4 데드락과 스핀락\n",
        "\n",
        "**데드락\n",
        "- 두 개 이상의 프로세스나 스레드가 서로 상대방의 작업이 끝나기만을 기다리고 있기 때문에 겨로가적으로 아무것도 완료되지 못하는 상태.\n",
        "- 이 네가지를 충족하면 데드락이 발생함.\n",
        "   1. 상호 배제 : 자원은 한번에 한 프로세스(스레드)만 사용할 수 있다.\n",
        "   2. 점유와 대기 : 한 프로세스가 자원을 갖고있으면서 다른 프로세스가 자원을 버리는 거를 기다리고 있는 상태\n",
        "   3. 비선점 : 다른 프로세스가 이미 점유한 자원을 강제로 뺏어오지 못한다.\n",
        "   4. 순환 대기 : 서로가 서로의 점유자원을 대기하고 있는 상태.\n",
        "\n",
        "**스핀락\n",
        "- 바쁜대기(특정 공유자원에 대해 두개 이상의 프로세스나 스레드가 그 이용 권한을 획득하려고 대기하는 현상)의 한 형태이다."
      ]
    },
    {
      "cell_type": "markdown",
      "metadata": {
        "id": "MjlueiXqsSjk"
      },
      "source": [
        "6.1.5 스레딩에 대한 구글 파이썬 스타일 가이드"
      ]
    },
    {
      "cell_type": "code",
      "metadata": {
        "colab": {
          "base_uri": "https://localhost:8080/"
        },
        "id": "dk6Uq6cVrA0m",
        "outputId": "f5313f9d-1dfd-45cf-834a-a5930cd7c683"
      },
      "source": [
        "import threading\n",
        "\n",
        "def consumer(cond):\n",
        "    name = threading.currentThread().getName()\n",
        "    print(\"{0} 시작\".format(name))\n",
        "    with cond:\n",
        "        print(\"{0} 대기\".format(name))\n",
        "        cond.wait()\n",
        "        print(\"{0} 자원 소비\".format(name))\n",
        "\n",
        "def producer(cond):\n",
        "    name = threading.currentThread().getName()\n",
        "    print(\"{0} 시작\".format(name))\n",
        "    with cond:\n",
        "        print(\"{0} 자원 생산 후 모든 소비자에게 알림\".format(name))\n",
        "        cond.notifyAll()\n",
        "\n",
        "if __name__ == \"__main__\" :\n",
        "    condition = threading.Condition()\n",
        "    consumer1 = threading.Thread(name = \"소비자1\", target = consumer, args = (condition,))          #스레드 이름이 소비자1\n",
        "    consumer2 = threading.Thread(name = \"소비자2\", target = consumer, args = (condition,))\n",
        "    producer = threading.Thread(name = \"생산자\", target = producer, args = (condition,))\n",
        "\n",
        "    consumer1.start()\n",
        "    consumer2.start()\n",
        "    producer.start()"
      ],
      "execution_count": 16,
      "outputs": [
        {
          "output_type": "stream",
          "text": [
            "소비자1 시작\n",
            "소비자1 대기\n",
            "소비자2 시작\n",
            "소비자2 대기\n",
            "생산자 시작\n",
            "생산자 자원 생산 후 모든 소비자에게 알림\n",
            "소비자1 자원 소비\n",
            "소비자2 자원 소비\n"
          ],
          "name": "stdout"
        }
      ]
    },
    {
      "cell_type": "code",
      "metadata": {
        "id": "iGgZwNk50o9E"
      },
      "source": [
        ""
      ],
      "execution_count": null,
      "outputs": []
    }
  ]
}