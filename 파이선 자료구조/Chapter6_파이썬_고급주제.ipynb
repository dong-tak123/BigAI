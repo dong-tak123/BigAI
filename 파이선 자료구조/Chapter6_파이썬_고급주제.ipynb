{
  "nbformat": 4,
  "nbformat_minor": 0,
  "metadata": {
    "colab": {
      "name": "Chapter6. 파이썬 고급주제",
      "provenance": [],
      "collapsed_sections": []
    },
    "kernelspec": {
      "name": "python3",
      "display_name": "Python 3"
    },
    "language_info": {
      "name": "python"
    }
  },
  "cells": [
    {
      "cell_type": "markdown",
      "metadata": {
        "id": "-qsveh7YrH5Q"
      },
      "source": [
        "# 6.1 멀티 프로세스와 멀티 스레드"
      ]
    },
    {
      "cell_type": "markdown",
      "metadata": {
        "id": "y69vVTY_rzcJ"
      },
      "source": [
        "6.1 멀티 프로세스와 멀티 스레드\n",
        "- 운영 체제에서 실행되는 각 프로그램은 각각이 별도의 프로세스이다.\n",
        "- 각 프로세스에는 하나 이상의 스레드가 있다.\n",
        "- 멀티프로세스와 멀티스레드라는 두 가지 방법을 사용하면 프로그램의 작업 부하를 분산시킬 수 있다.\n",
        "\n",
        "1. 멀티프로세스\n",
        "    - 각 프로세스마다 별도의 메모리 영역을 가지고, 특별한 메커니즘(ex.큐)으로만 통신가능하다.\n",
        "    - 파이썬에서는 subprocess 모듈을 사용한다.\n",
        "2. 멀티스레드\n",
        "    - 단일 프로세스 내의 멀티 스레드는 동일한 메모리에 접근한다.\n",
        "    - 데이터 공유를 통해서 간단하게 통신하는데, threading 모듈의 처리를 통해서 한번에 한 스레드만 메모리 영역에 접근할 수 있다.(파이썬의 GIL 제한...)\n",
        "    - 각 프로세스는 독립적인 스택, 힙, 코드, 데이터 영역을 가지지만, 한 프로세스에 속한 스레드들은 스택을 제외하고 다른 메모리 영역은 공유한다.\n",
        "\n",
        "\n",
        "**동시성 :\n",
        "    논리적으로 여러작업이 동시에 실행되는 것 처럼 보이는 것\n",
        "\n",
        "**병렬성 :\n",
        "    물리적으로 진짜 여러 작업이 동시에 처리되는 것"
      ]
    },
    {
      "cell_type": "markdown",
      "metadata": {
        "id": "ImFoEKMirzzX"
      },
      "source": [
        "6.1.1 subprocess 모듈"
      ]
    },
    {
      "cell_type": "code",
      "metadata": {
        "colab": {
          "base_uri": "https://localhost:8080/"
        },
        "id": "J04nDafhjXq0",
        "outputId": "40b9f2ee-34d8-43bd-ff3b-a00004530316"
      },
      "source": [
        "import subprocess\n",
        "\n",
        "subprocess.run([\"echo\", \"이것은 subprocess입니다.\"])\n",
        "\n",
        "subprocess.run([\"sleep\", \"10\"])"
      ],
      "execution_count": null,
      "outputs": [
        {
          "output_type": "execute_result",
          "data": {
            "text/plain": [
              "CompletedProcess(args=['sleep', '10'], returncode=0)"
            ]
          },
          "metadata": {
            "tags": []
          },
          "execution_count": 2
        }
      ]
    },
    {
      "cell_type": "markdown",
      "metadata": {
        "id": "jTFRs-VdrwzW"
      },
      "source": [
        "6.1.2 Threading 모듈\n",
        "\n",
        "- 멀티 스레드를 사용하려면 threading 모듈을 사용한다.\n",
        "- 내부적으로 락을 관리하려면 queue모듈을 사용한다.\n",
        "- 큐에 의존하면 자원의 접근을 직렬화할 수 있고, 즉 한 번에 하나의 스레드만 데이터에 접근할 수 있게 한다는 말이다."
      ]
    },
    {
      "cell_type": "code",
      "metadata": {
        "colab": {
          "base_uri": "https://localhost:8080/"
        },
        "id": "h9Q0k_ZOmnTJ",
        "outputId": "f6232d63-28bd-453c-9e32-7f4e13a1d1c7"
      },
      "source": [
        "# 할일 20개를 5개의 스레드가 나누어서 처리한다는 코드\n",
        "\n",
        "import queue\n",
        "import threading\n",
        "\n",
        "q = queue.Queue()\n",
        "\n",
        "def worker(num):\n",
        "    while True:\n",
        "        item = q.get()              #q라는 큐에서 하나씩 가져와서 item이라는 변수에 지정하겠다.\n",
        "        if item is None :           #못 가져오면 break 하겟다\n",
        "            break\n",
        "\n",
        "        #작업을 처리한다.\n",
        "        print(\"스레드 {0} : 처리 완료 {1}\".format(num+1, item))\n",
        "        #왜 스레드의 인덱스가 순서대로 안나오는가! -> \n",
        "        q.task_done()\n",
        "\n",
        "if __name__ == \"__main__\":\n",
        "    num_worker_threads = 5\n",
        "    threads = []\n",
        "    for i in range(num_worker_threads):\n",
        "        t = threading.Thread(target=worker, args = (i,))\n",
        "        t.start()\n",
        "        threads.append(t)\n",
        "    \n",
        "    for item in range(20):\n",
        "        q.put(item)\n",
        "\n",
        "    #모든 작업이 끝날 때까지 대기한다(block).\n",
        "    q.join()\n",
        "\n",
        "    #워커 스레드를 종료한다(stop).\n",
        "    for i in range(num_worker_threads):\n",
        "        q.put(None)\n",
        "    for t in threads:\n",
        "        t.join()\n"
      ],
      "execution_count": null,
      "outputs": [
        {
          "output_type": "stream",
          "text": [
            "스레드 1 : 처리 완료 0\n",
            "스레드 1 : 처리 완료 1\n",
            "스레드 1 : 처리 완료 2\n",
            "스레드 1 : 처리 완료 3\n",
            "스레드 1 : 처리 완료 4\n",
            "스레드 1 : 처리 완료 5\n",
            "스레드 1 : 처리 완료 6\n",
            "스레드 1 : 처리 완료 7\n",
            "스레드 1 : 처리 완료 8\n",
            "스레드 1 : 처리 완료 9스레드 4 : 처리 완료 10\n",
            "스레드 3 : 처리 완료 11\n",
            "스레드 4 : 처리 완료 12\n",
            "스레드 4 : 처리 완료 13\n",
            "스레드 3 : 처리 완료 14\n",
            "스레드 3 : 처리 완료 15\n",
            "스레드 3 : 처리 완료 16\n",
            "스레드 3 : 처리 완료 17\n",
            "스레드 3 : 처리 완료 18\n",
            "스레드 3 : 처리 완료 19\n",
            "\n"
          ],
          "name": "stdout"
        }
      ]
    },
    {
      "cell_type": "markdown",
      "metadata": {
        "id": "WV7Z1NlVrsxB"
      },
      "source": [
        "6.1.3 뮤텍스와 세마포어\n",
        "- 뮤텍스는 락과 같고, 공유 리소스에 한 번에 하나의 스레드만 접근할 수 있도록 하는 상호 배제 동시성 제어 정책을 강제하기위해 설계되었다.\n",
        "\n",
        "- 뮤텍스가 양수일 때부터 스레드는 일을 시작 할 수 있음\n",
        "- 뮤텍스가 1부터 시작 -> 어떤 스레드가 일을 시작할 때 뮤텍스 값을 1 감소시킨다(락한다는 의미) -> 일을 끝내면 뮤텍스 값을 1 증가시킨다(언락한다는 의미)\n"
      ]
    },
    {
      "cell_type": "code",
      "metadata": {
        "colab": {
          "base_uri": "https://localhost:8080/"
        },
        "id": "Btn_9RItoneM",
        "outputId": "ea98df9b-6c3b-4626-fb6c-0e83a606a7fc"
      },
      "source": [
        "from threading import Thread, Lock\n",
        "import threading\n",
        "\n",
        "def worker(mutex, data, thread_safe):\n",
        "    if thread_safe:\n",
        "        mutex.acquire()\n",
        "    try:\n",
        "        print(\"스레드 {0} : {1}\\n\".format(threading.get_ident(), data))\n",
        "    finally :\n",
        "        if thread_safe:\n",
        "            mutex.release()\n",
        "\n",
        "if __name__ == \"__main__\":\n",
        "    threads = []\n",
        "    thread_safe = False\n",
        "    mutex = Lock()\n",
        "\n",
        "    for i in range(20):\n",
        "        t = Thread(target = worker, args=(mutex, i, thread_safe))\n",
        "        t.start()\n",
        "        threads.append(t)\n",
        "\n",
        "    for t in threads:\n",
        "        t.join()"
      ],
      "execution_count": null,
      "outputs": [
        {
          "output_type": "stream",
          "text": [
            "스레드 140393333991168 : 0\n",
            "\n",
            "스레드 140393333991168 : 1\n",
            "\n",
            "스레드 140393333991168 : 2\n",
            "스레드 140393350776576 : 3\n",
            "\n",
            "\n",
            "스레드 140393350776576 : 4\n",
            "\n",
            "스레드 140393333991168 : 5\n",
            "\n",
            "스레드 140393333991168 : 6\n",
            "\n",
            "스레드 140393333991168 : 7\n",
            "\n",
            "스레드 140393333991168 : 8\n",
            "\n",
            "스레드 140393333991168 : 9\n",
            "\n",
            "스레드 140393333991168 : 10\n",
            "스레드 140393350776576 : 11\n",
            "\n",
            "스레드 140393350776576 : 12\n",
            "\n",
            "\n",
            "스레드 140393333991168 : 13\n",
            "스레드 140393350776576 : 14\n",
            "\n",
            "\n",
            "스레드 140393333991168 : 15\n",
            "\n",
            "스레드 140393333991168 : 16\n",
            "스레드 140393350776576 : 17\n",
            "\n",
            "\n",
            "스레드 140393333991168 : 18\n",
            "\n",
            "스레드 140393333991168 : 19\n",
            "\n"
          ],
          "name": "stdout"
        }
      ]
    },
    {
      "cell_type": "code",
      "metadata": {
        "colab": {
          "base_uri": "https://localhost:8080/"
        },
        "id": "vf82O6VOqJIz",
        "outputId": "896d145f-69e8-4958-fb4c-1155eb1dbd35"
      },
      "source": [
        "#thread_safe 변수를 True로 지정.. -> mutex.acquire가 실행됨\n",
        "\n",
        "from threading import Thread, Lock\n",
        "import threading\n",
        "\n",
        "def worker(mutex, data, thread_safe):\n",
        "    if thread_safe:\n",
        "        mutex.acquire()\n",
        "    try:\n",
        "        print(\"스레드 {0} : {1}\\n\".format(threading.get_ident(), data))\n",
        "    finally :\n",
        "        if thread_safe:\n",
        "            mutex.release()\n",
        "\n",
        "if __name__ == \"__main__\":\n",
        "    threads = []\n",
        "    thread_safe = True\n",
        "    mutex = Lock()\n",
        "\n",
        "    for i in range(20):\n",
        "        t = Thread(target = worker, args=(mutex, i, thread_safe))\n",
        "        t.start()\n",
        "        threads.append(t)\n",
        "\n",
        "    for t in threads:\n",
        "        t.join()"
      ],
      "execution_count": null,
      "outputs": [
        {
          "output_type": "stream",
          "text": [
            "스레드 140393333991168 : 0\n",
            "\n",
            "스레드 140393350776576 : 1\n",
            "\n",
            "스레드 140393333991168 : 2\n",
            "\n",
            "스레드 140393359169280 : 3\n",
            "\n",
            "스레드 140393350776576 : 4\n",
            "\n",
            "스레드 140393367561984 : 5\n",
            "\n",
            "스레드 140393333991168 : 6\n",
            "\n",
            "스레드 140393325598464 : 7\n",
            "\n",
            "스레드 140393350776576 : 8\n",
            "\n",
            "스레드 140393325598464 : 9\n",
            "\n",
            "스레드 140393325598464 : 10\n",
            "\n",
            "스레드 140393350776576 : 11\n",
            "\n",
            "스레드 140393325598464 : 12\n",
            "\n",
            "스레드 140393333991168 : 13\n",
            "\n",
            "스레드 140393367561984 : 14\n",
            "\n",
            "스레드 140393350776576 : 15\n",
            "\n",
            "스레드 140393333991168 : 16\n",
            "\n",
            "스레드 140393333991168 : 17\n",
            "\n",
            "스레드 140393350776576 : 18\n",
            "\n",
            "스레드 140393333991168 : 19\n",
            "\n"
          ],
          "name": "stdout"
        }
      ]
    },
    {
      "cell_type": "markdown",
      "metadata": {
        "id": "WZTQ4LbI6BeA"
      },
      "source": [
        "- 세마포어는 뮤텍스보다 더 일반적인 개념..\n",
        "- 세마포어는 1보다 더 큰 수로 시작할 수 있다.\n",
        "- 즉, 세마포어 값은 곧 한 번에 자원에 접근할 수 있는 스레드의 수다(스레드가 접근할 때마다 값을 1 감소시키기 때문에)"
      ]
    },
    {
      "cell_type": "code",
      "metadata": {
        "colab": {
          "base_uri": "https://localhost:8080/"
        },
        "id": "_3ggS6hvqQct",
        "outputId": "aa51425c-9816-48ec-ca03-77b9345e1653"
      },
      "source": [
        "# with문 이해하기 https://m.blog.naver.com/PostView.nhn?blogId=wideeyed&logNo=221653260516&proxyReferer=https:%2F%2Fwww.google.com%2F\n",
        "\n",
        "import threading\n",
        "import time\n",
        "\n",
        "class ThreadPool(object):\n",
        "    def __init__(self):\n",
        "        self.active = []\n",
        "        self.lock = threading.Lock()\n",
        "    \n",
        "    def acquire(self, name):        #name 이라는 걸 획득했다는 걸 알려주고, 그 결과를 출력\n",
        "        with self.lock:\n",
        "            self.active.append(name)\n",
        "            print(\"획득 : {0} | 스레드 풀 : {1}\".format(name, self.active))\n",
        "            #프린트 해줄려고 acquire 함수를 재정의 하였다\n",
        "    \n",
        "    def release(self, name):        #name 이라는 걸 반환했다는 걸 알려주고, 그 결과를 출력\n",
        "        with self.lock:\n",
        "            self.active.remove(name)\n",
        "            print(\"반환 : {0} | 스레드 풀 : {1}\".format(name, self.active))\n",
        "            #프린트 해줄려고 release 함수를 재정의 하였다\n",
        "\n",
        "def worker(semaphore, pool):\n",
        "    #with : 자원을 획득하고 사용후 반납해야하는 경우에 주로 사용한다\n",
        "    with semaphore:     \n",
        "        name = threading.currentThread().getName()\n",
        "        pool.acquire(name)\n",
        "        time.sleep(1)\n",
        "        pool.release(name)\n",
        "\n",
        "if __name__ == \"__main__\":\n",
        "    threads = []\n",
        "    pool = ThreadPool()\n",
        "    semaphore = threading.Semaphore(3)      #세마포어를 3으로 지정, 세마포어 객체 생성, 3개씩 스레드를 반환 및 획득을 함\n",
        "\n",
        "    for i in range(10):\n",
        "        t = threading.Thread(target = worker, name=\"스레드 \"+ str(i), args=(semaphore, pool))\n",
        "        t.start()\n",
        "        threads.append(t)\n",
        "    for t in threads:\n",
        "        t.join()\n",
        "    \n",
        "    print(threads)"
      ],
      "execution_count": null,
      "outputs": [
        {
          "output_type": "stream",
          "text": [
            "획득 : 스레드 0 | 스레드 풀 : ['스레드 0']\n",
            "획득 : 스레드 1 | 스레드 풀 : ['스레드 0', '스레드 1']\n",
            "획득 : 스레드 2 | 스레드 풀 : ['스레드 0', '스레드 1', '스레드 2']\n",
            "반환 : 스레드 0 | 스레드 풀 : ['스레드 1', '스레드 2']\n",
            "반환 : 스레드 2 | 스레드 풀 : ['스레드 1']\n",
            "획득 : 스레드 3 | 스레드 풀 : ['스레드 1', '스레드 3']\n",
            "획득 : 스레드 4 | 스레드 풀 : ['스레드 1', '스레드 3', '스레드 4']\n",
            "반환 : 스레드 1 | 스레드 풀 : ['스레드 3', '스레드 4']\n",
            "획득 : 스레드 5 | 스레드 풀 : ['스레드 3', '스레드 4', '스레드 5']\n",
            "반환 : 스레드 3 | 스레드 풀 : ['스레드 4', '스레드 5']\n",
            "획득 : 스레드 6 | 스레드 풀 : ['스레드 4', '스레드 5', '스레드 6']\n",
            "반환 : 스레드 4 | 스레드 풀 : ['스레드 5', '스레드 6']\n",
            "반환 : 스레드 5 | 스레드 풀 : ['스레드 6']\n",
            "획득 : 스레드 8 | 스레드 풀 : ['스레드 6', '스레드 8']\n",
            "획득 : 스레드 7 | 스레드 풀 : ['스레드 6', '스레드 8', '스레드 7']\n",
            "반환 : 스레드 6 | 스레드 풀 : ['스레드 8', '스레드 7']\n",
            "획득 : 스레드 9 | 스레드 풀 : ['스레드 8', '스레드 7', '스레드 9']\n",
            "반환 : 스레드 8 | 스레드 풀 : ['스레드 7', '스레드 9']\n",
            "반환 : 스레드 7 | 스레드 풀 : ['스레드 9']\n",
            "반환 : 스레드 9 | 스레드 풀 : []\n",
            "[<Thread(스레드 0, stopped 140149778765568)>, <Thread(스레드 1, stopped 140149787158272)>, <Thread(스레드 2, stopped 140149828597504)>, <Thread(스레드 3, stopped 140149836990208)>, <Thread(스레드 4, stopped 140149870823168)>, <Thread(스레드 5, stopped 140149853775616)>, <Thread(스레드 6, stopped 140149845382912)>, <Thread(스레드 7, stopped 140149820204800)>, <Thread(스레드 8, stopped 140149811812096)>, <Thread(스레드 9, stopped 140149803419392)>]\n"
          ],
          "name": "stdout"
        }
      ]
    },
    {
      "cell_type": "markdown",
      "metadata": {
        "id": "j73wd1VDr95V"
      },
      "source": [
        "6.1.4 데드락과 스핀락\n",
        "\n",
        "**데드락\n",
        "- 두 개 이상의 프로세스나 스레드가 서로 상대방의 작업이 끝나기만을 기다리고 있기 때문에 겨로가적으로 아무것도 완료되지 못하는 상태.\n",
        "- 이 네가지를 충족하면 데드락이 발생함.\n",
        "   1. 상호 배제 : 자원은 한번에 한 프로세스(스레드)만 사용할 수 있다.\n",
        "   2. 점유와 대기 : 한 프로세스가 자원을 갖고있으면서 다른 프로세스가 자원을 버리는 거를 기다리고 있는 상태\n",
        "   3. 비선점 : 다른 프로세스가 이미 점유한 자원을 강제로 뺏어오지 못한다.\n",
        "   4. 순환 대기 : 서로가 서로의 점유자원을 대기하고 있는 상태.\n",
        "\n",
        "**스핀락\n",
        "- 바쁜대기(특정 공유자원에 대해 두개 이상의 프로세스나 스레드가 그 이용 권한을 획득하려고 대기하는 현상)의 한 형태이다."
      ]
    },
    {
      "cell_type": "markdown",
      "metadata": {
        "id": "MjlueiXqsSjk"
      },
      "source": [
        "6.1.5 스레딩에 대한 구글 파이썬 스타일 가이드"
      ]
    },
    {
      "cell_type": "code",
      "metadata": {
        "colab": {
          "base_uri": "https://localhost:8080/"
        },
        "id": "dk6Uq6cVrA0m",
        "outputId": "73b2d20d-1504-494e-ec37-f21a13589391"
      },
      "source": [
        "#원자성 : 여러개의 쓰레드가 있을 때 특정 시점에 어떤 메서드를 두개 이상의 쓰레드가 동시에 호출 못한다는 것 (같이 일을 못한다!)\n",
        "\n",
        "import threading\n",
        "\n",
        "def consumer(cond):\n",
        "    name = threading.currentThread().getName()\n",
        "    print(\"{0} 시작\".format(name))\n",
        "    with cond:\n",
        "        print(\"{0} 대기\".format(name))\n",
        "        cond.wait()     #통지되거나 시간제한이 만료될 때까지 기다림\n",
        "        print(\"{0} 자원 소비\".format(name))\n",
        "\n",
        "def producer(cond):\n",
        "    name = threading.currentThread().getName()\n",
        "    print(\"{0} 시작\".format(name))\n",
        "    with cond:\n",
        "        print(\"{0} 자원 생산 후 모든 소비자에게 알림\".format(name))\n",
        "        cond.notifyAll()\n",
        "\n",
        "if __name__ == \"__main__\" :\n",
        "    condition = threading.Condition()\n",
        "    consumer1 = threading.Thread(name = \"소비자1\", target = consumer, args = (condition,))          #스레드 이름이 소비자1\n",
        "    consumer2 = threading.Thread(name = \"소비자2\", target = consumer, args = (condition,))          #소비자 시작, 대기 하고나서 cond.wait()\n",
        "    producer = threading.Thread(name = \"생산자\", target = producer, args = (condition,))            #생산자 시작, 자원생성후 notifyAll()을 조짐 -> 그제서야 소비자들의 wait가 풀림\n",
        "\n",
        "    consumer1.start()\n",
        "    consumer2.start()\n",
        "    producer.start()\n",
        "\n",
        "#파이썬 스레드 참조 : https://velog.io/@wltjs10645/Python-thread2"
      ],
      "execution_count": 1,
      "outputs": [
        {
          "output_type": "stream",
          "text": [
            "소비자1 시작\n",
            "소비자1 대기\n",
            "소비자2 시작\n",
            "소비자2 대기\n",
            "생산자 시작\n",
            "생산자 자원 생산 후 모든 소비자에게 알림\n",
            "소비자1 자원 소비\n",
            "소비자2 자원 소비\n"
          ],
          "name": "stdout"
        }
      ]
    },
    {
      "cell_type": "markdown",
      "metadata": {
        "id": "Gdf7up0irDiv"
      },
      "source": [
        ""
      ]
    },
    {
      "cell_type": "markdown",
      "metadata": {
        "id": "MCU9eSiRrE08"
      },
      "source": [
        "# 6.2 좋은 습관"
      ]
    },
    {
      "cell_type": "markdown",
      "metadata": {
        "id": "3P0DvSbrrSDg"
      },
      "source": [
        "6.2.1 가상 환경"
      ]
    },
    {
      "cell_type": "code",
      "metadata": {
        "id": "awP2iwvIrB-G"
      },
      "source": [
        ""
      ],
      "execution_count": null,
      "outputs": []
    },
    {
      "cell_type": "markdown",
      "metadata": {
        "id": "Y4vF4WOJr5IG"
      },
      "source": [
        "6.2.2 디버깅\n",
        "\n",
        "파이썬 디버거 pdb를 이용하면 디버깅을 할 수 있다."
      ]
    },
    {
      "cell_type": "markdown",
      "metadata": {
        "id": "PtZnP4bHsLCW"
      },
      "source": [
        "pdb의 명령어\n",
        "- c : 프로그램을 끝까지 실행한다.\n",
        "- s : 코드 다음 줄로 넘어간다.\n",
        "- n : 코드 다음 줄로 넘어가되, s와 다른 점은 어떤 함수를 만날 경우 함수 전체를 실행한 뒤 다음 줄로 넘어간다는 것이다\n",
        "- p : 표현식의 값을 출력한다\n",
        "- l : 다음 실행할 코드를 몇 줄 보여준다.\n",
        "- h : 도움말"
      ]
    },
    {
      "cell_type": "code",
      "metadata": {
        "colab": {
          "base_uri": "https://localhost:8080/"
        },
        "id": "CGlmiPTAsmf0",
        "outputId": "1e9d6d77-5f7a-4daa-d5ff-0cb06696cd0e"
      },
      "source": [
        "import pdb\n",
        "pdb.set_trace()"
      ],
      "execution_count": null,
      "outputs": [
        {
          "output_type": "stream",
          "text": [
            "--KeyboardInterrupt--\n",
            "--KeyboardInterrupt--\n",
            "--KeyboardInterrupt--\n"
          ],
          "name": "stdout"
        }
      ]
    },
    {
      "cell_type": "markdown",
      "metadata": {
        "id": "_kZLgv99s-7M"
      },
      "source": [
        "6.2.3 프로파일링\n",
        "\n",
        "프로그램이 예상보다 매우 느리거나, 많은 메모리가 소비된다면, 자료구조나 알고리즘을 잘못 선택했을 가능성이 많다. 이 경우 성능 항목을 검토한다.\n",
        "\n",
        "- 읽기 전용 데이터는 리스트 대신 튜플을 사용한다.\n",
        "- 반복문에서 항목이 많은 리스트나 튜플 대신에 제너레이터를 사용해서 순회한다.\n",
        "- 문자열을 연결할 때 리스트에 문자열을 추가한 후 마지막에 리스트의 항목을 모두 하나로 연결한다."
      ]
    },
    {
      "cell_type": "code",
      "metadata": {
        "colab": {
          "base_uri": "https://localhost:8080/",
          "height": 128
        },
        "id": "HL5ikeQhspma",
        "outputId": "5a5b654d-dfa2-46fc-bbec-58bef666eb7a"
      },
      "source": [
        "# 좋은예 - 리스트에 문자열을 추가한 것이다.\n",
        "items = ['<table>']\n",
        "for last_name, first_name in employee_list:\n",
        "    items.append('<tr><td>%s, %s</td></tr>' % (last_name, first_name)\n",
        "    items.append('</table>')\n",
        "    employee_table = ' '.join(items)"
      ],
      "execution_count": 1,
      "outputs": [
        {
          "output_type": "error",
          "ename": "SyntaxError",
          "evalue": "ignored",
          "traceback": [
            "\u001b[0;36m  File \u001b[0;32m\"<ipython-input-1-979a4b4318fb>\"\u001b[0;36m, line \u001b[0;32m5\u001b[0m\n\u001b[0;31m    items.append('</table>')\u001b[0m\n\u001b[0m        ^\u001b[0m\n\u001b[0;31mSyntaxError\u001b[0m\u001b[0;31m:\u001b[0m invalid syntax\n"
          ]
        }
      ]
    },
    {
      "cell_type": "markdown",
      "metadata": {
        "id": "MVCw9RrruCC4"
      },
      "source": [
        "cProfile 모듈\n",
        "\n",
        "호출 시간에 대한 세부 분석을 제공하며, 병목현상을 찾는 데 사용된다."
      ]
    },
    {
      "cell_type": "code",
      "metadata": {
        "colab": {
          "base_uri": "https://localhost:8080/",
          "height": 522
        },
        "id": "HJcwAW60tzzP",
        "outputId": "dab22ad0-0461-4833-a862-b5dca31bd52d"
      },
      "source": [
        "import cProfile\n",
        "cProfile.run('main()')"
      ],
      "execution_count": 2,
      "outputs": [
        {
          "output_type": "stream",
          "text": [
            "         3 function calls in 0.000 seconds\n",
            "\n",
            "   Ordered by: standard name\n",
            "\n",
            "   ncalls  tottime  percall  cumtime  percall filename:lineno(function)\n",
            "        1    0.000    0.000    0.000    0.000 <string>:1(<module>)\n",
            "        1    0.000    0.000    0.000    0.000 {built-in method builtins.exec}\n",
            "        1    0.000    0.000    0.000    0.000 {method 'disable' of '_lsprof.Profiler' objects}\n",
            "\n",
            "\n"
          ],
          "name": "stdout"
        },
        {
          "output_type": "error",
          "ename": "NameError",
          "evalue": "ignored",
          "traceback": [
            "\u001b[0;31m---------------------------------------------------------------------------\u001b[0m",
            "\u001b[0;31mNameError\u001b[0m                                 Traceback (most recent call last)",
            "\u001b[0;32m<ipython-input-2-69df0b0eca4b>\u001b[0m in \u001b[0;36m<module>\u001b[0;34m()\u001b[0m\n\u001b[1;32m      1\u001b[0m \u001b[0;32mimport\u001b[0m \u001b[0mcProfile\u001b[0m\u001b[0;34m\u001b[0m\u001b[0;34m\u001b[0m\u001b[0m\n\u001b[0;32m----> 2\u001b[0;31m \u001b[0mcProfile\u001b[0m\u001b[0;34m.\u001b[0m\u001b[0mrun\u001b[0m\u001b[0;34m(\u001b[0m\u001b[0;34m'main()'\u001b[0m\u001b[0;34m)\u001b[0m\u001b[0;34m\u001b[0m\u001b[0;34m\u001b[0m\u001b[0m\n\u001b[0m",
            "\u001b[0;32m/usr/lib/python3.7/cProfile.py\u001b[0m in \u001b[0;36mrun\u001b[0;34m(statement, filename, sort)\u001b[0m\n\u001b[1;32m     14\u001b[0m \u001b[0;34m\u001b[0m\u001b[0m\n\u001b[1;32m     15\u001b[0m \u001b[0;32mdef\u001b[0m \u001b[0mrun\u001b[0m\u001b[0;34m(\u001b[0m\u001b[0mstatement\u001b[0m\u001b[0;34m,\u001b[0m \u001b[0mfilename\u001b[0m\u001b[0;34m=\u001b[0m\u001b[0;32mNone\u001b[0m\u001b[0;34m,\u001b[0m \u001b[0msort\u001b[0m\u001b[0;34m=\u001b[0m\u001b[0;34m-\u001b[0m\u001b[0;36m1\u001b[0m\u001b[0;34m)\u001b[0m\u001b[0;34m:\u001b[0m\u001b[0;34m\u001b[0m\u001b[0;34m\u001b[0m\u001b[0m\n\u001b[0;32m---> 16\u001b[0;31m     \u001b[0;32mreturn\u001b[0m \u001b[0m_pyprofile\u001b[0m\u001b[0;34m.\u001b[0m\u001b[0m_Utils\u001b[0m\u001b[0;34m(\u001b[0m\u001b[0mProfile\u001b[0m\u001b[0;34m)\u001b[0m\u001b[0;34m.\u001b[0m\u001b[0mrun\u001b[0m\u001b[0;34m(\u001b[0m\u001b[0mstatement\u001b[0m\u001b[0;34m,\u001b[0m \u001b[0mfilename\u001b[0m\u001b[0;34m,\u001b[0m \u001b[0msort\u001b[0m\u001b[0;34m)\u001b[0m\u001b[0;34m\u001b[0m\u001b[0;34m\u001b[0m\u001b[0m\n\u001b[0m\u001b[1;32m     17\u001b[0m \u001b[0;34m\u001b[0m\u001b[0m\n\u001b[1;32m     18\u001b[0m \u001b[0;32mdef\u001b[0m \u001b[0mrunctx\u001b[0m\u001b[0;34m(\u001b[0m\u001b[0mstatement\u001b[0m\u001b[0;34m,\u001b[0m \u001b[0mglobals\u001b[0m\u001b[0;34m,\u001b[0m \u001b[0mlocals\u001b[0m\u001b[0;34m,\u001b[0m \u001b[0mfilename\u001b[0m\u001b[0;34m=\u001b[0m\u001b[0;32mNone\u001b[0m\u001b[0;34m,\u001b[0m \u001b[0msort\u001b[0m\u001b[0;34m=\u001b[0m\u001b[0;34m-\u001b[0m\u001b[0;36m1\u001b[0m\u001b[0;34m)\u001b[0m\u001b[0;34m:\u001b[0m\u001b[0;34m\u001b[0m\u001b[0;34m\u001b[0m\u001b[0m\n",
            "\u001b[0;32m/usr/lib/python3.7/profile.py\u001b[0m in \u001b[0;36mrun\u001b[0;34m(self, statement, filename, sort)\u001b[0m\n\u001b[1;32m     51\u001b[0m         \u001b[0mprof\u001b[0m \u001b[0;34m=\u001b[0m \u001b[0mself\u001b[0m\u001b[0;34m.\u001b[0m\u001b[0mprofiler\u001b[0m\u001b[0;34m(\u001b[0m\u001b[0;34m)\u001b[0m\u001b[0;34m\u001b[0m\u001b[0;34m\u001b[0m\u001b[0m\n\u001b[1;32m     52\u001b[0m         \u001b[0;32mtry\u001b[0m\u001b[0;34m:\u001b[0m\u001b[0;34m\u001b[0m\u001b[0;34m\u001b[0m\u001b[0m\n\u001b[0;32m---> 53\u001b[0;31m             \u001b[0mprof\u001b[0m\u001b[0;34m.\u001b[0m\u001b[0mrun\u001b[0m\u001b[0;34m(\u001b[0m\u001b[0mstatement\u001b[0m\u001b[0;34m)\u001b[0m\u001b[0;34m\u001b[0m\u001b[0;34m\u001b[0m\u001b[0m\n\u001b[0m\u001b[1;32m     54\u001b[0m         \u001b[0;32mexcept\u001b[0m \u001b[0mSystemExit\u001b[0m\u001b[0;34m:\u001b[0m\u001b[0;34m\u001b[0m\u001b[0;34m\u001b[0m\u001b[0m\n\u001b[1;32m     55\u001b[0m             \u001b[0;32mpass\u001b[0m\u001b[0;34m\u001b[0m\u001b[0;34m\u001b[0m\u001b[0m\n",
            "\u001b[0;32m/usr/lib/python3.7/cProfile.py\u001b[0m in \u001b[0;36mrun\u001b[0;34m(self, cmd)\u001b[0m\n\u001b[1;32m     93\u001b[0m         \u001b[0;32mimport\u001b[0m \u001b[0m__main__\u001b[0m\u001b[0;34m\u001b[0m\u001b[0;34m\u001b[0m\u001b[0m\n\u001b[1;32m     94\u001b[0m         \u001b[0mdict\u001b[0m \u001b[0;34m=\u001b[0m \u001b[0m__main__\u001b[0m\u001b[0;34m.\u001b[0m\u001b[0m__dict__\u001b[0m\u001b[0;34m\u001b[0m\u001b[0;34m\u001b[0m\u001b[0m\n\u001b[0;32m---> 95\u001b[0;31m         \u001b[0;32mreturn\u001b[0m \u001b[0mself\u001b[0m\u001b[0;34m.\u001b[0m\u001b[0mrunctx\u001b[0m\u001b[0;34m(\u001b[0m\u001b[0mcmd\u001b[0m\u001b[0;34m,\u001b[0m \u001b[0mdict\u001b[0m\u001b[0;34m,\u001b[0m \u001b[0mdict\u001b[0m\u001b[0;34m)\u001b[0m\u001b[0;34m\u001b[0m\u001b[0;34m\u001b[0m\u001b[0m\n\u001b[0m\u001b[1;32m     96\u001b[0m \u001b[0;34m\u001b[0m\u001b[0m\n\u001b[1;32m     97\u001b[0m     \u001b[0;32mdef\u001b[0m \u001b[0mrunctx\u001b[0m\u001b[0;34m(\u001b[0m\u001b[0mself\u001b[0m\u001b[0;34m,\u001b[0m \u001b[0mcmd\u001b[0m\u001b[0;34m,\u001b[0m \u001b[0mglobals\u001b[0m\u001b[0;34m,\u001b[0m \u001b[0mlocals\u001b[0m\u001b[0;34m)\u001b[0m\u001b[0;34m:\u001b[0m\u001b[0;34m\u001b[0m\u001b[0;34m\u001b[0m\u001b[0m\n",
            "\u001b[0;32m/usr/lib/python3.7/cProfile.py\u001b[0m in \u001b[0;36mrunctx\u001b[0;34m(self, cmd, globals, locals)\u001b[0m\n\u001b[1;32m     98\u001b[0m         \u001b[0mself\u001b[0m\u001b[0;34m.\u001b[0m\u001b[0menable\u001b[0m\u001b[0;34m(\u001b[0m\u001b[0;34m)\u001b[0m\u001b[0;34m\u001b[0m\u001b[0;34m\u001b[0m\u001b[0m\n\u001b[1;32m     99\u001b[0m         \u001b[0;32mtry\u001b[0m\u001b[0;34m:\u001b[0m\u001b[0;34m\u001b[0m\u001b[0;34m\u001b[0m\u001b[0m\n\u001b[0;32m--> 100\u001b[0;31m             \u001b[0mexec\u001b[0m\u001b[0;34m(\u001b[0m\u001b[0mcmd\u001b[0m\u001b[0;34m,\u001b[0m \u001b[0mglobals\u001b[0m\u001b[0;34m,\u001b[0m \u001b[0mlocals\u001b[0m\u001b[0;34m)\u001b[0m\u001b[0;34m\u001b[0m\u001b[0;34m\u001b[0m\u001b[0m\n\u001b[0m\u001b[1;32m    101\u001b[0m         \u001b[0;32mfinally\u001b[0m\u001b[0;34m:\u001b[0m\u001b[0;34m\u001b[0m\u001b[0;34m\u001b[0m\u001b[0m\n\u001b[1;32m    102\u001b[0m             \u001b[0mself\u001b[0m\u001b[0;34m.\u001b[0m\u001b[0mdisable\u001b[0m\u001b[0;34m(\u001b[0m\u001b[0;34m)\u001b[0m\u001b[0;34m\u001b[0m\u001b[0;34m\u001b[0m\u001b[0m\n",
            "\u001b[0;32m<string>\u001b[0m in \u001b[0;36m<module>\u001b[0;34m()\u001b[0m\n",
            "\u001b[0;31mNameError\u001b[0m: name 'main' is not defined"
          ]
        }
      ]
    },
    {
      "cell_type": "code",
      "metadata": {
        "colab": {
          "base_uri": "https://localhost:8080/"
        },
        "id": "KsRD2791uSDy",
        "outputId": "7bc9372a-ae43-4602-965d-ca15d3b64f13"
      },
      "source": [
        "import cProfile\n",
        "import time\n",
        "\n",
        "def sleep():\n",
        "    time.sleep(5)\n",
        "\n",
        "def hello_world():\n",
        "    print(\"Hello World!\")\n",
        "\n",
        "def main():\n",
        "    sleep()\n",
        "    hello_world()\n",
        "\n",
        "cProfile.run('main()')"
      ],
      "execution_count": 3,
      "outputs": [
        {
          "output_type": "stream",
          "text": [
            "Hello World!\n",
            "         42 function calls in 5.006 seconds\n",
            "\n",
            "   Ordered by: standard name\n",
            "\n",
            "   ncalls  tottime  percall  cumtime  percall filename:lineno(function)\n",
            "        1    0.000    0.000    5.005    5.005 <ipython-input-3-f3eb07e42a32>:10(main)\n",
            "        1    0.000    0.000    5.005    5.005 <ipython-input-3-f3eb07e42a32>:4(sleep)\n",
            "        1    0.000    0.000    0.000    0.000 <ipython-input-3-f3eb07e42a32>:7(hello_world)\n",
            "        1    0.000    0.000    5.005    5.005 <string>:1(<module>)\n",
            "        3    0.000    0.000    0.000    0.000 iostream.py:195(schedule)\n",
            "        2    0.000    0.000    0.000    0.000 iostream.py:307(_is_master_process)\n",
            "        2    0.000    0.000    0.000    0.000 iostream.py:320(_schedule_flush)\n",
            "        2    0.000    0.000    0.000    0.000 iostream.py:382(write)\n",
            "        3    0.000    0.000    0.000    0.000 iostream.py:93(_event_pipe)\n",
            "        3    0.000    0.000    0.000    0.000 socket.py:438(send)\n",
            "        3    0.000    0.000    0.000    0.000 threading.py:1050(_wait_for_tstate_lock)\n",
            "        3    0.000    0.000    0.000    0.000 threading.py:1092(is_alive)\n",
            "        3    0.000    0.000    0.000    0.000 threading.py:507(is_set)\n",
            "        1    0.000    0.000    5.006    5.006 {built-in method builtins.exec}\n",
            "        2    0.000    0.000    0.000    0.000 {built-in method builtins.isinstance}\n",
            "        1    0.000    0.000    0.000    0.000 {built-in method builtins.print}\n",
            "        2    0.000    0.000    0.000    0.000 {built-in method posix.getpid}\n",
            "        1    5.005    5.005    5.005    5.005 {built-in method time.sleep}\n",
            "        3    0.000    0.000    0.000    0.000 {method 'acquire' of '_thread.lock' objects}\n",
            "        3    0.000    0.000    0.000    0.000 {method 'append' of 'collections.deque' objects}\n",
            "        1    0.000    0.000    0.000    0.000 {method 'disable' of '_lsprof.Profiler' objects}\n",
            "\n",
            "\n"
          ],
          "name": "stdout"
        }
      ]
    },
    {
      "cell_type": "markdown",
      "metadata": {
        "id": "eM0tH0YqurF2"
      },
      "source": [
        "timeit 모듈"
      ]
    },
    {
      "cell_type": "code",
      "metadata": {
        "colab": {
          "base_uri": "https://localhost:8080/"
        },
        "id": "hzM00DhsuiLg",
        "outputId": "20ec2ffc-365f-4078-b391-780abda0a421"
      },
      "source": [
        "import timeit\n",
        "timeit.timeit(\"x = 2 + 2\")"
      ],
      "execution_count": 4,
      "outputs": [
        {
          "output_type": "execute_result",
          "data": {
            "text/plain": [
              "0.015593015999911586"
            ]
          },
          "metadata": {
            "tags": []
          },
          "execution_count": 4
        }
      ]
    },
    {
      "cell_type": "code",
      "metadata": {
        "colab": {
          "base_uri": "https://localhost:8080/"
        },
        "id": "9hhXkEL4uxMx",
        "outputId": "59084ff4-c68b-4b69-ce97-e346f3e0ae55"
      },
      "source": [
        "timeit.timeit(\"x = sum(range(10))\")"
      ],
      "execution_count": 5,
      "outputs": [
        {
          "output_type": "execute_result",
          "data": {
            "text/plain": [
              "0.34820497499981684"
            ]
          },
          "metadata": {
            "tags": []
          },
          "execution_count": 5
        }
      ]
    },
    {
      "cell_type": "code",
      "metadata": {
        "id": "YaBWVCQLu2NE"
      },
      "source": [
        "import time\n",
        "\n",
        "def sum0fN2(n):\n",
        "    start = time.time()\n",
        "    theSum = 0\n",
        "    for i in range(1,n+1):\n",
        "        theSum = theSum + i\n",
        "    end = time.time()\n",
        "    return theSum, end-start\n",
        "\n",
        "if __name__ == \"main__\":\n",
        "    n = 5\n",
        "    print(\"총 합계 : %d\\t 시간 : %10.7f초\" % sum0fN2(n))\n",
        "    n = 200\n",
        "    print(\"총 합계 : %d\\t 시간 : %10.7f초\" % sum0fN2(n))"
      ],
      "execution_count": 7,
      "outputs": []
    },
    {
      "cell_type": "markdown",
      "metadata": {
        "id": "jHYcB_1Tvb9t"
      },
      "source": [
        "# 6.3 단위 테스트"
      ]
    },
    {
      "cell_type": "markdown",
      "metadata": {
        "id": "5E41ZGwUvg71"
      },
      "source": [
        "6.3.1 용어\n",
        "\n",
        "- 테스트 픽스쳐 : 테스트 설정을 위한 코드\n",
        "- 테스트 케이스 : 테스트의 기본 단위\n",
        "- 테스트 스위트 : unittest.TestCase 의 하위 클래스에 의해 생성된 테스트 케이스 집합\n",
        "- 테스트 러너 : 하나 이상의 테스트 스위트를 실행하는 객체"
      ]
    },
    {
      "cell_type": "markdown",
      "metadata": {
        "id": "K6R21T6avziV"
      },
      "source": [
        "6.3.2 doctest\n",
        "\n",
        "doctest 모듈은 모듀과 함수의 독스트링 안에 테스트 코드를 작성할 때 사용한다. 테스트를 작성한 후, 다음 코드 세줄만 추가하면 된다."
      ]
    },
    {
      "cell_type": "code",
      "metadata": {
        "id": "zR4PM9ohv_iR"
      },
      "source": [
        "if __name__ = \"__main__\"        # : 을 안붙혀도 되나?\n",
        "    import doctest\n",
        "    doctest.testmod()"
      ],
      "execution_count": null,
      "outputs": []
    },
    {
      "cell_type": "markdown",
      "metadata": {
        "id": "A4fToA83wL9i"
      },
      "source": [
        "doctest 모듈이 포함된 프로그램은 두가지 방법으로 실행가능...-v 옵션"
      ]
    },
    {
      "cell_type": "code",
      "metadata": {
        "colab": {
          "base_uri": "https://localhost:8080/"
        },
        "id": "BsFDd5mfwYic",
        "outputId": "b8319954-f678-4170-f4e4-7235bb6b898b"
      },
      "source": [
        "def factorial(n):\n",
        "    import math\n",
        "    if not n >= 0 :\n",
        "        raise ValueError(\"n must be >= 0\")\n",
        "    \n",
        "    if math.floor(n) != n:\n",
        "        raise ValueError(\"n must be exact integer\")\n",
        "    \n",
        "    if n+1 == n :\n",
        "        raise OverflowError(\"n is too large\")\n",
        "    \n",
        "    result = 1\n",
        "    factor = 2\n",
        "    while factor <= n:\n",
        "        result *= factor\n",
        "        factor += 1\n",
        "\n",
        "    return result\n",
        "\n",
        "if __name__ == \"__main__\":\n",
        "    import doctest\n",
        "    doctest.testmod()\n",
        "\n",
        "print(factorial(30))\n",
        "#print(factorial(-1))\n",
        "print([factorial(n) for n in range(6)])"
      ],
      "execution_count": 12,
      "outputs": [
        {
          "output_type": "stream",
          "text": [
            "265252859812191058636308480000000\n",
            "[1, 1, 2, 6, 24, 120]\n"
          ],
          "name": "stdout"
        }
      ]
    },
    {
      "cell_type": "code",
      "metadata": {
        "colab": {
          "base_uri": "https://localhost:8080/",
          "height": 363
        },
        "id": "1rM4qK24wauH",
        "outputId": "ab19b17e-5e5e-4643-cf1f-c9f43058632e"
      },
      "source": [
        "#unittest 모듈과 함께 실행도 가능\n",
        "\n",
        "import doctest\n",
        "import unittest\n",
        "import doctest_factorial\n",
        "\n",
        "suite = unittest.TestSuite()\n",
        "suite,addTest(doctest.DocTestSuite(doctest_factorial))\n",
        "runner = unittest.TextTestRunner()\n",
        "print(runner.run(suite))"
      ],
      "execution_count": 13,
      "outputs": [
        {
          "output_type": "error",
          "ename": "ModuleNotFoundError",
          "evalue": "ignored",
          "traceback": [
            "\u001b[0;31m---------------------------------------------------------------------------\u001b[0m",
            "\u001b[0;31mModuleNotFoundError\u001b[0m                       Traceback (most recent call last)",
            "\u001b[0;32m<ipython-input-13-5bec51711b74>\u001b[0m in \u001b[0;36m<module>\u001b[0;34m()\u001b[0m\n\u001b[1;32m      3\u001b[0m \u001b[0;32mimport\u001b[0m \u001b[0mdoctest\u001b[0m\u001b[0;34m\u001b[0m\u001b[0;34m\u001b[0m\u001b[0m\n\u001b[1;32m      4\u001b[0m \u001b[0;32mimport\u001b[0m \u001b[0munittest\u001b[0m\u001b[0;34m\u001b[0m\u001b[0;34m\u001b[0m\u001b[0m\n\u001b[0;32m----> 5\u001b[0;31m \u001b[0;32mimport\u001b[0m \u001b[0mdoctest_factorial\u001b[0m\u001b[0;34m\u001b[0m\u001b[0;34m\u001b[0m\u001b[0m\n\u001b[0m\u001b[1;32m      6\u001b[0m \u001b[0;34m\u001b[0m\u001b[0m\n\u001b[1;32m      7\u001b[0m \u001b[0msuite\u001b[0m \u001b[0;34m=\u001b[0m \u001b[0munittest\u001b[0m\u001b[0;34m.\u001b[0m\u001b[0mTestSuite\u001b[0m\u001b[0;34m(\u001b[0m\u001b[0;34m)\u001b[0m\u001b[0;34m\u001b[0m\u001b[0;34m\u001b[0m\u001b[0m\n",
            "\u001b[0;31mModuleNotFoundError\u001b[0m: No module named 'doctest_factorial'",
            "",
            "\u001b[0;31m---------------------------------------------------------------------------\u001b[0;32m\nNOTE: If your import is failing due to a missing package, you can\nmanually install dependencies using either !pip or !apt.\n\nTo view examples of installing some common dependencies, click the\n\"Open Examples\" button below.\n\u001b[0;31m---------------------------------------------------------------------------\u001b[0m\n"
          ]
        }
      ]
    },
    {
      "cell_type": "markdown",
      "metadata": {
        "id": "81Fd4dUex-oz"
      },
      "source": [
        "6.3.3 pytest\n",
        "\n",
        "일단 pytest 라이브러리 설치."
      ]
    },
    {
      "cell_type": "code",
      "metadata": {
        "id": "Q9cOe3lGx1oC"
      },
      "source": [
        "def func(x):\n",
        "    return x + 1\n",
        "\n",
        "def test_answer():\n",
        "    assert func(3) == 51"
      ],
      "execution_count": null,
      "outputs": []
    }
  ]
}