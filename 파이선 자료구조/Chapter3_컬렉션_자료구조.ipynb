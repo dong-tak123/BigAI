{
  "nbformat": 4,
  "nbformat_minor": 0,
  "metadata": {
    "colab": {
      "name": "Chapter3.컬렉션 자료구조",
      "provenance": [],
      "collapsed_sections": []
    },
    "kernelspec": {
      "name": "python3",
      "display_name": "Python 3"
    }
  },
  "cells": [
    {
      "cell_type": "markdown",
      "metadata": {
        "id": "l-tgL08i_Ior"
      },
      "source": [
        "컬렉션 자료구조 : 데이터를 서로 연관시키지 않고 모아두는 컨테이너\r\n",
        " - 멤버십 연산자 : in\r\n",
        " - 크기 함수 : len(seq)\r\n",
        " - 반복성 : 반복문의 데이터를 순회한다.\r\n",
        "\r\n",
        "종류 : 셋 / 딕셔너리"
      ]
    },
    {
      "cell_type": "markdown",
      "metadata": {
        "id": "CEs-A3Js_hSp"
      },
      "source": [
        "3.1 셋"
      ]
    },
    {
      "cell_type": "markdown",
      "metadata": {
        "id": "BNBWlyng_i2k"
      },
      "source": [
        "셋은 반복 가능하고, 가변적이며, 중복 요소가 없고, 정렬되지 않은 컬렉션 데이터 타입이다.\r\n",
        "인덱스 연산은 할 수 없다.\r\n",
        "멤버십 테스트 및 중복 항목 제거에 사용된다."
      ]
    },
    {
      "cell_type": "code",
      "metadata": {
        "colab": {
          "base_uri": "https://localhost:8080/"
        },
        "id": "Wv-QIOqH--P1",
        "outputId": "511191b2-c292-45c6-a94b-6227636d913a"
      },
      "source": [
        "#A.add(x) : 셋 A에 x가 없는 경우 x를 추가한다.\r\n",
        "\r\n",
        "people = {\"살라\", \"피르미누\", \"마네\"}\r\n",
        "people.add(\"티아고\")\r\n",
        "people"
      ],
      "execution_count": null,
      "outputs": [
        {
          "output_type": "execute_result",
          "data": {
            "text/plain": [
              "{'마네', '살라', '티아고', '피르미누'}"
            ]
          },
          "metadata": {
            "tags": []
          },
          "execution_count": 1
        }
      ]
    },
    {
      "cell_type": "code",
      "metadata": {
        "colab": {
          "base_uri": "https://localhost:8080/"
        },
        "id": "H1Y1N6I7AEa1",
        "outputId": "914a095f-5e47-48b3-ede3-2dc9b8ab191f"
      },
      "source": [
        "#A.update(B) 혹은 A |= B : A를 B에 추가한다(합집합)\r\n",
        "\r\n",
        "people = {\"살라\", \"피르미누\", \"마네\"}\r\n",
        "people.update({\"티아고\", \"헨더슨\", \"파비뉴\"})\r\n",
        "print(people)\r\n",
        "\r\n",
        "people |= {\"아놀드\", \"반다이크\"}\r\n",
        "print(people)"
      ],
      "execution_count": null,
      "outputs": [
        {
          "output_type": "stream",
          "text": [
            "{'살라', '피르미누', '파비뉴', '티아고', '헨더슨', '마네'}\n",
            "{'살라', '아놀드', '피르미누', '파비뉴', '티아고', '반다이크', '헨더슨', '마네'}\n"
          ],
          "name": "stdout"
        }
      ]
    },
    {
      "cell_type": "code",
      "metadata": {
        "colab": {
          "base_uri": "https://localhost:8080/"
        },
        "id": "4Ti2j9NqDLLb",
        "outputId": "83dcdbca-f57f-4a41-d281-9438aa1826f5"
      },
      "source": [
        "#A.union(B) 혹은 A|B : update()와 같지만 연산결과를 복사본으로 반환\r\n",
        "\r\n",
        "people = {\"살라\", \"피르미누\", \"마네\"}\r\n",
        "print(people.union({\"티아고\", \"헨더슨\", \"파비뉴\"}))\r\n",
        "\r\n",
        "print(people | {\"아놀드\", \"반다이크\"})\r\n",
        "\r\n",
        "print(people)"
      ],
      "execution_count": null,
      "outputs": [
        {
          "output_type": "stream",
          "text": [
            "{'티아고', '살라', '파비뉴', '헨더슨', '피르미누', '마네'}\n",
            "{'살라', '피르미누', '마네', '아놀드', '반다이크'}\n",
            "{'피르미누', '살라', '마네'}\n"
          ],
          "name": "stdout"
        }
      ]
    },
    {
      "cell_type": "code",
      "metadata": {
        "colab": {
          "base_uri": "https://localhost:8080/"
        },
        "id": "07z9kgcwD6qH",
        "outputId": "7e9c6243-6ec3-43d0-f6fc-c7630835d6e5"
      },
      "source": [
        "#A.intersection(B) 혹은 A & B : A 와 B의 교집합의 복사본을 반환\r\n",
        "forward = {\"살라\", \"피르미누\", \"마네\"}\r\n",
        "member = {\"반다이크\", \"살라\", \"티아고\"}\r\n",
        "\r\n",
        "print(people.intersection(member))\r\n",
        "print(people & member)\r\n",
        "print(forward)\r\n",
        "print(member)"
      ],
      "execution_count": null,
      "outputs": [
        {
          "output_type": "stream",
          "text": [
            "{'살라'}\n",
            "{'살라'}\n",
            "{'피르미누', '살라', '마네'}\n",
            "{'티아고', '살라', '반다이크'}\n"
          ],
          "name": "stdout"
        }
      ]
    },
    {
      "cell_type": "code",
      "metadata": {
        "colab": {
          "base_uri": "https://localhost:8080/"
        },
        "id": "LsgZXeoxEqp5",
        "outputId": "8080b9d6-4e46-4c17-c03b-7b9e8097f75c"
      },
      "source": [
        "#A.difference(B) 혹은 A - B : A와 B의 차집합의 복사본을 반환\r\n",
        "forward = {\"살라\", \"피르미누\", \"마네\"}\r\n",
        "member = {\"반다이크\", \"살라\", \"티아고\"}\r\n",
        "\r\n",
        "print(people.difference(member))\r\n",
        "print(member - people)\r\n",
        "print(forward)\r\n",
        "print(member)"
      ],
      "execution_count": null,
      "outputs": [
        {
          "output_type": "stream",
          "text": [
            "{'피르미누', '마네'}\n",
            "{'티아고', '반다이크'}\n",
            "{'피르미누', '살라', '마네'}\n",
            "{'티아고', '살라', '반다이크'}\n"
          ],
          "name": "stdout"
        }
      ]
    },
    {
      "cell_type": "code",
      "metadata": {
        "colab": {
          "base_uri": "https://localhost:8080/"
        },
        "id": "N5zt7j0gFBR_",
        "outputId": "15f7f902-d482-4ee7-de0f-a0a0883711f1"
      },
      "source": [
        "#A.clear() : A의 모든 항목 제거\r\n",
        "forward = {\"살라\", \"피르미누\", \"마네\"}\r\n",
        "forward.clear()\r\n",
        "forward"
      ],
      "execution_count": null,
      "outputs": [
        {
          "output_type": "execute_result",
          "data": {
            "text/plain": [
              "set()"
            ]
          },
          "metadata": {
            "tags": []
          },
          "execution_count": 13
        }
      ]
    },
    {
      "cell_type": "markdown",
      "metadata": {
        "id": "ie9VOPBNFUa0"
      },
      "source": [
        "* A.discard(x) : A의 항목 x를 제거하고 반환값은 없다.\r\n",
        "* A.remove(x) : discard()와 같은데, 제거할 항목 x가 없을 경우 예외를 발생시킨다.\r\n",
        "* A.pop() : A에서 한 항목을 무작위로 제거하고 그 항목을 반환한다.\r\n",
        "\r\n",
        "\r\n",
        "\r\n"
      ]
    },
    {
      "cell_type": "code",
      "metadata": {
        "colab": {
          "base_uri": "https://localhost:8080/"
        },
        "id": "IqDSxIrisryk",
        "outputId": "1507d271-3a22-4cb3-f82a-6d81a8dcd701"
      },
      "source": [
        "year = 2012\r\n",
        "month = 5\r\n",
        "date = 12\r\n",
        "print(f\"{year!r}년 {month!r}월 {date!r}일\")"
      ],
      "execution_count": null,
      "outputs": [
        {
          "output_type": "stream",
          "text": [
            "2012년 5월 12일\n"
          ],
          "name": "stdout"
        }
      ]
    },
    {
      "cell_type": "code",
      "metadata": {
        "colab": {
          "base_uri": "https://localhost:8080/"
        },
        "id": "BBuwTyvmFPOr",
        "outputId": "9d95e719-d730-43dc-ccf4-6fec091d8ebc"
      },
      "source": [
        "countries = {\"england\", \"france\", \"spain\", \"germany\"}\r\n",
        "\r\n",
        "countries.discard(\"spain\")\r\n",
        "#countries.remove(\"japan\")\r\n",
        "\r\n",
        "print(countries.pop())\r\n",
        "print(countries.pop())\r\n",
        "print(countries)"
      ],
      "execution_count": null,
      "outputs": [
        {
          "output_type": "stream",
          "text": [
            "england\n",
            "france\n",
            "{'germany'}\n"
          ],
          "name": "stdout"
        }
      ]
    },
    {
      "cell_type": "markdown",
      "metadata": {
        "id": "m0TrkUgdMVxF"
      },
      "source": [
        "리스트 타입은 셋 타입으로 변환해서 사용할 수 있다"
      ]
    },
    {
      "cell_type": "code",
      "metadata": {
        "colab": {
          "base_uri": "https://localhost:8080/"
        },
        "id": "wBrqHQ_pGIrR",
        "outputId": "ef0ec946-7f2e-42cf-bc16-969a7fe4d410"
      },
      "source": [
        "def remove_dup(l1):\r\n",
        "    '''리스트의 중복된 항목을 제거한 뒤 반환한다'''\r\n",
        "    return list(set(l1))\r\n",
        "\r\n",
        "def intersection(l1, l2):\r\n",
        "    '''교집합 결과를 반환한다'''\r\n",
        "    return list(set(l1) & set(l2))\r\n",
        "\r\n",
        "def union(l1, l2):\r\n",
        "    '''합집합 결과를 반환한다.'''\r\n",
        "    return list(set(l1) | set(l2))\r\n",
        "\r\n",
        "def test_sets_operations_with_lists():\r\n",
        "    l1 = [1,2,3,4,5,5,9,11,11,15]\r\n",
        "    l2 = [4,5,6,7,8]\r\n",
        "    l3 = []\r\n",
        "    assert(remove_dup(l1) == [1,2,3,4,5,9,11,15])\r\n",
        "    assert(intersection(l1, l2) == [4,5])\r\n",
        "    assert(union(l1,l2) == [1,2,3,4,5,6,7,8,9,11,15])\r\n",
        "    assert(remove_dup(l3) == [])\r\n",
        "    assert(intersection(l3, l2) == l3)\r\n",
        "    assert(sorted(union(l3, l2)) == sorted(l2))\r\n",
        "    print(\"테스트 통과!\")\r\n",
        "\r\n",
        "if __name__ == \"__main__\":\r\n",
        "    test_sets_operations_with_lists()"
      ],
      "execution_count": null,
      "outputs": [
        {
          "output_type": "stream",
          "text": [
            "테스트 통과!\n"
          ],
          "name": "stdout"
        }
      ]
    },
    {
      "cell_type": "markdown",
      "metadata": {
        "id": "gO8Qln3iMqcN"
      },
      "source": [
        "딕셔너리에도 셋 속성을 이용할 수 있다."
      ]
    },
    {
      "cell_type": "code",
      "metadata": {
        "colab": {
          "base_uri": "https://localhost:8080/"
        },
        "id": "I0KpLmQTIpTx",
        "outputId": "792d2c93-cfc5-4da4-b46f-794fd4ae3194"
      },
      "source": [
        "def set_operations_with_dict():\r\n",
        "    pairs = [(\"a\",1), (\"b\",2), (\"c\",3)]\r\n",
        "    d1 = dict(pairs)\r\n",
        "    print(\"딕셔너리1\\t: {0}\".format(d1))\r\n",
        "\r\n",
        "    d2 = {\"a\": 1, \"c\": 2, \"d\": 3, \"e\": 4}\r\n",
        "    print(\"딕셔너리2\\t: {0}\".format(d2))\r\n",
        "\r\n",
        "    intersection = d1.keys() & d2.keys()\r\n",
        "    print(\"d1 교 d2 = (키)\\t: {0}\".format(intersection))\r\n",
        "\r\n",
        "    intersection_items = d1.items() & d2.items()\r\n",
        "    print(\"d1 교 d2 = (키, 값)\\t: {0}\".format(intersection_items))\r\n",
        "\r\n",
        "    subtraction1 = d1.keys() - d2.keys()\r\n",
        "    print(\"d1 - d2 = (키)\\t: {0}\".format(subtraction1))\r\n",
        "\r\n",
        "    subtraction2 = d2.keys() - d1.keys()\r\n",
        "    print(\"d2 - d1 = (키)\\t: {0}\".format(subtraction2))\r\n",
        "\r\n",
        "    subtraction_items = d1.items() - d2.items()\r\n",
        "    print(\"d1 - d2 = (키, 값)\\t: {0}\".format(subtraction_items))\r\n",
        "\r\n",
        "    '''딕셔너리의 특정 키를 제외한다.'''\r\n",
        "    d3 = {key: d2[key] for key in d2.keys() - {\"c\", \"d\"}}\r\n",
        "    print(\"d2 - {{c,d}}\\t: {0}\".format(d3))\r\n",
        "\r\n",
        "if __name__ == \"__main__\":\r\n",
        "    set_operations_with_dict()\r\n",
        "    "
      ],
      "execution_count": null,
      "outputs": [
        {
          "output_type": "stream",
          "text": [
            "딕셔너리1\t: {'a': 1, 'b': 2, 'c': 3}\n",
            "딕셔너리2\t: {'a': 1, 'c': 2, 'd': 3, 'e': 4}\n",
            "d1 교 d2 = (키)\t: {'c', 'a'}\n",
            "d1 교 d2 = (키, 값)\t: {('a', 1)}\n",
            "d1 - d2 = (키)\t: {'b'}\n",
            "d2 - d1 = (키)\t: {'d', 'e'}\n",
            "d1 - d2 = (키, 값)\t: {('c', 3), ('b', 2)}\n",
            "d2 - {c,d}\t: {'a': 1, 'e': 4}\n"
          ],
          "name": "stdout"
        }
      ]
    },
    {
      "cell_type": "markdown",
      "metadata": {
        "id": "eg2OhvqcRRYP"
      },
      "source": [
        "3.2 딕셔너리"
      ]
    },
    {
      "cell_type": "markdown",
      "metadata": {
        "id": "WgZ-HXReRTKv"
      },
      "source": [
        "딕셔너리는 해시 테이블로 구현되어 있다."
      ]
    },
    {
      "cell_type": "code",
      "metadata": {
        "colab": {
          "base_uri": "https://localhost:8080/"
        },
        "id": "2H_9qa4bQ4ax",
        "outputId": "bc3c6520-676e-4118-8b88-6d6680c74a16"
      },
      "source": [
        "hash(42)\r\n",
        "hash(\"hello\")"
      ],
      "execution_count": null,
      "outputs": [
        {
          "output_type": "execute_result",
          "data": {
            "text/plain": [
              "5034436831263781449"
            ]
          },
          "metadata": {
            "tags": []
          },
          "execution_count": 2
        }
      ]
    },
    {
      "cell_type": "markdown",
      "metadata": {
        "id": "WBzWBFzU8dL3"
      },
      "source": [
        "딕셔너리의 항목은 고유하다 -> 항목에 접근하는 시간복잡도 : O(1)\r\n",
        "딕셔너리의 항목의 추가 및 제거가 가능하다\r\n",
        "항목의 삽입 순서를 기억하지 않기 때문에, 인덱스를 사용할 수 없다."
      ]
    },
    {
      "cell_type": "code",
      "metadata": {
        "colab": {
          "base_uri": "https://localhost:8080/"
        },
        "id": "lmvR7aFO8TLv",
        "outputId": "d60dcf20-d257-4154-8d2e-722dc08cf553"
      },
      "source": [
        "tarantino = {}\r\n",
        "tarantino['name'] = '쿠엔틴 타란티노'\r\n",
        "tarantino['job'] = '감독'\r\n",
        "print(tarantino)\r\n",
        "\r\n",
        "sunnydale = dict({\"name\":\"버피\", \"age\":16, \"hobby\":\"게임\"})\r\n",
        "print(sunnydale)\r\n",
        "\r\n",
        "sunnydale = dict({\"name\":\"자일스\", \"age\":45, \"hobby\":\"영화감상\"})\r\n",
        "print(sunnydale)\r\n",
        "\r\n",
        "sunnydale = dict([(\"name\", \"윌로\"), (\"age\",15), (\"hobby\",\"개발\")])\r\n",
        "print(sunnydale)"
      ],
      "execution_count": null,
      "outputs": [
        {
          "output_type": "stream",
          "text": [
            "{'name': '쿠엔틴 타란티노', 'job': '감독'}\n",
            "{'name': '버피', 'age': 16, 'hobby': '게임'}\n",
            "{'name': '자일스', 'age': 45, 'hobby': '영화감상'}\n",
            "{'name': '윌로', 'age': 15, 'hobby': '개발'}\n"
          ],
          "name": "stdout"
        }
      ]
    },
    {
      "cell_type": "code",
      "metadata": {
        "colab": {
          "base_uri": "https://localhost:8080/"
        },
        "id": "sSkPnyzJ81eV",
        "outputId": "a9b60f39-30a0-4e8f-c396-c23279a81316"
      },
      "source": [
        "def usual_dict(dict_data):\r\n",
        "    \"\"\"dict[key] 사용\"\"\"\r\n",
        "    newdata = {}\r\n",
        "    for k, v in dict_data:\r\n",
        "        if k in newdata:\r\n",
        "            newdata[k].append(v)\r\n",
        "        else:\r\n",
        "            newdata[k] = [v]\r\n",
        "    return newdata\r\n",
        "\r\n",
        "def setdefault_dict(dict_data):\r\n",
        "    \"\"\"setdefault() 메서드 사용\"\"\"\r\n",
        "    newdata = {}\r\n",
        "    for k, v in dict_data:\r\n",
        "        newdata.setdefault(k, []).append(v)\r\n",
        "    return newdata\r\n",
        "\r\n",
        "def test_setdef():\r\n",
        "    dict_data = ((\"key1\", \"value1\"),(\"key1\", \"value2\"), (\"key2\", \"value3\"), (\"key2\", \"value4\"), (\"key2\", \"value5\"),)\r\n",
        "    print(usual_dict(dict_data))\r\n",
        "    print(setdefault_dict(dict_data))\r\n",
        "\r\n",
        "if __name__ == \"__main__\":\r\n",
        "    test_setdef()"
      ],
      "execution_count": null,
      "outputs": [
        {
          "output_type": "stream",
          "text": [
            "{'key1': ['value1', 'value2'], 'key2': ['value3', 'value4', 'value5']}\n",
            "{'key1': ['value1', 'value2'], 'key2': ['value3', 'value4', 'value5']}\n"
          ],
          "name": "stdout"
        }
      ]
    },
    {
      "cell_type": "code",
      "metadata": {
        "colab": {
          "base_uri": "https://localhost:8080/"
        },
        "id": "s_DZL1CS_YxJ",
        "outputId": "f5985508-5c86-4c07-a635-ea6926451d88"
      },
      "source": [
        "#A.update(B) : 딕셔너리 A에 딕셔너리 B의 키가 존재한다면, 기존 A의 (키,값)을 B의 (키,값)으로 갱신한다\r\n",
        "#              만약 없다면, B의 (키,값)을 A에 추가한다.\r\n",
        "\r\n",
        "d = {'a':1, 'b':2}\r\n",
        "d.update({'b':10})\r\n",
        "print(d)\r\n",
        "\r\n",
        "d.update({'c':100})\r\n",
        "print(d)"
      ],
      "execution_count": null,
      "outputs": [
        {
          "output_type": "stream",
          "text": [
            "{'a': 1, 'b': 10}\n",
            "{'a': 1, 'b': 10, 'c': 100}\n"
          ],
          "name": "stdout"
        }
      ]
    },
    {
      "cell_type": "code",
      "metadata": {
        "colab": {
          "base_uri": "https://localhost:8080/"
        },
        "id": "QUsmTKra_9oS",
        "outputId": "9a5d06d1-6691-40d1-b22b-2a02a5f56f1d"
      },
      "source": [
        "#A.get(key) : 딕셔너리 A의 key에 해당하는 value를 반환한다. key가 존재하지 않으면 반환하지 않는다\r\n",
        "\r\n",
        "sunnydale = dict(name = '잰더', age = 17, hobby = '게임')\r\n",
        "print(sunnydale.get(\"hobby\"))\r\n",
        "\r\n",
        "print(sunnydale['hobby'])\r\n",
        "\r\n",
        "print(sunnydale.get(\"hello\"))"
      ],
      "execution_count": null,
      "outputs": [
        {
          "output_type": "stream",
          "text": [
            "게임\n",
            "게임\n",
            "None\n"
          ],
          "name": "stdout"
        }
      ]
    },
    {
      "cell_type": "code",
      "metadata": {
        "colab": {
          "base_uri": "https://localhost:8080/"
        },
        "id": "vyebboLXAagm",
        "outputId": "da3a51af-591e-434b-dc1c-a281f39c5062"
      },
      "source": [
        "#items(), keys(), values() 메서드는 딕셔너리의 항목을 조회하는 메서드이다. (읽기 전용이다)\r\n",
        "\r\n",
        "sunnydale = dict(name = '잰더', age = 17, hobby = '게임')\r\n",
        "print(sunnydale.items())\r\n",
        "\r\n",
        "print(sunnydale.values())\r\n",
        "\r\n",
        "print(sunnydale.keys())\r\n",
        "\r\n",
        "sunnydale_copy = sunnydale.items()\r\n",
        "#sunnydale_copy['address'] = \"서울\"      -> items()는 수정이 불가능한 객체이다\r\n",
        "\r\n",
        "sunnydale['address'] = \"서울\"\r\n",
        "print(sunnydale)"
      ],
      "execution_count": null,
      "outputs": [
        {
          "output_type": "stream",
          "text": [
            "dict_items([('name', '잰더'), ('age', 17), ('hobby', '게임')])\n",
            "dict_values(['잰더', 17, '게임'])\n",
            "dict_keys(['name', 'age', 'hobby'])\n",
            "{'name': '잰더', 'age': 17, 'hobby': '게임', 'address': '서울'}\n"
          ],
          "name": "stdout"
        }
      ]
    },
    {
      "cell_type": "code",
      "metadata": {
        "colab": {
          "base_uri": "https://localhost:8080/"
        },
        "id": "VObU5efLBQjq",
        "outputId": "0c7e95f9-d84f-4331-e102-ac9eb83c5b4f"
      },
      "source": [
        "#A.pop(key) : 딕셔너리 A의 key 항목을 제거한 후, 그 값을 반홚나다\r\n",
        "#A.popitem() : 딕셔너리 A에서 항목(키와 값 둘 다)을 제거한 후, 그 키와 항목을 반환한다.\r\n",
        "\r\n",
        "sunnydale = dict(name=\"잰더\", age=17, hobby='게임', address='서울')\r\n",
        "print(sunnydale.pop(\"age\"))\r\n",
        "\r\n",
        "print(sunnydale)\r\n",
        "\r\n",
        "print(sunnydale.popitem())\r\n",
        "\r\n",
        "print(sunnydale)"
      ],
      "execution_count": null,
      "outputs": [
        {
          "output_type": "stream",
          "text": [
            "17\n",
            "{'name': '잰더', 'hobby': '게임', 'address': '서울'}\n",
            "('address', '서울')\n",
            "{'name': '잰더', 'hobby': '게임'}\n"
          ],
          "name": "stdout"
        }
      ]
    },
    {
      "cell_type": "code",
      "metadata": {
        "colab": {
          "base_uri": "https://localhost:8080/"
        },
        "id": "39Hp7n9ZCIXy",
        "outputId": "1eeeb294-fa73-4fa5-81a7-94b1d49a2fe4"
      },
      "source": [
        "#clear : 딕셔너리의 모든 항목을 제거한다\r\n",
        "sunnydale.clear()\r\n",
        "print(sunnydale)"
      ],
      "execution_count": null,
      "outputs": [
        {
          "output_type": "stream",
          "text": [
            "{}\n"
          ],
          "name": "stdout"
        }
      ]
    },
    {
      "cell_type": "markdown",
      "metadata": {
        "id": "D7-pygtjC9sZ"
      },
      "source": [
        "딕셔너리와 리스트의 멤버십 연산을 테스트하는 과정\r\n",
        "- 멤버십 연산에 대한 시간 복잡도는 리스트는 O(n)인데, 딕셔너리는 O(1)이다."
      ]
    },
    {
      "cell_type": "code",
      "metadata": {
        "colab": {
          "base_uri": "https://localhost:8080/"
        },
        "id": "f-uWCodTCeCm",
        "outputId": "25d53d37-a369-47c2-a856-bfb4899b0848"
      },
      "source": [
        "import timeit\r\n",
        "import random\r\n",
        "\r\n",
        "for i in range(10000, 100001, 20000):\r\n",
        "    t = timeit.Timer(\"random.randrange(%d) in x\" % i, \"from __main__ import random, x\")\r\n",
        "    \r\n",
        "    x = list(range(i))      #리스트\r\n",
        "    lst_time = t.timeit(number=1000)\r\n",
        "    \r\n",
        "    x = {j : None for j in range(i)}        #딕셔너리\r\n",
        "    d_time = t.timeit(number=1000)\r\n",
        "\r\n",
        "    print(\"%d,%10.3f,%10.3f\" % (i, lst_time, d_time))"
      ],
      "execution_count": null,
      "outputs": [
        {
          "output_type": "stream",
          "text": [
            "10000,     0.085,     0.001\n",
            "30000,     0.242,     0.001\n",
            "50000,     0.405,     0.001\n",
            "70000,     0.555,     0.001\n",
            "90000,     0.719,     0.001\n"
          ],
          "name": "stdout"
        }
      ]
    },
    {
      "cell_type": "markdown",
      "metadata": {
        "id": "m_rjhjQ-D76E"
      },
      "source": [
        "딕셔너리 순회\r\n",
        "- 반복문에서 순회할 때는 기본적으로 키를 사용한다\r\n",
        "- 원래 순서가 없지만, sorted()함수를 사용하면 정렬된 상태로 순회할 수 있다\r\n",
        "- sorted() 함수는 딕셔너리의 keys(), values(), items()에 사용할 수 있다"
      ]
    },
    {
      "cell_type": "code",
      "metadata": {
        "colab": {
          "base_uri": "https://localhost:8080/"
        },
        "id": "6Z4iU4cIDx3O",
        "outputId": "2553808a-19c4-4f31-d184-98bb5dee8278"
      },
      "source": [
        "d = dict(c=\"!\", b=\"world\", a=\"hello\")\r\n",
        "for key in sorted(d.keys()):            #d의 key를 기준으로 반복한다 / 근데 임의의 순서대로가 아니고 sorted()를 사용했으므로\r\n",
        "                                        #key를 정렬 시킨 다음에 반복한다\r\n",
        "    print(key, d[key])"
      ],
      "execution_count": null,
      "outputs": [
        {
          "output_type": "stream",
          "text": [
            "a hello\n",
            "b world\n",
            "c !\n"
          ],
          "name": "stdout"
        }
      ]
    },
    {
      "cell_type": "code",
      "metadata": {
        "id": "Zr2oSNE5EWcL"
      },
      "source": [
        "#딕셔너리 분기 : 두 함수를 조건에 따라 실행해야 한다고 가정\r\n",
        "def hello():\r\n",
        "    print(\"hello\")\r\n",
        "\r\n",
        "def world():\r\n",
        "    print(\"world\")"
      ],
      "execution_count": null,
      "outputs": []
    },
    {
      "cell_type": "code",
      "metadata": {
        "colab": {
          "base_uri": "https://localhost:8080/"
        },
        "id": "0ObmSW2hE-Eh",
        "outputId": "8f469e7b-bb38-4a0e-fc7c-8edd320ac00b"
      },
      "source": [
        "action = \"h\"\r\n",
        "\r\n",
        "if action == \"h\":\r\n",
        "    hello()\r\n",
        "elif action == \"w\":\r\n",
        "    world()"
      ],
      "execution_count": null,
      "outputs": [
        {
          "output_type": "stream",
          "text": [
            "hello\n"
          ],
          "name": "stdout"
        }
      ]
    },
    {
      "cell_type": "code",
      "metadata": {
        "colab": {
          "base_uri": "https://localhost:8080/"
        },
        "id": "YuFdAuMDFIMH",
        "outputId": "6db0016f-9c47-49a2-ecbb-7d85206be49b"
      },
      "source": [
        "functions = dict(h=hello, w=world)\r\n",
        "functions[action]()"
      ],
      "execution_count": null,
      "outputs": [
        {
          "output_type": "stream",
          "text": [
            "hello\n"
          ],
          "name": "stdout"
        }
      ]
    },
    {
      "cell_type": "markdown",
      "metadata": {
        "id": "YzH95oP8KJi_"
      },
      "source": [
        "3.3 파이썬 컬렉션 데이터 타입"
      ]
    },
    {
      "cell_type": "markdown",
      "metadata": {
        "id": "RdpncXxmLKi-"
      },
      "source": [
        "3.3.1 기본 딕셔너리"
      ]
    },
    {
      "cell_type": "code",
      "metadata": {
        "id": "Ejg-aAyPFP5B",
        "colab": {
          "base_uri": "https://localhost:8080/"
        },
        "outputId": "42378023-9653-430b-e18d-e9ec5a30ada5"
      },
      "source": [
        "from collections import defaultdict\r\n",
        "\r\n",
        "def defaultdict_example():\r\n",
        "    pairs = {(\"a\",1), (\"b\",2), (\"c\",3)}\r\n",
        "\r\n",
        "    #일반 딕셔너리\r\n",
        "    d1 = {}\r\n",
        "    for key, value in pairs :\r\n",
        "        if key not in d1 :\r\n",
        "            d1[key] = []            #d1[key]를 저장하는 리스트가 없으면 미리 만들어야하는데\r\n",
        "        d1[key].append(value)\r\n",
        "    print(d1)\r\n",
        "\r\n",
        "    #defaultdict\r\n",
        "    d2 = defaultdict(list)\r\n",
        "    for key, value in pairs :\r\n",
        "        d2[key].append(value)       #여기는 그냥 append만 하면됨... 원래 있으니까\r\n",
        "    print(d2)\r\n",
        "\r\n",
        "if __name__ == \"__main__\":\r\n",
        "    defaultdict_example()"
      ],
      "execution_count": null,
      "outputs": [
        {
          "output_type": "stream",
          "text": [
            "{'c': [3], 'a': [1], 'b': [2]}\n",
            "defaultdict(<class 'list'>, {'c': [3], 'a': [1], 'b': [2]})\n"
          ],
          "name": "stdout"
        }
      ]
    },
    {
      "cell_type": "markdown",
      "metadata": {
        "id": "b9VZt8bzLNfm"
      },
      "source": [
        "3.3.2 정렬된 딕셔너리\r\n",
        "\r\n",
        "삽입 순서대로 항목을 저장(근데 파이선 3.7부터는 표준 딕셔너리도 순서 보존함)"
      ]
    },
    {
      "cell_type": "code",
      "metadata": {
        "colab": {
          "base_uri": "https://localhost:8080/"
        },
        "id": "c4ZcyUibKzXm",
        "outputId": "0224814b-5e23-4de4-d7da-4042dfff1a90"
      },
      "source": [
        "from collections import OrderedDict\r\n",
        "tasks = OrderedDict()\r\n",
        "tasks[8031] = \"백업\"\r\n",
        "tasks[4027] = \"이메일 스캔\"\r\n",
        "print(tasks)"
      ],
      "execution_count": null,
      "outputs": [
        {
          "output_type": "stream",
          "text": [
            "OrderedDict([(8031, '백업'), (4027, '이메일 스캔')])\n"
          ],
          "name": "stdout"
        }
      ]
    },
    {
      "cell_type": "code",
      "metadata": {
        "colab": {
          "base_uri": "https://localhost:8080/"
        },
        "id": "WkPLndAYLmRH",
        "outputId": "a6303d5a-860e-4c6b-931c-20e62196106f"
      },
      "source": [
        "from collections import OrderedDict\r\n",
        "\r\n",
        "def orderedDict_example():\r\n",
        "    pairs = [(\"c\",1), (\"b\",2), (\"a\",3)]\r\n",
        "\r\n",
        "    #일반 딕셔너리\r\n",
        "    d1 = {}\r\n",
        "    for key, value in pairs:\r\n",
        "        if key not in d1 :\r\n",
        "            d1[key] = []\r\n",
        "        d1[key].append(value)\r\n",
        "    for key in d1:\r\n",
        "        print(key, d1[key])\r\n",
        "    \r\n",
        "    #OrderedDict\r\n",
        "    d2 = OrderedDict(pairs)\r\n",
        "    for key in d2:\r\n",
        "        print(key, d2[key])\r\n",
        "\r\n",
        "if __name__ == \"__main__\":\r\n",
        "        orderedDict_example()\r\n",
        "\r\n",
        "#정렬된 딕셔너리를 사용하는 것은 딕셔너리를 여러번 순회할 것 같은 경우나 항목의 삽입을 거의 수행하지\r\n",
        "#않을 것 같은 경우에만 효율적이다"
      ],
      "execution_count": null,
      "outputs": [
        {
          "output_type": "stream",
          "text": [
            "c [1]\n",
            "b [2]\n",
            "a [3]\n",
            "c 1\n",
            "b 2\n",
            "a 3\n"
          ],
          "name": "stdout"
        }
      ]
    },
    {
      "cell_type": "markdown",
      "metadata": {
        "id": "nAFccdRvMhS4"
      },
      "source": [
        "3.3.3 카운터 딕셔너리\r\n",
        "\r\n",
        "카운팅에 특화된 서브클래스"
      ]
    },
    {
      "cell_type": "code",
      "metadata": {
        "colab": {
          "base_uri": "https://localhost:8080/"
        },
        "id": "8hscLaG7MIbu",
        "outputId": "d5c4bf83-10e3-444f-9366-a2ac47e587ab"
      },
      "source": [
        "from collections import Counter\r\n",
        "\r\n",
        "def counter_example():\r\n",
        "    \"\"\"항목의 발생 횟수를 매핑하는 딕셔너리를 생성한다.\"\"\"\r\n",
        "    seq1 = [1,2,3,5,1,2,5,5,2,5,1,4]\r\n",
        "    seq_counts = Counter(seq1)\r\n",
        "    print(seq_counts)\r\n",
        "\r\n",
        "    \"\"\"항목의 발생횟수를 수동으로 갱신하거나, update() 메서드를 사용할수있다\"\"\"\r\n",
        "    seq2 = [1,2,3]\r\n",
        "    seq_counts.update(seq2)         #갱신\r\n",
        "    print(seq_counts)\r\n",
        "\r\n",
        "    seq3 = [1,4,3]\r\n",
        "    for key in seq3:\r\n",
        "        seq_counts[key] += 1        #갱신\r\n",
        "    print(seq_counts)\r\n",
        "\r\n",
        "    \"\"\"a+b, a-b 같은 셋 연산을 사용할 수 있다\"\"\"\r\n",
        "    seq_counts_2 = Counter(seq3)\r\n",
        "    print(seq_counts_2)\r\n",
        "    print(seq_counts + seq_counts_2)        #합집합\r\n",
        "    print(seq_counts - seq_counts_2)        #차집합\r\n",
        "\r\n",
        "if __name__ == \"__main__\":\r\n",
        "    counter_example()"
      ],
      "execution_count": null,
      "outputs": [
        {
          "output_type": "stream",
          "text": [
            "Counter({5: 4, 1: 3, 2: 3, 3: 1, 4: 1})\n",
            "Counter({1: 4, 2: 4, 5: 4, 3: 2, 4: 1})\n",
            "Counter({1: 5, 2: 4, 5: 4, 3: 3, 4: 2})\n",
            "Counter({1: 1, 4: 1, 3: 1})\n",
            "Counter({1: 6, 2: 4, 3: 4, 5: 4, 4: 3})\n",
            "Counter({1: 4, 2: 4, 5: 4, 3: 2, 4: 1})\n"
          ],
          "name": "stdout"
        }
      ]
    },
    {
      "cell_type": "markdown",
      "metadata": {
        "id": "MSMlSXYuNvNd"
      },
      "source": [
        "3.4 연습문제"
      ]
    },
    {
      "cell_type": "markdown",
      "metadata": {
        "id": "AOXf4pumNxwq"
      },
      "source": [
        "3.4.1 단어 횟수 세기\r\n",
        "\r\n",
        "most_common()메서드를 이용하면 횟수를 쉽게 찾을 수 있다"
      ]
    },
    {
      "cell_type": "code",
      "metadata": {
        "colab": {
          "base_uri": "https://localhost:8080/"
        },
        "id": "sViH0DXtNtoa",
        "outputId": "0d28c335-b948-4cd3-9921-2bbc44a12a8a"
      },
      "source": [
        "from collections import Counter\r\n",
        "\r\n",
        "def find_top_N_recurring_words(seq, N):\r\n",
        "    dcounter = Counter()\r\n",
        "    for word in seq.split():\r\n",
        "        dcounter[word] += 1\r\n",
        "    return dcounter.most_common(N)          #많이 나오는 순서대로 해서 N 번째까지 출력\r\n",
        "\r\n",
        "def test_find_top_N_recurring_words():\r\n",
        "    seq = \"버피 에인절 몬스터 잰더 윌료 버피 몬스터 슈퍼 버피 에인절\"\r\n",
        "    N = 3\r\n",
        "    assert(find_top_N_recurring_words(seq, N) == [(\"버피\",3), (\"에인절\",2),(\"몬스터\",2)])\r\n",
        "    print(\"테스트 통과!\")\r\n",
        "\r\n",
        "if __name__==\"__main__\":\r\n",
        "    test_find_top_N_recurring_words()"
      ],
      "execution_count": null,
      "outputs": [
        {
          "output_type": "stream",
          "text": [
            "테스트 통과!\n"
          ],
          "name": "stdout"
        }
      ]
    },
    {
      "cell_type": "markdown",
      "metadata": {
        "id": "Cnk9ZyEgPCA9"
      },
      "source": [
        "3.4.2 애너그램"
      ]
    },
    {
      "cell_type": "markdown",
      "metadata": {
        "id": "IPh4fc-9SOGf"
      },
      "source": [
        "방법1\r\n",
        "첫 번째 문자열의 문자 발생횟수에서 두 번째 문자열의 문자 발생횟수를 빼서 모두 0인지 확인"
      ]
    },
    {
      "cell_type": "code",
      "metadata": {
        "colab": {
          "base_uri": "https://localhost:8080/"
        },
        "id": "x5UyDDIWPAnm",
        "outputId": "0f50e058-d39c-4301-f1f9-c3ebf70480f0"
      },
      "source": [
        "from collections import Counter\r\n",
        "\r\n",
        "def is_anagram(s1, s2):\r\n",
        "    counter = Counter()\r\n",
        "    for c in s1:\r\n",
        "        counter[c] += 1           #s1 문자열을 카운팅해서 하나씩 더하고\r\n",
        "    for c in s2:\r\n",
        "        counter[c] -= 1           #s2 문자열을 카운팅해서 하나씩 뺀다\r\n",
        "\r\n",
        "    for i in counter.values():      # 모든 요소에 대해서 카운팅 값이 0이어야 애너그램이다\r\n",
        "        if i :\r\n",
        "            return False\r\n",
        "    return True\r\n",
        "\r\n",
        "def test_is_anagram():\r\n",
        "    s1 = \"marina\"\r\n",
        "    s2 = \"aniram\"\r\n",
        "    assert(is_anagram(s1, s2) is True)\r\n",
        "\r\n",
        "    s1 = \"google\"\r\n",
        "    s2 = \"gouglo\"\r\n",
        "    assert(is_anagram(s1, s2) is False)               #is_anagram()에서 마지막 return 들여쓰기\r\n",
        "\r\n",
        "    print(\"테스트 통과!\")\r\n",
        "\r\n",
        "if __name__ == \"__main__\":\r\n",
        "    test_is_anagram()"
      ],
      "execution_count": null,
      "outputs": [
        {
          "output_type": "stream",
          "text": [
            "테스트 통과!\n"
          ],
          "name": "stdout"
        }
      ]
    },
    {
      "cell_type": "markdown",
      "metadata": {
        "id": "vyUiwtwnSYEF"
      },
      "source": [
        "방법2\r\n",
        "\r\n",
        "ord() 함수를 이용해서 ord()함수 값을 모두 더했을 때 결과가 같으면 애너그램이다"
      ]
    },
    {
      "cell_type": "code",
      "metadata": {
        "colab": {
          "base_uri": "https://localhost:8080/",
          "height": 335
        },
        "id": "sPL_PRj3QttX",
        "outputId": "bda2134f-1041-42ee-a1e1-1137c3a3b0ab"
      },
      "source": [
        "import string\r\n",
        "\r\n",
        "def hash_func(astring):\r\n",
        "    s = 0\r\n",
        "    for one in astring:\r\n",
        "        if one in string.whitespace:\r\n",
        "            continue\r\n",
        "        s = s + ord(one)        #유니코드를 나타내는 정수를 계속 더해간다\r\n",
        "    return s\r\n",
        "\r\n",
        "def find_anagram_hash_function(word1, word2):\r\n",
        "    return hash_func(word1) == hash_func(word2)\r\n",
        "\r\n",
        "def test_find_anagram_hash_function():\r\n",
        "    word1 = \"ac\"\r\n",
        "    word2 = \"bb\"\r\n",
        "    word3 = \"bffya\"\r\n",
        "    assert(find_anagram_hash_function(word1, word2) is False)\r\n",
        "    assert(find_anagram_hash_function(word1, word3) is False)\r\n",
        "    print(\"테스트 통과!\")\r\n",
        "\r\n",
        "if __name__ == \"__main__\":\r\n",
        "    test_find_anagram_hash_function()"
      ],
      "execution_count": 2,
      "outputs": [
        {
          "output_type": "error",
          "ename": "AssertionError",
          "evalue": "ignored",
          "traceback": [
            "\u001b[0;31m---------------------------------------------------------------------------\u001b[0m",
            "\u001b[0;31mAssertionError\u001b[0m                            Traceback (most recent call last)",
            "\u001b[0;32m<ipython-input-2-8082f7158eee>\u001b[0m in \u001b[0;36m<module>\u001b[0;34m()\u001b[0m\n\u001b[1;32m     21\u001b[0m \u001b[0;34m\u001b[0m\u001b[0m\n\u001b[1;32m     22\u001b[0m \u001b[0;32mif\u001b[0m \u001b[0m__name__\u001b[0m \u001b[0;34m==\u001b[0m \u001b[0;34m\"__main__\"\u001b[0m\u001b[0;34m:\u001b[0m\u001b[0;34m\u001b[0m\u001b[0;34m\u001b[0m\u001b[0m\n\u001b[0;32m---> 23\u001b[0;31m     \u001b[0mtest_find_anagram_hash_function\u001b[0m\u001b[0;34m(\u001b[0m\u001b[0;34m)\u001b[0m\u001b[0;34m\u001b[0m\u001b[0;34m\u001b[0m\u001b[0m\n\u001b[0m",
            "\u001b[0;32m<ipython-input-2-8082f7158eee>\u001b[0m in \u001b[0;36mtest_find_anagram_hash_function\u001b[0;34m()\u001b[0m\n\u001b[1;32m     16\u001b[0m     \u001b[0mword2\u001b[0m \u001b[0;34m=\u001b[0m \u001b[0;34m\"bb\"\u001b[0m\u001b[0;34m\u001b[0m\u001b[0;34m\u001b[0m\u001b[0m\n\u001b[1;32m     17\u001b[0m     \u001b[0mword3\u001b[0m \u001b[0;34m=\u001b[0m \u001b[0;34m\"bffya\"\u001b[0m\u001b[0;34m\u001b[0m\u001b[0;34m\u001b[0m\u001b[0m\n\u001b[0;32m---> 18\u001b[0;31m     \u001b[0;32massert\u001b[0m\u001b[0;34m(\u001b[0m\u001b[0mfind_anagram_hash_function\u001b[0m\u001b[0;34m(\u001b[0m\u001b[0mword1\u001b[0m\u001b[0;34m,\u001b[0m \u001b[0mword2\u001b[0m\u001b[0;34m)\u001b[0m \u001b[0;32mis\u001b[0m \u001b[0;32mFalse\u001b[0m\u001b[0;34m)\u001b[0m\u001b[0;34m\u001b[0m\u001b[0;34m\u001b[0m\u001b[0m\n\u001b[0m\u001b[1;32m     19\u001b[0m     \u001b[0;32massert\u001b[0m\u001b[0;34m(\u001b[0m\u001b[0mfind_anagram_hash_function\u001b[0m\u001b[0;34m(\u001b[0m\u001b[0mword1\u001b[0m\u001b[0;34m,\u001b[0m \u001b[0mword3\u001b[0m\u001b[0;34m)\u001b[0m \u001b[0;32mis\u001b[0m \u001b[0;32mFalse\u001b[0m\u001b[0;34m)\u001b[0m\u001b[0;34m\u001b[0m\u001b[0;34m\u001b[0m\u001b[0m\n\u001b[1;32m     20\u001b[0m     \u001b[0mprint\u001b[0m\u001b[0;34m(\u001b[0m\u001b[0;34m\"테스트 통과!\"\u001b[0m\u001b[0;34m)\u001b[0m\u001b[0;34m\u001b[0m\u001b[0;34m\u001b[0m\u001b[0m\n",
            "\u001b[0;31mAssertionError\u001b[0m: "
          ]
        }
      ]
    },
    {
      "cell_type": "markdown",
      "metadata": {
        "id": "WCeHtL3LTfl0"
      },
      "source": [
        "3.4.3 주사위 합계 경로\r\n",
        "\r\n",
        "주사위를 두 번 던져서 합계가 특정 수가 나오는 경우의 수와 경로를 구하자"
      ]
    },
    {
      "cell_type": "code",
      "metadata": {
        "colab": {
          "base_uri": "https://localhost:8080/"
        },
        "id": "3HjwYCdjTT8j",
        "outputId": "00a3abb3-8d70-4c08-e40a-559f9d453eec"
      },
      "source": [
        "from collections import Counter, defaultdict\r\n",
        "\r\n",
        "def find_dice_probabilities(S, n_faces=6):\r\n",
        "    if S > 2*n_faces or S < 2:\r\n",
        "        return None\r\n",
        "    \r\n",
        "    cdict = Counter()       #경우의 수를 반환하기 위한 카운터 객체\r\n",
        "    ddict = defaultdict(list)\r\n",
        "\r\n",
        "    # 두 주사위의 합을 모두 더해서 딕셔너리에 넣는다.\r\n",
        "    for dice1 in range(1, n_faces + 1):\r\n",
        "        for dice2 in range(1, n_faces + 1):\r\n",
        "            t = [dice1, dice2]\r\n",
        "            cdict[dice1+dice2] += 1             #합이 나올때마다 그 경우의 수에 1을 더한다\r\n",
        "            ddict[dice1+dice2].append(t)        #그 경우의 수일 때의 주사위의 눈을 ddict에 추가한다\r\n",
        "    \r\n",
        "    return [cdict[S], ddict[S]]\r\n",
        "\r\n",
        "def test_find_dice_probabilities():\r\n",
        "    n_faces = 6\r\n",
        "    S = 5\r\n",
        "    results = find_dice_probabilities(S, n_faces)\r\n",
        "    print(results)\r\n",
        "    assert(results[0] == len(results[1]))       #results[1]이라는 리스트가 모든 경우의 수를 담고있는 리스트이다\r\n",
        "    print(\"테스트 통과!\")\r\n",
        "\r\n",
        "if __name__ == \"__main__\":\r\n",
        "    test_find_dice_probabilities()"
      ],
      "execution_count": null,
      "outputs": [
        {
          "output_type": "stream",
          "text": [
            "[4, [[1, 4], [2, 3], [3, 2], [4, 1]]]\n",
            "테스트 통과!\n"
          ],
          "name": "stdout"
        }
      ]
    },
    {
      "cell_type": "markdown",
      "metadata": {
        "id": "07vDaGE9WTUK"
      },
      "source": [
        "3.4.4 단어의 중복 문자 제거"
      ]
    },
    {
      "cell_type": "code",
      "metadata": {
        "colab": {
          "base_uri": "https://localhost:8080/"
        },
        "id": "6hT8ASaJWNqo",
        "outputId": "1e15de42-df72-413b-a489-891e39f8dde5"
      },
      "source": [
        "import string\r\n",
        "\r\n",
        "def delete_unique_word(str1):\r\n",
        "    table_c = {key: 0 for key in string.ascii_lowercase}        #모든 소문자를 key 값으로 갖는 table_c라는 것을 만들고, value를 0으로 초기화한다\r\n",
        "    for i in str1:\r\n",
        "        table_c[i] += 1         #str1의 문자가 있을때 1씩 카운팅을 늘린다\r\n",
        "\r\n",
        "    for key, value in table_c.items():\r\n",
        "        if value > 1:\r\n",
        "            str1 = str1.replace(key, \"\")            #결론적으로 문자열에서 2번이상 나오는 문자는 없앤다\r\n",
        "    return str1\r\n",
        "\r\n",
        "def test_delete_unique_word():\r\n",
        "    str1 = \"google\"\r\n",
        "    assert(delete_unique_word(str1) == \"le\")\r\n",
        "    print(\"테스트 통과!\")\r\n",
        "\r\n",
        "if __name__ == \"__main__\":\r\n",
        "    test_delete_unique_word()"
      ],
      "execution_count": null,
      "outputs": [
        {
          "output_type": "stream",
          "text": [
            "테스트 통과!\n"
          ],
          "name": "stdout"
        }
      ]
    },
    {
      "cell_type": "code",
      "metadata": {
        "id": "1Vfnh-1yW7ZE"
      },
      "source": [
        ""
      ],
      "execution_count": null,
      "outputs": []
    }
  ]
}