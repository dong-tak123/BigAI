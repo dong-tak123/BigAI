{
  "nbformat": 4,
  "nbformat_minor": 0,
  "metadata": {
    "colab": {
      "name": "Chapter5. 객체지향 설계",
      "provenance": [],
      "collapsed_sections": []
    },
    "kernelspec": {
      "name": "python3",
      "display_name": "Python 3"
    }
  },
  "cells": [
    {
      "cell_type": "markdown",
      "metadata": {
        "id": "1vS5NvN4A1TE"
      },
      "source": [
        "객체를 만들 때 유효성 검사를 할 수 없다는 것은 순수할 절차적 프로그래밍 방식의 매우 좋지 않은 측면!!\n",
        "\n",
        "따라서우리가기대하는 속성만 가진 객체를 만들어야함..그 말은 데이터를 패키지화하고, 메서드를 제한한다는 말이다.\n",
        "\n",
        "이게 바로 객체지향 프로그래밍이다.\n",
        "\n",
        "==> ex) 원을 나타낼 자신만의 고유한 데이터 타입, 즉 클래스를 만들어야한다.!!"
      ]
    },
    {
      "cell_type": "markdown",
      "metadata": {
        "id": "xcnkkMTLDH3e"
      },
      "source": [
        "클래스 : 사전에 정의된 특별한 데이터와 메서드의 집합\n",
        "\n",
        "객체 : 클래스에 선언된 모양 그대로 생성된 실체\n",
        "\n",
        "인스턴스 : 소프트웨어에 실체화될 때, 그 실체를 의미함 ( 클래스와 객체의 관계를 나타낼때 쓰는게 더 자연스러움 ex) a 객체는 Cookies 클래스의 인스턴스이다"
      ]
    },
    {
      "cell_type": "code",
      "metadata": {
        "colab": {
          "base_uri": "https://localhost:8080/"
        },
        "id": "Uz-gayQTHB-i",
        "outputId": "e2a2a6ca-cc76-4451-d9b6-bc80c92150b6"
      },
      "source": [
        "class ClassName :\n",
        "    #문장 1\n",
        "    #문장 n\n",
        "    pass\n",
        "\n",
        "x = ClassName()\n",
        "x"
      ],
      "execution_count": null,
      "outputs": [
        {
          "output_type": "execute_result",
          "data": {
            "text/plain": [
              "<__main__.ClassName at 0x7f5c1b159ad0>"
            ]
          },
          "metadata": {
            "tags": []
          },
          "execution_count": 1
        }
      ]
    },
    {
      "cell_type": "markdown",
      "metadata": {
        "id": "x-qo6F8aFL7s"
      },
      "source": [
        "5.1.1 클래스 인스턴스 생성\n",
        "\n",
        "함수 표기법을 사용하여 초기 상태의 객체를 생성하는 일\n",
        "\n",
        "인스턴스 생성 작업 : 어떤 특징을 가진 빈 객체를 만드는 것\n",
        "\n",
        "- 속성 : 데이터 + 메서드\n",
        "\n",
        "    모듈명.함수명 과 같은 표현식에서 모듈명은 모듈 객체이고,함수명은 객체의 속성 중 하나\n",
        "\n",
        "- 네임스페이스\n",
        "    \n",
        "    이름을 객체로 매핑하는 것\n",
        "    \n",
        "    대부분 파이썬 딕셔너리로 구현되어 있음\n",
        "\n",
        "    참조 : https://wikidocs.net/23109\n",
        "\n",
        "- 스코프\n",
        "\n",
        "    네임스페이스에 직접 접근할 수 있는 파이썬 프로그램의 텍스트 영역\n",
        "\n",
        "    정적으로 결정되지만, 동적으로 사용됨\n",
        "\n",
        "    참조 : https://iot-lab.tistory.com/129\n",
        "\n",
        "클래스 정의가 실행되면, 새로운 네임스페이스가 만들어지고, 지역 스코프로 사용된다."
      ]
    },
    {
      "cell_type": "markdown",
      "metadata": {
        "id": "m5rdRryRPvfc"
      },
      "source": [
        "%% 네임스페이스\n",
        "\n",
        "함수에서 각 변수에 뭐가 저장되어 있는지가 파이썬 딕셔너리 형태로 저장된다\n",
        "\n",
        "함수마다 각각 다른 네임스페이스를 가지는데, 하위함수에서는 상위함수의 네임스페이스를 참조할 수 있지만, 그 반대는 불가능!\n",
        "\n",
        "외부 네임스페이스의 변수의 값을 바꾸고 싶다면?? -> global 또는 nonlacal키워드를 사용하면 된다!!"
      ]
    },
    {
      "cell_type": "markdown",
      "metadata": {
        "id": "Ldu5smca4Zzv"
      },
      "source": [
        ""
      ]
    },
    {
      "cell_type": "code",
      "metadata": {
        "colab": {
          "base_uri": "https://localhost:8080/"
        },
        "id": "rfjCOp2M3-ME",
        "outputId": "3bd0295e-ca04-4b7c-f305-4769802c7da0"
      },
      "source": [
        "x = 1\n",
        "\n",
        "def test():\n",
        "    x = 2\n",
        "\n",
        "test()\n",
        "print(x)\n",
        "\n",
        "#파이썬에서 변수 찾는 순서 : 자기있는 메서드에서 찾고, 없으면 점점 상위 메서드로 감\n",
        "#                            좁은 곳에서 넓은 곳으로.."
      ],
      "execution_count": null,
      "outputs": [
        {
          "output_type": "stream",
          "text": [
            "1\n"
          ],
          "name": "stdout"
        }
      ]
    },
    {
      "cell_type": "code",
      "metadata": {
        "colab": {
          "base_uri": "https://localhost:8080/"
        },
        "id": "-3ST6xHhRcn0",
        "outputId": "326c36fb-04d6-4a3c-8762-26934c0d341a"
      },
      "source": [
        "lang = \"jython\"\n",
        "def func():\n",
        "    lang = \"python\"\n",
        "    print(lang)\n",
        "\n",
        "func()          #내부함수의 lang\n",
        "print(lang)     #외부함수의 lang\n",
        "\n",
        "#지금은 안바뀜"
      ],
      "execution_count": null,
      "outputs": [
        {
          "output_type": "stream",
          "text": [
            "python\n",
            "jython\n"
          ],
          "name": "stdout"
        }
      ]
    },
    {
      "cell_type": "code",
      "metadata": {
        "colab": {
          "base_uri": "https://localhost:8080/"
        },
        "id": "NHLMufwZRtCV",
        "outputId": "51dbd08b-7c55-41d8-b32e-60ee9de5874b"
      },
      "source": [
        "lang = \"jython\"\n",
        "def func():\n",
        "    global lang         #외부함수의 lang을 불러옴\n",
        "    lang = \"python\"\n",
        "    print(lang)\n",
        "\n",
        "func()          #내부함수의 lang\n",
        "print(lang)     #외부함수의 lang\n",
        "\n",
        "#이제 바뀜뀜"
      ],
      "execution_count": null,
      "outputs": [
        {
          "output_type": "stream",
          "text": [
            "python\n",
            "python\n"
          ],
          "name": "stdout"
        }
      ]
    },
    {
      "cell_type": "markdown",
      "metadata": {
        "id": "Ba_CC07hG5Xl"
      },
      "source": [
        "5.2 객체지향 프로그래밍의 원리"
      ]
    },
    {
      "cell_type": "markdown",
      "metadata": {
        "id": "RwYTLx5CG7u2"
      },
      "source": [
        "5.2.1 특수화\n",
        "\n",
        "특수화 - 슈퍼(부모)클래스의 모든 속성을 상속하여 새 클래스를 만드는 절차\n",
        "\n",
        "모든 메서드는 서브(자식)클래스에서 재정의될 수 있다.\n",
        "\n",
        "상속은 is-a 관계다.\n",
        "\n",
        "ex) 사람클래스를 상속받는 학생클래스 -> '모든 학생은 사람이다'라는 명제는 성립하지만, '모든 사람은 학생이다'라는 명제는 성립하지 않음\n",
        "\n",
        "최상위 클래스에 대해서는 (object)를 명시하는 것을 권장한다"
      ]
    },
    {
      "cell_type": "code",
      "metadata": {
        "colab": {
          "base_uri": "https://localhost:8080/",
          "height": 225
        },
        "id": "aUOMon8QDvQz",
        "outputId": "d84930a6-e592-4525-fdcd-6e513a938720"
      },
      "source": [
        "# 최상위 클래스 명시\n",
        "\n",
        "class SampleClass(object):\n",
        "    pass\n",
        "\n",
        "class OuterClass(object):\n",
        "    class InnerClass(object):\n",
        "        pass\n",
        "\n",
        "class ChildClass(ParentClass):      #ChildClass는 최상위 클래스가 아니니까 ChildClass(object)를 쓰지 않는다\n",
        "    '''부모 클래스 상속'''"
      ],
      "execution_count": null,
      "outputs": [
        {
          "output_type": "error",
          "ename": "NameError",
          "evalue": "ignored",
          "traceback": [
            "\u001b[0;31m---------------------------------------------------------------------------\u001b[0m",
            "\u001b[0;31mNameError\u001b[0m                                 Traceback (most recent call last)",
            "\u001b[0;32m<ipython-input-2-cd0e9378de68>\u001b[0m in \u001b[0;36m<module>\u001b[0;34m()\u001b[0m\n\u001b[1;32m      8\u001b[0m         \u001b[0;32mpass\u001b[0m\u001b[0;34m\u001b[0m\u001b[0;34m\u001b[0m\u001b[0m\n\u001b[1;32m      9\u001b[0m \u001b[0;34m\u001b[0m\u001b[0m\n\u001b[0;32m---> 10\u001b[0;31m \u001b[0;32mclass\u001b[0m \u001b[0mChildClass\u001b[0m\u001b[0;34m(\u001b[0m\u001b[0mParentClass\u001b[0m\u001b[0;34m)\u001b[0m\u001b[0;34m:\u001b[0m      \u001b[0;31m#ChildClass는 최상위 클래스가 아니니까 ChildClass(object)를 쓰지 않는다\u001b[0m\u001b[0;34m\u001b[0m\u001b[0;34m\u001b[0m\u001b[0m\n\u001b[0m\u001b[1;32m     11\u001b[0m     \u001b[0;34m'''부모 클래스 상속'''\u001b[0m\u001b[0;34m\u001b[0m\u001b[0;34m\u001b[0m\u001b[0m\n",
            "\u001b[0;31mNameError\u001b[0m: name 'ParentClass' is not defined"
          ]
        }
      ]
    },
    {
      "cell_type": "markdown",
      "metadata": {
        "id": "dpVj4SRJKk2J"
      },
      "source": [
        "5.2.2 다형성\n",
        "\n",
        "메서드가 서브 클래스 내에서 재정의될 수 있다는 원리\n",
        "\n",
        "즉, 서브 클래스 객체에서 슈퍼 클래스와 동명의 메서드를 호출하면,서브 클래스에 정의된 메서드를 사용한다는 뜻이다.\n",
        "\n",
        "만약 슈퍼클래스의 메서드를 호출해야 한다면, 내장된 super() 메서드를 사용하여 호출할 수 있다."
      ]
    },
    {
      "cell_type": "code",
      "metadata": {
        "colab": {
          "base_uri": "https://localhost:8080/"
        },
        "id": "ZYuEfhrcH6a9",
        "outputId": "efcc7fce-d6dd-494c-d287-3461ed931fe1"
      },
      "source": [
        "# 파이썬에서 사용자 정의 클래스의 모든 객체는 기본적으로 해시 가능하다!\n",
        "#hash() 속성을 호출할 수 있다는 뜻이며, 불변 객체이다!\n",
        "\n",
        "class Symbol(object):\n",
        "    def __init__(self, value):\n",
        "        self.value = value\n",
        "\n",
        "if __name__ == \"__main__\":\n",
        "    x = Symbol(\"Py\")\n",
        "    y = Symbol(\"Py\")\n",
        "\n",
        "    symbols = set()\n",
        "    symbols.add(x)\n",
        "    symbols.add(y)\n",
        "\n",
        "    print(x is y)\n",
        "    print(x == y)       #원래 같아야하는데, 우리가 생각하는 같은거는 value값이고, 컴퓨터는 x,y객체 자체를 비교한다\n",
        "                        #print(x.value == y.value)를 하면 True가 나온다\n",
        "    print(len(symbols))"
      ],
      "execution_count": null,
      "outputs": [
        {
          "output_type": "stream",
          "text": [
            "False\n",
            "False\n",
            "2\n"
          ],
          "name": "stdout"
        }
      ]
    },
    {
      "cell_type": "code",
      "metadata": {
        "colab": {
          "base_uri": "https://localhost:8080/",
          "height": 244
        },
        "id": "CdGnb1PYLdvu",
        "outputId": "b9f98ae8-2dd2-422a-c3dd-75ac2b770c8e"
      },
      "source": [
        "# 위 코드의 두번째 세번째 결과를 고치기 위해 객체의 비교를 담당하는 __eq__()메서드를 재정의 하겟다.\n",
        "\n",
        "class Symbol(object):\n",
        "    def __init__(self, value):\n",
        "        self.value = value\n",
        "\n",
        "    def __eq__(self, other):\n",
        "        if isinstance(self, other.__class__):       #other.__class__는 other의 클래스가 뭐냐!라는 뜻이다\n",
        "            return self.value == other.value\n",
        "        else :\n",
        "            return NotImplemented\n",
        "\n",
        "if __name__ == \"__main__\":\n",
        "    x = Symbol(\"Py\")\n",
        "    y = Symbol(\"Py\")\n",
        "\n",
        "    symbols = set()\n",
        "    symbols.add(x)     #오류가 뜬다 -> 해시 불가능!! set이 불변 객체이기 때문에!\n",
        "    symbols.add(y)\n",
        "\n",
        "    print(x is y)\n",
        "    print(x == y)\n",
        "    print(len(symbols))\n",
        "\n",
        "# eq메서드를 재정의하니깐 Symbol 클래스가 해시 가능하지 않다고 에러가 발생함\n",
        "# -> 객체가 해시 가능하지 않다는 것은 가변객체라는 소리이다\n",
        "# 하지만 셋은 불변 객체이다.\n",
        "\n",
        "# 이거를 고치기 위해 __hash__() 메서드를 추가한다."
      ],
      "execution_count": null,
      "outputs": [
        {
          "output_type": "error",
          "ename": "TypeError",
          "evalue": "ignored",
          "traceback": [
            "\u001b[0;31m---------------------------------------------------------------------------\u001b[0m",
            "\u001b[0;31mTypeError\u001b[0m                                 Traceback (most recent call last)",
            "\u001b[0;32m<ipython-input-4-777b110e2af2>\u001b[0m in \u001b[0;36m<module>\u001b[0;34m()\u001b[0m\n\u001b[1;32m     16\u001b[0m \u001b[0;34m\u001b[0m\u001b[0m\n\u001b[1;32m     17\u001b[0m     \u001b[0msymbols\u001b[0m \u001b[0;34m=\u001b[0m \u001b[0mset\u001b[0m\u001b[0;34m(\u001b[0m\u001b[0;34m)\u001b[0m\u001b[0;34m\u001b[0m\u001b[0;34m\u001b[0m\u001b[0m\n\u001b[0;32m---> 18\u001b[0;31m     \u001b[0msymbols\u001b[0m\u001b[0;34m.\u001b[0m\u001b[0madd\u001b[0m\u001b[0;34m(\u001b[0m\u001b[0mx\u001b[0m\u001b[0;34m)\u001b[0m\u001b[0;34m\u001b[0m\u001b[0;34m\u001b[0m\u001b[0m\n\u001b[0m\u001b[1;32m     19\u001b[0m     \u001b[0msymbols\u001b[0m\u001b[0;34m.\u001b[0m\u001b[0madd\u001b[0m\u001b[0;34m(\u001b[0m\u001b[0my\u001b[0m\u001b[0;34m)\u001b[0m\u001b[0;34m\u001b[0m\u001b[0;34m\u001b[0m\u001b[0m\n\u001b[1;32m     20\u001b[0m \u001b[0;34m\u001b[0m\u001b[0m\n",
            "\u001b[0;31mTypeError\u001b[0m: unhashable type: 'Symbol'"
          ]
        }
      ]
    },
    {
      "cell_type": "code",
      "metadata": {
        "colab": {
          "base_uri": "https://localhost:8080/"
        },
        "id": "hCZunci_OEVd",
        "outputId": "4c4b4e0b-e8aa-4bd6-9c57-85c2cb9b7e01"
      },
      "source": [
        "class Symbol(object):\n",
        "    def __init__(self, value):\n",
        "        self.value = value\n",
        "\n",
        "    def __eq__(self, other):\n",
        "        if isinstance(self, other.__class__):\n",
        "            return self.value == other.value\n",
        "        else :\n",
        "            return NotImplemented\n",
        "\n",
        "    def __hash__(self):\n",
        "        return hash(self.value)     #해시가 안되니까 hash함수를 정의해준다\n",
        "    \n",
        "if __name__ == \"__main__\":\n",
        "    x = Symbol(\"Py\")\n",
        "    y = Symbol(\"Py\")\n",
        "\n",
        "    symbols = set()\n",
        "    symbols.add(x)          #이렇게만 하면 x 객체 자체를 add하는거다.. 그러니까 y 객체랑 다를 수 밖에 없다.\n",
        "    symbols.add(y)\n",
        "\n",
        "    print(x is y)\n",
        "    print(x == y)\n",
        "    print(len(symbols))"
      ],
      "execution_count": null,
      "outputs": [
        {
          "output_type": "stream",
          "text": [
            "False\n",
            "True\n",
            "1\n"
          ],
          "name": "stdout"
        }
      ]
    },
    {
      "cell_type": "markdown",
      "metadata": {
        "id": "yMdYF8osUD4o"
      },
      "source": [
        "5.2.3 합성과 집합화\n",
        "\n",
        "합성 : 한 클래스에서 다른 클래스의 인스턴스 변수를 포함하는 것을 말하고, 클래스 간의 관계를 나타낸다.\n",
        "\n",
        "\n",
        "\n",
        "대부분의 클래스는 다양한 타입의 인스턴스 변수를 가지고, 합성과 집합화를 사용한다.\n",
        "\n",
        "\n",
        "\n",
        "\n",
        "\n",
        "두 클래스 A,B 가정\n",
        "\n",
        "-> 합성은 서로의 의존성이 강하다 == 강한 생명주기를 갖는다 == 강한 연관관계를 맺는다  Ex) 집&방\n",
        "\n",
        "-> 집합화는 연관 관계가 있지만, 생명주기가 약하며 독립적이다  Ex) 학생 & 과목 (수강할 수도 있고 안 수강할 수도 있다)"
      ]
    },
    {
      "cell_type": "markdown",
      "metadata": {
        "id": "ftngQo2TU-WN"
      },
      "source": [
        "5.2.4 클래스 예제\n",
        "\n",
        "원의 데이터 컨테이너를 만들어 보자\n",
        "\n",
        "일반적인 데이터와 메서드 속성을 가진 점 클래스를 구현하고, 그 다음 상속을 이용해서 Circle 서브 클래스를 구현했다."
      ]
    },
    {
      "cell_type": "code",
      "metadata": {
        "id": "mTBhjvkWOijC"
      },
      "source": [
        "import math\n",
        "\n",
        "class Point(object):\n",
        "    def __init__(self, x = 0, y = 0):\n",
        "        self.x = x                      # 데이터 속성(attribute)\n",
        "        self.y = y\n",
        "\n",
        "    def distance_from_origin(self):     #메서드 속성\n",
        "        return math.hypot(self.x, self.y)\n",
        "    \n",
        "    def __eq__(self, other):        #self와 other을 비교            other: 객체들 중 self 빼고 남은거\n",
        "        return self.x == other.x and self.y == other.y          #둘다 같은게 참이면 참을 반환\n",
        "\n",
        "    def __repr__(self):\n",
        "        return \"point ({0.x!r}, {0.y!r})\".format(self)          #repr로 포매팅했다.\n",
        "    \n",
        "    def __str__(self):\n",
        "        return \"({0.x!r}, {0.y!r})\".format(self)\n",
        "\n",
        "class Circle(Point):\n",
        "    def __init__(self, radius, x=0, y=0):\n",
        "        super().__init__(x,y)       #생성 및 초기화     상속받은 Point클래스에 있는거임\n",
        "        self.radius = radius\n",
        "    \n",
        "    def edge_distance_from_origin(self):\n",
        "        return abs(self.distance_from_origin() - self.radius)\n",
        "    \n",
        "    def area(self):\n",
        "        return math.pi*(self.radius**2)\n",
        "    \n",
        "    def circumference(self):\n",
        "        return 2*math.pi*self.radius\n",
        "    \n",
        "    def __eq__(self, other):\n",
        "        return self.radius == other.radius and super().__eq__(other)\n",
        "\n",
        "    def __repr__(self):\n",
        "        return \"circle ({0.radius!r}, {0.x!r})\".format(self)\n",
        "\n",
        "    def __str__(self):\n",
        "        return repr(self)\n"
      ],
      "execution_count": null,
      "outputs": []
    },
    {
      "cell_type": "code",
      "metadata": {
        "colab": {
          "base_uri": "https://localhost:8080/"
        },
        "id": "YfbolqsAbxrj",
        "outputId": "198a14ec-1910-4dc0-f3c0-93e9f38b9fc0"
      },
      "source": [
        "#import ShapeClass as shape         ?? 모듈이 없다 ??\n",
        "#모듈을 불러올때 마운트!! 상당히 중요하다\n",
        "\n",
        "a = Point(3,4)\n",
        "\n",
        "c = Circle(3,2,1)\n",
        "\n",
        "print(a)\n",
        "\n",
        "print(repr(a))\n",
        "\n",
        "print(str(a))\n",
        "\n",
        "print(a.distance_from_origin())\n",
        "\n",
        "\n",
        "print(c)\n",
        "\n",
        "print(repr(c))\n",
        "\n",
        "print(str(c))\n",
        "\n",
        "print(c.circumference())\n",
        "\n",
        "print(c.edge_distance_from_origin())"
      ],
      "execution_count": null,
      "outputs": [
        {
          "output_type": "stream",
          "text": [
            "(3, 4)\n",
            "point (3, 4)\n",
            "(3, 4)\n",
            "5.0\n",
            "circle (3, 2)\n",
            "circle (3, 2)\n",
            "circle (3, 2)\n",
            "18.84955592153876\n",
            "0.7639320225002102\n"
          ],
          "name": "stdout"
        }
      ]
    },
    {
      "cell_type": "markdown",
      "metadata": {
        "id": "UbWMKv4Gqq0f"
      },
      "source": [
        "5.3 디자인 패턴"
      ]
    },
    {
      "cell_type": "code",
      "metadata": {
        "colab": {
          "base_uri": "https://localhost:8080/"
        },
        "id": "rKXrtxp5VhgU",
        "outputId": "6cfb07fb-bf12-4bdf-c361-071ff75346c8"
      },
      "source": [
        "import random\n",
        "n = 10\n",
        "temp = [n for n in range(n)]\n",
        "print(temp)\n",
        "for i in range(n+1):\n",
        "    temp[random.choice(temp)] = random.choice(temp)\n",
        "print(temp)"
      ],
      "execution_count": null,
      "outputs": [
        {
          "output_type": "stream",
          "text": [
            "[0, 1, 2, 3, 4, 5, 6, 7, 8, 9]\n",
            "[7, 7, 7, 8, 4, 1, 7, 1, 8, 7]\n"
          ],
          "name": "stdout"
        }
      ]
    },
    {
      "cell_type": "code",
      "metadata": {
        "colab": {
          "base_uri": "https://localhost:8080/"
        },
        "id": "BNqRxw8n1UOJ",
        "outputId": "a33ab114-9a76-411d-aab1-9a08529af733"
      },
      "source": [
        "#데커레이커 : @ 표기를 사용해 함수 또는 메서드의 변환을 우아하게 지정해주는 도구.\n",
        "\n",
        "import random\n",
        "import time\n",
        "\n",
        "def benchmark(func):\n",
        "    def wrapper(*args, **kwargs):\n",
        "        t = time.perf_counter()         #현재 시간 측정\n",
        "        res = func(*args, **kwargs)         \n",
        "        print(\"{0} {1}\".format(func.__name__, time.perf_counter()-t))       #time.perf_counter() - t : 함수가 호출되고 끝날때 까지 걸린 시간\n",
        "        return res\n",
        "    return wrapper\n",
        "\n",
        "@benchmark                      # random_tree함수를 이제 benchmark 데커레이션을 이용해서 함수를 바꾸지 않고\n",
        "                                # 시간을 한번 재보겟다!\n",
        "def random_tree(n):             #temp 를 랜덤하게 다시 정하는? 함수\n",
        "    temp = [n for n in range(n)]\n",
        "    for i in range(n+1):\n",
        "        temp[random.choice(temp)] = random.choice(temp)\n",
        "    return temp\n",
        "\n",
        "if __name__ == '__main__':\n",
        "    random_tree(1000)"
      ],
      "execution_count": null,
      "outputs": [
        {
          "output_type": "stream",
          "text": [
            "random_tree 0.001632892000003494\n"
          ],
          "name": "stdout"
        }
      ]
    },
    {
      "cell_type": "code",
      "metadata": {
        "colab": {
          "base_uri": "https://localhost:8080/"
        },
        "id": "SBWlebAi2I8a",
        "outputId": "19fe583f-6fd3-4117-824d-9e946e0fa490"
      },
      "source": [
        "#일반적으로 사용하는 classmethod , staticmethod 데커레이터\n",
        "\n",
        "\n",
        "class A(object):\n",
        "    _hello = True\n",
        "\n",
        "    def foo(self,x):\n",
        "        print(\"foo({0},{1}) 실행\".format(self, x))\n",
        "    \n",
        "    @classmethod            # 첫 번째 인자에 무적권 cls가 들어가야함... self와 비슷한 의미\n",
        "                            # 상속했을 때 현재 클래스 이용이 가능하다.\n",
        "    def class_foo(cls,x):\n",
        "        print(\"class_foo({0},{1}) 실행 : {2}\".format(cls, x, cls._hello))\n",
        "\n",
        "    @staticmethod           # 하지만 얘는 상속했을 때 부모 클래스의 속성값을 가져온다.\n",
        "    def static_foo(x):\n",
        "        print(\"static_foo({0}) 실행\".format(x))\n",
        "    \n",
        "if __name__ == '__main__':\n",
        "    a = A()\n",
        "    a.foo(1)\n",
        "    a.class_foo(2)\n",
        "    A.class_foo(2)\n",
        "    a.static_foo(3)\n",
        "    A.static_foo(3)\n",
        "    "
      ],
      "execution_count": null,
      "outputs": [
        {
          "output_type": "stream",
          "text": [
            "foo(<__main__.A object at 0x7f42e1af27d0>,1) 실행\n",
            "class_foo(<class '__main__.A'>,2) 실행 : True\n",
            "class_foo(<class '__main__.A'>,2) 실행 : True\n",
            "static_foo(3) 실행\n",
            "static_foo(3) 실행\n"
          ],
          "name": "stdout"
        }
      ]
    },
    {
      "cell_type": "markdown",
      "metadata": {
        "id": "p_BeL2gN3WQJ"
      },
      "source": [
        "5.3.2 옵서버 패턴\n",
        "\n",
        "특정 값을 유지하는 해심 객체를 갖고, 직렬화된 객체의 복사본을 생성하는 일부 옵서버(관찰자)가 있는 경우 유용하다.\n",
        "\n",
        "객체의 일대다 의존 관계에서 한 객체의 상태가 변경되면, 그 객체에 종속된 모든 객체에 내용을 통지하여 자동으로 상태를 갱신하는 방식이다.\n",
        "\n",
        "이런 패턴은 @property 데커레이터를 사용해서 구현할 수 있다."
      ]
    },
    {
      "cell_type": "code",
      "metadata": {
        "colab": {
          "base_uri": "https://localhost:8080/"
        },
        "id": "EDREl9aP3UJ2",
        "outputId": "f300786b-f2a2-44b8-c33b-d9abf8e815ef"
      },
      "source": [
        "class C :\n",
        "    def __init__(self, name):\n",
        "        self._name = name\n",
        "    \n",
        "    @property\n",
        "    def name(self):\n",
        "        return self._name\n",
        "    \n",
        "    @name.setter\n",
        "    def name(self, new_name):\n",
        "        self._name = \"{0} >> {1}\".format(self._name, new_name)\n",
        "\n",
        "c = C(\"진\")\n",
        "print(c._name)\n",
        "print(c.name)\n",
        "c.name = \"아스틴\"\n",
        "print(c.name)"
      ],
      "execution_count": null,
      "outputs": [
        {
          "output_type": "stream",
          "text": [
            "진\n",
            "진\n",
            "진 >> 아스틴\n"
          ],
          "name": "stdout"
        }
      ]
    },
    {
      "cell_type": "code",
      "metadata": {
        "colab": {
          "base_uri": "https://localhost:8080/"
        },
        "id": "3u2SfHnp4Z7M",
        "outputId": "f43c2020-8c19-4fc6-8cbb-a8300a65fc7a"
      },
      "source": [
        "#Publisher 클래스에서 셋을 사용해서 옵서버 패턴을 구현..\n",
        "class Subscriber(object):\n",
        "    def __init__(self, name):\n",
        "        self.name = name\n",
        "    \n",
        "    def update(self, message):\n",
        "        print(\"{0}, {1}\".format(self.name, message))\n",
        "\n",
        "class Publisher(object):\n",
        "    def __init__(self):\n",
        "        self.subscribers = set()        #초기에 빈 셋으로 설정한다.\n",
        "\n",
        "    def register(self, who):\n",
        "        self.subscribers.add(who)       #추가\n",
        "    \n",
        "    def unregister(self, who):\n",
        "        self.subscribers.discard(who)   #삭제\n",
        "    \n",
        "    def dispatch(self, message):\n",
        "        for subscriber in self.subscribers:         #subscribers 명단에 있는 사람 모두에 대해서\n",
        "            subscriber.update(message)\n",
        "        \n",
        "if __name__ == \"__main__\":\n",
        "    pub = Publisher()\n",
        "\n",
        "    astin = Subscriber(\"아스틴\")            #astin.name = 아스틴\n",
        "    james = Subscriber(\"제임스\")\n",
        "    jeff = Subscriber(\"제프\")\n",
        "\n",
        "    pub.register(astin)     #pub 셋에 아스틴 추가\n",
        "    pub.register(james)\n",
        "    pub.register(jeff)\n",
        "\n",
        "    pub.dispatch(\"점심시간입니다.\")\n",
        "    pub.unregister(jeff)        #pub 셋에 제프 제거\n",
        "    pub.dispatch(\"퇴근시간입니다.\")"
      ],
      "execution_count": null,
      "outputs": [
        {
          "output_type": "stream",
          "text": [
            "제프, 점심시간입니다.\n",
            "제임스, 점심시간입니다.\n",
            "아스틴, 점심시간입니다.\n",
            "제임스, 퇴근시간입니다.\n",
            "아스틴, 퇴근시간입니다.\n"
          ],
          "name": "stdout"
        }
      ]
    },
    {
      "cell_type": "code",
      "metadata": {
        "colab": {
          "base_uri": "https://localhost:8080/"
        },
        "id": "LxCBuPIx8hTo",
        "outputId": "16999f5d-5812-43b7-bc2d-fb14ed8463b2"
      },
      "source": [
        "#위의 내용을 딕셔너리로..\n",
        "#콜백이 뭔데...\n",
        "\n",
        "class SubscriberOne(object):\n",
        "    def __init__(self, name):\n",
        "        self.name = name\n",
        "\n",
        "    def update(self, message):\n",
        "        print(\"{0}, {1}\".format(self.name, message))\n",
        "    \n",
        "class SubscriberTwo(object):\n",
        "    def __init__(self,name):\n",
        "        self.name = name\n",
        "\n",
        "    def receive(self, message):\n",
        "        print(\"{0}, {1}!!\".format(self.name, message))\n",
        "\n",
        "class Publisher(object):\n",
        "    def __init__(self):\n",
        "        self.subscribers = dict()\n",
        "    \n",
        "    def register(self, who, callback = None):\n",
        "        if callback is None:\n",
        "            callback = getattr(who, 'update')\n",
        "        self.subscribers[who] = callback\n",
        "\n",
        "    def unregister(self, who):\n",
        "        del self.subscribers[who]\n",
        "    \n",
        "    def dispatch(self, message):\n",
        "        for subscriber, callback in self.subscribers.items():\n",
        "            callback(message)\n",
        "\n",
        "if __name__ == \"__main__\":\n",
        "    pub = Publisher()\n",
        "\n",
        "    astin = SubscriberOne(\"아스틴\")         #astin.name = 아스틴\n",
        "    james = SubscriberTwo(\"제임스\")         #james.name = 제임스\n",
        "    jeff = SubscriberOne(\"제프\")            #jeff.name = 제프\n",
        "\n",
        "    pub.register(astin, astin.update)           #pub.subscribers[astin] = astin.update                      pubsubscribers = [\"아스틴\": 'update', james : 'james.receive', ]\n",
        "    pub.register(james, james.receive)          #pub.subscribers[james] = james.receive\n",
        "    pub.register(jeff)                          #pub.subscribers[jeff] = getattr(jeff,'update')\n",
        "\n",
        "    print(getattr(jeff, 'update'))\n",
        "\n",
        "    pub.dispatch(\"점심시간입니다.\")\n",
        "    pub.unregister(jeff)\n",
        "    pub.dispatch('퇴근시간입니다.')\n",
        "\n",
        "    print(pub.subscribers)\n"
      ],
      "execution_count": 3,
      "outputs": [
        {
          "output_type": "stream",
          "text": [
            "<bound method SubscriberOne.update of <__main__.SubscriberOne object at 0x7f68909cdbd0>>\n",
            "아스틴, 점심시간입니다.\n",
            "제임스, 점심시간입니다.!!\n",
            "제프, 점심시간입니다.\n",
            "아스틴, 퇴근시간입니다.\n",
            "제임스, 퇴근시간입니다.!!\n",
            "{<__main__.SubscriberOne object at 0x7f68909cd1d0>: <bound method SubscriberOne.update of <__main__.SubscriberOne object at 0x7f68909cd1d0>>, <__main__.SubscriberTwo object at 0x7f68909cd290>: <bound method SubscriberTwo.receive of <__main__.SubscriberTwo object at 0x7f68909cd290>>}\n"
          ],
          "name": "stdout"
        }
      ]
    },
    {
      "cell_type": "code",
      "metadata": {
        "colab": {
          "base_uri": "https://localhost:8080/"
        },
        "id": "nfJHIbH-_cnS",
        "outputId": "07599eeb-3c71-4e48-e0c1-fd4cf7defa96"
      },
      "source": [
        "#Subscriber 클래스,즉 구독자의 형태가 다양하면 좀 더 유연하게 구현할 수 있다.\n",
        "\n",
        "class Subscriber(object):\n",
        "    def __init__(self, name):\n",
        "        self.name = name\n",
        "\n",
        "    def update(self, message):\n",
        "        print(\"{0}, {1}\".format(self.name, message))\n",
        "\n",
        "class Publisher(object):\n",
        "    def __init__(self, events):\n",
        "        self.subscribers = {event : dict() for event in events}\n",
        "    \n",
        "    def get_subscribers(self, event):\n",
        "        return self.subscribers[event]\n",
        "    \n",
        "    def register(self, event, who, callback = None):\n",
        "        if callback is None:\n",
        "            callback = getattr(who, 'update')\n",
        "        self.get_subscribers(event)[who] = callback\n",
        "    \n",
        "    def unregister(self, event, who):\n",
        "        del self.get_subscribers(event)[who]\n",
        "    \n",
        "    def dispatch(self, event, message):\n",
        "        for subscriber, callback in self.get_subscribers(event).items():\n",
        "            callback(message)\n",
        "    \n",
        "if __name__ == \"__main__\":\n",
        "    pub = Publisher([\"점심\", \"퇴근\"])       #pub.subscribers = {\"점심\" : dict() , \"퇴근\" : dict()}\n",
        "    astin = Subscriber(\"아스틴\")            #astin.name = \"아스틴\"\n",
        "    james = Subscriber(\"제임스\")            #james.name = \"제임스\"\n",
        "    jeff = Subscriber(\"제프\")               #jeff.name = \"제프\"\n",
        "\n",
        "    pub.register(\"점심\", astin)             #pub.subscribers = {\"점심\" : [astin : update], \"퇴근\" : dict()}\n",
        "    pub.register(\"퇴근\", astin)             #pub.subscribers = {\"점심\" : [astin : callback], \"퇴근\" : [astin : callback]}\n",
        "    pub.register(\"퇴근\", james)             #pub.subscribers = {\"점심\" : [astin : callback], \"퇴근\" : [astin : callback, james : callback...(??)]}\n",
        "    pub.register(\"점심\", jeff)              #pub.subscribers = {\"점심\" : [astin : callback, jeff : callback], \"퇴근\" : [astin : callback, james : callback...(??)]}\n",
        "\n",
        "    pub.dispatch(\"점심\", \"점심시간입니다.\")     #점심에 속해있는 사람들 출력\n",
        "    pub.dispatch(\"퇴근\", \"저녁시간입니다.\")     #퇴근에 속해있는 사람들 출력\n",
        "    "
      ],
      "execution_count": null,
      "outputs": [
        {
          "output_type": "stream",
          "text": [
            "아스틴, 점심시간입니다.\n",
            "제프, 점심시간입니다.\n",
            "아스틴, 저녁시간입니다.\n",
            "제임스, 저녁시간입니다.\n"
          ],
          "name": "stdout"
        }
      ]
    },
    {
      "cell_type": "markdown",
      "metadata": {
        "id": "KbNBKnb7DCue"
      },
      "source": [
        "5.3.3 싱글턴 패턴\n",
        "\n",
        "초기화된 객체의 인스턴스를 전역에서 사용하기 위해서는 싱글턴 패턴을 사용해야함.\n",
        "\n",
        "private 접근 제한자가 없기 때문에 __new__() 클래스 메서드를 가지고 하나의 인스턴스만 생성되도록 해야함\n",
        "\n",
        "먼저, 싱글턴 인스턴스가 생성되었는지 확인한다.\n",
        "\n",
        "그 다음, 싱글턴 인스턴스가 없다면, 슈퍼 클래스를 호출하여 싱글턴 인스턴스를 생성한다."
      ]
    },
    {
      "cell_type": "code",
      "metadata": {
        "colab": {
          "base_uri": "https://localhost:8080/"
        },
        "id": "gaHeOALtC-3o",
        "outputId": "a994d004-c895-4950-d5bb-2fee9eca0930"
      },
      "source": [
        "class SinEx:\n",
        "    _sing = None\n",
        "    \n",
        "    def __new__(self, *args, **kwargs):\n",
        "        if not self._sing:          #self._sing 이 없다면...\n",
        "            self._sing = super(SinEx, self).__new__(self, *args, **kwargs)          #*args : 변수가 여러개 들어올 때, 튜플형태로 저장, *kargs : 변수가 여러개 들어올 때, 딕셔너리 형태로 저장\n",
        "        return self._sing           #slef._sing이 원래 있었으면 그냥 있던걸 반환함\n",
        "\n",
        "x = SinEx()\n",
        "print(x)\n",
        "\n",
        "y = SinEx()\n",
        "print(x == y)\n",
        "\n",
        "print(y)"
      ],
      "execution_count": null,
      "outputs": [
        {
          "output_type": "stream",
          "text": [
            "<__main__.SinEx object at 0x7f42e1ad4950>\n",
            "True\n",
            "<__main__.SinEx object at 0x7f42e1ad4950>\n"
          ],
          "name": "stdout"
        }
      ]
    }
  ]
}