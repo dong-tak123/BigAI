{
  "nbformat": 4,
  "nbformat_minor": 0,
  "metadata": {
    "colab": {
      "name": "Chapter4. 구조와 모듈",
      "provenance": [],
      "collapsed_sections": []
    },
    "kernelspec": {
      "name": "python3",
      "display_name": "Python 3"
    }
  },
  "cells": [
    {
      "cell_type": "markdown",
      "metadata": {
        "id": "EOz5NnPEghDg"
      },
      "source": [
        "4.1 모듈"
      ]
    },
    {
      "cell_type": "markdown",
      "metadata": {
        "id": "EfYhdCt9M9ON"
      },
      "source": [
        "4.1.2 모듈의 기본값"
      ]
    },
    {
      "cell_type": "code",
      "metadata": {
        "id": "HpJBPLWogWj6",
        "colab": {
          "base_uri": "https://localhost:8080/"
        },
        "outputId": "75592d49-a7c1-4348-af06-d63600e1ce0a"
      },
      "source": [
        "#나쁜예\r\n",
        "def append(number, number_list=[]):\r\n",
        "    number_list.append(number)\r\n",
        "    return number_list\r\n",
        "\r\n",
        "print(append(5))\r\n",
        "print(append(7))\r\n",
        "print(append(2))"
      ],
      "execution_count": null,
      "outputs": [
        {
          "output_type": "stream",
          "text": [
            "[5]\n",
            "[5, 7]\n",
            "[5, 7, 2]\n"
          ],
          "name": "stdout"
        }
      ]
    },
    {
      "cell_type": "code",
      "metadata": {
        "colab": {
          "base_uri": "https://localhost:8080/"
        },
        "id": "cWQErZHUMoUM",
        "outputId": "2020fc7c-182e-4eb0-c3ab-9f5bf2853a01"
      },
      "source": [
        "#좋은 예\r\n",
        "def append(number, number_list=None):\r\n",
        "    if number_list is None:\r\n",
        "        number_list = []\r\n",
        "    number_list.append(number)\r\n",
        "    return number_list\r\n",
        "\r\n",
        "print(append(5))\r\n",
        "print(append(7))\r\n",
        "print(append(2))"
      ],
      "execution_count": null,
      "outputs": [
        {
          "output_type": "stream",
          "text": [
            "[5]\n",
            "[7]\n",
            "[2]\n"
          ],
          "name": "stdout"
        }
      ]
    },
    {
      "cell_type": "markdown",
      "metadata": {
        "id": "ZJJeW9fZM_PO"
      },
      "source": [
        "4.1.3 __init__.py 파일"
      ]
    },
    {
      "cell_type": "code",
      "metadata": {
        "id": "KlsM8qPsM71K"
      },
      "source": [
        "'''cmd 명령프롬프터 창에서 해봐야함\r\n",
        "모듈이 내 컴퓨터에 잇는지 없는지 확인할 수 있음'''"
      ],
      "execution_count": null,
      "outputs": []
    },
    {
      "cell_type": "markdown",
      "metadata": {
        "id": "RY71vQHONXw_"
      },
      "source": [
        "4.1.4 __name__ 변수"
      ]
    },
    {
      "cell_type": "code",
      "metadata": {
        "colab": {
          "base_uri": "https://localhost:8080/"
        },
        "id": "CDO8ikvMNbEl",
        "outputId": "acec1066-46cf-40a2-c74e-8a75d0706532"
      },
      "source": [
        "\r\n",
        "\r\n",
        "hello = \"hello\"\r\n",
        "\r\n",
        "def world():\r\n",
        "    return \"world\"\r\n",
        "\r\n",
        "world()\r\n",
        "\r\n",
        "if __name__ == \"__main__\":\r\n",
        "    print(\"{0} 직접 실행됨\".format(__name__))\r\n",
        "else :\r\n",
        "    print(\"{0} 임포트됨\".format(__name__))\r\n"
      ],
      "execution_count": 1,
      "outputs": [
        {
          "output_type": "stream",
          "text": [
            "__main__ 직접 실행됨\n"
          ],
          "name": "stdout"
        }
      ]
    },
    {
      "cell_type": "code",
      "metadata": {
        "colab": {
          "base_uri": "https://localhost:8080/"
        },
        "id": "S801bMMa-ZPR",
        "outputId": "b33ab33a-e33d-43db-edbf-ba297e4059b9"
      },
      "source": [
        "def hello():\r\n",
        "    print(\"hello!\")\r\n",
        "\r\n",
        "print(__name__)"
      ],
      "execution_count": 2,
      "outputs": [
        {
          "output_type": "stream",
          "text": [
            "__main__\n"
          ],
          "name": "stdout"
        }
      ]
    },
    {
      "cell_type": "markdown",
      "metadata": {
        "id": "lDIuOcsOOTPb"
      },
      "source": [
        "4.1.5 컴파일된 바이트코드 모듈\r\n",
        "\r\n",
        "컴파일러가 사용하는 바이트 컴파일 코드는 표준 모듈을 많이 사용하는 프로그램의 시작 시간을 줄이기 위한 것이다."
      ]
    },
    {
      "cell_type": "code",
      "metadata": {
        "id": "iS6O2eNeOWiQ"
      },
      "source": [
        ""
      ],
      "execution_count": null,
      "outputs": []
    },
    {
      "cell_type": "markdown",
      "metadata": {
        "id": "_66KBzDcP_Eg"
      },
      "source": [
        "4.1.6 sys 모듈"
      ]
    },
    {
      "cell_type": "markdown",
      "metadata": {
        "id": "0A0SQAXgIxo4"
      },
      "source": [
        "sys.path 변수는 PYTHONPATH환경변수 또는 내장된 기본값 경로로 초기화 된다."
      ]
    },
    {
      "cell_type": "code",
      "metadata": {
        "colab": {
          "base_uri": "https://localhost:8080/"
        },
        "id": "vy12tD2SIOSG",
        "outputId": "6f305869-d6f8-474b-c95c-6213bd1fae01"
      },
      "source": [
        "import sys\r\n",
        "sys.path\r\n",
        "sys.path.append('모듈_디렉터리_꼉로')\r\n",
        "sys.path\r\n",
        "#sys.ps1과 sys.ps2변수는 파이썬 대화식 인터프리터의 기본 및 보조 프롬프트 문자열을 정의 한다 (기본값 : >>> 이랑 ...) -> 원하는대로 바꾸기도 가능.."
      ],
      "execution_count": 5,
      "outputs": [
        {
          "output_type": "execute_result",
          "data": {
            "text/plain": [
              "['',\n",
              " '/content',\n",
              " '/env/python',\n",
              " '/usr/lib/python37.zip',\n",
              " '/usr/lib/python3.7',\n",
              " '/usr/lib/python3.7/lib-dynload',\n",
              " '/usr/local/lib/python3.7/dist-packages',\n",
              " '/usr/lib/python3/dist-packages',\n",
              " '/usr/local/lib/python3.7/dist-packages/IPython/extensions',\n",
              " '/root/.ipython',\n",
              " '모듈_디렉터리_꼉로']"
            ]
          },
          "metadata": {
            "tags": []
          },
          "execution_count": 5
        }
      ]
    },
    {
      "cell_type": "code",
      "metadata": {
        "colab": {
          "base_uri": "https://localhost:8080/"
        },
        "id": "pNRUUPpvJuT-",
        "outputId": "d11b087d-3e3a-4e3d-9eb0-fc430eb413bf"
      },
      "source": [
        "import sys\r\n",
        "\r\n",
        "def main():\r\n",
        "    for arg in sys.argv[1:]:\r\n",
        "        print(arg)\r\n",
        "\r\n",
        "if __name__ == \"__main__\":\r\n",
        "    main()"
      ],
      "execution_count": 6,
      "outputs": [
        {
          "output_type": "stream",
          "text": [
            "-f\n",
            "/root/.local/share/jupyter/runtime/kernel-2c713fca-453a-4569-8cc3-192623adcd30.json\n"
          ],
          "name": "stdout"
        }
      ]
    },
    {
      "cell_type": "markdown",
      "metadata": {
        "id": "WkeBDBccJ6Iz"
      },
      "source": [
        "dir()내장함수 : 모듈이 정의하는 모든 유형의 이름 (모듈, 변수, 함수)을 찾는데 사용된다"
      ]
    },
    {
      "cell_type": "code",
      "metadata": {
        "colab": {
          "base_uri": "https://localhost:8080/"
        },
        "id": "0bmMXCssJ_4W",
        "outputId": "fee9107a-cafc-4035-fc6c-f5d112a44e0d"
      },
      "source": [
        "import sys\r\n",
        "dir(sys)"
      ],
      "execution_count": 7,
      "outputs": [
        {
          "output_type": "execute_result",
          "data": {
            "text/plain": [
              "['__breakpointhook__',\n",
              " '__displayhook__',\n",
              " '__doc__',\n",
              " '__excepthook__',\n",
              " '__interactivehook__',\n",
              " '__loader__',\n",
              " '__name__',\n",
              " '__package__',\n",
              " '__spec__',\n",
              " '__stderr__',\n",
              " '__stdin__',\n",
              " '__stdout__',\n",
              " '_clear_type_cache',\n",
              " '_current_frames',\n",
              " '_debugmallocstats',\n",
              " '_framework',\n",
              " '_getframe',\n",
              " '_git',\n",
              " '_home',\n",
              " '_xoptions',\n",
              " 'abiflags',\n",
              " 'api_version',\n",
              " 'argv',\n",
              " 'base_exec_prefix',\n",
              " 'base_prefix',\n",
              " 'breakpointhook',\n",
              " 'builtin_module_names',\n",
              " 'byteorder',\n",
              " 'call_tracing',\n",
              " 'callstats',\n",
              " 'copyright',\n",
              " 'displayhook',\n",
              " 'dont_write_bytecode',\n",
              " 'exc_info',\n",
              " 'excepthook',\n",
              " 'exec_prefix',\n",
              " 'executable',\n",
              " 'exit',\n",
              " 'flags',\n",
              " 'float_info',\n",
              " 'float_repr_style',\n",
              " 'get_asyncgen_hooks',\n",
              " 'get_coroutine_origin_tracking_depth',\n",
              " 'get_coroutine_wrapper',\n",
              " 'getallocatedblocks',\n",
              " 'getcheckinterval',\n",
              " 'getdefaultencoding',\n",
              " 'getdlopenflags',\n",
              " 'getfilesystemencodeerrors',\n",
              " 'getfilesystemencoding',\n",
              " 'getprofile',\n",
              " 'getrecursionlimit',\n",
              " 'getrefcount',\n",
              " 'getsizeof',\n",
              " 'getswitchinterval',\n",
              " 'gettrace',\n",
              " 'hash_info',\n",
              " 'hexversion',\n",
              " 'implementation',\n",
              " 'int_info',\n",
              " 'intern',\n",
              " 'is_finalizing',\n",
              " 'last_traceback',\n",
              " 'last_type',\n",
              " 'last_value',\n",
              " 'maxsize',\n",
              " 'maxunicode',\n",
              " 'meta_path',\n",
              " 'modules',\n",
              " 'path',\n",
              " 'path_hooks',\n",
              " 'path_importer_cache',\n",
              " 'platform',\n",
              " 'prefix',\n",
              " 'ps1',\n",
              " 'ps2',\n",
              " 'ps3',\n",
              " 'set_asyncgen_hooks',\n",
              " 'set_coroutine_origin_tracking_depth',\n",
              " 'set_coroutine_wrapper',\n",
              " 'setcheckinterval',\n",
              " 'setdlopenflags',\n",
              " 'setprofile',\n",
              " 'setrecursionlimit',\n",
              " 'setswitchinterval',\n",
              " 'settrace',\n",
              " 'stderr',\n",
              " 'stdin',\n",
              " 'stdout',\n",
              " 'thread_info',\n",
              " 'version',\n",
              " 'version_info',\n",
              " 'warnoptions']"
            ]
          },
          "metadata": {
            "tags": []
          },
          "execution_count": 7
        }
      ]
    },
    {
      "cell_type": "markdown",
      "metadata": {
        "id": "apk9yFg1gf-F"
      },
      "source": [
        "4.2 제어문"
      ]
    },
    {
      "cell_type": "code",
      "metadata": {
        "colab": {
          "base_uri": "https://localhost:8080/"
        },
        "id": "VwQYuJVahQM_",
        "outputId": "25a8d98d-87f4-40c2-ff97-ccdc91897be6"
      },
      "source": [
        "#if문\r\n",
        "\r\n",
        "x = int(input(\"숫자를 입력하세요 : \"))\r\n",
        "if x < 0 :\r\n",
        "    x  = 0\r\n",
        "    print(\"음수를 입력하여 x를 0으로 변경했습니다.\")\r\n",
        "elif x == 0:\r\n",
        "    print(\"0이 입력되었습니다.\")\r\n",
        "elif x == 1:\r\n",
        "    print(\"1이 입력되었습니다.\")\r\n",
        "else :\r\n",
        "    print(\"2이상의 숫자가 입력되었습니다.\")\r\n",
        "\r\n",
        "#추가적으로 for 문도 있다"
      ],
      "execution_count": null,
      "outputs": [
        {
          "output_type": "stream",
          "text": [
            "숫자를 입력하세요 : 24\n",
            "2이상의 숫자가 입력되었습니다.\n"
          ],
          "name": "stdout"
        }
      ]
    },
    {
      "cell_type": "code",
      "metadata": {
        "colab": {
          "base_uri": "https://localhost:8080/",
          "height": 35
        },
        "id": "zcZlBT2jhmiC",
        "outputId": "c151110a-a12f-4a9f-f2ff-727027f391bb"
      },
      "source": [
        "#참과 거짓\r\n",
        "\r\n",
        "string1, string2, string3 = '', '괴물', '외계인'\r\n",
        "non_null = string1 or string2 or string3            #''이 false 값이기 때문에 괴물이 바로 나온다\r\n",
        "non_null"
      ],
      "execution_count": 10,
      "outputs": [
        {
          "output_type": "execute_result",
          "data": {
            "application/vnd.google.colaboratory.intrinsic+json": {
              "type": "string"
            },
            "text/plain": [
              "'괴물'"
            ]
          },
          "metadata": {
            "tags": []
          },
          "execution_count": 10
        }
      ]
    },
    {
      "cell_type": "code",
      "metadata": {
        "colab": {
          "base_uri": "https://localhost:8080/",
          "height": 35
        },
        "id": "kmIL2oMliBrP",
        "outputId": "14b84ddd-7482-42a2-8ce9-651597487a37"
      },
      "source": [
        "#Boolean 값을 사용한 좋은 예와 나쁜 예\r\n",
        "#좋은 예 먼저\r\n",
        "'''if not users :\r\n",
        "    print(\"사용자가 없습니다.\")\r\n",
        "\r\n",
        "if foo == 0:\r\n",
        "    handle_zero()\r\n",
        "\r\n",
        "if i%10 == 0:\r\n",
        "    handle_multiple_of_ten()'''"
      ],
      "execution_count": null,
      "outputs": [
        {
          "output_type": "execute_result",
          "data": {
            "application/vnd.google.colaboratory.intrinsic+json": {
              "type": "string"
            },
            "text/plain": [
              "'if not users :\\n    print(\"사용자가 없습니다.\")\\n\\nif foo == 0:\\n    handle_zero()\\n\\nif i%10 == 0:\\n    handle_multiple_of_ten()'"
            ]
          },
          "metadata": {
            "tags": []
          },
          "execution_count": 14
        }
      ]
    },
    {
      "cell_type": "code",
      "metadata": {
        "colab": {
          "base_uri": "https://localhost:8080/",
          "height": 35
        },
        "id": "4QB0zodrik63",
        "outputId": "67b53234-141e-4820-bd0e-02c8decf66a9"
      },
      "source": [
        "#나쁜 예\r\n",
        "\r\n",
        "'''if len(users) == 0:\r\n",
        "    print(\"사용자가 없습니다.\")\r\n",
        "\r\n",
        "if foo is not None and not foo:\r\n",
        "    handle_zero()\r\n",
        "\r\n",
        "if not i % 10:\r\n",
        "    handle_multiple_of_ten()'''"
      ],
      "execution_count": null,
      "outputs": [
        {
          "output_type": "execute_result",
          "data": {
            "application/vnd.google.colaboratory.intrinsic+json": {
              "type": "string"
            },
            "text/plain": [
              "'if len(users) == 0:\\n    print(\"사용자가 없습니다.\")\\n\\nif foo is not None and not foo:\\n    handle_zero()\\n\\nif not i % 10:\\n    handle_multiple_of_ten()'"
            ]
          },
          "metadata": {
            "tags": []
          },
          "execution_count": 5
        }
      ]
    },
    {
      "cell_type": "markdown",
      "metadata": {
        "id": "UMzORG0qQhlL"
      },
      "source": [
        "4.2.4 return 대 yield"
      ]
    },
    {
      "cell_type": "code",
      "metadata": {
        "id": "AuTv9s6Xi1HW",
        "colab": {
          "base_uri": "https://localhost:8080/"
        },
        "outputId": "bd4fa545-2ba5-48e2-db96-0065f46d5266"
      },
      "source": [
        "a = [1,2,3]\r\n",
        "def f(a):\r\n",
        "    while a:\r\n",
        "        yield a.pop()\r\n",
        "\r\n",
        "f(a)"
      ],
      "execution_count": 12,
      "outputs": [
        {
          "output_type": "execute_result",
          "data": {
            "text/plain": [
              "<generator object f at 0x7f9dd9e3fed0>"
            ]
          },
          "metadata": {
            "tags": []
          },
          "execution_count": 12
        }
      ]
    },
    {
      "cell_type": "code",
      "metadata": {
        "colab": {
          "base_uri": "https://localhost:8080/"
        },
        "id": "rVSphhHLQ_Mt",
        "outputId": "3fa5b0a4-0777-40fa-d0a0-c2bb7a23c848"
      },
      "source": [
        "def fib_generator():\r\n",
        "    a,b = 0,1\r\n",
        "    while True:\r\n",
        "        yield b\r\n",
        "        a,b = b, a+b\r\n",
        "\r\n",
        "if __name__ == \"__main__\":\r\n",
        "    fib = fib_generator()\r\n",
        "    print(next(fib))        #next(fib)이니까 b=1을 반환하고 a,b = 1,1 로 바뀜\r\n",
        "    print(next(fib))        #next(fib) 하면 b=1을 반환하고 a,b = 1,2 로 바뀜\r\n",
        "    print(next(fib))\r\n",
        "    print(next(fib))"
      ],
      "execution_count": null,
      "outputs": [
        {
          "output_type": "stream",
          "text": [
            "1\n",
            "1\n",
            "2\n",
            "3\n"
          ],
          "name": "stdout"
        }
      ]
    },
    {
      "cell_type": "markdown",
      "metadata": {
        "id": "OSSey7e4R8gz"
      },
      "source": [
        "4.2.5 break 대 continue"
      ]
    },
    {
      "cell_type": "code",
      "metadata": {
        "colab": {
          "base_uri": "https://localhost:8080/"
        },
        "id": "qYtZQ1SyRVEJ",
        "outputId": "300a8449-675c-45b2-929d-abeb393f1ef2"
      },
      "source": [
        "for i in range(10):\r\n",
        "    if i == 4:\r\n",
        "        break\r\n",
        "    print(i)\r\n",
        "else:                   #얘는 break에 의해서 반복문이 종료되었으므로 else가 실행 안된다\r\n",
        "    print(\"for문 종료!\")\r\n",
        "\r\n",
        "#띠용?"
      ],
      "execution_count": null,
      "outputs": [
        {
          "output_type": "stream",
          "text": [
            "0\n",
            "1\n",
            "2\n",
            "3\n"
          ],
          "name": "stdout"
        }
      ]
    },
    {
      "cell_type": "code",
      "metadata": {
        "colab": {
          "base_uri": "https://localhost:8080/"
        },
        "id": "YNwg8f5DSMPN",
        "outputId": "765cfb8a-7f83-4138-b070-bf1e0af84b51"
      },
      "source": [
        "for i in range(10):\r\n",
        "    if i % 2 == 0:\r\n",
        "        continue\r\n",
        "    print(i)\r\n",
        "else:                       #반복문이 종료되면 else가 실행된다.\r\n",
        "    print(\"for문 종료!\")"
      ],
      "execution_count": null,
      "outputs": [
        {
          "output_type": "stream",
          "text": [
            "1\n",
            "3\n",
            "5\n",
            "7\n",
            "9\n",
            "for문 종료!\n"
          ],
          "name": "stdout"
        }
      ]
    },
    {
      "cell_type": "markdown",
      "metadata": {
        "id": "iQWgTVPlTJt2"
      },
      "source": [
        "4.2.6 range()"
      ]
    },
    {
      "cell_type": "code",
      "metadata": {
        "colab": {
          "base_uri": "https://localhost:8080/"
        },
        "id": "RskTDLtVS2ID",
        "outputId": "d39f50fc-38db-45e5-fa26-f0120f1ddbad"
      },
      "source": [
        "a = range(10)\r\n",
        "type(a)"
      ],
      "execution_count": 13,
      "outputs": [
        {
          "output_type": "execute_result",
          "data": {
            "text/plain": [
              "range"
            ]
          },
          "metadata": {
            "tags": []
          },
          "execution_count": 13
        }
      ]
    },
    {
      "cell_type": "markdown",
      "metadata": {
        "id": "UXzhcbv2TSxn"
      },
      "source": [
        "4.2.7 enumerate()\r\n",
        "\r\n",
        "enumerate( ,start = 1)로 해서 어디서 부터 시작할지도 정할 수 있다"
      ]
    },
    {
      "cell_type": "code",
      "metadata": {
        "id": "hnzrocEvTM-t"
      },
      "source": [
        "import sys\r\n",
        "\r\n",
        "def grep_word_from_files():\r\n",
        "    word = sys.argv[1]\r\n",
        "    for filename in sys.argv[2:]:\r\n",
        "        with open(filename) as file:\r\n",
        "            for lino, line in enumerate(file, start = 1):\r\n",
        "                if word in line:\r\n",
        "                    print(\"{0} : {1} : {2:40}\".format(filename, lino, line.rstrip()))\r\n",
        "\r\n",
        "if __name__ == \"__main__\":\r\n",
        "    if len(sys.argv) < 2:\r\n",
        "        print(\"Usage: python {0} [word] [file ...]\".format(sys.argv[0]))\r\n",
        "        sys.exit()      #sys 모듈의 프로그램 종료\r\n",
        "                        #함수 프로그램이 정상적으로 종료됏으면 : 인자값을 0 , 비정상적으로 종료됏으면 : 인자값을 1\r\n",
        "                        #인자값 0,1 말고도 있다.\r\n",
        "    else:\r\n",
        "        grep_word_from_files()"
      ],
      "execution_count": 15,
      "outputs": []
    },
    {
      "cell_type": "markdown",
      "metadata": {
        "id": "5y5dwSX-T9pj"
      },
      "source": [
        "4.2.8 zip()\r\n",
        "\r\n",
        "2개 이상의 시퀀스를 인수로 취해서, 짧은 시퀀스를 기준으로 각 항목이 순서대로 1:1대응하는 새로운 튜플 시퀀스를 만든다"
      ]
    },
    {
      "cell_type": "code",
      "metadata": {
        "colab": {
          "base_uri": "https://localhost:8080/"
        },
        "id": "FEZHClDjT5Ln",
        "outputId": "3d79a503-906a-47f2-ac10-bc8667482b67"
      },
      "source": [
        "a = [1,2,3,4,5]\r\n",
        "b = ['a','b','c','d']\r\n",
        "\r\n",
        "print(zip(a,b))\r\n",
        "print(list(zip(a,b)))"
      ],
      "execution_count": null,
      "outputs": [
        {
          "output_type": "stream",
          "text": [
            "<zip object at 0x7fc76abbe0f0>\n",
            "[(1, 'a'), (2, 'b'), (3, 'c'), (4, 'd')]\n"
          ],
          "name": "stdout"
        }
      ]
    },
    {
      "cell_type": "markdown",
      "metadata": {
        "id": "FEwgZLCbUZP9"
      },
      "source": [
        "4.2.9 filter()\r\n",
        "\r\n",
        "시퀀스의 항목들 중 함수 조건이 참인 항목만 추출해서 구성된 시퀀스를 반환한다."
      ]
    },
    {
      "cell_type": "code",
      "metadata": {
        "colab": {
          "base_uri": "https://localhost:8080/"
        },
        "id": "Vvb52nymUbSj",
        "outputId": "2663458e-61b7-48b1-c59b-03ec43cc277b"
      },
      "source": [
        "def f(x): return x%2 != 0 and x%3 != 0\r\n",
        "print(f(33))\r\n",
        "print(f(17))\r\n",
        "\r\n",
        "print(list(filter(f, range(2,25))))             #range(2,25) 에서, f에 넣었을 때 참인것만 filter로 걸러내겠다"
      ],
      "execution_count": null,
      "outputs": [
        {
          "output_type": "stream",
          "text": [
            "False\n",
            "True\n",
            "[5, 7, 11, 13, 17, 19, 23]\n"
          ],
          "name": "stdout"
        }
      ]
    },
    {
      "cell_type": "markdown",
      "metadata": {
        "id": "DkGU697TUYlo"
      },
      "source": [
        "4.2.10 map()"
      ]
    },
    {
      "cell_type": "code",
      "metadata": {
        "colab": {
          "base_uri": "https://localhost:8080/"
        },
        "id": "DB-tYjbzU_rf",
        "outputId": "e251fdd1-8b6a-4524-e91b-71d70b49e847"
      },
      "source": [
        "def cube(x):\r\n",
        "    return x*x*x\r\n",
        "\r\n",
        "print(list(map(cube, range(1,11))))\r\n",
        "\r\n",
        "seq = range(8)\r\n",
        "\r\n",
        "def square(x):\r\n",
        "    return x*x\r\n",
        "    \r\n",
        "print(list(zip(seq, map(square, seq))))"
      ],
      "execution_count": null,
      "outputs": [
        {
          "output_type": "stream",
          "text": [
            "[1, 8, 27, 64, 125, 216, 343, 512, 729, 1000]\n",
            "[(0, 0), (1, 1), (2, 4), (3, 9), (4, 16), (5, 25), (6, 36), (7, 49)]\n"
          ],
          "name": "stdout"
        }
      ]
    },
    {
      "cell_type": "markdown",
      "metadata": {
        "id": "K7slk_f4UYao"
      },
      "source": [
        "4.2.11 람다 함수\r\n",
        "\r\n",
        "람다함수 정의 방법\r\n",
        "\r\n",
        "lambda 인자리스트: 표현식\r\n",
        "\r\n",
        "return 문 없이 표현식의 값대로 반환된다!"
      ]
    },
    {
      "cell_type": "code",
      "metadata": {
        "colab": {
          "base_uri": "https://localhost:8080/"
        },
        "id": "kuNxk3lVUP9o",
        "outputId": "5c378b41-2b6f-4950-997e-de0e743dd607"
      },
      "source": [
        "def area(b,h):\r\n",
        "    return 0.5*b*h\r\n",
        "\r\n",
        "area(5,4)"
      ],
      "execution_count": null,
      "outputs": [
        {
          "output_type": "execute_result",
          "data": {
            "text/plain": [
              "10.0"
            ]
          },
          "metadata": {
            "tags": []
          },
          "execution_count": 37
        }
      ]
    },
    {
      "cell_type": "code",
      "metadata": {
        "colab": {
          "base_uri": "https://localhost:8080/"
        },
        "id": "Aq125WHFVdeU",
        "outputId": "99e7a60d-5e8c-4383-aaf2-fed5a7cc2355"
      },
      "source": [
        "area = lambda b,h : 0.5*b*h\r\n",
        "\r\n",
        "area(5,4)"
      ],
      "execution_count": null,
      "outputs": [
        {
          "output_type": "execute_result",
          "data": {
            "text/plain": [
              "10.0"
            ]
          },
          "metadata": {
            "tags": []
          },
          "execution_count": 38
        }
      ]
    },
    {
      "cell_type": "code",
      "metadata": {
        "id": "bkR7nzwoVki_",
        "colab": {
          "base_uri": "https://localhost:8080/"
        },
        "outputId": "561866c9-c8b3-42c9-95dc-da2f34aff70b"
      },
      "source": [
        "(lambda b,h : 0.5*b*h)(5,4)         #이렇게도 가능!!"
      ],
      "execution_count": 16,
      "outputs": [
        {
          "output_type": "execute_result",
          "data": {
            "text/plain": [
              "10.0"
            ]
          },
          "metadata": {
            "tags": []
          },
          "execution_count": 16
        }
      ]
    },
    {
      "cell_type": "code",
      "metadata": {
        "id": "oFAaZSqpPaJA"
      },
      "source": [
        "import collections                  #dict 초기화 할때 유용하다\r\n",
        "minus_one_dict = collections.defaultdict(lambda : -1)\r\n",
        "point_zero_dict = collections.defaultdict(lambda : (0,0))\r\n",
        "message_dict = collections.defaultdict(lambda : \"No message\")"
      ],
      "execution_count": 17,
      "outputs": []
    },
    {
      "cell_type": "code",
      "metadata": {
        "id": "oFvVUbbFPzOi"
      },
      "source": [
        "from collections import defaultdict\r\n",
        "# 일반적인 초기화 방법\r\n",
        "int_dict= defaultdict(int)\r\n",
        "str_dict= defaultdict(str)"
      ],
      "execution_count": null,
      "outputs": []
    }
  ]
}