{
  "nbformat": 4,
  "nbformat_minor": 0,
  "metadata": {
    "colab": {
      "name": "Python_Self_Study",
      "provenance": [],
      "collapsed_sections": []
    },
    "kernelspec": {
      "name": "python3",
      "display_name": "Python 3"
    },
    "language_info": {
      "name": "python"
    }
  },
  "cells": [
    {
      "cell_type": "markdown",
      "source": [
        "#5. 파이썬 날개 달기"
      ],
      "metadata": {
        "id": "aQrz2UDiVWVZ"
      }
    },
    {
      "cell_type": "markdown",
      "source": [
        "##5-1 클래스\n",
        "\n",
        "클래스의 필요성 : 같은 동작을 하는 객체를 무한히 찍어낼 수 있다.."
      ],
      "metadata": {
        "id": "CnNMfam0VZRN"
      }
    },
    {
      "cell_type": "markdown",
      "source": [
        "###클래스와 객체\n",
        "\n",
        "- 과자 틀 : 클래스\n",
        "- 과자 틀을 이용해 만든 과자 : 객체(instance)"
      ],
      "metadata": {
        "id": "04f8MGmbVckJ"
      }
    },
    {
      "cell_type": "code",
      "execution_count": 1,
      "metadata": {
        "id": "n3f4AbphVRG2"
      },
      "outputs": [],
      "source": [
        "# 가장 간단한 클래스..\n",
        "class Cookie:\n",
        "    pass"
      ]
    },
    {
      "cell_type": "code",
      "source": [
        "a = Cookie()\n",
        "b = Cookie()"
      ],
      "metadata": {
        "id": "z1VCmggXV3CO"
      },
      "execution_count": 2,
      "outputs": []
    },
    {
      "cell_type": "code",
      "source": [
        "type(a), type(b)"
      ],
      "metadata": {
        "colab": {
          "base_uri": "https://localhost:8080/"
        },
        "id": "WKyf60pYV5S6",
        "outputId": "3a5bca95-07cb-4036-e65a-5843ebb86865"
      },
      "execution_count": 3,
      "outputs": [
        {
          "output_type": "execute_result",
          "data": {
            "text/plain": [
              "(__main__.Cookie, __main__.Cookie)"
            ]
          },
          "metadata": {},
          "execution_count": 3
        }
      ]
    },
    {
      "cell_type": "markdown",
      "source": [
        "###사칙연산 클래스 만들기\n",
        "\n",
        "- 먼저 구상하고 코딩하는 것이 좋다"
      ],
      "metadata": {
        "id": "0gL4FHTBV-rM"
      }
    },
    {
      "cell_type": "markdown",
      "source": [
        "####클래스 구조 만들기"
      ],
      "metadata": {
        "id": "m1_A_dMAWZGS"
      }
    },
    {
      "cell_type": "code",
      "source": [
        "class FourCal:\n",
        "    pass"
      ],
      "metadata": {
        "id": "MY8TLVgVV7w3"
      },
      "execution_count": 4,
      "outputs": []
    },
    {
      "cell_type": "code",
      "source": [
        "a = FourCal()\n",
        "\n",
        "# 타입확인..\n",
        "type(a)"
      ],
      "metadata": {
        "colab": {
          "base_uri": "https://localhost:8080/"
        },
        "id": "E8vFAo-vWcOG",
        "outputId": "56f176e8-65ea-4ef7-dbd1-744e853a934a"
      },
      "execution_count": 6,
      "outputs": [
        {
          "output_type": "execute_result",
          "data": {
            "text/plain": [
              "__main__.FourCal"
            ]
          },
          "metadata": {},
          "execution_count": 6
        }
      ]
    },
    {
      "cell_type": "markdown",
      "source": [
        "####객체에 숫자 지정할 수 있게 만들기 (setdata)\n",
        "\n",
        "- 클래스 내의 함수는 메서드라고 한다\n",
        "- 일반 함수와 달리 메서드의 첫 번째 매개변수 self는 특별한 의미를 갖는다"
      ],
      "metadata": {
        "id": "qQuBvi9WWhqh"
      }
    },
    {
      "cell_type": "code",
      "source": [
        "class FourCal:\n",
        "    def setdata(self, first, second):\n",
        "        self.first = first\n",
        "        self.second = second"
      ],
      "metadata": {
        "id": "8ry6O0yaWeTl"
      },
      "execution_count": 9,
      "outputs": []
    },
    {
      "cell_type": "markdown",
      "source": [
        "**Self 매개변수의 활용**\n",
        "\n",
        "![image.png](data:image/png;base64,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)"
      ],
      "metadata": {
        "id": "_0JOxZtFXNjg"
      }
    },
    {
      "cell_type": "code",
      "source": [
        "a = FourCal()\n",
        "\n",
        "a.setdata(4,2)"
      ],
      "metadata": {
        "id": "uZvTxrzMWqpw"
      },
      "execution_count": 11,
      "outputs": []
    },
    {
      "cell_type": "code",
      "source": [
        "# a 객체의 객체변수 first와 second에 각각 4와 2가 할당되었다.\n",
        "\n",
        "print(a.first, a.second)"
      ],
      "metadata": {
        "colab": {
          "base_uri": "https://localhost:8080/"
        },
        "id": "cxsd5AGgXHPu",
        "outputId": "38b4efd7-2f2a-4bb6-8a0d-dc706bd5e852"
      },
      "execution_count": 12,
      "outputs": [
        {
          "output_type": "stream",
          "name": "stdout",
          "text": [
            "4 2\n"
          ]
        }
      ]
    },
    {
      "cell_type": "code",
      "source": [
        "# 새로운 객체\n",
        "\n",
        "b = FourCal()\n",
        "b.setdata(3,7)\n",
        "\n",
        "print(b.first, b.second)"
      ],
      "metadata": {
        "colab": {
          "base_uri": "https://localhost:8080/"
        },
        "id": "y7HmsLTsXeAa",
        "outputId": "faf43232-e75d-4b8c-f118-a2ca6a34cf01"
      },
      "execution_count": 13,
      "outputs": [
        {
          "output_type": "stream",
          "name": "stdout",
          "text": [
            "3 7\n"
          ]
        }
      ]
    },
    {
      "cell_type": "markdown",
      "source": [
        "-> 각 객체변수는 모두 독립적이며, 다른 주소에 저장된다."
      ],
      "metadata": {
        "id": "F-0fA0cnXu8v"
      }
    },
    {
      "cell_type": "code",
      "source": [
        "# 다른 주소값에 저장된 것을 확인 할 수 있다.\n",
        "\n",
        "print(id(a.first), id(b.first))"
      ],
      "metadata": {
        "colab": {
          "base_uri": "https://localhost:8080/"
        },
        "id": "ggCHFy-TXr9C",
        "outputId": "2a5bf4b0-c23a-47ee-a3ad-f4783fec3325"
      },
      "execution_count": 14,
      "outputs": [
        {
          "output_type": "stream",
          "name": "stdout",
          "text": [
            "11256160 11256128\n"
          ]
        }
      ]
    },
    {
      "cell_type": "markdown",
      "source": [
        "####더하기 기능 만들기"
      ],
      "metadata": {
        "id": "TL-jxumqX8bV"
      }
    },
    {
      "cell_type": "code",
      "source": [
        "class FourCal:\n",
        "    def setdata(self, first, second):\n",
        "        self.first = first\n",
        "        self.second = second\n",
        "    def add(self):\n",
        "        result = self.first + self.second\n",
        "        return result"
      ],
      "metadata": {
        "id": "i3bUFZDTX25g"
      },
      "execution_count": 15,
      "outputs": []
    },
    {
      "cell_type": "code",
      "source": [
        "a = FourCal()\n",
        "a.setdata(4,2)"
      ],
      "metadata": {
        "id": "EvVMnO5kYF1K"
      },
      "execution_count": 16,
      "outputs": []
    },
    {
      "cell_type": "code",
      "source": [
        "# a 객체의 객체변수 first, second가 각각 더해진다.\n",
        "\n",
        "print(a.add())"
      ],
      "metadata": {
        "colab": {
          "base_uri": "https://localhost:8080/"
        },
        "id": "oxWmoAZAYIiY",
        "outputId": "6945a8a3-4737-431b-a577-6ecdd967b8f1"
      },
      "execution_count": 17,
      "outputs": [
        {
          "output_type": "stream",
          "name": "stdout",
          "text": [
            "6\n"
          ]
        }
      ]
    },
    {
      "cell_type": "markdown",
      "source": [
        "####나머지 사칙연산 만들기"
      ],
      "metadata": {
        "id": "F0crm3g4YStA"
      }
    },
    {
      "cell_type": "code",
      "source": [
        "class FourCal:\n",
        "    def setdata(self, first, second):\n",
        "        self.first = first\n",
        "        self.second = second\n",
        "    def add(self):\n",
        "        result = self.first + self.second\n",
        "        return result\n",
        "    def mul(self):\n",
        "        result = self.first * self.second\n",
        "        return result\n",
        "    def sub(self):\n",
        "        result = self.first - self.second\n",
        "        return result\n",
        "    def div(self):\n",
        "        result = self.first / self.second\n",
        "        return result"
      ],
      "metadata": {
        "id": "4-fTIy8GYJzf"
      },
      "execution_count": 18,
      "outputs": []
    },
    {
      "cell_type": "code",
      "source": [
        "a = FourCal()\n",
        "a.setdata(4,2)"
      ],
      "metadata": {
        "id": "muSN__4WYnpQ"
      },
      "execution_count": 19,
      "outputs": []
    },
    {
      "cell_type": "code",
      "source": [
        "# 메서드 동작 확인\n",
        "print(a.add())\n",
        "print(a.mul())\n",
        "print(a.sub())\n",
        "print(a.div())"
      ],
      "metadata": {
        "colab": {
          "base_uri": "https://localhost:8080/"
        },
        "id": "pDwebW89Ytke",
        "outputId": "52d65d95-2aff-461a-e200-708ea1c1ad90"
      },
      "execution_count": 20,
      "outputs": [
        {
          "output_type": "stream",
          "name": "stdout",
          "text": [
            "6\n",
            "8\n",
            "2\n",
            "2.0\n"
          ]
        }
      ]
    },
    {
      "cell_type": "markdown",
      "source": [
        "###생성자 (Constructor)"
      ],
      "metadata": {
        "id": "r_k4gXatY4Ha"
      }
    },
    {
      "cell_type": "code",
      "source": [
        "# 아직 객체변수 first와 second가 모두 초기화 되지 않음..\n",
        "\n",
        "a = FourCal()\n",
        "a.add()"
      ],
      "metadata": {
        "colab": {
          "base_uri": "https://localhost:8080/",
          "height": 304
        },
        "id": "Nki9pPMYYz5m",
        "outputId": "94228d95-9c23-4c5a-a630-02d9a585edde"
      },
      "execution_count": 21,
      "outputs": [
        {
          "output_type": "error",
          "ename": "AttributeError",
          "evalue": "ignored",
          "traceback": [
            "\u001b[0;31m---------------------------------------------------------------------------\u001b[0m",
            "\u001b[0;31mAttributeError\u001b[0m                            Traceback (most recent call last)",
            "\u001b[0;32m<ipython-input-21-93d8790fe05f>\u001b[0m in \u001b[0;36m<module>\u001b[0;34m()\u001b[0m\n\u001b[1;32m      1\u001b[0m \u001b[0ma\u001b[0m \u001b[0;34m=\u001b[0m \u001b[0mFourCal\u001b[0m\u001b[0;34m(\u001b[0m\u001b[0;34m)\u001b[0m\u001b[0;34m\u001b[0m\u001b[0;34m\u001b[0m\u001b[0m\n\u001b[0;32m----> 2\u001b[0;31m \u001b[0ma\u001b[0m\u001b[0;34m.\u001b[0m\u001b[0madd\u001b[0m\u001b[0;34m(\u001b[0m\u001b[0;34m)\u001b[0m\u001b[0;34m\u001b[0m\u001b[0;34m\u001b[0m\u001b[0m\n\u001b[0m",
            "\u001b[0;32m<ipython-input-18-395058f0395a>\u001b[0m in \u001b[0;36madd\u001b[0;34m(self)\u001b[0m\n\u001b[1;32m      4\u001b[0m         \u001b[0mself\u001b[0m\u001b[0;34m.\u001b[0m\u001b[0msecond\u001b[0m \u001b[0;34m=\u001b[0m \u001b[0msecond\u001b[0m\u001b[0;34m\u001b[0m\u001b[0;34m\u001b[0m\u001b[0m\n\u001b[1;32m      5\u001b[0m     \u001b[0;32mdef\u001b[0m \u001b[0madd\u001b[0m\u001b[0;34m(\u001b[0m\u001b[0mself\u001b[0m\u001b[0;34m)\u001b[0m\u001b[0;34m:\u001b[0m\u001b[0;34m\u001b[0m\u001b[0;34m\u001b[0m\u001b[0m\n\u001b[0;32m----> 6\u001b[0;31m         \u001b[0mresult\u001b[0m \u001b[0;34m=\u001b[0m \u001b[0mself\u001b[0m\u001b[0;34m.\u001b[0m\u001b[0mfirst\u001b[0m \u001b[0;34m+\u001b[0m \u001b[0mself\u001b[0m\u001b[0;34m.\u001b[0m\u001b[0msecond\u001b[0m\u001b[0;34m\u001b[0m\u001b[0;34m\u001b[0m\u001b[0m\n\u001b[0m\u001b[1;32m      7\u001b[0m         \u001b[0;32mreturn\u001b[0m \u001b[0mresult\u001b[0m\u001b[0;34m\u001b[0m\u001b[0;34m\u001b[0m\u001b[0m\n\u001b[1;32m      8\u001b[0m     \u001b[0;32mdef\u001b[0m \u001b[0mmul\u001b[0m\u001b[0;34m(\u001b[0m\u001b[0mself\u001b[0m\u001b[0;34m)\u001b[0m\u001b[0;34m:\u001b[0m\u001b[0;34m\u001b[0m\u001b[0;34m\u001b[0m\u001b[0m\n",
            "\u001b[0;31mAttributeError\u001b[0m: 'FourCal' object has no attribute 'first'"
          ]
        }
      ]
    },
    {
      "cell_type": "markdown",
      "source": [
        "setdata와 같은 역할을 하는게 _ _ init _ _이라는 이름을 가진 생성자 함수이다!"
      ],
      "metadata": {
        "id": "LSLY-CGxZJtJ"
      }
    },
    {
      "cell_type": "code",
      "source": [
        "class FourCal:\n",
        "    # 생성자 함수 추가\n",
        "    def __init__(self, first, second):\n",
        "        self.first = first\n",
        "        self.second = second\n",
        "    def add(self):\n",
        "        result = self.first + self.second\n",
        "        return result\n",
        "    def mul(self):\n",
        "        result = self.first * self.second\n",
        "        return result\n",
        "    def sub(self):\n",
        "        result = self.first - self.second\n",
        "        return result\n",
        "    def div(self):\n",
        "        result = self.first / self.second\n",
        "        return result"
      ],
      "metadata": {
        "id": "ygcaz9tzZAXO"
      },
      "execution_count": 22,
      "outputs": []
    },
    {
      "cell_type": "code",
      "source": [
        "# 생성자가 객체를 만들자마자 자동으로 호출됨\n",
        "# 근데 first, second에 해당 인자가 없어서 오류..\n",
        "\n",
        "a.FourCal()"
      ],
      "metadata": {
        "colab": {
          "base_uri": "https://localhost:8080/",
          "height": 200
        },
        "id": "HuvFm499ZhNk",
        "outputId": "ba34d12c-4098-4440-c9c8-5355b9d0a15a"
      },
      "execution_count": 24,
      "outputs": [
        {
          "output_type": "error",
          "ename": "AttributeError",
          "evalue": "ignored",
          "traceback": [
            "\u001b[0;31m---------------------------------------------------------------------------\u001b[0m",
            "\u001b[0;31mAttributeError\u001b[0m                            Traceback (most recent call last)",
            "\u001b[0;32m<ipython-input-24-2708d67bd9a0>\u001b[0m in \u001b[0;36m<module>\u001b[0;34m()\u001b[0m\n\u001b[1;32m      2\u001b[0m \u001b[0;31m# 근데 first, second에 해당 인자가 없어서 오류..\u001b[0m\u001b[0;34m\u001b[0m\u001b[0;34m\u001b[0m\u001b[0;34m\u001b[0m\u001b[0m\n\u001b[1;32m      3\u001b[0m \u001b[0;34m\u001b[0m\u001b[0m\n\u001b[0;32m----> 4\u001b[0;31m \u001b[0ma\u001b[0m\u001b[0;34m.\u001b[0m\u001b[0mFourCal\u001b[0m\u001b[0;34m(\u001b[0m\u001b[0;34m)\u001b[0m\u001b[0;34m\u001b[0m\u001b[0;34m\u001b[0m\u001b[0m\n\u001b[0m",
            "\u001b[0;31mAttributeError\u001b[0m: 'FourCal' object has no attribute 'FourCal'"
          ]
        }
      ]
    },
    {
      "cell_type": "markdown",
      "source": [
        "생성자가 있으면 해당 포맷에 맞춰 초깃값을 전달해야 함"
      ],
      "metadata": {
        "id": "7c5AfCKwZuDw"
      }
    },
    {
      "cell_type": "code",
      "source": [
        "a = FourCal(4,2)"
      ],
      "metadata": {
        "id": "XFwNGxnCZlvH"
      },
      "execution_count": 25,
      "outputs": []
    },
    {
      "cell_type": "code",
      "source": [
        "print(a.first, a.second)"
      ],
      "metadata": {
        "colab": {
          "base_uri": "https://localhost:8080/"
        },
        "id": "qBGN_XQzZzhe",
        "outputId": "0edabadc-a677-40d5-9a6d-714a00a626b8"
      },
      "execution_count": 26,
      "outputs": [
        {
          "output_type": "stream",
          "name": "stdout",
          "text": [
            "4 2\n"
          ]
        }
      ]
    },
    {
      "cell_type": "code",
      "source": [
        "# 메서드 동작 확인\n",
        "\n",
        "print(a.add())\n",
        "print(a.div())"
      ],
      "metadata": {
        "colab": {
          "base_uri": "https://localhost:8080/"
        },
        "id": "PF19l0cdZ1wY",
        "outputId": "cf897253-5266-4d16-940e-fd19c04110d5"
      },
      "execution_count": 27,
      "outputs": [
        {
          "output_type": "stream",
          "name": "stdout",
          "text": [
            "6\n",
            "2.0\n"
          ]
        }
      ]
    },
    {
      "cell_type": "markdown",
      "source": [
        "###클래스의 상속\n",
        "\n",
        "- 형식 : class 클래스 이름(상속할 클래스 이름):\n",
        "- 상속받은 클래스의 모든 메서드를 사용할 수 있다.\n",
        "- **메서드 오버라이딩**\n",
        "    - 자식 클래스에서 부모 클래스와 동일한 이름을 갖는 메서드를 정의하는 것\n",
        "    - 자식 클래스의 인스턴스가 생성되면 **자식 클래스의 메서드**를 따름"
      ],
      "metadata": {
        "id": "O0Obe6kXaHfF"
      }
    },
    {
      "cell_type": "code",
      "source": [
        "# 제곱 계산하는 연산이 포함된 클래스\n",
        "\n",
        "class MoreFourCal(FourCal):\n",
        "    # 기존 FourCal의 메서드도 활용가능\n",
        "    \n",
        "    def pow(self):\n",
        "        result = self.first ** self.second\n",
        "        return result"
      ],
      "metadata": {
        "id": "4PPgnowZZ6gs"
      },
      "execution_count": 28,
      "outputs": []
    },
    {
      "cell_type": "code",
      "source": [
        "# 동작 확인\n",
        "a = MoreFourCal(4,2)"
      ],
      "metadata": {
        "id": "Ix0bUtfca9hK"
      },
      "execution_count": 29,
      "outputs": []
    },
    {
      "cell_type": "code",
      "source": [
        "print(a.pow())"
      ],
      "metadata": {
        "colab": {
          "base_uri": "https://localhost:8080/"
        },
        "id": "e96LCFHCbBc4",
        "outputId": "d9e5a50c-2dc3-465a-bf14-635e13861aa5"
      },
      "execution_count": 30,
      "outputs": [
        {
          "output_type": "stream",
          "name": "stdout",
          "text": [
            "16\n"
          ]
        }
      ]
    },
    {
      "cell_type": "markdown",
      "source": [
        "**메서드 오버라이딩**\n",
        "\n",
        "- 메서드 오버라이딩을 이용해서 0으로 나누었을 때 예외처리를 하는 클래스 생성"
      ],
      "metadata": {
        "id": "6VPOz2e6bEEl"
      }
    },
    {
      "cell_type": "code",
      "source": [
        "# 원 클래스는 에러발생\n",
        "\n",
        "a = FourCal(4,0)\n",
        "print(a.div())"
      ],
      "metadata": {
        "colab": {
          "base_uri": "https://localhost:8080/",
          "height": 304
        },
        "id": "ju-Xb62ObCQm",
        "outputId": "44374ba4-bc55-4e99-88ec-fc1377eb91b3"
      },
      "execution_count": 31,
      "outputs": [
        {
          "output_type": "error",
          "ename": "ZeroDivisionError",
          "evalue": "ignored",
          "traceback": [
            "\u001b[0;31m---------------------------------------------------------------------------\u001b[0m",
            "\u001b[0;31mZeroDivisionError\u001b[0m                         Traceback (most recent call last)",
            "\u001b[0;32m<ipython-input-31-aa870f305f25>\u001b[0m in \u001b[0;36m<module>\u001b[0;34m()\u001b[0m\n\u001b[1;32m      2\u001b[0m \u001b[0;34m\u001b[0m\u001b[0m\n\u001b[1;32m      3\u001b[0m \u001b[0ma\u001b[0m \u001b[0;34m=\u001b[0m \u001b[0mFourCal\u001b[0m\u001b[0;34m(\u001b[0m\u001b[0;36m4\u001b[0m\u001b[0;34m,\u001b[0m\u001b[0;36m0\u001b[0m\u001b[0;34m)\u001b[0m\u001b[0;34m\u001b[0m\u001b[0;34m\u001b[0m\u001b[0m\n\u001b[0;32m----> 4\u001b[0;31m \u001b[0mprint\u001b[0m\u001b[0;34m(\u001b[0m\u001b[0ma\u001b[0m\u001b[0;34m.\u001b[0m\u001b[0mdiv\u001b[0m\u001b[0;34m(\u001b[0m\u001b[0;34m)\u001b[0m\u001b[0;34m)\u001b[0m\u001b[0;34m\u001b[0m\u001b[0;34m\u001b[0m\u001b[0m\n\u001b[0m",
            "\u001b[0;32m<ipython-input-22-1d979d9a1048>\u001b[0m in \u001b[0;36mdiv\u001b[0;34m(self)\u001b[0m\n\u001b[1;32m     14\u001b[0m         \u001b[0;32mreturn\u001b[0m \u001b[0mresult\u001b[0m\u001b[0;34m\u001b[0m\u001b[0;34m\u001b[0m\u001b[0m\n\u001b[1;32m     15\u001b[0m     \u001b[0;32mdef\u001b[0m \u001b[0mdiv\u001b[0m\u001b[0;34m(\u001b[0m\u001b[0mself\u001b[0m\u001b[0;34m)\u001b[0m\u001b[0;34m:\u001b[0m\u001b[0;34m\u001b[0m\u001b[0;34m\u001b[0m\u001b[0m\n\u001b[0;32m---> 16\u001b[0;31m         \u001b[0mresult\u001b[0m \u001b[0;34m=\u001b[0m \u001b[0mself\u001b[0m\u001b[0;34m.\u001b[0m\u001b[0mfirst\u001b[0m \u001b[0;34m/\u001b[0m \u001b[0mself\u001b[0m\u001b[0;34m.\u001b[0m\u001b[0msecond\u001b[0m\u001b[0;34m\u001b[0m\u001b[0;34m\u001b[0m\u001b[0m\n\u001b[0m\u001b[1;32m     17\u001b[0m         \u001b[0;32mreturn\u001b[0m \u001b[0mresult\u001b[0m\u001b[0;34m\u001b[0m\u001b[0;34m\u001b[0m\u001b[0m\n",
            "\u001b[0;31mZeroDivisionError\u001b[0m: division by zero"
          ]
        }
      ]
    },
    {
      "cell_type": "code",
      "source": [
        "class SafeFourCal(FourCal):\n",
        "    def div(self):\n",
        "        if self.second == 0:\n",
        "            return 0\n",
        "        else:\n",
        "            result = self.first / self.second\n",
        "            return result"
      ],
      "metadata": {
        "id": "RUVbhasgbSgF"
      },
      "execution_count": 32,
      "outputs": []
    },
    {
      "cell_type": "code",
      "source": [
        "a = SafeFourCal(4,0)\n",
        "print(a.div())"
      ],
      "metadata": {
        "colab": {
          "base_uri": "https://localhost:8080/"
        },
        "id": "E6lJNc3qbg6k",
        "outputId": "cd5010c8-96e8-47bf-b7a9-a71ccebe3ebe"
      },
      "execution_count": 33,
      "outputs": [
        {
          "output_type": "stream",
          "name": "stdout",
          "text": [
            "0\n"
          ]
        }
      ]
    },
    {
      "cell_type": "markdown",
      "source": [
        "연습) 곱하는 값이 0일 경우 'Fail' 문자열을 출력하는 클래스 FailFourCal을 만들자"
      ],
      "metadata": {
        "id": "IPdMMPf7cWPu"
      }
    },
    {
      "cell_type": "code",
      "source": [
        "class FailFourCal(FourCal):\n",
        "    def mul(self):\n",
        "        if self.second == 0:\n",
        "            print('Fail')\n",
        "        else:\n",
        "            return self.first * self.second"
      ],
      "metadata": {
        "id": "YlTLWo6IbojP"
      },
      "execution_count": 34,
      "outputs": []
    },
    {
      "cell_type": "code",
      "source": [
        "a = FailFourCal(4,0)\n",
        "print(a.mul())"
      ],
      "metadata": {
        "colab": {
          "base_uri": "https://localhost:8080/"
        },
        "id": "QxPxKdLGcwCi",
        "outputId": "52bf61a1-04cd-49e2-fa94-4e5600cd17a3"
      },
      "execution_count": 36,
      "outputs": [
        {
          "output_type": "stream",
          "name": "stdout",
          "text": [
            "Fail\n",
            "None\n"
          ]
        }
      ]
    },
    {
      "cell_type": "markdown",
      "source": [
        "###클래스 변수\n",
        "\n",
        "- 클래스 선언할 때 변수 선언하면 클래스 변수임\n",
        "- 해당 클래스로 만든 객체는 모두 같은 클래스 변수를 공유함\n",
        "- 클래스 변수 변경도 가능"
      ],
      "metadata": {
        "id": "JsitXMtAc5FX"
      }
    },
    {
      "cell_type": "code",
      "source": [
        "class Family:\n",
        "    lastname = '김'     #클래스 변수"
      ],
      "metadata": {
        "id": "kY6xS1xScy68"
      },
      "execution_count": 39,
      "outputs": []
    },
    {
      "cell_type": "code",
      "source": [
        "print(Family.lastname)"
      ],
      "metadata": {
        "colab": {
          "base_uri": "https://localhost:8080/"
        },
        "id": "KqKOe1wOdHVW",
        "outputId": "368e8025-515f-463e-f1e0-a991c0c3d469"
      },
      "execution_count": 40,
      "outputs": [
        {
          "output_type": "stream",
          "name": "stdout",
          "text": [
            "김\n"
          ]
        }
      ]
    },
    {
      "cell_type": "code",
      "source": [
        "a = Family()\n",
        "b = Family()\n",
        "print(a.lastname, b.lastname)"
      ],
      "metadata": {
        "colab": {
          "base_uri": "https://localhost:8080/"
        },
        "id": "UExmFspsdInr",
        "outputId": "be2957cf-deea-4727-ea83-a30db29baa4f"
      },
      "execution_count": 41,
      "outputs": [
        {
          "output_type": "stream",
          "name": "stdout",
          "text": [
            "김 김\n"
          ]
        }
      ]
    },
    {
      "cell_type": "code",
      "source": [
        "Family.lastname = '박'"
      ],
      "metadata": {
        "id": "VIhOtgwVdXvP"
      },
      "execution_count": 42,
      "outputs": []
    },
    {
      "cell_type": "code",
      "source": [
        "# 클래스 변수 바꾸면 모든 객체의 클래스변수 값도 변경됨\n",
        "\n",
        "print(a.lastname, b.lastname)"
      ],
      "metadata": {
        "colab": {
          "base_uri": "https://localhost:8080/"
        },
        "id": "rmn7AzhodafZ",
        "outputId": "5306d54f-871e-4007-b557-e6dd65d4271b"
      },
      "execution_count": 44,
      "outputs": [
        {
          "output_type": "stream",
          "name": "stdout",
          "text": [
            "박 박\n"
          ]
        }
      ]
    },
    {
      "cell_type": "code",
      "source": [
        "# 클래스 변수 주소가 모두 동일 -> 같은 값을 공유..\n",
        "\n",
        "print(id(Family.lastname))\n",
        "print(id(a.lastname))\n",
        "print(id(b.lastname))"
      ],
      "metadata": {
        "colab": {
          "base_uri": "https://localhost:8080/"
        },
        "id": "kWcTVsVPdc7R",
        "outputId": "9c98d67f-0d6a-4ebb-fae3-f3a7eaaa0d65"
      },
      "execution_count": 45,
      "outputs": [
        {
          "output_type": "stream",
          "name": "stdout",
          "text": [
            "140353617504496\n",
            "140353617504496\n",
            "140353617504496\n"
          ]
        }
      ]
    },
    {
      "cell_type": "markdown",
      "source": [
        "##연습문제"
      ],
      "metadata": {
        "id": "ORJllk6xfnOP"
      }
    },
    {
      "cell_type": "markdown",
      "source": [
        "![image.png](data:image/png;base64,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)"
      ],
      "metadata": {
        "id": "DKMQfb9IgaGZ"
      }
    },
    {
      "cell_type": "code",
      "source": [
        "class Calculator():\n",
        "    def __init__(self, nums):\n",
        "        self.nums = nums\n",
        "    \n",
        "    def sum(self):\n",
        "        result = sum(self.nums)\n",
        "        return result\n",
        "    \n",
        "    def avg(self):\n",
        "        return self.sum() / len(self.nums)"
      ],
      "metadata": {
        "id": "KmBs9NiWdn3C"
      },
      "execution_count": 46,
      "outputs": []
    },
    {
      "cell_type": "code",
      "source": [
        "cal1 = Calculator([1,2,3,4,5])"
      ],
      "metadata": {
        "id": "pK0ymyqyhBB7"
      },
      "execution_count": 47,
      "outputs": []
    },
    {
      "cell_type": "code",
      "source": [
        "cal1.sum()"
      ],
      "metadata": {
        "colab": {
          "base_uri": "https://localhost:8080/"
        },
        "id": "TJcLaZLDhGR3",
        "outputId": "823a5699-e338-46ce-ab86-c4040d6d1dd6"
      },
      "execution_count": 48,
      "outputs": [
        {
          "output_type": "execute_result",
          "data": {
            "text/plain": [
              "15"
            ]
          },
          "metadata": {},
          "execution_count": 48
        }
      ]
    },
    {
      "cell_type": "code",
      "source": [
        "cal1.avg()"
      ],
      "metadata": {
        "colab": {
          "base_uri": "https://localhost:8080/"
        },
        "id": "74yTipkrhHSi",
        "outputId": "105d9a4b-7e4c-46e0-a7d0-20394583dea9"
      },
      "execution_count": 50,
      "outputs": [
        {
          "output_type": "execute_result",
          "data": {
            "text/plain": [
              "3.0"
            ]
          },
          "metadata": {},
          "execution_count": 50
        }
      ]
    },
    {
      "cell_type": "code",
      "source": [
        "cal2 = Calculator([6,7,8,9,10])"
      ],
      "metadata": {
        "id": "Aa2Ztb3-hItV"
      },
      "execution_count": 51,
      "outputs": []
    },
    {
      "cell_type": "code",
      "source": [
        "cal2.sum()"
      ],
      "metadata": {
        "colab": {
          "base_uri": "https://localhost:8080/"
        },
        "id": "MOEA1h3whMpg",
        "outputId": "0c7863d0-407c-4f72-94e9-0e2472671b0b"
      },
      "execution_count": 52,
      "outputs": [
        {
          "output_type": "execute_result",
          "data": {
            "text/plain": [
              "40"
            ]
          },
          "metadata": {},
          "execution_count": 52
        }
      ]
    },
    {
      "cell_type": "code",
      "source": [
        "cal2.avg()"
      ],
      "metadata": {
        "colab": {
          "base_uri": "https://localhost:8080/"
        },
        "id": "dbW3axE7hNzS",
        "outputId": "c0981860-f876-466a-9260-ac65aedcede4"
      },
      "execution_count": 53,
      "outputs": [
        {
          "output_type": "execute_result",
          "data": {
            "text/plain": [
              "8.0"
            ]
          },
          "metadata": {},
          "execution_count": 53
        }
      ]
    }
  ]
}