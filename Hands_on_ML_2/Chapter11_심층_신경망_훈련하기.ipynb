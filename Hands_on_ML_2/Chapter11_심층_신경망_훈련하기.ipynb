{
  "nbformat": 4,
  "nbformat_minor": 0,
  "metadata": {
    "colab": {
      "name": "Chapter11. 심층 신경망 훈련하기",
      "provenance": []
    },
    "kernelspec": {
      "name": "python3",
      "display_name": "Python 3"
    },
    "language_info": {
      "name": "python"
    }
  },
  "cells": [
    {
      "cell_type": "code",
      "metadata": {
        "id": "4ZY0RRIIfpBz"
      },
      "source": [
        "import numpy as np\n",
        "import pandas as pd\n",
        "import matplotlib.pyplot as plt\n",
        "import tensorflow as tf\n",
        "import keras"
      ],
      "execution_count": null,
      "outputs": []
    },
    {
      "cell_type": "markdown",
      "metadata": {
        "id": "MmmZuDfGHFiR"
      },
      "source": [
        "#11.1 그레이디언트 소실과 폭주 문제"
      ]
    },
    {
      "cell_type": "markdown",
      "metadata": {
        "id": "aaNJx2VeHFY4"
      },
      "source": [
        "##11.1.1 글로럿과 He 초기화"
      ]
    },
    {
      "cell_type": "code",
      "metadata": {
        "colab": {
          "base_uri": "https://localhost:8080/"
        },
        "id": "vWx6vhOmfniE",
        "outputId": "f28be10e-1154-45b1-ea2e-39e248aec454"
      },
      "source": [
        "keras.layers.Dense(10, activation=\"relu\", kernel_initializer=\"he_normal\")"
      ],
      "execution_count": null,
      "outputs": [
        {
          "output_type": "execute_result",
          "data": {
            "text/plain": [
              "<keras.layers.core.Dense at 0x7f3582c4ed50>"
            ]
          },
          "metadata": {},
          "execution_count": 2
        }
      ]
    },
    {
      "cell_type": "code",
      "metadata": {
        "colab": {
          "base_uri": "https://localhost:8080/"
        },
        "id": "teKahH-of6us",
        "outputId": "fe4cb875-937e-45a1-fef7-c74340d53544"
      },
      "source": [
        "he_avg_init = keras.initializers.VarianceScaling(scale=2., mode='fan_avg', distribution='uniform')\n",
        "keras.layers.Dense(10, activation=\"sigmoid\", kernel_initializer=he_avg_init)"
      ],
      "execution_count": null,
      "outputs": [
        {
          "output_type": "execute_result",
          "data": {
            "text/plain": [
              "<keras.layers.core.Dense at 0x7f3582bd2790>"
            ]
          },
          "metadata": {},
          "execution_count": 3
        }
      ]
    },
    {
      "cell_type": "markdown",
      "metadata": {
        "id": "OJHD08_3HFPl"
      },
      "source": [
        "##11.1.2 수렴하지 않는 활성화 함수"
      ]
    },
    {
      "cell_type": "code",
      "metadata": {
        "id": "bSPu2KivgMcX"
      },
      "source": [
        "#LeakyReLU 활성화 함수하려면 아예 층을 만들어서 추가해야한다..\n",
        "\n",
        "model = keras.models.Sequential([\n",
        "    keras.layers.Dense(30, activation=\"relu\", input_shape=[8]),\n",
        "    keras.layers.Dense(30, activation=\"relu\"),\n",
        "    keras.layers.Dense(10, kernel_initializer=\"he_normal\"),\n",
        "    keras.layers.LeakyReLU(alpha=0.2),       #활성화함수 층 추가..\n",
        "    keras.layers.Dense(1)\n",
        "])"
      ],
      "execution_count": null,
      "outputs": []
    },
    {
      "cell_type": "code",
      "metadata": {
        "id": "vJ87BAIjhUih"
      },
      "source": [
        "#SELU 활성화함수는 그냥 매개변수 조작만..\n",
        "\n",
        "layer = keras.layers.Dense(10, activation=\"selu\", kernel_initializer=\"lecun_normal\")"
      ],
      "execution_count": null,
      "outputs": []
    },
    {
      "cell_type": "markdown",
      "metadata": {
        "id": "YGAepy9YHFGa"
      },
      "source": [
        "##11.1.3 배치 정규화"
      ]
    },
    {
      "cell_type": "markdown",
      "metadata": {
        "id": "w-XhSzfpHE9I"
      },
      "source": [
        "### 케라스로 배치 정규화 구현하기"
      ]
    },
    {
      "cell_type": "code",
      "metadata": {
        "id": "Tin949vfBkhK"
      },
      "source": [
        "model = keras.models.Sequential([\n",
        "    keras.layers.Flatten(input_shape=[28,28]),\n",
        "    keras.layers.BatchNormalization(),\n",
        "    keras.layers.Dense(300, activation='elu', kernel_initializer=\"he_normal\"),\n",
        "    keras.layers.BatchNormalization(),\n",
        "    keras.layers.Dense(100, activation='elu', kernel_initializer=\"he_normal\"),\n",
        "    keras.layers.BatchNormalization(),\n",
        "    keras.layers.Dense(10, activation='softmax')\n",
        "])"
      ],
      "execution_count": null,
      "outputs": []
    },
    {
      "cell_type": "code",
      "metadata": {
        "colab": {
          "base_uri": "https://localhost:8080/"
        },
        "id": "bUj_mzfhCC9I",
        "outputId": "b2da64be-a0d0-478a-e596-57a279970269"
      },
      "source": [
        "model.summary()"
      ],
      "execution_count": null,
      "outputs": [
        {
          "output_type": "stream",
          "name": "stdout",
          "text": [
            "Model: \"sequential_1\"\n",
            "_________________________________________________________________\n",
            "Layer (type)                 Output Shape              Param #   \n",
            "=================================================================\n",
            "flatten (Flatten)            (None, 784)               0         \n",
            "_________________________________________________________________\n",
            "batch_normalization (BatchNo (None, 784)               3136      \n",
            "_________________________________________________________________\n",
            "dense_7 (Dense)              (None, 300)               235500    \n",
            "_________________________________________________________________\n",
            "batch_normalization_1 (Batch (None, 300)               1200      \n",
            "_________________________________________________________________\n",
            "dense_8 (Dense)              (None, 100)               30100     \n",
            "_________________________________________________________________\n",
            "batch_normalization_2 (Batch (None, 100)               400       \n",
            "_________________________________________________________________\n",
            "dense_9 (Dense)              (None, 10)                1010      \n",
            "=================================================================\n",
            "Total params: 271,346\n",
            "Trainable params: 268,978\n",
            "Non-trainable params: 2,368\n",
            "_________________________________________________________________\n"
          ]
        }
      ]
    },
    {
      "cell_type": "markdown",
      "metadata": {
        "id": "b_yzEcnJDhwf"
      },
      "source": [
        "- 배치 정규화 층에서 입력마다 네 개의 파라미터 $\\gamma, \\beta, \\mu, \\sigma$를 학습한다..\n",
        "\n",
        "- $\\mu, \\sigma$는 이동평균이고, 역전파로 학습되지 않으므로 Non-trainable 파라미터로 분류된다..\n",
        "    - Non-trainable params : 2 * (784 + 300 + 100) = 2368"
      ]
    },
    {
      "cell_type": "code",
      "metadata": {
        "colab": {
          "base_uri": "https://localhost:8080/"
        },
        "id": "vyTSfZSFEugd",
        "outputId": "f60f304a-5f36-40a5-a72f-6eba35a15d94"
      },
      "source": [
        "#Non-trainable params확인..\n",
        "#이동평균, 이동표준편차는 추정되는 것.. -> Non-trainable..\n",
        "\n",
        "[(var.name, var.trainable) for var in model.layers[1].variables]"
      ],
      "execution_count": null,
      "outputs": [
        {
          "output_type": "execute_result",
          "data": {
            "text/plain": [
              "[('batch_normalization/gamma:0', True),\n",
              " ('batch_normalization/beta:0', True),\n",
              " ('batch_normalization/moving_mean:0', False),\n",
              " ('batch_normalization/moving_variance:0', False)]"
            ]
          },
          "metadata": {},
          "execution_count": 8
        }
      ]
    },
    {
      "cell_type": "code",
      "metadata": {
        "colab": {
          "base_uri": "https://localhost:8080/"
        },
        "id": "MyMDCoJLFRsW",
        "outputId": "fde17639-f9fa-4c54-e135-e02e8c9c971e"
      },
      "source": [
        "#제거될 속성..\n",
        "model.layers[1].updates"
      ],
      "execution_count": null,
      "outputs": [
        {
          "output_type": "stream",
          "name": "stderr",
          "text": [
            "/usr/local/lib/python3.7/dist-packages/keras/engine/base_layer.py:1348: UserWarning: `layer.updates` will be removed in a future version. This property should not be used in TensorFlow 2.0, as `updates` are applied automatically.\n",
            "  warnings.warn('`layer.updates` will be removed in a future version. '\n"
          ]
        },
        {
          "output_type": "execute_result",
          "data": {
            "text/plain": [
              "[]"
            ]
          },
          "metadata": {},
          "execution_count": 9
        }
      ]
    },
    {
      "cell_type": "markdown",
      "metadata": {
        "id": "VEWnQp-QHEzw"
      },
      "source": [
        "##11.1.4 그레이디언트 클리핑"
      ]
    },
    {
      "cell_type": "markdown",
      "metadata": {
        "id": "Y_vXZJ70HEqe"
      },
      "source": [
        "#11.2 사전훈련된 층 재사용하기"
      ]
    },
    {
      "cell_type": "markdown",
      "metadata": {
        "id": "0MahtBqRHEhg"
      },
      "source": [
        "##11.2.1 케라스를 사용한 전이 학습"
      ]
    },
    {
      "cell_type": "markdown",
      "metadata": {
        "id": "TcxHevgBHEYD"
      },
      "source": [
        "##11.2.2 비지도 사전훈련"
      ]
    },
    {
      "cell_type": "markdown",
      "metadata": {
        "id": "6IM2NhiJHEPh"
      },
      "source": [
        "##11.2.3 보조 작업에서 사전훈련"
      ]
    },
    {
      "cell_type": "markdown",
      "metadata": {
        "id": "LVHSv-AXHEHA"
      },
      "source": [
        "#11.3 고속 옵티마이저"
      ]
    },
    {
      "cell_type": "markdown",
      "metadata": {
        "id": "z4Wm4VY2HD-R"
      },
      "source": [
        "##11.3.1 모멘텀 최적화"
      ]
    },
    {
      "cell_type": "markdown",
      "metadata": {
        "id": "oAdtgaj-HD11"
      },
      "source": [
        "##11.3.2 네스테로프 가속 경사"
      ]
    },
    {
      "cell_type": "markdown",
      "metadata": {
        "id": "7LKnGieHHDtU"
      },
      "source": [
        "##11.3.3 AdaGrad"
      ]
    },
    {
      "cell_type": "markdown",
      "metadata": {
        "id": "AJzQ6tb2HDkn"
      },
      "source": [
        "##11.3.4 RMSProp"
      ]
    },
    {
      "cell_type": "markdown",
      "metadata": {
        "id": "e5zBuoeuHDbm"
      },
      "source": [
        "##11.3.5 Adam과 Nadam 최적화"
      ]
    },
    {
      "cell_type": "markdown",
      "metadata": {
        "id": "0H6BX3S-HDSy"
      },
      "source": [
        "##11.3.6 학습률 스케쥴링"
      ]
    },
    {
      "cell_type": "markdown",
      "metadata": {
        "id": "sCjJ_d_kHDKO"
      },
      "source": [
        "#11.4 규제를 사용해 과대적합 피하기"
      ]
    },
    {
      "cell_type": "markdown",
      "metadata": {
        "id": "2we8gESMHDCn"
      },
      "source": [
        "##11.4.1 $l_1$과 $l_2$ 규제"
      ]
    },
    {
      "cell_type": "markdown",
      "metadata": {
        "id": "6i6r-pJOHC6h"
      },
      "source": [
        "##11.4.2 드롭아웃"
      ]
    },
    {
      "cell_type": "markdown",
      "metadata": {
        "id": "epD2tdv5HCun"
      },
      "source": [
        "##11.4.3 몬테 카를로 드롭아웃"
      ]
    },
    {
      "cell_type": "markdown",
      "metadata": {
        "id": "cAeuxvd-HCmK"
      },
      "source": [
        "##11.4.4. 맥스-노름 규제"
      ]
    },
    {
      "cell_type": "markdown",
      "metadata": {
        "id": "MFMdC2dIHCfX"
      },
      "source": [
        "#11.5 요약 및 실욕적인 가이드라인"
      ]
    },
    {
      "cell_type": "markdown",
      "metadata": {
        "id": "a_c-8jRvITGv"
      },
      "source": [
        "#11.6 연습문제"
      ]
    },
    {
      "cell_type": "code",
      "metadata": {
        "id": "RYzskkE4GurM"
      },
      "source": [
        ""
      ],
      "execution_count": null,
      "outputs": []
    }
  ]
}