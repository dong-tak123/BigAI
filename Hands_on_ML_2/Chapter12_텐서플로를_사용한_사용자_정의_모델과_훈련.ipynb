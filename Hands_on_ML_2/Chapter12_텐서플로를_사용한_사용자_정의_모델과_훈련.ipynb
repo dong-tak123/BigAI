{
  "nbformat": 4,
  "nbformat_minor": 0,
  "metadata": {
    "colab": {
      "name": "Chapter12. 텐서플로를 사용한 사용자 정의 모델과 훈련",
      "provenance": []
    },
    "kernelspec": {
      "name": "python3",
      "display_name": "Python 3"
    },
    "language_info": {
      "name": "python"
    }
  },
  "cells": [
    {
      "cell_type": "code",
      "metadata": {
        "id": "H1aV5uP-Bbk8"
      },
      "source": [
        "import tensorflow as tf\n",
        "from tensorflow import keras\n",
        "import numpy as np\n",
        "import pandas as pd\n",
        "import matplotlib.pyplot as plt"
      ],
      "execution_count": 96,
      "outputs": []
    },
    {
      "cell_type": "markdown",
      "metadata": {
        "id": "ZICh7dl1AZnK"
      },
      "source": [
        "#12.1 텐서플로 훑어보기"
      ]
    },
    {
      "cell_type": "markdown",
      "metadata": {
        "id": "CMQzqQ6fAZjk"
      },
      "source": [
        "#12.2 넘파이처럼 텐서플로 사용하기"
      ]
    },
    {
      "cell_type": "markdown",
      "metadata": {
        "id": "DPahM9LMBuH4"
      },
      "source": [
        "tf.constant() 함수로 텐서 만들기"
      ]
    },
    {
      "cell_type": "markdown",
      "metadata": {
        "id": "RbQUVBw1AZg_"
      },
      "source": [
        "##12.2.1 텐서와 연산"
      ]
    },
    {
      "cell_type": "code",
      "metadata": {
        "colab": {
          "base_uri": "https://localhost:8080/"
        },
        "id": "b45KvmZNBeri",
        "outputId": "00f47926-9523-40ba-abe5-7bd753eefe28"
      },
      "source": [
        "tf.constant([[1., 2., 3.], [4., 5., 6.]])   #행렬"
      ],
      "execution_count": 2,
      "outputs": [
        {
          "output_type": "execute_result",
          "data": {
            "text/plain": [
              "<tf.Tensor: shape=(2, 3), dtype=float32, numpy=\n",
              "array([[1., 2., 3.],\n",
              "       [4., 5., 6.]], dtype=float32)>"
            ]
          },
          "metadata": {},
          "execution_count": 2
        }
      ]
    },
    {
      "cell_type": "code",
      "metadata": {
        "colab": {
          "base_uri": "https://localhost:8080/"
        },
        "id": "yT_G3RkWBpNI",
        "outputId": "3ec1fd36-f465-411d-c591-95fbd85f0878"
      },
      "source": [
        "tf.constant(42)     #스칼라"
      ],
      "execution_count": 3,
      "outputs": [
        {
          "output_type": "execute_result",
          "data": {
            "text/plain": [
              "<tf.Tensor: shape=(), dtype=int32, numpy=42>"
            ]
          },
          "metadata": {},
          "execution_count": 3
        }
      ]
    },
    {
      "cell_type": "code",
      "metadata": {
        "colab": {
          "base_uri": "https://localhost:8080/"
        },
        "id": "DS0MLqFLB0CH",
        "outputId": "71ab1a24-da13-403b-fd16-9de648497466"
      },
      "source": [
        "#데이터 타입과 크기도 있다..\n",
        "\n",
        "t = tf.constant([[1., 2., 3.], [4., 5., 6.]])\n",
        "t.shape, t.dtype"
      ],
      "execution_count": 4,
      "outputs": [
        {
          "output_type": "execute_result",
          "data": {
            "text/plain": [
              "(TensorShape([2, 3]), tf.float32)"
            ]
          },
          "metadata": {},
          "execution_count": 4
        }
      ]
    },
    {
      "cell_type": "code",
      "metadata": {
        "colab": {
          "base_uri": "https://localhost:8080/"
        },
        "id": "gcX60xKRCA-C",
        "outputId": "6e4966af-dc30-45e3-ff76-2d6117346476"
      },
      "source": [
        "#인덱스 참조도 넘파이와 비슷..\n",
        "\n",
        "t[:, 1:]    #행은 다 가져오고 열은 1열 부터.."
      ],
      "execution_count": 5,
      "outputs": [
        {
          "output_type": "execute_result",
          "data": {
            "text/plain": [
              "<tf.Tensor: shape=(2, 2), dtype=float32, numpy=\n",
              "array([[2., 3.],\n",
              "       [5., 6.]], dtype=float32)>"
            ]
          },
          "metadata": {},
          "execution_count": 5
        }
      ]
    },
    {
      "cell_type": "code",
      "metadata": {
        "colab": {
          "base_uri": "https://localhost:8080/"
        },
        "id": "JNc8dcVlCKUI",
        "outputId": "470aa38e-becf-4a3c-8748-7381da0d3480"
      },
      "source": [
        "#newaxis..??\n",
        "\n",
        "t[..., 1, tf.newaxis]"
      ],
      "execution_count": 6,
      "outputs": [
        {
          "output_type": "execute_result",
          "data": {
            "text/plain": [
              "<tf.Tensor: shape=(2, 1), dtype=float32, numpy=\n",
              "array([[2.],\n",
              "       [5.]], dtype=float32)>"
            ]
          },
          "metadata": {},
          "execution_count": 6
        }
      ]
    },
    {
      "cell_type": "markdown",
      "metadata": {
        "id": "lSJjNQQ1D-qu"
      },
      "source": [
        "###텐서의 연산..\n",
        "\n",
        "- 모든 종류의 텐서 연산 가능\n",
        "- 넘파이와 비슷한 기능을 하는 메서드가 많지만, 이름을 정확히 해야함.."
      ]
    },
    {
      "cell_type": "code",
      "metadata": {
        "colab": {
          "base_uri": "https://localhost:8080/"
        },
        "id": "tsxblwKLECjs",
        "outputId": "75b6d15c-a3ba-4967-c957-091e3931e334"
      },
      "source": [
        "t+10"
      ],
      "execution_count": 7,
      "outputs": [
        {
          "output_type": "execute_result",
          "data": {
            "text/plain": [
              "<tf.Tensor: shape=(2, 3), dtype=float32, numpy=\n",
              "array([[11., 12., 13.],\n",
              "       [14., 15., 16.]], dtype=float32)>"
            ]
          },
          "metadata": {},
          "execution_count": 7
        }
      ]
    },
    {
      "cell_type": "code",
      "metadata": {
        "colab": {
          "base_uri": "https://localhost:8080/"
        },
        "id": "kOdsjZI8EEHQ",
        "outputId": "0b5f3966-4da8-4d75-bd05-80812eb98e55"
      },
      "source": [
        "tf.square(t)"
      ],
      "execution_count": 8,
      "outputs": [
        {
          "output_type": "execute_result",
          "data": {
            "text/plain": [
              "<tf.Tensor: shape=(2, 3), dtype=float32, numpy=\n",
              "array([[ 1.,  4.,  9.],\n",
              "       [16., 25., 36.]], dtype=float32)>"
            ]
          },
          "metadata": {},
          "execution_count": 8
        }
      ]
    },
    {
      "cell_type": "code",
      "metadata": {
        "colab": {
          "base_uri": "https://localhost:8080/"
        },
        "id": "LXGkakw-EG2n",
        "outputId": "a3ea0aa2-f380-452d-c3da-236ab67b565c"
      },
      "source": [
        "#t와 t의 전치의 행렬 곱(@)\n",
        "\n",
        "t @ tf.transpose(t)"
      ],
      "execution_count": 9,
      "outputs": [
        {
          "output_type": "execute_result",
          "data": {
            "text/plain": [
              "<tf.Tensor: shape=(2, 2), dtype=float32, numpy=\n",
              "array([[14., 32.],\n",
              "       [32., 77.]], dtype=float32)>"
            ]
          },
          "metadata": {},
          "execution_count": 9
        }
      ]
    },
    {
      "cell_type": "markdown",
      "metadata": {
        "id": "eFsMnuwkFbTL"
      },
      "source": [
        "###케라스의 저수준 API\n",
        "\n",
        "- keras.backend 사용..\n",
        "- square(), exp(), sqrt()등의 함수가 포함됨.."
      ]
    },
    {
      "cell_type": "code",
      "metadata": {
        "colab": {
          "base_uri": "https://localhost:8080/"
        },
        "id": "_GG36ytSFdjK",
        "outputId": "c06c7016-5183-4ef2-cada-aad25922299e"
      },
      "source": [
        "from tensorflow import keras\n",
        "K = keras.backend\n",
        "\n",
        "#전치 후 제곱 후 10을 더히기\n",
        "K.square(K.transpose(t)) + 10"
      ],
      "execution_count": 10,
      "outputs": [
        {
          "output_type": "execute_result",
          "data": {
            "text/plain": [
              "<tf.Tensor: shape=(3, 2), dtype=float32, numpy=\n",
              "array([[11., 26.],\n",
              "       [14., 35.],\n",
              "       [19., 46.]], dtype=float32)>"
            ]
          },
          "metadata": {},
          "execution_count": 10
        }
      ]
    },
    {
      "cell_type": "markdown",
      "metadata": {
        "id": "gWRE-8fdAZev"
      },
      "source": [
        "##12.2.2 텐서와 넘파이\n",
        "\n",
        "- 넘파이랑 텐서플로 서로서로 연산 교차 가능.."
      ]
    },
    {
      "cell_type": "code",
      "metadata": {
        "colab": {
          "base_uri": "https://localhost:8080/"
        },
        "id": "JizZ9E5CF5uU",
        "outputId": "a3f12024-86a5-4197-b7ff-18b394029a0f"
      },
      "source": [
        "#넘파이 배열에서 텐서로 바꾸기..\n",
        "\n",
        "a = np.array([2., 4., 5.])\n",
        "tf.constant(a)"
      ],
      "execution_count": 11,
      "outputs": [
        {
          "output_type": "execute_result",
          "data": {
            "text/plain": [
              "<tf.Tensor: shape=(3,), dtype=float64, numpy=array([2., 4., 5.])>"
            ]
          },
          "metadata": {},
          "execution_count": 11
        }
      ]
    },
    {
      "cell_type": "code",
      "metadata": {
        "colab": {
          "base_uri": "https://localhost:8080/"
        },
        "id": "3yI-30YzGO_j",
        "outputId": "38806f61-ed8f-4487-fd73-034e55b23799"
      },
      "source": [
        "#다시 넘파이로..\n",
        "\n",
        "t.numpy()"
      ],
      "execution_count": 12,
      "outputs": [
        {
          "output_type": "execute_result",
          "data": {
            "text/plain": [
              "array([[1., 2., 3.],\n",
              "       [4., 5., 6.]], dtype=float32)"
            ]
          },
          "metadata": {},
          "execution_count": 12
        }
      ]
    },
    {
      "cell_type": "code",
      "metadata": {
        "colab": {
          "base_uri": "https://localhost:8080/"
        },
        "id": "-YHh2foYGSuu",
        "outputId": "dd8bac66-80ad-41d8-c8ad-db16ae4b5ea8"
      },
      "source": [
        "#넘파이 배열을 tf연산으로..\n",
        "\n",
        "tf.square(a)"
      ],
      "execution_count": 13,
      "outputs": [
        {
          "output_type": "execute_result",
          "data": {
            "text/plain": [
              "<tf.Tensor: shape=(3,), dtype=float64, numpy=array([ 4., 16., 25.])>"
            ]
          },
          "metadata": {},
          "execution_count": 13
        }
      ]
    },
    {
      "cell_type": "code",
      "metadata": {
        "colab": {
          "base_uri": "https://localhost:8080/"
        },
        "id": "0rwK27ByGlax",
        "outputId": "220647bf-728a-497a-b590-82e032cc06ef"
      },
      "source": [
        "#텐서를 넘파이 연산으로..\n",
        "\n",
        "np.square(t)"
      ],
      "execution_count": 14,
      "outputs": [
        {
          "output_type": "execute_result",
          "data": {
            "text/plain": [
              "array([[ 1.,  4.,  9.],\n",
              "       [16., 25., 36.]], dtype=float32)"
            ]
          },
          "metadata": {},
          "execution_count": 14
        }
      ]
    },
    {
      "cell_type": "markdown",
      "metadata": {
        "id": "DY8GeDsxAZcc"
      },
      "source": [
        "##12.2.3 타입 변환\n",
        "\n",
        "- 텐서플로는 자동 타입변환 하나도 없다..\n",
        "- 다른걸 더하려면 예외 발생!"
      ]
    },
    {
      "cell_type": "code",
      "metadata": {
        "colab": {
          "base_uri": "https://localhost:8080/"
        },
        "id": "egLFxugCG3-5",
        "outputId": "c9a85ef8-bc7d-418f-95ee-7f7be8a192a7"
      },
      "source": [
        "#실수형이라 정수형 더하니까 예외..\n",
        "\n",
        "try:\n",
        "    tf.constant(2.0) + tf.constant(40)\n",
        "except tf.errors.InvalidArgumentError as ex:\n",
        "    print(ex)"
      ],
      "execution_count": 15,
      "outputs": [
        {
          "output_type": "stream",
          "name": "stdout",
          "text": [
            "cannot compute AddV2 as input #1(zero-based) was expected to be a float tensor but is a int32 tensor [Op:AddV2]\n"
          ]
        }
      ]
    },
    {
      "cell_type": "code",
      "metadata": {
        "colab": {
          "base_uri": "https://localhost:8080/"
        },
        "id": "6IzKwU6DHCBW",
        "outputId": "915bdd6e-97ff-4970-b6d7-0cbeee17f781"
      },
      "source": [
        "#얘도..\n",
        "\n",
        "try:\n",
        "    tf.constant(2.0) + tf.constant(40., dtype=tf.float64)\n",
        "except tf.errors.InvalidArgumentError as ex:\n",
        "    print(ex)"
      ],
      "execution_count": 16,
      "outputs": [
        {
          "output_type": "stream",
          "name": "stdout",
          "text": [
            "cannot compute AddV2 as input #1(zero-based) was expected to be a float tensor but is a double tensor [Op:AddV2]\n"
          ]
        }
      ]
    },
    {
      "cell_type": "code",
      "metadata": {
        "colab": {
          "base_uri": "https://localhost:8080/"
        },
        "id": "sGU8zPywHIT3",
        "outputId": "be19b1ff-319f-49fa-b53f-3243874d7a37"
      },
      "source": [
        "#타입변환은 tf.cast()함수를 사용!!\n",
        "\n",
        "t2 = tf.constant(40., dtype=tf.float64)\n",
        "tf.constant(2.0) + tf.cast(t2, tf.float32)      #타입변환해서 더하니까 됨.."
      ],
      "execution_count": 17,
      "outputs": [
        {
          "output_type": "execute_result",
          "data": {
            "text/plain": [
              "<tf.Tensor: shape=(), dtype=float32, numpy=42.0>"
            ]
          },
          "metadata": {},
          "execution_count": 17
        }
      ]
    },
    {
      "cell_type": "markdown",
      "metadata": {
        "id": "X2S6N8m7AZZt"
      },
      "source": [
        "##12.2.4 변수\n",
        "\n",
        "- 앞선 tf.Tensor는 변경이 불가능했다..\n",
        "- 근데 변수 tf.Variable로 하면 변경 가능하다!"
      ]
    },
    {
      "cell_type": "code",
      "metadata": {
        "colab": {
          "base_uri": "https://localhost:8080/"
        },
        "id": "8iWut_dqHpPx",
        "outputId": "2809581c-d216-4fef-9e57-d7e40b7d843b"
      },
      "source": [
        "v = tf.Variable([[1., 2., 3.],[4., 5., 6.]])\n",
        "v"
      ],
      "execution_count": 18,
      "outputs": [
        {
          "output_type": "execute_result",
          "data": {
            "text/plain": [
              "<tf.Variable 'Variable:0' shape=(2, 3) dtype=float32, numpy=\n",
              "array([[1., 2., 3.],\n",
              "       [4., 5., 6.]], dtype=float32)>"
            ]
          },
          "metadata": {},
          "execution_count": 18
        }
      ]
    },
    {
      "cell_type": "markdown",
      "metadata": {
        "id": "agQYJYE4H0Ct"
      },
      "source": [
        "assign()메서드로 변숫값을 바꿀 수 있다!!"
      ]
    },
    {
      "cell_type": "code",
      "metadata": {
        "colab": {
          "base_uri": "https://localhost:8080/"
        },
        "id": "Ss62ddDHHpEa",
        "outputId": "25a07c0a-6682-4b87-b677-dad48cad72a2"
      },
      "source": [
        "v.assign(2*v)"
      ],
      "execution_count": 19,
      "outputs": [
        {
          "output_type": "execute_result",
          "data": {
            "text/plain": [
              "<tf.Variable 'UnreadVariable' shape=(2, 3) dtype=float32, numpy=\n",
              "array([[ 2.,  4.,  6.],\n",
              "       [ 8., 10., 12.]], dtype=float32)>"
            ]
          },
          "metadata": {},
          "execution_count": 19
        }
      ]
    },
    {
      "cell_type": "code",
      "metadata": {
        "colab": {
          "base_uri": "https://localhost:8080/"
        },
        "id": "8FWXL671HnLA",
        "outputId": "7b4bab45-01e6-4322-f3b4-8872201a3438"
      },
      "source": [
        "v[0,1].assign(42)"
      ],
      "execution_count": 20,
      "outputs": [
        {
          "output_type": "execute_result",
          "data": {
            "text/plain": [
              "<tf.Variable 'UnreadVariable' shape=(2, 3) dtype=float32, numpy=\n",
              "array([[ 2., 42.,  6.],\n",
              "       [ 8., 10., 12.]], dtype=float32)>"
            ]
          },
          "metadata": {},
          "execution_count": 20
        }
      ]
    },
    {
      "cell_type": "code",
      "metadata": {
        "colab": {
          "base_uri": "https://localhost:8080/"
        },
        "id": "iwxxpf9oH9jb",
        "outputId": "3d8ffbe3-18d3-4527-a217-01b12214de35"
      },
      "source": [
        "v[:, 2].assign([0., 1.])"
      ],
      "execution_count": 21,
      "outputs": [
        {
          "output_type": "execute_result",
          "data": {
            "text/plain": [
              "<tf.Variable 'UnreadVariable' shape=(2, 3) dtype=float32, numpy=\n",
              "array([[ 2., 42.,  0.],\n",
              "       [ 8., 10.,  1.]], dtype=float32)>"
            ]
          },
          "metadata": {},
          "execution_count": 21
        }
      ]
    },
    {
      "cell_type": "code",
      "metadata": {
        "colab": {
          "base_uri": "https://localhost:8080/"
        },
        "id": "uGquvT7JH9V3",
        "outputId": "014e412b-0841-4476-9d19-fc0756f42e2e"
      },
      "source": [
        "v.scatter_nd_update(indices=[[0,0], [1,2]], updates=[100., 200.])"
      ],
      "execution_count": 22,
      "outputs": [
        {
          "output_type": "execute_result",
          "data": {
            "text/plain": [
              "<tf.Variable 'UnreadVariable' shape=(2, 3) dtype=float32, numpy=\n",
              "array([[100.,  42.,   0.],\n",
              "       [  8.,  10., 200.]], dtype=float32)>"
            ]
          },
          "metadata": {},
          "execution_count": 22
        }
      ]
    },
    {
      "cell_type": "code",
      "metadata": {
        "colab": {
          "base_uri": "https://localhost:8080/"
        },
        "id": "IRhUJQl2Iaf2",
        "outputId": "45af8853-6555-4b9f-f57b-298c5eb9bd23"
      },
      "source": [
        "#일반적으로 할당하면 에러가 남..\n",
        "\n",
        "try:\n",
        "    v[1] = [7., 8., 9.]\n",
        "except TypeError as ex:\n",
        "    print(ex)"
      ],
      "execution_count": 23,
      "outputs": [
        {
          "output_type": "stream",
          "name": "stdout",
          "text": [
            "'ResourceVariable' object does not support item assignment\n"
          ]
        }
      ]
    },
    {
      "cell_type": "markdown",
      "metadata": {
        "id": "FXthcRHCAZXV"
      },
      "source": [
        "##12.2.5 다른 데이터 구조"
      ]
    },
    {
      "cell_type": "markdown",
      "metadata": {
        "id": "pos7NhUMI78W"
      },
      "source": [
        "###희소 텐서\n",
        "\n",
        "- 대부분 0으로 채워진 텐서\n",
        "- 제약이 좀 많네..\n",
        "    - 정렬이 안 되어있으면 밀집행렬로 안 바뀜\n",
        "    - 실수형 더하는건 안됨..\n",
        "    - 희소행렬과 밀집행렬을 곱하려면 sparse.sparse_dense_matmul() 메서드 사용.."
      ]
    },
    {
      "cell_type": "code",
      "metadata": {
        "id": "MOCdlWTwJAsH"
      },
      "source": [
        "s = tf.SparseTensor(indices=[[0, 1], [1, 0], [2, 3]],\n",
        "                    values=[1., 2., 3.],\n",
        "                    dense_shape=[3, 4])"
      ],
      "execution_count": 24,
      "outputs": []
    },
    {
      "cell_type": "code",
      "metadata": {
        "colab": {
          "base_uri": "https://localhost:8080/"
        },
        "id": "qYOaZ1wTJN3t",
        "outputId": "d0de9ee6-45de-4113-e4b6-2b73972ec827"
      },
      "source": [
        "print(s)"
      ],
      "execution_count": 25,
      "outputs": [
        {
          "output_type": "stream",
          "name": "stdout",
          "text": [
            "SparseTensor(indices=tf.Tensor(\n",
            "[[0 1]\n",
            " [1 0]\n",
            " [2 3]], shape=(3, 2), dtype=int64), values=tf.Tensor([1. 2. 3.], shape=(3,), dtype=float32), dense_shape=tf.Tensor([3 4], shape=(2,), dtype=int64))\n"
          ]
        }
      ]
    },
    {
      "cell_type": "code",
      "metadata": {
        "colab": {
          "base_uri": "https://localhost:8080/"
        },
        "id": "g5jqnN93JSDN",
        "outputId": "095f52a7-22a0-42f6-a717-92b3f1f13803"
      },
      "source": [
        "#밀집행렬로 바꾸기.. 깊복은 아님..\n",
        "\n",
        "tf.sparse.to_dense(s)"
      ],
      "execution_count": 26,
      "outputs": [
        {
          "output_type": "execute_result",
          "data": {
            "text/plain": [
              "<tf.Tensor: shape=(3, 4), dtype=float32, numpy=\n",
              "array([[0., 1., 0., 0.],\n",
              "       [2., 0., 0., 0.],\n",
              "       [0., 0., 0., 3.]], dtype=float32)>"
            ]
          },
          "metadata": {},
          "execution_count": 26
        }
      ]
    },
    {
      "cell_type": "code",
      "metadata": {
        "id": "DobtkPxRJcAf"
      },
      "source": [
        "s2 = s *2.0"
      ],
      "execution_count": 27,
      "outputs": []
    },
    {
      "cell_type": "code",
      "metadata": {
        "colab": {
          "base_uri": "https://localhost:8080/"
        },
        "id": "dv2nTq9nJe43",
        "outputId": "39fdeea0-fbf8-4c4d-834f-87fef83d9f1f"
      },
      "source": [
        "print(s2)"
      ],
      "execution_count": 28,
      "outputs": [
        {
          "output_type": "stream",
          "name": "stdout",
          "text": [
            "SparseTensor(indices=tf.Tensor(\n",
            "[[0 1]\n",
            " [1 0]\n",
            " [2 3]], shape=(3, 2), dtype=int64), values=tf.Tensor([2. 4. 6.], shape=(3,), dtype=float32), dense_shape=tf.Tensor([3 4], shape=(2,), dtype=int64))\n"
          ]
        }
      ]
    },
    {
      "cell_type": "code",
      "metadata": {
        "colab": {
          "base_uri": "https://localhost:8080/"
        },
        "id": "fhjTKD_uJjd9",
        "outputId": "50544ea8-18be-452d-ddf8-b5680ea0fecb"
      },
      "source": [
        "#희소행렬에 실수형을 더하면 예외..\n",
        "\n",
        "try:\n",
        "    s3 = s + 1.\n",
        "except TypeError as ex:\n",
        "    print(ex)"
      ],
      "execution_count": 29,
      "outputs": [
        {
          "output_type": "stream",
          "name": "stdout",
          "text": [
            "unsupported operand type(s) for +: 'SparseTensor' and 'float'\n"
          ]
        }
      ]
    },
    {
      "cell_type": "code",
      "metadata": {
        "colab": {
          "base_uri": "https://localhost:8080/"
        },
        "id": "3swOBk4IJ3GM",
        "outputId": "fd1a861f-0cd1-461a-be1d-50d77498176d"
      },
      "source": [
        "#밀집행렬..\n",
        "s4 = tf.constant([[10., 20.], [30., 40.], [50., 60.], [70., 80.]])\n",
        "\n",
        "#희소행렬과 밀집행렬 곱할 때 사용하는 메서드\n",
        "tf.sparse.sparse_dense_matmul(s, s4)"
      ],
      "execution_count": 30,
      "outputs": [
        {
          "output_type": "execute_result",
          "data": {
            "text/plain": [
              "<tf.Tensor: shape=(3, 2), dtype=float32, numpy=\n",
              "array([[ 30.,  40.],\n",
              "       [ 20.,  40.],\n",
              "       [210., 240.]], dtype=float32)>"
            ]
          },
          "metadata": {},
          "execution_count": 30
        }
      ]
    },
    {
      "cell_type": "code",
      "metadata": {
        "colab": {
          "base_uri": "https://localhost:8080/"
        },
        "id": "4gVdAy2HK3sk",
        "outputId": "d4fe03a6-5ddf-4fc9-f0b5-39403e601817"
      },
      "source": [
        "#순서가 안맞으면 밀집행렬로 못바꿈..\n",
        "\n",
        "s5 = tf.SparseTensor(indices=[[0, 2], [0, 1]],      #순서가 안맞음..\n",
        "                     values=[1., 2.],\n",
        "                     dense_shape=[3, 4])\n",
        "print(s5)"
      ],
      "execution_count": 31,
      "outputs": [
        {
          "output_type": "stream",
          "name": "stdout",
          "text": [
            "SparseTensor(indices=tf.Tensor(\n",
            "[[0 2]\n",
            " [0 1]], shape=(2, 2), dtype=int64), values=tf.Tensor([1. 2.], shape=(2,), dtype=float32), dense_shape=tf.Tensor([3 4], shape=(2,), dtype=int64))\n"
          ]
        }
      ]
    },
    {
      "cell_type": "code",
      "metadata": {
        "colab": {
          "base_uri": "https://localhost:8080/"
        },
        "id": "0xsGs6CyKvtK",
        "outputId": "3537f7b1-78cf-4fba-86d1-32ef988c222a"
      },
      "source": [
        "try:\n",
        "    tf.sparse.to_dense(s5)\n",
        "except tf.errors.InvalidArgumentError as ex:\n",
        "    print(ex)"
      ],
      "execution_count": 32,
      "outputs": [
        {
          "output_type": "stream",
          "name": "stdout",
          "text": [
            "indices[1] = [0,1] is out of order. Many sparse ops require sorted indices.\n",
            "    Use `tf.sparse.reorder` to create a correctly ordered copy.\n",
            "\n",
            " [Op:SparseToDense]\n"
          ]
        }
      ]
    },
    {
      "cell_type": "code",
      "metadata": {
        "colab": {
          "base_uri": "https://localhost:8080/"
        },
        "id": "NyXcs0SbKzzi",
        "outputId": "ecc5eae4-a623-4bf7-c8bb-35fc9ff89119"
      },
      "source": [
        "s6 = tf.sparse.reorder(s5)  #reorder해야 변환 가능..\n",
        "tf.sparse.to_dense(s6)"
      ],
      "execution_count": 33,
      "outputs": [
        {
          "output_type": "execute_result",
          "data": {
            "text/plain": [
              "<tf.Tensor: shape=(3, 4), dtype=float32, numpy=\n",
              "array([[0., 2., 1., 0.],\n",
              "       [0., 0., 0., 0.],\n",
              "       [0., 0., 0., 0.]], dtype=float32)>"
            ]
          },
          "metadata": {},
          "execution_count": 33
        }
      ]
    },
    {
      "cell_type": "markdown",
      "metadata": {
        "id": "lkg5IlAD1qUN"
      },
      "source": [
        "###문자열"
      ]
    },
    {
      "cell_type": "code",
      "metadata": {
        "colab": {
          "base_uri": "https://localhost:8080/"
        },
        "id": "WaExl8uP16ZT",
        "outputId": "e2b54eb1-afb8-4ac6-d5f0-a92607305733"
      },
      "source": [
        "tf.constant(b\"hello world\")"
      ],
      "execution_count": 34,
      "outputs": [
        {
          "output_type": "execute_result",
          "data": {
            "text/plain": [
              "<tf.Tensor: shape=(), dtype=string, numpy=b'hello world'>"
            ]
          },
          "metadata": {},
          "execution_count": 34
        }
      ]
    },
    {
      "cell_type": "code",
      "metadata": {
        "colab": {
          "base_uri": "https://localhost:8080/"
        },
        "id": "0ISboV9V19pW",
        "outputId": "1445f48a-d63b-4915-ae98-bb086f48abd2"
      },
      "source": [
        "tf.constant(\"cafe\")"
      ],
      "execution_count": 35,
      "outputs": [
        {
          "output_type": "execute_result",
          "data": {
            "text/plain": [
              "<tf.Tensor: shape=(), dtype=string, numpy=b'cafe'>"
            ]
          },
          "metadata": {},
          "execution_count": 35
        }
      ]
    },
    {
      "cell_type": "code",
      "metadata": {
        "colab": {
          "base_uri": "https://localhost:8080/"
        },
        "id": "XfJQby-S19iE",
        "outputId": "73126951-6716-41a7-d4b3-691b0c75111d"
      },
      "source": [
        "#아스키 코드값으로 리스트를 만든다..\n",
        "u = tf.constant([ord(c) for c in \"cafe\"])\n",
        "u"
      ],
      "execution_count": 37,
      "outputs": [
        {
          "output_type": "execute_result",
          "data": {
            "text/plain": [
              "<tf.Tensor: shape=(4,), dtype=int32, numpy=array([ 99,  97, 102, 101], dtype=int32)>"
            ]
          },
          "metadata": {},
          "execution_count": 37
        }
      ]
    },
    {
      "cell_type": "code",
      "metadata": {
        "colab": {
          "base_uri": "https://localhost:8080/"
        },
        "id": "ucRC4Agt19YC",
        "outputId": "42e42570-3b9b-4967-bc8f-a312a5fac7f6"
      },
      "source": [
        "#유니코드로 다시 인코딩..\n",
        "b = tf.strings.unicode_encode(u, \"UTF-8\")\n",
        "print(b)\n",
        "tf.strings.length(b, unit=\"UTF8_CHAR\")      #문자열의 길이.."
      ],
      "execution_count": 41,
      "outputs": [
        {
          "output_type": "stream",
          "name": "stdout",
          "text": [
            "tf.Tensor(b'cafe', shape=(), dtype=string)\n"
          ]
        },
        {
          "output_type": "execute_result",
          "data": {
            "text/plain": [
              "<tf.Tensor: shape=(), dtype=int32, numpy=4>"
            ]
          },
          "metadata": {},
          "execution_count": 41
        }
      ]
    },
    {
      "cell_type": "code",
      "metadata": {
        "colab": {
          "base_uri": "https://localhost:8080/"
        },
        "id": "b9N1zgQx19EI",
        "outputId": "8c285e0a-fcaa-4416-a71a-b7455110b5bc"
      },
      "source": [
        "#다시 아스키코드(숫자)로.. decode..\n",
        "tf.strings.unicode_decode(b, \"UTF-8\")"
      ],
      "execution_count": 42,
      "outputs": [
        {
          "output_type": "execute_result",
          "data": {
            "text/plain": [
              "<tf.Tensor: shape=(4,), dtype=int32, numpy=array([ 99,  97, 102, 101], dtype=int32)>"
            ]
          },
          "metadata": {},
          "execution_count": 42
        }
      ]
    },
    {
      "cell_type": "markdown",
      "metadata": {
        "id": "TVt0sMf22rRg"
      },
      "source": [
        "###문자열 배열"
      ]
    },
    {
      "cell_type": "code",
      "metadata": {
        "id": "BrutY8LQ2cn5"
      },
      "source": [
        "p = tf.constant([\"Café\", \"Coffee\", \"caffè\", \"咖啡\"])"
      ],
      "execution_count": 43,
      "outputs": []
    },
    {
      "cell_type": "code",
      "metadata": {
        "colab": {
          "base_uri": "https://localhost:8080/"
        },
        "id": "fyVgfxIN2zEH",
        "outputId": "10ae78e9-f438-4323-bb15-84f70fb679de"
      },
      "source": [
        "#문자열 배열에 있는 원소의 길이를 반환,.\n",
        "tf.strings.length(p, unit=\"UTF8_CHAR\")"
      ],
      "execution_count": 44,
      "outputs": [
        {
          "output_type": "execute_result",
          "data": {
            "text/plain": [
              "<tf.Tensor: shape=(4,), dtype=int32, numpy=array([4, 6, 5, 2], dtype=int32)>"
            ]
          },
          "metadata": {},
          "execution_count": 44
        }
      ]
    },
    {
      "cell_type": "code",
      "metadata": {
        "colab": {
          "base_uri": "https://localhost:8080/"
        },
        "id": "qXCzO4NJ2y7I",
        "outputId": "fde2f513-9612-4612-c6aa-de099bf9c727"
      },
      "source": [
        "#유니코드에서 숫자로 디코드..\n",
        "r = tf.strings.unicode_decode(p, \"UTF-8\")\n",
        "r"
      ],
      "execution_count": 45,
      "outputs": [
        {
          "output_type": "execute_result",
          "data": {
            "text/plain": [
              "<tf.RaggedTensor [[67, 97, 102, 233], [67, 111, 102, 102, 101, 101], [99, 97, 102, 102, 232], [21654, 21857]]>"
            ]
          },
          "metadata": {},
          "execution_count": 45
        }
      ]
    },
    {
      "cell_type": "code",
      "metadata": {
        "colab": {
          "base_uri": "https://localhost:8080/"
        },
        "id": "Rz89PR-p2yxg",
        "outputId": "3b598f88-171d-40b3-cd24-2811c7046d9c"
      },
      "source": [
        "print(r)"
      ],
      "execution_count": 46,
      "outputs": [
        {
          "output_type": "stream",
          "name": "stdout",
          "text": [
            "<tf.RaggedTensor [[67, 97, 102, 233], [67, 111, 102, 102, 101, 101], [99, 97, 102, 102, 232], [21654, 21857]]>\n"
          ]
        }
      ]
    },
    {
      "cell_type": "markdown",
      "metadata": {
        "id": "MlwiFnOP3FmK"
      },
      "source": [
        "###래그드 텐서\n",
        "\n",
        "- 리스트의 리스트\n",
        "- 동일한 데이터 타입을 가져야 하지만 리스트의 길이는 다를 수 있다.."
      ]
    },
    {
      "cell_type": "code",
      "metadata": {
        "colab": {
          "base_uri": "https://localhost:8080/"
        },
        "id": "1A71LB2i2yqM",
        "outputId": "a1307bec-9f92-44bd-8a03-cfa87bb4f85c"
      },
      "source": [
        "#얘는 래그드 텐서가 아님..\n",
        "print(r[1])"
      ],
      "execution_count": 47,
      "outputs": [
        {
          "output_type": "stream",
          "name": "stdout",
          "text": [
            "tf.Tensor([ 67 111 102 102 101 101], shape=(6,), dtype=int32)\n"
          ]
        }
      ]
    },
    {
      "cell_type": "code",
      "metadata": {
        "colab": {
          "base_uri": "https://localhost:8080/"
        },
        "id": "0ZAN10dF3QdP",
        "outputId": "edc6e673-8f7b-4df9-bc92-ee0a9ec4d40a"
      },
      "source": [
        "#얘는 리스트의 리스트다..\n",
        "print(r[1:3])"
      ],
      "execution_count": 48,
      "outputs": [
        {
          "output_type": "stream",
          "name": "stdout",
          "text": [
            "<tf.RaggedTensor [[67, 111, 102, 102, 101, 101], [99, 97, 102, 102, 232]]>\n"
          ]
        }
      ]
    },
    {
      "cell_type": "code",
      "metadata": {
        "colab": {
          "base_uri": "https://localhost:8080/"
        },
        "id": "KAwjjv7t3Sfu",
        "outputId": "9783c981-42d7-4e28-dfca-7241868fa0ab"
      },
      "source": [
        "#래그드 텐서 생성..\n",
        "r2 = tf.ragged.constant([[65,66],[],[67]])\n",
        "print(r.shape)\n",
        "print(r2.shape)\n",
        "\n",
        "#axis=0의 방향으로 연결시켰다..(얘는 무지성..)\n",
        "r_2 = tf.concat([r, r2], axis=0)\n",
        "print(r_2.shape)\n",
        "print(r_2)"
      ],
      "execution_count": 55,
      "outputs": [
        {
          "output_type": "stream",
          "name": "stdout",
          "text": [
            "(4, None)\n",
            "(3, None)\n",
            "(7, None)\n",
            "<tf.RaggedTensor [[67, 97, 102, 233], [67, 111, 102, 102, 101, 101], [99, 97, 102, 102, 232], [21654, 21857], [65, 66], [], [67]]>\n"
          ]
        }
      ]
    },
    {
      "cell_type": "code",
      "metadata": {
        "colab": {
          "base_uri": "https://localhost:8080/"
        },
        "id": "B-LLew263sAv",
        "outputId": "5dbc372c-8f5f-469e-991f-4ead0e6b2fec"
      },
      "source": [
        "r3 = tf.ragged.constant([[68, 69, 70], [71], [], [67]])\n",
        "\n",
        "print(r.shape)\n",
        "print(r3.shape)\n",
        "\n",
        "#얘는 row의 갯수가 같아야 axis=1로 조질수 있음\n",
        "r_3 = tf.concat([r, r3], axis=1)\n",
        "print(r_3.shape)\n",
        "print(r_3)"
      ],
      "execution_count": 56,
      "outputs": [
        {
          "output_type": "stream",
          "name": "stdout",
          "text": [
            "(4, None)\n",
            "(4, None)\n",
            "(4, None)\n",
            "<tf.RaggedTensor [[67, 97, 102, 233, 68, 69, 70], [67, 111, 102, 102, 101, 101, 71], [99, 97, 102, 102, 232], [21654, 21857, 67]]>\n"
          ]
        }
      ]
    },
    {
      "cell_type": "markdown",
      "metadata": {
        "id": "Q1_wyDZp46wt"
      },
      "source": [
        "###집합\n",
        "\n",
        "- tf.sets 패키지의 연산 활용..\n",
        "- 집합 연산 후 원소의 갯수가 많은 것 기준으로 shape이 결정되는 듯.."
      ]
    },
    {
      "cell_type": "code",
      "metadata": {
        "colab": {
          "base_uri": "https://localhost:8080/"
        },
        "id": "OFPUt6oo5F81",
        "outputId": "d1618484-a9f3-4887-9cff-d47ff30a9264"
      },
      "source": [
        "#set1 = [{2,3,5,7}, {7,9,0}]\n",
        "set1 = tf.constant([[2,3,5,7],[7,9,0,0]])\n",
        "\n",
        "#set2 = [{4,5,6}, {9,10,0}]\n",
        "set2 = tf.constant([[4,5,6], [9,10,0]])\n",
        "\n",
        "#인덱스가 맞는 거 끼리 합집합..\n",
        "tf.sparse.to_dense(tf.sets.union(set1, set2))"
      ],
      "execution_count": 58,
      "outputs": [
        {
          "output_type": "execute_result",
          "data": {
            "text/plain": [
              "<tf.Tensor: shape=(2, 6), dtype=int32, numpy=\n",
              "array([[ 2,  3,  4,  5,  6,  7],\n",
              "       [ 0,  7,  9, 10,  0,  0]], dtype=int32)>"
            ]
          },
          "metadata": {},
          "execution_count": 58
        }
      ]
    },
    {
      "cell_type": "code",
      "metadata": {
        "colab": {
          "base_uri": "https://localhost:8080/"
        },
        "id": "LJJmEiIk5oIP",
        "outputId": "27fe386f-a097-4387-f934-f381a3416b8d"
      },
      "source": [
        "tf.sparse.to_dense(tf.sets.difference(set1, set2))"
      ],
      "execution_count": 59,
      "outputs": [
        {
          "output_type": "execute_result",
          "data": {
            "text/plain": [
              "<tf.Tensor: shape=(2, 3), dtype=int32, numpy=\n",
              "array([[2, 3, 7],\n",
              "       [7, 0, 0]], dtype=int32)>"
            ]
          },
          "metadata": {},
          "execution_count": 59
        }
      ]
    },
    {
      "cell_type": "code",
      "metadata": {
        "colab": {
          "base_uri": "https://localhost:8080/"
        },
        "id": "24jD59Xr53pW",
        "outputId": "aab04758-7b8b-465f-94b0-44c20d1c22c1"
      },
      "source": [
        "tf.sparse.to_dense(tf.sets.intersection(set1, set2))"
      ],
      "execution_count": 60,
      "outputs": [
        {
          "output_type": "execute_result",
          "data": {
            "text/plain": [
              "<tf.Tensor: shape=(2, 2), dtype=int32, numpy=\n",
              "array([[5, 0],\n",
              "       [0, 9]], dtype=int32)>"
            ]
          },
          "metadata": {},
          "execution_count": 60
        }
      ]
    },
    {
      "cell_type": "markdown",
      "metadata": {
        "id": "oZEH869V6GUR"
      },
      "source": [
        "###텐서 배열\n",
        "\n",
        "- 매개변수 dynamic_size로 크기를 동적, 정적으로 할지 선택 가능..\n",
        "- clear_after_read : 읽고나서 지울거냐.. 기본값 True"
      ]
    },
    {
      "cell_type": "code",
      "metadata": {
        "id": "SLcbKYU36L9_"
      },
      "source": [
        "#텐서 배열에 크기 3으로 지정해놓고,\n",
        "array = tf.TensorArray(dtype=tf.float32, size=3, clear_after_read=False)\n",
        "\n",
        "#array.write를 사용해서 몇 번재에 뭐를 적을지 결정..\n",
        "array = array.write(0, tf.constant([1., 2.]))\n",
        "array = array.write(1, tf.constant([3., 10.]))\n",
        "array = array.write(2, tf.constant([5., 7.]))"
      ],
      "execution_count": 87,
      "outputs": []
    },
    {
      "cell_type": "code",
      "metadata": {
        "colab": {
          "base_uri": "https://localhost:8080/"
        },
        "id": "wyxtg_LK6ZF9",
        "outputId": "7c240f83-a5fc-44ec-d6f4-588f6e7e23f7"
      },
      "source": [
        "array"
      ],
      "execution_count": 88,
      "outputs": [
        {
          "output_type": "execute_result",
          "data": {
            "text/plain": [
              "<tensorflow.python.ops.tensor_array_ops.TensorArray at 0x7efb9dfe5f90>"
            ]
          },
          "metadata": {},
          "execution_count": 88
        }
      ]
    },
    {
      "cell_type": "code",
      "metadata": {
        "colab": {
          "base_uri": "https://localhost:8080/"
        },
        "id": "1fVJ1dsu6vCM",
        "outputId": "0d78c655-6b7c-4220-be83-91782837e844"
      },
      "source": [
        "array.read(2)"
      ],
      "execution_count": 89,
      "outputs": [
        {
          "output_type": "execute_result",
          "data": {
            "text/plain": [
              "<tf.Tensor: shape=(2,), dtype=float32, numpy=array([5., 7.], dtype=float32)>"
            ]
          },
          "metadata": {},
          "execution_count": 89
        }
      ]
    },
    {
      "cell_type": "code",
      "metadata": {
        "colab": {
          "base_uri": "https://localhost:8080/"
        },
        "id": "eI3i1pym6Y88",
        "outputId": "c544ab34-4f8f-4523-dd66-f8108d9123c1"
      },
      "source": [
        "array.stack()"
      ],
      "execution_count": 90,
      "outputs": [
        {
          "output_type": "execute_result",
          "data": {
            "text/plain": [
              "<tf.Tensor: shape=(3, 2), dtype=float32, numpy=\n",
              "array([[ 1.,  2.],\n",
              "       [ 3., 10.],\n",
              "       [ 5.,  7.]], dtype=float32)>"
            ]
          },
          "metadata": {},
          "execution_count": 90
        }
      ]
    },
    {
      "cell_type": "code",
      "metadata": {
        "colab": {
          "base_uri": "https://localhost:8080/"
        },
        "id": "pwg-3p0N8GfC",
        "outputId": "0690b04f-bbd4-4fff-adf4-c179e0cb6557"
      },
      "source": [
        "#tf.nn.moments : axes로 축을 지정하고 정규화하는 메서드..\n",
        "mean, variance = tf.nn.moments(array.stack(), axes=0)\n",
        "mean"
      ],
      "execution_count": 91,
      "outputs": [
        {
          "output_type": "execute_result",
          "data": {
            "text/plain": [
              "<tf.Tensor: shape=(2,), dtype=float32, numpy=array([3.       , 6.3333335], dtype=float32)>"
            ]
          },
          "metadata": {},
          "execution_count": 91
        }
      ]
    },
    {
      "cell_type": "code",
      "metadata": {
        "colab": {
          "base_uri": "https://localhost:8080/"
        },
        "id": "6BRSb_VY8GSi",
        "outputId": "98c4208c-84ed-4823-8c96-3814d472ff0c"
      },
      "source": [
        "variance"
      ],
      "execution_count": 92,
      "outputs": [
        {
          "output_type": "execute_result",
          "data": {
            "text/plain": [
              "<tf.Tensor: shape=(2,), dtype=float32, numpy=array([ 2.6666667, 10.888888 ], dtype=float32)>"
            ]
          },
          "metadata": {},
          "execution_count": 92
        }
      ]
    },
    {
      "cell_type": "markdown",
      "metadata": {
        "id": "85MIFdzwAZU-"
      },
      "source": [
        "#12.3 사용자 정의 모델과 훈련 알고리즘"
      ]
    },
    {
      "cell_type": "markdown",
      "metadata": {
        "id": "cGxcpcyqAZSi"
      },
      "source": [
        "##12.3.1 사용자 정의 손실 함수\n",
        "\n",
        "손실함수를 어떤걸 해야할까?\n",
        "\n",
        "- 평균 제곱 오차 : 너무 과한 벌칙 -> 정확하지 않은 모델..\n",
        "- 평균 절댓값 오차 : 너무 관대함.. -> 수렴하기까지 오랜 시간이 걸림..\n",
        "- 이럴 때 후버 손실 하용!\n",
        "    - 일정 범위 안에 있으면 제곱 오차, 밖이면 오차의 절댓값"
      ]
    },
    {
      "cell_type": "markdown",
      "metadata": {
        "id": "zQV0-LvYBN7h"
      },
      "source": [
        "###후버 손실 코딩..\n",
        "\n",
        "- tf.where(bool배열, 참일때 반환 값, 거짓일때 반환 값)"
      ]
    },
    {
      "cell_type": "code",
      "metadata": {
        "id": "yz6JtBVbBNax"
      },
      "source": [
        "def huber_fn(y_true, y_pred):\n",
        "    error = y_true - y_pred\n",
        "    #오차가 1보다 작은 위치를 나타내는 bool 배열을 생성..\n",
        "    is_small_error = tf.abs(error) < 1\n",
        "\n",
        "    squared_loss = tf.square(error) / 2         #제곱 오차\n",
        "    linear_loss = tf.abs(error) - 0.5           #절댓값 오차\n",
        "    \n",
        "    #1보다 오차가 작으면 제곱오차, 크면 절댓값 오차\n",
        "    return tf.where(is_small_error, squared_loss, linear_loss)"
      ],
      "execution_count": 94,
      "outputs": []
    },
    {
      "cell_type": "code",
      "metadata": {
        "colab": {
          "base_uri": "https://localhost:8080/",
          "height": 269
        },
        "id": "pAW5yzHFCHa-",
        "outputId": "a4d514ab-645e-4084-8ca2-1a6cdca94d69"
      },
      "source": [
        "#후버손실 그래프..\n",
        "\n",
        "plt.figure(figsize=(8, 3.5))\n",
        "z = np.linspace(-4, 4, 200)\n",
        "plt.plot(z, huber_fn(0, z), \"b-\", linewidth=2, label=\"huber($z$)\")\n",
        "plt.plot(z, z**2 / 2, \"b:\", linewidth=1, label=r\"$\\frac{1}{2}z^2$\")\n",
        "plt.plot([-1, -1], [0, huber_fn(0., -1.)], \"r--\")\n",
        "plt.plot([1, 1], [0, huber_fn(0., 1.)], \"r--\")\n",
        "plt.gca().axhline(y=0, color='k')\n",
        "plt.gca().axvline(x=0, color='k')\n",
        "plt.axis([-4, 4, 0, 4])\n",
        "plt.grid(True)\n",
        "plt.xlabel(\"$z$\")\n",
        "plt.legend(fontsize=14)\n",
        "plt.title(\"Huber loss\", fontsize=14)\n",
        "plt.show()"
      ],
      "execution_count": 95,
      "outputs": [
        {
          "output_type": "display_data",
          "data": {
            "image/png": "[encoded data removed]",
            "text/plain": [
              "<Figure size 576x252 with 1 Axes>"
            ]
          },
          "metadata": {
            "needs_background": "light"
          }
        }
      ]
    },
    {
      "cell_type": "markdown",
      "metadata": {
        "id": "xBQvKOgN_rPC"
      },
      "source": [
        "###캘리포니아 주택 데이터셋 적용"
      ]
    },
    {
      "cell_type": "code",
      "metadata": {
        "colab": {
          "base_uri": "https://localhost:8080/"
        },
        "id": "tt6yIkZr_62X",
        "outputId": "06b34d60-e838-41eb-b837-01a1d07113ff"
      },
      "source": [
        "from sklearn.datasets import fetch_california_housing\n",
        "from sklearn.model_selection import train_test_split\n",
        "from sklearn.preprocessing import StandardScaler\n",
        "\n",
        "housing = fetch_california_housing()\n",
        "\n",
        "#타겟은 2차원 리스트로 변형..\n",
        "X_train_full, X_test, y_train_full, y_test = train_test_split(\n",
        "    housing.data, housing.target.reshape(-1, 1), random_state=42)\n",
        "#검증세트도 분리..\n",
        "X_train, X_valid, y_train, y_valid = train_test_split(\n",
        "    X_train_full, y_train_full, random_state=42)\n",
        "\n",
        "#전처리..\n",
        "scaler = StandardScaler()\n",
        "X_train_scaled = scaler.fit_transform(X_train)\n",
        "X_valid_scaled = scaler.transform(X_valid)\n",
        "X_test_scaled = scaler.transform(X_test)"
      ],
      "execution_count": 93,
      "outputs": [
        {
          "output_type": "stream",
          "name": "stderr",
          "text": [
            "Downloading Cal. housing from https://ndownloader.figshare.com/files/5976036 to /root/scikit_learn_data\n"
          ]
        }
      ]
    },
    {
      "cell_type": "code",
      "metadata": {
        "id": "szYhl_QsCbvc"
      },
      "source": [
        "#샘플갯수 제외한 모양..\n",
        "input_shape = X_train.shape[1:]\n",
        "\n",
        "#활성화 함수 selu를 이용해서 르쿤정규 초기화 수행\n",
        "#자기정규화가 일어나므로 배치정규화 불필요..\n",
        "model = keras.models.Sequential([\n",
        "    keras.layers.Dense(30, activation=\"selu\", kernel_initializer=\"lecun_normal\",\n",
        "                        input_shape = input_shape),\n",
        "    keras.layers.Dense(1),\n",
        "])"
      ],
      "execution_count": 97,
      "outputs": []
    },
    {
      "cell_type": "code",
      "metadata": {
        "id": "HPNVYiGZDByd"
      },
      "source": [
        "model.compile(loss=huber_fn, optimizer=\"nadam\", metrics=[\"mae\"])"
      ],
      "execution_count": 98,
      "outputs": []
    },
    {
      "cell_type": "code",
      "metadata": {
        "colab": {
          "base_uri": "https://localhost:8080/"
        },
        "id": "mECT6dsPDHWL",
        "outputId": "6b1e7cc2-8d91-46ca-8e57-c043fa51789d"
      },
      "source": [
        "model.fit(X_train_scaled, y_train, epochs=2,\n",
        "          validation_data=(X_valid_scaled, y_valid))"
      ],
      "execution_count": 100,
      "outputs": [
        {
          "output_type": "stream",
          "name": "stdout",
          "text": [
            "Epoch 1/2\n",
            "363/363 [==============================] - 1s 2ms/step - loss: 0.6100 - mae: 0.9740 - val_loss: 0.2412 - val_mae: 0.5308\n",
            "Epoch 2/2\n",
            "363/363 [==============================] - 1s 2ms/step - loss: 0.2120 - mae: 0.5049 - val_loss: 0.1975 - val_mae: 0.4789\n"
          ]
        },
        {
          "output_type": "execute_result",
          "data": {
            "text/plain": [
              "<keras.callbacks.History at 0x7efb94c29510>"
            ]
          },
          "metadata": {},
          "execution_count": 100
        }
      ]
    },
    {
      "cell_type": "markdown",
      "metadata": {
        "id": "6ZRm7DyGAZQS"
      },
      "source": [
        "##12.3.2 사용자 정의 요소를 가진 모델을 저장하고 로드하기\n",
        "\n",
        "- 저장 시에는 상관없음..\n",
        "- 로드할 때는 딕셔너리로 사용자 정의 요소가 무엇인지 이름과 객체를 매핑해서 알려줘야 함"
      ]
    },
    {
      "cell_type": "code",
      "metadata": {
        "id": "LjcEN1LtDxf6"
      },
      "source": [
        "#저장은 스무스..\n",
        "model.save(\"my_model_with_a_custom_loss.h5\")"
      ],
      "execution_count": 101,
      "outputs": []
    },
    {
      "cell_type": "code",
      "metadata": {
        "id": "9RhYC7phD3jb"
      },
      "source": [
        "#로드할 땐 매핑해서..\n",
        "model = keras.models.load_model(\"my_model_with_a_custom_loss.h5\",\n",
        "                                custom_objects={\"huber_fn\": huber_fn})"
      ],
      "execution_count": 102,
      "outputs": []
    },
    {
      "cell_type": "code",
      "metadata": {
        "colab": {
          "base_uri": "https://localhost:8080/"
        },
        "id": "hO4ejbl3D3ZU",
        "outputId": "e436d044-b1f7-42a8-978f-02e4f7710a42"
      },
      "source": [
        "model.fit(X_train_scaled, y_train, epochs=2,\n",
        "          validation_data=(X_valid_scaled, y_valid))"
      ],
      "execution_count": 103,
      "outputs": [
        {
          "output_type": "stream",
          "name": "stdout",
          "text": [
            "Epoch 1/2\n",
            "363/363 [==============================] - 1s 2ms/step - loss: 0.2031 - mae: 0.4941 - val_loss: 0.1937 - val_mae: 0.4760\n",
            "Epoch 2/2\n",
            "363/363 [==============================] - 1s 2ms/step - loss: 0.1990 - mae: 0.4879 - val_loss: 0.1844 - val_mae: 0.4642\n"
          ]
        },
        {
          "output_type": "execute_result",
          "data": {
            "text/plain": [
              "<keras.callbacks.History at 0x7efb88e76050>"
            ]
          },
          "metadata": {},
          "execution_count": 103
        }
      ]
    },
    {
      "cell_type": "markdown",
      "metadata": {
        "id": "qw6mwuFcEOu-"
      },
      "source": [
        "앞선 후버 함수는 오차범위가 -1 ~ 1 이었다..\n",
        "\n",
        "이를 바꾸려면?? -> 매개변수를 받을 수 있는 함수를 구현.."
      ]
    },
    {
      "cell_type": "code",
      "metadata": {
        "id": "04d-M8PKD3Nr"
      },
      "source": [
        "#임계값을 지정할 수 있음..\n",
        "def create_huber(threshold=1.0):\n",
        "    def huber_fn(y_true, y_pred):\n",
        "        error = y_true - y_pred\n",
        "        is_small_error = tf.abs(error) < threshold\n",
        "\n",
        "        #임계값일때는 (오차의 제곱)/2로 동일하다..\n",
        "        squared_loss = tf.square(error) / 2\n",
        "        linear_loss = threshold * tf.abs(error) - threshold**2 / 2\n",
        "        return tf.where(is_small_error, squared_loss, linear_loss)\n",
        "    return huber_fn"
      ],
      "execution_count": 104,
      "outputs": []
    },
    {
      "cell_type": "code",
      "metadata": {
        "id": "XZSfKrsSD3CJ"
      },
      "source": [
        "model.compile(loss=create_huber(2.0), optimizer=\"nadam\", metrics=[\"mae\"])"
      ],
      "execution_count": 105,
      "outputs": []
    },
    {
      "cell_type": "code",
      "metadata": {
        "colab": {
          "base_uri": "https://localhost:8080/"
        },
        "id": "TEVhoTDWF5L1",
        "outputId": "58d794a4-a972-4587-a9e8-633ad226e150"
      },
      "source": [
        "model.fit(X_train_scaled, y_train, epochs=2,\n",
        "          validation_data=(X_valid_scaled, y_valid))"
      ],
      "execution_count": 106,
      "outputs": [
        {
          "output_type": "stream",
          "name": "stdout",
          "text": [
            "Epoch 1/2\n",
            "363/363 [==============================] - 1s 2ms/step - loss: 0.2202 - mae: 0.4872 - val_loss: 0.2363 - val_mae: 0.4799\n",
            "Epoch 2/2\n",
            "363/363 [==============================] - 1s 2ms/step - loss: 0.2176 - mae: 0.4843 - val_loss: 0.2144 - val_mae: 0.4717\n"
          ]
        },
        {
          "output_type": "execute_result",
          "data": {
            "text/plain": [
              "<keras.callbacks.History at 0x7efb8bfba510>"
            ]
          },
          "metadata": {},
          "execution_count": 106
        }
      ]
    },
    {
      "cell_type": "code",
      "metadata": {
        "id": "pvZyAy1XF4_V"
      },
      "source": [
        "#얘를 저장..\n",
        "\n",
        "model.save(\"my_model_with_a_custom_loss_threshold_2.h5\")"
      ],
      "execution_count": 107,
      "outputs": []
    },
    {
      "cell_type": "code",
      "metadata": {
        "id": "aHk1SyvMGKK6"
      },
      "source": [
        "#로드해올 때는 아까와 같이 딕셔너리로 이름과 객체 매핑..\n",
        "#이름은 저장한 케라스 모델에서 사용했던 함수 이름 \"huber_fn\"을 사용..\n",
        "\n",
        "model = keras.models.load_model(\"my_model_with_a_custom_loss_threshold_2.h5\",\n",
        "                                custom_objects={\"huber_fn\": create_huber(2.0)})"
      ],
      "execution_count": 108,
      "outputs": []
    },
    {
      "cell_type": "code",
      "metadata": {
        "colab": {
          "base_uri": "https://localhost:8080/"
        },
        "id": "oO4zK7NDGKBE",
        "outputId": "f8c2f2aa-144d-414d-e4cc-aa7c240fe804"
      },
      "source": [
        "model.fit(X_train_scaled, y_train, epochs=2,\n",
        "          validation_data=(X_valid_scaled, y_valid))"
      ],
      "execution_count": 109,
      "outputs": [
        {
          "output_type": "stream",
          "name": "stdout",
          "text": [
            "Epoch 1/2\n",
            "363/363 [==============================] - 1s 2ms/step - loss: 0.2143 - mae: 0.4807 - val_loss: 0.2106 - val_mae: 0.4653\n",
            "Epoch 2/2\n",
            "363/363 [==============================] - 1s 2ms/step - loss: 0.2127 - mae: 0.4779 - val_loss: 0.2076 - val_mae: 0.4608\n"
          ]
        },
        {
          "output_type": "execute_result",
          "data": {
            "text/plain": [
              "<keras.callbacks.History at 0x7efb8bd7e150>"
            ]
          },
          "metadata": {},
          "execution_count": 109
        }
      ]
    },
    {
      "cell_type": "markdown",
      "metadata": {
        "id": "caabs7VYH6WY"
      },
      "source": [
        "keras.losses.Loss 클래스를 상속하고 get_config()메서드를 구현해서 해결할 수도 있음.."
      ]
    },
    {
      "cell_type": "code",
      "metadata": {
        "id": "bpxuGtefGJ35"
      },
      "source": [
        "#코드 이해 필요..\n",
        "class HuberLoss(keras.losses.Loss):\n",
        "    def __init__(self, threshold=1.0, **kwargs):\n",
        "        self.threshold = threshold\n",
        "        super().__init__(**kwargs)\n",
        "    def call(self, y_true, y_pred):\n",
        "        error = y_true - y_pred\n",
        "        is_small_error = tf.abs(error) < self.threshold\n",
        "        squared_loss = tf.square(error) / 2\n",
        "        linear_loss  = self.threshold * tf.abs(error) - self.threshold**2 / 2\n",
        "        return tf.where(is_small_error, squared_loss, linear_loss)\n",
        "    def get_config(self):\n",
        "        base_config = super().get_config()\n",
        "        return {**base_config, \"threshold\": self.threshold}"
      ],
      "execution_count": 110,
      "outputs": []
    },
    {
      "cell_type": "code",
      "metadata": {
        "id": "-kubQtA_IENM"
      },
      "source": [
        "model = keras.models.Sequential([\n",
        "    keras.layers.Dense(30, activation=\"selu\", kernel_initializer=\"lecun_normal\",\n",
        "                       input_shape=input_shape),\n",
        "    keras.layers.Dense(1),\n",
        "])"
      ],
      "execution_count": 111,
      "outputs": []
    },
    {
      "cell_type": "code",
      "metadata": {
        "id": "khN5kCekIGY6"
      },
      "source": [
        "model.compile(loss=HuberLoss(2.), optimizer=\"nadam\", metrics=[\"mae\"])"
      ],
      "execution_count": 112,
      "outputs": []
    },
    {
      "cell_type": "code",
      "metadata": {
        "colab": {
          "base_uri": "https://localhost:8080/"
        },
        "id": "LCzj84kyIGNJ",
        "outputId": "9e009bbf-c34f-438b-d31e-61db456d431a"
      },
      "source": [
        "model.fit(X_train_scaled, y_train, epochs=2,\n",
        "          validation_data=(X_valid_scaled, y_valid))"
      ],
      "execution_count": 113,
      "outputs": [
        {
          "output_type": "stream",
          "name": "stdout",
          "text": [
            "Epoch 1/2\n",
            "363/363 [==============================] - 2s 2ms/step - loss: 0.9411 - mae: 1.0117 - val_loss: 0.2692 - val_mae: 0.5272\n",
            "Epoch 2/2\n",
            "363/363 [==============================] - 1s 2ms/step - loss: 0.2401 - mae: 0.5150 - val_loss: 0.2137 - val_mae: 0.4850\n"
          ]
        },
        {
          "output_type": "execute_result",
          "data": {
            "text/plain": [
              "<keras.callbacks.History at 0x7efb8bc49b50>"
            ]
          },
          "metadata": {},
          "execution_count": 113
        }
      ]
    },
    {
      "cell_type": "code",
      "metadata": {
        "id": "EnF_ET8CIK4v"
      },
      "source": [
        "#저장 및 복원..\n",
        "\n",
        "model.save(\"my_model_with_a_custom_loss_class.h5\")"
      ],
      "execution_count": 114,
      "outputs": []
    },
    {
      "cell_type": "code",
      "metadata": {
        "id": "taM9gg-MIP62"
      },
      "source": [
        "model = keras.models.load_model(\"my_model_with_a_custom_loss_class.h5\",\n",
        "                                custom_objects={\"HuberLoss\": HuberLoss})"
      ],
      "execution_count": 115,
      "outputs": []
    },
    {
      "cell_type": "code",
      "metadata": {
        "colab": {
          "base_uri": "https://localhost:8080/"
        },
        "id": "kT6-DBZ3IPv3",
        "outputId": "ea02a484-0d9d-4510-8ad9-8e36cb884012"
      },
      "source": [
        "model.fit(X_train_scaled, y_train, epochs=2,\n",
        "          validation_data=(X_valid_scaled, y_valid))"
      ],
      "execution_count": 116,
      "outputs": [
        {
          "output_type": "stream",
          "name": "stdout",
          "text": [
            "Epoch 1/2\n",
            "363/363 [==============================] - 1s 2ms/step - loss: 0.2313 - mae: 0.5035 - val_loss: 0.2118 - val_mae: 0.4779\n",
            "Epoch 2/2\n",
            "363/363 [==============================] - 1s 2ms/step - loss: 0.2244 - mae: 0.4959 - val_loss: 0.2481 - val_mae: 0.4906\n"
          ]
        },
        {
          "output_type": "execute_result",
          "data": {
            "text/plain": [
              "<keras.callbacks.History at 0x7efb8bc17ad0>"
            ]
          },
          "metadata": {},
          "execution_count": 116
        }
      ]
    },
    {
      "cell_type": "code",
      "metadata": {
        "colab": {
          "base_uri": "https://localhost:8080/"
        },
        "id": "jhEho1ozITbI",
        "outputId": "bf19bf38-2caf-4550-8ed5-32af91f9b2f3"
      },
      "source": [
        "#임계값 확인..\n",
        "\n",
        "model.loss.threshold"
      ],
      "execution_count": 117,
      "outputs": [
        {
          "output_type": "execute_result",
          "data": {
            "text/plain": [
              "2.0"
            ]
          },
          "metadata": {},
          "execution_count": 117
        }
      ]
    },
    {
      "cell_type": "markdown",
      "metadata": {
        "id": "PlrU9kyFAZOH"
      },
      "source": [
        "##12.3.3 활성화 함수, 초기화, 규제, 제한을 커스터마이징하기\n",
        "\n",
        "- 얘도 똑같다.. 저장할 땐 맘대론데 로드할 땐 딕셔너리로 매핑해서 해줘야한다.."
      ]
    },
    {
      "cell_type": "code",
      "metadata": {
        "id": "Uv7qaJTNIqAr"
      },
      "source": [
        "keras.backend.clear_session()\n",
        "np.random.seed(42)\n",
        "tf.random.set_seed(42)"
      ],
      "execution_count": 118,
      "outputs": []
    },
    {
      "cell_type": "code",
      "metadata": {
        "id": "_STT9mSTJIxD"
      },
      "source": [
        "def my_softplus(z): # tf.nn.softplus(z)와 동일.. log(1+x)\n",
        "    return tf.math.log(tf.exp(z) + 1.0)\n",
        "\n",
        "#글로럿 초기화 구현\n",
        "def my_glorot_initializer(shape, dtype=tf.float32):\n",
        "    stddev = tf.sqrt(2. / (shape[0] + shape[1]))\n",
        "    return tf.random.normal(shape, stddev=stddev, dtype=dtype)\n",
        "\n",
        "#l1 규제 구현\n",
        "def my_l1_regularizer(weights):\n",
        "    return tf.reduce_sum(tf.abs(0.01 * weights))\n",
        "\n",
        "#제한 구현..(가중치가 음수이면 0으로.. relu와 동일..)\n",
        "def my_positive_weights(weights): # tf.nn.relu(weights) 값을 반환합니다\n",
        "    return tf.where(weights < 0., tf.zeros_like(weights), weights)"
      ],
      "execution_count": 120,
      "outputs": []
    },
    {
      "cell_type": "code",
      "metadata": {
        "id": "c2mq-hxhJo4w"
      },
      "source": [
        "#사용자 정의한 걸로 층을 만듦..\n",
        "model = keras.models.Sequential([\n",
        "    keras.layers.Dense(30, activation=\"selu\", kernel_initializer=\"lecun_normal\",\n",
        "                       input_shape=input_shape),\n",
        "    keras.layers.Dense(1, activation=my_softplus,\n",
        "                       kernel_regularizer=my_l1_regularizer,\n",
        "                       kernel_constraint=my_positive_weights,\n",
        "                       kernel_initializer=my_glorot_initializer),\n",
        "])"
      ],
      "execution_count": 123,
      "outputs": []
    },
    {
      "cell_type": "code",
      "metadata": {
        "id": "pR_qHBDxJwgz"
      },
      "source": [
        "model.compile(loss=\"mse\", optimizer=\"nadam\", metrics=[\"mae\"])"
      ],
      "execution_count": 124,
      "outputs": []
    },
    {
      "cell_type": "code",
      "metadata": {
        "colab": {
          "base_uri": "https://localhost:8080/"
        },
        "id": "iFOCtHhWJwWs",
        "outputId": "aee5fe2d-6271-4f79-e553-6d6260582a20"
      },
      "source": [
        "model.fit(X_train_scaled, y_train, epochs=2,\n",
        "          validation_data=(X_valid_scaled, y_valid))"
      ],
      "execution_count": 125,
      "outputs": [
        {
          "output_type": "stream",
          "name": "stdout",
          "text": [
            "Epoch 1/2\n",
            "363/363 [==============================] - 1s 2ms/step - loss: 1.5542 - mae: 0.8962 - val_loss: 1.4154 - val_mae: 0.5607\n",
            "Epoch 2/2\n",
            "363/363 [==============================] - 1s 2ms/step - loss: 0.5943 - mae: 0.5256 - val_loss: 1.4399 - val_mae: 0.5137\n"
          ]
        },
        {
          "output_type": "execute_result",
          "data": {
            "text/plain": [
              "<keras.callbacks.History at 0x7efb8b8b4b10>"
            ]
          },
          "metadata": {},
          "execution_count": 125
        }
      ]
    },
    {
      "cell_type": "code",
      "metadata": {
        "id": "yp3RFPI2Jzas"
      },
      "source": [
        "#저장할땐 맘대로..\n",
        "model.save(\"my_model_with_many_custom_parts.h5\")"
      ],
      "execution_count": 126,
      "outputs": []
    },
    {
      "cell_type": "code",
      "metadata": {
        "id": "6yMYyPWZJ4cr"
      },
      "source": [
        "#로드할땐 매핑해서~\n",
        "model = keras.models.load_model(\n",
        "    \"my_model_with_many_custom_parts.h5\",\n",
        "    custom_objects={\n",
        "       \"my_l1_regularizer\": my_l1_regularizer,\n",
        "       \"my_positive_weights\": my_positive_weights,\n",
        "       \"my_glorot_initializer\": my_glorot_initializer,\n",
        "       \"my_softplus\": my_softplus,\n",
        "    })"
      ],
      "execution_count": 127,
      "outputs": []
    },
    {
      "cell_type": "markdown",
      "metadata": {
        "id": "vT4gE14zAZLy"
      },
      "source": [
        "##12.3.4 사용자 정의 지표"
      ]
    },
    {
      "cell_type": "markdown",
      "metadata": {
        "id": "gjiQh41cKas-"
      },
      "source": [
        "**손실**\n",
        "- 미분가능해야하고 그레이디언트가 모든 곳에서 0이 아니어야함\n",
        "- 쉽게 이해못해도 괜찮다..\n",
        "\n",
        "**지표**\n",
        "- 모델을 평가할 때 사용\n",
        "- 이해하기 쉬워야 한다\n",
        "- 미분 불가해도 되고 그레이디언트가 0이어도 괜찮다.."
      ]
    },
    {
      "cell_type": "code",
      "metadata": {
        "id": "iDT7u3jLJ4QM"
      },
      "source": [
        ""
      ],
      "execution_count": null,
      "outputs": []
    },
    {
      "cell_type": "markdown",
      "metadata": {
        "id": "WVAfGNvzAZJc"
      },
      "source": [
        "##12.3.5 사용자 정의 층"
      ]
    },
    {
      "cell_type": "markdown",
      "metadata": {
        "id": "HksMnoD4AZHE"
      },
      "source": [
        "##12.3.6 사용자 정의 모델"
      ]
    },
    {
      "cell_type": "markdown",
      "metadata": {
        "id": "jyssutmSAZEm"
      },
      "source": [
        "##12.3.7 모델 구성 요소에 기반한 손실과 지표"
      ]
    },
    {
      "cell_type": "markdown",
      "metadata": {
        "id": "cS2huCIbAZB-"
      },
      "source": [
        "##12.3.8 자동 미분을 사용하여 그레이디언트 계산하기"
      ]
    },
    {
      "cell_type": "markdown",
      "metadata": {
        "id": "5j2Pu9NcAY_o"
      },
      "source": [
        "##12.3.9 사용자 정의 훈련 반복"
      ]
    },
    {
      "cell_type": "markdown",
      "metadata": {
        "id": "aL77ji5AAY9G"
      },
      "source": [
        "#12.4 텐서플로 함수와 그래프"
      ]
    },
    {
      "cell_type": "markdown",
      "metadata": {
        "id": "T-VbSR9VBLwn"
      },
      "source": [
        "##12.4.1 오토그래프와 트레이싱"
      ]
    },
    {
      "cell_type": "markdown",
      "metadata": {
        "id": "suMsK6idBLtJ"
      },
      "source": [
        "##12.4.2 텐서플로 함수 사용 방법"
      ]
    },
    {
      "cell_type": "markdown",
      "metadata": {
        "id": "qwCX1q5QBLoO"
      },
      "source": [
        "#12.5 연습문제"
      ]
    }
  ]
}