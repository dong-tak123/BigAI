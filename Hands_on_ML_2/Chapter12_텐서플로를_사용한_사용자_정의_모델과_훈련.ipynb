{
  "nbformat": 4,
  "nbformat_minor": 0,
  "metadata": {
    "colab": {
      "name": "Chapter12. 텐서플로를 사용한 사용자 정의 모델과 훈련",
      "provenance": []
    },
    "kernelspec": {
      "name": "python3",
      "display_name": "Python 3"
    },
    "language_info": {
      "name": "python"
    }
  },
  "cells": [
    {
      "cell_type": "code",
      "metadata": {
        "id": "H1aV5uP-Bbk8"
      },
      "source": [
        "import tensorflow as tf\n",
        "from tensorflow import keras\n",
        "import numpy as np\n",
        "import pandas as pd\n",
        "import matplotlib.pyplot as plt"
      ],
      "execution_count": 1,
      "outputs": []
    },
    {
      "cell_type": "markdown",
      "metadata": {
        "id": "ZICh7dl1AZnK"
      },
      "source": [
        "#12.1 텐서플로 훑어보기"
      ]
    },
    {
      "cell_type": "markdown",
      "metadata": {
        "id": "CMQzqQ6fAZjk"
      },
      "source": [
        "#12.2 넘파이처럼 텐서플로 사용하기"
      ]
    },
    {
      "cell_type": "markdown",
      "metadata": {
        "id": "DPahM9LMBuH4"
      },
      "source": [
        "tf.constant() 함수로 텐서 만들기"
      ]
    },
    {
      "cell_type": "markdown",
      "metadata": {
        "id": "RbQUVBw1AZg_"
      },
      "source": [
        "##12.2.1 텐서와 연산"
      ]
    },
    {
      "cell_type": "code",
      "metadata": {
        "colab": {
          "base_uri": "https://localhost:8080/"
        },
        "id": "b45KvmZNBeri",
        "outputId": "afe84caf-b50c-4aa9-9e07-31cb60626cbc"
      },
      "source": [
        "tf.constant([[1., 2., 3.], [4., 5., 6.]])   #행렬"
      ],
      "execution_count": 2,
      "outputs": [
        {
          "output_type": "execute_result",
          "data": {
            "text/plain": [
              "<tf.Tensor: shape=(2, 3), dtype=float32, numpy=\n",
              "array([[1., 2., 3.],\n",
              "       [4., 5., 6.]], dtype=float32)>"
            ]
          },
          "metadata": {},
          "execution_count": 2
        }
      ]
    },
    {
      "cell_type": "code",
      "metadata": {
        "colab": {
          "base_uri": "https://localhost:8080/"
        },
        "id": "yT_G3RkWBpNI",
        "outputId": "a2062750-aa14-4987-d8db-d01c43cee247"
      },
      "source": [
        "tf.constant(42)     #스칼라"
      ],
      "execution_count": 3,
      "outputs": [
        {
          "output_type": "execute_result",
          "data": {
            "text/plain": [
              "<tf.Tensor: shape=(), dtype=int32, numpy=42>"
            ]
          },
          "metadata": {},
          "execution_count": 3
        }
      ]
    },
    {
      "cell_type": "code",
      "metadata": {
        "colab": {
          "base_uri": "https://localhost:8080/"
        },
        "id": "DS0MLqFLB0CH",
        "outputId": "14bb6160-5620-4e87-82e4-4eecf4f84329"
      },
      "source": [
        "#데이터 타입과 크기도 있다..\n",
        "\n",
        "t = tf.constant([[1., 2., 3.], [4., 5., 6.]])\n",
        "t.shape, t.dtype"
      ],
      "execution_count": 4,
      "outputs": [
        {
          "output_type": "execute_result",
          "data": {
            "text/plain": [
              "(TensorShape([2, 3]), tf.float32)"
            ]
          },
          "metadata": {},
          "execution_count": 4
        }
      ]
    },
    {
      "cell_type": "code",
      "metadata": {
        "colab": {
          "base_uri": "https://localhost:8080/"
        },
        "id": "gcX60xKRCA-C",
        "outputId": "b1b960b7-d65e-4124-b8ac-ce96a1eca764"
      },
      "source": [
        "#인덱스 참조도 넘파이와 비슷..\n",
        "\n",
        "t[:, 1:]    #행은 다 가져오고 열은 1열 부터.."
      ],
      "execution_count": 5,
      "outputs": [
        {
          "output_type": "execute_result",
          "data": {
            "text/plain": [
              "<tf.Tensor: shape=(2, 2), dtype=float32, numpy=\n",
              "array([[2., 3.],\n",
              "       [5., 6.]], dtype=float32)>"
            ]
          },
          "metadata": {},
          "execution_count": 5
        }
      ]
    },
    {
      "cell_type": "code",
      "metadata": {
        "colab": {
          "base_uri": "https://localhost:8080/"
        },
        "id": "JNc8dcVlCKUI",
        "outputId": "5241b18f-a1f8-4006-d74a-cfcaa66fc0e6"
      },
      "source": [
        "#newaxis..??\n",
        "\n",
        "t[..., 1, tf.newaxis]"
      ],
      "execution_count": 6,
      "outputs": [
        {
          "output_type": "execute_result",
          "data": {
            "text/plain": [
              "<tf.Tensor: shape=(2, 1), dtype=float32, numpy=\n",
              "array([[2.],\n",
              "       [5.]], dtype=float32)>"
            ]
          },
          "metadata": {},
          "execution_count": 6
        }
      ]
    },
    {
      "cell_type": "markdown",
      "metadata": {
        "id": "lSJjNQQ1D-qu"
      },
      "source": [
        "###텐서의 연산..\n",
        "\n",
        "- 모든 종류의 텐서 연산 가능\n",
        "- 넘파이와 비슷한 기능을 하는 메서드가 많지만, 이름을 정확히 해야함.."
      ]
    },
    {
      "cell_type": "code",
      "metadata": {
        "colab": {
          "base_uri": "https://localhost:8080/"
        },
        "id": "tsxblwKLECjs",
        "outputId": "ad86ab87-f53e-41c3-f249-4fb36f8f33a0"
      },
      "source": [
        "t+10"
      ],
      "execution_count": 7,
      "outputs": [
        {
          "output_type": "execute_result",
          "data": {
            "text/plain": [
              "<tf.Tensor: shape=(2, 3), dtype=float32, numpy=\n",
              "array([[11., 12., 13.],\n",
              "       [14., 15., 16.]], dtype=float32)>"
            ]
          },
          "metadata": {},
          "execution_count": 7
        }
      ]
    },
    {
      "cell_type": "code",
      "metadata": {
        "colab": {
          "base_uri": "https://localhost:8080/"
        },
        "id": "kOdsjZI8EEHQ",
        "outputId": "7b819511-f706-4fe2-e9ae-eb2d0e47aafa"
      },
      "source": [
        "tf.square(t)"
      ],
      "execution_count": 8,
      "outputs": [
        {
          "output_type": "execute_result",
          "data": {
            "text/plain": [
              "<tf.Tensor: shape=(2, 3), dtype=float32, numpy=\n",
              "array([[ 1.,  4.,  9.],\n",
              "       [16., 25., 36.]], dtype=float32)>"
            ]
          },
          "metadata": {},
          "execution_count": 8
        }
      ]
    },
    {
      "cell_type": "code",
      "metadata": {
        "colab": {
          "base_uri": "https://localhost:8080/"
        },
        "id": "LXGkakw-EG2n",
        "outputId": "81ad7d12-19b6-4103-a32f-76317bc8e27b"
      },
      "source": [
        "#t와 t의 전치의 행렬 곱(@)\n",
        "\n",
        "t @ tf.transpose(t)"
      ],
      "execution_count": 9,
      "outputs": [
        {
          "output_type": "execute_result",
          "data": {
            "text/plain": [
              "<tf.Tensor: shape=(2, 2), dtype=float32, numpy=\n",
              "array([[14., 32.],\n",
              "       [32., 77.]], dtype=float32)>"
            ]
          },
          "metadata": {},
          "execution_count": 9
        }
      ]
    },
    {
      "cell_type": "markdown",
      "metadata": {
        "id": "eFsMnuwkFbTL"
      },
      "source": [
        "###케라스의 저수준 API\n",
        "\n",
        "- keras.backend 사용..\n",
        "- square(), exp(), sqrt()등의 함수가 포함됨.."
      ]
    },
    {
      "cell_type": "code",
      "metadata": {
        "colab": {
          "base_uri": "https://localhost:8080/"
        },
        "id": "_GG36ytSFdjK",
        "outputId": "a642208c-842b-4f2c-8823-1d725a2f583d"
      },
      "source": [
        "from tensorflow import keras\n",
        "K = keras.backend\n",
        "\n",
        "#전치 후 제곱 후 10을 더히기\n",
        "K.square(K.transpose(t)) + 10"
      ],
      "execution_count": 10,
      "outputs": [
        {
          "output_type": "execute_result",
          "data": {
            "text/plain": [
              "<tf.Tensor: shape=(3, 2), dtype=float32, numpy=\n",
              "array([[11., 26.],\n",
              "       [14., 35.],\n",
              "       [19., 46.]], dtype=float32)>"
            ]
          },
          "metadata": {},
          "execution_count": 10
        }
      ]
    },
    {
      "cell_type": "markdown",
      "metadata": {
        "id": "gWRE-8fdAZev"
      },
      "source": [
        "##12.2.2 텐서와 넘파이\n",
        "\n",
        "- 넘파이랑 텐서플로 서로서로 연산 교차 가능.."
      ]
    },
    {
      "cell_type": "code",
      "metadata": {
        "colab": {
          "base_uri": "https://localhost:8080/"
        },
        "id": "JizZ9E5CF5uU",
        "outputId": "4ab7e797-29ca-4ed6-ae2f-6b846bed06e3"
      },
      "source": [
        "#넘파이 배열에서 텐서로 바꾸기..\n",
        "\n",
        "a = np.array([2., 4., 5.])\n",
        "tf.constant(a)"
      ],
      "execution_count": 11,
      "outputs": [
        {
          "output_type": "execute_result",
          "data": {
            "text/plain": [
              "<tf.Tensor: shape=(3,), dtype=float64, numpy=array([2., 4., 5.])>"
            ]
          },
          "metadata": {},
          "execution_count": 11
        }
      ]
    },
    {
      "cell_type": "code",
      "metadata": {
        "colab": {
          "base_uri": "https://localhost:8080/"
        },
        "id": "3yI-30YzGO_j",
        "outputId": "44f3bd62-c05e-4f72-ae25-3f02872168c7"
      },
      "source": [
        "#다시 넘파이로..\n",
        "\n",
        "t.numpy()"
      ],
      "execution_count": 12,
      "outputs": [
        {
          "output_type": "execute_result",
          "data": {
            "text/plain": [
              "array([[1., 2., 3.],\n",
              "       [4., 5., 6.]], dtype=float32)"
            ]
          },
          "metadata": {},
          "execution_count": 12
        }
      ]
    },
    {
      "cell_type": "code",
      "metadata": {
        "colab": {
          "base_uri": "https://localhost:8080/"
        },
        "id": "-YHh2foYGSuu",
        "outputId": "3e32a768-ffd6-4f44-a180-2e0d202354ae"
      },
      "source": [
        "#넘파이 배열을 tf연산으로..\n",
        "\n",
        "tf.square(a)"
      ],
      "execution_count": 13,
      "outputs": [
        {
          "output_type": "execute_result",
          "data": {
            "text/plain": [
              "<tf.Tensor: shape=(3,), dtype=float64, numpy=array([ 4., 16., 25.])>"
            ]
          },
          "metadata": {},
          "execution_count": 13
        }
      ]
    },
    {
      "cell_type": "code",
      "metadata": {
        "colab": {
          "base_uri": "https://localhost:8080/"
        },
        "id": "0rwK27ByGlax",
        "outputId": "33c30972-680a-48cc-8437-87f7bbfaf255"
      },
      "source": [
        "#텐서를 넘파이 연산으로..\n",
        "\n",
        "np.square(t)"
      ],
      "execution_count": 14,
      "outputs": [
        {
          "output_type": "execute_result",
          "data": {
            "text/plain": [
              "array([[ 1.,  4.,  9.],\n",
              "       [16., 25., 36.]], dtype=float32)"
            ]
          },
          "metadata": {},
          "execution_count": 14
        }
      ]
    },
    {
      "cell_type": "markdown",
      "metadata": {
        "id": "DY8GeDsxAZcc"
      },
      "source": [
        "##12.2.3 타입 변환\n",
        "\n",
        "- 텐서플로는 자동 타입변환 하나도 없다..\n",
        "- 다른걸 더하려면 예외 발생!"
      ]
    },
    {
      "cell_type": "code",
      "metadata": {
        "colab": {
          "base_uri": "https://localhost:8080/"
        },
        "id": "egLFxugCG3-5",
        "outputId": "233193f8-d830-457b-c047-13e347fe4b4c"
      },
      "source": [
        "#실수형이라 정수형 더하니까 예외..\n",
        "\n",
        "try:\n",
        "    tf.constant(2.0) + tf.constant(40)\n",
        "except tf.errors.InvalidArgumentError as ex:\n",
        "    print(ex)"
      ],
      "execution_count": 15,
      "outputs": [
        {
          "output_type": "stream",
          "name": "stdout",
          "text": [
            "cannot compute AddV2 as input #1(zero-based) was expected to be a float tensor but is a int32 tensor [Op:AddV2]\n"
          ]
        }
      ]
    },
    {
      "cell_type": "code",
      "metadata": {
        "colab": {
          "base_uri": "https://localhost:8080/"
        },
        "id": "6IzKwU6DHCBW",
        "outputId": "2ce56fde-f0ee-4e6b-c1b9-0ab1bd8386ac"
      },
      "source": [
        "#얘도..\n",
        "\n",
        "try:\n",
        "    tf.constant(2.0) + tf.constant(40., dtype=tf.float64)\n",
        "except tf.errors.InvalidArgumentError as ex:\n",
        "    print(ex)"
      ],
      "execution_count": 16,
      "outputs": [
        {
          "output_type": "stream",
          "name": "stdout",
          "text": [
            "cannot compute AddV2 as input #1(zero-based) was expected to be a float tensor but is a double tensor [Op:AddV2]\n"
          ]
        }
      ]
    },
    {
      "cell_type": "code",
      "metadata": {
        "colab": {
          "base_uri": "https://localhost:8080/"
        },
        "id": "sGU8zPywHIT3",
        "outputId": "86f3ccbe-63b9-4afa-b707-eff8b6a2c07a"
      },
      "source": [
        "#타입변환은 tf.cast()함수를 사용!!\n",
        "\n",
        "t2 = tf.constant(40., dtype=tf.float64)\n",
        "tf.constant(2.0) + tf.cast(t2, tf.float32)      #타입변환해서 더하니까 됨.."
      ],
      "execution_count": 17,
      "outputs": [
        {
          "output_type": "execute_result",
          "data": {
            "text/plain": [
              "<tf.Tensor: shape=(), dtype=float32, numpy=42.0>"
            ]
          },
          "metadata": {},
          "execution_count": 17
        }
      ]
    },
    {
      "cell_type": "markdown",
      "metadata": {
        "id": "X2S6N8m7AZZt"
      },
      "source": [
        "##12.2.4 변수\n",
        "\n",
        "- 앞선 tf.Tensor는 변경이 불가능했다..\n",
        "- 근데 변수 tf.Variable로 하면 변경 가능하다!"
      ]
    },
    {
      "cell_type": "code",
      "metadata": {
        "colab": {
          "base_uri": "https://localhost:8080/"
        },
        "id": "8iWut_dqHpPx",
        "outputId": "a4a8f96c-a5d5-437e-ae24-8bfe9f1d997c"
      },
      "source": [
        "v = tf.Variable([[1., 2., 3.],[4., 5., 6.]])\n",
        "v"
      ],
      "execution_count": 18,
      "outputs": [
        {
          "output_type": "execute_result",
          "data": {
            "text/plain": [
              "<tf.Variable 'Variable:0' shape=(2, 3) dtype=float32, numpy=\n",
              "array([[1., 2., 3.],\n",
              "       [4., 5., 6.]], dtype=float32)>"
            ]
          },
          "metadata": {},
          "execution_count": 18
        }
      ]
    },
    {
      "cell_type": "markdown",
      "metadata": {
        "id": "agQYJYE4H0Ct"
      },
      "source": [
        "assign()메서드로 변숫값을 바꿀 수 있다!!"
      ]
    },
    {
      "cell_type": "code",
      "metadata": {
        "colab": {
          "base_uri": "https://localhost:8080/"
        },
        "id": "Ss62ddDHHpEa",
        "outputId": "06bce20d-fa7d-4513-b701-95e9983765a6"
      },
      "source": [
        "v.assign(2*v)"
      ],
      "execution_count": 19,
      "outputs": [
        {
          "output_type": "execute_result",
          "data": {
            "text/plain": [
              "<tf.Variable 'UnreadVariable' shape=(2, 3) dtype=float32, numpy=\n",
              "array([[ 2.,  4.,  6.],\n",
              "       [ 8., 10., 12.]], dtype=float32)>"
            ]
          },
          "metadata": {},
          "execution_count": 19
        }
      ]
    },
    {
      "cell_type": "code",
      "metadata": {
        "colab": {
          "base_uri": "https://localhost:8080/"
        },
        "id": "8FWXL671HnLA",
        "outputId": "389dcb7d-ea88-454c-92c2-bb33b52de01b"
      },
      "source": [
        "v[0,1].assign(42)"
      ],
      "execution_count": 20,
      "outputs": [
        {
          "output_type": "execute_result",
          "data": {
            "text/plain": [
              "<tf.Variable 'UnreadVariable' shape=(2, 3) dtype=float32, numpy=\n",
              "array([[ 2., 42.,  6.],\n",
              "       [ 8., 10., 12.]], dtype=float32)>"
            ]
          },
          "metadata": {},
          "execution_count": 20
        }
      ]
    },
    {
      "cell_type": "code",
      "metadata": {
        "colab": {
          "base_uri": "https://localhost:8080/"
        },
        "id": "iwxxpf9oH9jb",
        "outputId": "2848a8a5-b716-4a36-da67-363c6ce55ebc"
      },
      "source": [
        "v[:, 2].assign([0., 1.])"
      ],
      "execution_count": 21,
      "outputs": [
        {
          "output_type": "execute_result",
          "data": {
            "text/plain": [
              "<tf.Variable 'UnreadVariable' shape=(2, 3) dtype=float32, numpy=\n",
              "array([[ 2., 42.,  0.],\n",
              "       [ 8., 10.,  1.]], dtype=float32)>"
            ]
          },
          "metadata": {},
          "execution_count": 21
        }
      ]
    },
    {
      "cell_type": "code",
      "metadata": {
        "colab": {
          "base_uri": "https://localhost:8080/"
        },
        "id": "uGquvT7JH9V3",
        "outputId": "3e076627-6c93-486f-f690-b7bd8c9bf85e"
      },
      "source": [
        "v.scatter_nd_update(indices=[[0,0], [1,2]], updates=[100., 200.])"
      ],
      "execution_count": 22,
      "outputs": [
        {
          "output_type": "execute_result",
          "data": {
            "text/plain": [
              "<tf.Variable 'UnreadVariable' shape=(2, 3) dtype=float32, numpy=\n",
              "array([[100.,  42.,   0.],\n",
              "       [  8.,  10., 200.]], dtype=float32)>"
            ]
          },
          "metadata": {},
          "execution_count": 22
        }
      ]
    },
    {
      "cell_type": "code",
      "metadata": {
        "colab": {
          "base_uri": "https://localhost:8080/"
        },
        "id": "IRhUJQl2Iaf2",
        "outputId": "b8b6fcd5-b79e-48b4-cd7d-d4b229ebc2e6"
      },
      "source": [
        "#일반적으로 할당하면 에러가 남..\n",
        "\n",
        "try:\n",
        "    v[1] = [7., 8., 9.]\n",
        "except TypeError as ex:\n",
        "    print(ex)"
      ],
      "execution_count": 23,
      "outputs": [
        {
          "output_type": "stream",
          "name": "stdout",
          "text": [
            "'ResourceVariable' object does not support item assignment\n"
          ]
        }
      ]
    },
    {
      "cell_type": "markdown",
      "metadata": {
        "id": "FXthcRHCAZXV"
      },
      "source": [
        "##12.2.5 다른 데이터 구조"
      ]
    },
    {
      "cell_type": "markdown",
      "metadata": {
        "id": "pos7NhUMI78W"
      },
      "source": [
        "###희소 텐서\n",
        "\n",
        "- 대부분 0으로 채워진 텐서\n",
        "- 제약이 좀 많네..\n",
        "    - 정렬이 안 되어있으면 밀집행렬로 안 바뀜\n",
        "    - 실수형 더하는건 안됨..\n",
        "    - 희소행렬과 밀집행렬을 곱하려면 sparse.sparse_dense_matmul() 메서드 사용.."
      ]
    },
    {
      "cell_type": "code",
      "metadata": {
        "id": "MOCdlWTwJAsH"
      },
      "source": [
        "s = tf.SparseTensor(indices=[[0, 1], [1, 0], [2, 3]],\n",
        "                    values=[1., 2., 3.],\n",
        "                    dense_shape=[3, 4])"
      ],
      "execution_count": 24,
      "outputs": []
    },
    {
      "cell_type": "code",
      "metadata": {
        "colab": {
          "base_uri": "https://localhost:8080/"
        },
        "id": "qYOaZ1wTJN3t",
        "outputId": "add0953b-2e19-47b5-a365-6d90130ba910"
      },
      "source": [
        "print(s)"
      ],
      "execution_count": 25,
      "outputs": [
        {
          "output_type": "stream",
          "name": "stdout",
          "text": [
            "SparseTensor(indices=tf.Tensor(\n",
            "[[0 1]\n",
            " [1 0]\n",
            " [2 3]], shape=(3, 2), dtype=int64), values=tf.Tensor([1. 2. 3.], shape=(3,), dtype=float32), dense_shape=tf.Tensor([3 4], shape=(2,), dtype=int64))\n"
          ]
        }
      ]
    },
    {
      "cell_type": "code",
      "metadata": {
        "colab": {
          "base_uri": "https://localhost:8080/"
        },
        "id": "g5jqnN93JSDN",
        "outputId": "4f0326eb-aee8-47dd-a8d5-28f41f32643d"
      },
      "source": [
        "#밀집행렬로 바꾸기.. 깊복은 아님..\n",
        "\n",
        "tf.sparse.to_dense(s)"
      ],
      "execution_count": 26,
      "outputs": [
        {
          "output_type": "execute_result",
          "data": {
            "text/plain": [
              "<tf.Tensor: shape=(3, 4), dtype=float32, numpy=\n",
              "array([[0., 1., 0., 0.],\n",
              "       [2., 0., 0., 0.],\n",
              "       [0., 0., 0., 3.]], dtype=float32)>"
            ]
          },
          "metadata": {},
          "execution_count": 26
        }
      ]
    },
    {
      "cell_type": "code",
      "metadata": {
        "id": "DobtkPxRJcAf"
      },
      "source": [
        "s2 = s *2.0"
      ],
      "execution_count": 27,
      "outputs": []
    },
    {
      "cell_type": "code",
      "metadata": {
        "colab": {
          "base_uri": "https://localhost:8080/"
        },
        "id": "dv2nTq9nJe43",
        "outputId": "12f62969-e828-47a1-8d6c-0e8a3d772318"
      },
      "source": [
        "print(s2)"
      ],
      "execution_count": 28,
      "outputs": [
        {
          "output_type": "stream",
          "name": "stdout",
          "text": [
            "SparseTensor(indices=tf.Tensor(\n",
            "[[0 1]\n",
            " [1 0]\n",
            " [2 3]], shape=(3, 2), dtype=int64), values=tf.Tensor([2. 4. 6.], shape=(3,), dtype=float32), dense_shape=tf.Tensor([3 4], shape=(2,), dtype=int64))\n"
          ]
        }
      ]
    },
    {
      "cell_type": "code",
      "metadata": {
        "colab": {
          "base_uri": "https://localhost:8080/"
        },
        "id": "fhjTKD_uJjd9",
        "outputId": "c5a57ac6-7edf-4f27-c792-98225a5ed9b9"
      },
      "source": [
        "#희소행렬에 실수형을 더하면 예외..\n",
        "\n",
        "try:\n",
        "    s3 = s + 1.\n",
        "except TypeError as ex:\n",
        "    print(ex)"
      ],
      "execution_count": 29,
      "outputs": [
        {
          "output_type": "stream",
          "name": "stdout",
          "text": [
            "unsupported operand type(s) for +: 'SparseTensor' and 'float'\n"
          ]
        }
      ]
    },
    {
      "cell_type": "code",
      "metadata": {
        "colab": {
          "base_uri": "https://localhost:8080/"
        },
        "id": "3swOBk4IJ3GM",
        "outputId": "519c336b-55b7-470a-b93b-4eb1b5d256b0"
      },
      "source": [
        "#밀집행렬..\n",
        "s4 = tf.constant([[10., 20.], [30., 40.], [50., 60.], [70., 80.]])\n",
        "\n",
        "#희소행렬과 밀집행렬 곱할 때 사용하는 메서드\n",
        "tf.sparse.sparse_dense_matmul(s, s4)"
      ],
      "execution_count": 30,
      "outputs": [
        {
          "output_type": "execute_result",
          "data": {
            "text/plain": [
              "<tf.Tensor: shape=(3, 2), dtype=float32, numpy=\n",
              "array([[ 30.,  40.],\n",
              "       [ 20.,  40.],\n",
              "       [210., 240.]], dtype=float32)>"
            ]
          },
          "metadata": {},
          "execution_count": 30
        }
      ]
    },
    {
      "cell_type": "code",
      "metadata": {
        "colab": {
          "base_uri": "https://localhost:8080/"
        },
        "id": "4gVdAy2HK3sk",
        "outputId": "d1901bb2-12ef-4265-8b5b-9b8815609741"
      },
      "source": [
        "#순서가 안맞으면 밀집행렬로 못바꿈..\n",
        "\n",
        "s5 = tf.SparseTensor(indices=[[0, 2], [0, 1]],      #순서가 안맞음..\n",
        "                     values=[1., 2.],\n",
        "                     dense_shape=[3, 4])\n",
        "print(s5)"
      ],
      "execution_count": 31,
      "outputs": [
        {
          "output_type": "stream",
          "name": "stdout",
          "text": [
            "SparseTensor(indices=tf.Tensor(\n",
            "[[0 2]\n",
            " [0 1]], shape=(2, 2), dtype=int64), values=tf.Tensor([1. 2.], shape=(2,), dtype=float32), dense_shape=tf.Tensor([3 4], shape=(2,), dtype=int64))\n"
          ]
        }
      ]
    },
    {
      "cell_type": "code",
      "metadata": {
        "colab": {
          "base_uri": "https://localhost:8080/"
        },
        "id": "0xsGs6CyKvtK",
        "outputId": "b32aae14-0066-4f18-eaff-67a05ba70a05"
      },
      "source": [
        "try:\n",
        "    tf.sparse.to_dense(s5)\n",
        "except tf.errors.InvalidArgumentError as ex:\n",
        "    print(ex)"
      ],
      "execution_count": 32,
      "outputs": [
        {
          "output_type": "stream",
          "name": "stdout",
          "text": [
            "indices[1] = [0,1] is out of order. Many sparse ops require sorted indices.\n",
            "    Use `tf.sparse.reorder` to create a correctly ordered copy.\n",
            "\n",
            " [Op:SparseToDense]\n"
          ]
        }
      ]
    },
    {
      "cell_type": "code",
      "metadata": {
        "colab": {
          "base_uri": "https://localhost:8080/"
        },
        "id": "NyXcs0SbKzzi",
        "outputId": "b9c2398e-9ae4-49e2-a62e-9c1b308c30bc"
      },
      "source": [
        "s6 = tf.sparse.reorder(s5)  #reorder해야 변환 가능..\n",
        "tf.sparse.to_dense(s6)"
      ],
      "execution_count": 33,
      "outputs": [
        {
          "output_type": "execute_result",
          "data": {
            "text/plain": [
              "<tf.Tensor: shape=(3, 4), dtype=float32, numpy=\n",
              "array([[0., 2., 1., 0.],\n",
              "       [0., 0., 0., 0.],\n",
              "       [0., 0., 0., 0.]], dtype=float32)>"
            ]
          },
          "metadata": {},
          "execution_count": 33
        }
      ]
    },
    {
      "cell_type": "markdown",
      "metadata": {
        "id": "lkg5IlAD1qUN"
      },
      "source": [
        "###문자열"
      ]
    },
    {
      "cell_type": "code",
      "metadata": {
        "colab": {
          "base_uri": "https://localhost:8080/"
        },
        "id": "WaExl8uP16ZT",
        "outputId": "8794d715-a780-4811-eba3-a368e32ca5e5"
      },
      "source": [
        "tf.constant(b\"hello world\")"
      ],
      "execution_count": 34,
      "outputs": [
        {
          "output_type": "execute_result",
          "data": {
            "text/plain": [
              "<tf.Tensor: shape=(), dtype=string, numpy=b'hello world'>"
            ]
          },
          "metadata": {},
          "execution_count": 34
        }
      ]
    },
    {
      "cell_type": "code",
      "metadata": {
        "colab": {
          "base_uri": "https://localhost:8080/"
        },
        "id": "0ISboV9V19pW",
        "outputId": "f3913533-104b-4d54-f59e-d9c7c1223f3b"
      },
      "source": [
        "tf.constant(\"cafe\")"
      ],
      "execution_count": 35,
      "outputs": [
        {
          "output_type": "execute_result",
          "data": {
            "text/plain": [
              "<tf.Tensor: shape=(), dtype=string, numpy=b'cafe'>"
            ]
          },
          "metadata": {},
          "execution_count": 35
        }
      ]
    },
    {
      "cell_type": "code",
      "metadata": {
        "colab": {
          "base_uri": "https://localhost:8080/"
        },
        "id": "XfJQby-S19iE",
        "outputId": "646ae933-8f63-4da7-d201-6e489d6c0ef4"
      },
      "source": [
        "#아스키 코드값으로 리스트를 만든다..\n",
        "u = tf.constant([ord(c) for c in \"cafe\"])\n",
        "u"
      ],
      "execution_count": 36,
      "outputs": [
        {
          "output_type": "execute_result",
          "data": {
            "text/plain": [
              "<tf.Tensor: shape=(4,), dtype=int32, numpy=array([ 99,  97, 102, 101], dtype=int32)>"
            ]
          },
          "metadata": {},
          "execution_count": 36
        }
      ]
    },
    {
      "cell_type": "code",
      "metadata": {
        "colab": {
          "base_uri": "https://localhost:8080/"
        },
        "id": "ucRC4Agt19YC",
        "outputId": "6ba92c2e-1246-4145-fea3-995bcec58307"
      },
      "source": [
        "#유니코드로 다시 인코딩..\n",
        "b = tf.strings.unicode_encode(u, \"UTF-8\")\n",
        "print(b)\n",
        "tf.strings.length(b, unit=\"UTF8_CHAR\")      #문자열의 길이.."
      ],
      "execution_count": 37,
      "outputs": [
        {
          "output_type": "stream",
          "name": "stdout",
          "text": [
            "tf.Tensor(b'cafe', shape=(), dtype=string)\n"
          ]
        },
        {
          "output_type": "execute_result",
          "data": {
            "text/plain": [
              "<tf.Tensor: shape=(), dtype=int32, numpy=4>"
            ]
          },
          "metadata": {},
          "execution_count": 37
        }
      ]
    },
    {
      "cell_type": "code",
      "metadata": {
        "colab": {
          "base_uri": "https://localhost:8080/"
        },
        "id": "b9N1zgQx19EI",
        "outputId": "1b9a49b5-61f0-445b-dddf-16be0290fc9b"
      },
      "source": [
        "#다시 아스키코드(숫자)로.. decode..\n",
        "tf.strings.unicode_decode(b, \"UTF-8\")"
      ],
      "execution_count": 38,
      "outputs": [
        {
          "output_type": "execute_result",
          "data": {
            "text/plain": [
              "<tf.Tensor: shape=(4,), dtype=int32, numpy=array([ 99,  97, 102, 101], dtype=int32)>"
            ]
          },
          "metadata": {},
          "execution_count": 38
        }
      ]
    },
    {
      "cell_type": "markdown",
      "metadata": {
        "id": "TVt0sMf22rRg"
      },
      "source": [
        "###문자열 배열"
      ]
    },
    {
      "cell_type": "code",
      "metadata": {
        "id": "BrutY8LQ2cn5"
      },
      "source": [
        "p = tf.constant([\"Café\", \"Coffee\", \"caffè\", \"咖啡\"])"
      ],
      "execution_count": 39,
      "outputs": []
    },
    {
      "cell_type": "code",
      "metadata": {
        "colab": {
          "base_uri": "https://localhost:8080/"
        },
        "id": "fyVgfxIN2zEH",
        "outputId": "8addd022-49d7-42b3-cf75-7f8600aaacbe"
      },
      "source": [
        "#문자열 배열에 있는 원소의 길이를 반환,.\n",
        "tf.strings.length(p, unit=\"UTF8_CHAR\")"
      ],
      "execution_count": 40,
      "outputs": [
        {
          "output_type": "execute_result",
          "data": {
            "text/plain": [
              "<tf.Tensor: shape=(4,), dtype=int32, numpy=array([4, 6, 5, 2], dtype=int32)>"
            ]
          },
          "metadata": {},
          "execution_count": 40
        }
      ]
    },
    {
      "cell_type": "code",
      "metadata": {
        "colab": {
          "base_uri": "https://localhost:8080/"
        },
        "id": "qXCzO4NJ2y7I",
        "outputId": "50e60930-f690-4363-81c9-abe74660c2c2"
      },
      "source": [
        "#유니코드에서 숫자로 디코드..\n",
        "r = tf.strings.unicode_decode(p, \"UTF-8\")\n",
        "r"
      ],
      "execution_count": 41,
      "outputs": [
        {
          "output_type": "execute_result",
          "data": {
            "text/plain": [
              "<tf.RaggedTensor [[67, 97, 102, 233], [67, 111, 102, 102, 101, 101], [99, 97, 102, 102, 232], [21654, 21857]]>"
            ]
          },
          "metadata": {},
          "execution_count": 41
        }
      ]
    },
    {
      "cell_type": "code",
      "metadata": {
        "colab": {
          "base_uri": "https://localhost:8080/"
        },
        "id": "Rz89PR-p2yxg",
        "outputId": "ccf58afb-6d38-4d45-8c10-275758ab6729"
      },
      "source": [
        "print(r)"
      ],
      "execution_count": 42,
      "outputs": [
        {
          "output_type": "stream",
          "name": "stdout",
          "text": [
            "<tf.RaggedTensor [[67, 97, 102, 233], [67, 111, 102, 102, 101, 101], [99, 97, 102, 102, 232], [21654, 21857]]>\n"
          ]
        }
      ]
    },
    {
      "cell_type": "markdown",
      "metadata": {
        "id": "MlwiFnOP3FmK"
      },
      "source": [
        "###래그드 텐서\n",
        "\n",
        "- 리스트의 리스트\n",
        "- 동일한 데이터 타입을 가져야 하지만 리스트의 길이는 다를 수 있다.."
      ]
    },
    {
      "cell_type": "code",
      "metadata": {
        "colab": {
          "base_uri": "https://localhost:8080/"
        },
        "id": "1A71LB2i2yqM",
        "outputId": "8c65c43a-5e57-4db5-c20a-28399a554890"
      },
      "source": [
        "#얘는 래그드 텐서가 아님..\n",
        "print(r[1])"
      ],
      "execution_count": 43,
      "outputs": [
        {
          "output_type": "stream",
          "name": "stdout",
          "text": [
            "tf.Tensor([ 67 111 102 102 101 101], shape=(6,), dtype=int32)\n"
          ]
        }
      ]
    },
    {
      "cell_type": "code",
      "metadata": {
        "colab": {
          "base_uri": "https://localhost:8080/"
        },
        "id": "0ZAN10dF3QdP",
        "outputId": "ed844c6c-b146-47bf-9d63-0fe04db0f6af"
      },
      "source": [
        "#얘는 리스트의 리스트다..\n",
        "print(r[1:3])"
      ],
      "execution_count": 44,
      "outputs": [
        {
          "output_type": "stream",
          "name": "stdout",
          "text": [
            "<tf.RaggedTensor [[67, 111, 102, 102, 101, 101], [99, 97, 102, 102, 232]]>\n"
          ]
        }
      ]
    },
    {
      "cell_type": "code",
      "metadata": {
        "colab": {
          "base_uri": "https://localhost:8080/"
        },
        "id": "KAwjjv7t3Sfu",
        "outputId": "26f6295a-8642-42cf-9327-19d1edae3543"
      },
      "source": [
        "#래그드 텐서 생성..\n",
        "r2 = tf.ragged.constant([[65,66],[],[67]])\n",
        "print(r.shape)\n",
        "print(r2.shape)\n",
        "\n",
        "#axis=0의 방향으로 연결시켰다..(얘는 무지성..)\n",
        "r_2 = tf.concat([r, r2], axis=0)\n",
        "print(r_2.shape)\n",
        "print(r_2)"
      ],
      "execution_count": 45,
      "outputs": [
        {
          "output_type": "stream",
          "name": "stdout",
          "text": [
            "(4, None)\n",
            "(3, None)\n",
            "(7, None)\n",
            "<tf.RaggedTensor [[67, 97, 102, 233], [67, 111, 102, 102, 101, 101], [99, 97, 102, 102, 232], [21654, 21857], [65, 66], [], [67]]>\n"
          ]
        }
      ]
    },
    {
      "cell_type": "code",
      "metadata": {
        "colab": {
          "base_uri": "https://localhost:8080/"
        },
        "id": "B-LLew263sAv",
        "outputId": "ad447bbc-6eac-4cb1-ac8d-308e5882c29e"
      },
      "source": [
        "r3 = tf.ragged.constant([[68, 69, 70], [71], [], [67]])\n",
        "\n",
        "print(r.shape)\n",
        "print(r3.shape)\n",
        "\n",
        "#얘는 row의 갯수가 같아야 axis=1로 조질수 있음\n",
        "r_3 = tf.concat([r, r3], axis=1)\n",
        "print(r_3.shape)\n",
        "print(r_3)"
      ],
      "execution_count": 46,
      "outputs": [
        {
          "output_type": "stream",
          "name": "stdout",
          "text": [
            "(4, None)\n",
            "(4, None)\n",
            "(4, None)\n",
            "<tf.RaggedTensor [[67, 97, 102, 233, 68, 69, 70], [67, 111, 102, 102, 101, 101, 71], [99, 97, 102, 102, 232], [21654, 21857, 67]]>\n"
          ]
        }
      ]
    },
    {
      "cell_type": "markdown",
      "metadata": {
        "id": "Q1_wyDZp46wt"
      },
      "source": [
        "###집합\n",
        "\n",
        "- tf.sets 패키지의 연산 활용..\n",
        "- 집합 연산 후 원소의 갯수가 많은 것 기준으로 shape이 결정되는 듯.."
      ]
    },
    {
      "cell_type": "code",
      "metadata": {
        "colab": {
          "base_uri": "https://localhost:8080/"
        },
        "id": "OFPUt6oo5F81",
        "outputId": "c35b6512-02d2-4acb-c644-9d72b3a36b88"
      },
      "source": [
        "#set1 = [{2,3,5,7}, {7,9,0}]\n",
        "set1 = tf.constant([[2,3,5,7],[7,9,0,0]])\n",
        "\n",
        "#set2 = [{4,5,6}, {9,10,0}]\n",
        "set2 = tf.constant([[4,5,6], [9,10,0]])\n",
        "\n",
        "#인덱스가 맞는 거 끼리 합집합..\n",
        "tf.sparse.to_dense(tf.sets.union(set1, set2))"
      ],
      "execution_count": 47,
      "outputs": [
        {
          "output_type": "execute_result",
          "data": {
            "text/plain": [
              "<tf.Tensor: shape=(2, 6), dtype=int32, numpy=\n",
              "array([[ 2,  3,  4,  5,  6,  7],\n",
              "       [ 0,  7,  9, 10,  0,  0]], dtype=int32)>"
            ]
          },
          "metadata": {},
          "execution_count": 47
        }
      ]
    },
    {
      "cell_type": "code",
      "metadata": {
        "colab": {
          "base_uri": "https://localhost:8080/"
        },
        "id": "LJJmEiIk5oIP",
        "outputId": "9bda782b-8da4-4b5a-cf06-3e02d8219cd1"
      },
      "source": [
        "tf.sparse.to_dense(tf.sets.difference(set1, set2))"
      ],
      "execution_count": 48,
      "outputs": [
        {
          "output_type": "execute_result",
          "data": {
            "text/plain": [
              "<tf.Tensor: shape=(2, 3), dtype=int32, numpy=\n",
              "array([[2, 3, 7],\n",
              "       [7, 0, 0]], dtype=int32)>"
            ]
          },
          "metadata": {},
          "execution_count": 48
        }
      ]
    },
    {
      "cell_type": "code",
      "metadata": {
        "colab": {
          "base_uri": "https://localhost:8080/"
        },
        "id": "24jD59Xr53pW",
        "outputId": "a4b9d201-dedf-47cd-fab6-eda079cb8a1b"
      },
      "source": [
        "tf.sparse.to_dense(tf.sets.intersection(set1, set2))"
      ],
      "execution_count": 49,
      "outputs": [
        {
          "output_type": "execute_result",
          "data": {
            "text/plain": [
              "<tf.Tensor: shape=(2, 2), dtype=int32, numpy=\n",
              "array([[5, 0],\n",
              "       [0, 9]], dtype=int32)>"
            ]
          },
          "metadata": {},
          "execution_count": 49
        }
      ]
    },
    {
      "cell_type": "markdown",
      "metadata": {
        "id": "oZEH869V6GUR"
      },
      "source": [
        "###텐서 배열\n",
        "\n",
        "- 매개변수 dynamic_size로 크기를 동적, 정적으로 할지 선택 가능..\n",
        "- clear_after_read : 읽고나서 지울거냐.. 기본값 True"
      ]
    },
    {
      "cell_type": "code",
      "metadata": {
        "id": "SLcbKYU36L9_"
      },
      "source": [
        "#텐서 배열에 크기 3으로 지정해놓고,\n",
        "array = tf.TensorArray(dtype=tf.float32, size=3, clear_after_read=False)\n",
        "\n",
        "#array.write를 사용해서 몇 번재에 뭐를 적을지 결정..\n",
        "array = array.write(0, tf.constant([1., 2.]))\n",
        "array = array.write(1, tf.constant([3., 10.]))\n",
        "array = array.write(2, tf.constant([5., 7.]))"
      ],
      "execution_count": 50,
      "outputs": []
    },
    {
      "cell_type": "code",
      "metadata": {
        "colab": {
          "base_uri": "https://localhost:8080/"
        },
        "id": "wyxtg_LK6ZF9",
        "outputId": "f8e2e96b-a2d6-4854-bb13-c582280f9498"
      },
      "source": [
        "array"
      ],
      "execution_count": 51,
      "outputs": [
        {
          "output_type": "execute_result",
          "data": {
            "text/plain": [
              "<tensorflow.python.ops.tensor_array_ops.TensorArray at 0x7f7845d01190>"
            ]
          },
          "metadata": {},
          "execution_count": 51
        }
      ]
    },
    {
      "cell_type": "code",
      "metadata": {
        "colab": {
          "base_uri": "https://localhost:8080/"
        },
        "id": "1fVJ1dsu6vCM",
        "outputId": "d98e2185-b103-49c9-bd89-4568b4f7fdb7"
      },
      "source": [
        "array.read(2)"
      ],
      "execution_count": 52,
      "outputs": [
        {
          "output_type": "execute_result",
          "data": {
            "text/plain": [
              "<tf.Tensor: shape=(2,), dtype=float32, numpy=array([5., 7.], dtype=float32)>"
            ]
          },
          "metadata": {},
          "execution_count": 52
        }
      ]
    },
    {
      "cell_type": "code",
      "metadata": {
        "colab": {
          "base_uri": "https://localhost:8080/"
        },
        "id": "eI3i1pym6Y88",
        "outputId": "af8bf559-26dd-4d81-938e-883e2fca2cb8"
      },
      "source": [
        "array.stack()"
      ],
      "execution_count": 53,
      "outputs": [
        {
          "output_type": "execute_result",
          "data": {
            "text/plain": [
              "<tf.Tensor: shape=(3, 2), dtype=float32, numpy=\n",
              "array([[ 1.,  2.],\n",
              "       [ 3., 10.],\n",
              "       [ 5.,  7.]], dtype=float32)>"
            ]
          },
          "metadata": {},
          "execution_count": 53
        }
      ]
    },
    {
      "cell_type": "code",
      "metadata": {
        "colab": {
          "base_uri": "https://localhost:8080/"
        },
        "id": "pwg-3p0N8GfC",
        "outputId": "6291af7d-5126-4c96-a334-778e172e7c27"
      },
      "source": [
        "#tf.nn.moments : axes로 축을 지정하고 정규화하는 메서드..\n",
        "mean, variance = tf.nn.moments(array.stack(), axes=0)\n",
        "mean"
      ],
      "execution_count": 54,
      "outputs": [
        {
          "output_type": "execute_result",
          "data": {
            "text/plain": [
              "<tf.Tensor: shape=(2,), dtype=float32, numpy=array([3.       , 6.3333335], dtype=float32)>"
            ]
          },
          "metadata": {},
          "execution_count": 54
        }
      ]
    },
    {
      "cell_type": "code",
      "metadata": {
        "colab": {
          "base_uri": "https://localhost:8080/"
        },
        "id": "6BRSb_VY8GSi",
        "outputId": "e3e1e1cf-4456-4932-d459-9c88fec2da74"
      },
      "source": [
        "variance"
      ],
      "execution_count": 55,
      "outputs": [
        {
          "output_type": "execute_result",
          "data": {
            "text/plain": [
              "<tf.Tensor: shape=(2,), dtype=float32, numpy=array([ 2.6666667, 10.888888 ], dtype=float32)>"
            ]
          },
          "metadata": {},
          "execution_count": 55
        }
      ]
    },
    {
      "cell_type": "markdown",
      "metadata": {
        "id": "85MIFdzwAZU-"
      },
      "source": [
        "#12.3 사용자 정의 모델과 훈련 알고리즘"
      ]
    },
    {
      "cell_type": "markdown",
      "metadata": {
        "id": "cGxcpcyqAZSi"
      },
      "source": [
        "##12.3.1 사용자 정의 손실 함수\n",
        "\n",
        "손실함수를 어떤걸 해야할까?\n",
        "\n",
        "- 평균 제곱 오차 : 너무 과한 벌칙 -> 정확하지 않은 모델..\n",
        "- 평균 절댓값 오차 : 너무 관대함.. -> 수렴하기까지 오랜 시간이 걸림..\n",
        "- 이럴 때 후버 손실 하용!\n",
        "    - 일정 범위 안에 있으면 제곱 오차, 밖이면 오차의 절댓값"
      ]
    },
    {
      "cell_type": "markdown",
      "metadata": {
        "id": "zQV0-LvYBN7h"
      },
      "source": [
        "###후버 손실 코딩..\n",
        "\n",
        "- tf.where(bool배열, 참일때 반환 값, 거짓일때 반환 값)"
      ]
    },
    {
      "cell_type": "code",
      "metadata": {
        "id": "yz6JtBVbBNax"
      },
      "source": [
        "def huber_fn(y_true, y_pred):\n",
        "    error = y_true - y_pred\n",
        "    #오차가 1보다 작은 위치를 나타내는 bool 배열을 생성..\n",
        "    is_small_error = tf.abs(error) < 1\n",
        "\n",
        "    squared_loss = tf.square(error) / 2         #제곱 오차\n",
        "    linear_loss = tf.abs(error) - 0.5           #절댓값 오차\n",
        "    \n",
        "    #1보다 오차가 작으면 제곱오차, 크면 절댓값 오차\n",
        "    return tf.where(is_small_error, squared_loss, linear_loss)"
      ],
      "execution_count": 56,
      "outputs": []
    },
    {
      "cell_type": "code",
      "metadata": {
        "colab": {
          "base_uri": "https://localhost:8080/",
          "height": 0
        },
        "id": "pAW5yzHFCHa-",
        "outputId": "e0b7d6b1-3c04-4c50-9959-a5968b1e7223"
      },
      "source": [
        "#후버손실 그래프..\n",
        "\n",
        "plt.figure(figsize=(8, 3.5))\n",
        "z = np.linspace(-4, 4, 200)\n",
        "plt.plot(z, huber_fn(0, z), \"b-\", linewidth=2, label=\"huber($z$)\")\n",
        "plt.plot(z, z**2 / 2, \"b:\", linewidth=1, label=r\"$\\frac{1}{2}z^2$\")\n",
        "plt.plot([-1, -1], [0, huber_fn(0., -1.)], \"r--\")\n",
        "plt.plot([1, 1], [0, huber_fn(0., 1.)], \"r--\")\n",
        "plt.gca().axhline(y=0, color='k')\n",
        "plt.gca().axvline(x=0, color='k')\n",
        "plt.axis([-4, 4, 0, 4])\n",
        "plt.grid(True)\n",
        "plt.xlabel(\"$z$\")\n",
        "plt.legend(fontsize=14)\n",
        "plt.title(\"Huber loss\", fontsize=14)\n",
        "plt.show()"
      ],
      "execution_count": 57,
      "outputs": [
        {
          "output_type": "display_data",
          "data": {
            "image/png": "[encoded data removed]",
            "text/plain": [
              "<Figure size 576x252 with 1 Axes>"
            ]
          },
          "metadata": {
            "needs_background": "light"
          }
        }
      ]
    },
    {
      "cell_type": "markdown",
      "metadata": {
        "id": "xBQvKOgN_rPC"
      },
      "source": [
        "###캘리포니아 주택 데이터셋 적용"
      ]
    },
    {
      "cell_type": "code",
      "metadata": {
        "colab": {
          "base_uri": "https://localhost:8080/"
        },
        "id": "tt6yIkZr_62X",
        "outputId": "dbec0cc5-f87d-40df-f9e3-3c5663c84038"
      },
      "source": [
        "from sklearn.datasets import fetch_california_housing\n",
        "from sklearn.model_selection import train_test_split\n",
        "from sklearn.preprocessing import StandardScaler\n",
        "\n",
        "housing = fetch_california_housing()\n",
        "\n",
        "#타겟은 2차원 리스트로 변형..\n",
        "X_train_full, X_test, y_train_full, y_test = train_test_split(\n",
        "    housing.data, housing.target.reshape(-1, 1), random_state=42)\n",
        "#검증세트도 분리..\n",
        "X_train, X_valid, y_train, y_valid = train_test_split(\n",
        "    X_train_full, y_train_full, random_state=42)\n",
        "\n",
        "#전처리..\n",
        "scaler = StandardScaler()\n",
        "X_train_scaled = scaler.fit_transform(X_train)\n",
        "X_valid_scaled = scaler.transform(X_valid)\n",
        "X_test_scaled = scaler.transform(X_test)"
      ],
      "execution_count": 58,
      "outputs": [
        {
          "output_type": "stream",
          "name": "stderr",
          "text": [
            "Downloading Cal. housing from https://ndownloader.figshare.com/files/5976036 to /root/scikit_learn_data\n"
          ]
        }
      ]
    },
    {
      "cell_type": "code",
      "metadata": {
        "id": "szYhl_QsCbvc"
      },
      "source": [
        "#샘플갯수 제외한 모양..\n",
        "input_shape = X_train.shape[1:]\n",
        "\n",
        "#활성화 함수 selu를 이용해서 르쿤정규 초기화 수행\n",
        "#자기정규화가 일어나므로 배치정규화 불필요..\n",
        "model = keras.models.Sequential([\n",
        "    keras.layers.Dense(30, activation=\"selu\", kernel_initializer=\"lecun_normal\",\n",
        "                        input_shape = input_shape),\n",
        "    keras.layers.Dense(1),\n",
        "])"
      ],
      "execution_count": 59,
      "outputs": []
    },
    {
      "cell_type": "code",
      "metadata": {
        "id": "HPNVYiGZDByd"
      },
      "source": [
        "model.compile(loss=huber_fn, optimizer=\"nadam\", metrics=[\"mae\"])"
      ],
      "execution_count": 60,
      "outputs": []
    },
    {
      "cell_type": "code",
      "metadata": {
        "colab": {
          "base_uri": "https://localhost:8080/"
        },
        "id": "mECT6dsPDHWL",
        "outputId": "bf0f7ffc-07bc-4208-bb7c-8001061af0da"
      },
      "source": [
        "model.fit(X_train_scaled, y_train, epochs=2,\n",
        "          validation_data=(X_valid_scaled, y_valid))"
      ],
      "execution_count": 61,
      "outputs": [
        {
          "output_type": "stream",
          "name": "stdout",
          "text": [
            "Epoch 1/2\n",
            "363/363 [==============================] - 1s 2ms/step - loss: 0.5613 - mae: 0.9166 - val_loss: 0.2204 - val_mae: 0.5058\n",
            "Epoch 2/2\n",
            "363/363 [==============================] - 1s 2ms/step - loss: 0.2048 - mae: 0.4970 - val_loss: 0.1935 - val_mae: 0.4732\n"
          ]
        },
        {
          "output_type": "execute_result",
          "data": {
            "text/plain": [
              "<keras.callbacks.History at 0x7f78342f6cd0>"
            ]
          },
          "metadata": {},
          "execution_count": 61
        }
      ]
    },
    {
      "cell_type": "markdown",
      "metadata": {
        "id": "6ZRm7DyGAZQS"
      },
      "source": [
        "##12.3.2 사용자 정의 요소를 가진 모델을 저장하고 로드하기\n",
        "\n",
        "- 저장 시에는 상관없음..\n",
        "- 로드할 때는 딕셔너리로 사용자 정의 요소가 무엇인지 이름과 객체를 매핑해서 알려줘야 함"
      ]
    },
    {
      "cell_type": "code",
      "metadata": {
        "id": "LjcEN1LtDxf6"
      },
      "source": [
        "#저장은 스무스..\n",
        "model.save(\"my_model_with_a_custom_loss.h5\")"
      ],
      "execution_count": 62,
      "outputs": []
    },
    {
      "cell_type": "code",
      "metadata": {
        "id": "9RhYC7phD3jb"
      },
      "source": [
        "#로드할 땐 매핑해서..\n",
        "model = keras.models.load_model(\"my_model_with_a_custom_loss.h5\",\n",
        "                                custom_objects={\"huber_fn\": huber_fn})"
      ],
      "execution_count": 63,
      "outputs": []
    },
    {
      "cell_type": "code",
      "metadata": {
        "colab": {
          "base_uri": "https://localhost:8080/"
        },
        "id": "hO4ejbl3D3ZU",
        "outputId": "a9c165a6-2ebe-407d-efc3-526e07bef999"
      },
      "source": [
        "model.fit(X_train_scaled, y_train, epochs=2,\n",
        "          validation_data=(X_valid_scaled, y_valid))"
      ],
      "execution_count": 64,
      "outputs": [
        {
          "output_type": "stream",
          "name": "stdout",
          "text": [
            "Epoch 1/2\n",
            "363/363 [==============================] - 1s 2ms/step - loss: 0.1993 - mae: 0.4887 - val_loss: 0.1843 - val_mae: 0.4658\n",
            "Epoch 2/2\n",
            "363/363 [==============================] - 1s 2ms/step - loss: 0.1946 - mae: 0.4815 - val_loss: 0.1936 - val_mae: 0.4751\n"
          ]
        },
        {
          "output_type": "execute_result",
          "data": {
            "text/plain": [
              "<keras.callbacks.History at 0x7f78340098d0>"
            ]
          },
          "metadata": {},
          "execution_count": 64
        }
      ]
    },
    {
      "cell_type": "markdown",
      "metadata": {
        "id": "qw6mwuFcEOu-"
      },
      "source": [
        "앞선 후버 함수는 오차범위가 -1 ~ 1 이었다..\n",
        "\n",
        "이를 바꾸려면?? -> 매개변수를 받을 수 있는 함수를 구현.."
      ]
    },
    {
      "cell_type": "code",
      "metadata": {
        "id": "04d-M8PKD3Nr"
      },
      "source": [
        "#임계값을 지정할 수 있음..\n",
        "def create_huber(threshold=1.0):\n",
        "    def huber_fn(y_true, y_pred):\n",
        "        error = y_true - y_pred\n",
        "        is_small_error = tf.abs(error) < threshold\n",
        "\n",
        "        #임계값일때는 (오차의 제곱)/2로 동일하다..\n",
        "        squared_loss = tf.square(error) / 2\n",
        "        linear_loss = threshold * tf.abs(error) - threshold**2 / 2\n",
        "        return tf.where(is_small_error, squared_loss, linear_loss)\n",
        "    return huber_fn"
      ],
      "execution_count": 65,
      "outputs": []
    },
    {
      "cell_type": "code",
      "metadata": {
        "id": "XZSfKrsSD3CJ"
      },
      "source": [
        "model.compile(loss=create_huber(2.0), optimizer=\"nadam\", metrics=[\"mae\"])"
      ],
      "execution_count": 66,
      "outputs": []
    },
    {
      "cell_type": "code",
      "metadata": {
        "colab": {
          "base_uri": "https://localhost:8080/"
        },
        "id": "TEVhoTDWF5L1",
        "outputId": "173b3cf7-cd70-4470-c591-0b6929a4bae6"
      },
      "source": [
        "model.fit(X_train_scaled, y_train, epochs=2,\n",
        "          validation_data=(X_valid_scaled, y_valid))"
      ],
      "execution_count": 67,
      "outputs": [
        {
          "output_type": "stream",
          "name": "stdout",
          "text": [
            "Epoch 1/2\n",
            "363/363 [==============================] - 1s 2ms/step - loss: 0.2168 - mae: 0.4829 - val_loss: 0.2244 - val_mae: 0.4789\n",
            "Epoch 2/2\n",
            "363/363 [==============================] - 1s 2ms/step - loss: 0.2124 - mae: 0.4776 - val_loss: 0.2324 - val_mae: 0.4840\n"
          ]
        },
        {
          "output_type": "execute_result",
          "data": {
            "text/plain": [
              "<keras.callbacks.History at 0x7f7833b0b890>"
            ]
          },
          "metadata": {},
          "execution_count": 67
        }
      ]
    },
    {
      "cell_type": "code",
      "metadata": {
        "id": "pvZyAy1XF4_V"
      },
      "source": [
        "#얘를 저장..\n",
        "\n",
        "model.save(\"my_model_with_a_custom_loss_threshold_2.h5\")"
      ],
      "execution_count": 68,
      "outputs": []
    },
    {
      "cell_type": "code",
      "metadata": {
        "id": "aHk1SyvMGKK6"
      },
      "source": [
        "#로드해올 때는 아까와 같이 딕셔너리로 이름과 객체 매핑..\n",
        "#이름은 저장한 케라스 모델에서 사용했던 함수 이름 \"huber_fn\"을 사용..\n",
        "\n",
        "model = keras.models.load_model(\"my_model_with_a_custom_loss_threshold_2.h5\",\n",
        "                                custom_objects={\"huber_fn\": create_huber(2.0)})"
      ],
      "execution_count": 69,
      "outputs": []
    },
    {
      "cell_type": "code",
      "metadata": {
        "colab": {
          "base_uri": "https://localhost:8080/"
        },
        "id": "oO4zK7NDGKBE",
        "outputId": "12ae0c66-8977-4f5b-ba7b-6c1fafa4d5f7"
      },
      "source": [
        "model.fit(X_train_scaled, y_train, epochs=2,\n",
        "          validation_data=(X_valid_scaled, y_valid))"
      ],
      "execution_count": 70,
      "outputs": [
        {
          "output_type": "stream",
          "name": "stdout",
          "text": [
            "Epoch 1/2\n",
            "363/363 [==============================] - 1s 2ms/step - loss: 0.2118 - mae: 0.4749 - val_loss: 0.1959 - val_mae: 0.4621\n",
            "Epoch 2/2\n",
            "363/363 [==============================] - 1s 2ms/step - loss: 0.2085 - mae: 0.4724 - val_loss: 0.2101 - val_mae: 0.4701\n"
          ]
        },
        {
          "output_type": "execute_result",
          "data": {
            "text/plain": [
              "<keras.callbacks.History at 0x7f7833ddfd10>"
            ]
          },
          "metadata": {},
          "execution_count": 70
        }
      ]
    },
    {
      "cell_type": "markdown",
      "metadata": {
        "id": "caabs7VYH6WY"
      },
      "source": [
        "keras.losses.Loss 클래스를 상속하고 get_config()메서드를 구현해서 해결할 수도 있음.."
      ]
    },
    {
      "cell_type": "code",
      "metadata": {
        "id": "bpxuGtefGJ35"
      },
      "source": [
        "#코드 이해 필요..\n",
        "class HuberLoss(keras.losses.Loss):\n",
        "    #부모 클래스를 상속받는 과정..\n",
        "    def __init__(self, threshold=1.0, **kwargs):\n",
        "        self.threshold = threshold  #임계값만 지정\n",
        "        super().__init__(**kwargs)\n",
        "\n",
        "    #실제 손실을 구하는 call메서드\n",
        "    def call(self, y_true, y_pred):\n",
        "        error = y_true - y_pred\n",
        "        is_small_error = tf.abs(error) < self.threshold\n",
        "        squared_loss = tf.square(error) / 2\n",
        "        linear_loss  = self.threshold * tf.abs(error) - self.threshold**2 / 2\n",
        "        return tf.where(is_small_error, squared_loss, linear_loss)\n",
        "\n",
        "    #손실함수를 불러오는 메서드\n",
        "    def get_config(self):\n",
        "        base_config = super().get_config()\n",
        "        return {**base_config, \"threshold\": self.threshold}"
      ],
      "execution_count": 71,
      "outputs": []
    },
    {
      "cell_type": "code",
      "metadata": {
        "id": "-kubQtA_IENM"
      },
      "source": [
        "model = keras.models.Sequential([\n",
        "    keras.layers.Dense(30, activation=\"selu\", kernel_initializer=\"lecun_normal\",\n",
        "                       input_shape=input_shape),\n",
        "    keras.layers.Dense(1),\n",
        "])"
      ],
      "execution_count": 72,
      "outputs": []
    },
    {
      "cell_type": "code",
      "metadata": {
        "id": "khN5kCekIGY6"
      },
      "source": [
        "model.compile(loss=HuberLoss(2.), optimizer=\"nadam\", metrics=[\"mae\"])"
      ],
      "execution_count": 73,
      "outputs": []
    },
    {
      "cell_type": "code",
      "metadata": {
        "colab": {
          "base_uri": "https://localhost:8080/"
        },
        "id": "LCzj84kyIGNJ",
        "outputId": "db0b1dab-19b1-470e-8fbd-574d5ac6b83e"
      },
      "source": [
        "model.fit(X_train_scaled, y_train, epochs=2,\n",
        "          validation_data=(X_valid_scaled, y_valid))"
      ],
      "execution_count": 74,
      "outputs": [
        {
          "output_type": "stream",
          "name": "stdout",
          "text": [
            "Epoch 1/2\n",
            "363/363 [==============================] - 1s 2ms/step - loss: 0.7858 - mae: 0.9461 - val_loss: 0.3932 - val_mae: 0.5802\n",
            "Epoch 2/2\n",
            "363/363 [==============================] - 1s 2ms/step - loss: 0.2475 - mae: 0.5153 - val_loss: 0.2778 - val_mae: 0.5160\n"
          ]
        },
        {
          "output_type": "execute_result",
          "data": {
            "text/plain": [
              "<keras.callbacks.History at 0x7f7833c99390>"
            ]
          },
          "metadata": {},
          "execution_count": 74
        }
      ]
    },
    {
      "cell_type": "code",
      "metadata": {
        "id": "EnF_ET8CIK4v"
      },
      "source": [
        "#저장 및 복원..\n",
        "\n",
        "model.save(\"my_model_with_a_custom_loss_class.h5\")"
      ],
      "execution_count": 75,
      "outputs": []
    },
    {
      "cell_type": "code",
      "metadata": {
        "id": "taM9gg-MIP62"
      },
      "source": [
        "model = keras.models.load_model(\"my_model_with_a_custom_loss_class.h5\",\n",
        "                                custom_objects={\"HuberLoss\": HuberLoss})"
      ],
      "execution_count": 76,
      "outputs": []
    },
    {
      "cell_type": "code",
      "metadata": {
        "colab": {
          "base_uri": "https://localhost:8080/"
        },
        "id": "kT6-DBZ3IPv3",
        "outputId": "1e4e3c47-b4b1-4876-8707-f2500119f7b1"
      },
      "source": [
        "model.fit(X_train_scaled, y_train, epochs=2,\n",
        "          validation_data=(X_valid_scaled, y_valid))"
      ],
      "execution_count": 77,
      "outputs": [
        {
          "output_type": "stream",
          "name": "stdout",
          "text": [
            "Epoch 1/2\n",
            "363/363 [==============================] - 1s 2ms/step - loss: 0.2336 - mae: 0.5025 - val_loss: 0.2259 - val_mae: 0.4830\n",
            "Epoch 2/2\n",
            "363/363 [==============================] - 1s 2ms/step - loss: 0.2246 - mae: 0.4950 - val_loss: 0.2405 - val_mae: 0.4890\n"
          ]
        },
        {
          "output_type": "execute_result",
          "data": {
            "text/plain": [
              "<keras.callbacks.History at 0x7f782f1b7d10>"
            ]
          },
          "metadata": {},
          "execution_count": 77
        }
      ]
    },
    {
      "cell_type": "code",
      "metadata": {
        "colab": {
          "base_uri": "https://localhost:8080/"
        },
        "id": "jhEho1ozITbI",
        "outputId": "b0f02a42-9b05-426c-e03b-b894dd7cf1d1"
      },
      "source": [
        "#임계값 확인..\n",
        "\n",
        "model.loss.threshold"
      ],
      "execution_count": 78,
      "outputs": [
        {
          "output_type": "execute_result",
          "data": {
            "text/plain": [
              "2.0"
            ]
          },
          "metadata": {},
          "execution_count": 78
        }
      ]
    },
    {
      "cell_type": "markdown",
      "metadata": {
        "id": "PlrU9kyFAZOH"
      },
      "source": [
        "##12.3.3 활성화 함수, 초기화, 규제, 제한을 커스터마이징하기\n",
        "\n",
        "- 얘도 똑같다.. 저장할 땐 맘대론데 로드할 땐 딕셔너리로 매핑해서 해줘야한다.."
      ]
    },
    {
      "cell_type": "code",
      "metadata": {
        "id": "Uv7qaJTNIqAr"
      },
      "source": [
        "keras.backend.clear_session()\n",
        "np.random.seed(42)\n",
        "tf.random.set_seed(42)"
      ],
      "execution_count": 79,
      "outputs": []
    },
    {
      "cell_type": "code",
      "metadata": {
        "id": "_STT9mSTJIxD"
      },
      "source": [
        "def my_softplus(z): # tf.nn.softplus(z)와 동일.. log(1+x)\n",
        "    return tf.math.log(tf.exp(z) + 1.0)\n",
        "\n",
        "#글로럿 초기화 구현\n",
        "def my_glorot_initializer(shape, dtype=tf.float32):\n",
        "    stddev = tf.sqrt(2. / (shape[0] + shape[1]))\n",
        "    return tf.random.normal(shape, stddev=stddev, dtype=dtype)\n",
        "\n",
        "#l1 규제 구현\n",
        "def my_l1_regularizer(weights):\n",
        "    return tf.reduce_sum(tf.abs(0.01 * weights))\n",
        "\n",
        "#제한 구현..(가중치가 음수이면 0으로.. relu와 동일..)\n",
        "def my_positive_weights(weights): # tf.nn.relu(weights) 값을 반환합니다\n",
        "    return tf.where(weights < 0., tf.zeros_like(weights), weights)"
      ],
      "execution_count": 80,
      "outputs": []
    },
    {
      "cell_type": "code",
      "metadata": {
        "id": "c2mq-hxhJo4w"
      },
      "source": [
        "#사용자 정의한 걸로 층을 만듦..\n",
        "model = keras.models.Sequential([\n",
        "    keras.layers.Dense(30, activation=\"selu\", kernel_initializer=\"lecun_normal\",\n",
        "                       input_shape=input_shape),\n",
        "    keras.layers.Dense(1, activation=my_softplus,\n",
        "                       kernel_regularizer=my_l1_regularizer,\n",
        "                       kernel_constraint=my_positive_weights,\n",
        "                       kernel_initializer=my_glorot_initializer),\n",
        "])"
      ],
      "execution_count": 81,
      "outputs": []
    },
    {
      "cell_type": "code",
      "metadata": {
        "id": "pR_qHBDxJwgz"
      },
      "source": [
        "model.compile(loss=\"mse\", optimizer=\"nadam\", metrics=[\"mae\"])"
      ],
      "execution_count": 82,
      "outputs": []
    },
    {
      "cell_type": "code",
      "metadata": {
        "colab": {
          "base_uri": "https://localhost:8080/"
        },
        "id": "iFOCtHhWJwWs",
        "outputId": "709bb44e-e2a9-4c56-924e-d27b32758107"
      },
      "source": [
        "model.fit(X_train_scaled, y_train, epochs=2,\n",
        "          validation_data=(X_valid_scaled, y_valid))"
      ],
      "execution_count": 83,
      "outputs": [
        {
          "output_type": "stream",
          "name": "stdout",
          "text": [
            "Epoch 1/2\n",
            "363/363 [==============================] - 1s 2ms/step - loss: 1.5542 - mae: 0.8962 - val_loss: 1.4154 - val_mae: 0.5607\n",
            "Epoch 2/2\n",
            "363/363 [==============================] - 1s 2ms/step - loss: 0.5943 - mae: 0.5256 - val_loss: 1.4399 - val_mae: 0.5137\n"
          ]
        },
        {
          "output_type": "execute_result",
          "data": {
            "text/plain": [
              "<keras.callbacks.History at 0x7f78339bb7d0>"
            ]
          },
          "metadata": {},
          "execution_count": 83
        }
      ]
    },
    {
      "cell_type": "code",
      "metadata": {
        "id": "yp3RFPI2Jzas"
      },
      "source": [
        "#저장할땐 맘대로..\n",
        "model.save(\"my_model_with_many_custom_parts.h5\")"
      ],
      "execution_count": 84,
      "outputs": []
    },
    {
      "cell_type": "code",
      "metadata": {
        "id": "6yMYyPWZJ4cr"
      },
      "source": [
        "#로드할땐 매핑해서~\n",
        "model = keras.models.load_model(\n",
        "    \"my_model_with_many_custom_parts.h5\",\n",
        "    custom_objects={\n",
        "       \"my_l1_regularizer\": my_l1_regularizer,\n",
        "       \"my_positive_weights\": my_positive_weights,\n",
        "       \"my_glorot_initializer\": my_glorot_initializer,\n",
        "       \"my_softplus\": my_softplus,\n",
        "    })"
      ],
      "execution_count": 85,
      "outputs": []
    },
    {
      "cell_type": "markdown",
      "metadata": {
        "id": "vT4gE14zAZLy"
      },
      "source": [
        "##12.3.4 사용자 정의 지표"
      ]
    },
    {
      "cell_type": "markdown",
      "metadata": {
        "id": "gjiQh41cKas-"
      },
      "source": [
        "**손실**\n",
        "- 미분가능해야하고 그레이디언트가 모든 곳에서 0이 아니어야함\n",
        "- 쉽게 이해못해도 괜찮다..\n",
        "\n",
        "**지표**\n",
        "- 모델을 평가할 때 사용\n",
        "- 이해하기 쉬워야 한다\n",
        "- 미분 불가해도 되고 그레이디언트가 0이어도 괜찮다.."
      ]
    },
    {
      "cell_type": "markdown",
      "metadata": {
        "id": "LDcJHfYw6ucl"
      },
      "source": [
        "###스트리밍 지표\n",
        "\n",
        "- 훈련하는 동안 케라스는 지표를 계산하고 에포크가 시작할 때부터 평균을 기록한다.\n",
        "- 보통은 맞지만 항상 맞는건 아니다!\n",
        "- ex)재현율,.\n",
        "    - TP와 FP를 기록하고 필요 시 계산할 수 있는 객체가 필요!!\n",
        "- 배치에 따라 점진적으로 업데이트된다.."
      ]
    },
    {
      "cell_type": "code",
      "metadata": {
        "id": "iDT7u3jLJ4QM",
        "colab": {
          "base_uri": "https://localhost:8080/"
        },
        "outputId": "60d3fd3a-b0b5-4507-d7bd-d3b6797c2e67"
      },
      "source": [
        "#precision([레이블], [예측]) : 주어진 레이블과 예측에 대한 정밀도를 계산..\n",
        "#아래 예시는 5개의 양성 예측 중에서 진짜 양성은 4개니까 0.8..\n",
        "\n",
        "precision = keras.metrics.Precision()\n",
        "precision([0, 1, 1, 1, 0, 1, 0, 1], [1, 1, 0, 1, 0, 1, 0, 1])"
      ],
      "execution_count": 86,
      "outputs": [
        {
          "output_type": "execute_result",
          "data": {
            "text/plain": [
              "<tf.Tensor: shape=(), dtype=float32, numpy=0.8>"
            ]
          },
          "metadata": {},
          "execution_count": 86
        }
      ]
    },
    {
      "cell_type": "code",
      "metadata": {
        "colab": {
          "base_uri": "https://localhost:8080/"
        },
        "id": "hTT8eLSY7UYM",
        "outputId": "f209d5a5-df64-4055-fa2e-b2cc1cb6cafc"
      },
      "source": [
        "#얘가 재현율이 0(0/3) 이어야하는데 앞선 precision과 연결해서 해서\n",
        "#(4+0 / 5+3) = 0.5로 나왔다..\n",
        "\n",
        "precision([0, 1, 0, 0, 1, 0, 1, 1], [1, 0, 1, 1, 0, 0, 0, 0])"
      ],
      "execution_count": 87,
      "outputs": [
        {
          "output_type": "execute_result",
          "data": {
            "text/plain": [
              "<tf.Tensor: shape=(), dtype=float32, numpy=0.5>"
            ]
          },
          "metadata": {},
          "execution_count": 87
        }
      ]
    },
    {
      "cell_type": "code",
      "metadata": {
        "colab": {
          "base_uri": "https://localhost:8080/"
        },
        "id": "8UwvJ9r38Eef",
        "outputId": "1b8be6df-89c1-4b08-d624-17c0184fd095"
      },
      "source": [
        "#현재 지표값\n",
        "precision.result()"
      ],
      "execution_count": 88,
      "outputs": [
        {
          "output_type": "execute_result",
          "data": {
            "text/plain": [
              "<tf.Tensor: shape=(), dtype=float32, numpy=0.5>"
            ]
          },
          "metadata": {},
          "execution_count": 88
        }
      ]
    },
    {
      "cell_type": "code",
      "metadata": {
        "colab": {
          "base_uri": "https://localhost:8080/"
        },
        "id": "pfGVMFpP8H46",
        "outputId": "cc176654-82cc-4949-aae4-c7afb26d3005"
      },
      "source": [
        "#TP와 FP를 기록한 변수 확인..\n",
        "precision.variables"
      ],
      "execution_count": 89,
      "outputs": [
        {
          "output_type": "execute_result",
          "data": {
            "text/plain": [
              "[<tf.Variable 'true_positives:0' shape=(1,) dtype=float32, numpy=array([4.], dtype=float32)>,\n",
              " <tf.Variable 'false_positives:0' shape=(1,) dtype=float32, numpy=array([4.], dtype=float32)>]"
            ]
          },
          "metadata": {},
          "execution_count": 89
        }
      ]
    },
    {
      "cell_type": "code",
      "metadata": {
        "id": "f18xxvuM8HvF"
      },
      "source": [
        "#초기화..\n",
        "precision.reset_states()"
      ],
      "execution_count": 90,
      "outputs": []
    },
    {
      "cell_type": "markdown",
      "metadata": {
        "id": "eLJLINeH8cxD"
      },
      "source": [
        "스트리밍 지표 만들기\n",
        "\n",
        "- 아래의 예는 후버 손실의 평균을 나타내는 함수를 구현..\n",
        "- 아래의 클래스를 정의하는 유일한 이점은 threshold도 저장할 수 있다는 것이다!!"
      ]
    },
    {
      "cell_type": "code",
      "metadata": {
        "id": "_yK7sU-X8fo8"
      },
      "source": [
        "class HuberMetric(keras.metrics.Metric):\n",
        "    def __init__(self, threshold=1.0, **kwargs):\n",
        "        super().__init__(**kwargs)      #부모 클래스의 생성자를 호출하며 기본 매개변수 처리\n",
        "        self.threshold = threshold\n",
        "        self.huber_fn = create_huber(threshold)     #임계값을 지정해서 후버손실함수 설정..\n",
        "\n",
        "        #변수를 만드는 add_weight()메서드.. 이름과 초기화 설정이 됨..\n",
        "        self.total = self.add_weight(\"total\", initializer=\"zeros\")\n",
        "        self.count = self.add_weight(\"count\", initializer=\"zeros\")\n",
        "\n",
        "    #샘플별 가중치는 없고 레이블과 예측이 들어왔을때 손실함수의 상태를 업데이트하는 메서드        \n",
        "    def update_state(self, y_true, y_pred, sample_weight=None):\n",
        "        #손실함수 텐서베열 생성..\n",
        "        metric = self.huber_fn(y_true, y_pred)\n",
        "        self.total.assign_add(tf.reduce_sum(metric))    #손실함수 텐서배열을 더해서 재할당..\n",
        "        self.count.assign_add(tf.cast(tf.size(y_true), tf.float32))     #들어온 샘플 갯수를 타입변환후 더해서 재할당..\n",
        "    \n",
        "    #실제 무엇을 반환하는가..\n",
        "    def result(self):\n",
        "        #손실함수의 평균..\n",
        "        return self.total / self.count\n",
        "    \n",
        "    #threshold 변수를 모델과 함께 저장..\n",
        "    def get_config(self):\n",
        "        base_config = super().get_config()\n",
        "        return {**base_config, \"threshold\": self.threshold}"
      ],
      "execution_count": 91,
      "outputs": []
    },
    {
      "cell_type": "markdown",
      "metadata": {
        "id": "G0XFlaIj2_z0"
      },
      "source": [
        "잘 작동하는지 확인.."
      ]
    },
    {
      "cell_type": "code",
      "metadata": {
        "id": "YS7vKCk-3B3j"
      },
      "source": [
        "#스트리밍 지표 객체 생성..\n",
        "\n",
        "m = HuberMetric(2.)"
      ],
      "execution_count": 92,
      "outputs": []
    },
    {
      "cell_type": "code",
      "metadata": {
        "colab": {
          "base_uri": "https://localhost:8080/"
        },
        "id": "P6tU2qjO3ImD",
        "outputId": "4f3644a1-c002-4204-fc2f-129c875358a2"
      },
      "source": [
        "# y_true = [[2.]], y_pred = [[10.]]\n",
        "# 에러(8)가 임계값(2)보다 크다..\n",
        "\n",
        "m(tf.constant([[2.]]), tf.constant([[10.]]))"
      ],
      "execution_count": 93,
      "outputs": [
        {
          "output_type": "execute_result",
          "data": {
            "text/plain": [
              "<tf.Tensor: shape=(), dtype=float32, numpy=14.0>"
            ]
          },
          "metadata": {},
          "execution_count": 93
        }
      ]
    },
    {
      "cell_type": "code",
      "metadata": {
        "colab": {
          "base_uri": "https://localhost:8080/"
        },
        "id": "BEgVt8TP_s-y",
        "outputId": "94f670a0-1288-4a2f-d198-5875566ad7b0"
      },
      "source": [
        "#다른 레이블과 예측..\n",
        "\n",
        "m(tf.constant([[0.], [5.]]), tf.constant([[1.], [9.25]]))\n",
        "\n",
        "m.result()"
      ],
      "execution_count": 94,
      "outputs": [
        {
          "output_type": "execute_result",
          "data": {
            "text/plain": [
              "<tf.Tensor: shape=(), dtype=float32, numpy=7.0>"
            ]
          },
          "metadata": {},
          "execution_count": 94
        }
      ]
    },
    {
      "cell_type": "code",
      "metadata": {
        "colab": {
          "base_uri": "https://localhost:8080/"
        },
        "id": "B33WUdsV_5TF",
        "outputId": "5de96b00-db2a-4379-d79c-71d1da553bdc"
      },
      "source": [
        "m.variables"
      ],
      "execution_count": 95,
      "outputs": [
        {
          "output_type": "execute_result",
          "data": {
            "text/plain": [
              "[<tf.Variable 'total:0' shape=() dtype=float32, numpy=21.0>,\n",
              " <tf.Variable 'count:0' shape=() dtype=float32, numpy=3.0>]"
            ]
          },
          "metadata": {},
          "execution_count": 95
        }
      ]
    },
    {
      "cell_type": "code",
      "metadata": {
        "colab": {
          "base_uri": "https://localhost:8080/"
        },
        "id": "tzv7YgAs_7lg",
        "outputId": "eba8a312-153e-4f3a-8dca-ee76dd7d34f4"
      },
      "source": [
        "m.reset_states()\n",
        "m.variables"
      ],
      "execution_count": 96,
      "outputs": [
        {
          "output_type": "execute_result",
          "data": {
            "text/plain": [
              "[<tf.Variable 'total:0' shape=() dtype=float32, numpy=0.0>,\n",
              " <tf.Variable 'count:0' shape=() dtype=float32, numpy=0.0>]"
            ]
          },
          "metadata": {},
          "execution_count": 96
        }
      ]
    },
    {
      "cell_type": "markdown",
      "metadata": {
        "id": "WVAfGNvzAZJc"
      },
      "source": [
        "##12.3.5 사용자 정의 층"
      ]
    },
    {
      "cell_type": "code",
      "metadata": {
        "id": "m62ebepSAnRn"
      },
      "source": [
        "# 파이썬 함수를 만들고 keras.layers.Lambda층으로 감싸기..\n",
        "\n",
        "exponential_layer = keras.layers.Lambda(lambda x: tf.exp(x))"
      ],
      "execution_count": 97,
      "outputs": []
    },
    {
      "cell_type": "code",
      "metadata": {
        "colab": {
          "base_uri": "https://localhost:8080/"
        },
        "id": "2RdIVRYjAyVc",
        "outputId": "7086ce1a-2fa7-495d-9b5b-05ba50f3822e"
      },
      "source": [
        "exponential_layer([-1., 0., 1.])"
      ],
      "execution_count": 98,
      "outputs": [
        {
          "output_type": "execute_result",
          "data": {
            "text/plain": [
              "<tf.Tensor: shape=(3,), dtype=float32, numpy=array([0.36787945, 1.        , 2.7182817 ], dtype=float32)>"
            ]
          },
          "metadata": {},
          "execution_count": 98
        }
      ]
    },
    {
      "cell_type": "markdown",
      "metadata": {
        "id": "3bkhqLJ0A9zV"
      },
      "source": [
        "회귀모델이 예측할 값이 양수이고 스케일이 많이 다른 경우 출력층에 지수함수를 추가하면 유용함.."
      ]
    },
    {
      "cell_type": "code",
      "metadata": {
        "id": "8p_t5o3zBDs2"
      },
      "source": [
        "keras.backend.clear_session()\n",
        "np.random.seed(42)\n",
        "tf.random.set_seed(42)"
      ],
      "execution_count": 99,
      "outputs": []
    },
    {
      "cell_type": "code",
      "metadata": {
        "colab": {
          "base_uri": "https://localhost:8080/"
        },
        "id": "VkcEEOZ3BEmN",
        "outputId": "9251f0cf-6812-46ab-80d9-29b6df90cca0"
      },
      "source": [
        "model = keras.models.Sequential([\n",
        "    keras.layers.Dense(30, activation=\"relu\", input_shape=input_shape),\n",
        "    keras.layers.Dense(1),\n",
        "    exponential_layer       #지수함수층 추가\n",
        "])\n",
        "model.compile(loss=\"mse\", optimizer=\"sgd\")\n",
        "model.fit(X_train_scaled, y_train, epochs=5,\n",
        "          validation_data=(X_valid_scaled, y_valid))\n",
        "model.evaluate(X_test_scaled, y_test)"
      ],
      "execution_count": 100,
      "outputs": [
        {
          "output_type": "stream",
          "name": "stdout",
          "text": [
            "Epoch 1/5\n",
            "363/363 [==============================] - 1s 1ms/step - loss: 1.0631 - val_loss: 0.4457\n",
            "Epoch 2/5\n",
            "363/363 [==============================] - 0s 1ms/step - loss: 0.4562 - val_loss: 0.3798\n",
            "Epoch 3/5\n",
            "363/363 [==============================] - 0s 1ms/step - loss: 0.4029 - val_loss: 0.3548\n",
            "Epoch 4/5\n",
            "363/363 [==============================] - 1s 1ms/step - loss: 0.3851 - val_loss: 0.3464\n",
            "Epoch 5/5\n",
            "363/363 [==============================] - 1s 1ms/step - loss: 0.3708 - val_loss: 0.3449\n",
            "162/162 [==============================] - 0s 817us/step - loss: 0.3586\n"
          ]
        },
        {
          "output_type": "execute_result",
          "data": {
            "text/plain": [
              "0.3586341142654419"
            ]
          },
          "metadata": {},
          "execution_count": 100
        }
      ]
    },
    {
      "cell_type": "markdown",
      "metadata": {
        "id": "hemOCM5oBL4f"
      },
      "source": [
        "사용자 정의 층을 만들자!!\n",
        "\n",
        "- 가중치를 가진 층을 만드려면 keras.layers.Layer를 상속해야함..\n",
        "- Dense층의 간소화 버전을 구현한 것.."
      ]
    },
    {
      "cell_type": "code",
      "metadata": {
        "id": "u6pk8c97BNpp"
      },
      "source": [
        "class MyDense(keras.layers.Layer):\n",
        "    def __init__(self, units, activation=None, **kwargs):\n",
        "        super().__init__(**kwargs)\n",
        "        self.units = units      #뉴런의 갯수..\n",
        "        self.activation = keras.activations.get(activation)     #활성화함수 있으면 지정..\n",
        "    \n",
        "    def build(self, batch_input_shape):\n",
        "        #가중치 행렬 생성.. shape : (이전의 뉴런수, 현재 뉴런수)\n",
        "        self.kernel = self.add_weight(\n",
        "            name=\"kernel\", shape=[batch_input_shape[-1], self.units],\n",
        "            initializer=\"glorot_normal\")\n",
        "        #편향 행렬 생성.. shape : (현재 뉴런수)\n",
        "        self.bias = self.add_weight(\n",
        "            name=\"bias\", shape=[self.units], initializer=\"zeros\")\n",
        "        super().build(batch_input_shape)        #마지막에 호출해야함..\n",
        "    \n",
        "    def call(self, X):\n",
        "        #가중치를 곱해서 편향을 더한 뒤 활성화함수를 통과시킨값을 반환..\n",
        "        return self.activation(X @ self.kernel + self.bias)\n",
        "    \n",
        "    #??\n",
        "    def compute_output_shape(self, batch_input_shape):\n",
        "        return tf.TensorShape(batch_input_shape.as_list()[-1] + [self.units])\n",
        "\n",
        "    #keras.activations.serialize로 활성화함수의 모든 설정을 저장함..\n",
        "    def get_config(self):\n",
        "        base_config = super().get_config()\n",
        "        return {**base_config, \"units\": self.units,\n",
        "                \"activation\": keras.activations.serialize(self.activation)}"
      ],
      "execution_count": 108,
      "outputs": []
    },
    {
      "cell_type": "code",
      "metadata": {
        "id": "uUHn1SOQHdqs"
      },
      "source": [
        "keras.backend.clear_session()\n",
        "np.random.seed(42)\n",
        "tf.random.set_seed(42)"
      ],
      "execution_count": 109,
      "outputs": []
    },
    {
      "cell_type": "code",
      "metadata": {
        "id": "ujp6T44pHfCd"
      },
      "source": [
        "keras.backend.clear_session()\n",
        "np.random.seed(42)\n",
        "tf.random.set_seed(42)"
      ],
      "execution_count": 110,
      "outputs": []
    },
    {
      "cell_type": "code",
      "metadata": {
        "colab": {
          "base_uri": "https://localhost:8080/"
        },
        "id": "3lbp2huoHgMu",
        "outputId": "aee576fb-958a-44b5-da0d-ab6efe04d29f"
      },
      "source": [
        "model.compile(loss=\"mse\", optimizer=\"nadam\")\n",
        "model.fit(X_train_scaled, y_train, epochs=2,\n",
        "          validation_data=(X_valid_scaled, y_valid))\n",
        "model.evaluate(X_test_scaled, y_test)"
      ],
      "execution_count": 111,
      "outputs": [
        {
          "output_type": "stream",
          "name": "stdout",
          "text": [
            "Epoch 1/2\n",
            "363/363 [==============================] - 1s 2ms/step - loss: 0.3384 - val_loss: 0.3222\n",
            "Epoch 2/2\n",
            "363/363 [==============================] - 1s 2ms/step - loss: 0.3330 - val_loss: 0.3196\n",
            "162/162 [==============================] - 0s 847us/step - loss: 0.3309\n"
          ]
        },
        {
          "output_type": "execute_result",
          "data": {
            "text/plain": [
              "0.3308958411216736"
            ]
          },
          "metadata": {},
          "execution_count": 111
        }
      ]
    },
    {
      "cell_type": "code",
      "metadata": {
        "id": "VguqrOndHgE6"
      },
      "source": [
        "model.save(\"my_model_with_a_custom_layer.h5\")"
      ],
      "execution_count": 112,
      "outputs": []
    },
    {
      "cell_type": "code",
      "metadata": {
        "id": "in7PmljcHf8Y"
      },
      "source": [
        "model = keras.models.load_model(\"my_model_with_a_custom_layer.h5\",\n",
        "                                custom_objects={\"MyDense\": MyDense})"
      ],
      "execution_count": 113,
      "outputs": []
    },
    {
      "cell_type": "markdown",
      "metadata": {
        "id": "VVEaAt7ZI27U"
      },
      "source": [
        "여러개의 입력이나 출력을 사용하는 층을 만들어보자..\n",
        "\n",
        "- 모든 입력이 포함된 튜플을 매개변수로 전달해야함.\n",
        "- 여러 출력을 반환하려면 call()메서드가 출력의 리스트를 반환해야함.."
      ]
    },
    {
      "cell_type": "code",
      "metadata": {
        "id": "XEVUw4TtJJYA"
      },
      "source": [
        "class MyMultiLayer(keras.layers.Layer):\n",
        "    def call(self, X):\n",
        "        #2개의 입력이 튜플로 전달되어야함..\n",
        "        X1, X2 = X\n",
        "        #3개의 출력은 리스트로 반환되어야함..\n",
        "        return [X1+X2, X1*X2, X1/X2]"
      ],
      "execution_count": 114,
      "outputs": []
    },
    {
      "cell_type": "markdown",
      "metadata": {
        "id": "HMcwcWI7JbVO"
      },
      "source": [
        "훈련과 테스트에서 다르게 동작하는 층을 만들어보자..\n",
        "\n",
        "- call()메서드에 training 매개변수를 추가하여 훈련인지 테스트인지 결정.."
      ]
    },
    {
      "cell_type": "code",
      "metadata": {
        "id": "8TS-qyBZJh4i"
      },
      "source": [
        "class MyGaussianNoise(keras.layers.Layer):\n",
        "    def __init__(self, stddev, **kwargs):\n",
        "        super().__init__(**kwargs)      #기본 매개변수..\n",
        "        self.stddve = stddev\n",
        "    \n",
        "    def call(self, X, training=None):   #훈련인지 테스트인지 결정하는 매개변수 training\n",
        "        if training:\n",
        "            #표준편차가 stddev인 X크기의 정규분포를 잡음으로 생성..\n",
        "            noise = tf.random.normal(tf.shape(X), stddev=self.stddev)\n",
        "        else:\n",
        "            return X\n",
        "    \n",
        "    def compute_output_shape(self, batch_input_shape):\n",
        "        return batch_input_shape"
      ],
      "execution_count": 115,
      "outputs": []
    },
    {
      "cell_type": "markdown",
      "metadata": {
        "id": "HksMnoD4AZHE"
      },
      "source": [
        "##12.3.6 사용자 정의 모델"
      ]
    },
    {
      "cell_type": "markdown",
      "metadata": {
        "id": "jyssutmSAZEm"
      },
      "source": [
        "##12.3.7 모델 구성 요소에 기반한 손실과 지표"
      ]
    },
    {
      "cell_type": "markdown",
      "metadata": {
        "id": "cS2huCIbAZB-"
      },
      "source": [
        "##12.3.8 자동 미분을 사용하여 그레이디언트 계산하기"
      ]
    },
    {
      "cell_type": "markdown",
      "metadata": {
        "id": "5j2Pu9NcAY_o"
      },
      "source": [
        "##12.3.9 사용자 정의 훈련 반복"
      ]
    },
    {
      "cell_type": "markdown",
      "metadata": {
        "id": "aL77ji5AAY9G"
      },
      "source": [
        "#12.4 텐서플로 함수와 그래프"
      ]
    },
    {
      "cell_type": "markdown",
      "metadata": {
        "id": "T-VbSR9VBLwn"
      },
      "source": [
        "##12.4.1 오토그래프와 트레이싱"
      ]
    },
    {
      "cell_type": "markdown",
      "metadata": {
        "id": "suMsK6idBLtJ"
      },
      "source": [
        "##12.4.2 텐서플로 함수 사용 방법"
      ]
    },
    {
      "cell_type": "markdown",
      "metadata": {
        "id": "qwCX1q5QBLoO"
      },
      "source": [
        "#12.5 연습문제"
      ]
    }
  ]
}