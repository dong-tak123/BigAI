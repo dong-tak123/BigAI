{
  "nbformat": 4,
  "nbformat_minor": 0,
  "metadata": {
    "colab": {
      "name": "Chapter4. 모델 훈련",
      "provenance": [],
      "collapsed_sections": [
        "6szkiP6ePDDQ"
      ]
    },
    "kernelspec": {
      "name": "python3",
      "display_name": "Python 3"
    },
    "language_info": {
      "name": "python"
    }
  },
  "cells": [
    {
      "cell_type": "markdown",
      "metadata": {
        "id": "XE57Yru0OKhn"
      },
      "source": [
        "**선형 회귀를 훈련하는 크게 두가지 방법**\n",
        "\n",
        "- 직접 계산하는 공식으로 최적의 모델 파라미터를 해석적으로 구한다\n",
        "\n",
        "- 경사하강법을 사용하여 모델 파라미터를 조금씩 바꾸면서 비용함수를 최소화 시킨다..\n",
        "    - 배치, 미니배치, 확률적 경사하강법 등이 있다.."
      ]
    },
    {
      "cell_type": "markdown",
      "metadata": {
        "id": "nhpK-ASUOmAo"
      },
      "source": [
        "**다항 회귀**\n",
        "\n",
        "- 선형 회귀보다 파라미터가 많아서 훈련 데이터에 과대적합 되기 쉽다..\n",
        "- 학습곡선을 사용해서 과대적합 감지.."
      ]
    },
    {
      "cell_type": "markdown",
      "metadata": {
        "id": "-kaD8Zk6O_Yg"
      },
      "source": [
        "**분류**\n",
        "\n",
        "- 로지스틱 회귀, 소프트맥스 회귀"
      ]
    },
    {
      "cell_type": "markdown",
      "metadata": {
        "id": "6szkiP6ePDDQ"
      },
      "source": [
        "#4.1 선형 회귀"
      ]
    },
    {
      "cell_type": "markdown",
      "metadata": {
        "id": "tjasIqCUsiDs"
      },
      "source": [
        "- 입력 특성의 가중치 합과 편향이라는 상수를 더해서 예측을 만든다..\n",
        "- 벡터 형태로 하면 더 간단히 쓸 수 있음..\n",
        "    - 특성 벡터(**x**)와 모델파라미터(가중치) 벡터(**A** = (세타))를 만듦..\n",
        "    - 편향에 곱해지는 x0는 항상 1로 만듦..\n",
        "- $\\hat{y} = XA$"
      ]
    },
    {
      "cell_type": "markdown",
      "metadata": {
        "id": "NXFVKcBZtHzZ"
      },
      "source": [
        "**모델의 훈련**\n",
        "\n",
        "- 오차(RMSE)를 최소화 시키는 **A**를 찾아야한다..\n",
        "- 근데 MSE를 찾는거랑 똑같다..\n",
        "- MSE = $((A^T)x - \\hat{y})$ 의 제곱의 평균..\n",
        "    - 즉, 모든 샘플에 대한 오차의 제곱을 평균한다는 말.."
      ]
    },
    {
      "cell_type": "markdown",
      "metadata": {
        "id": "nMumcDZMt0_L"
      },
      "source": [
        "##4.1.1 정규방정식\n",
        "\n",
        "- 비용 함수를 최소화 하는 A값을 찾기 위한 **해석적인 방법**"
      ]
    },
    {
      "cell_type": "markdown",
      "metadata": {
        "id": "pD0SM7QGt-a4"
      },
      "source": [
        "- MSE를 미분해서 0이 되는 A를 찾아라!\n",
        "- $X^TXA = (X^T)(b)$를 푸는 것이다..\n",
        "- (X_T)(X)가 역행렬이 있으면, 바로 A를 구할 수 있다!!\n",
        "- $A = {{(X^TX)}^{-1}}(X^T)(b)$"
      ]
    },
    {
      "cell_type": "code",
      "metadata": {
        "id": "eturuANmNwNV"
      },
      "source": [
        "#선형으로 보이는 데이터 생성\n",
        "#randn : 정규분포 난수\n",
        "import numpy as np\n",
        "\n",
        "X = 2 * np.random.rand(100, 1)\n",
        "y = 4 + 3 * X + np.random.randn(100,1)"
      ],
      "execution_count": 1,
      "outputs": []
    },
    {
      "cell_type": "code",
      "metadata": {
        "colab": {
          "base_uri": "https://localhost:8080/",
          "height": 0
        },
        "id": "F6VC7iATvRHV",
        "outputId": "95548f9c-6bb7-411b-b994-06b7e3500762"
      },
      "source": [
        "import matplotlib.pyplot as plt\n",
        "\n",
        "plt.plot(X, y, \"b.\")\n",
        "plt.axis([0 , 2 , 0 , 15])\n",
        "plt.xlabel(\"X_1\")\n",
        "plt.ylabel(\"Y\")\n",
        "plt.show()"
      ],
      "execution_count": 2,
      "outputs": [
        {
          "output_type": "display_data",
          "data": {
            "image/png": "[encoded data removed]",
            "text/plain": [
              "<Figure size 432x288 with 1 Axes>"
            ]
          },
          "metadata": {
            "tags": [],
            "needs_background": "light"
          }
        }
      ]
    },
    {
      "cell_type": "markdown",
      "metadata": {
        "id": "PDf58IeS0M3X"
      },
      "source": [
        "**정규 방정식**\n",
        "\n",
        "- $A = {{(X^TX)}^{-1}}(X^T)(b)$"
      ]
    },
    {
      "cell_type": "code",
      "metadata": {
        "id": "SAGZaakwvfDK"
      },
      "source": [
        "# A = 세타 : 가중치들의 벡터..\n",
        "# X : 입력특성 벡터..\n",
        "\n",
        "#모든 샘플에 x0 = 1추가..\n",
        "X_b = np.c_[np.ones((100,1)), X]\n",
        "#정규방정식 적용\n",
        "theta_best = np.linalg.inv(X_b.T.dot(X_b)).dot(X_b.T).dot(y)"
      ],
      "execution_count": 3,
      "outputs": []
    },
    {
      "cell_type": "code",
      "metadata": {
        "colab": {
          "base_uri": "https://localhost:8080/"
        },
        "id": "fqqLzhj1yvAP",
        "outputId": "c52b7a82-21f6-4c5d-ed18-98399c9e2cf2"
      },
      "source": [
        "theta_best"
      ],
      "execution_count": 4,
      "outputs": [
        {
          "output_type": "execute_result",
          "data": {
            "text/plain": [
              "array([[4.09099547],\n",
              "       [3.01571555]])"
            ]
          },
          "metadata": {
            "tags": []
          },
          "execution_count": 4
        }
      ]
    },
    {
      "cell_type": "markdown",
      "metadata": {
        "id": "fEsX9Nogyzi8"
      },
      "source": [
        "**설명**\n",
        "\n",
        "- 원래 4, 3을 주었는데\n",
        "- 예측이 4.3, 2.8 이다..\n",
        "- 꽤 정확.."
      ]
    },
    {
      "cell_type": "markdown",
      "metadata": {
        "id": "h3jKW0Ze0UC5"
      },
      "source": [
        "**예측**\n",
        "\n",
        "- $\\hat{y} = XA$"
      ]
    },
    {
      "cell_type": "code",
      "metadata": {
        "colab": {
          "base_uri": "https://localhost:8080/"
        },
        "id": "68R0M7TyywXs",
        "outputId": "8ee13ceb-37bf-418e-a8f4-8f158cda35d4"
      },
      "source": [
        "#정규방정식으로 만든 세타로 만든 예측을 그래프로 그려보자..\n",
        "\n",
        "#처음과 끝 값을 얻고 그래프 그리겟다..\n",
        "X_new = np.array([[0],[2]])\n",
        "X_new_b = np.c_[np.ones((2,1)), X_new]\n",
        "y_predict = X_new_b.dot(theta_best)\n",
        "y_predict"
      ],
      "execution_count": 5,
      "outputs": [
        {
          "output_type": "execute_result",
          "data": {
            "text/plain": [
              "array([[ 4.09099547],\n",
              "       [10.12242657]])"
            ]
          },
          "metadata": {
            "tags": []
          },
          "execution_count": 5
        }
      ]
    },
    {
      "cell_type": "code",
      "metadata": {
        "colab": {
          "base_uri": "https://localhost:8080/",
          "height": 0
        },
        "id": "m0luNlRbztFi",
        "outputId": "f7e88c36-e9c7-409d-f767-1ffcfc638b98"
      },
      "source": [
        "#모델의 예측을 그래프로..\n",
        "\n",
        "plt.plot(X_new, y_predict, \"r-\")\n",
        "plt.plot(X, y, \"b.\")\n",
        "plt.axis([0, 2, 0, 15])\n",
        "plt.show()"
      ],
      "execution_count": 6,
      "outputs": [
        {
          "output_type": "display_data",
          "data": {
            "image/png": "[encoded data removed]",
            "text/plain": [
              "<Figure size 432x288 with 1 Axes>"
            ]
          },
          "metadata": {
            "tags": [],
            "needs_background": "light"
          }
        }
      ]
    },
    {
      "cell_type": "markdown",
      "metadata": {
        "id": "ubjTFCUS0a8E"
      },
      "source": [
        "**사이킷런에서 선형회귀**"
      ]
    },
    {
      "cell_type": "code",
      "metadata": {
        "colab": {
          "base_uri": "https://localhost:8080/"
        },
        "id": "xn3b-sSoz1mB",
        "outputId": "2874a702-da0f-43cd-8a51-ad4c9f60912e"
      },
      "source": [
        "from sklearn.linear_model import LinearRegression\n",
        "lin_reg = LinearRegression()\n",
        "lin_reg.fit(X, y)\n",
        "print(lin_reg.intercept_, lin_reg.coef_)"
      ],
      "execution_count": 7,
      "outputs": [
        {
          "output_type": "stream",
          "text": [
            "[4.09099547] [[3.01571555]]\n"
          ],
          "name": "stdout"
        }
      ]
    },
    {
      "cell_type": "code",
      "metadata": {
        "colab": {
          "base_uri": "https://localhost:8080/"
        },
        "id": "R4vPTNbx0oVP",
        "outputId": "50b1a3f9-1b7c-46b1-d278-a87c06b941c3"
      },
      "source": [
        "print(lin_reg.predict(X_new))"
      ],
      "execution_count": 8,
      "outputs": [
        {
          "output_type": "stream",
          "text": [
            "[[ 4.09099547]\n",
            " [10.12242657]]\n"
          ],
          "name": "stdout"
        }
      ]
    },
    {
      "cell_type": "markdown",
      "metadata": {
        "id": "8saA_I4M1Ge-"
      },
      "source": [
        "- scipy.linalg.lstsq()를 기반으로 하는데, 직접 호출도 가능\n",
        " - theta_best_svd : 최적의 세타 값을 저장..\n",
        " - residuals : theta_best_svd로 계산한 예측값과 실제 y값과의 제곱오차\n",
        " - rank : 무슨 행렬의 rank?\n",
        " - s : svd한 뒤의 singular value\n",
        " - rcond : s가 rcond값 보다 작으면 0으로 간주"
      ]
    },
    {
      "cell_type": "markdown",
      "metadata": {
        "id": "VgfzTEl-21Dx"
      },
      "source": [
        "**유사역행렬**\n",
        "\n",
        "- 정규방정식에서 $(X^TX)^{-1}$가 존재하지 않는다면?\n",
        "- 유사 역행렬 $X^{+}$를 구해서 \n",
        "- 원래 예측식 $XA = \\hat{y}$의 양변의 좌측에 곱해서\n",
        "- $A = X^{+}\\hat{y}$로 바로 구할 수도 있다.."
      ]
    },
    {
      "cell_type": "code",
      "metadata": {
        "colab": {
          "base_uri": "https://localhost:8080/"
        },
        "id": "yrSRTNfh1EUX",
        "outputId": "232c3ee4-299b-4b39-cca9-941f9a82e630"
      },
      "source": [
        "theta_best_svd ,residuals, rank, s = np.linalg.lstsq(X_b, y, rcond=1e-6)\n",
        "theta_best_svd"
      ],
      "execution_count": 9,
      "outputs": [
        {
          "output_type": "execute_result",
          "data": {
            "text/plain": [
              "array([[4.09099547],\n",
              "       [3.01571555]])"
            ]
          },
          "metadata": {
            "tags": []
          },
          "execution_count": 9
        }
      ]
    },
    {
      "cell_type": "markdown",
      "metadata": {
        "id": "i9jy4IlS5LHk"
      },
      "source": [
        "**정리**\n",
        "\n",
        "- 보통은 정규 방정식으로 된다..\n",
        "- 하지만 m < n(열이 더 많다)인 경우나 특이행렬이면 ($X^TX$)가 없으면 svd를 해서 유사 역행렬로 구해야 한다..\n",
        "- 유사역행렬은 항상 구할 수 있다.."
      ]
    },
    {
      "cell_type": "markdown",
      "metadata": {
        "id": "YbqeILnO5pTi"
      },
      "source": [
        "##4.1.2 계산 복잡도"
      ]
    },
    {
      "cell_type": "markdown",
      "metadata": {
        "id": "aHLaCYwx5xRn"
      },
      "source": [
        "**정규방정식**\n",
        "\n",
        "- (n+1)(n+1)크기의 $X^TX$의 역행렬 계산해야함..\n",
        "- O($n^2.4$) 에서 O($n^3$) 사이..\n",
        "\n",
        "**사이킷런 LinearRegression(SVD)**\n",
        "\n",
        "- O($n^2$)\n",
        "\n",
        "-> 둘다 특성 수가 많아지면 매우 느려진다..\n",
        "\n",
        "-> 샘플수에 대해서는 선형적으로 등가한다.. "
      ]
    },
    {
      "cell_type": "markdown",
      "metadata": {
        "id": "Yz8DBwtq7Izk"
      },
      "source": [
        "#4.2 경사 하강법\n",
        "\n",
        "- 비용 함수를 최소화하기 위해 반복해서 파라미터를 조정해가는 것"
      ]
    },
    {
      "cell_type": "markdown",
      "metadata": {
        "id": "NoyWyOom7XSR"
      },
      "source": [
        "- 파라미터 값을 무작위로 시작해서 한 스텝마다 비용함수(MSE)가 감소되는 방향으로 진행..\n",
        "- 알고리즘이 최솟값에 수렴할 때까지 점진적으로 향상..\n",
        "- **학습률** 파라미터\n",
        "    - 스텝의 크기를 지정해줘야함..\n",
        "    - 너무 크면 골짜기를 건너뛰고\n",
        "    - 너무 작으면 너무 더디게 내려감..\n",
        "\n",
        "- 비용함수의 모양에 따라 **전역최솟값**보다 덜 좋은 **지역최솟값**에 수렴할 수도 있다..\n",
        "    - 다행히 선형회귀의 비용함수는 2차식으로 **볼록함수**이다\n",
        "    - 특성이 많을때는 지역최솟값도 괜찮다..\n",
        "\n",
        "- 여러 특성의 스케일이 다르다면, 스케일링 하면 더 좋은 성능을 낸다.."
      ]
    },
    {
      "cell_type": "markdown",
      "metadata": {
        "id": "rJdY_g1x8zTP"
      },
      "source": [
        "##4.2.1 배치 경사 하강법"
      ]
    },
    {
      "cell_type": "markdown",
      "metadata": {
        "id": "RkQRc9rP-oay"
      },
      "source": [
        "- 모든 샘플에 대해서 시행한다(배치)\n",
        "- 전체 훈련세트를 사용하기 때문에 훈련세트가 커지면 매우 느리다\n",
        "- 최소화하는 A(세타)를 랜덤초기화하고\n",
        "- 각 특성의 방향으로 편미분해서 그레디언트를 구한다..\n",
        "- $\n",
        "\\dfrac{\\partial}{\\partial \\boldsymbol{A}} \\text{MSE}(\\boldsymbol{A})\n",
        " = \\dfrac{2}{m} \\mathbf{X}^T (\\mathbf{X} \\boldsymbol{A} - \\mathbf{y})\n",
        "$\n",
        "- 다음 스텝에서 세타를 그레디언트가 내려가는 방향으로 바꾼다..\n",
        "- $\n",
        "\\boldsymbol{A}^{(\\text{next step})} = \\boldsymbol{A} - \\eta \\dfrac{\\partial}{\\partial \\boldsymbol{A}} \\text{MSE}(\\boldsymbol{A})\n",
        "$"
      ]
    },
    {
      "cell_type": "code",
      "metadata": {
        "id": "MYVW3SZC2ysC"
      },
      "source": [
        "eta = 0.1 #학습률\n",
        "n_iterations = 100\n",
        "m = 100\n",
        "\n",
        "theta = np.random.randn(2,1) #랜덤 초기화\n",
        "\n",
        "for iterations in range(n_iterations):\n",
        "    #X_b는 x0=1을 추가한 입력 특성\n",
        "    gradients = 2/m * X_b.T.dot(X_b.dot(theta) - y)\n",
        "    theta = theta - eta * gradients"
      ],
      "execution_count": 10,
      "outputs": []
    },
    {
      "cell_type": "code",
      "metadata": {
        "colab": {
          "base_uri": "https://localhost:8080/"
        },
        "id": "1A-Xi-PB-0D7",
        "outputId": "f84ccab6-8e7a-47f1-ff95-afc2aad6feb2"
      },
      "source": [
        "#정규방정식으로 한것과 동일..\n",
        "theta"
      ],
      "execution_count": 11,
      "outputs": [
        {
          "output_type": "execute_result",
          "data": {
            "text/plain": [
              "array([[4.04064011],\n",
              "       [3.05999778]])"
            ]
          },
          "metadata": {
            "tags": []
          },
          "execution_count": 11
        }
      ]
    },
    {
      "cell_type": "code",
      "metadata": {
        "colab": {
          "base_uri": "https://localhost:8080/"
        },
        "id": "z7ZOHN4cAQ6x",
        "outputId": "a5c83fb2-bfeb-4470-abf4-238c8e63f07a"
      },
      "source": [
        "#새로운 세타로 한 예측\n",
        "X_new_b.dot(theta)"
      ],
      "execution_count": 12,
      "outputs": [
        {
          "output_type": "execute_result",
          "data": {
            "text/plain": [
              "array([[ 4.04064011],\n",
              "       [10.16063567]])"
            ]
          },
          "metadata": {
            "tags": []
          },
          "execution_count": 12
        }
      ]
    },
    {
      "cell_type": "markdown",
      "metadata": {
        "id": "Tu13-DTeCMwH"
      },
      "source": [
        "**학습률에 따라 10 스텝까지의 예측을 그리는 함수**"
      ]
    },
    {
      "cell_type": "markdown",
      "metadata": {
        "id": "_dOzaTs5Fe5j"
      },
      "source": [
        "- 최적의 학습률은 그리드 탐색으로 찾음..\n",
        "- 시간 단축을 위해서 반복횟수를 제한..\n",
        "- 반복을 엄청 많이 해놓고 그레이디언트가 **허용오차**보다 작아지면 중지하는 방식.."
      ]
    },
    {
      "cell_type": "code",
      "metadata": {
        "id": "RclTP2OCCRma"
      },
      "source": [
        "theta_path_bgd = []\n",
        "\n",
        "def plot_gradient_descent(theta, eta, theta_path=None):\n",
        "    m = len(X_b)    #100\n",
        "    plt.plot(X, y, \"b.\")\n",
        "    n_iterations = 1000\n",
        "    for iteration in range(n_iterations):\n",
        "        if iteration < 10:\n",
        "            y_predict = X_new_b.dot(theta)\n",
        "            if iteration > 0:\n",
        "                style = \"b-\"\n",
        "            else:   #처음 시작을 빨간줄..\n",
        "                style = \"r--\"\n",
        "            plt.plot(X_new, y_predict, style)\n",
        "        \n",
        "        gradients = 2/m * X_b.T.dot(X_b.dot(theta) - y)\n",
        "        theta = theta - eta * gradients\n",
        "\n",
        "        if theta_path is not None:\n",
        "            #세타의 변화과정을 본다..\n",
        "            theta_path.append(theta)\n",
        "    plt.xlabel(\"X_1\")\n",
        "    plt.axis([0, 2, 0, 15])\n",
        "    plt.title(r\"$\\eta$ ={}\".format(eta))"
      ],
      "execution_count": 47,
      "outputs": []
    },
    {
      "cell_type": "code",
      "metadata": {
        "colab": {
          "base_uri": "https://localhost:8080/",
          "height": 294
        },
        "id": "wGCUpixZEIYk",
        "outputId": "7b73a8b0-4526-452d-fae2-073f529c7e15"
      },
      "source": [
        "np.random.seed(42)\n",
        "#랜덤초기화 세타 2개..\n",
        "theta = np.random.rand(2,1)\n",
        "\n",
        "plt.figure(figsize=(12,4))\n",
        "plt.subplot(131); plot_gradient_descent(theta, eta=0.02)\n",
        "plt.ylabel(\"y\", rotation=0)\n",
        "plt.subplot(132); plot_gradient_descent(theta, eta = 0.1, theta_path=theta_path_bgd)\n",
        "plt.subplot(133); plot_gradient_descent(theta, eta = 0.5)\n",
        "\n",
        "plt.show()"
      ],
      "execution_count": 48,
      "outputs": [
        {
          "output_type": "display_data",
          "data": {
            "image/png": "[encoded data removed]",
            "text/plain": [
              "<Figure size 864x288 with 3 Axes>"
            ]
          },
          "metadata": {
            "tags": [],
            "needs_background": "light"
          }
        }
      ]
    },
    {
      "cell_type": "markdown",
      "metadata": {
        "id": "ztGalbYA9z_y"
      },
      "source": [
        "##4.2.2 확률적 경사 하강법"
      ]
    },
    {
      "cell_type": "markdown",
      "metadata": {
        "id": "o3B6LqyQFAQa"
      },
      "source": [
        "- 매 스텝에서 한 개의 샘플을 무작위로 선택하고 그 하나의 샘플에 대한 그레디언트를 계산한다..\n",
        "    - 매 반복에서 다룰 데이터가 매우 적다.. -> 알고리즘이 훨씬 빠르고, 큰 훈련세트에도 적합..\n",
        "- 확률적이기 때문에 훨씬 불안정하다..\n",
        "    - 지역최솟값은 건너뛰게 해줄 수 있지만 전역 최솟값에 다다르지 못할 가능성이 높다..\n",
        "\n",
        "-> 무작위성은 지역최솟값은 건너뛸 수 있지만 전역최솟값은 못간다.. -> 딜레마!!"
      ]
    },
    {
      "cell_type": "markdown",
      "metadata": {
        "id": "OLrerQPjFtHm"
      },
      "source": [
        "**담금질 기법**\n",
        "\n",
        "- **학습 스케쥴**\n",
        "    - 매 반복에서 학습률을 결정하는 함수\n",
        "\n",
        "- 위의 딜레마를 해결하는 방법\n",
        "- 시작할 때는 학습률을 크게 하고, 점진적으로 학습률을 줄여가는 방법"
      ]
    },
    {
      "cell_type": "markdown",
      "metadata": {
        "id": "GXeAfYItJ5T0"
      },
      "source": [
        "**일반적으로 한 반복에서 m(샘플수)만큼 반복**\n",
        "\n",
        "각 반복을 **에포크**라고 함\n"
      ]
    },
    {
      "cell_type": "code",
      "metadata": {
        "colab": {
          "base_uri": "https://localhost:8080/",
          "height": 280
        },
        "id": "Adg-9WtsG3IG",
        "outputId": "ecca4e90-fea5-4048-bee8-3b6b5bbccb85"
      },
      "source": [
        "n_epochs = 50\n",
        "t0, t1 = 5, 50  #학습 스케쥴 하이퍼파라미터\n",
        "m = len(X_b)\n",
        "\n",
        "def learning_schedule(t):\n",
        "    #t가 커지면 점점 값은 줄어듦\n",
        "    return t0 / (t + t1)\n",
        "\n",
        "theta_path_sgd = []\n",
        "theta = np.random.randn(2,1)        #랜덤초기화\n",
        "\n",
        "for epoch in range(n_epochs):\n",
        "    for i in range(m):\n",
        "        if epoch == 0 and i < 20:\n",
        "            y_predict = X_new_b.dot(theta)\n",
        "            if i > 0:\n",
        "                style = \"b-\"\n",
        "            else:\n",
        "                style = \"r--\"\n",
        "            plt.plot(X_new, y_predict, style)\n",
        "        \n",
        "        random_index=np.random.randint(m)   #임의의 인덱스 잡기\n",
        "        #인덱스에 맞는 원소 가져오기\n",
        "        xi = X_b[random_index : random_index+1]\n",
        "        yi = y[random_index : random_index+1]\n",
        "\n",
        "        #원소에 대한 그레이디언트 구하기\n",
        "        gradients = 2 * xi.T.dot(xi.dot(theta) - yi)\n",
        "\n",
        "        #epoch*m + i가 점점 커지므로 eta는 작아진다..\n",
        "        eta = learning_schedule(epoch*m + i)\n",
        "        theta = theta - eta*gradients\n",
        "        theta_path_sgd.append(theta)\n",
        "\n",
        "plt.plot(X, y, \"b.\")\n",
        "plt.xlabel(\"X_1\")\n",
        "plt.ylabel(\"y\", rotation=0)\n",
        "plt.axis([0, 2, 0, 15])\n",
        "plt.show()"
      ],
      "execution_count": 49,
      "outputs": [
        {
          "output_type": "display_data",
          "data": {
            "image/png": "[encoded data removed]",
            "text/plain": [
              "<Figure size 432x288 with 1 Axes>"
            ]
          },
          "metadata": {
            "tags": [],
            "needs_background": "light"
          }
        }
      ]
    },
    {
      "cell_type": "code",
      "metadata": {
        "colab": {
          "base_uri": "https://localhost:8080/"
        },
        "id": "3MtCqBs4KICz",
        "outputId": "c24e51e2-8d52-47e1-b859-4b675e8ca2e7"
      },
      "source": [
        "#훨씬 좋은 세타값..\n",
        "theta"
      ],
      "execution_count": 50,
      "outputs": [
        {
          "output_type": "execute_result",
          "data": {
            "text/plain": [
              "array([[4.05137594],\n",
              "       [3.0038097 ]])"
            ]
          },
          "metadata": {
            "tags": []
          },
          "execution_count": 50
        }
      ]
    },
    {
      "cell_type": "markdown",
      "metadata": {
        "id": "vzEfX3-WKW_L"
      },
      "source": [
        "**사이킷런의 SGDRegressor의 방식**\n",
        "\n",
        "- 샘플이 무작위로 선택되기 때문에 한 에포크에서 같은 샘플이 여러번 선택될 수 있다\n",
        "- 에포크마다 모든 샘플을 사용하게 하려면 훈련 세트를 섞고 하나씩 사용하게 하고\n",
        "- 다음 에포크에서 다시 섞는 식의 방법을 사용한다"
      ]
    },
    {
      "cell_type": "markdown",
      "metadata": {
        "id": "pYe4i-KaLYiq"
      },
      "source": [
        "**학습 스케쥴**\n",
        "\n",
        "- invscaling(기본), constant, optimal, adaptive..\n",
        "- t : 반복횟수\n",
        "- eta0, power_t : 우리가 지정가능, 기본값 각각 0.01, 0.25\n",
        "- 기본값일 때, $\\eta^{t} = eta0 / t^{power_t}$"
      ]
    },
    {
      "cell_type": "code",
      "metadata": {
        "colab": {
          "base_uri": "https://localhost:8080/"
        },
        "id": "DPdxrTDXKt0a",
        "outputId": "c94ae124-10f7-4cb0-b88a-f8cb68932e13"
      },
      "source": [
        "#학습 스케쥴은 기본값이 'invscaling'이다..\n",
        "\n",
        "from sklearn.linear_model import SGDRegressor\n",
        "sgd_reg = SGDRegressor(max_iter=1000, tol=1e-3, penalty=None, eta0=0.1)\n",
        "\n",
        "#ravel() : numpy 함수, 다차원 배열을 1차원 배열로 바꿔줌\n",
        "sgd_reg.fit(X, y.ravel())"
      ],
      "execution_count": 51,
      "outputs": [
        {
          "output_type": "execute_result",
          "data": {
            "text/plain": [
              "SGDRegressor(alpha=0.0001, average=False, early_stopping=False, epsilon=0.1,\n",
              "             eta0=0.1, fit_intercept=True, l1_ratio=0.15,\n",
              "             learning_rate='invscaling', loss='squared_loss', max_iter=1000,\n",
              "             n_iter_no_change=5, penalty=None, power_t=0.25, random_state=None,\n",
              "             shuffle=True, tol=0.001, validation_fraction=0.1, verbose=0,\n",
              "             warm_start=False)"
            ]
          },
          "metadata": {
            "tags": []
          },
          "execution_count": 51
        }
      ]
    },
    {
      "cell_type": "code",
      "metadata": {
        "colab": {
          "base_uri": "https://localhost:8080/"
        },
        "id": "PjJE4x7iMXLK",
        "outputId": "a60cfac9-6687-483f-c4dd-ca0034876fab"
      },
      "source": [
        "sgd_reg.intercept_, sgd_reg.coef_"
      ],
      "execution_count": 52,
      "outputs": [
        {
          "output_type": "execute_result",
          "data": {
            "text/plain": [
              "(array([4.09705019]), array([3.04737553]))"
            ]
          },
          "metadata": {
            "tags": []
          },
          "execution_count": 52
        }
      ]
    },
    {
      "cell_type": "markdown",
      "metadata": {
        "id": "QQK9ZDkc92P2"
      },
      "source": [
        "##4.2.3 미니배치 경사 하강법"
      ]
    },
    {
      "cell_type": "markdown",
      "metadata": {
        "id": "4F_9KjGYM5xO"
      },
      "source": [
        "**미니배치 경사하강법**\n",
        "\n",
        "- 미니배치 : 임의의 작은 샘플 세트\n",
        "- 미니배치에 대한 그레디언트를 계산함\n",
        "- 장점 : GPU를 사용해서 얻는 성능 향상..\n",
        "- 배치와 확률적 그 사이 중간단계..\n",
        "    - 미니배치 크기를 크게하면 배치와 비슷해지고\n",
        "    - 미니배치 크기를 작게하면 확률적과 비슷해진다..\n"
      ]
    },
    {
      "cell_type": "markdown",
      "metadata": {
        "id": "U5QE91dmN8QK"
      },
      "source": [
        "**아래의 코드는 에포크마다 샘플을 섞는 과정이 포함되어 있다**"
      ]
    },
    {
      "cell_type": "code",
      "metadata": {
        "id": "b973dOdqNYGX"
      },
      "source": [
        "theta_path_mgd = []\n",
        "\n",
        "n_iterations = 50\n",
        "minibatch_size = 20\n",
        "\n",
        "np.random.seed(42)\n",
        "theta = np.random.randn(2,1)  # 랜덤 초기화\n",
        "\n",
        "t0, t1 = 200, 1000\n",
        "def learning_schedule(t):\n",
        "    return t0 / (t + t1)\n",
        "\n",
        "t = 0\n",
        "for epoch in range(n_iterations):           #에포크 시작\n",
        "    #permutation으로 인덱스 섞고\n",
        "    shuffled_indices = np.random.permutation(m)\n",
        "    #섞은 인덱스로 X_b와 y를 섞는다\n",
        "    X_b_shuffled = X_b[shuffled_indices]\n",
        "    y_shuffled = y[shuffled_indices]\n",
        "    for i in range(0, m, minibatch_size):\n",
        "        t += 1\n",
        "        xi = X_b_shuffled[i:i+minibatch_size]     #미니배치 갯수만큼 사용한다\n",
        "        yi = y_shuffled[i:i+minibatch_size]       #얘도 그렇다\n",
        "\n",
        "        #그레이디언트 구하기\n",
        "        gradients = 2/minibatch_size * xi.T.dot(xi.dot(theta) - yi)\n",
        "\n",
        "        eta = learning_schedule(t)\n",
        "        theta = theta - eta * gradients       #경사하강법 시행\n",
        "        theta_path_mgd.append(theta)          #path 그릴려고 추가한다\n",
        "\n",
        "      #중복을 허용하지 않는 샘플링을 사용한다"
      ],
      "execution_count": 53,
      "outputs": []
    },
    {
      "cell_type": "code",
      "metadata": {
        "colab": {
          "base_uri": "https://localhost:8080/"
        },
        "id": "R67Vty5-OzEp",
        "outputId": "8cac3a49-b580-4254-aea7-5fa8d38747d9"
      },
      "source": [
        "theta"
      ],
      "execution_count": 54,
      "outputs": [
        {
          "output_type": "execute_result",
          "data": {
            "text/plain": [
              "array([[4.06831399],\n",
              "       [2.97109819]])"
            ]
          },
          "metadata": {
            "tags": []
          },
          "execution_count": 54
        }
      ]
    },
    {
      "cell_type": "markdown",
      "metadata": {
        "id": "JSHuPG8oO4kd"
      },
      "source": [
        "**세가지 방법을 시행할 때 각각 theta의 변화를 보자**"
      ]
    },
    {
      "cell_type": "code",
      "metadata": {
        "id": "S4_HYwzrO3gS"
      },
      "source": [
        "theta_path_bgd = np.array(theta_path_bgd)\n",
        "theta_path_sgd = np.array(theta_path_sgd)\n",
        "theta_path_mgd = np.array(theta_path_mgd)"
      ],
      "execution_count": 55,
      "outputs": []
    },
    {
      "cell_type": "code",
      "metadata": {
        "colab": {
          "base_uri": "https://localhost:8080/",
          "height": 292
        },
        "id": "Mvmc6LNTPRKs",
        "outputId": "8db8ae26-a871-4cb5-9ec1-7979933f0f94"
      },
      "source": [
        "plt.figure(figsize=(7,4))\n",
        "plt.plot(theta_path_sgd[:, 0], theta_path_sgd[:, 1], \"r-s\", linewidth=1, label=\"Stochastic\")\n",
        "plt.plot(theta_path_mgd[:, 0], theta_path_mgd[:, 1], \"g-+\", linewidth=2, label=\"Mini-batch\")\n",
        "plt.plot(theta_path_bgd[:, 0], theta_path_bgd[:, 1], \"b-o\", linewidth=3, label=\"Batch\")\n",
        "#각 방법들의 세타를 쭉 이어본다\n",
        "plt.legend(loc=\"upper left\", fontsize=16)\n",
        "plt.xlabel(r\"$\\theta_0$\", fontsize=20)\n",
        "plt.ylabel(r\"$\\theta_1$   \", fontsize=20, rotation=0)\n",
        "plt.axis([2.5, 4.5, 2.3, 3.9])   #x축 : 2.5~4.5   y축 : 2.3~3.9\n",
        "plt.show()"
      ],
      "execution_count": 56,
      "outputs": [
        {
          "output_type": "display_data",
          "data": {
            "image/png": "[encoded data removed]",
            "text/plain": [
              "<Figure size 504x288 with 1 Axes>"
            ]
          },
          "metadata": {
            "tags": [],
            "needs_background": "light"
          }
        }
      ]
    },
    {
      "cell_type": "markdown",
      "metadata": {
        "id": "YAsfmKAIQ_I_"
      },
      "source": [
        "**분석**\n",
        "\n",
        "- 모두 최솟값 근처에 도달했다\n",
        "- 배치 경사는 오랜시간이 걸리지만 실제로 최솟값에서 멈춘다\n",
        "- 확률적과 미니배치는 근처에서 맴돈다.. 하지만 적절한 학습 스케쥴을 이용하면 최솟값에 도달한다!"
      ]
    },
    {
      "cell_type": "markdown",
      "metadata": {
        "id": "zDiNUHtj951e"
      },
      "source": [
        "#4.3 다항 회귀"
      ]
    },
    {
      "cell_type": "markdown",
      "metadata": {
        "id": "tFTWZA2ERksF"
      },
      "source": [
        "- 특성이 여러개..\n",
        "- **다항 회귀** : 비선형 데이터셋에 선형 모델을 훈련시키는 것"
      ]
    },
    {
      "cell_type": "code",
      "metadata": {
        "id": "XSmGkiamSiAg"
      },
      "source": [
        "#2차방정식으로 비선형 데이터를 생성\n",
        "\n",
        "m = 100\n",
        "X = 6 * np.random.rand(m,1) -3        # -3 ~ 3의 난수\n",
        "y = 0.5 * X**2 + X + 2 + np.random.randn(m, 1)"
      ],
      "execution_count": 58,
      "outputs": []
    },
    {
      "cell_type": "code",
      "metadata": {
        "colab": {
          "base_uri": "https://localhost:8080/",
          "height": 284
        },
        "id": "sE4yaxfIS1xQ",
        "outputId": "a9a46e7f-a26d-4700-b3cf-601ccd7d076d"
      },
      "source": [
        "plt.plot(X, y, \"b.\")\n",
        "plt.axis([-3,3,0,10])\n",
        "plt.xlabel(\"X_1\")\n",
        "plt.ylabel(\"y\",rotation=0)\n",
        "plt.show()"
      ],
      "execution_count": 61,
      "outputs": [
        {
          "output_type": "display_data",
          "data": {
            "image/png": "[encoded data removed]",
            "text/plain": [
              "<Figure size 432x288 with 1 Axes>"
            ]
          },
          "metadata": {
            "tags": [],
            "needs_background": "light"
          }
        }
      ]
    },
    {
      "cell_type": "markdown",
      "metadata": {
        "id": "swSc458dTJR3"
      },
      "source": [
        "**PolynomialFeatures**\n",
        "\n",
        "- 각 특성을 서로 곱해서 새로운 특성으로 추가해줌..\n",
        "- 서로 곱하기 때문에 시행하면 특성 수가 엄청나게 늘어날 수 있다!! (n 팩토리얼 개)"
      ]
    },
    {
      "cell_type": "code",
      "metadata": {
        "id": "tPdPgMf5Ta0A"
      },
      "source": [
        "from sklearn.preprocessing import PolynomialFeatures\n",
        "poly_features = PolynomialFeatures(degree=2, include_bias=False)\n",
        "X_poly = poly_features.fit_transform(X)"
      ],
      "execution_count": 62,
      "outputs": []
    },
    {
      "cell_type": "code",
      "metadata": {
        "colab": {
          "base_uri": "https://localhost:8080/"
        },
        "id": "jCak6aryT1x8",
        "outputId": "9c6ea7ea-08aa-4c84-da64-d911dcc75144"
      },
      "source": [
        "X[0], X_poly[0]"
      ],
      "execution_count": 63,
      "outputs": [
        {
          "output_type": "execute_result",
          "data": {
            "text/plain": [
              "(array([2.38942838]), array([2.38942838, 5.709368  ]))"
            ]
          },
          "metadata": {
            "tags": []
          },
          "execution_count": 63
        }
      ]
    },
    {
      "cell_type": "code",
      "metadata": {
        "colab": {
          "base_uri": "https://localhost:8080/"
        },
        "id": "eu-iWw8GT1nh",
        "outputId": "8e0cc4e0-9fe6-4406-bf23-2e9213beccec"
      },
      "source": [
        "#이제 적용해보자..\n",
        "lin_reg = LinearRegression()\n",
        "lin_reg.fit(X_poly, y)\n",
        "lin_reg.intercept_, lin_reg.coef_\n",
        "\n",
        "#꽤 적확.. 원래 정답 : 2, 1, 0.5"
      ],
      "execution_count": 64,
      "outputs": [
        {
          "output_type": "execute_result",
          "data": {
            "text/plain": [
              "(array([1.9735233]), array([[0.95038538, 0.52577032]]))"
            ]
          },
          "metadata": {
            "tags": []
          },
          "execution_count": 64
        }
      ]
    },
    {
      "cell_type": "markdown",
      "metadata": {
        "id": "nc78Pje4UTnO"
      },
      "source": [
        "**구한 값으로 그래프 그리기**"
      ]
    },
    {
      "cell_type": "code",
      "metadata": {
        "colab": {
          "base_uri": "https://localhost:8080/",
          "height": 291
        },
        "id": "-QFjmLudUSCT",
        "outputId": "e46c8a6f-f37a-4a74-a521-212903ee5049"
      },
      "source": [
        "#범위 전체를 예측..\n",
        "X_new=np.linspace(-3, 3, 100).reshape(100,1)\n",
        "X_new_poly = poly_features.transform(X_new)\n",
        "y_new = lin_reg.predict(X_new_poly)\n",
        "\n",
        "plt.plot(X, y, \"b.\")\n",
        "\n",
        "#예측의 그래프\n",
        "plt.plot(X_new, y_new, \"r-\", label=\"Predictions\")\n",
        "plt.xlabel(\"$x_1$\", fontsize=18)\n",
        "plt.ylabel(\"$y$\", rotation=0, fontsize=18)\n",
        "plt.legend(loc=\"upper left\", fontsize=14)\n",
        "plt.axis([-3, 3, 0, 10])\n",
        "plt.show()"
      ],
      "execution_count": 66,
      "outputs": [
        {
          "output_type": "display_data",
          "data": {
            "image/png": "[encoded data removed]",
            "text/plain": [
              "<Figure size 432x288 with 1 Axes>"
            ]
          },
          "metadata": {
            "tags": [],
            "needs_background": "light"
          }
        }
      ]
    },
    {
      "cell_type": "markdown",
      "metadata": {
        "id": "mooI912t97Q4"
      },
      "source": [
        "#4.4 학습 곡선"
      ]
    },
    {
      "cell_type": "markdown",
      "metadata": {
        "id": "FPwcHUM89-mL"
      },
      "source": [
        "#4.5 규제가 있는 선형 모델"
      ]
    },
    {
      "cell_type": "markdown",
      "metadata": {
        "id": "kp8KT1IH-Bhe"
      },
      "source": [
        "##4.5.1 릿지 회귀"
      ]
    },
    {
      "cell_type": "markdown",
      "metadata": {
        "id": "VAKOcQ3Q-DLk"
      },
      "source": [
        "##4.5.2 라쏘 회귀"
      ]
    },
    {
      "cell_type": "markdown",
      "metadata": {
        "id": "xX0nRv5G-FP6"
      },
      "source": [
        "##4.5.3 엘라스틱넷"
      ]
    },
    {
      "cell_type": "markdown",
      "metadata": {
        "id": "y2BWlXZ0-IUK"
      },
      "source": [
        "##4.5.4 조기 종료"
      ]
    },
    {
      "cell_type": "markdown",
      "metadata": {
        "id": "of4UHUH0-KXV"
      },
      "source": [
        "#4.6 로지스틱 회귀"
      ]
    },
    {
      "cell_type": "markdown",
      "metadata": {
        "id": "1ENwprKG-L7K"
      },
      "source": [
        "##4.6.1 확률 추정"
      ]
    },
    {
      "cell_type": "markdown",
      "metadata": {
        "id": "0S00GgNN-Ocw"
      },
      "source": [
        "##4.6.2 훈련과 비용 함수"
      ]
    },
    {
      "cell_type": "markdown",
      "metadata": {
        "id": "EE3x6E3D-RrC"
      },
      "source": [
        "##4.6.3 결정 경계"
      ]
    },
    {
      "cell_type": "markdown",
      "metadata": {
        "id": "R34EJ5fA-WQk"
      },
      "source": [
        "##4.6.4 소프트맥스 회귀"
      ]
    },
    {
      "cell_type": "markdown",
      "metadata": {
        "id": "sv_vksLl-ZCs"
      },
      "source": [
        "#4.7 연습문제"
      ]
    }
  ]
}