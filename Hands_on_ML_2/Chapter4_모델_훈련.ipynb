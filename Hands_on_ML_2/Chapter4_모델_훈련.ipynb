{
  "nbformat": 4,
  "nbformat_minor": 0,
  "metadata": {
    "colab": {
      "name": "Chapter4. 모델 훈련",
      "provenance": [],
      "collapsed_sections": []
    },
    "kernelspec": {
      "name": "python3",
      "display_name": "Python 3"
    },
    "language_info": {
      "name": "python"
    }
  },
  "cells": [
    {
      "cell_type": "markdown",
      "metadata": {
        "id": "XE57Yru0OKhn"
      },
      "source": [
        "**선형 회귀를 훈련하는 크게 두가지 방법**\n",
        "\n",
        "- 직접 계산하는 공식으로 최적의 모델 파라미터를 해석적으로 구한다\n",
        "\n",
        "- 경사하강법을 사용하여 모델 파라미터를 조금씩 바꾸면서 비용함수를 최소화 시킨다..\n",
        "    - 배치, 미니배치, 확률적 경사하강법 등이 있다.."
      ]
    },
    {
      "cell_type": "markdown",
      "metadata": {
        "id": "nhpK-ASUOmAo"
      },
      "source": [
        "**다항 회귀**\n",
        "\n",
        "- 선형 회귀보다 파라미터가 많아서 훈련 데이터에 과대적합 되기 쉽다..\n",
        "- 학습곡선을 사용해서 과대적합 감지.."
      ]
    },
    {
      "cell_type": "markdown",
      "metadata": {
        "id": "-kaD8Zk6O_Yg"
      },
      "source": [
        "**분류**\n",
        "\n",
        "- 로지스틱 회귀, 소프트맥스 회귀"
      ]
    },
    {
      "cell_type": "markdown",
      "metadata": {
        "id": "6szkiP6ePDDQ"
      },
      "source": [
        "#4.1 선형 회귀"
      ]
    },
    {
      "cell_type": "markdown",
      "metadata": {
        "id": "tjasIqCUsiDs"
      },
      "source": [
        "- 입력 특성의 가중치 합과 편향이라는 상수를 더해서 예측을 만든다..\n",
        "- 벡터 형태로 하면 더 간단히 쓸 수 있음..\n",
        "    - 특성 벡터(**x**)와 모델파라미터(가중치) 벡터(**A** = (세타))를 만듦..\n",
        "    - 편향에 곱해지는 x0는 항상 1로 만듦..\n",
        "- $\\hat{y} = XA$"
      ]
    },
    {
      "cell_type": "markdown",
      "metadata": {
        "id": "NXFVKcBZtHzZ"
      },
      "source": [
        "**모델의 훈련**\n",
        "\n",
        "- 오차(RMSE)를 최소화 시키는 **A**를 찾아야한다..\n",
        "- 근데 MSE를 찾는거랑 똑같다..\n",
        "- MSE = $((A^T)x - \\hat{y})$ 의 제곱의 평균..\n",
        "    - 즉, 모든 샘플에 대한 오차의 제곱을 평균한다는 말.."
      ]
    },
    {
      "cell_type": "markdown",
      "metadata": {
        "id": "nMumcDZMt0_L"
      },
      "source": [
        "##4.1.1 정규방정식\n",
        "\n",
        "- 비용 함수를 최소화 하는 A값을 찾기 위한 **해석적인 방법**"
      ]
    },
    {
      "cell_type": "markdown",
      "metadata": {
        "id": "pD0SM7QGt-a4"
      },
      "source": [
        "- MSE를 미분해서 0이 되는 A를 찾아라!\n",
        "- $X^TXA = (X^T)(b)$를 푸는 것이다..\n",
        "- (X_T)(X)가 역행렬이 있으면, 바로 A를 구할 수 있다!!\n",
        "- $A = {{(X^TX)}^{-1}}(X^T)(b)$"
      ]
    },
    {
      "cell_type": "code",
      "metadata": {
        "id": "eturuANmNwNV"
      },
      "source": [
        "#선형으로 보이는 데이터 생성\n",
        "#randn : 정규분포 난수\n",
        "import numpy as np\n",
        "\n",
        "X = 2 * np.random.rand(100, 1)\n",
        "y = 4 + 3 * X + np.random.randn(100,1)"
      ],
      "execution_count": 7,
      "outputs": []
    },
    {
      "cell_type": "code",
      "metadata": {
        "colab": {
          "base_uri": "https://localhost:8080/",
          "height": 280
        },
        "id": "F6VC7iATvRHV",
        "outputId": "65fb5de8-db2e-4c76-a69d-f0f7f9ef18cc"
      },
      "source": [
        "import matplotlib.pyplot as plt\n",
        "\n",
        "plt.plot(X, y, \"b.\")\n",
        "plt.axis([0 , 2 , 0 , 15])\n",
        "plt.xlabel(\"X_1\")\n",
        "plt.ylabel(\"Y\")\n",
        "plt.show()"
      ],
      "execution_count": 13,
      "outputs": [
        {
          "output_type": "display_data",
          "data": {
            "image/png": "[encoded data removed]",
            "text/plain": [
              "<Figure size 432x288 with 1 Axes>"
            ]
          },
          "metadata": {
            "tags": [],
            "needs_background": "light"
          }
        }
      ]
    },
    {
      "cell_type": "markdown",
      "metadata": {
        "id": "PDf58IeS0M3X"
      },
      "source": [
        "**정규 방정식**\n",
        "\n",
        "- $A = {{(X^TX)}^{-1}}(X^T)(b)$"
      ]
    },
    {
      "cell_type": "code",
      "metadata": {
        "id": "SAGZaakwvfDK"
      },
      "source": [
        "# A = 세타 : 가중치들의 벡터..\n",
        "# X : 입력특성 벡터..\n",
        "\n",
        "#모든 샘플에 x0 = 1추가..\n",
        "X_b = np.c_[np.ones((100,1)), X]\n",
        "#정규방정식 적용\n",
        "theta_best = np.linalg.inv(X_b.T.dot(X_b)).dot(X_b.T).dot(y)"
      ],
      "execution_count": 14,
      "outputs": []
    },
    {
      "cell_type": "code",
      "metadata": {
        "colab": {
          "base_uri": "https://localhost:8080/"
        },
        "id": "fqqLzhj1yvAP",
        "outputId": "46f9c811-a47d-4b41-da3d-d123622cf76e"
      },
      "source": [
        "theta_best"
      ],
      "execution_count": 15,
      "outputs": [
        {
          "output_type": "execute_result",
          "data": {
            "text/plain": [
              "array([[4.34329199],\n",
              "       [2.80091996]])"
            ]
          },
          "metadata": {
            "tags": []
          },
          "execution_count": 15
        }
      ]
    },
    {
      "cell_type": "markdown",
      "metadata": {
        "id": "fEsX9Nogyzi8"
      },
      "source": [
        "**설명**\n",
        "\n",
        "- 원래 4, 3을 주었는데\n",
        "- 예측이 4.3, 2.8 이다..\n",
        "- 꽤 정확.."
      ]
    },
    {
      "cell_type": "markdown",
      "metadata": {
        "id": "h3jKW0Ze0UC5"
      },
      "source": [
        "**예측**\n",
        "\n",
        "- $\\hat{y} = XA$"
      ]
    },
    {
      "cell_type": "code",
      "metadata": {
        "colab": {
          "base_uri": "https://localhost:8080/"
        },
        "id": "68R0M7TyywXs",
        "outputId": "6f25245d-7830-4896-e247-322ac9360522"
      },
      "source": [
        "#정규방정식으로 만든 세타로 만든 예측을 그래프로 그려보자..\n",
        "\n",
        "#처음과 끝 값을 얻고 그래프 그리겟다..\n",
        "X_new = np.array([[0],[2]])\n",
        "X_new_b = np.c_[np.ones((2,1)), X_new]\n",
        "y_predict = X_new_b.dot(theta_best)\n",
        "y_predict"
      ],
      "execution_count": 16,
      "outputs": [
        {
          "output_type": "execute_result",
          "data": {
            "text/plain": [
              "array([[4.34329199],\n",
              "       [9.94513191]])"
            ]
          },
          "metadata": {
            "tags": []
          },
          "execution_count": 16
        }
      ]
    },
    {
      "cell_type": "code",
      "metadata": {
        "colab": {
          "base_uri": "https://localhost:8080/",
          "height": 265
        },
        "id": "m0luNlRbztFi",
        "outputId": "99eac63a-aeb9-475c-f0f0-81dc65fc437a"
      },
      "source": [
        "#모델의 예측을 그래프로..\n",
        "\n",
        "plt.plot(X_new, y_predict, \"r-\")\n",
        "plt.plot(X, y, \"b.\")\n",
        "plt.axis([0, 2, 0, 15])\n",
        "plt.show()"
      ],
      "execution_count": 17,
      "outputs": [
        {
          "output_type": "display_data",
          "data": {
            "image/png": "[encoded data removed]",
            "text/plain": [
              "<Figure size 432x288 with 1 Axes>"
            ]
          },
          "metadata": {
            "tags": [],
            "needs_background": "light"
          }
        }
      ]
    },
    {
      "cell_type": "markdown",
      "metadata": {
        "id": "ubjTFCUS0a8E"
      },
      "source": [
        "**사이킷런에서 선형회귀**"
      ]
    },
    {
      "cell_type": "code",
      "metadata": {
        "colab": {
          "base_uri": "https://localhost:8080/"
        },
        "id": "xn3b-sSoz1mB",
        "outputId": "9cf51b2e-7709-4b1e-f12d-9a80fe0868e1"
      },
      "source": [
        "from sklearn.linear_model import LinearRegression\n",
        "lin_reg = LinearRegression()\n",
        "lin_reg.fit(X, y)\n",
        "print(lin_reg.intercept_, lin_reg.coef_)"
      ],
      "execution_count": 19,
      "outputs": [
        {
          "output_type": "stream",
          "text": [
            "[4.34329199] [[2.80091996]]\n"
          ],
          "name": "stdout"
        }
      ]
    },
    {
      "cell_type": "code",
      "metadata": {
        "colab": {
          "base_uri": "https://localhost:8080/"
        },
        "id": "R4vPTNbx0oVP",
        "outputId": "76be2d23-e355-4d9b-9266-b6057f19d221"
      },
      "source": [
        "print(lin_reg.predict(X_new))"
      ],
      "execution_count": 20,
      "outputs": [
        {
          "output_type": "stream",
          "text": [
            "[[4.34329199]\n",
            " [9.94513191]]\n"
          ],
          "name": "stdout"
        }
      ]
    },
    {
      "cell_type": "markdown",
      "metadata": {
        "id": "8saA_I4M1Ge-"
      },
      "source": [
        "- scipy.linalg.lstsq()를 기반으로 하는데, 직접 호출도 가능\n",
        " - theta_best_svd : 최적의 세타 값을 저장..\n",
        " - residuals : theta_best_svd로 계산한 예측값과 실제 y값과의 제곱오차\n",
        " - rank : 무슨 행렬의 rank?\n",
        " - s : svd한 뒤의 singular value\n",
        " - rcond : s가 rcond값 보다 작으면 0으로 간주"
      ]
    },
    {
      "cell_type": "markdown",
      "metadata": {
        "id": "VgfzTEl-21Dx"
      },
      "source": [
        "**유사역행렬**\n",
        "\n",
        "- 정규방정식에서 $(X^TX)^{-1}$가 존재하지 않는다면?\n",
        "- 유사 역행렬 $X^{+}$를 구해서 \n",
        "- 원래 예측식 $XA = \\hat{y}$의 양변의 좌측에 곱해서\n",
        "- $A = X^{+}\\hat{y}$로 바로 구할 수도 있다.."
      ]
    },
    {
      "cell_type": "code",
      "metadata": {
        "colab": {
          "base_uri": "https://localhost:8080/"
        },
        "id": "yrSRTNfh1EUX",
        "outputId": "4c18f389-6160-4a91-c787-50c1f08321fb"
      },
      "source": [
        "theta_best_svd ,residuals, rank, s = np.linalg.lstsq(X_b, y, rcond=1e-6)\n",
        "theta_best_svd"
      ],
      "execution_count": 21,
      "outputs": [
        {
          "output_type": "execute_result",
          "data": {
            "text/plain": [
              "array([[4.34329199],\n",
              "       [2.80091996]])"
            ]
          },
          "metadata": {
            "tags": []
          },
          "execution_count": 21
        }
      ]
    },
    {
      "cell_type": "markdown",
      "metadata": {
        "id": "i9jy4IlS5LHk"
      },
      "source": [
        "**정리**\n",
        "\n",
        "- 보통은 정규 방정식으로 된다..\n",
        "- 하지만 m < n(열이 더 많다)인 경우나 특이행렬이면 ($X^TX$)가 없으면 svd를 해서 유사 역행렬로 구해야 한다..\n",
        "- 유사역행렬은 항상 구할 수 있다.."
      ]
    },
    {
      "cell_type": "markdown",
      "metadata": {
        "id": "YbqeILnO5pTi"
      },
      "source": [
        "##4.1.2 계산 복잡도"
      ]
    },
    {
      "cell_type": "markdown",
      "metadata": {
        "id": "aHLaCYwx5xRn"
      },
      "source": [
        "**정규방정식**\n",
        "\n",
        "- (n+1)(n+1)크기의 $X^TX$의 역행렬 계산해야함..\n",
        "- O($n^2.4$) 에서 O($n^3$) 사이..\n",
        "\n",
        "**사이킷런 LinearRegression(SVD)**\n",
        "\n",
        "- O($n^2$)\n",
        "\n",
        "-> 둘다 특성 수가 많아지면 매우 느려진다..\n",
        "\n",
        "-> 샘플수에 대해서는 선형적으로 등가한다.. "
      ]
    },
    {
      "cell_type": "markdown",
      "metadata": {
        "id": "Yz8DBwtq7Izk"
      },
      "source": [
        "#4.2 경사 하강법\n",
        "\n",
        "- 비용 함수를 최소화하기 위해 반복해서 파라미터를 조정해가는 것"
      ]
    },
    {
      "cell_type": "markdown",
      "metadata": {
        "id": "NoyWyOom7XSR"
      },
      "source": [
        "- 파라미터 값을 무작위로 시작해서 한 스텝마다 비용함수(MSE)가 감소되는 방향으로 진행..\n",
        "- 알고리즘이 최솟값에 수렴할 때까지 점진적으로 향상..\n",
        "- **학습률** 파라미터\n",
        "    - 스텝의 크기를 지정해줘야함..\n",
        "    - 너무 크면 골짜기를 건너뛰고\n",
        "    - 너무 작으면 너무 더디게 내려감..\n",
        "\n",
        "- 비용함수의 모양에 따라 **전역최솟값**보다 덜 좋은 **지역최솟값**에 수렴할 수도 있다..\n",
        "    - 다행히 선형회귀의 비용함수는 2차식으로 **볼록함수**이다\n",
        "    - 특성이 많을때는 지역최솟값도 괜찮다..\n",
        "\n",
        "- 여러 특성의 스케일이 다르다면, 스케일링 하면 더 좋은 성능을 낸다.."
      ]
    },
    {
      "cell_type": "markdown",
      "metadata": {
        "id": "rJdY_g1x8zTP"
      },
      "source": [
        "##4.2.1 배치 경사 하강법"
      ]
    },
    {
      "cell_type": "markdown",
      "metadata": {
        "id": "RkQRc9rP-oay"
      },
      "source": [
        "- 모든 샘플에 대해서 시행한다(배치)\n",
        "- 최소화하는 A(세타)를 랜덤초기화하고\n",
        "- 각 특성의 방향으로 편미분해서 그레디언트를 구한다..\n",
        "- $\n",
        "\\dfrac{\\partial}{\\partial \\boldsymbol{A}} \\text{MSE}(\\boldsymbol{A})\n",
        " = \\dfrac{2}{m} \\mathbf{X}^T (\\mathbf{X} \\boldsymbol{A} - \\mathbf{y})\n",
        "$\n",
        "- 다음 스텝에서 세타를 그레디언트가 내려가는 방향으로 바꾼다..\n",
        "- $\n",
        "\\boldsymbol{A}^{(\\text{next step})} = \\boldsymbol{A} - \\eta \\dfrac{\\partial}{\\partial \\boldsymbol{A}} \\text{MSE}(\\boldsymbol{A})\n",
        "$"
      ]
    },
    {
      "cell_type": "code",
      "metadata": {
        "id": "MYVW3SZC2ysC"
      },
      "source": [
        "eta = 0.1 #학습률\n",
        "n_iterations = 100\n",
        "m = 100\n",
        "\n",
        "theta = np.random.randn(2,1) #랜덤 초기화\n",
        "\n",
        "for iterations in range(n_iterations):\n",
        "    #X_b는 x0=1을 추가한 입력 특성\n",
        "    gradients = 2/m * X_b.T.dot(X_b.dot(theta) - y)\n",
        "    theta = theta - eta * gradients"
      ],
      "execution_count": 22,
      "outputs": []
    },
    {
      "cell_type": "code",
      "metadata": {
        "colab": {
          "base_uri": "https://localhost:8080/"
        },
        "id": "1A-Xi-PB-0D7",
        "outputId": "27dbd3f1-74f1-44ad-f9ee-6e2eebf69e10"
      },
      "source": [
        "#정규방정식으로 한것과 동일..\n",
        "theta"
      ],
      "execution_count": 23,
      "outputs": [
        {
          "output_type": "execute_result",
          "data": {
            "text/plain": [
              "array([[4.31911448],\n",
              "       [2.82139442]])"
            ]
          },
          "metadata": {
            "tags": []
          },
          "execution_count": 23
        }
      ]
    },
    {
      "cell_type": "code",
      "metadata": {
        "colab": {
          "base_uri": "https://localhost:8080/"
        },
        "id": "z7ZOHN4cAQ6x",
        "outputId": "87f44535-4d28-4497-8f06-25b814de2235"
      },
      "source": [
        "#새로운 세타로 한 예측\n",
        "X_new_b.dot(theta)"
      ],
      "execution_count": 24,
      "outputs": [
        {
          "output_type": "execute_result",
          "data": {
            "text/plain": [
              "array([[4.31911448],\n",
              "       [9.96190331]])"
            ]
          },
          "metadata": {
            "tags": []
          },
          "execution_count": 24
        }
      ]
    },
    {
      "cell_type": "markdown",
      "metadata": {
        "id": "Tu13-DTeCMwH"
      },
      "source": [
        "**학습률에 따라 10 스텝까지의 예측을 그리는 함수**"
      ]
    },
    {
      "cell_type": "markdown",
      "metadata": {
        "id": "_dOzaTs5Fe5j"
      },
      "source": [
        "- 최적의 학습률은 그리드 탐색으로 찾음..\n",
        "- 시간 단축을 위해서 반복횟수를 제한..\n",
        "- 반복을 엄청 많이 해놓고 그레이디언트가 **허용오차**보다 작아지면 중지하는 방식.."
      ]
    },
    {
      "cell_type": "code",
      "metadata": {
        "id": "RclTP2OCCRma"
      },
      "source": [
        "theta_path_bgd = []\n",
        "\n",
        "def plot_gradient_descent(theta, eta, theta_path=None):\n",
        "    m = len(X_b)    #100\n",
        "    plt.plot(X, y, \"b.\")\n",
        "    n_iterations = 1000\n",
        "    for iteration in range(n_iterations):\n",
        "        if iteration < 10:\n",
        "            y_predict = X_new_b.dot(theta)\n",
        "            if iteration > 0:\n",
        "                style = \"b-\"\n",
        "            else:   #처음 시작을 빨간줄..\n",
        "                style = \"r--\"\n",
        "            plt.plot(X_new, y_predict, style)\n",
        "        \n",
        "        gradients = 2/m * X_b.T.dot(X_b.dot(theta) - y)\n",
        "        theta = theta - eta * gradients\n",
        "\n",
        "        if theta_path:\n",
        "            #세타의 변화과정을 본다..\n",
        "            theta_path.append(theta)\n",
        "    plt.xlabel(\"X_1\")\n",
        "    plt.axis([0, 2, 0, 15])\n",
        "    plt.title(r\"$\\eta$ ={}\".format(eta))"
      ],
      "execution_count": 32,
      "outputs": []
    },
    {
      "cell_type": "code",
      "metadata": {
        "colab": {
          "base_uri": "https://localhost:8080/",
          "height": 317
        },
        "id": "wGCUpixZEIYk",
        "outputId": "ba042c15-2b71-41e6-ddd8-e0e91fe48228"
      },
      "source": [
        "np.random.seed(42)\n",
        "#랜덤초기화 세타 2개..\n",
        "theta = np.random.rand(2,1)\n",
        "\n",
        "plt.figure(figsize=(12,4))\n",
        "plt.subplot(131); plot_gradient_descent(theta, eta=0.02)\n",
        "plt.ylabel(\"y\", rotation=0)\n",
        "plt.subplot(132); plot_gradient_descent(theta, eta = 0.1)\n",
        "plt.subplot(133); plot_gradient_descent(theta, eta = 0.5)\n",
        "\n",
        "plt.show()"
      ],
      "execution_count": 34,
      "outputs": [
        {
          "output_type": "display_data",
          "data": {
            "image/png": "[encoded data removed]",
            "text/plain": [
              "<Figure size 864x288 with 3 Axes>"
            ]
          },
          "metadata": {
            "tags": [],
            "needs_background": "light"
          }
        }
      ]
    },
    {
      "cell_type": "markdown",
      "metadata": {
        "id": "ztGalbYA9z_y"
      },
      "source": [
        "##4.2.2 확률적 경사 하강법"
      ]
    },
    {
      "cell_type": "markdown",
      "metadata": {
        "id": "QQK9ZDkc92P2"
      },
      "source": [
        "##4.2.3 미니배치 경사 하강법"
      ]
    },
    {
      "cell_type": "markdown",
      "metadata": {
        "id": "zDiNUHtj951e"
      },
      "source": [
        "#4.3 다항 회귀"
      ]
    },
    {
      "cell_type": "markdown",
      "metadata": {
        "id": "mooI912t97Q4"
      },
      "source": [
        "#4.4 학습 곡선"
      ]
    },
    {
      "cell_type": "markdown",
      "metadata": {
        "id": "FPwcHUM89-mL"
      },
      "source": [
        "#4.5 규제가 있는 선형 모델"
      ]
    },
    {
      "cell_type": "markdown",
      "metadata": {
        "id": "kp8KT1IH-Bhe"
      },
      "source": [
        "##4.5.1 릿지 회귀"
      ]
    },
    {
      "cell_type": "markdown",
      "metadata": {
        "id": "VAKOcQ3Q-DLk"
      },
      "source": [
        "##4.5.2 라쏘 회귀"
      ]
    },
    {
      "cell_type": "markdown",
      "metadata": {
        "id": "xX0nRv5G-FP6"
      },
      "source": [
        "##4.5.3 엘라스틱넷"
      ]
    },
    {
      "cell_type": "markdown",
      "metadata": {
        "id": "y2BWlXZ0-IUK"
      },
      "source": [
        "##4.5.4 조기 종료"
      ]
    },
    {
      "cell_type": "markdown",
      "metadata": {
        "id": "of4UHUH0-KXV"
      },
      "source": [
        "#4.6 로지스틱 회귀"
      ]
    },
    {
      "cell_type": "markdown",
      "metadata": {
        "id": "1ENwprKG-L7K"
      },
      "source": [
        "##4.6.1 확률 추정"
      ]
    },
    {
      "cell_type": "markdown",
      "metadata": {
        "id": "0S00GgNN-Ocw"
      },
      "source": [
        "##4.6.2 훈련과 비용 함수"
      ]
    },
    {
      "cell_type": "markdown",
      "metadata": {
        "id": "EE3x6E3D-RrC"
      },
      "source": [
        "##4.6.3 결정 경계"
      ]
    },
    {
      "cell_type": "markdown",
      "metadata": {
        "id": "R34EJ5fA-WQk"
      },
      "source": [
        "##4.6.4 소프트맥스 회귀"
      ]
    },
    {
      "cell_type": "markdown",
      "metadata": {
        "id": "sv_vksLl-ZCs"
      },
      "source": [
        "#4.7 연습문제"
      ]
    }
  ]
}