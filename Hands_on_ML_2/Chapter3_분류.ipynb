{
  "nbformat": 4,
  "nbformat_minor": 0,
  "metadata": {
    "colab": {
      "name": "Chapter3. 분류",
      "provenance": [],
      "collapsed_sections": []
    },
    "kernelspec": {
      "name": "python3",
      "display_name": "Python 3"
    },
    "language_info": {
      "name": "python"
    }
  },
  "cells": [
    {
      "cell_type": "markdown",
      "metadata": {
        "id": "pTsx3ho2hyO9"
      },
      "source": [
        "#3.1 MNIST"
      ]
    },
    {
      "cell_type": "markdown",
      "metadata": {
        "id": "Pv4nbRImiqr9"
      },
      "source": [
        "사이킷런의 여러 헬퍼 함수를 사용해서 잘 알려진 데이터셋을 내려받을 수 있음.."
      ]
    },
    {
      "cell_type": "markdown",
      "metadata": {
        "id": "47MBiyzcjJvk"
      },
      "source": [
        "대부분 딕셔너리 구조를 가지고 있는데, 우리가 필요한 것은 'data', 'target'이다"
      ]
    },
    {
      "cell_type": "code",
      "metadata": {
        "colab": {
          "base_uri": "https://localhost:8080/"
        },
        "id": "u9BJJxcoifmb",
        "outputId": "34cd5709-03f6-4f70-9193-b9dcc1e112a8"
      },
      "source": [
        "#MNIST 내려 받기..\n",
        "\n",
        "from sklearn.datasets import fetch_openml\n",
        "mnist = fetch_openml('mnist_784', version=1)\n",
        "mnist.keys()"
      ],
      "execution_count": 1,
      "outputs": [
        {
          "output_type": "execute_result",
          "data": {
            "text/plain": [
              "dict_keys(['data', 'target', 'frame', 'feature_names', 'target_names', 'DESCR', 'details', 'categories', 'url'])"
            ]
          },
          "metadata": {
            "tags": []
          },
          "execution_count": 1
        }
      ]
    },
    {
      "cell_type": "code",
      "metadata": {
        "colab": {
          "base_uri": "https://localhost:8080/"
        },
        "id": "GYDcTNBmjQmy",
        "outputId": "8c4bb03b-e0dd-40b5-c267-9cfbb15a5dcc"
      },
      "source": [
        "#가져오기..\n",
        "#70000개의 샘플, 각 샘플당 픽셀이 28*28\n",
        "\n",
        "X, y = mnist['data'], mnist['target']\n",
        "print(X.shape)\n",
        "print(y.shape)"
      ],
      "execution_count": 2,
      "outputs": [
        {
          "output_type": "stream",
          "text": [
            "(70000, 784)\n",
            "(70000,)\n"
          ],
          "name": "stdout"
        }
      ]
    },
    {
      "cell_type": "code",
      "metadata": {
        "colab": {
          "base_uri": "https://localhost:8080/",
          "height": 248
        },
        "id": "a0namg1JjiXO",
        "outputId": "f7484217-4544-4600-e436-4194f14a19e3"
      },
      "source": [
        "#하나만 확인 한번 해보자..\n",
        "\n",
        "import matplotlib.pyplot as plt\n",
        "\n",
        "first_data = X[0]\n",
        "first_data_image = first_data.reshape(28,28)\n",
        "plt.imshow(first_data_image, cmap=\"binary\")\n",
        "plt.axis('off')\n",
        "plt.show()"
      ],
      "execution_count": 3,
      "outputs": [
        {
          "output_type": "display_data",
          "data": {
            "image/png": "[encoded data removed]",
            "text/plain": [
              "<Figure size 432x288 with 1 Axes>"
            ]
          },
          "metadata": {
            "tags": [],
            "needs_background": "light"
          }
        }
      ]
    },
    {
      "cell_type": "code",
      "metadata": {
        "colab": {
          "base_uri": "https://localhost:8080/"
        },
        "id": "gR_hSlg1kgdq",
        "outputId": "e1d08c55-546b-45f4-cf88-a598813abd8f"
      },
      "source": [
        "#레이블 한번 확인.. 문자열이다..\n",
        "\n",
        "print(type(y[0]))"
      ],
      "execution_count": 4,
      "outputs": [
        {
          "output_type": "stream",
          "text": [
            "<class 'str'>\n"
          ],
          "name": "stdout"
        }
      ]
    },
    {
      "cell_type": "code",
      "metadata": {
        "id": "R41DBV87klQ3"
      },
      "source": [
        "#레이블이 문자열이니까 숫자로 바꾼다..\n",
        "import numpy as np\n",
        "\n",
        "y = y.astype(np.uint8)"
      ],
      "execution_count": 5,
      "outputs": []
    },
    {
      "cell_type": "code",
      "metadata": {
        "colab": {
          "base_uri": "https://localhost:8080/",
          "height": 248
        },
        "id": "g2oCFYKzlEwX",
        "outputId": "787d34e5-de48-4dda-9e13-b983ab70a492"
      },
      "source": [
        "#그림 출력하는 함수 함 만들어보자..\n",
        "#항상 N이 10의 배수임을 가정..\n",
        "#혼공머 draw_fruits함수 응용..\n",
        "\n",
        "def display_image(N):\n",
        "    displaying_data = X[:N]\n",
        "    displaying_data_image = displaying_data.reshape(-1, 28,28)\n",
        "\n",
        "    #subplots 만들어야 함..\n",
        "    fig, axs = plt.subplots(N//10, 10)\n",
        "    for i in range(N//10):\n",
        "        for j in range(10):\n",
        "            axs[i][j].imshow(displaying_data_image[10*i + j], cmap=\"binary\")\n",
        "            axs[i][j].axis('off')\n",
        "    plt.show()\n",
        "\n",
        "display_image(100)"
      ],
      "execution_count": 6,
      "outputs": [
        {
          "output_type": "display_data",
          "data": {
            "image/png": "[encoded data removed]",
            "text/plain": [
              "<Figure size 432x288 with 100 Axes>"
            ]
          },
          "metadata": {
            "tags": [],
            "needs_background": "light"
          }
        }
      ]
    },
    {
      "cell_type": "code",
      "metadata": {
        "colab": {
          "base_uri": "https://localhost:8080/",
          "height": 265
        },
        "id": "aIpCGv7mvCvK",
        "outputId": "f7e896ac-c036-4c8c-c2f9-2fb5adb3e0e2"
      },
      "source": [
        "def plot_digit(digit):\n",
        "    digit_prepared = digit.reshape(28,28)\n",
        "    plt.imshow(digit_prepared, cmap=\"binary\")\n",
        "    plt.show()\n",
        "\n",
        "plot_digit(X[0])"
      ],
      "execution_count": 7,
      "outputs": [
        {
          "output_type": "display_data",
          "data": {
            "image/png": "[encoded data removed]",
            "text/plain": [
              "<Figure size 432x288 with 1 Axes>"
            ]
          },
          "metadata": {
            "tags": [],
            "needs_background": "light"
          }
        }
      ]
    },
    {
      "cell_type": "code",
      "metadata": {
        "id": "gEOQOhYBnEPn"
      },
      "source": [
        "#mnist가 훈련세트랑 테스트세트는 이미 나누어 놨다..\n",
        "\n",
        "X_train, X_test, y_train, y_test = X[:60000], X[60000:], y[:60000], y[60000:]"
      ],
      "execution_count": 8,
      "outputs": []
    },
    {
      "cell_type": "markdown",
      "metadata": {
        "id": "Bbqcf69Ph3wM"
      },
      "source": [
        "#3.2 이진 분류기 훈련"
      ]
    },
    {
      "cell_type": "markdown",
      "metadata": {
        "id": "eyoY-jLF5QXi"
      },
      "source": [
        "**이진 분류기**\n",
        "\n",
        "- 예로 숫자 5만 식별해보자.."
      ]
    },
    {
      "cell_type": "code",
      "metadata": {
        "id": "mB4hux9Phcn0"
      },
      "source": [
        "#레이블이 5이면 True로 지정\n",
        "\n",
        "y_train_5 = (y_train == 5)\n",
        "y_test_5 = (y_test == 5)"
      ],
      "execution_count": null,
      "outputs": []
    },
    {
      "cell_type": "markdown",
      "metadata": {
        "id": "FFzsVylE5kpM"
      },
      "source": [
        "**확률적 경사 하강법(SGD)** 분류기로 시작해보자.."
      ]
    },
    {
      "cell_type": "code",
      "metadata": {
        "colab": {
          "base_uri": "https://localhost:8080/"
        },
        "id": "V2y9d2CL5po2",
        "outputId": "07b5ac63-2d4c-4097-e72a-4caf5e165c0c"
      },
      "source": [
        "#모델 만들고 훈련..\n",
        "\n",
        "from sklearn.linear_model import SGDClassifier\n",
        "\n",
        "sgd_clf = SGDClassifier(max_iter=1000, tol=1e-3, random_state=42)\n",
        "sgd_clf.fit(X_train, y_train_5)"
      ],
      "execution_count": null,
      "outputs": [
        {
          "output_type": "execute_result",
          "data": {
            "text/plain": [
              "SGDClassifier(alpha=0.0001, average=False, class_weight=None,\n",
              "              early_stopping=False, epsilon=0.1, eta0=0.0, fit_intercept=True,\n",
              "              l1_ratio=0.15, learning_rate='optimal', loss='hinge',\n",
              "              max_iter=1000, n_iter_no_change=5, n_jobs=None, penalty='l2',\n",
              "              power_t=0.5, random_state=42, shuffle=True, tol=0.001,\n",
              "              validation_fraction=0.1, verbose=0, warm_start=False)"
            ]
          },
          "metadata": {
            "tags": []
          },
          "execution_count": 10
        }
      ]
    },
    {
      "cell_type": "code",
      "metadata": {
        "colab": {
          "base_uri": "https://localhost:8080/"
        },
        "id": "KDE32Yxj50uV",
        "outputId": "dff75a64-b37e-4c40-feb0-cb1fdea8c3b5"
      },
      "source": [
        "#아까 데이터 확인.. 5니까 True..\n",
        "\n",
        "sgd_clf.predict([first_data])"
      ],
      "execution_count": null,
      "outputs": [
        {
          "output_type": "execute_result",
          "data": {
            "text/plain": [
              "array([ True])"
            ]
          },
          "metadata": {
            "tags": []
          },
          "execution_count": 11
        }
      ]
    },
    {
      "cell_type": "markdown",
      "metadata": {
        "id": "0gB97Wu4h6SD"
      },
      "source": [
        "#3.3 성능 측정"
      ]
    },
    {
      "cell_type": "markdown",
      "metadata": {
        "id": "X9d2BLVgh8WG"
      },
      "source": [
        "##3.3.1 교차 검증을 사용한 정확도 측정\n",
        "\n",
        "**성능측정 방법 1**"
      ]
    },
    {
      "cell_type": "markdown",
      "metadata": {
        "id": "D-4qJC8h6K6o"
      },
      "source": [
        "- 가끔 사이킷런이 제공하는 거 보다 더 많이 제어해야할 수도 있음\n",
        "- 그럼 직접 구현해야함..\n",
        "- StratifiedKFlod()메서드로 계층적 샘플링.."
      ]
    },
    {
      "cell_type": "code",
      "metadata": {
        "colab": {
          "base_uri": "https://localhost:8080/"
        },
        "id": "zFF9kZ2a6Gf3",
        "outputId": "468c4634-85a7-46f8-a2d1-0ce305a964f1"
      },
      "source": [
        "#교차검증 직접구현..\n",
        "from sklearn.model_selection import StratifiedKFold\n",
        "from sklearn.base import clone\n",
        "\n",
        "#3개로 나누고, 섞는다..\n",
        "#이 객체의 split특성에 각 splits들의 훈련세트, 테스트세트 인덱스가 들어있다..\n",
        "skfolds = StratifiedKFold(n_splits=3, random_state=42, shuffle=True)\n",
        "\n",
        "#splits마다 모델을 clone해가지고 훈련시키고, 예측한다..\n",
        "for train_index, test_index in skfolds.split(X_train, y_train_5):\n",
        "    clone_clf = clone(sgd_clf)\n",
        "    X_train_folds = X_train[train_index]\n",
        "    y_train_folds = y_train_5[train_index]\n",
        "    X_test_folds = X_train[test_index]\n",
        "    y_test_folds = y_train_5[test_index]\n",
        "\n",
        "    clone_clf.fit(X_train_folds, y_train_folds)\n",
        "    y_prediction_folds = clone_clf.predict(X_test_folds)\n",
        "    #같은거 갯수찾고, 비율 확인..\n",
        "    n_correct = sum(y_prediction_folds == y_test_folds)\n",
        "    print(n_correct / len(y_prediction_folds))"
      ],
      "execution_count": null,
      "outputs": [
        {
          "output_type": "stream",
          "text": [
            "0.9669\n",
            "0.91625\n",
            "0.96785\n"
          ],
          "name": "stdout"
        }
      ]
    },
    {
      "cell_type": "code",
      "metadata": {
        "colab": {
          "base_uri": "https://localhost:8080/"
        },
        "id": "_xh9ASXW8Rmq",
        "outputId": "4069087b-2e4f-472a-a7ad-85ac90e12c86"
      },
      "source": [
        "#사이킷런 메서드 이용..\n",
        "\n",
        "from sklearn.model_selection import cross_val_score, cross_validate\n",
        "\n",
        "cross_validate(sgd_clf, X_train, y_train_5, cv=3, n_jobs=-1)['test_score']\n",
        "#cross_val_score(sgd_clf, X_train, y_train_5, cv=3, scoring=\"accuracy\")"
      ],
      "execution_count": null,
      "outputs": [
        {
          "output_type": "execute_result",
          "data": {
            "text/plain": [
              "array([0.95035, 0.96035, 0.9604 ])"
            ]
          },
          "metadata": {
            "tags": []
          },
          "execution_count": 13
        }
      ]
    },
    {
      "cell_type": "markdown",
      "metadata": {
        "id": "qgRmd7iD8qdp"
      },
      "source": [
        "**분석**\n",
        "\n",
        "- 모든 폴드에 대해 정확도가 엄청 높다..\n",
        "- 하지만 이렇게 **불균형한 데이터셋**을 다룰때는 정확도가 성능을 제대로 측정하지 못한다..\n",
        "    - 현재 True가 10%, False가 90%..\n",
        "    - 다 False로 예측하면 정확도 90%는 먹고 시작함"
      ]
    },
    {
      "cell_type": "code",
      "metadata": {
        "id": "63UxZUcu9An9"
      },
      "source": [
        "#무조건 False예측하는 모델..\n",
        "from sklearn.base import BaseEstimator\n",
        "\n",
        "class Never5Classifier(BaseEstimator):\n",
        "    def fit(self, X, y=None):\n",
        "        return self\n",
        "    def predict(self, X):\n",
        "        #예측해야하는 길이만큼의 0의 2차원 리스트..\n",
        "        return np.zeros((len(X), 1), dtype=bool)"
      ],
      "execution_count": null,
      "outputs": []
    },
    {
      "cell_type": "code",
      "metadata": {
        "colab": {
          "base_uri": "https://localhost:8080/"
        },
        "id": "apxrNkn39m33",
        "outputId": "138a9e46-7572-4ba3-ef91-b4a8adc37bf3"
      },
      "source": [
        "#90퍼는 먹고 감..\n",
        "never_5_clf = Never5Classifier()\n",
        "cross_val_score(never_5_clf, X_train, y_train_5, cv=3, scoring=\"accuracy\", n_jobs=-1)"
      ],
      "execution_count": null,
      "outputs": [
        {
          "output_type": "execute_result",
          "data": {
            "text/plain": [
              "array([0.91125, 0.90855, 0.90915])"
            ]
          },
          "metadata": {
            "tags": []
          },
          "execution_count": 15
        }
      ]
    },
    {
      "cell_type": "markdown",
      "metadata": {
        "id": "ceoHVzHAh_qi"
      },
      "source": [
        "##3.3.2 오차 행렬\n",
        "\n",
        "**성능측정 방법2**"
      ]
    },
    {
      "cell_type": "markdown",
      "metadata": {
        "id": "tqrJFbW796Fe"
      },
      "source": [
        "**오차행렬**\n",
        "\n",
        "- sklearn.metrics의 confusion_matrix함수 사용해서 구현\n",
        "- 클래스 A 샘플이 클래스 B로 분류된 횟수를 세는 것\n",
        "- ex) 숫자 5가 3으로 잘못 분류된 횟수를 알고 싶다.. -> 오차행렬의 5행 3열을 보면 된다!!\n",
        "- **행 : 실제 클래스 / 열 : 예측 클래스**\n",
        "- **진짜음성(TN)** / **진짜양성(TP)** / **거짓음성(FN)** / **거짓양성(FP)**"
      ]
    },
    {
      "cell_type": "code",
      "metadata": {
        "id": "d16RB3um-N_r"
      },
      "source": [
        "#일단 오차행렬을 하려면 예측값이 있어야함..\n",
        "#cross_val_predict()를 사용하면 각 테스트폴드에서 얻은 예측을 반환한다..\n",
        "#method 매개변수 기본값 : \"predict\"\n",
        "\n",
        "from sklearn.model_selection import cross_val_predict\n",
        "\n",
        "y_train_pred = cross_val_predict(sgd_clf, X_train, y_train_5, cv=3, n_jobs=-1)"
      ],
      "execution_count": null,
      "outputs": []
    },
    {
      "cell_type": "code",
      "metadata": {
        "colab": {
          "base_uri": "https://localhost:8080/"
        },
        "id": "yd9rnE4C-76m",
        "outputId": "b799be87-fd38-476b-ba5b-047c78afd783"
      },
      "source": [
        "#여기서는 index = 0 이 음성클래스..\n",
        "\n",
        "from sklearn.metrics import confusion_matrix\n",
        "confusion_matrix(y_train_5, y_train_pred)"
      ],
      "execution_count": null,
      "outputs": [
        {
          "output_type": "execute_result",
          "data": {
            "text/plain": [
              "array([[53892,   687],\n",
              "       [ 1891,  3530]])"
            ]
          },
          "metadata": {
            "tags": []
          },
          "execution_count": 17
        }
      ]
    },
    {
      "cell_type": "code",
      "metadata": {
        "colab": {
          "base_uri": "https://localhost:8080/"
        },
        "id": "SWaedGtW_dfE",
        "outputId": "a5515137-c971-44b2-8027-de9c8f8b8711"
      },
      "source": [
        "##완벽한 분류기라면 대각성분만 남아있음..\n",
        "\n",
        "y_train_perfect_prediction = y_train_5\n",
        "confusion_matrix(y_train_5, y_train_perfect_prediction)"
      ],
      "execution_count": null,
      "outputs": [
        {
          "output_type": "execute_result",
          "data": {
            "text/plain": [
              "array([[54579,     0],\n",
              "       [    0,  5421]])"
            ]
          },
          "metadata": {
            "tags": []
          },
          "execution_count": 18
        }
      ]
    },
    {
      "cell_type": "markdown",
      "metadata": {
        "id": "aaYWHB4K_pWV"
      },
      "source": [
        "**정밀도**\n",
        "\n",
        "- 양성 예측의 정확도\n",
        "- $(진짜양성) / (양성으로 분류한 것들)$\n",
        "- TP / (TP + FP)\n",
        "- 양성으로 예측한 것 중에 진짜 양성인 것의 비율.. -> 얼마나 정확하게 예측했냐.."
      ]
    },
    {
      "cell_type": "markdown",
      "metadata": {
        "id": "Jm9A-CaKACEd"
      },
      "source": [
        "**재현율**\n",
        "\n",
        "- 민감도 or 진짜 양성 비율\n",
        "- 정확하게 감지한 양성 샘플의 비율\n",
        "- $(양성으로 분류된 진짜 양성) / (전체 양성 샘플)$\n",
        "- TP / (FN + TP)\n",
        "- 진짜 양성이었던 것 중에 얼마나 양성으로 잘 분류되었는지의 비율.."
      ]
    },
    {
      "cell_type": "markdown",
      "metadata": {
        "id": "oMILPFuZiB21"
      },
      "source": [
        "##3.3.3 정밀도와 재현율\n",
        "\n",
        "**성능측정 방법3**"
      ]
    },
    {
      "cell_type": "markdown",
      "metadata": {
        "id": "25dMGzXjBB6m"
      },
      "source": [
        "정밀도, 재현율 및 다양한 지표를 계산하는 여러 함수가 많다.."
      ]
    },
    {
      "cell_type": "code",
      "metadata": {
        "colab": {
          "base_uri": "https://localhost:8080/"
        },
        "id": "HWffd_PrA9XL",
        "outputId": "ba357373-ae31-4bff-d34e-6a5ff1a48081"
      },
      "source": [
        "from sklearn.metrics import precision_score, recall_score\n",
        "\n",
        "print(\"정밀도\")\n",
        "print(3530 / (3530 + 687))\n",
        "print(precision_score(y_train_5, y_train_pred))\n",
        "\n",
        "print()\n",
        "print(\"재현율\")\n",
        "print(3530 / (1891 + 3530))\n",
        "print(recall_score(y_train_5, y_train_pred))"
      ],
      "execution_count": null,
      "outputs": [
        {
          "output_type": "stream",
          "text": [
            "정밀도\n",
            "0.8370879772350012\n",
            "0.8370879772350012\n",
            "\n",
            "재현율\n",
            "0.6511713705958311\n",
            "0.6511713705958311\n"
          ],
          "name": "stdout"
        }
      ]
    },
    {
      "cell_type": "markdown",
      "metadata": {
        "id": "n7Fw0F2OBxjC"
      },
      "source": [
        "**F1 점수**\n",
        "\n",
        "- 정밀도와 재현율의 조화평균\n",
        "- 정밀도와 재현율이 비슷한 분류기는 F1점수가 높다\n",
        "- 경우에 따라 정밀도 / 재현율 중 더 중요한 지표를 선택해야 한다..\n",
        "    - 높은 정밀도 : 아이들을 위한 동영상을 거르는 작업\n",
        "        - 분류하면 정확하게 분류해야 한다..\n",
        "    - 높은 재현율 : 도둑을 잡는 분류기\n",
        "        - 정확도는 떨어지더라도 도둑들을 다 잡아내는게 우선이다.."
      ]
    },
    {
      "cell_type": "code",
      "metadata": {
        "colab": {
          "base_uri": "https://localhost:8080/"
        },
        "id": "pWKVb4okB2x1",
        "outputId": "c11d6d5c-f0a7-4512-85c3-419b07bd3d2b"
      },
      "source": [
        "from sklearn.metrics import f1_score\n",
        "\n",
        "print(f1_score(y_train_5, y_train_pred))"
      ],
      "execution_count": null,
      "outputs": [
        {
          "output_type": "stream",
          "text": [
            "0.7325171197343846\n"
          ],
          "name": "stdout"
        }
      ]
    },
    {
      "cell_type": "markdown",
      "metadata": {
        "id": "k9D9rpRFiE9o"
      },
      "source": [
        "##3.3.4 정밀도/재현율 트레이드오프"
      ]
    },
    {
      "cell_type": "markdown",
      "metadata": {
        "id": "N__8dMVMCfTQ"
      },
      "source": [
        "**정밀도/재현율 트레이드오프**\n",
        "\n",
        "- 정밀도와 재현율을 동시에 얻을 수는 없고, 이를 트레이드오프라고 한다.."
      ]
    },
    {
      "cell_type": "markdown",
      "metadata": {
        "id": "UZhTfNfJC88L"
      },
      "source": [
        "- SGDClassifier는 **결정 함수**를 사용해서 각 샘플의 점수를 계산한다\n",
        "- 이 점수가 **결정 임계값**보다 크면 양성, 작으면 음성으로 분류한다\n",
        "- 이게 predict()함수의 하는 일..\n",
        "- 이 **결정 임계값**에 따라 정밀도와 재현율이 달라진다..\n",
        "    - **임계값이 증가하면 재현율은 항상 떨어진다**\n",
        "    - **임계값이 증가하면 정밀도는 일반적으로 증가한다(그렇지 않을 때도 있다..)**\n",
        "    - 반례 : p.137 [그림 3-3]"
      ]
    },
    {
      "cell_type": "code",
      "metadata": {
        "colab": {
          "base_uri": "https://localhost:8080/"
        },
        "id": "xU0NfsgsDpZ0",
        "outputId": "94c8976e-2745-4e5e-8690-f3068eb6150e"
      },
      "source": [
        "#decision_function()메서드 호출하면 알 수 있다..\n",
        "\n",
        "y_scores = sgd_clf.decision_function([first_data])\n",
        "print(y_scores)"
      ],
      "execution_count": null,
      "outputs": [
        {
          "output_type": "stream",
          "text": [
            "[2164.22030239]\n"
          ],
          "name": "stdout"
        }
      ]
    },
    {
      "cell_type": "code",
      "metadata": {
        "colab": {
          "base_uri": "https://localhost:8080/"
        },
        "id": "0d7N133DEGgv",
        "outputId": "b326342f-4d39-467d-df23-d65729a2f55e"
      },
      "source": [
        "#임계값 조정하고 예측결과를 확인해보자..\n",
        "\n",
        "print(\"임계값 : 0\")\n",
        "threshold = 0\n",
        "y_first_data_pred = (y_scores > threshold)\n",
        "print(y_first_data_pred)\n",
        "\n",
        "print()\n",
        "print(\"임계값 : 8000\")\n",
        "threshold = 8000\n",
        "y_first_data_pred = (y_scores > threshold)\n",
        "print(y_first_data_pred)"
      ],
      "execution_count": null,
      "outputs": [
        {
          "output_type": "stream",
          "text": [
            "임계값 : 0\n",
            "[ True]\n",
            "\n",
            "임계값 : 8000\n",
            "[False]\n"
          ],
          "name": "stdout"
        }
      ]
    },
    {
      "cell_type": "markdown",
      "metadata": {
        "id": "fnEc2yU2EnpW"
      },
      "source": [
        "적절한 임계값을 위한 그래프 그리기\n",
        "\n",
        "- cross_val_predict()로 결정함수값을 받아오기..\n",
        "- precision_recall_curve 메서드 사용.. -> 매개변수로 타깃값과 결정함수값을 보내줌"
      ]
    },
    {
      "cell_type": "code",
      "metadata": {
        "id": "eUKHQ7MrExao"
      },
      "source": [
        "#결정함수 값 받아오기\n",
        "\n",
        "y_scores = cross_val_predict(sgd_clf, X_train, y_train_5, cv=3, method=\"decision_function\", n_jobs=-1)"
      ],
      "execution_count": null,
      "outputs": []
    },
    {
      "cell_type": "code",
      "metadata": {
        "id": "fsjC5RnBE5ln"
      },
      "source": [
        "#인자로 타깃과 결정함수값을 넣음\n",
        "from sklearn.metrics import precision_recall_curve\n",
        "\n",
        "precisions, recalls, thresholds = precision_recall_curve(y_train_5, y_scores)"
      ],
      "execution_count": null,
      "outputs": []
    },
    {
      "cell_type": "code",
      "metadata": {
        "colab": {
          "base_uri": "https://localhost:8080/"
        },
        "id": "O7YZj6g-FXZB",
        "outputId": "281def85-b110-4f52-e303-14cb14d26f47"
      },
      "source": [
        "#크기 한번 보자..\n",
        "#precisions와 recalls 가 항상 1개 적다..  -> 마지막 정밀도 1, 재현율 0\n",
        "#thresholds는 자동 오름차순정렬되고, 중복되면 자동 삭제된다..\n",
        "\n",
        "print(precisions.shape)\n",
        "print(recalls.shape)\n",
        "print(thresholds.shape)"
      ],
      "execution_count": null,
      "outputs": [
        {
          "output_type": "stream",
          "text": [
            "(59967,)\n",
            "(59967,)\n",
            "(59966,)\n"
          ],
          "name": "stdout"
        }
      ]
    },
    {
      "cell_type": "code",
      "metadata": {
        "colab": {
          "base_uri": "https://localhost:8080/",
          "height": 283
        },
        "id": "YtmgOjlJFNX1",
        "outputId": "e38524a0-f1b0-4420-8b28-1777d536ea2d"
      },
      "source": [
        "#임계값에 따른 정밀도와 재현율 함수를 그리자..\n",
        "#위의 크기에서 임계값이 하나 작은것을 볼수 있다.. -> 그래서 [:-1]인덱싱으로 끝에 하나를 뺀다\n",
        "\n",
        "def plot_precision_recall_vs_threshold(precisions, recalls, thresholds):\n",
        "    plt.plot(thresholds, precisions[:-1], \"b--\", label=\"precision\", linewidth=2)\n",
        "    plt.plot(thresholds, recalls[:-1], \"g-\", label=\"recall\", linewidth=2)\n",
        "    plt.xlabel(\"threshold\")\n",
        "    plt.grid(True)\n",
        "    plt.axis([-50000, 50000, 0, 1])\n",
        "\n",
        "plot_precision_recall_vs_threshold(precisions, recalls, thresholds)\n",
        "plt.show()"
      ],
      "execution_count": null,
      "outputs": [
        {
          "output_type": "display_data",
          "data": {
            "image/png": "[encoded data removed]",
            "text/plain": [
              "<Figure size 432x288 with 1 Axes>"
            ]
          },
          "metadata": {
            "tags": [],
            "needs_background": "light"
          }
        }
      ]
    },
    {
      "cell_type": "code",
      "metadata": {
        "colab": {
          "base_uri": "https://localhost:8080/"
        },
        "id": "nASR2xKKbw0o",
        "outputId": "cfcf936a-e8b3-4d0e-fd11-e5bed1a9106e"
      },
      "source": [
        "#predict()함수가 하는 일은 결정함수 값이 0보다 큰지를 확인하는 것..\n",
        "\n",
        "(y_train_pred == (y_scores > 0)).all()"
      ],
      "execution_count": null,
      "outputs": [
        {
          "output_type": "execute_result",
          "data": {
            "text/plain": [
              "True"
            ]
          },
          "metadata": {
            "tags": []
          },
          "execution_count": 27
        }
      ]
    },
    {
      "cell_type": "code",
      "metadata": {
        "colab": {
          "base_uri": "https://localhost:8080/",
          "height": 283
        },
        "id": "Ko9_JxQ1I2Sn",
        "outputId": "6ddfd7bf-c59b-4748-b0af-1004eec8bc85"
      },
      "source": [
        "#재현율에 대한 정밀도 곡선을 그리는 함수\n",
        "\n",
        "def plot_recall_vs_precision(precisions, recalls):\n",
        "    plt.plot(recalls, precisions, \"b-\")\n",
        "    plt.xlabel(\"Recall\")\n",
        "    plt.ylabel(\"Precision\")\n",
        "    plt.grid(True)\n",
        "    plt.axis([0, 1, 0, 1])\n",
        "\n",
        "plot_recall_vs_precision(precisions, recalls)\n",
        "plt.show()"
      ],
      "execution_count": null,
      "outputs": [
        {
          "output_type": "display_data",
          "data": {
            "image/png": "[encoded data removed]",
            "text/plain": [
              "<Figure size 432x288 with 1 Axes>"
            ]
          },
          "metadata": {
            "tags": [],
            "needs_background": "light"
          }
        }
      ]
    },
    {
      "cell_type": "code",
      "metadata": {
        "colab": {
          "base_uri": "https://localhost:8080/"
        },
        "id": "9uHFD6l2ZrhJ",
        "outputId": "e18e45d0-8727-4421-d5d5-105f8a52557b"
      },
      "source": [
        "# 정밀도/재현율 곡선아래의 면적을 구해주는 함수..\n",
        "# 면적이 클수록 좋다..\n",
        "\n",
        "from sklearn.metrics import average_precision_score\n",
        "average_precision_score(y_train_5, y_scores)"
      ],
      "execution_count": null,
      "outputs": [
        {
          "output_type": "execute_result",
          "data": {
            "text/plain": [
              "0.810041762752646"
            ]
          },
          "metadata": {
            "tags": []
          },
          "execution_count": 29
        }
      ]
    },
    {
      "cell_type": "markdown",
      "metadata": {
        "id": "QqqVsgttqCPn"
      },
      "source": [
        "**그래프 분석**\n",
        "\n",
        "- 그래프 아래 면적이 클수록 좋다..\n",
        "- 재현율이 80%근처에서 정밀도가 급격하게 줄어든다..\n",
        "- 이 하강점 직전을 정밀도/재현율 트레이드오프 지점으로 선택하는 것이 좋다..\n",
        "- 약 재현율 60%..??"
      ]
    },
    {
      "cell_type": "markdown",
      "metadata": {
        "id": "C5Gsj85QqVlb"
      },
      "source": [
        "**만약 목표가 있다면..?**\n",
        "\n",
        "- 그 목표에 맞도록 임계값을 설정할 수 있다..\n",
        "- 높은 정밀도가 목표라면 -> 임계값을 졸리 올리면 된다..\n",
        "- 높은 재현율이 목표라면 -> 임계값을 졸리 낮추면 된다..\n",
        "\n",
        "**하지만**\n",
        "\n",
        "- 재현율이 너무 낮다면 높은 정밀도도 유용하지 않다..\n",
        "- 반대도 마찬가지다..\n",
        "- 따라서 항상 적당하게 해야한다.."
      ]
    },
    {
      "cell_type": "code",
      "metadata": {
        "id": "YZm1rhQ3qasN"
      },
      "source": [
        "#정밀도 90%이상이 목표일때 임계값을 저장..\n",
        "\n",
        "threshold_90_precision = thresholds[np.argmax(precisions >= 0.9)]"
      ],
      "execution_count": null,
      "outputs": []
    },
    {
      "cell_type": "code",
      "metadata": {
        "id": "Tj4du7lwrszS"
      },
      "source": [
        "#지정 임계값이 넘는 것만 True\n",
        "\n",
        "y_train_pred = (y_scores >= threshold_90_precision)"
      ],
      "execution_count": null,
      "outputs": []
    },
    {
      "cell_type": "code",
      "metadata": {
        "colab": {
          "base_uri": "https://localhost:8080/"
        },
        "id": "if-MfCSlsGy0",
        "outputId": "76e96911-ce8a-4ce4-c93e-76f37c0fd561"
      },
      "source": [
        "#새로운 예측에 대한 오차행렬\n",
        "\n",
        "confusion_matrix(y_train_5, y_train_pred)"
      ],
      "execution_count": null,
      "outputs": [
        {
          "output_type": "execute_result",
          "data": {
            "text/plain": [
              "array([[54290,   289],\n",
              "       [ 2819,  2602]])"
            ]
          },
          "metadata": {
            "tags": []
          },
          "execution_count": 32
        }
      ]
    },
    {
      "cell_type": "code",
      "metadata": {
        "colab": {
          "base_uri": "https://localhost:8080/"
        },
        "id": "QB57PpkTr9TM",
        "outputId": "1a29e361-af53-490d-fe84-351ba632a234"
      },
      "source": [
        "#재현율 정밀도 확인..\n",
        "print(\"정밀도\")\n",
        "print(2602 / (2602 + 289))\n",
        "print(precision_score(y_train_5, y_train_pred))\n",
        "\n",
        "print()\n",
        "print(\"재현율\")\n",
        "print(2602 / (2602 + 2819))\n",
        "print(recall_score(y_train_5, y_train_pred))"
      ],
      "execution_count": null,
      "outputs": [
        {
          "output_type": "stream",
          "text": [
            "정밀도\n",
            "0.9000345901072293\n",
            "0.9000345901072293\n",
            "\n",
            "재현율\n",
            "0.4799852425751706\n",
            "0.4799852425751706\n"
          ],
          "name": "stdout"
        }
      ]
    },
    {
      "cell_type": "markdown",
      "metadata": {
        "id": "g5TWXYa5iHtT"
      },
      "source": [
        "##3.3.5 ROC 곡선\n",
        "\n",
        "**성능측정 방법4**"
      ]
    },
    {
      "cell_type": "markdown",
      "metadata": {
        "id": "_MW6p4J6wuOP"
      },
      "source": [
        "**수신기 조작 특성(ROC)**\n",
        "\n",
        "- **거짓양성비율(FPR)**\n",
        "    \n",
        "    - 전체 음성 샘플중에서 양성으로 잘못 분류된 것의 비율\n",
        "    - FP / (FP + TN) \n",
        "\n",
        "- **진짜음성비율(TNR)**\n",
        "    - **특이도**와 같은 말\n",
        "    - 전체 음성 샘플중에서 진짜 음성으로 잘 분류된 것의 비율\n",
        "    - TN / (FP + TN)\n",
        "- FPR + TNR = 1\n",
        "\n",
        "- **진짜양성비율**\n",
        "    - 재현율과 동일\n",
        "- **거짓양성비율(FPR)**에 대한 **진짜양성비율(TPR)**\n"
      ]
    },
    {
      "cell_type": "code",
      "metadata": {
        "id": "Kk9v6IxxyAVB"
      },
      "source": [
        "#ROC 곡선 그리려면 FPR, TPR값을 알아야한다..\n",
        "#roc_curve() 메서드에 레이블과 결정함수 값을 전달하면 \n",
        "#각 임계값에 대한 fpr, tpr값을 알려준다..\n",
        "\n",
        "from sklearn.metrics import roc_curve\n",
        "\n",
        "fpr, tpr, thresholds = roc_curve(y_train_5, y_scores)"
      ],
      "execution_count": null,
      "outputs": []
    },
    {
      "cell_type": "code",
      "metadata": {
        "colab": {
          "base_uri": "https://localhost:8080/",
          "height": 279
        },
        "id": "3DMSxYNlyMIK",
        "outputId": "b97a8991-bd13-4deb-aa66-b311e0df3daa"
      },
      "source": [
        "#roc곡선 그리는 함수\n",
        "\n",
        "def plot_roc_curve(fpr, tpr, label=None):\n",
        "    plt.plot(fpr, tpr, linewidth=2, label=label)\n",
        "    plt.plot([0, 1], [0, 1], 'k--')\n",
        "    plt.xlabel('FPR')\n",
        "    plt.ylabel('TPR')\n",
        "    plt.grid(True)\n",
        "\n",
        "plot_roc_curve(fpr, tpr)\n",
        "plt.show()"
      ],
      "execution_count": null,
      "outputs": [
        {
          "output_type": "display_data",
          "data": {
            "image/png": "[encoded data removed]",
            "text/plain": [
              "<Figure size 432x288 with 1 Axes>"
            ]
          },
          "metadata": {
            "tags": [],
            "needs_background": "light"
          }
        }
      ]
    },
    {
      "cell_type": "markdown",
      "metadata": {
        "id": "_-ginmSAy-GT"
      },
      "source": [
        "**트레이드오프 존재**\n",
        "\n",
        "- 재현율(TPR)이 높을수록 분류기가 만드는 거짓 양성(FPR)이 많아진다..\n",
        "- 점선은 완전한 랜덤분류기..\n",
        "- 곡선이 왼쪽 위로 붙을수록 좋은 분류기이다\n",
        "    - 거짓양성도 없으면서, 재현율도 좋다\n",
        "\n",
        "**곡선 아래의 면적(AUC)**\n",
        "\n",
        "- 완벽분류기 : 1 / 랜덤분류기 : 0.5\n",
        "- **클수록 좋다!!**\n",
        "- roc_auc_score 메서드로 계산가능"
      ]
    },
    {
      "cell_type": "code",
      "metadata": {
        "colab": {
          "base_uri": "https://localhost:8080/"
        },
        "id": "IjKLRaJUzpZr",
        "outputId": "235cb48f-7c19-4ca4-d4c5-da4af2c3d283"
      },
      "source": [
        "#곡선아래의 면적.. 클수록 좋다!!\n",
        "\n",
        "from sklearn.metrics import roc_auc_score\n",
        "roc_auc_score(y_train_5, y_scores)"
      ],
      "execution_count": null,
      "outputs": [
        {
          "output_type": "execute_result",
          "data": {
            "text/plain": [
              "0.9604938554008616"
            ]
          },
          "metadata": {
            "tags": []
          },
          "execution_count": 36
        }
      ]
    },
    {
      "cell_type": "code",
      "metadata": {
        "id": "SPzeqIKMz7a9"
      },
      "source": [
        "#랜덤포레스트 분류기를 만들고 성능을 roc곡선으로 측정해보자..\n",
        "#roc_curve()메서드에 레이블과 확률을 주어야한다.. \n",
        "#얘의 예측값은 predict_proba()함수로 얻을 수 있다.. -> 각 클래스일 확률을 반환한다\n",
        "\n",
        "from sklearn.ensemble import RandomForestClassifier\n",
        "\n",
        "forest_clf = RandomForestClassifier(random_state=42)\n",
        "y_probas_forest = cross_val_predict(forest_clf, X_train, y_train_5, cv=3,\n",
        "                                  method=\"predict_proba\", n_jobs=-1)"
      ],
      "execution_count": null,
      "outputs": []
    },
    {
      "cell_type": "code",
      "metadata": {
        "id": "Ascyi6KJ2iGN"
      },
      "source": [
        "#양성클래스일 확률만 받아온다..\n",
        "#그리고 그 확률에 대한 fpr, tpr을 구한다..\n",
        "\n",
        "y_scores_forest = y_probas_forest[:,1]\n",
        "fpr_forest, tpr_forest, thresholds_forest = roc_curve(y_train_5, y_scores_forest)"
      ],
      "execution_count": null,
      "outputs": []
    },
    {
      "cell_type": "code",
      "metadata": {
        "colab": {
          "base_uri": "https://localhost:8080/",
          "height": 279
        },
        "id": "Ljluy_k53bMS",
        "outputId": "03fae76c-93a4-4806-f274-effbea4c9c64"
      },
      "source": [
        "#앞에거랑 같이 그려보자..\n",
        "\n",
        "plot_roc_curve(fpr_forest, tpr_forest, label=\"RandomForest\")\n",
        "plt.plot(fpr, tpr, label=\"SGD\")\n",
        "plt.legend(loc=\"lower right\")\n",
        "plt.show()"
      ],
      "execution_count": null,
      "outputs": [
        {
          "output_type": "display_data",
          "data": {
            "image/png": "[encoded data removed]",
            "text/plain": [
              "<Figure size 432x288 with 1 Axes>"
            ]
          },
          "metadata": {
            "tags": [],
            "needs_background": "light"
          }
        }
      ]
    },
    {
      "cell_type": "code",
      "metadata": {
        "colab": {
          "base_uri": "https://localhost:8080/"
        },
        "id": "JgJi44Mc4Blw",
        "outputId": "11f5602d-dc2d-4036-f090-4af3bacc1672"
      },
      "source": [
        "#AUC면적도 더 크다..\n",
        "\n",
        "roc_auc_score(y_train_5, y_scores_forest)"
      ],
      "execution_count": null,
      "outputs": [
        {
          "output_type": "execute_result",
          "data": {
            "text/plain": [
              "0.9983436731328145"
            ]
          },
          "metadata": {
            "tags": []
          },
          "execution_count": 40
        }
      ]
    },
    {
      "cell_type": "markdown",
      "metadata": {
        "id": "tSfVPXJM3-TR"
      },
      "source": [
        "**그래프 분석**\n",
        "\n",
        "- 랜덤포레스트가 SGD 분류기보다 더 좋다..\n",
        "- 그래프가 왼쪽위로 붙어있고, 곡선 아래 면적도 더 크다"
      ]
    },
    {
      "cell_type": "markdown",
      "metadata": {
        "id": "NWDqDeitcOab"
      },
      "source": [
        "**랜덤포레스트의 정밀도와 재현율 확인**\n",
        "\n",
        "- 새로운 예측을 만든다.. -> cross_val_predict()\n",
        "- 오차행렬로 확인\n",
        "- 혹은 재현율, 정밀도를 구해주는 메서드 사용.."
      ]
    },
    {
      "cell_type": "code",
      "metadata": {
        "colab": {
          "base_uri": "https://localhost:8080/"
        },
        "id": "6MntrIwY4Uzl",
        "outputId": "d3709a13-b4c2-4a70-9d54-fd5dfed0ab11"
      },
      "source": [
        "y_pred_forest = cross_val_predict(forest_clf, X_train, y_train_5, cv=3, method=\"predict\", n_jobs=-1)\n",
        "\n",
        "confusion_matrix(y_train_5, y_pred_forest)"
      ],
      "execution_count": null,
      "outputs": [
        {
          "output_type": "execute_result",
          "data": {
            "text/plain": [
              "array([[54534,    45],\n",
              "       [  725,  4696]])"
            ]
          },
          "metadata": {
            "tags": []
          },
          "execution_count": 41
        }
      ]
    },
    {
      "cell_type": "code",
      "metadata": {
        "colab": {
          "base_uri": "https://localhost:8080/"
        },
        "id": "FPsB7bZcbp09",
        "outputId": "32eed788-1879-46a3-9581-f4517e479285"
      },
      "source": [
        "#정밀도 재현율 둘다 붸리 굿..\n",
        "\n",
        "print(\"정밀도\")\n",
        "print(4735 / (4735 + 43))\n",
        "print(precision_score(y_train_5, y_pred_forest))\n",
        "\n",
        "print()\n",
        "print(\"재현율\")\n",
        "print(4735 / (4735 + 686))\n",
        "print(recall_score(y_train_5, y_pred_forest))"
      ],
      "execution_count": null,
      "outputs": [
        {
          "output_type": "stream",
          "text": [
            "정밀도\n",
            "0.9910004185851821\n",
            "0.9905083315756169\n",
            "\n",
            "재현율\n",
            "0.8734550820881756\n",
            "0.8662608374838591\n"
          ],
          "name": "stdout"
        }
      ]
    },
    {
      "cell_type": "markdown",
      "metadata": {
        "id": "jG_PYwkefj0p"
      },
      "source": [
        "**TIP**\n",
        "\n",
        "- 정밀도/재현율 곡선 사용\n",
        "    - 양성 클래스가 드물게 있을 때..\n",
        "    - 거짓 음성보다 거짓 양성이 더 중요할때..\n",
        "    - 분류기의 성능 개선 여지가 얼마나 되는지 (얼마나 오른쪽 위 모서리에 가까워질 수 있는지)를 잘 보여준다..\n",
        "\n",
        "- ROC 곡선 사용\n",
        "    - 나머지 경우.."
      ]
    },
    {
      "cell_type": "markdown",
      "metadata": {
        "id": "HnpTQX3SiKyz"
      },
      "source": [
        "#3.4 다중 분류"
      ]
    },
    {
      "cell_type": "markdown",
      "metadata": {
        "id": "e7Dcp0nNgoo6"
      },
      "source": [
        "**다중 분류기**\n",
        "\n",
        "- 여러 개의 클래스 직접 처리가능\n",
        "    - SGD분류기, 랜덤포레스트 분류기, 나이브 베이즈 분류기..\n",
        "- 이진 분류만 가능\n",
        "    - 로지스틱 회귀, 서포트 벡터 머신 분류기.."
      ]
    },
    {
      "cell_type": "markdown",
      "metadata": {
        "id": "vppMYV5pg5zH"
      },
      "source": [
        "이진 분류기를 여러개 사용해서 다중 클래스를 분류하기\n",
        "\n",
        "- **OvR**\n",
        "    - 각 클래스와 아닌 것들로 분류하는 이진분류기를 클래스 갯수만큼 만든다\n",
        "    - 각 분류기의 결정 점수 중에서 가장 높은 것을 클래스로 선택한다..\n",
        "    - 대부분의 분류기가 사용하는 방식..\n",
        "\n",
        "- **OvO**\n",
        "    - 각 클래스의 조합마다 이진 분류기를 훈련시킨다..\n",
        "    - 클래스가 N개면, N * (N-1) / 2 만큼의 이진 분류기가 필요하다..\n",
        "    - 모든 분류기를 통과시켜서 가장 많이 양성으로 분류된 클래스를 선택한다..\n",
        "    - 장점 : **각 분류기의 훈련에 전체 훈련세트 중 구별할 두 클래스에 해당하는 샘플만 필요하다**\n",
        "    - 서포트 벡터 머신 분류기가 선호하는 방식..\n",
        "\n",
        "사이킷런이 자동으로 OvR 혹은 OvO를 실행한다.."
      ]
    },
    {
      "cell_type": "code",
      "metadata": {
        "colab": {
          "base_uri": "https://localhost:8080/"
        },
        "id": "cmZl3u05gcGo",
        "outputId": "45b3c5a0-198c-4371-c8aa-ad29b645e957"
      },
      "source": [
        "from sklearn.svm import SVC\n",
        "svm_clf = SVC()\n",
        "#다중 클래스 레이블로 훈련..\n",
        "svm_clf.fit(X_train, y_train)\n",
        "svm_clf.predict([first_data])"
      ],
      "execution_count": null,
      "outputs": [
        {
          "output_type": "execute_result",
          "data": {
            "text/plain": [
              "array([5], dtype=uint8)"
            ]
          },
          "metadata": {
            "tags": []
          },
          "execution_count": 43
        }
      ]
    },
    {
      "cell_type": "code",
      "metadata": {
        "colab": {
          "base_uri": "https://localhost:8080/"
        },
        "id": "K0CP_S2ilmZR",
        "outputId": "ede7a3f1-eb97-495f-91ed-4e1995c5bf20"
      },
      "source": [
        "first_data_scores = svm_clf.decision_function([first_data])\n",
        "print(first_data_scores)\n",
        "\n",
        "#first_data_scores에서 가장 큰 값의 인덱스 출력..\n",
        "print(np.argmax(first_data_scores))"
      ],
      "execution_count": null,
      "outputs": [
        {
          "output_type": "stream",
          "text": [
            "[[ 1.72501977  2.72809088  7.2510018   8.3076379  -0.31087254  9.3132482\n",
            "   1.70975103  2.76765202  6.23049537  4.84771048]]\n",
            "5\n"
          ],
          "name": "stdout"
        }
      ]
    },
    {
      "cell_type": "code",
      "metadata": {
        "colab": {
          "base_uri": "https://localhost:8080/"
        },
        "id": "BIs5FevGmXNg",
        "outputId": "8b1881f1-c57b-46ea-89f7-ab6099d75450"
      },
      "source": [
        "svm_clf.classes_"
      ],
      "execution_count": null,
      "outputs": [
        {
          "output_type": "execute_result",
          "data": {
            "text/plain": [
              "array([0, 1, 2, 3, 4, 5, 6, 7, 8, 9], dtype=uint8)"
            ]
          },
          "metadata": {
            "tags": []
          },
          "execution_count": 45
        }
      ]
    },
    {
      "cell_type": "markdown",
      "metadata": {
        "id": "ZSvSV-GfnAvD"
      },
      "source": [
        "강제로 OvR, OvO방식을 지정하려면..\n",
        "\n",
        "- OneVsOneClassifier 혹은 OneVsRestClassifier 사용.."
      ]
    },
    {
      "cell_type": "code",
      "metadata": {
        "colab": {
          "base_uri": "https://localhost:8080/"
        },
        "id": "PGiQT70GnF84",
        "outputId": "47296276-9369-4881-e01e-e064be5a6864"
      },
      "source": [
        "#SVC를 OvR전략을 사용하도록 만들자..\n",
        "#와이래 오래걸리노..\n",
        "\n",
        "from sklearn.multiclass import OneVsRestClassifier\n",
        "ovr_clf = OneVsRestClassifier(SVC())\n",
        "ovr_clf.fit(X_train[:1000], y_train[:1000])\n",
        "ovr_clf.predict([first_data])"
      ],
      "execution_count": null,
      "outputs": [
        {
          "output_type": "execute_result",
          "data": {
            "text/plain": [
              "array([5], dtype=uint8)"
            ]
          },
          "metadata": {
            "tags": []
          },
          "execution_count": 46
        }
      ]
    },
    {
      "cell_type": "code",
      "metadata": {
        "colab": {
          "base_uri": "https://localhost:8080/"
        },
        "id": "qzUtgDmoo0Rz",
        "outputId": "1f55f4dc-bf17-474b-d181-060da0794d5f"
      },
      "source": [
        "#SGD혹은 랜덤포레스트 분류기를 훈련시키는거도 간단..\n",
        "#자동으로 SGD는 OvR방식으로 훈련..\n",
        "\n",
        "sgd_clf.fit(X_train, y_train)\n",
        "sgd_clf.predict([first_data])"
      ],
      "execution_count": null,
      "outputs": [
        {
          "output_type": "execute_result",
          "data": {
            "text/plain": [
              "array([3], dtype=uint8)"
            ]
          },
          "metadata": {
            "tags": []
          },
          "execution_count": 47
        }
      ]
    },
    {
      "cell_type": "code",
      "metadata": {
        "colab": {
          "base_uri": "https://localhost:8080/"
        },
        "id": "rd6tOWIApInq",
        "outputId": "bf2b8b8d-1f32-4d21-dc47-94368dd92480"
      },
      "source": [
        "#각 클래스마다 부여한 결정 점수값 확인..\n",
        "\n",
        "sgd_clf.decision_function([first_data])"
      ],
      "execution_count": null,
      "outputs": [
        {
          "output_type": "execute_result",
          "data": {
            "text/plain": [
              "array([[-31893.03095419, -34419.69069632,  -9530.63950739,\n",
              "          1823.73154031, -22320.14822878,  -1385.80478895,\n",
              "        -26188.91070951, -16147.51323997,  -4604.35491274,\n",
              "        -12050.767298  ]])"
            ]
          },
          "metadata": {
            "tags": []
          },
          "execution_count": 48
        }
      ]
    },
    {
      "cell_type": "markdown",
      "metadata": {
        "id": "BAHEO8xepQkd"
      },
      "source": [
        "**결과 확인**\n",
        "\n",
        "- 책 기준..\n",
        "    - 클래스 3의 점수 : 573.5  /  클래스 5의 점수 : 2412.5\n",
        "    - 3을 조금 의심하고 있다..\n",
        "- 실제로는..\n",
        "    - 클래스 3의 점수 : 1823.7  /  클래스 5의 점수 : -1385.8\n",
        "    - 잘못 예측했다..\n"
      ]
    },
    {
      "cell_type": "markdown",
      "metadata": {
        "id": "byIqpTNzpbYB"
      },
      "source": [
        "**정확도 평가**\n",
        "\n",
        "- cross_val_score()함수 사용.."
      ]
    },
    {
      "cell_type": "code",
      "metadata": {
        "colab": {
          "base_uri": "https://localhost:8080/"
        },
        "id": "YJV_b7z8pw3Y",
        "outputId": "f6bcf12b-cc6c-4c41-c430-6ca90c768903"
      },
      "source": [
        "cross_val_score(sgd_clf, X_train, y_train, cv=3, scoring=\"accuracy\", n_jobs=-1)"
      ],
      "execution_count": null,
      "outputs": [
        {
          "output_type": "execute_result",
          "data": {
            "text/plain": [
              "array([0.87365, 0.85835, 0.8689 ])"
            ]
          },
          "metadata": {
            "tags": []
          },
          "execution_count": 49
        }
      ]
    },
    {
      "cell_type": "markdown",
      "metadata": {
        "id": "d4_kfTFvp-P5"
      },
      "source": [
        "스케일링 해주면 좀 더 나은 정확도를 얻을 수 있다.."
      ]
    },
    {
      "cell_type": "code",
      "metadata": {
        "colab": {
          "base_uri": "https://localhost:8080/"
        },
        "id": "irbJSMoSqFCL",
        "outputId": "94dec472-ae47-4f5a-c744-d8d82778f7ec"
      },
      "source": [
        "#테스트 성능이 좀 좋아졌다..\n",
        "\n",
        "from sklearn.preprocessing import StandardScaler\n",
        "\n",
        "scaler = StandardScaler()\n",
        "X_train_scaled = scaler.fit_transform(X_train.astype(np.float64))\n",
        "cross_val_score(sgd_clf, X_train_scaled, y_train, cv=3, scoring=\"accuracy\", n_jobs=-1)"
      ],
      "execution_count": null,
      "outputs": [
        {
          "output_type": "execute_result",
          "data": {
            "text/plain": [
              "array([0.8983, 0.891 , 0.9018])"
            ]
          },
          "metadata": {
            "tags": []
          },
          "execution_count": 50
        }
      ]
    },
    {
      "cell_type": "markdown",
      "metadata": {
        "id": "TCq9P8nLiNRC"
      },
      "source": [
        "#3.5 에러 분석"
      ]
    },
    {
      "cell_type": "markdown",
      "metadata": {
        "id": "WMkVXRKX6iDz"
      },
      "source": [
        "- 원래는 아래의 과정을 해야한다..\n",
        "    - 데이터 준비 단계에서 가능한 선택사항을 탐색\n",
        "    - 여러 모델을 시도\n",
        "    - 가장 좋은 몇 개를 골라서 그리드/랜덤 서치로 하이퍼파라미터 튜닝..\n",
        "    - 가능한 한 자동화..\n",
        "- 이미 좋은 모델을 하나 찾았다고 가정하고, 이 모델의 성능을 높이는 방법을 찾아보겠다!!"
      ]
    },
    {
      "cell_type": "markdown",
      "metadata": {
        "id": "sHM7n0cE7suQ"
      },
      "source": [
        "**오차행렬 확인**"
      ]
    },
    {
      "cell_type": "code",
      "metadata": {
        "colab": {
          "base_uri": "https://localhost:8080/"
        },
        "id": "lGefGcUt7uTu",
        "outputId": "87a573e6-d709-498c-e016-b433dd5bba56"
      },
      "source": [
        "y_train_pred = cross_val_predict(sgd_clf, X_train_scaled, y_train, cv=3, n_jobs=-1)\n",
        "conf_mx = confusion_matrix(y_train, y_train_pred)\n",
        "conf_mx"
      ],
      "execution_count": null,
      "outputs": [
        {
          "output_type": "execute_result",
          "data": {
            "text/plain": [
              "array([[5577,    0,   22,    5,    8,   43,   36,    6,  225,    1],\n",
              "       [   0, 6400,   37,   24,    4,   44,    4,    7,  212,   10],\n",
              "       [  27,   27, 5220,   92,   73,   27,   67,   36,  378,   11],\n",
              "       [  22,   17,  117, 5227,    2,  203,   27,   40,  403,   73],\n",
              "       [  12,   14,   41,    9, 5182,   12,   34,   27,  347,  164],\n",
              "       [  27,   15,   30,  168,   53, 4444,   75,   14,  535,   60],\n",
              "       [  30,   15,   42,    3,   44,   97, 5552,    3,  131,    1],\n",
              "       [  21,   10,   51,   30,   49,   12,    3, 5684,  195,  210],\n",
              "       [  17,   63,   48,   86,    3,  126,   25,   10, 5429,   44],\n",
              "       [  25,   18,   30,   64,  118,   36,    1,  179,  371, 5107]])"
            ]
          },
          "metadata": {
            "tags": []
          },
          "execution_count": 51
        }
      ]
    },
    {
      "cell_type": "code",
      "metadata": {
        "colab": {
          "base_uri": "https://localhost:8080/",
          "height": 275
        },
        "id": "livEO2DT8OIo",
        "outputId": "6b46c1d7-5fdc-482d-a44d-782adff85a86"
      },
      "source": [
        "# 이미지로 표현..\n",
        "#cmap = plt.cm.gray : 숫자가 클수록 밝음\n",
        "\n",
        "plt.matshow(conf_mx, cmap=plt.cm.gray)\n",
        "plt.show()"
      ],
      "execution_count": null,
      "outputs": [
        {
          "output_type": "display_data",
          "data": {
            "image/png": "[encoded data removed]",
            "text/plain": [
              "<Figure size 288x288 with 1 Axes>"
            ]
          },
          "metadata": {
            "tags": [],
            "needs_background": "light"
          }
        }
      ]
    },
    {
      "cell_type": "code",
      "metadata": {
        "colab": {
          "base_uri": "https://localhost:8080/"
        },
        "id": "FtZFvtrM80Ay",
        "outputId": "b10a7e66-c542-4953-f85b-32e4b4db083a"
      },
      "source": [
        "# 에러에 집중해보자..\n",
        "\n",
        "#각 행의 합을 구하고\n",
        "row_sums = conf_mx.sum(axis=1, keepdims=True)\n",
        "print(row_sums)\n",
        "\n",
        "#각 행의 합으로 모든 원소를 나눈다..\n",
        "norm_conf_mx = conf_mx / row_sums"
      ],
      "execution_count": null,
      "outputs": [
        {
          "output_type": "stream",
          "text": [
            "[[5923]\n",
            " [6742]\n",
            " [5958]\n",
            " [6131]\n",
            " [5842]\n",
            " [5421]\n",
            " [5918]\n",
            " [6265]\n",
            " [5851]\n",
            " [5949]]\n"
          ],
          "name": "stdout"
        }
      ]
    },
    {
      "cell_type": "code",
      "metadata": {
        "colab": {
          "base_uri": "https://localhost:8080/",
          "height": 275
        },
        "id": "E9NMN8fy9X0f",
        "outputId": "424ec63f-5eb6-41b6-aa45-36248ce3e760"
      },
      "source": [
        "# 주대각선을 0으로 바꾼다.. (에러에만 집중하기 위해서)\n",
        "np.fill_diagonal(norm_conf_mx, 0)\n",
        "plt.matshow(norm_conf_mx, cmap=plt.cm.gray)\n",
        "plt.show()"
      ],
      "execution_count": null,
      "outputs": [
        {
          "output_type": "display_data",
          "data": {
            "image/png": "[encoded data removed]",
            "text/plain": [
              "<Figure size 288x288 with 1 Axes>"
            ]
          },
          "metadata": {
            "tags": [],
            "needs_background": "light"
          }
        }
      ]
    },
    {
      "cell_type": "markdown",
      "metadata": {
        "id": "H5mrypU18Ymu"
      },
      "source": [
        "**분석**\n",
        "\n",
        "- 클래스 8열이 상당히 밝다.. -> 많은 이미지가 8로 잘못 분류되었다!!\n",
        "- 오차행렬이 반드시 대칭일 필요는 없다\n",
        "- 3행 5열과 5열 3행이 밝다.. -> 3과 5가 서로 많이 혼동된다고 볼 수 있다"
      ]
    },
    {
      "cell_type": "markdown",
      "metadata": {
        "id": "pydzfzIX-PMn"
      },
      "source": [
        "오차 행렬을 분석해서 성능 향상 방안에 대한 통찰을 얻을 수 있다..\n",
        "\n",
        "- 8을 좀 더 잘 구분해보자..\n",
        "    - 8처럼 보이는 훈련데이터를 더 모은다 던가..\n",
        "    - 동심원의 수를 세는 알고리즘을 도입한다 던가.."
      ]
    },
    {
      "cell_type": "markdown",
      "metadata": {
        "id": "N4U0f5Ew-mdM"
      },
      "source": [
        "3과 5의 샘플을 한 번 그려보자.."
      ]
    },
    {
      "cell_type": "code",
      "metadata": {
        "id": "0RA-PSi9ojys"
      },
      "source": [
        "#내가한거.. 오류가 난다..\n",
        "\n",
        "def plot_digits(digits, image_per_row=5):\n",
        "    #들어오는 digits 샘플이 5의 배수라고 가정..\n",
        "    digits_prepared = [digit.reshape(28,28) for digit in digits]\n",
        "    fig, axs = plt.subplot(len(digits)//5, 5)\n",
        "    for i in range(len(digits)//5):\n",
        "        for j in range(5):\n",
        "            axs[i][j].imshow(digits_prepared[i*5+j], cmap=\"binary\")\n",
        "            axs[i][j].axis('off')"
      ],
      "execution_count": null,
      "outputs": []
    },
    {
      "cell_type": "code",
      "metadata": {
        "id": "PezKS1ffTjWM"
      },
      "source": [
        "def plot_digits_by_book(instances, images_per_row=10, **options):\n",
        "    size = 28\n",
        "    images_per_row = min(len(instances), images_per_row)\n",
        "    images = [instance.reshape(size,size) for instance in instances]\n",
        "    n_rows = (len(instances) - 1) // images_per_row + 1\n",
        "    row_images = []\n",
        "    n_empty = n_rows * images_per_row - len(instances)\n",
        "    images.append(np.zeros((size, size * n_empty)))\n",
        "    for row in range(n_rows):\n",
        "        rimages = images[row * images_per_row : (row + 1) * images_per_row]\n",
        "        row_images.append(np.concatenate(rimages, axis=1))\n",
        "    image = np.concatenate(row_images, axis=0)\n",
        "    plt.imshow(image, cmap = 'binary', **options)\n",
        "    plt.axis(\"off\")"
      ],
      "execution_count": null,
      "outputs": []
    },
    {
      "cell_type": "code",
      "metadata": {
        "id": "2DRaFXvm-p1c",
        "colab": {
          "base_uri": "https://localhost:8080/",
          "height": 466
        },
        "outputId": "00906560-7c19-4d59-efeb-28f6f2c34933"
      },
      "source": [
        "#클래스 잡아놓고\n",
        "cl_a, cl_b = 3, 5\n",
        "\n",
        "#3인데 3으로 예측한 거\n",
        "X_aa = X_train[(y_train == cl_a) & (y_train_pred == cl_a)]\n",
        "#3인데 5로 예측한 거\n",
        "X_ab = X_train[(y_train == cl_a) & (y_train_pred == cl_b)]\n",
        "#5인데 3으로 예측한 거\n",
        "X_ba = X_train[(y_train == cl_b) & (y_train_pred == cl_a)]\n",
        "#5인데 5로 예측한 거\n",
        "X_bb = X_train[(y_train == cl_b) & (y_train_pred == cl_b)]\n",
        "\n",
        "plt.figure(figsize=(8,8))\n",
        "plt.subplot(221); plot_digits_by_book(X_aa[:25], images_per_row=5)\n",
        "plt.subplot(222); plot_digits_by_book(X_ab[:25], images_per_row=5)\n",
        "plt.subplot(223); plot_digits_by_book(X_ba[:25], images_per_row=5)\n",
        "plt.subplot(224); plot_digits_by_book(X_bb[:25], images_per_row=5)\n",
        "plt.show()"
      ],
      "execution_count": null,
      "outputs": [
        {
          "output_type": "display_data",
          "data": {
            "image/png": "[encoded data removed]",
            "text/plain": [
              "<Figure size 576x576 with 4 Axes>"
            ]
          },
          "metadata": {
            "tags": [],
            "needs_background": "light"
          }
        }
      ]
    },
    {
      "cell_type": "markdown",
      "metadata": {
        "id": "m-GobNxvqlh1"
      },
      "source": [
        "**분석**\n",
        "\n",
        "- 대부분의 잘못 분류된 이미지는 확실히 에러이고, 실수한 이유를 이해하기 어렵다,..\n",
        "- 원인은 선형모델인 SGDClassifier를 사용했기 때문..\n",
        "    - 선형 분류기는 클래스마다 픽셀에 가중치를 할당함\n",
        "    - 픽셀강도의 가중치합을 클래스의 점수로 계산함..\n",
        "    - 결과적으로 3, 5 는 픽셀 자체가 비슷하기 때문에 모델이 쉽게 혼동함..\n",
        "\n",
        "- 3과 5의 경우에는..\n",
        "    - 주된 차이가 5의 직선의 유무이다..\n",
        "    - **분류기는 이미지의 위치나 회전 방향에 매우 민감**\n",
        "    - **이미지를 중앙에 위치시키고 회전되어 있지 않도록 전처리**하면 에러가 많이 준다..\n",
        "\n",
        "**정리**\n",
        "\n",
        "- 픽셀로 구별을 하는데 픽셀이 비슷해서 쉽게 혼동..\n",
        "- 중앙에 고정시키고, 회전방향을 고정하는 등 전처리를 통해 에러를 줄일 수 있다"
      ]
    },
    {
      "cell_type": "markdown",
      "metadata": {
        "id": "uEQN4N-WiP4x"
      },
      "source": [
        "#3.6 다중 레이블 분류"
      ]
    },
    {
      "cell_type": "markdown",
      "metadata": {
        "id": "wK9NIGQj92hO"
      },
      "source": [
        "- 여러 개의 이진 꼬리표를 출력하는 분류 시스템..\n",
        "- ex) 큰 숫자인지와 홀수인지를 동시에 예측하는 분류기.."
      ]
    },
    {
      "cell_type": "markdown",
      "metadata": {
        "id": "LihEBfmn_Kud"
      },
      "source": [
        "여기서 KNN은 다중 레이블 분류를 지원하지만 다 그런건 아님.."
      ]
    },
    {
      "cell_type": "code",
      "metadata": {
        "colab": {
          "base_uri": "https://localhost:8080/"
        },
        "id": "u_i09Glu-EME",
        "outputId": "91739cc2-4871-4ae3-c2f7-a5f5d143c58c"
      },
      "source": [
        "from sklearn.neighbors import KNeighborsClassifier\n",
        "\n",
        "y_train_large = (y_train >= 7)\n",
        "y_train_odd = (y_train % 2 == 1)\n",
        "#큰 수인지랑 홀수인 컬럼붙혀서 가져온다..\n",
        "y_multilabel = np.c_[y_train_large, y_train_odd]\n",
        "\n",
        "knn_clf = KNeighborsClassifier()\n",
        "knn_clf.fit(X_train, y_multilabel)"
      ],
      "execution_count": null,
      "outputs": [
        {
          "output_type": "execute_result",
          "data": {
            "text/plain": [
              "KNeighborsClassifier(algorithm='auto', leaf_size=30, metric='minkowski',\n",
              "                     metric_params=None, n_jobs=None, n_neighbors=5, p=2,\n",
              "                     weights='uniform')"
            ]
          },
          "metadata": {
            "tags": []
          },
          "execution_count": 58
        }
      ]
    },
    {
      "cell_type": "code",
      "metadata": {
        "colab": {
          "base_uri": "https://localhost:8080/"
        },
        "id": "PyrzQli4_Qhv",
        "outputId": "97ca06a2-a3e7-4288-bdbb-73df4f9bc958"
      },
      "source": [
        "#이제 예측을 2가지를 한다.. (큰 수인지, 홀수인지..)\n",
        "knn_clf.predict([first_data])"
      ],
      "execution_count": null,
      "outputs": [
        {
          "output_type": "execute_result",
          "data": {
            "text/plain": [
              "array([[False,  True]])"
            ]
          },
          "metadata": {
            "tags": []
          },
          "execution_count": 59
        }
      ]
    },
    {
      "cell_type": "markdown",
      "metadata": {
        "id": "tIkexv5Z_f_a"
      },
      "source": [
        "**다중 레이블 분류기 평가**\n",
        "\n",
        "- 방법은 많고, 적절한 방법은 케바케..\n",
        "- 여기서는 예시로 각 레이블의 F1점수를 평균하는 방법을 썼다..\n",
        "    - average 매개변수\n",
        "        - 어떻게 평균낼 지를 결정..\n",
        "        - \"macro\" : 각 레이블당 샘플수가 다를때, 그 각 레이블마다의 가중치를 고려하지 않고 그냥 무지성 평균..\n",
        "        - \"weighted\" : 각 레이블 마다의 가중치(지지도)를 고려해서 평균,,\n",
        "    - **지지도**\n",
        "        - 타깃 레이블에 속한 샘플수"
      ]
    },
    {
      "cell_type": "code",
      "metadata": {
        "colab": {
          "base_uri": "https://localhost:8080/"
        },
        "id": "A_Z-_KXb_obu",
        "outputId": "41085ad0-5c7a-4eb8-c9d1-9b21d611e162"
      },
      "source": [
        "#이거도 엄청 오래걸림..\n",
        "\n",
        "y_train_knn_pred = cross_val_predict(knn_clf, X_train, y_multilabel, cv=3, n_jobs=-1)\n",
        "f1_score(y_multilabel, y_train_knn_pred, average=\"macro\")"
      ],
      "execution_count": null,
      "outputs": [
        {
          "output_type": "execute_result",
          "data": {
            "text/plain": [
              "0.976410265560605"
            ]
          },
          "metadata": {
            "tags": []
          },
          "execution_count": 60
        }
      ]
    },
    {
      "cell_type": "markdown",
      "metadata": {
        "id": "l_rzcQwdiShS"
      },
      "source": [
        "#3.7 다중 출력 분류"
      ]
    },
    {
      "cell_type": "markdown",
      "metadata": {
        "id": "-lggIKmtlANp"
      },
      "source": [
        "- 한 레이블이 다중 클래스가 될 수 있도록 일반화한 것..\n",
        "- 예시\n",
        "    - 잡음을 넣어서 새로운 X_train_mod를 만든다..\n",
        "    - 데이터셋 자체가 레이블이 되도록함..\n",
        "    - 784개의 픽셀로 이루어짐..\n",
        "    - 다중 출력 분류의 예!!"
      ]
    },
    {
      "cell_type": "code",
      "metadata": {
        "id": "vFT1_KfwlRbR"
      },
      "source": [
        "#잡음을 생성해서 원본에서 더해서 준비..\n",
        "noise = np.random.randint(0,100,(len(X_train), 784))\n",
        "X_train_mod = noise + X_train\n",
        "noise = np.random.randint(0,100,(len(X_test), 784))\n",
        "X_test_mod = noise + X_test\n",
        "\n",
        "#원래거를 레이블로 준비..\n",
        "y_train_mod = X_train\n",
        "y_test_mod = X_test"
      ],
      "execution_count": null,
      "outputs": []
    },
    {
      "cell_type": "code",
      "metadata": {
        "colab": {
          "base_uri": "https://localhost:8080/"
        },
        "id": "FKTMly31l4ML",
        "outputId": "b25c4d9d-ec6e-499c-f2d8-bcc666de8aea"
      },
      "source": [
        "#최근접 이웃으로 훈련..\n",
        "from sklearn.neighbors import KNeighborsClassifier\n",
        "\n",
        "knn_clf = KNeighborsClassifier()\n",
        "knn_clf.fit(X_train_mod, y_train_mod)"
      ],
      "execution_count": null,
      "outputs": [
        {
          "output_type": "execute_result",
          "data": {
            "text/plain": [
              "KNeighborsClassifier(algorithm='auto', leaf_size=30, metric='minkowski',\n",
              "                     metric_params=None, n_jobs=None, n_neighbors=5, p=2,\n",
              "                     weights='uniform')"
            ]
          },
          "metadata": {
            "tags": []
          },
          "execution_count": 62
        }
      ]
    },
    {
      "cell_type": "code",
      "metadata": {
        "colab": {
          "base_uri": "https://localhost:8080/",
          "height": 546
        },
        "id": "tn-leAC9yKGl",
        "outputId": "e80aa844-832f-4095-b96a-19dbaad92676"
      },
      "source": [
        "clean_digit = knn_clf.predict([X_test_mod[0]])\n",
        "clean_digit_2 = knn_clf.predict([X_train_mod[0]])\n",
        "\n",
        "#잡음 낀 데이터 출력\n",
        "print(\"잡음 데이터\")\n",
        "plot_digit(X_test_mod[0])\n",
        "\n",
        "#예측결과 출력\n",
        "print(\"예측 결과\")\n",
        "plot_digit(clean_digit)"
      ],
      "execution_count": null,
      "outputs": [
        {
          "output_type": "stream",
          "text": [
            "잡음 데이터\n"
          ],
          "name": "stdout"
        },
        {
          "output_type": "display_data",
          "data": {
            "image/png": "[encoded data removed]",
            "text/plain": [
              "<Figure size 432x288 with 1 Axes>"
            ]
          },
          "metadata": {
            "tags": [],
            "needs_background": "light"
          }
        },
        {
          "output_type": "stream",
          "text": [
            "예측 결과\n"
          ],
          "name": "stdout"
        },
        {
          "output_type": "display_data",
          "data": {
            "image/png": "[encoded data removed]",
            "text/plain": [
              "<Figure size 432x288 with 1 Axes>"
            ]
          },
          "metadata": {
            "tags": [],
            "needs_background": "light"
          }
        }
      ]
    },
    {
      "cell_type": "markdown",
      "metadata": {
        "id": "1EKEuH8M_JM0"
      },
      "source": [
        "# 추가 내용"
      ]
    },
    {
      "cell_type": "markdown",
      "metadata": {
        "id": "sqTDox07_LqR"
      },
      "source": [
        "##더미 (랜덤) 분류기"
      ]
    },
    {
      "cell_type": "markdown",
      "metadata": {
        "id": "i2rPPvYE_X7m"
      },
      "source": [
        "- 멍텅구리 클래스 : 다른 분류기랑 비교할때 사용\n",
        "- strategy의 기본값이 stratified -> prior로 바뀜.."
      ]
    },
    {
      "cell_type": "code",
      "metadata": {
        "id": "rGUkUPqT_USa"
      },
      "source": [
        "from sklearn.dummy import DummyClassifier\n",
        "\n",
        "dmy_clf = DummyClassifier(strategy='prior')\n",
        "y_probas_dmy = cross_val_predict(dmy_clf, X_train, y_train_5, cv=3, method=\"predict_proba\", n_jobs=-1)\n",
        "#양성일 확률만 가져온다..\n",
        "y_scores_dmy = y_probas_dmy[:, 1]"
      ],
      "execution_count": null,
      "outputs": []
    },
    {
      "cell_type": "code",
      "metadata": {
        "colab": {
          "base_uri": "https://localhost:8080/",
          "height": 279
        },
        "id": "3c3AV6ipCk4e",
        "outputId": "08f9f67e-467c-4756-b4cf-d2773c3522f3"
      },
      "source": [
        "fprr, tprr, thresholdsr = roc_curve(y_train_5, y_scores_dmy)\n",
        "plot_roc_curve(fprr, tprr)"
      ],
      "execution_count": null,
      "outputs": [
        {
          "output_type": "display_data",
          "data": {
            "image/png": "[encoded data removed]",
            "text/plain": [
              "<Figure size 432x288 with 1 Axes>"
            ]
          },
          "metadata": {
            "tags": [],
            "needs_background": "light"
          }
        }
      ]
    },
    {
      "cell_type": "markdown",
      "metadata": {
        "id": "RgMOHU7SD7cu"
      },
      "source": [
        "##KNN 분류기"
      ]
    },
    {
      "cell_type": "markdown",
      "metadata": {
        "id": "xLRKLlyBEFDp"
      },
      "source": [
        "- weights='distance'이면 가까운 샘플에 대해서는 가중치를 더 준다.."
      ]
    },
    {
      "cell_type": "code",
      "metadata": {
        "colab": {
          "base_uri": "https://localhost:8080/"
        },
        "id": "yW-suyM_D_eh",
        "outputId": "0c516cbd-f52e-4d8f-e231-df010ed4000b"
      },
      "source": [
        "knn_clf = KNeighborsClassifier(weights=\"distance\", n_neighbors=4)\n",
        "knn_clf.fit(X_train, y_train)"
      ],
      "execution_count": null,
      "outputs": [
        {
          "output_type": "execute_result",
          "data": {
            "text/plain": [
              "KNeighborsClassifier(algorithm='auto', leaf_size=30, metric='minkowski',\n",
              "                     metric_params=None, n_jobs=None, n_neighbors=4, p=2,\n",
              "                     weights='distance')"
            ]
          },
          "metadata": {
            "tags": []
          },
          "execution_count": 66
        }
      ]
    },
    {
      "cell_type": "code",
      "metadata": {
        "id": "HyHUW-2_EQOn"
      },
      "source": [
        "y_knn_pred = knn_clf.predict(X_test)"
      ],
      "execution_count": null,
      "outputs": []
    },
    {
      "cell_type": "code",
      "metadata": {
        "colab": {
          "base_uri": "https://localhost:8080/"
        },
        "id": "6hi3Jf46EU7Q",
        "outputId": "7040e505-f2a3-41ad-bf99-3a472ecf78fc"
      },
      "source": [
        "#정확도 확인..\n",
        "from sklearn.metrics import accuracy_score\n",
        "accuracy_score(y_test, y_knn_pred)"
      ],
      "execution_count": null,
      "outputs": [
        {
          "output_type": "execute_result",
          "data": {
            "text/plain": [
              "0.9714"
            ]
          },
          "metadata": {
            "tags": []
          },
          "execution_count": 68
        }
      ]
    },
    {
      "cell_type": "markdown",
      "metadata": {
        "id": "g87bZbIbEdBQ"
      },
      "source": [
        "###그림을 이동시키는 함수.."
      ]
    },
    {
      "cell_type": "markdown",
      "metadata": {
        "id": "1TXYlL8ZEidO"
      },
      "source": [
        "**scipy.ndimage.interpolation의 shift함수..**\n",
        "\n",
        "- 매개변수를 [dy, dx]를 보내야한다..\n",
        "- mode 매개변수 : 빈부분을 채우는 방법\n",
        "    - constant, nearest, reflect, wrap\n",
        "- 변경된 범위에서 그대로 그림을 그리고, 원래 범위대로 출력한다..\n",
        "    - ex) 가로픽셀 0 ~ 28 -> -5 ~ 23, 출력은 0 ~ 28범위 그대로.. 즉, 왼쪽으로 이동한 결과.."
      ]
    },
    {
      "cell_type": "code",
      "metadata": {
        "id": "ZJqnaF3-Epam"
      },
      "source": [
        "from scipy.ndimage.interpolation import shift\n",
        "\n",
        "def shift_digit(digit_array, dx, dy, new=0):\n",
        "    return shift(digit_array.reshape(28,28), [dy, dx], cval=new,mode=\"constant\").reshape(784)"
      ],
      "execution_count": 18,
      "outputs": []
    },
    {
      "cell_type": "code",
      "metadata": {
        "colab": {
          "base_uri": "https://localhost:8080/",
          "height": 513
        },
        "id": "xEMNpWe-UFDq",
        "outputId": "15dab268-cab6-4860-cb83-b5f02f1ee9ae"
      },
      "source": [
        "plot_digit(first_data)\n",
        "#음양 상관없음.. -> 변경된 범위에서 그대로 숫자를 쓰고, 원래 범위를 출력한다..\n",
        "#가로픽셀 0~28 -> -5~23\n",
        "#가로픽셀 0~28 -> 1~29\n",
        "#세로픽셀 0~28 -> 5~32\n",
        "#근데 출력은 그대로 가로세로 각각 0~28씩 된다..\n",
        "plot_digit(shift_digit(first_data, -5, 0,new = 0))"
      ],
      "execution_count": 10,
      "outputs": [
        {
          "output_type": "display_data",
          "data": {
            "image/png": "[encoded data removed]",
            "text/plain": [
              "<Figure size 432x288 with 1 Axes>"
            ]
          },
          "metadata": {
            "tags": [],
            "needs_background": "light"
          }
        },
        {
          "output_type": "display_data",
          "data": {
            "image/png": "[encoded data removed]",
            "text/plain": [
              "<Figure size 432x288 with 1 Axes>"
            ]
          },
          "metadata": {
            "tags": [],
            "needs_background": "light"
          }
        }
      ]
    },
    {
      "cell_type": "markdown",
      "metadata": {
        "id": "Nt9dJtryqpPx"
      },
      "source": [
        "####**axis, apply_along_axis(), concatenate() 관련 연습..**"
      ]
    },
    {
      "cell_type": "code",
      "metadata": {
        "colab": {
          "base_uri": "https://localhost:8080/"
        },
        "id": "tGyfXU1biGBp",
        "outputId": "13a4ccca-7a3d-4ab1-d227-4cfcf0ea6c1e"
      },
      "source": [
        "p = np.array([[1,2,3],[4,5,6],[7,8,9]])\n",
        "q = np.apply_along_axis(sum, 1, p)\n",
        "print(q)"
      ],
      "execution_count": null,
      "outputs": [
        {
          "output_type": "stream",
          "text": [
            "[ 6 15 24]\n"
          ],
          "name": "stdout"
        }
      ]
    },
    {
      "cell_type": "code",
      "metadata": {
        "colab": {
          "base_uri": "https://localhost:8080/"
        },
        "id": "YcNzOeI2asla",
        "outputId": "390f4474-9725-4186-f737-92711db1ce05"
      },
      "source": [
        "a = np.array([[[0,1,2],[3,4,5],[6,7,8]],[[9,10,11],[12,13,14],[15,16,17]]])\n",
        "print(a)\n",
        "print(a.shape)\n",
        "print()\n",
        "b = np.apply_along_axis(sum, 0, a)\n",
        "print(b)\n",
        "print(b.shape)\n",
        "print()\n",
        "c = np.apply_along_axis(sum, 1, a)\n",
        "print(c)\n",
        "print(c.shape)\n",
        "print()\n",
        "d = np.apply_along_axis(sum, 2, a)\n",
        "print(d)\n",
        "print(d.shape)"
      ],
      "execution_count": null,
      "outputs": [
        {
          "output_type": "stream",
          "text": [
            "[[[ 0  1  2]\n",
            "  [ 3  4  5]\n",
            "  [ 6  7  8]]\n",
            "\n",
            " [[ 9 10 11]\n",
            "  [12 13 14]\n",
            "  [15 16 17]]]\n",
            "(2, 3, 3)\n",
            "\n",
            "[[ 9 11 13]\n",
            " [15 17 19]\n",
            " [21 23 25]]\n",
            "(3, 3)\n",
            "\n",
            "[[ 9 12 15]\n",
            " [36 39 42]]\n",
            "(2, 3)\n",
            "\n",
            "[[ 3 12 21]\n",
            " [30 39 48]]\n",
            "(2, 3)\n"
          ],
          "name": "stdout"
        }
      ]
    },
    {
      "cell_type": "code",
      "metadata": {
        "colab": {
          "base_uri": "https://localhost:8080/"
        },
        "id": "ruN_S7Ijm4z1",
        "outputId": "183d67a1-b99a-4420-d293-1a74836bdd52"
      },
      "source": [
        "s = np.array([[1,2,3], [4,5,6]])\n",
        "q = np.array([[7,8,9],[10,11,12]])\n",
        "print(np.concatenate((s,q), axis=0))\n",
        "print(np.concatenate((s,q), axis=1))"
      ],
      "execution_count": null,
      "outputs": [
        {
          "output_type": "stream",
          "text": [
            "[[ 1  2  3]\n",
            " [ 4  5  6]\n",
            " [ 7  8  9]\n",
            " [10 11 12]]\n",
            "[[ 1  2  3  7  8  9]\n",
            " [ 4  5  6 10 11 12]]\n"
          ],
          "name": "stdout"
        }
      ]
    },
    {
      "cell_type": "code",
      "metadata": {
        "colab": {
          "base_uri": "https://localhost:8080/"
        },
        "id": "KfdgxSUGiqSo",
        "outputId": "0b4223f9-e4b8-450a-b5ee-7db1f400fb14"
      },
      "source": [
        "X_train_expanded = [X_train]\n",
        "y_train_expanded = [y_train]\n",
        "\n",
        "for dx, dy in ((1,0),(-1,0),(0,1),(0,-1)):\n",
        "    shifted_images = np.apply_along_axis(shift_digit, 1, X_train, dx,dy)\n",
        "    X_train_expanded.append(shifted_images)\n",
        "    y_train_expanded.append(y_train)\n",
        "    print(np.array(X_train_expanded).shape)"
      ],
      "execution_count": 19,
      "outputs": [
        {
          "output_type": "stream",
          "text": [
            "(2, 60000, 784)\n",
            "(3, 60000, 784)\n",
            "(4, 60000, 784)\n",
            "(5, 60000, 784)\n"
          ],
          "name": "stdout"
        }
      ]
    },
    {
      "cell_type": "code",
      "metadata": {
        "colab": {
          "base_uri": "https://localhost:8080/"
        },
        "id": "rAr4vULtjUoC",
        "outputId": "ccaf1874-f6fa-474b-a040-f79430426e6f"
      },
      "source": [
        "#axis=0 기본값으로 갖다 붙혔다..\n",
        "\n",
        "X_train_expanded = np.concatenate(X_train_expanded)\n",
        "y_train_expanded = np.concatenate(y_train_expanded)\n",
        "X_train_expanded.shape, y_train_expanded.shape"
      ],
      "execution_count": 20,
      "outputs": [
        {
          "output_type": "execute_result",
          "data": {
            "text/plain": [
              "((300000, 784), (300000,))"
            ]
          },
          "metadata": {
            "tags": []
          },
          "execution_count": 20
        }
      ]
    },
    {
      "cell_type": "markdown",
      "metadata": {
        "id": "w3jBwfXOpzZT"
      },
      "source": [
        "###**모델로 다시 예측해보자..**"
      ]
    },
    {
      "cell_type": "code",
      "metadata": {
        "colab": {
          "base_uri": "https://localhost:8080/"
        },
        "id": "02dEGg09pywW",
        "outputId": "6f73ff89-5d9d-4afd-8f85-7a6d504f975b"
      },
      "source": [
        "#많아진 훈련세트..\n",
        "from sklearn.neighbors import KNeighborsClassifier\n",
        "\n",
        "knn_clf = KNeighborsClassifier()\n",
        "knn_clf.fit(X_train_expanded, y_train_expanded)"
      ],
      "execution_count": 13,
      "outputs": [
        {
          "output_type": "execute_result",
          "data": {
            "text/plain": [
              "KNeighborsClassifier(algorithm='auto', leaf_size=30, metric='minkowski',\n",
              "                     metric_params=None, n_jobs=None, n_neighbors=5, p=2,\n",
              "                     weights='uniform')"
            ]
          },
          "metadata": {
            "tags": []
          },
          "execution_count": 13
        }
      ]
    },
    {
      "cell_type": "code",
      "metadata": {
        "id": "ehs09Fz0p8hc"
      },
      "source": [
        "#이거도 엄청 오래걸린다..\n",
        "\n",
        "y_knn_expanded_pred = knn_clf.predict(X_test)"
      ],
      "execution_count": 14,
      "outputs": []
    },
    {
      "cell_type": "code",
      "metadata": {
        "id": "13B8jo--qCTN",
        "colab": {
          "base_uri": "https://localhost:8080/"
        },
        "outputId": "619edb3e-ad1f-4f25-d140-1790245cd6a0"
      },
      "source": [
        "from sklearn.metrics import accuracy_score\n",
        "accuracy_score(y_test, y_knn_expanded_pred)"
      ],
      "execution_count": 16,
      "outputs": [
        {
          "output_type": "execute_result",
          "data": {
            "text/plain": [
              "0.9754"
            ]
          },
          "metadata": {
            "tags": []
          },
          "execution_count": 16
        }
      ]
    },
    {
      "cell_type": "markdown",
      "metadata": {
        "id": "0fxa3KxyqG6B"
      },
      "source": [
        "애매한 샘플도 함 해보자.."
      ]
    },
    {
      "cell_type": "code",
      "metadata": {
        "id": "OegZ7Oe2qKri",
        "colab": {
          "base_uri": "https://localhost:8080/",
          "height": 265
        },
        "outputId": "0642bc67-5de8-44fc-eaa9-f2cf87c5948b"
      },
      "source": [
        "ambiguous_digit = X_test[2589]\n",
        "plot_digit(ambiguous_digit)"
      ],
      "execution_count": 17,
      "outputs": [
        {
          "output_type": "display_data",
          "data": {
            "image/png": "[encoded data removed]",
            "text/plain": [
              "<Figure size 432x288 with 1 Axes>"
            ]
          },
          "metadata": {
            "tags": [],
            "needs_background": "light"
          }
        }
      ]
    },
    {
      "cell_type": "code",
      "metadata": {
        "id": "oCmRx886qYnA",
        "colab": {
          "base_uri": "https://localhost:8080/"
        },
        "outputId": "642e5b5a-1481-453e-af1d-082e42a917e3"
      },
      "source": [
        "print(knn_clf.predict([ambiguous_digit]))\n",
        "print(y_test[2589])"
      ],
      "execution_count": 18,
      "outputs": [
        {
          "output_type": "stream",
          "text": [
            "[9]\n",
            "9\n"
          ],
          "name": "stdout"
        }
      ]
    },
    {
      "cell_type": "markdown",
      "metadata": {
        "id": "lHEqN37aiUWa"
      },
      "source": [
        "#3.8 연습문제"
      ]
    },
    {
      "cell_type": "markdown",
      "metadata": {
        "id": "UAp7V20NiW44"
      },
      "source": [
        "##1번"
      ]
    },
    {
      "cell_type": "markdown",
      "metadata": {
        "id": "G0xfdUr_uLZu"
      },
      "source": [
        "MNIST 데이터셋으로 분류기를 만들어 테스트 세트에서 97%의 정확도를 달성해보세요.\n",
        "\n",
        "- 힌트 : KNeighborsClassifier가 좋은 모델이고, 좋은 파라미터값만 찾으면 된다..\n",
        "- 그리드 탐색을 해봐라"
      ]
    },
    {
      "cell_type": "code",
      "metadata": {
        "id": "900q7eALubS_",
        "colab": {
          "base_uri": "https://localhost:8080/"
        },
        "outputId": "fc7b6a47-4988-4625-e793-b947d104e5ed"
      },
      "source": [
        "#너무 오래걸리는데..\n",
        "from sklearn.neighbors import KNeighborsClassifier\n",
        "from sklearn.model_selection import GridSearchCV\n",
        "\n",
        "knn_clf_practice = KNeighborsClassifier()\n",
        "\n",
        "params = [\n",
        "        {'weights' : [\"uniform\", \"distance\"]},\n",
        "        {'n_neighbors' : [3,4,5]}\n",
        "]\n",
        "gs_Classifier = GridSearchCV(knn_clf_practice, params, cv=3, n_jobs=-1)\n",
        "gs_Classifier.fit(X_train, y_train)"
      ],
      "execution_count": 10,
      "outputs": [
        {
          "output_type": "execute_result",
          "data": {
            "text/plain": [
              "GridSearchCV(cv=3, error_score=nan,\n",
              "             estimator=KNeighborsClassifier(algorithm='auto', leaf_size=30,\n",
              "                                            metric='minkowski',\n",
              "                                            metric_params=None, n_jobs=None,\n",
              "                                            n_neighbors=5, p=2,\n",
              "                                            weights='uniform'),\n",
              "             iid='deprecated', n_jobs=-1,\n",
              "             param_grid=[{'weights': ['uniform', 'distance']},\n",
              "                         {'n_neighbors': [3, 4, 5]}],\n",
              "             pre_dispatch='2*n_jobs', refit=True, return_train_score=False,\n",
              "             scoring=None, verbose=0)"
            ]
          },
          "metadata": {
            "tags": []
          },
          "execution_count": 10
        }
      ]
    },
    {
      "cell_type": "code",
      "metadata": {
        "id": "PU-cObo-wUVD",
        "colab": {
          "base_uri": "https://localhost:8080/"
        },
        "outputId": "d4b2c3fc-d979-4dfd-9fb3-8160bc404af2"
      },
      "source": [
        "gs_Classifier.best_params_"
      ],
      "execution_count": 11,
      "outputs": [
        {
          "output_type": "execute_result",
          "data": {
            "text/plain": [
              "{'weights': 'distance'}"
            ]
          },
          "metadata": {
            "tags": []
          },
          "execution_count": 11
        }
      ]
    },
    {
      "cell_type": "code",
      "metadata": {
        "id": "p6KYD1pCwYcn",
        "colab": {
          "base_uri": "https://localhost:8080/"
        },
        "outputId": "ef6f664d-8c45-42ef-d4ed-ebc807be6560"
      },
      "source": [
        "gs_Classifier.best_score_"
      ],
      "execution_count": 12,
      "outputs": [
        {
          "output_type": "execute_result",
          "data": {
            "text/plain": [
              "0.9686"
            ]
          },
          "metadata": {
            "tags": []
          },
          "execution_count": 12
        }
      ]
    },
    {
      "cell_type": "code",
      "metadata": {
        "id": "vrUtgH3XwcfF",
        "colab": {
          "base_uri": "https://localhost:8080/"
        },
        "outputId": "2b0a1937-df07-420e-e09d-f66ce6cf9d5a"
      },
      "source": [
        "#테스트세트 정확도 체크\n",
        "from sklearn.metrics import accuracy_score\n",
        "\n",
        "y_test_pred_practice = gs_Classifier.predict(X_test)\n",
        "accuracy_score(y_test, y_test_pred_practice)"
      ],
      "execution_count": 14,
      "outputs": [
        {
          "output_type": "execute_result",
          "data": {
            "text/plain": [
              "0.9691"
            ]
          },
          "metadata": {
            "tags": []
          },
          "execution_count": 14
        }
      ]
    },
    {
      "cell_type": "markdown",
      "metadata": {
        "id": "fCcz-K18iYKM"
      },
      "source": [
        "##2번"
      ]
    },
    {
      "cell_type": "markdown",
      "metadata": {
        "id": "aMCjb8xJzfwn"
      },
      "source": [
        "**데이터 증식**\n",
        "\n",
        ": 인위적으로 훈련 세트를 늘리는 기법"
      ]
    },
    {
      "cell_type": "markdown",
      "metadata": {
        "id": "GOcTZQQ3zDYk"
      },
      "source": [
        "- MNIST 이미지를 (왼, 오른, 위, 아래) 어느 방향으로든 한 픽셀 이동시킬 수 있는 함수를 만들어라\n",
        "\n",
        "- 훈련세트의 각 이미지에 대해 네 개의 이동된 복사본을 만들어서 훈련 세트에 추가해라\n",
        "\n",
        "- 확장된 훈련세트에 대해서 앞의 최선의 모델을 훈련시키고 테스트 세트에서 정확도를 측정해라"
      ]
    },
    {
      "cell_type": "code",
      "metadata": {
        "id": "PX8a5jRpzl5A",
        "colab": {
          "base_uri": "https://localhost:8080/"
        },
        "outputId": "c473c0b9-0397-4f02-bb61-e824968de0f1"
      },
      "source": [
        "#위의 결과로 X_train_expanded, y_train_expanded에 저장되어있음..\n",
        "#최고의 파라미터를 전달해서 새로운 분류기를 만들고\n",
        "#증식된 데이터로 훈련시킴..\n",
        "\n",
        "knn_best = KNeighborsClassifier(**gs_Classifier.best_params_)\n",
        "knn_best.fit(X_train_expanded, y_train_expanded)"
      ],
      "execution_count": 21,
      "outputs": [
        {
          "output_type": "execute_result",
          "data": {
            "text/plain": [
              "KNeighborsClassifier(algorithm='auto', leaf_size=30, metric='minkowski',\n",
              "                     metric_params=None, n_jobs=None, n_neighbors=5, p=2,\n",
              "                     weights='distance')"
            ]
          },
          "metadata": {
            "tags": []
          },
          "execution_count": 21
        }
      ]
    },
    {
      "cell_type": "code",
      "metadata": {
        "id": "i-Bk4BOrnx2C"
      },
      "source": [
        "#테스트세트 정확도 예측..\n",
        "\n",
        "y_knn_expanded_pred = knn_best.predict(X_test)\n",
        "accuracy_score(y_test, y_knn_expanded_pred)"
      ],
      "execution_count": null,
      "outputs": []
    },
    {
      "cell_type": "markdown",
      "metadata": {
        "id": "lzZtHDnUiajH"
      },
      "source": [
        "##3번"
      ]
    },
    {
      "cell_type": "markdown",
      "metadata": {
        "id": "DNwZ_Vr1iaWC"
      },
      "source": [
        "##4번"
      ]
    }
  ]
}